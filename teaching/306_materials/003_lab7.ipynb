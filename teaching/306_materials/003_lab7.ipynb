{
  "nbformat": 4,
  "nbformat_minor": 0,
  "metadata": {
    "kernelspec": {
      "display_name": "R",
      "language": "R",
      "name": "ir"
    },
    "language_info": {
      "codemirror_mode": "r",
      "file_extension": ".r",
      "mimetype": "text/x-r-source",
      "name": "R",
      "pygments_lexer": "r",
      "version": "3.6.1"
    },
    "colab": {
      "name": "003_lab7.ipynb",
      "provenance": [],
      "collapsed_sections": [
        "13SPE2mRYah8",
        "VtpL3od3YaiF",
        "OOuRyQVPJGMJ",
        "XYDP1rHQYaiM",
        "B-nk6GkAYaiM",
        "7FsPrIhLYaiN",
        "_2QWaupuYaiN"
      ],
      "include_colab_link": true
    }
  },
  "cells": [
    {
      "cell_type": "markdown",
      "metadata": {
        "id": "view-in-github",
        "colab_type": "text"
      },
      "source": [
        "<a href=\"https://colab.research.google.com/github/chathasphere/chathasphere.github.io/blob/main/teaching/306_materials/003_lab7.ipynb\" target=\"_parent\"><img src=\"https://colab.research.google.com/assets/colab-badge.svg\" alt=\"Open In Colab\"/></a>"
      ]
    },
    {
      "cell_type": "markdown",
      "metadata": {
        "id": "13SPE2mRYah8"
      },
      "source": [
        "# Lab 7: Missing Values and Cleaning Messy Data\n",
        "\n",
        "## March 15th, 2022"
      ]
    },
    {
      "cell_type": "code",
      "metadata": {
        "id": "W8kJxf2uYaiC"
      },
      "source": [
        "library(tidyverse)"
      ],
      "execution_count": null,
      "outputs": []
    },
    {
      "cell_type": "code",
      "metadata": {
        "scrolled": true,
        "id": "G9pIZYBuYaiE"
      },
      "source": [
        "(stocks <- tibble(\n",
        "  Year   = c(2015, 2015, 2015, 2015, 2016, 2016, 2016),\n",
        "  Qtr    = c(   1,    2,    3,    4,    2,    3,    4),\n",
        "  Return = c(1.88, 0.59, 0.35,   NA, 0.92, 0.17, 2.66)\n",
        "))"
      ],
      "execution_count": null,
      "outputs": []
    },
    {
      "cell_type": "markdown",
      "metadata": {
        "id": "VtpL3od3YaiF"
      },
      "source": [
        "# 1. Missing Values\n",
        "Missing values can be:\n",
        "1. *Explicit* (marked as NA in our data)\n",
        "1. *Implicit* (not present in the data)\n",
        "\n",
        "In this example we have one explicitly missing value for the 4th quarter of 2015. \n",
        "\n",
        "Are there any other missing values? Yes: we do not have an observation for the first quarter of 2016."
      ]
    },
    {
      "cell_type": "markdown",
      "source": [
        "## Handling Missing Data"
      ],
      "metadata": {
        "id": "OOuRyQVPJGMJ"
      }
    },
    {
      "cell_type": "markdown",
      "metadata": {
        "id": "nj7jel7YYaiF"
      },
      "source": [
        "`complete`: Turns implicit missing values into explicit missing values.\n",
        "\n",
        "Specify a list of columns (column separated) to generate every possible combination. Missing combinations will initialize columns with NA."
      ]
    },
    {
      "cell_type": "code",
      "metadata": {
        "id": "q8_qR13zYaiF"
      },
      "source": [
        "stocks %>% complete(Year, Qtr)"
      ],
      "execution_count": null,
      "outputs": []
    },
    {
      "cell_type": "markdown",
      "metadata": {
        "id": "MmOaRyr9YaiG"
      },
      "source": [
        "`fill`: Fills missing values in selected columns. Defaults to using the previous entry."
      ]
    },
    {
      "cell_type": "code",
      "metadata": {
        "scrolled": true,
        "id": "AjEk-mMHYaiG"
      },
      "source": [
        "stocks %>% complete(Year, Qtr) %>% fill(Return)"
      ],
      "execution_count": null,
      "outputs": []
    },
    {
      "cell_type": "code",
      "source": [
        "stocks %>% complete(Year, Qtr) %>% fill(Return, .direction=\"up\")"
      ],
      "metadata": {
        "id": "mnKu3s-HJtob"
      },
      "execution_count": null,
      "outputs": []
    },
    {
      "cell_type": "markdown",
      "metadata": {
        "id": "sw2tosHGYaiH"
      },
      "source": [
        "The missing values also become explicit if we widen the tibble."
      ]
    },
    {
      "cell_type": "code",
      "metadata": {
        "id": "r7GD_32-YaiH"
      },
      "source": [
        "stocks_wide = stocks %>% pivot_wider(names_from = Year, values_from = Return)\n",
        "\n",
        "stocks_wide"
      ],
      "execution_count": null,
      "outputs": []
    },
    {
      "cell_type": "markdown",
      "metadata": {
        "id": "tKDtap61YaiH"
      },
      "source": [
        "`pivot_longer` will keep all these explicitly missing values by default."
      ]
    },
    {
      "cell_type": "code",
      "metadata": {
        "id": "Hj67tcBXYaiI"
      },
      "source": [
        "stocks_wide %>% pivot_longer(cols = `2015`:`2016`, names_to = 'Year') %>%\n",
        "arrange(Year)"
      ],
      "execution_count": null,
      "outputs": []
    },
    {
      "cell_type": "markdown",
      "metadata": {
        "id": "r9arG3BVYaiI"
      },
      "source": [
        "# 2. Cleaning messy data"
      ]
    },
    {
      "cell_type": "code",
      "metadata": {
        "id": "eaDaVF5VYaiI"
      },
      "source": [
        "datacamp_url = \"https://assets.datacamp.com/production/repositories/34/datasets/b3c1036d9a60a9dfe0f99051d2474a54f76055ea/weather.rds\"\n",
        "weather = readRDS(url(datacamp_url))"
      ],
      "execution_count": null,
      "outputs": []
    },
    {
      "cell_type": "code",
      "metadata": {
        "id": "vOgAOw1sYaiI"
      },
      "source": [
        "weather %>% glimpse"
      ],
      "execution_count": null,
      "outputs": []
    },
    {
      "cell_type": "code",
      "metadata": {
        "scrolled": true,
        "id": "P5jWTJn5YaiJ"
      },
      "source": [
        "weather %>% head"
      ],
      "execution_count": null,
      "outputs": []
    },
    {
      "cell_type": "markdown",
      "metadata": {
        "id": "c4y48JEUYaiJ"
      },
      "source": [
        "The first column lists row number, so let's ignore it."
      ]
    },
    {
      "cell_type": "code",
      "metadata": {
        "id": "QgaGu4YuYaiJ"
      },
      "source": [
        "weather = weather %>% select(-X)"
      ],
      "execution_count": null,
      "outputs": []
    },
    {
      "cell_type": "markdown",
      "metadata": {
        "id": "H_RDtl2BYaiK"
      },
      "source": [
        "It looks like the values for the weather measurements (column 3) for each day of the month are stored in the columns `X1` to `X31`. From a **tidy data** perspective, the data set is messy because:\n",
        "* Values are given as column names (`X1` to `X31`)\n",
        "* variable names are represented as values (column 3 - `measure`)\n",
        "\n",
        "We can correct it by using `pivot_longer`."
      ]
    },
    {
      "cell_type": "code",
      "metadata": {
        "id": "bMClv-CmYaiK"
      },
      "source": [
        "tidy_weather = weather %>% \n",
        "  pivot_longer(cols = `X1`:`X31`, names_to = 'day', values_to = \"value\") %>%\n",
        "  select(year, month, day, everything())\n",
        "\n",
        "head(tidy_weather)"
      ],
      "execution_count": null,
      "outputs": []
    },
    {
      "cell_type": "markdown",
      "metadata": {
        "id": "cjdc2vhgYaiK"
      },
      "source": [
        "The values in the column `measure` of the weather dataset should be variables."
      ]
    },
    {
      "cell_type": "code",
      "metadata": {
        "id": "zDqrNOPIYaiK"
      },
      "source": [
        "tidy_weather = tidy_weather %>% \n",
        "  pivot_wider(names_from = measure, values_from = value)\n",
        "\n",
        "head(tidy_weather)"
      ],
      "execution_count": null,
      "outputs": []
    },
    {
      "cell_type": "code",
      "metadata": {
        "id": "QPj3peGWYaiL"
      },
      "source": [
        "tidy_weather %>% glimpse"
      ],
      "execution_count": null,
      "outputs": []
    },
    {
      "cell_type": "markdown",
      "metadata": {
        "id": "5FE4EUgxYaiL"
      },
      "source": [
        "A few things about this data set are still odd. For one, the names of days start with an `X`. We can fix this with the `str_replace` function. We saw this a few labs back, but let's review!"
      ]
    },
    {
      "cell_type": "code",
      "metadata": {
        "scrolled": false,
        "id": "zVG1C20rYaiL"
      },
      "source": [
        "\n",
        "# str_replace replaces only the first instance of a substring (2nd arg)\n",
        "str_replace(\"tattoo\", \"t\", \"l\")\n",
        "\n",
        "str_replace(\"tattoo\", \"tatt\", \"yah\")\n",
        "\n",
        "# use replace all to replace multiple occurrences\n",
        "str_replace_all(\"tattoo\", \"t\", \"b\")\n",
        "\n",
        "# Replace $ with nothing, so it removes the dollar sign\n",
        "# we are applying this function to a vector!\n",
        "# notice the use of \\\\...\n",
        "# this is because $ is a reserved regex character\n",
        "cost = c(\"$8\", \"12.5$\", \"$45\")\n",
        "cost = str_replace_all(cost, \"\\\\$\", \"\")\n",
        "print(cost) \n",
        "\n",
        "#change its type to numeric\n",
        "cost = as.numeric(cost)\n",
        "print(cost)"
      ],
      "execution_count": null,
      "outputs": []
    },
    {
      "cell_type": "markdown",
      "metadata": {
        "id": "XYDP1rHQYaiM"
      },
      "source": [
        "#### Exercise 1: Remove `X` from the `day` entries and change its type to `numeric`"
      ]
    },
    {
      "cell_type": "code",
      "metadata": {
        "scrolled": true,
        "id": "aXX9p46HYaiM"
      },
      "source": [
        "#as.integer"
      ],
      "execution_count": null,
      "outputs": []
    },
    {
      "cell_type": "markdown",
      "metadata": {
        "id": "B-nk6GkAYaiM"
      },
      "source": [
        "#### Exercise 2: Combine the year, month, and day columns into a new column called date.\n",
        "\n",
        "*Hint: Use the `unite` function.*"
      ]
    },
    {
      "cell_type": "code",
      "metadata": {
        "id": "bVaIoSquYaiM"
      },
      "source": [
        ""
      ],
      "execution_count": null,
      "outputs": []
    },
    {
      "cell_type": "markdown",
      "metadata": {
        "id": "7FsPrIhLYaiN"
      },
      "source": [
        "#### Exercise 3: Move events variable to the second column (Just after the `date`)"
      ]
    },
    {
      "cell_type": "code",
      "metadata": {
        "id": "Zq7QEI3hYaiN"
      },
      "source": [
        ""
      ],
      "execution_count": null,
      "outputs": []
    },
    {
      "cell_type": "markdown",
      "metadata": {
        "id": "_2QWaupuYaiN"
      },
      "source": [
        "#### Exercise 4: `PrecipitationIn` has “T”s for \"Trace.\" “Traces” are defined as precipitation of less than 0.005 inch. So, in this case, we need to map “T”s to 0."
      ]
    },
    {
      "cell_type": "code",
      "metadata": {
        "scrolled": true,
        "id": "BPcty6s2YaiN"
      },
      "source": [
        ""
      ],
      "execution_count": null,
      "outputs": []
    },
    {
      "cell_type": "markdown",
      "metadata": {
        "id": "sePgZ4UQYaiO"
      },
      "source": [
        "### Fun exercise: What is happening cell in below?"
      ]
    },
    {
      "cell_type": "code",
      "metadata": {
        "id": "Xo_RX1U9YaiO"
      },
      "source": [
        "l = list(as.numeric, sqrt, `+`, c('1','9'))\n",
        "\n",
        "l[[2]](l[[3]](l[[1]](l[[4]])[1], l[[1]](l[[4]])[2]))"
      ],
      "execution_count": null,
      "outputs": []
    },
    {
      "cell_type": "markdown",
      "metadata": {
        "id": "Qv3Fgr5gYaiP"
      },
      "source": [
        "#### Exercise 5: What are the unique events in the dataset?"
      ]
    },
    {
      "cell_type": "code",
      "metadata": {
        "scrolled": true,
        "id": "sQ4Lj3G8YaiP"
      },
      "source": [
        ""
      ],
      "execution_count": null,
      "outputs": []
    },
    {
      "cell_type": "markdown",
      "metadata": {
        "id": "oQNeql58YaiQ"
      },
      "source": [
        "#### Exercise 6: An empty entry means that there is no weather event. Change empties to `Clear`."
      ]
    },
    {
      "cell_type": "code",
      "metadata": {
        "id": "8Rlw7E8NYaiR"
      },
      "source": [
        ""
      ],
      "execution_count": null,
      "outputs": []
    },
    {
      "cell_type": "markdown",
      "metadata": {
        "id": "GFQXK0SuYaiR"
      },
      "source": [
        "Reference: [Cleaning Messy Weather Dataset with tidyverse](https://www.rpubs.com/justinhtet/cleaning-messy-weather-dataset-with-tidyverse)"
      ]
    }
  ]
}