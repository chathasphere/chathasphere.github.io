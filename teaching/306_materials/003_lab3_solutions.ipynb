{
  "nbformat": 4,
  "nbformat_minor": 0,
  "metadata": {
    "colab": {
      "name": "003_lab3_solutions.ipynb",
      "provenance": [],
      "toc_visible": true,
      "authorship_tag": "ABX9TyPSPr2iubhC6UAOaUnZbMK/",
      "include_colab_link": true
    },
    "kernelspec": {
      "name": "ir",
      "display_name": "R"
    },
    "language_info": {
      "name": "R"
    }
  },
  "cells": [
    {
      "cell_type": "markdown",
      "metadata": {
        "id": "view-in-github",
        "colab_type": "text"
      },
      "source": [
        "<a href=\"https://colab.research.google.com/github/chathasphere/chathasphere.github.io/blob/main/teaching/306_materials/003_lab3_solutions.ipynb\" target=\"_parent\"><img src=\"https://colab.research.google.com/assets/colab-badge.svg\" alt=\"Open In Colab\"/></a>"
      ]
    },
    {
      "cell_type": "markdown",
      "source": [
        "# Lab 3: Data Wrangling in dplyr\n",
        "\n",
        "## January 24th, 2022"
      ],
      "metadata": {
        "id": "QSn7_E461K2h"
      }
    },
    {
      "cell_type": "code",
      "source": [
        "library(tidyverse)\n",
        "\n",
        "install.packages(\"gapminder\") # this is how you import a non-default package \n",
        "library(gapminder) # this package contains the data set we'll be using"
      ],
      "metadata": {
        "id": "1wnwvvws1MRb",
        "colab": {
          "base_uri": "https://localhost:8080/"
        },
        "outputId": "cd1a5473-e3f8-4978-81eb-4f25c35af14f"
      },
      "execution_count": 1,
      "outputs": [
        {
          "output_type": "stream",
          "name": "stderr",
          "text": [
            "Warning message in system(\"timedatectl\", intern = TRUE):\n",
            "“running command 'timedatectl' had status 1”\n",
            "── \u001b[1mAttaching packages\u001b[22m ─────────────────────────────────────── tidyverse 1.3.1 ──\n",
            "\n",
            "\u001b[32m✔\u001b[39m \u001b[34mggplot2\u001b[39m 3.3.5     \u001b[32m✔\u001b[39m \u001b[34mpurrr  \u001b[39m 0.3.4\n",
            "\u001b[32m✔\u001b[39m \u001b[34mtibble \u001b[39m 3.1.6     \u001b[32m✔\u001b[39m \u001b[34mdplyr  \u001b[39m 1.0.7\n",
            "\u001b[32m✔\u001b[39m \u001b[34mtidyr  \u001b[39m 1.1.4     \u001b[32m✔\u001b[39m \u001b[34mstringr\u001b[39m 1.4.0\n",
            "\u001b[32m✔\u001b[39m \u001b[34mreadr  \u001b[39m 2.1.1     \u001b[32m✔\u001b[39m \u001b[34mforcats\u001b[39m 0.5.1\n",
            "\n",
            "── \u001b[1mConflicts\u001b[22m ────────────────────────────────────────── tidyverse_conflicts() ──\n",
            "\u001b[31m✖\u001b[39m \u001b[34mdplyr\u001b[39m::\u001b[32mfilter()\u001b[39m masks \u001b[34mstats\u001b[39m::filter()\n",
            "\u001b[31m✖\u001b[39m \u001b[34mdplyr\u001b[39m::\u001b[32mlag()\u001b[39m    masks \u001b[34mstats\u001b[39m::lag()\n",
            "\n",
            "Installing package into ‘/usr/local/lib/R/site-library’\n",
            "(as ‘lib’ is unspecified)\n",
            "\n"
          ]
        }
      ]
    },
    {
      "cell_type": "markdown",
      "source": [
        "# 1. Review \n",
        "### `filter`, `arrange` and piping syntax\n",
        "\n",
        "Recall that `dplyr` has five fundamental functions for manipulating and cleaning (\"wrangling\") data: `filter`, `arrange`, `select`, `mutate` and `summarise`."
      ],
      "metadata": {
        "id": "pThCHosg1zZ2"
      }
    },
    {
      "cell_type": "markdown",
      "source": [
        "## 1.1 Piping"
      ],
      "metadata": {
        "id": "WIUsIzHH3AL8"
      }
    },
    {
      "cell_type": "markdown",
      "source": [
        "Recall that the pipe operator `%>%` allows you to apply one or more functions to a tibble. Sample syntax:\n",
        "\n",
        "`myTibble %>% someFunction(secondArg, thirdArg, ...)`\n",
        "\n",
        "is equivalent to \n",
        "\n",
        "`someFunction(myTibble, secondArg, thirdArg, ...)`."
      ],
      "metadata": {
        "id": "KnJDX-e12EB5"
      }
    },
    {
      "cell_type": "code",
      "source": [
        "# head(gapminder, 10)\n",
        "\n",
        "gapminder %>% head(10) # get the first 10 rows of the gapminder data set"
      ],
      "metadata": {
        "id": "EdlpbFEm1yQt",
        "colab": {
          "base_uri": "https://localhost:8080/",
          "height": 412
        },
        "outputId": "da931f95-ae96-442f-ca1f-b527d8999065"
      },
      "execution_count": 2,
      "outputs": [
        {
          "output_type": "display_data",
          "data": {
            "text/plain": [
              "   country     continent year lifeExp pop      gdpPercap\n",
              "1  Afghanistan Asia      1952 28.801   8425333 779.4453 \n",
              "2  Afghanistan Asia      1957 30.332   9240934 820.8530 \n",
              "3  Afghanistan Asia      1962 31.997  10267083 853.1007 \n",
              "4  Afghanistan Asia      1967 34.020  11537966 836.1971 \n",
              "5  Afghanistan Asia      1972 36.088  13079460 739.9811 \n",
              "6  Afghanistan Asia      1977 38.438  14880372 786.1134 \n",
              "7  Afghanistan Asia      1982 39.854  12881816 978.0114 \n",
              "8  Afghanistan Asia      1987 40.822  13867957 852.3959 \n",
              "9  Afghanistan Asia      1992 41.674  16317921 649.3414 \n",
              "10 Afghanistan Asia      1997 41.763  22227415 635.3414 "
            ],
            "text/latex": "A tibble: 10 × 6\n\\begin{tabular}{llllll}\n country & continent & year & lifeExp & pop & gdpPercap\\\\\n <fct> & <fct> & <int> & <dbl> & <int> & <dbl>\\\\\n\\hline\n\t Afghanistan & Asia & 1952 & 28.801 &  8425333 & 779.4453\\\\\n\t Afghanistan & Asia & 1957 & 30.332 &  9240934 & 820.8530\\\\\n\t Afghanistan & Asia & 1962 & 31.997 & 10267083 & 853.1007\\\\\n\t Afghanistan & Asia & 1967 & 34.020 & 11537966 & 836.1971\\\\\n\t Afghanistan & Asia & 1972 & 36.088 & 13079460 & 739.9811\\\\\n\t Afghanistan & Asia & 1977 & 38.438 & 14880372 & 786.1134\\\\\n\t Afghanistan & Asia & 1982 & 39.854 & 12881816 & 978.0114\\\\\n\t Afghanistan & Asia & 1987 & 40.822 & 13867957 & 852.3959\\\\\n\t Afghanistan & Asia & 1992 & 41.674 & 16317921 & 649.3414\\\\\n\t Afghanistan & Asia & 1997 & 41.763 & 22227415 & 635.3414\\\\\n\\end{tabular}\n",
            "text/markdown": "\nA tibble: 10 × 6\n\n| country &lt;fct&gt; | continent &lt;fct&gt; | year &lt;int&gt; | lifeExp &lt;dbl&gt; | pop &lt;int&gt; | gdpPercap &lt;dbl&gt; |\n|---|---|---|---|---|---|\n| Afghanistan | Asia | 1952 | 28.801 |  8425333 | 779.4453 |\n| Afghanistan | Asia | 1957 | 30.332 |  9240934 | 820.8530 |\n| Afghanistan | Asia | 1962 | 31.997 | 10267083 | 853.1007 |\n| Afghanistan | Asia | 1967 | 34.020 | 11537966 | 836.1971 |\n| Afghanistan | Asia | 1972 | 36.088 | 13079460 | 739.9811 |\n| Afghanistan | Asia | 1977 | 38.438 | 14880372 | 786.1134 |\n| Afghanistan | Asia | 1982 | 39.854 | 12881816 | 978.0114 |\n| Afghanistan | Asia | 1987 | 40.822 | 13867957 | 852.3959 |\n| Afghanistan | Asia | 1992 | 41.674 | 16317921 | 649.3414 |\n| Afghanistan | Asia | 1997 | 41.763 | 22227415 | 635.3414 |\n\n",
            "text/html": [
              "<table class=\"dataframe\">\n",
              "<caption>A tibble: 10 × 6</caption>\n",
              "<thead>\n",
              "\t<tr><th scope=col>country</th><th scope=col>continent</th><th scope=col>year</th><th scope=col>lifeExp</th><th scope=col>pop</th><th scope=col>gdpPercap</th></tr>\n",
              "\t<tr><th scope=col>&lt;fct&gt;</th><th scope=col>&lt;fct&gt;</th><th scope=col>&lt;int&gt;</th><th scope=col>&lt;dbl&gt;</th><th scope=col>&lt;int&gt;</th><th scope=col>&lt;dbl&gt;</th></tr>\n",
              "</thead>\n",
              "<tbody>\n",
              "\t<tr><td>Afghanistan</td><td>Asia</td><td>1952</td><td>28.801</td><td> 8425333</td><td>779.4453</td></tr>\n",
              "\t<tr><td>Afghanistan</td><td>Asia</td><td>1957</td><td>30.332</td><td> 9240934</td><td>820.8530</td></tr>\n",
              "\t<tr><td>Afghanistan</td><td>Asia</td><td>1962</td><td>31.997</td><td>10267083</td><td>853.1007</td></tr>\n",
              "\t<tr><td>Afghanistan</td><td>Asia</td><td>1967</td><td>34.020</td><td>11537966</td><td>836.1971</td></tr>\n",
              "\t<tr><td>Afghanistan</td><td>Asia</td><td>1972</td><td>36.088</td><td>13079460</td><td>739.9811</td></tr>\n",
              "\t<tr><td>Afghanistan</td><td>Asia</td><td>1977</td><td>38.438</td><td>14880372</td><td>786.1134</td></tr>\n",
              "\t<tr><td>Afghanistan</td><td>Asia</td><td>1982</td><td>39.854</td><td>12881816</td><td>978.0114</td></tr>\n",
              "\t<tr><td>Afghanistan</td><td>Asia</td><td>1987</td><td>40.822</td><td>13867957</td><td>852.3959</td></tr>\n",
              "\t<tr><td>Afghanistan</td><td>Asia</td><td>1992</td><td>41.674</td><td>16317921</td><td>649.3414</td></tr>\n",
              "\t<tr><td>Afghanistan</td><td>Asia</td><td>1997</td><td>41.763</td><td>22227415</td><td>635.3414</td></tr>\n",
              "</tbody>\n",
              "</table>\n"
            ]
          },
          "metadata": {}
        }
      ]
    },
    {
      "cell_type": "markdown",
      "source": [
        "## 1.2 Filter\n",
        "\n",
        "Obtain **rows** that satisfy some logical condition"
      ],
      "metadata": {
        "id": "6UTs4jEs288m"
      }
    },
    {
      "cell_type": "code",
      "source": [
        "# what if I want data from the year 1982?\n",
        "gapminder %>% filter(year == 1982) %>% head"
      ],
      "metadata": {
        "id": "sUbf46FC1w0D",
        "colab": {
          "base_uri": "https://localhost:8080/",
          "height": 286
        },
        "outputId": "a37a1873-7104-4e4e-8ccf-5b8f7441d34d"
      },
      "execution_count": 3,
      "outputs": [
        {
          "output_type": "display_data",
          "data": {
            "text/plain": [
              "  country     continent year lifeExp pop      gdpPercap \n",
              "1 Afghanistan Asia      1982 39.854  12881816   978.0114\n",
              "2 Albania     Europe    1982 70.420   2780097  3630.8807\n",
              "3 Algeria     Africa    1982 61.368  20033753  5745.1602\n",
              "4 Angola      Africa    1982 39.942   7016384  2756.9537\n",
              "5 Argentina   Americas  1982 69.942  29341374  8997.8974\n",
              "6 Australia   Oceania   1982 74.740  15184200 19477.0093"
            ],
            "text/latex": "A tibble: 6 × 6\n\\begin{tabular}{llllll}\n country & continent & year & lifeExp & pop & gdpPercap\\\\\n <fct> & <fct> & <int> & <dbl> & <int> & <dbl>\\\\\n\\hline\n\t Afghanistan & Asia     & 1982 & 39.854 & 12881816 &   978.0114\\\\\n\t Albania     & Europe   & 1982 & 70.420 &  2780097 &  3630.8807\\\\\n\t Algeria     & Africa   & 1982 & 61.368 & 20033753 &  5745.1602\\\\\n\t Angola      & Africa   & 1982 & 39.942 &  7016384 &  2756.9537\\\\\n\t Argentina   & Americas & 1982 & 69.942 & 29341374 &  8997.8974\\\\\n\t Australia   & Oceania  & 1982 & 74.740 & 15184200 & 19477.0093\\\\\n\\end{tabular}\n",
            "text/markdown": "\nA tibble: 6 × 6\n\n| country &lt;fct&gt; | continent &lt;fct&gt; | year &lt;int&gt; | lifeExp &lt;dbl&gt; | pop &lt;int&gt; | gdpPercap &lt;dbl&gt; |\n|---|---|---|---|---|---|\n| Afghanistan | Asia     | 1982 | 39.854 | 12881816 |   978.0114 |\n| Albania     | Europe   | 1982 | 70.420 |  2780097 |  3630.8807 |\n| Algeria     | Africa   | 1982 | 61.368 | 20033753 |  5745.1602 |\n| Angola      | Africa   | 1982 | 39.942 |  7016384 |  2756.9537 |\n| Argentina   | Americas | 1982 | 69.942 | 29341374 |  8997.8974 |\n| Australia   | Oceania  | 1982 | 74.740 | 15184200 | 19477.0093 |\n\n",
            "text/html": [
              "<table class=\"dataframe\">\n",
              "<caption>A tibble: 6 × 6</caption>\n",
              "<thead>\n",
              "\t<tr><th scope=col>country</th><th scope=col>continent</th><th scope=col>year</th><th scope=col>lifeExp</th><th scope=col>pop</th><th scope=col>gdpPercap</th></tr>\n",
              "\t<tr><th scope=col>&lt;fct&gt;</th><th scope=col>&lt;fct&gt;</th><th scope=col>&lt;int&gt;</th><th scope=col>&lt;dbl&gt;</th><th scope=col>&lt;int&gt;</th><th scope=col>&lt;dbl&gt;</th></tr>\n",
              "</thead>\n",
              "<tbody>\n",
              "\t<tr><td>Afghanistan</td><td>Asia    </td><td>1982</td><td>39.854</td><td>12881816</td><td>  978.0114</td></tr>\n",
              "\t<tr><td>Albania    </td><td>Europe  </td><td>1982</td><td>70.420</td><td> 2780097</td><td> 3630.8807</td></tr>\n",
              "\t<tr><td>Algeria    </td><td>Africa  </td><td>1982</td><td>61.368</td><td>20033753</td><td> 5745.1602</td></tr>\n",
              "\t<tr><td>Angola     </td><td>Africa  </td><td>1982</td><td>39.942</td><td> 7016384</td><td> 2756.9537</td></tr>\n",
              "\t<tr><td>Argentina  </td><td>Americas</td><td>1982</td><td>69.942</td><td>29341374</td><td> 8997.8974</td></tr>\n",
              "\t<tr><td>Australia  </td><td>Oceania </td><td>1982</td><td>74.740</td><td>15184200</td><td>19477.0093</td></tr>\n",
              "</tbody>\n",
              "</table>\n"
            ]
          },
          "metadata": {}
        }
      ]
    },
    {
      "cell_type": "markdown",
      "source": [
        "Exercise 1: Return all rows corresponding to Asian countries with a life expectancy of at least 75 years in the year 2007."
      ],
      "metadata": {
        "id": "0H0-zv02CEwx"
      }
    },
    {
      "cell_type": "code",
      "source": [
        "gapminder %>% filter(continent == \"Asia\" & lifeExp >= 75 & year == 2007)"
      ],
      "metadata": {
        "id": "wqroI9QjCJYI",
        "colab": {
          "base_uri": "https://localhost:8080/",
          "height": 380
        },
        "outputId": "00a91445-e3ef-457c-bd92-3991d0cd6e6d"
      },
      "execution_count": 4,
      "outputs": [
        {
          "output_type": "display_data",
          "data": {
            "text/plain": [
              "  country          continent year lifeExp pop       gdpPercap\n",
              "1 Bahrain          Asia      2007 75.635     708573 29796.05 \n",
              "2 Hong Kong, China Asia      2007 82.208    6980412 39724.98 \n",
              "3 Israel           Asia      2007 80.745    6426679 25523.28 \n",
              "4 Japan            Asia      2007 82.603  127467972 31656.07 \n",
              "5 Korea, Rep.      Asia      2007 78.623   49044790 23348.14 \n",
              "6 Kuwait           Asia      2007 77.588    2505559 47306.99 \n",
              "7 Oman             Asia      2007 75.640    3204897 22316.19 \n",
              "8 Singapore        Asia      2007 79.972    4553009 47143.18 \n",
              "9 Taiwan           Asia      2007 78.400   23174294 28718.28 "
            ],
            "text/latex": "A tibble: 9 × 6\n\\begin{tabular}{llllll}\n country & continent & year & lifeExp & pop & gdpPercap\\\\\n <fct> & <fct> & <int> & <dbl> & <int> & <dbl>\\\\\n\\hline\n\t Bahrain          & Asia & 2007 & 75.635 &    708573 & 29796.05\\\\\n\t Hong Kong, China & Asia & 2007 & 82.208 &   6980412 & 39724.98\\\\\n\t Israel           & Asia & 2007 & 80.745 &   6426679 & 25523.28\\\\\n\t Japan            & Asia & 2007 & 82.603 & 127467972 & 31656.07\\\\\n\t Korea, Rep.      & Asia & 2007 & 78.623 &  49044790 & 23348.14\\\\\n\t Kuwait           & Asia & 2007 & 77.588 &   2505559 & 47306.99\\\\\n\t Oman             & Asia & 2007 & 75.640 &   3204897 & 22316.19\\\\\n\t Singapore        & Asia & 2007 & 79.972 &   4553009 & 47143.18\\\\\n\t Taiwan           & Asia & 2007 & 78.400 &  23174294 & 28718.28\\\\\n\\end{tabular}\n",
            "text/markdown": "\nA tibble: 9 × 6\n\n| country &lt;fct&gt; | continent &lt;fct&gt; | year &lt;int&gt; | lifeExp &lt;dbl&gt; | pop &lt;int&gt; | gdpPercap &lt;dbl&gt; |\n|---|---|---|---|---|---|\n| Bahrain          | Asia | 2007 | 75.635 |    708573 | 29796.05 |\n| Hong Kong, China | Asia | 2007 | 82.208 |   6980412 | 39724.98 |\n| Israel           | Asia | 2007 | 80.745 |   6426679 | 25523.28 |\n| Japan            | Asia | 2007 | 82.603 | 127467972 | 31656.07 |\n| Korea, Rep.      | Asia | 2007 | 78.623 |  49044790 | 23348.14 |\n| Kuwait           | Asia | 2007 | 77.588 |   2505559 | 47306.99 |\n| Oman             | Asia | 2007 | 75.640 |   3204897 | 22316.19 |\n| Singapore        | Asia | 2007 | 79.972 |   4553009 | 47143.18 |\n| Taiwan           | Asia | 2007 | 78.400 |  23174294 | 28718.28 |\n\n",
            "text/html": [
              "<table class=\"dataframe\">\n",
              "<caption>A tibble: 9 × 6</caption>\n",
              "<thead>\n",
              "\t<tr><th scope=col>country</th><th scope=col>continent</th><th scope=col>year</th><th scope=col>lifeExp</th><th scope=col>pop</th><th scope=col>gdpPercap</th></tr>\n",
              "\t<tr><th scope=col>&lt;fct&gt;</th><th scope=col>&lt;fct&gt;</th><th scope=col>&lt;int&gt;</th><th scope=col>&lt;dbl&gt;</th><th scope=col>&lt;int&gt;</th><th scope=col>&lt;dbl&gt;</th></tr>\n",
              "</thead>\n",
              "<tbody>\n",
              "\t<tr><td>Bahrain         </td><td>Asia</td><td>2007</td><td>75.635</td><td>   708573</td><td>29796.05</td></tr>\n",
              "\t<tr><td>Hong Kong, China</td><td>Asia</td><td>2007</td><td>82.208</td><td>  6980412</td><td>39724.98</td></tr>\n",
              "\t<tr><td>Israel          </td><td>Asia</td><td>2007</td><td>80.745</td><td>  6426679</td><td>25523.28</td></tr>\n",
              "\t<tr><td>Japan           </td><td>Asia</td><td>2007</td><td>82.603</td><td>127467972</td><td>31656.07</td></tr>\n",
              "\t<tr><td>Korea, Rep.     </td><td>Asia</td><td>2007</td><td>78.623</td><td> 49044790</td><td>23348.14</td></tr>\n",
              "\t<tr><td>Kuwait          </td><td>Asia</td><td>2007</td><td>77.588</td><td>  2505559</td><td>47306.99</td></tr>\n",
              "\t<tr><td>Oman            </td><td>Asia</td><td>2007</td><td>75.640</td><td>  3204897</td><td>22316.19</td></tr>\n",
              "\t<tr><td>Singapore       </td><td>Asia</td><td>2007</td><td>79.972</td><td>  4553009</td><td>47143.18</td></tr>\n",
              "\t<tr><td>Taiwan          </td><td>Asia</td><td>2007</td><td>78.400</td><td> 23174294</td><td>28718.28</td></tr>\n",
              "</tbody>\n",
              "</table>\n"
            ]
          },
          "metadata": {}
        }
      ]
    },
    {
      "cell_type": "markdown",
      "source": [
        "## 1.3 Arrange\n",
        "\n",
        "Sort a tibble's rows (ascending order by default) based on one or more columns"
      ],
      "metadata": {
        "id": "-z1RGm-GCnOB"
      }
    },
    {
      "cell_type": "code",
      "source": [
        "# get the rows with the largest gdp per capita\n",
        "gapminder %>% arrange(desc(gdpPercap)) %>% head\n",
        "# note that it's all the same country (Kuwait) over different eyars"
      ],
      "metadata": {
        "id": "BbOLBVsUDbAM",
        "colab": {
          "base_uri": "https://localhost:8080/",
          "height": 286
        },
        "outputId": "8b09859e-fef5-4721-a668-b27d477bb92b"
      },
      "execution_count": 6,
      "outputs": [
        {
          "output_type": "display_data",
          "data": {
            "text/plain": [
              "  country          continent year lifeExp pop      gdpPercap\n",
              "1 Congo, Dem. Rep. Africa    2002 44.966  55379852 241.1659 \n",
              "2 Congo, Dem. Rep. Africa    2007 46.462  64606759 277.5519 \n",
              "3 Lesotho          Africa    1952 42.138    748747 298.8462 \n",
              "4 Guinea-Bissau    Africa    1952 32.500    580653 299.8503 \n",
              "5 Congo, Dem. Rep. Africa    1997 42.587  47798986 312.1884 \n",
              "6 Eritrea          Africa    1952 35.928   1438760 328.9406 "
            ],
            "text/latex": "A tibble: 6 × 6\n\\begin{tabular}{llllll}\n country & continent & year & lifeExp & pop & gdpPercap\\\\\n <fct> & <fct> & <int> & <dbl> & <int> & <dbl>\\\\\n\\hline\n\t Congo, Dem. Rep. & Africa & 2002 & 44.966 & 55379852 & 241.1659\\\\\n\t Congo, Dem. Rep. & Africa & 2007 & 46.462 & 64606759 & 277.5519\\\\\n\t Lesotho          & Africa & 1952 & 42.138 &   748747 & 298.8462\\\\\n\t Guinea-Bissau    & Africa & 1952 & 32.500 &   580653 & 299.8503\\\\\n\t Congo, Dem. Rep. & Africa & 1997 & 42.587 & 47798986 & 312.1884\\\\\n\t Eritrea          & Africa & 1952 & 35.928 &  1438760 & 328.9406\\\\\n\\end{tabular}\n",
            "text/markdown": "\nA tibble: 6 × 6\n\n| country &lt;fct&gt; | continent &lt;fct&gt; | year &lt;int&gt; | lifeExp &lt;dbl&gt; | pop &lt;int&gt; | gdpPercap &lt;dbl&gt; |\n|---|---|---|---|---|---|\n| Congo, Dem. Rep. | Africa | 2002 | 44.966 | 55379852 | 241.1659 |\n| Congo, Dem. Rep. | Africa | 2007 | 46.462 | 64606759 | 277.5519 |\n| Lesotho          | Africa | 1952 | 42.138 |   748747 | 298.8462 |\n| Guinea-Bissau    | Africa | 1952 | 32.500 |   580653 | 299.8503 |\n| Congo, Dem. Rep. | Africa | 1997 | 42.587 | 47798986 | 312.1884 |\n| Eritrea          | Africa | 1952 | 35.928 |  1438760 | 328.9406 |\n\n",
            "text/html": [
              "<table class=\"dataframe\">\n",
              "<caption>A tibble: 6 × 6</caption>\n",
              "<thead>\n",
              "\t<tr><th scope=col>country</th><th scope=col>continent</th><th scope=col>year</th><th scope=col>lifeExp</th><th scope=col>pop</th><th scope=col>gdpPercap</th></tr>\n",
              "\t<tr><th scope=col>&lt;fct&gt;</th><th scope=col>&lt;fct&gt;</th><th scope=col>&lt;int&gt;</th><th scope=col>&lt;dbl&gt;</th><th scope=col>&lt;int&gt;</th><th scope=col>&lt;dbl&gt;</th></tr>\n",
              "</thead>\n",
              "<tbody>\n",
              "\t<tr><td>Congo, Dem. Rep.</td><td>Africa</td><td>2002</td><td>44.966</td><td>55379852</td><td>241.1659</td></tr>\n",
              "\t<tr><td>Congo, Dem. Rep.</td><td>Africa</td><td>2007</td><td>46.462</td><td>64606759</td><td>277.5519</td></tr>\n",
              "\t<tr><td>Lesotho         </td><td>Africa</td><td>1952</td><td>42.138</td><td>  748747</td><td>298.8462</td></tr>\n",
              "\t<tr><td>Guinea-Bissau   </td><td>Africa</td><td>1952</td><td>32.500</td><td>  580653</td><td>299.8503</td></tr>\n",
              "\t<tr><td>Congo, Dem. Rep.</td><td>Africa</td><td>1997</td><td>42.587</td><td>47798986</td><td>312.1884</td></tr>\n",
              "\t<tr><td>Eritrea         </td><td>Africa</td><td>1952</td><td>35.928</td><td> 1438760</td><td>328.9406</td></tr>\n",
              "</tbody>\n",
              "</table>\n"
            ]
          },
          "metadata": {}
        }
      ]
    },
    {
      "cell_type": "code",
      "source": [
        "# you can also arrange based on a function of a column(s)\n",
        "# gapminder %>% arrange(year, gdpPercap) %>% head\n",
        "gapminder %>% arrange(desc(lifeExp / gdpPercap)) %>% head"
      ],
      "metadata": {
        "id": "EOqNhjOFKdbp",
        "colab": {
          "base_uri": "https://localhost:8080/",
          "height": 286
        },
        "outputId": "0fef0b21-2c29-4ab3-ae5f-f60df1621960"
      },
      "execution_count": 8,
      "outputs": [
        {
          "output_type": "display_data",
          "data": {
            "text/plain": [
              "  country          continent year lifeExp pop      gdpPercap\n",
              "1 Congo, Dem. Rep. Africa    2002 44.966  55379852 241.1659 \n",
              "2 Myanmar          Asia      1992 59.320  40546538 347.0000 \n",
              "3 Congo, Dem. Rep. Africa    2007 46.462  64606759 277.5519 \n",
              "4 Myanmar          Asia      1987 58.339  38028578 385.0000 \n",
              "5 Myanmar          Asia      1977 56.059  31528087 371.0000 \n",
              "6 Myanmar          Asia      1972 53.070  28466390 357.0000 "
            ],
            "text/latex": "A tibble: 6 × 6\n\\begin{tabular}{llllll}\n country & continent & year & lifeExp & pop & gdpPercap\\\\\n <fct> & <fct> & <int> & <dbl> & <int> & <dbl>\\\\\n\\hline\n\t Congo, Dem. Rep. & Africa & 2002 & 44.966 & 55379852 & 241.1659\\\\\n\t Myanmar          & Asia   & 1992 & 59.320 & 40546538 & 347.0000\\\\\n\t Congo, Dem. Rep. & Africa & 2007 & 46.462 & 64606759 & 277.5519\\\\\n\t Myanmar          & Asia   & 1987 & 58.339 & 38028578 & 385.0000\\\\\n\t Myanmar          & Asia   & 1977 & 56.059 & 31528087 & 371.0000\\\\\n\t Myanmar          & Asia   & 1972 & 53.070 & 28466390 & 357.0000\\\\\n\\end{tabular}\n",
            "text/markdown": "\nA tibble: 6 × 6\n\n| country &lt;fct&gt; | continent &lt;fct&gt; | year &lt;int&gt; | lifeExp &lt;dbl&gt; | pop &lt;int&gt; | gdpPercap &lt;dbl&gt; |\n|---|---|---|---|---|---|\n| Congo, Dem. Rep. | Africa | 2002 | 44.966 | 55379852 | 241.1659 |\n| Myanmar          | Asia   | 1992 | 59.320 | 40546538 | 347.0000 |\n| Congo, Dem. Rep. | Africa | 2007 | 46.462 | 64606759 | 277.5519 |\n| Myanmar          | Asia   | 1987 | 58.339 | 38028578 | 385.0000 |\n| Myanmar          | Asia   | 1977 | 56.059 | 31528087 | 371.0000 |\n| Myanmar          | Asia   | 1972 | 53.070 | 28466390 | 357.0000 |\n\n",
            "text/html": [
              "<table class=\"dataframe\">\n",
              "<caption>A tibble: 6 × 6</caption>\n",
              "<thead>\n",
              "\t<tr><th scope=col>country</th><th scope=col>continent</th><th scope=col>year</th><th scope=col>lifeExp</th><th scope=col>pop</th><th scope=col>gdpPercap</th></tr>\n",
              "\t<tr><th scope=col>&lt;fct&gt;</th><th scope=col>&lt;fct&gt;</th><th scope=col>&lt;int&gt;</th><th scope=col>&lt;dbl&gt;</th><th scope=col>&lt;int&gt;</th><th scope=col>&lt;dbl&gt;</th></tr>\n",
              "</thead>\n",
              "<tbody>\n",
              "\t<tr><td>Congo, Dem. Rep.</td><td>Africa</td><td>2002</td><td>44.966</td><td>55379852</td><td>241.1659</td></tr>\n",
              "\t<tr><td>Myanmar         </td><td>Asia  </td><td>1992</td><td>59.320</td><td>40546538</td><td>347.0000</td></tr>\n",
              "\t<tr><td>Congo, Dem. Rep.</td><td>Africa</td><td>2007</td><td>46.462</td><td>64606759</td><td>277.5519</td></tr>\n",
              "\t<tr><td>Myanmar         </td><td>Asia  </td><td>1987</td><td>58.339</td><td>38028578</td><td>385.0000</td></tr>\n",
              "\t<tr><td>Myanmar         </td><td>Asia  </td><td>1977</td><td>56.059</td><td>31528087</td><td>371.0000</td></tr>\n",
              "\t<tr><td>Myanmar         </td><td>Asia  </td><td>1972</td><td>53.070</td><td>28466390</td><td>357.0000</td></tr>\n",
              "</tbody>\n",
              "</table>\n"
            ]
          },
          "metadata": {}
        }
      ]
    },
    {
      "cell_type": "markdown",
      "source": [
        "Exercise 2: For each year, starting from the most recent year (2007) going backwards, sort the data alphabetically by country name. \n",
        "\n",
        "*Hint: the first two rows should be \"Afghanistan/2007\" and \"Albania/2007\" *"
      ],
      "metadata": {
        "id": "g3RVmsZiEOsO"
      }
    },
    {
      "cell_type": "code",
      "source": [
        "# your code here\n",
        "gapminder %>% arrange( desc(year), country ) %>% head"
      ],
      "metadata": {
        "id": "PYTefHpBEwrR",
        "colab": {
          "base_uri": "https://localhost:8080/",
          "height": 286
        },
        "outputId": "96f4e9cc-4988-4c81-d193-9e20765e6772"
      },
      "execution_count": 10,
      "outputs": [
        {
          "output_type": "display_data",
          "data": {
            "text/plain": [
              "  country     continent year lifeExp pop      gdpPercap \n",
              "1 Afghanistan Asia      2007 43.828  31889923   974.5803\n",
              "2 Albania     Europe    2007 76.423   3600523  5937.0295\n",
              "3 Algeria     Africa    2007 72.301  33333216  6223.3675\n",
              "4 Angola      Africa    2007 42.731  12420476  4797.2313\n",
              "5 Argentina   Americas  2007 75.320  40301927 12779.3796\n",
              "6 Australia   Oceania   2007 81.235  20434176 34435.3674"
            ],
            "text/latex": "A tibble: 6 × 6\n\\begin{tabular}{llllll}\n country & continent & year & lifeExp & pop & gdpPercap\\\\\n <fct> & <fct> & <int> & <dbl> & <int> & <dbl>\\\\\n\\hline\n\t Afghanistan & Asia     & 2007 & 43.828 & 31889923 &   974.5803\\\\\n\t Albania     & Europe   & 2007 & 76.423 &  3600523 &  5937.0295\\\\\n\t Algeria     & Africa   & 2007 & 72.301 & 33333216 &  6223.3675\\\\\n\t Angola      & Africa   & 2007 & 42.731 & 12420476 &  4797.2313\\\\\n\t Argentina   & Americas & 2007 & 75.320 & 40301927 & 12779.3796\\\\\n\t Australia   & Oceania  & 2007 & 81.235 & 20434176 & 34435.3674\\\\\n\\end{tabular}\n",
            "text/markdown": "\nA tibble: 6 × 6\n\n| country &lt;fct&gt; | continent &lt;fct&gt; | year &lt;int&gt; | lifeExp &lt;dbl&gt; | pop &lt;int&gt; | gdpPercap &lt;dbl&gt; |\n|---|---|---|---|---|---|\n| Afghanistan | Asia     | 2007 | 43.828 | 31889923 |   974.5803 |\n| Albania     | Europe   | 2007 | 76.423 |  3600523 |  5937.0295 |\n| Algeria     | Africa   | 2007 | 72.301 | 33333216 |  6223.3675 |\n| Angola      | Africa   | 2007 | 42.731 | 12420476 |  4797.2313 |\n| Argentina   | Americas | 2007 | 75.320 | 40301927 | 12779.3796 |\n| Australia   | Oceania  | 2007 | 81.235 | 20434176 | 34435.3674 |\n\n",
            "text/html": [
              "<table class=\"dataframe\">\n",
              "<caption>A tibble: 6 × 6</caption>\n",
              "<thead>\n",
              "\t<tr><th scope=col>country</th><th scope=col>continent</th><th scope=col>year</th><th scope=col>lifeExp</th><th scope=col>pop</th><th scope=col>gdpPercap</th></tr>\n",
              "\t<tr><th scope=col>&lt;fct&gt;</th><th scope=col>&lt;fct&gt;</th><th scope=col>&lt;int&gt;</th><th scope=col>&lt;dbl&gt;</th><th scope=col>&lt;int&gt;</th><th scope=col>&lt;dbl&gt;</th></tr>\n",
              "</thead>\n",
              "<tbody>\n",
              "\t<tr><td>Afghanistan</td><td>Asia    </td><td>2007</td><td>43.828</td><td>31889923</td><td>  974.5803</td></tr>\n",
              "\t<tr><td>Albania    </td><td>Europe  </td><td>2007</td><td>76.423</td><td> 3600523</td><td> 5937.0295</td></tr>\n",
              "\t<tr><td>Algeria    </td><td>Africa  </td><td>2007</td><td>72.301</td><td>33333216</td><td> 6223.3675</td></tr>\n",
              "\t<tr><td>Angola     </td><td>Africa  </td><td>2007</td><td>42.731</td><td>12420476</td><td> 4797.2313</td></tr>\n",
              "\t<tr><td>Argentina  </td><td>Americas</td><td>2007</td><td>75.320</td><td>40301927</td><td>12779.3796</td></tr>\n",
              "\t<tr><td>Australia  </td><td>Oceania </td><td>2007</td><td>81.235</td><td>20434176</td><td>34435.3674</td></tr>\n",
              "</tbody>\n",
              "</table>\n"
            ]
          },
          "metadata": {}
        }
      ]
    },
    {
      "cell_type": "markdown",
      "source": [
        "## 1.4 Chaining Dplyr Operations\n",
        "\n",
        "Each of the five `dplyr` functions take a tibble as their first argument and return a tibble.\n",
        "\n",
        "Therefore, we can chain together multiple `dplyr` operations. Think of fitting a bunch of pipe segments together--the data flows through the pipe and comes out transformed."
      ],
      "metadata": {
        "id": "HdDx-mXDFIrg"
      }
    },
    {
      "cell_type": "code",
      "source": [
        "# sort countries by population (large to small) based on 1952 pop\n",
        "# then get the top 10\n",
        "gapminder %>% filter(year == 1952) %>% arrange(desc(pop)) %>% head(10)\n",
        "\n",
        "# USSR would have been number 3\n",
        "# Germany was two countries (DDR/BRD)\n",
        "# Bangladesh was part of Pakistan\n",
        "# clearly, tracking countries over several decades is a little confusing..."
      ],
      "metadata": {
        "id": "DhogJYeaGHec",
        "colab": {
          "base_uri": "https://localhost:8080/",
          "height": 412
        },
        "outputId": "8436bd1a-7869-4014-ad11-8ad7b126415a"
      },
      "execution_count": 11,
      "outputs": [
        {
          "output_type": "display_data",
          "data": {
            "text/plain": [
              "   country        continent year lifeExp pop       gdpPercap \n",
              "1  China          Asia      1952 44.000  556263527   400.4486\n",
              "2  India          Asia      1952 37.373  372000000   546.5657\n",
              "3  United States  Americas  1952 68.440  157553000 13990.4821\n",
              "4  Japan          Asia      1952 63.030   86459025  3216.9563\n",
              "5  Indonesia      Asia      1952 37.468   82052000   749.6817\n",
              "6  Germany        Europe    1952 67.500   69145952  7144.1144\n",
              "7  Brazil         Americas  1952 50.917   56602560  2108.9444\n",
              "8  United Kingdom Europe    1952 69.180   50430000  9979.5085\n",
              "9  Italy          Europe    1952 65.940   47666000  4931.4042\n",
              "10 Bangladesh     Asia      1952 37.484   46886859   684.2442"
            ],
            "text/latex": "A tibble: 10 × 6\n\\begin{tabular}{llllll}\n country & continent & year & lifeExp & pop & gdpPercap\\\\\n <fct> & <fct> & <int> & <dbl> & <int> & <dbl>\\\\\n\\hline\n\t China          & Asia     & 1952 & 44.000 & 556263527 &   400.4486\\\\\n\t India          & Asia     & 1952 & 37.373 & 372000000 &   546.5657\\\\\n\t United States  & Americas & 1952 & 68.440 & 157553000 & 13990.4821\\\\\n\t Japan          & Asia     & 1952 & 63.030 &  86459025 &  3216.9563\\\\\n\t Indonesia      & Asia     & 1952 & 37.468 &  82052000 &   749.6817\\\\\n\t Germany        & Europe   & 1952 & 67.500 &  69145952 &  7144.1144\\\\\n\t Brazil         & Americas & 1952 & 50.917 &  56602560 &  2108.9444\\\\\n\t United Kingdom & Europe   & 1952 & 69.180 &  50430000 &  9979.5085\\\\\n\t Italy          & Europe   & 1952 & 65.940 &  47666000 &  4931.4042\\\\\n\t Bangladesh     & Asia     & 1952 & 37.484 &  46886859 &   684.2442\\\\\n\\end{tabular}\n",
            "text/markdown": "\nA tibble: 10 × 6\n\n| country &lt;fct&gt; | continent &lt;fct&gt; | year &lt;int&gt; | lifeExp &lt;dbl&gt; | pop &lt;int&gt; | gdpPercap &lt;dbl&gt; |\n|---|---|---|---|---|---|\n| China          | Asia     | 1952 | 44.000 | 556263527 |   400.4486 |\n| India          | Asia     | 1952 | 37.373 | 372000000 |   546.5657 |\n| United States  | Americas | 1952 | 68.440 | 157553000 | 13990.4821 |\n| Japan          | Asia     | 1952 | 63.030 |  86459025 |  3216.9563 |\n| Indonesia      | Asia     | 1952 | 37.468 |  82052000 |   749.6817 |\n| Germany        | Europe   | 1952 | 67.500 |  69145952 |  7144.1144 |\n| Brazil         | Americas | 1952 | 50.917 |  56602560 |  2108.9444 |\n| United Kingdom | Europe   | 1952 | 69.180 |  50430000 |  9979.5085 |\n| Italy          | Europe   | 1952 | 65.940 |  47666000 |  4931.4042 |\n| Bangladesh     | Asia     | 1952 | 37.484 |  46886859 |   684.2442 |\n\n",
            "text/html": [
              "<table class=\"dataframe\">\n",
              "<caption>A tibble: 10 × 6</caption>\n",
              "<thead>\n",
              "\t<tr><th scope=col>country</th><th scope=col>continent</th><th scope=col>year</th><th scope=col>lifeExp</th><th scope=col>pop</th><th scope=col>gdpPercap</th></tr>\n",
              "\t<tr><th scope=col>&lt;fct&gt;</th><th scope=col>&lt;fct&gt;</th><th scope=col>&lt;int&gt;</th><th scope=col>&lt;dbl&gt;</th><th scope=col>&lt;int&gt;</th><th scope=col>&lt;dbl&gt;</th></tr>\n",
              "</thead>\n",
              "<tbody>\n",
              "\t<tr><td>China         </td><td>Asia    </td><td>1952</td><td>44.000</td><td>556263527</td><td>  400.4486</td></tr>\n",
              "\t<tr><td>India         </td><td>Asia    </td><td>1952</td><td>37.373</td><td>372000000</td><td>  546.5657</td></tr>\n",
              "\t<tr><td>United States </td><td>Americas</td><td>1952</td><td>68.440</td><td>157553000</td><td>13990.4821</td></tr>\n",
              "\t<tr><td>Japan         </td><td>Asia    </td><td>1952</td><td>63.030</td><td> 86459025</td><td> 3216.9563</td></tr>\n",
              "\t<tr><td>Indonesia     </td><td>Asia    </td><td>1952</td><td>37.468</td><td> 82052000</td><td>  749.6817</td></tr>\n",
              "\t<tr><td>Germany       </td><td>Europe  </td><td>1952</td><td>67.500</td><td> 69145952</td><td> 7144.1144</td></tr>\n",
              "\t<tr><td>Brazil        </td><td>Americas</td><td>1952</td><td>50.917</td><td> 56602560</td><td> 2108.9444</td></tr>\n",
              "\t<tr><td>United Kingdom</td><td>Europe  </td><td>1952</td><td>69.180</td><td> 50430000</td><td> 9979.5085</td></tr>\n",
              "\t<tr><td>Italy         </td><td>Europe  </td><td>1952</td><td>65.940</td><td> 47666000</td><td> 4931.4042</td></tr>\n",
              "\t<tr><td>Bangladesh    </td><td>Asia    </td><td>1952</td><td>37.484</td><td> 46886859</td><td>  684.2442</td></tr>\n",
              "</tbody>\n",
              "</table>\n"
            ]
          },
          "metadata": {}
        }
      ]
    },
    {
      "cell_type": "markdown",
      "source": [
        "Exercise 3: For the year 2007, return the 10 African countries with the highest life expectancy (sorted high to low)"
      ],
      "metadata": {
        "id": "nyaR-op1Ha4W"
      }
    },
    {
      "cell_type": "code",
      "source": [
        "# your code here\n",
        "gapminder %>% filter(year == 2007, continent == \"Africa\") %>%\n",
        "  arrange(desc(lifeExp)) %>% head(10)"
      ],
      "metadata": {
        "id": "g_JuLzoCHU2j",
        "colab": {
          "base_uri": "https://localhost:8080/",
          "height": 412
        },
        "outputId": "68cbfc37-8f1d-4816-9d1d-ccc975a5bdc2"
      },
      "execution_count": 12,
      "outputs": [
        {
          "output_type": "display_data",
          "data": {
            "text/plain": [
              "   country               continent year lifeExp pop      gdpPercap \n",
              "1  Reunion               Africa    2007 76.442    798094  7670.1226\n",
              "2  Libya                 Africa    2007 73.952   6036914 12057.4993\n",
              "3  Tunisia               Africa    2007 73.923  10276158  7092.9230\n",
              "4  Mauritius             Africa    2007 72.801   1250882 10956.9911\n",
              "5  Algeria               Africa    2007 72.301  33333216  6223.3675\n",
              "6  Egypt                 Africa    2007 71.338  80264543  5581.1810\n",
              "7  Morocco               Africa    2007 71.164  33757175  3820.1752\n",
              "8  Sao Tome and Principe Africa    2007 65.528    199579  1598.4351\n",
              "9  Comoros               Africa    2007 65.152    710960   986.1479\n",
              "10 Mauritania            Africa    2007 64.164   3270065  1803.1515"
            ],
            "text/latex": "A tibble: 10 × 6\n\\begin{tabular}{llllll}\n country & continent & year & lifeExp & pop & gdpPercap\\\\\n <fct> & <fct> & <int> & <dbl> & <int> & <dbl>\\\\\n\\hline\n\t Reunion               & Africa & 2007 & 76.442 &   798094 &  7670.1226\\\\\n\t Libya                 & Africa & 2007 & 73.952 &  6036914 & 12057.4993\\\\\n\t Tunisia               & Africa & 2007 & 73.923 & 10276158 &  7092.9230\\\\\n\t Mauritius             & Africa & 2007 & 72.801 &  1250882 & 10956.9911\\\\\n\t Algeria               & Africa & 2007 & 72.301 & 33333216 &  6223.3675\\\\\n\t Egypt                 & Africa & 2007 & 71.338 & 80264543 &  5581.1810\\\\\n\t Morocco               & Africa & 2007 & 71.164 & 33757175 &  3820.1752\\\\\n\t Sao Tome and Principe & Africa & 2007 & 65.528 &   199579 &  1598.4351\\\\\n\t Comoros               & Africa & 2007 & 65.152 &   710960 &   986.1479\\\\\n\t Mauritania            & Africa & 2007 & 64.164 &  3270065 &  1803.1515\\\\\n\\end{tabular}\n",
            "text/markdown": "\nA tibble: 10 × 6\n\n| country &lt;fct&gt; | continent &lt;fct&gt; | year &lt;int&gt; | lifeExp &lt;dbl&gt; | pop &lt;int&gt; | gdpPercap &lt;dbl&gt; |\n|---|---|---|---|---|---|\n| Reunion               | Africa | 2007 | 76.442 |   798094 |  7670.1226 |\n| Libya                 | Africa | 2007 | 73.952 |  6036914 | 12057.4993 |\n| Tunisia               | Africa | 2007 | 73.923 | 10276158 |  7092.9230 |\n| Mauritius             | Africa | 2007 | 72.801 |  1250882 | 10956.9911 |\n| Algeria               | Africa | 2007 | 72.301 | 33333216 |  6223.3675 |\n| Egypt                 | Africa | 2007 | 71.338 | 80264543 |  5581.1810 |\n| Morocco               | Africa | 2007 | 71.164 | 33757175 |  3820.1752 |\n| Sao Tome and Principe | Africa | 2007 | 65.528 |   199579 |  1598.4351 |\n| Comoros               | Africa | 2007 | 65.152 |   710960 |   986.1479 |\n| Mauritania            | Africa | 2007 | 64.164 |  3270065 |  1803.1515 |\n\n",
            "text/html": [
              "<table class=\"dataframe\">\n",
              "<caption>A tibble: 10 × 6</caption>\n",
              "<thead>\n",
              "\t<tr><th scope=col>country</th><th scope=col>continent</th><th scope=col>year</th><th scope=col>lifeExp</th><th scope=col>pop</th><th scope=col>gdpPercap</th></tr>\n",
              "\t<tr><th scope=col>&lt;fct&gt;</th><th scope=col>&lt;fct&gt;</th><th scope=col>&lt;int&gt;</th><th scope=col>&lt;dbl&gt;</th><th scope=col>&lt;int&gt;</th><th scope=col>&lt;dbl&gt;</th></tr>\n",
              "</thead>\n",
              "<tbody>\n",
              "\t<tr><td>Reunion              </td><td>Africa</td><td>2007</td><td>76.442</td><td>  798094</td><td> 7670.1226</td></tr>\n",
              "\t<tr><td>Libya                </td><td>Africa</td><td>2007</td><td>73.952</td><td> 6036914</td><td>12057.4993</td></tr>\n",
              "\t<tr><td>Tunisia              </td><td>Africa</td><td>2007</td><td>73.923</td><td>10276158</td><td> 7092.9230</td></tr>\n",
              "\t<tr><td>Mauritius            </td><td>Africa</td><td>2007</td><td>72.801</td><td> 1250882</td><td>10956.9911</td></tr>\n",
              "\t<tr><td>Algeria              </td><td>Africa</td><td>2007</td><td>72.301</td><td>33333216</td><td> 6223.3675</td></tr>\n",
              "\t<tr><td>Egypt                </td><td>Africa</td><td>2007</td><td>71.338</td><td>80264543</td><td> 5581.1810</td></tr>\n",
              "\t<tr><td>Morocco              </td><td>Africa</td><td>2007</td><td>71.164</td><td>33757175</td><td> 3820.1752</td></tr>\n",
              "\t<tr><td>Sao Tome and Principe</td><td>Africa</td><td>2007</td><td>65.528</td><td>  199579</td><td> 1598.4351</td></tr>\n",
              "\t<tr><td>Comoros              </td><td>Africa</td><td>2007</td><td>65.152</td><td>  710960</td><td>  986.1479</td></tr>\n",
              "\t<tr><td>Mauritania           </td><td>Africa</td><td>2007</td><td>64.164</td><td> 3270065</td><td> 1803.1515</td></tr>\n",
              "</tbody>\n",
              "</table>\n"
            ]
          },
          "metadata": {}
        }
      ]
    },
    {
      "cell_type": "markdown",
      "source": [
        "Exercise 4: For each available year from 1952-2007, sort countries in the Americas by gdp per capita from lowest to highest"
      ],
      "metadata": {
        "id": "hOtjW0rAIK8W"
      }
    },
    {
      "cell_type": "code",
      "source": [
        "gapminder %>% filter(continent == \"Americas\") %>%\n",
        "  arrange(year, gdpPercap)"
      ],
      "metadata": {
        "id": "f4mY7nUjI2IN",
        "colab": {
          "base_uri": "https://localhost:8080/",
          "height": 1000
        },
        "outputId": "6376e90a-6bf8-4ba0-cc7b-50a9e06d311a"
      },
      "execution_count": 13,
      "outputs": [
        {
          "output_type": "display_data",
          "data": {
            "text/plain": [
              "    country             continent year lifeExp pop       gdpPercap\n",
              "1   Dominican Republic  Americas  1952 45.928    2491346  1397.717\n",
              "2   Haiti               Americas  1952 37.579    3201488  1840.367\n",
              "3   Paraguay            Americas  1952 62.649    1555876  1952.309\n",
              "4   Brazil              Americas  1952 50.917   56602560  2108.944\n",
              "5   Colombia            Americas  1952 50.643   12350771  2144.115\n",
              "6   Honduras            Americas  1952 41.912    1517453  2194.926\n",
              "7   Guatemala           Americas  1952 42.023    3146381  2428.238\n",
              "8   Panama              Americas  1952 55.191     940080  2480.380\n",
              "9   Costa Rica          Americas  1952 57.206     926317  2627.009\n",
              "10  Bolivia             Americas  1952 40.414    2883315  2677.326\n",
              "11  Jamaica             Americas  1952 58.530    1426095  2898.531\n",
              "12  Trinidad and Tobago Americas  1952 59.100     662850  3023.272\n",
              "13  El Salvador         Americas  1952 45.262    2042865  3048.303\n",
              "14  Puerto Rico         Americas  1952 64.280    2227000  3081.960\n",
              "15  Nicaragua           Americas  1952 42.314    1165790  3112.364\n",
              "16  Mexico              Americas  1952 50.789   30144317  3478.126\n",
              "17  Ecuador             Americas  1952 48.357    3548753  3522.111\n",
              "18  Peru                Americas  1952 43.902    8025700  3758.523\n",
              "19  Chile               Americas  1952 54.745    6377619  3939.979\n",
              "20  Cuba                Americas  1952 59.421    6007797  5586.539\n",
              "21  Uruguay             Americas  1952 66.071    2252965  5716.767\n",
              "22  Argentina           Americas  1952 62.485   17876956  5911.315\n",
              "23  Venezuela           Americas  1952 55.088    5439568  7689.800\n",
              "24  Canada              Americas  1952 68.750   14785584 11367.161\n",
              "25  United States       Americas  1952 68.440  157553000 13990.482\n",
              "26  Dominican Republic  Americas  1957 49.828    2923186  1544.403\n",
              "27  Haiti               Americas  1957 40.696    3507701  1726.888\n",
              "28  Paraguay            Americas  1957 63.196    1770902  2046.155\n",
              "29  Bolivia             Americas  1957 41.890    3211738  2127.686\n",
              "30  Honduras            Americas  1957 44.665    1770390  2220.488\n",
              "⋮   ⋮                   ⋮         ⋮    ⋮       ⋮         ⋮        \n",
              "271 Chile               Americas  2002 77.860   15497046 10778.784\n",
              "272 Trinidad and Tobago Americas  2002 68.976    1101832 11460.600\n",
              "273 Puerto Rico         Americas  2002 77.778    3859606 18855.606\n",
              "274 Canada              Americas  2002 79.770   31902268 33328.965\n",
              "275 United States       Americas  2002 77.310  287675526 39097.100\n",
              "276 Haiti               Americas  2007 60.916    8502814  1201.637\n",
              "277 Nicaragua           Americas  2007 72.899    5675356  2749.321\n",
              "278 Honduras            Americas  2007 70.198    7483763  3548.331\n",
              "279 Bolivia             Americas  2007 65.554    9119152  3822.137\n",
              "280 Paraguay            Americas  2007 71.752    6667147  4172.838\n",
              "281 Guatemala           Americas  2007 70.259   12572928  5186.050\n",
              "282 El Salvador         Americas  2007 71.878    6939688  5728.354\n",
              "283 Dominican Republic  Americas  2007 72.235    9319622  6025.375\n",
              "284 Ecuador             Americas  2007 74.994   13755680  6873.262\n",
              "285 Colombia            Americas  2007 72.889   44227550  7006.580\n",
              "286 Jamaica             Americas  2007 72.567    2780132  7320.880\n",
              "287 Peru                Americas  2007 71.421   28674757  7408.906\n",
              "288 Cuba                Americas  2007 78.273   11416987  8948.103\n",
              "289 Brazil              Americas  2007 72.390  190010647  9065.801\n",
              "290 Costa Rica          Americas  2007 78.782    4133884  9645.061\n",
              "291 Panama              Americas  2007 75.537    3242173  9809.186\n",
              "292 Uruguay             Americas  2007 76.384    3447496 10611.463\n",
              "293 Venezuela           Americas  2007 73.747   26084662 11415.806\n",
              "294 Mexico              Americas  2007 76.195  108700891 11977.575\n",
              "295 Argentina           Americas  2007 75.320   40301927 12779.380\n",
              "296 Chile               Americas  2007 78.553   16284741 13171.639\n",
              "297 Trinidad and Tobago Americas  2007 69.819    1056608 18008.509\n",
              "298 Puerto Rico         Americas  2007 78.746    3942491 19328.709\n",
              "299 Canada              Americas  2007 80.653   33390141 36319.235\n",
              "300 United States       Americas  2007 78.242  301139947 42951.653"
            ],
            "text/latex": "A tibble: 300 × 6\n\\begin{tabular}{llllll}\n country & continent & year & lifeExp & pop & gdpPercap\\\\\n <fct> & <fct> & <int> & <dbl> & <int> & <dbl>\\\\\n\\hline\n\t Dominican Republic  & Americas & 1952 & 45.928 &   2491346 &  1397.717\\\\\n\t Haiti               & Americas & 1952 & 37.579 &   3201488 &  1840.367\\\\\n\t Paraguay            & Americas & 1952 & 62.649 &   1555876 &  1952.309\\\\\n\t Brazil              & Americas & 1952 & 50.917 &  56602560 &  2108.944\\\\\n\t Colombia            & Americas & 1952 & 50.643 &  12350771 &  2144.115\\\\\n\t Honduras            & Americas & 1952 & 41.912 &   1517453 &  2194.926\\\\\n\t Guatemala           & Americas & 1952 & 42.023 &   3146381 &  2428.238\\\\\n\t Panama              & Americas & 1952 & 55.191 &    940080 &  2480.380\\\\\n\t Costa Rica          & Americas & 1952 & 57.206 &    926317 &  2627.009\\\\\n\t Bolivia             & Americas & 1952 & 40.414 &   2883315 &  2677.326\\\\\n\t Jamaica             & Americas & 1952 & 58.530 &   1426095 &  2898.531\\\\\n\t Trinidad and Tobago & Americas & 1952 & 59.100 &    662850 &  3023.272\\\\\n\t El Salvador         & Americas & 1952 & 45.262 &   2042865 &  3048.303\\\\\n\t Puerto Rico         & Americas & 1952 & 64.280 &   2227000 &  3081.960\\\\\n\t Nicaragua           & Americas & 1952 & 42.314 &   1165790 &  3112.364\\\\\n\t Mexico              & Americas & 1952 & 50.789 &  30144317 &  3478.126\\\\\n\t Ecuador             & Americas & 1952 & 48.357 &   3548753 &  3522.111\\\\\n\t Peru                & Americas & 1952 & 43.902 &   8025700 &  3758.523\\\\\n\t Chile               & Americas & 1952 & 54.745 &   6377619 &  3939.979\\\\\n\t Cuba                & Americas & 1952 & 59.421 &   6007797 &  5586.539\\\\\n\t Uruguay             & Americas & 1952 & 66.071 &   2252965 &  5716.767\\\\\n\t Argentina           & Americas & 1952 & 62.485 &  17876956 &  5911.315\\\\\n\t Venezuela           & Americas & 1952 & 55.088 &   5439568 &  7689.800\\\\\n\t Canada              & Americas & 1952 & 68.750 &  14785584 & 11367.161\\\\\n\t United States       & Americas & 1952 & 68.440 & 157553000 & 13990.482\\\\\n\t Dominican Republic  & Americas & 1957 & 49.828 &   2923186 &  1544.403\\\\\n\t Haiti               & Americas & 1957 & 40.696 &   3507701 &  1726.888\\\\\n\t Paraguay            & Americas & 1957 & 63.196 &   1770902 &  2046.155\\\\\n\t Bolivia             & Americas & 1957 & 41.890 &   3211738 &  2127.686\\\\\n\t Honduras            & Americas & 1957 & 44.665 &   1770390 &  2220.488\\\\\n\t ⋮ & ⋮ & ⋮ & ⋮ & ⋮ & ⋮\\\\\n\t Chile               & Americas & 2002 & 77.860 &  15497046 & 10778.784\\\\\n\t Trinidad and Tobago & Americas & 2002 & 68.976 &   1101832 & 11460.600\\\\\n\t Puerto Rico         & Americas & 2002 & 77.778 &   3859606 & 18855.606\\\\\n\t Canada              & Americas & 2002 & 79.770 &  31902268 & 33328.965\\\\\n\t United States       & Americas & 2002 & 77.310 & 287675526 & 39097.100\\\\\n\t Haiti               & Americas & 2007 & 60.916 &   8502814 &  1201.637\\\\\n\t Nicaragua           & Americas & 2007 & 72.899 &   5675356 &  2749.321\\\\\n\t Honduras            & Americas & 2007 & 70.198 &   7483763 &  3548.331\\\\\n\t Bolivia             & Americas & 2007 & 65.554 &   9119152 &  3822.137\\\\\n\t Paraguay            & Americas & 2007 & 71.752 &   6667147 &  4172.838\\\\\n\t Guatemala           & Americas & 2007 & 70.259 &  12572928 &  5186.050\\\\\n\t El Salvador         & Americas & 2007 & 71.878 &   6939688 &  5728.354\\\\\n\t Dominican Republic  & Americas & 2007 & 72.235 &   9319622 &  6025.375\\\\\n\t Ecuador             & Americas & 2007 & 74.994 &  13755680 &  6873.262\\\\\n\t Colombia            & Americas & 2007 & 72.889 &  44227550 &  7006.580\\\\\n\t Jamaica             & Americas & 2007 & 72.567 &   2780132 &  7320.880\\\\\n\t Peru                & Americas & 2007 & 71.421 &  28674757 &  7408.906\\\\\n\t Cuba                & Americas & 2007 & 78.273 &  11416987 &  8948.103\\\\\n\t Brazil              & Americas & 2007 & 72.390 & 190010647 &  9065.801\\\\\n\t Costa Rica          & Americas & 2007 & 78.782 &   4133884 &  9645.061\\\\\n\t Panama              & Americas & 2007 & 75.537 &   3242173 &  9809.186\\\\\n\t Uruguay             & Americas & 2007 & 76.384 &   3447496 & 10611.463\\\\\n\t Venezuela           & Americas & 2007 & 73.747 &  26084662 & 11415.806\\\\\n\t Mexico              & Americas & 2007 & 76.195 & 108700891 & 11977.575\\\\\n\t Argentina           & Americas & 2007 & 75.320 &  40301927 & 12779.380\\\\\n\t Chile               & Americas & 2007 & 78.553 &  16284741 & 13171.639\\\\\n\t Trinidad and Tobago & Americas & 2007 & 69.819 &   1056608 & 18008.509\\\\\n\t Puerto Rico         & Americas & 2007 & 78.746 &   3942491 & 19328.709\\\\\n\t Canada              & Americas & 2007 & 80.653 &  33390141 & 36319.235\\\\\n\t United States       & Americas & 2007 & 78.242 & 301139947 & 42951.653\\\\\n\\end{tabular}\n",
            "text/markdown": "\nA tibble: 300 × 6\n\n| country &lt;fct&gt; | continent &lt;fct&gt; | year &lt;int&gt; | lifeExp &lt;dbl&gt; | pop &lt;int&gt; | gdpPercap &lt;dbl&gt; |\n|---|---|---|---|---|---|\n| Dominican Republic  | Americas | 1952 | 45.928 |   2491346 |  1397.717 |\n| Haiti               | Americas | 1952 | 37.579 |   3201488 |  1840.367 |\n| Paraguay            | Americas | 1952 | 62.649 |   1555876 |  1952.309 |\n| Brazil              | Americas | 1952 | 50.917 |  56602560 |  2108.944 |\n| Colombia            | Americas | 1952 | 50.643 |  12350771 |  2144.115 |\n| Honduras            | Americas | 1952 | 41.912 |   1517453 |  2194.926 |\n| Guatemala           | Americas | 1952 | 42.023 |   3146381 |  2428.238 |\n| Panama              | Americas | 1952 | 55.191 |    940080 |  2480.380 |\n| Costa Rica          | Americas | 1952 | 57.206 |    926317 |  2627.009 |\n| Bolivia             | Americas | 1952 | 40.414 |   2883315 |  2677.326 |\n| Jamaica             | Americas | 1952 | 58.530 |   1426095 |  2898.531 |\n| Trinidad and Tobago | Americas | 1952 | 59.100 |    662850 |  3023.272 |\n| El Salvador         | Americas | 1952 | 45.262 |   2042865 |  3048.303 |\n| Puerto Rico         | Americas | 1952 | 64.280 |   2227000 |  3081.960 |\n| Nicaragua           | Americas | 1952 | 42.314 |   1165790 |  3112.364 |\n| Mexico              | Americas | 1952 | 50.789 |  30144317 |  3478.126 |\n| Ecuador             | Americas | 1952 | 48.357 |   3548753 |  3522.111 |\n| Peru                | Americas | 1952 | 43.902 |   8025700 |  3758.523 |\n| Chile               | Americas | 1952 | 54.745 |   6377619 |  3939.979 |\n| Cuba                | Americas | 1952 | 59.421 |   6007797 |  5586.539 |\n| Uruguay             | Americas | 1952 | 66.071 |   2252965 |  5716.767 |\n| Argentina           | Americas | 1952 | 62.485 |  17876956 |  5911.315 |\n| Venezuela           | Americas | 1952 | 55.088 |   5439568 |  7689.800 |\n| Canada              | Americas | 1952 | 68.750 |  14785584 | 11367.161 |\n| United States       | Americas | 1952 | 68.440 | 157553000 | 13990.482 |\n| Dominican Republic  | Americas | 1957 | 49.828 |   2923186 |  1544.403 |\n| Haiti               | Americas | 1957 | 40.696 |   3507701 |  1726.888 |\n| Paraguay            | Americas | 1957 | 63.196 |   1770902 |  2046.155 |\n| Bolivia             | Americas | 1957 | 41.890 |   3211738 |  2127.686 |\n| Honduras            | Americas | 1957 | 44.665 |   1770390 |  2220.488 |\n| ⋮ | ⋮ | ⋮ | ⋮ | ⋮ | ⋮ |\n| Chile               | Americas | 2002 | 77.860 |  15497046 | 10778.784 |\n| Trinidad and Tobago | Americas | 2002 | 68.976 |   1101832 | 11460.600 |\n| Puerto Rico         | Americas | 2002 | 77.778 |   3859606 | 18855.606 |\n| Canada              | Americas | 2002 | 79.770 |  31902268 | 33328.965 |\n| United States       | Americas | 2002 | 77.310 | 287675526 | 39097.100 |\n| Haiti               | Americas | 2007 | 60.916 |   8502814 |  1201.637 |\n| Nicaragua           | Americas | 2007 | 72.899 |   5675356 |  2749.321 |\n| Honduras            | Americas | 2007 | 70.198 |   7483763 |  3548.331 |\n| Bolivia             | Americas | 2007 | 65.554 |   9119152 |  3822.137 |\n| Paraguay            | Americas | 2007 | 71.752 |   6667147 |  4172.838 |\n| Guatemala           | Americas | 2007 | 70.259 |  12572928 |  5186.050 |\n| El Salvador         | Americas | 2007 | 71.878 |   6939688 |  5728.354 |\n| Dominican Republic  | Americas | 2007 | 72.235 |   9319622 |  6025.375 |\n| Ecuador             | Americas | 2007 | 74.994 |  13755680 |  6873.262 |\n| Colombia            | Americas | 2007 | 72.889 |  44227550 |  7006.580 |\n| Jamaica             | Americas | 2007 | 72.567 |   2780132 |  7320.880 |\n| Peru                | Americas | 2007 | 71.421 |  28674757 |  7408.906 |\n| Cuba                | Americas | 2007 | 78.273 |  11416987 |  8948.103 |\n| Brazil              | Americas | 2007 | 72.390 | 190010647 |  9065.801 |\n| Costa Rica          | Americas | 2007 | 78.782 |   4133884 |  9645.061 |\n| Panama              | Americas | 2007 | 75.537 |   3242173 |  9809.186 |\n| Uruguay             | Americas | 2007 | 76.384 |   3447496 | 10611.463 |\n| Venezuela           | Americas | 2007 | 73.747 |  26084662 | 11415.806 |\n| Mexico              | Americas | 2007 | 76.195 | 108700891 | 11977.575 |\n| Argentina           | Americas | 2007 | 75.320 |  40301927 | 12779.380 |\n| Chile               | Americas | 2007 | 78.553 |  16284741 | 13171.639 |\n| Trinidad and Tobago | Americas | 2007 | 69.819 |   1056608 | 18008.509 |\n| Puerto Rico         | Americas | 2007 | 78.746 |   3942491 | 19328.709 |\n| Canada              | Americas | 2007 | 80.653 |  33390141 | 36319.235 |\n| United States       | Americas | 2007 | 78.242 | 301139947 | 42951.653 |\n\n",
            "text/html": [
              "<table class=\"dataframe\">\n",
              "<caption>A tibble: 300 × 6</caption>\n",
              "<thead>\n",
              "\t<tr><th scope=col>country</th><th scope=col>continent</th><th scope=col>year</th><th scope=col>lifeExp</th><th scope=col>pop</th><th scope=col>gdpPercap</th></tr>\n",
              "\t<tr><th scope=col>&lt;fct&gt;</th><th scope=col>&lt;fct&gt;</th><th scope=col>&lt;int&gt;</th><th scope=col>&lt;dbl&gt;</th><th scope=col>&lt;int&gt;</th><th scope=col>&lt;dbl&gt;</th></tr>\n",
              "</thead>\n",
              "<tbody>\n",
              "\t<tr><td>Dominican Republic </td><td>Americas</td><td>1952</td><td>45.928</td><td>  2491346</td><td> 1397.717</td></tr>\n",
              "\t<tr><td>Haiti              </td><td>Americas</td><td>1952</td><td>37.579</td><td>  3201488</td><td> 1840.367</td></tr>\n",
              "\t<tr><td>Paraguay           </td><td>Americas</td><td>1952</td><td>62.649</td><td>  1555876</td><td> 1952.309</td></tr>\n",
              "\t<tr><td>Brazil             </td><td>Americas</td><td>1952</td><td>50.917</td><td> 56602560</td><td> 2108.944</td></tr>\n",
              "\t<tr><td>Colombia           </td><td>Americas</td><td>1952</td><td>50.643</td><td> 12350771</td><td> 2144.115</td></tr>\n",
              "\t<tr><td>Honduras           </td><td>Americas</td><td>1952</td><td>41.912</td><td>  1517453</td><td> 2194.926</td></tr>\n",
              "\t<tr><td>Guatemala          </td><td>Americas</td><td>1952</td><td>42.023</td><td>  3146381</td><td> 2428.238</td></tr>\n",
              "\t<tr><td>Panama             </td><td>Americas</td><td>1952</td><td>55.191</td><td>   940080</td><td> 2480.380</td></tr>\n",
              "\t<tr><td>Costa Rica         </td><td>Americas</td><td>1952</td><td>57.206</td><td>   926317</td><td> 2627.009</td></tr>\n",
              "\t<tr><td>Bolivia            </td><td>Americas</td><td>1952</td><td>40.414</td><td>  2883315</td><td> 2677.326</td></tr>\n",
              "\t<tr><td>Jamaica            </td><td>Americas</td><td>1952</td><td>58.530</td><td>  1426095</td><td> 2898.531</td></tr>\n",
              "\t<tr><td>Trinidad and Tobago</td><td>Americas</td><td>1952</td><td>59.100</td><td>   662850</td><td> 3023.272</td></tr>\n",
              "\t<tr><td>El Salvador        </td><td>Americas</td><td>1952</td><td>45.262</td><td>  2042865</td><td> 3048.303</td></tr>\n",
              "\t<tr><td>Puerto Rico        </td><td>Americas</td><td>1952</td><td>64.280</td><td>  2227000</td><td> 3081.960</td></tr>\n",
              "\t<tr><td>Nicaragua          </td><td>Americas</td><td>1952</td><td>42.314</td><td>  1165790</td><td> 3112.364</td></tr>\n",
              "\t<tr><td>Mexico             </td><td>Americas</td><td>1952</td><td>50.789</td><td> 30144317</td><td> 3478.126</td></tr>\n",
              "\t<tr><td>Ecuador            </td><td>Americas</td><td>1952</td><td>48.357</td><td>  3548753</td><td> 3522.111</td></tr>\n",
              "\t<tr><td>Peru               </td><td>Americas</td><td>1952</td><td>43.902</td><td>  8025700</td><td> 3758.523</td></tr>\n",
              "\t<tr><td>Chile              </td><td>Americas</td><td>1952</td><td>54.745</td><td>  6377619</td><td> 3939.979</td></tr>\n",
              "\t<tr><td>Cuba               </td><td>Americas</td><td>1952</td><td>59.421</td><td>  6007797</td><td> 5586.539</td></tr>\n",
              "\t<tr><td>Uruguay            </td><td>Americas</td><td>1952</td><td>66.071</td><td>  2252965</td><td> 5716.767</td></tr>\n",
              "\t<tr><td>Argentina          </td><td>Americas</td><td>1952</td><td>62.485</td><td> 17876956</td><td> 5911.315</td></tr>\n",
              "\t<tr><td>Venezuela          </td><td>Americas</td><td>1952</td><td>55.088</td><td>  5439568</td><td> 7689.800</td></tr>\n",
              "\t<tr><td>Canada             </td><td>Americas</td><td>1952</td><td>68.750</td><td> 14785584</td><td>11367.161</td></tr>\n",
              "\t<tr><td>United States      </td><td>Americas</td><td>1952</td><td>68.440</td><td>157553000</td><td>13990.482</td></tr>\n",
              "\t<tr><td>Dominican Republic </td><td>Americas</td><td>1957</td><td>49.828</td><td>  2923186</td><td> 1544.403</td></tr>\n",
              "\t<tr><td>Haiti              </td><td>Americas</td><td>1957</td><td>40.696</td><td>  3507701</td><td> 1726.888</td></tr>\n",
              "\t<tr><td>Paraguay           </td><td>Americas</td><td>1957</td><td>63.196</td><td>  1770902</td><td> 2046.155</td></tr>\n",
              "\t<tr><td>Bolivia            </td><td>Americas</td><td>1957</td><td>41.890</td><td>  3211738</td><td> 2127.686</td></tr>\n",
              "\t<tr><td>Honduras           </td><td>Americas</td><td>1957</td><td>44.665</td><td>  1770390</td><td> 2220.488</td></tr>\n",
              "\t<tr><td>⋮</td><td>⋮</td><td>⋮</td><td>⋮</td><td>⋮</td><td>⋮</td></tr>\n",
              "\t<tr><td>Chile              </td><td>Americas</td><td>2002</td><td>77.860</td><td> 15497046</td><td>10778.784</td></tr>\n",
              "\t<tr><td>Trinidad and Tobago</td><td>Americas</td><td>2002</td><td>68.976</td><td>  1101832</td><td>11460.600</td></tr>\n",
              "\t<tr><td>Puerto Rico        </td><td>Americas</td><td>2002</td><td>77.778</td><td>  3859606</td><td>18855.606</td></tr>\n",
              "\t<tr><td>Canada             </td><td>Americas</td><td>2002</td><td>79.770</td><td> 31902268</td><td>33328.965</td></tr>\n",
              "\t<tr><td>United States      </td><td>Americas</td><td>2002</td><td>77.310</td><td>287675526</td><td>39097.100</td></tr>\n",
              "\t<tr><td>Haiti              </td><td>Americas</td><td>2007</td><td>60.916</td><td>  8502814</td><td> 1201.637</td></tr>\n",
              "\t<tr><td>Nicaragua          </td><td>Americas</td><td>2007</td><td>72.899</td><td>  5675356</td><td> 2749.321</td></tr>\n",
              "\t<tr><td>Honduras           </td><td>Americas</td><td>2007</td><td>70.198</td><td>  7483763</td><td> 3548.331</td></tr>\n",
              "\t<tr><td>Bolivia            </td><td>Americas</td><td>2007</td><td>65.554</td><td>  9119152</td><td> 3822.137</td></tr>\n",
              "\t<tr><td>Paraguay           </td><td>Americas</td><td>2007</td><td>71.752</td><td>  6667147</td><td> 4172.838</td></tr>\n",
              "\t<tr><td>Guatemala          </td><td>Americas</td><td>2007</td><td>70.259</td><td> 12572928</td><td> 5186.050</td></tr>\n",
              "\t<tr><td>El Salvador        </td><td>Americas</td><td>2007</td><td>71.878</td><td>  6939688</td><td> 5728.354</td></tr>\n",
              "\t<tr><td>Dominican Republic </td><td>Americas</td><td>2007</td><td>72.235</td><td>  9319622</td><td> 6025.375</td></tr>\n",
              "\t<tr><td>Ecuador            </td><td>Americas</td><td>2007</td><td>74.994</td><td> 13755680</td><td> 6873.262</td></tr>\n",
              "\t<tr><td>Colombia           </td><td>Americas</td><td>2007</td><td>72.889</td><td> 44227550</td><td> 7006.580</td></tr>\n",
              "\t<tr><td>Jamaica            </td><td>Americas</td><td>2007</td><td>72.567</td><td>  2780132</td><td> 7320.880</td></tr>\n",
              "\t<tr><td>Peru               </td><td>Americas</td><td>2007</td><td>71.421</td><td> 28674757</td><td> 7408.906</td></tr>\n",
              "\t<tr><td>Cuba               </td><td>Americas</td><td>2007</td><td>78.273</td><td> 11416987</td><td> 8948.103</td></tr>\n",
              "\t<tr><td>Brazil             </td><td>Americas</td><td>2007</td><td>72.390</td><td>190010647</td><td> 9065.801</td></tr>\n",
              "\t<tr><td>Costa Rica         </td><td>Americas</td><td>2007</td><td>78.782</td><td>  4133884</td><td> 9645.061</td></tr>\n",
              "\t<tr><td>Panama             </td><td>Americas</td><td>2007</td><td>75.537</td><td>  3242173</td><td> 9809.186</td></tr>\n",
              "\t<tr><td>Uruguay            </td><td>Americas</td><td>2007</td><td>76.384</td><td>  3447496</td><td>10611.463</td></tr>\n",
              "\t<tr><td>Venezuela          </td><td>Americas</td><td>2007</td><td>73.747</td><td> 26084662</td><td>11415.806</td></tr>\n",
              "\t<tr><td>Mexico             </td><td>Americas</td><td>2007</td><td>76.195</td><td>108700891</td><td>11977.575</td></tr>\n",
              "\t<tr><td>Argentina          </td><td>Americas</td><td>2007</td><td>75.320</td><td> 40301927</td><td>12779.380</td></tr>\n",
              "\t<tr><td>Chile              </td><td>Americas</td><td>2007</td><td>78.553</td><td> 16284741</td><td>13171.639</td></tr>\n",
              "\t<tr><td>Trinidad and Tobago</td><td>Americas</td><td>2007</td><td>69.819</td><td>  1056608</td><td>18008.509</td></tr>\n",
              "\t<tr><td>Puerto Rico        </td><td>Americas</td><td>2007</td><td>78.746</td><td>  3942491</td><td>19328.709</td></tr>\n",
              "\t<tr><td>Canada             </td><td>Americas</td><td>2007</td><td>80.653</td><td> 33390141</td><td>36319.235</td></tr>\n",
              "\t<tr><td>United States      </td><td>Americas</td><td>2007</td><td>78.242</td><td>301139947</td><td>42951.653</td></tr>\n",
              "</tbody>\n",
              "</table>\n"
            ]
          },
          "metadata": {}
        }
      ]
    },
    {
      "cell_type": "markdown",
      "source": [
        "# 2. Select\n",
        "\n",
        "Return one or more columns of a tibble. (In comparison, `filter` returns rows that match some criterion.)"
      ],
      "metadata": {
        "id": "5hD-KTrU27e_"
      }
    },
    {
      "cell_type": "code",
      "source": [
        "# simplest use case\n",
        "gapminder %>% select(year) %>% head"
      ],
      "metadata": {
        "id": "9JSb-4GLI-DQ",
        "colab": {
          "base_uri": "https://localhost:8080/",
          "height": 304
        },
        "outputId": "cd437158-18e0-4bee-bc90-22f357f89f94"
      },
      "execution_count": 14,
      "outputs": [
        {
          "output_type": "display_data",
          "data": {
            "text/plain": [
              "  year\n",
              "1 1952\n",
              "2 1957\n",
              "3 1962\n",
              "4 1967\n",
              "5 1972\n",
              "6 1977"
            ],
            "text/latex": "A tibble: 6 × 1\n\\begin{tabular}{l}\n year\\\\\n <int>\\\\\n\\hline\n\t 1952\\\\\n\t 1957\\\\\n\t 1962\\\\\n\t 1967\\\\\n\t 1972\\\\\n\t 1977\\\\\n\\end{tabular}\n",
            "text/markdown": "\nA tibble: 6 × 1\n\n| year &lt;int&gt; |\n|---|\n| 1952 |\n| 1957 |\n| 1962 |\n| 1967 |\n| 1972 |\n| 1977 |\n\n",
            "text/html": [
              "<table class=\"dataframe\">\n",
              "<caption>A tibble: 6 × 1</caption>\n",
              "<thead>\n",
              "\t<tr><th scope=col>year</th></tr>\n",
              "\t<tr><th scope=col>&lt;int&gt;</th></tr>\n",
              "</thead>\n",
              "<tbody>\n",
              "\t<tr><td>1952</td></tr>\n",
              "\t<tr><td>1957</td></tr>\n",
              "\t<tr><td>1962</td></tr>\n",
              "\t<tr><td>1967</td></tr>\n",
              "\t<tr><td>1972</td></tr>\n",
              "\t<tr><td>1977</td></tr>\n",
              "</tbody>\n",
              "</table>\n"
            ]
          },
          "metadata": {}
        }
      ]
    },
    {
      "cell_type": "code",
      "source": [
        "# we can use vector-like notation to select multiple columns\n",
        "gapminder %>% select(continent:pop) %>% head\n",
        "\n",
        "# or just list them separated by commas\n",
        "gapminder %>% select(pop, country, lifeExp) %>% head\n",
        "\n",
        "# select based on logical conditions\n",
        "# ends_with and starts_with \n",
        "# can be useful for \"wide\" data sets\n",
        "gapminder %>% select(starts_with(\"co\")) %>% head\n",
        "\n",
        "# select columns by a specific type\n",
        "# is.factor, is.integer, is.double, and is.character\n",
        "# can come in handy here!\n",
        "gapminder %>% select(where(is.factor)) %>% head"
      ],
      "metadata": {
        "id": "edllsh5xJigs",
        "colab": {
          "base_uri": "https://localhost:8080/",
          "height": 1000
        },
        "outputId": "6f445c2e-c791-4feb-b4a2-9265baa19304"
      },
      "execution_count": 19,
      "outputs": [
        {
          "output_type": "display_data",
          "data": {
            "text/plain": [
              "  continent year lifeExp pop     \n",
              "1 Asia      1952 28.801   8425333\n",
              "2 Asia      1957 30.332   9240934\n",
              "3 Asia      1962 31.997  10267083\n",
              "4 Asia      1967 34.020  11537966\n",
              "5 Asia      1972 36.088  13079460\n",
              "6 Asia      1977 38.438  14880372"
            ],
            "text/latex": "A tibble: 6 × 4\n\\begin{tabular}{llll}\n continent & year & lifeExp & pop\\\\\n <fct> & <int> & <dbl> & <int>\\\\\n\\hline\n\t Asia & 1952 & 28.801 &  8425333\\\\\n\t Asia & 1957 & 30.332 &  9240934\\\\\n\t Asia & 1962 & 31.997 & 10267083\\\\\n\t Asia & 1967 & 34.020 & 11537966\\\\\n\t Asia & 1972 & 36.088 & 13079460\\\\\n\t Asia & 1977 & 38.438 & 14880372\\\\\n\\end{tabular}\n",
            "text/markdown": "\nA tibble: 6 × 4\n\n| continent &lt;fct&gt; | year &lt;int&gt; | lifeExp &lt;dbl&gt; | pop &lt;int&gt; |\n|---|---|---|---|\n| Asia | 1952 | 28.801 |  8425333 |\n| Asia | 1957 | 30.332 |  9240934 |\n| Asia | 1962 | 31.997 | 10267083 |\n| Asia | 1967 | 34.020 | 11537966 |\n| Asia | 1972 | 36.088 | 13079460 |\n| Asia | 1977 | 38.438 | 14880372 |\n\n",
            "text/html": [
              "<table class=\"dataframe\">\n",
              "<caption>A tibble: 6 × 4</caption>\n",
              "<thead>\n",
              "\t<tr><th scope=col>continent</th><th scope=col>year</th><th scope=col>lifeExp</th><th scope=col>pop</th></tr>\n",
              "\t<tr><th scope=col>&lt;fct&gt;</th><th scope=col>&lt;int&gt;</th><th scope=col>&lt;dbl&gt;</th><th scope=col>&lt;int&gt;</th></tr>\n",
              "</thead>\n",
              "<tbody>\n",
              "\t<tr><td>Asia</td><td>1952</td><td>28.801</td><td> 8425333</td></tr>\n",
              "\t<tr><td>Asia</td><td>1957</td><td>30.332</td><td> 9240934</td></tr>\n",
              "\t<tr><td>Asia</td><td>1962</td><td>31.997</td><td>10267083</td></tr>\n",
              "\t<tr><td>Asia</td><td>1967</td><td>34.020</td><td>11537966</td></tr>\n",
              "\t<tr><td>Asia</td><td>1972</td><td>36.088</td><td>13079460</td></tr>\n",
              "\t<tr><td>Asia</td><td>1977</td><td>38.438</td><td>14880372</td></tr>\n",
              "</tbody>\n",
              "</table>\n"
            ]
          },
          "metadata": {}
        },
        {
          "output_type": "display_data",
          "data": {
            "text/plain": [
              "  pop      country     lifeExp\n",
              "1  8425333 Afghanistan 28.801 \n",
              "2  9240934 Afghanistan 30.332 \n",
              "3 10267083 Afghanistan 31.997 \n",
              "4 11537966 Afghanistan 34.020 \n",
              "5 13079460 Afghanistan 36.088 \n",
              "6 14880372 Afghanistan 38.438 "
            ],
            "text/latex": "A tibble: 6 × 3\n\\begin{tabular}{lll}\n pop & country & lifeExp\\\\\n <int> & <fct> & <dbl>\\\\\n\\hline\n\t  8425333 & Afghanistan & 28.801\\\\\n\t  9240934 & Afghanistan & 30.332\\\\\n\t 10267083 & Afghanistan & 31.997\\\\\n\t 11537966 & Afghanistan & 34.020\\\\\n\t 13079460 & Afghanistan & 36.088\\\\\n\t 14880372 & Afghanistan & 38.438\\\\\n\\end{tabular}\n",
            "text/markdown": "\nA tibble: 6 × 3\n\n| pop &lt;int&gt; | country &lt;fct&gt; | lifeExp &lt;dbl&gt; |\n|---|---|---|\n|  8425333 | Afghanistan | 28.801 |\n|  9240934 | Afghanistan | 30.332 |\n| 10267083 | Afghanistan | 31.997 |\n| 11537966 | Afghanistan | 34.020 |\n| 13079460 | Afghanistan | 36.088 |\n| 14880372 | Afghanistan | 38.438 |\n\n",
            "text/html": [
              "<table class=\"dataframe\">\n",
              "<caption>A tibble: 6 × 3</caption>\n",
              "<thead>\n",
              "\t<tr><th scope=col>pop</th><th scope=col>country</th><th scope=col>lifeExp</th></tr>\n",
              "\t<tr><th scope=col>&lt;int&gt;</th><th scope=col>&lt;fct&gt;</th><th scope=col>&lt;dbl&gt;</th></tr>\n",
              "</thead>\n",
              "<tbody>\n",
              "\t<tr><td> 8425333</td><td>Afghanistan</td><td>28.801</td></tr>\n",
              "\t<tr><td> 9240934</td><td>Afghanistan</td><td>30.332</td></tr>\n",
              "\t<tr><td>10267083</td><td>Afghanistan</td><td>31.997</td></tr>\n",
              "\t<tr><td>11537966</td><td>Afghanistan</td><td>34.020</td></tr>\n",
              "\t<tr><td>13079460</td><td>Afghanistan</td><td>36.088</td></tr>\n",
              "\t<tr><td>14880372</td><td>Afghanistan</td><td>38.438</td></tr>\n",
              "</tbody>\n",
              "</table>\n"
            ]
          },
          "metadata": {}
        },
        {
          "output_type": "display_data",
          "data": {
            "text/plain": [
              "  country     continent\n",
              "1 Afghanistan Asia     \n",
              "2 Afghanistan Asia     \n",
              "3 Afghanistan Asia     \n",
              "4 Afghanistan Asia     \n",
              "5 Afghanistan Asia     \n",
              "6 Afghanistan Asia     "
            ],
            "text/latex": "A tibble: 6 × 2\n\\begin{tabular}{ll}\n country & continent\\\\\n <fct> & <fct>\\\\\n\\hline\n\t Afghanistan & Asia\\\\\n\t Afghanistan & Asia\\\\\n\t Afghanistan & Asia\\\\\n\t Afghanistan & Asia\\\\\n\t Afghanistan & Asia\\\\\n\t Afghanistan & Asia\\\\\n\\end{tabular}\n",
            "text/markdown": "\nA tibble: 6 × 2\n\n| country &lt;fct&gt; | continent &lt;fct&gt; |\n|---|---|\n| Afghanistan | Asia |\n| Afghanistan | Asia |\n| Afghanistan | Asia |\n| Afghanistan | Asia |\n| Afghanistan | Asia |\n| Afghanistan | Asia |\n\n",
            "text/html": [
              "<table class=\"dataframe\">\n",
              "<caption>A tibble: 6 × 2</caption>\n",
              "<thead>\n",
              "\t<tr><th scope=col>country</th><th scope=col>continent</th></tr>\n",
              "\t<tr><th scope=col>&lt;fct&gt;</th><th scope=col>&lt;fct&gt;</th></tr>\n",
              "</thead>\n",
              "<tbody>\n",
              "\t<tr><td>Afghanistan</td><td>Asia</td></tr>\n",
              "\t<tr><td>Afghanistan</td><td>Asia</td></tr>\n",
              "\t<tr><td>Afghanistan</td><td>Asia</td></tr>\n",
              "\t<tr><td>Afghanistan</td><td>Asia</td></tr>\n",
              "\t<tr><td>Afghanistan</td><td>Asia</td></tr>\n",
              "\t<tr><td>Afghanistan</td><td>Asia</td></tr>\n",
              "</tbody>\n",
              "</table>\n"
            ]
          },
          "metadata": {}
        },
        {
          "output_type": "display_data",
          "data": {
            "text/plain": [
              "  country     continent\n",
              "1 Afghanistan Asia     \n",
              "2 Afghanistan Asia     \n",
              "3 Afghanistan Asia     \n",
              "4 Afghanistan Asia     \n",
              "5 Afghanistan Asia     \n",
              "6 Afghanistan Asia     "
            ],
            "text/latex": "A tibble: 6 × 2\n\\begin{tabular}{ll}\n country & continent\\\\\n <fct> & <fct>\\\\\n\\hline\n\t Afghanistan & Asia\\\\\n\t Afghanistan & Asia\\\\\n\t Afghanistan & Asia\\\\\n\t Afghanistan & Asia\\\\\n\t Afghanistan & Asia\\\\\n\t Afghanistan & Asia\\\\\n\\end{tabular}\n",
            "text/markdown": "\nA tibble: 6 × 2\n\n| country &lt;fct&gt; | continent &lt;fct&gt; |\n|---|---|\n| Afghanistan | Asia |\n| Afghanistan | Asia |\n| Afghanistan | Asia |\n| Afghanistan | Asia |\n| Afghanistan | Asia |\n| Afghanistan | Asia |\n\n",
            "text/html": [
              "<table class=\"dataframe\">\n",
              "<caption>A tibble: 6 × 2</caption>\n",
              "<thead>\n",
              "\t<tr><th scope=col>country</th><th scope=col>continent</th></tr>\n",
              "\t<tr><th scope=col>&lt;fct&gt;</th><th scope=col>&lt;fct&gt;</th></tr>\n",
              "</thead>\n",
              "<tbody>\n",
              "\t<tr><td>Afghanistan</td><td>Asia</td></tr>\n",
              "\t<tr><td>Afghanistan</td><td>Asia</td></tr>\n",
              "\t<tr><td>Afghanistan</td><td>Asia</td></tr>\n",
              "\t<tr><td>Afghanistan</td><td>Asia</td></tr>\n",
              "\t<tr><td>Afghanistan</td><td>Asia</td></tr>\n",
              "\t<tr><td>Afghanistan</td><td>Asia</td></tr>\n",
              "</tbody>\n",
              "</table>\n"
            ]
          },
          "metadata": {}
        }
      ]
    },
    {
      "cell_type": "code",
      "source": [
        "# rename columns if you wish\n",
        "# syntax: new_name = old_name\n",
        "gapminder %>% select(life_expectancy = lifeExp) %>% head"
      ],
      "metadata": {
        "id": "7RVOXEw2Mv4G",
        "colab": {
          "base_uri": "https://localhost:8080/",
          "height": 286
        },
        "outputId": "9380d2ea-7f19-466e-9565-cb045f2f610a"
      },
      "execution_count": 20,
      "outputs": [
        {
          "output_type": "display_data",
          "data": {
            "text/plain": [
              "  life_expectancy\n",
              "1 28.801         \n",
              "2 30.332         \n",
              "3 31.997         \n",
              "4 34.020         \n",
              "5 36.088         \n",
              "6 38.438         "
            ],
            "text/latex": "A tibble: 6 × 1\n\\begin{tabular}{l}\n life\\_expectancy\\\\\n <dbl>\\\\\n\\hline\n\t 28.801\\\\\n\t 30.332\\\\\n\t 31.997\\\\\n\t 34.020\\\\\n\t 36.088\\\\\n\t 38.438\\\\\n\\end{tabular}\n",
            "text/markdown": "\nA tibble: 6 × 1\n\n| life_expectancy &lt;dbl&gt; |\n|---|\n| 28.801 |\n| 30.332 |\n| 31.997 |\n| 34.020 |\n| 36.088 |\n| 38.438 |\n\n",
            "text/html": [
              "<table class=\"dataframe\">\n",
              "<caption>A tibble: 6 × 1</caption>\n",
              "<thead>\n",
              "\t<tr><th scope=col>life_expectancy</th></tr>\n",
              "\t<tr><th scope=col>&lt;dbl&gt;</th></tr>\n",
              "</thead>\n",
              "<tbody>\n",
              "\t<tr><td>28.801</td></tr>\n",
              "\t<tr><td>30.332</td></tr>\n",
              "\t<tr><td>31.997</td></tr>\n",
              "\t<tr><td>34.020</td></tr>\n",
              "\t<tr><td>36.088</td></tr>\n",
              "\t<tr><td>38.438</td></tr>\n",
              "</tbody>\n",
              "</table>\n"
            ]
          },
          "metadata": {}
        }
      ]
    },
    {
      "cell_type": "markdown",
      "source": [
        "Exercise 5: Without explicitly naming any columns, select the columns that have type \"double.\""
      ],
      "metadata": {
        "id": "M8Lcye8-RsX4"
      }
    },
    {
      "cell_type": "code",
      "source": [
        "# your code here\n",
        "gapminder %>% select(where(is.double)) %>% head"
      ],
      "metadata": {
        "id": "wV6tTKzQSAah",
        "colab": {
          "base_uri": "https://localhost:8080/",
          "height": 286
        },
        "outputId": "6a313ff3-f861-478f-a118-bb9830a27350"
      },
      "execution_count": 49,
      "outputs": [
        {
          "output_type": "display_data",
          "data": {
            "text/plain": [
              "  lifeExp gdpPercap\n",
              "1 28.801  779.4453 \n",
              "2 30.332  820.8530 \n",
              "3 31.997  853.1007 \n",
              "4 34.020  836.1971 \n",
              "5 36.088  739.9811 \n",
              "6 38.438  786.1134 "
            ],
            "text/latex": "A tibble: 6 × 2\n\\begin{tabular}{ll}\n lifeExp & gdpPercap\\\\\n <dbl> & <dbl>\\\\\n\\hline\n\t 28.801 & 779.4453\\\\\n\t 30.332 & 820.8530\\\\\n\t 31.997 & 853.1007\\\\\n\t 34.020 & 836.1971\\\\\n\t 36.088 & 739.9811\\\\\n\t 38.438 & 786.1134\\\\\n\\end{tabular}\n",
            "text/markdown": "\nA tibble: 6 × 2\n\n| lifeExp &lt;dbl&gt; | gdpPercap &lt;dbl&gt; |\n|---|---|\n| 28.801 | 779.4453 |\n| 30.332 | 820.8530 |\n| 31.997 | 853.1007 |\n| 34.020 | 836.1971 |\n| 36.088 | 739.9811 |\n| 38.438 | 786.1134 |\n\n",
            "text/html": [
              "<table class=\"dataframe\">\n",
              "<caption>A tibble: 6 × 2</caption>\n",
              "<thead>\n",
              "\t<tr><th scope=col>lifeExp</th><th scope=col>gdpPercap</th></tr>\n",
              "\t<tr><th scope=col>&lt;dbl&gt;</th><th scope=col>&lt;dbl&gt;</th></tr>\n",
              "</thead>\n",
              "<tbody>\n",
              "\t<tr><td>28.801</td><td>779.4453</td></tr>\n",
              "\t<tr><td>30.332</td><td>820.8530</td></tr>\n",
              "\t<tr><td>31.997</td><td>853.1007</td></tr>\n",
              "\t<tr><td>34.020</td><td>836.1971</td></tr>\n",
              "\t<tr><td>36.088</td><td>739.9811</td></tr>\n",
              "\t<tr><td>38.438</td><td>786.1134</td></tr>\n",
              "</tbody>\n",
              "</table>\n"
            ]
          },
          "metadata": {}
        }
      ]
    },
    {
      "cell_type": "markdown",
      "source": [
        "# 3. Mutate\n",
        "\n",
        "Apply a function to a column to create a new column."
      ],
      "metadata": {
        "id": "yMN16H2GM4jY"
      }
    },
    {
      "cell_type": "code",
      "source": [
        "# I want to read population in the millions\n",
        "gapminder %>% arrange(desc(pop)) %>% mutate(pop_in_millions = pop / 1000000) %>% head\n",
        "\n",
        "# convert years to French Republican calendar (lol)\n",
        "gapminder %>% sample_n(7) %>% mutate(new_calendar_year = year - 1792) %>% \n",
        "  select(country, ends_with(\"year\"))"
      ],
      "metadata": {
        "id": "6bib-Bq3Jte7",
        "colab": {
          "base_uri": "https://localhost:8080/",
          "height": 587
        },
        "outputId": "af52cd7c-d042-41a9-9e2f-0c3e4bee0275"
      },
      "execution_count": 26,
      "outputs": [
        {
          "output_type": "display_data",
          "data": {
            "text/plain": [
              "  country continent year lifeExp pop        gdpPercap pop_in_millions\n",
              "1 China   Asia      2007 72.961  1318683096 4959.115  1318.683       \n",
              "2 China   Asia      2002 72.028  1280400000 3119.281  1280.400       \n",
              "3 China   Asia      1997 70.426  1230075000 2289.234  1230.075       \n",
              "4 China   Asia      1992 68.690  1164970000 1655.784  1164.970       \n",
              "5 India   Asia      2007 64.698  1110396331 2452.210  1110.396       \n",
              "6 China   Asia      1987 67.274  1084035000 1378.904  1084.035       "
            ],
            "text/latex": "A tibble: 6 × 7\n\\begin{tabular}{lllllll}\n country & continent & year & lifeExp & pop & gdpPercap & pop\\_in\\_millions\\\\\n <fct> & <fct> & <int> & <dbl> & <int> & <dbl> & <dbl>\\\\\n\\hline\n\t China & Asia & 2007 & 72.961 & 1318683096 & 4959.115 & 1318.683\\\\\n\t China & Asia & 2002 & 72.028 & 1280400000 & 3119.281 & 1280.400\\\\\n\t China & Asia & 1997 & 70.426 & 1230075000 & 2289.234 & 1230.075\\\\\n\t China & Asia & 1992 & 68.690 & 1164970000 & 1655.784 & 1164.970\\\\\n\t India & Asia & 2007 & 64.698 & 1110396331 & 2452.210 & 1110.396\\\\\n\t China & Asia & 1987 & 67.274 & 1084035000 & 1378.904 & 1084.035\\\\\n\\end{tabular}\n",
            "text/markdown": "\nA tibble: 6 × 7\n\n| country &lt;fct&gt; | continent &lt;fct&gt; | year &lt;int&gt; | lifeExp &lt;dbl&gt; | pop &lt;int&gt; | gdpPercap &lt;dbl&gt; | pop_in_millions &lt;dbl&gt; |\n|---|---|---|---|---|---|---|\n| China | Asia | 2007 | 72.961 | 1318683096 | 4959.115 | 1318.683 |\n| China | Asia | 2002 | 72.028 | 1280400000 | 3119.281 | 1280.400 |\n| China | Asia | 1997 | 70.426 | 1230075000 | 2289.234 | 1230.075 |\n| China | Asia | 1992 | 68.690 | 1164970000 | 1655.784 | 1164.970 |\n| India | Asia | 2007 | 64.698 | 1110396331 | 2452.210 | 1110.396 |\n| China | Asia | 1987 | 67.274 | 1084035000 | 1378.904 | 1084.035 |\n\n",
            "text/html": [
              "<table class=\"dataframe\">\n",
              "<caption>A tibble: 6 × 7</caption>\n",
              "<thead>\n",
              "\t<tr><th scope=col>country</th><th scope=col>continent</th><th scope=col>year</th><th scope=col>lifeExp</th><th scope=col>pop</th><th scope=col>gdpPercap</th><th scope=col>pop_in_millions</th></tr>\n",
              "\t<tr><th scope=col>&lt;fct&gt;</th><th scope=col>&lt;fct&gt;</th><th scope=col>&lt;int&gt;</th><th scope=col>&lt;dbl&gt;</th><th scope=col>&lt;int&gt;</th><th scope=col>&lt;dbl&gt;</th><th scope=col>&lt;dbl&gt;</th></tr>\n",
              "</thead>\n",
              "<tbody>\n",
              "\t<tr><td>China</td><td>Asia</td><td>2007</td><td>72.961</td><td>1318683096</td><td>4959.115</td><td>1318.683</td></tr>\n",
              "\t<tr><td>China</td><td>Asia</td><td>2002</td><td>72.028</td><td>1280400000</td><td>3119.281</td><td>1280.400</td></tr>\n",
              "\t<tr><td>China</td><td>Asia</td><td>1997</td><td>70.426</td><td>1230075000</td><td>2289.234</td><td>1230.075</td></tr>\n",
              "\t<tr><td>China</td><td>Asia</td><td>1992</td><td>68.690</td><td>1164970000</td><td>1655.784</td><td>1164.970</td></tr>\n",
              "\t<tr><td>India</td><td>Asia</td><td>2007</td><td>64.698</td><td>1110396331</td><td>2452.210</td><td>1110.396</td></tr>\n",
              "\t<tr><td>China</td><td>Asia</td><td>1987</td><td>67.274</td><td>1084035000</td><td>1378.904</td><td>1084.035</td></tr>\n",
              "</tbody>\n",
              "</table>\n"
            ]
          },
          "metadata": {}
        },
        {
          "output_type": "display_data",
          "data": {
            "text/plain": [
              "  country     year new_calendar_year\n",
              "1 Cameroon    1952 160              \n",
              "2 Slovenia    1967 175              \n",
              "3 Syria       1987 195              \n",
              "4 Puerto Rico 1982 190              \n",
              "5 Senegal     1987 195              \n",
              "6 Colombia    1997 205              \n",
              "7 Chad        1957 165              "
            ],
            "text/latex": "A tibble: 7 × 3\n\\begin{tabular}{lll}\n country & year & new\\_calendar\\_year\\\\\n <fct> & <int> & <dbl>\\\\\n\\hline\n\t Cameroon    & 1952 & 160\\\\\n\t Slovenia    & 1967 & 175\\\\\n\t Syria       & 1987 & 195\\\\\n\t Puerto Rico & 1982 & 190\\\\\n\t Senegal     & 1987 & 195\\\\\n\t Colombia    & 1997 & 205\\\\\n\t Chad        & 1957 & 165\\\\\n\\end{tabular}\n",
            "text/markdown": "\nA tibble: 7 × 3\n\n| country &lt;fct&gt; | year &lt;int&gt; | new_calendar_year &lt;dbl&gt; |\n|---|---|---|\n| Cameroon    | 1952 | 160 |\n| Slovenia    | 1967 | 175 |\n| Syria       | 1987 | 195 |\n| Puerto Rico | 1982 | 190 |\n| Senegal     | 1987 | 195 |\n| Colombia    | 1997 | 205 |\n| Chad        | 1957 | 165 |\n\n",
            "text/html": [
              "<table class=\"dataframe\">\n",
              "<caption>A tibble: 7 × 3</caption>\n",
              "<thead>\n",
              "\t<tr><th scope=col>country</th><th scope=col>year</th><th scope=col>new_calendar_year</th></tr>\n",
              "\t<tr><th scope=col>&lt;fct&gt;</th><th scope=col>&lt;int&gt;</th><th scope=col>&lt;dbl&gt;</th></tr>\n",
              "</thead>\n",
              "<tbody>\n",
              "\t<tr><td>Cameroon   </td><td>1952</td><td>160</td></tr>\n",
              "\t<tr><td>Slovenia   </td><td>1967</td><td>175</td></tr>\n",
              "\t<tr><td>Syria      </td><td>1987</td><td>195</td></tr>\n",
              "\t<tr><td>Puerto Rico</td><td>1982</td><td>190</td></tr>\n",
              "\t<tr><td>Senegal    </td><td>1987</td><td>195</td></tr>\n",
              "\t<tr><td>Colombia   </td><td>1997</td><td>205</td></tr>\n",
              "\t<tr><td>Chad       </td><td>1957</td><td>165</td></tr>\n",
              "</tbody>\n",
              "</table>\n"
            ]
          },
          "metadata": {}
        }
      ]
    },
    {
      "cell_type": "code",
      "source": [
        "# you don't have to explicitly rename the column yourself\n",
        "# (though it's generally a good idea to give meaningful names)\n",
        "gapminder %>% mutate(lifeExp * 12) %>% head"
      ],
      "metadata": {
        "id": "-UBJFK1JP-AD",
        "colab": {
          "base_uri": "https://localhost:8080/",
          "height": 286
        },
        "outputId": "3578a70b-8371-422a-9bae-ef48894680ff"
      },
      "execution_count": 27,
      "outputs": [
        {
          "output_type": "display_data",
          "data": {
            "text/plain": [
              "  country     continent year lifeExp pop      gdpPercap lifeExp * 12\n",
              "1 Afghanistan Asia      1952 28.801   8425333 779.4453  345.612     \n",
              "2 Afghanistan Asia      1957 30.332   9240934 820.8530  363.984     \n",
              "3 Afghanistan Asia      1962 31.997  10267083 853.1007  383.964     \n",
              "4 Afghanistan Asia      1967 34.020  11537966 836.1971  408.240     \n",
              "5 Afghanistan Asia      1972 36.088  13079460 739.9811  433.056     \n",
              "6 Afghanistan Asia      1977 38.438  14880372 786.1134  461.256     "
            ],
            "text/latex": "A tibble: 6 × 7\n\\begin{tabular}{lllllll}\n country & continent & year & lifeExp & pop & gdpPercap & lifeExp * 12\\\\\n <fct> & <fct> & <int> & <dbl> & <int> & <dbl> & <dbl>\\\\\n\\hline\n\t Afghanistan & Asia & 1952 & 28.801 &  8425333 & 779.4453 & 345.612\\\\\n\t Afghanistan & Asia & 1957 & 30.332 &  9240934 & 820.8530 & 363.984\\\\\n\t Afghanistan & Asia & 1962 & 31.997 & 10267083 & 853.1007 & 383.964\\\\\n\t Afghanistan & Asia & 1967 & 34.020 & 11537966 & 836.1971 & 408.240\\\\\n\t Afghanistan & Asia & 1972 & 36.088 & 13079460 & 739.9811 & 433.056\\\\\n\t Afghanistan & Asia & 1977 & 38.438 & 14880372 & 786.1134 & 461.256\\\\\n\\end{tabular}\n",
            "text/markdown": "\nA tibble: 6 × 7\n\n| country &lt;fct&gt; | continent &lt;fct&gt; | year &lt;int&gt; | lifeExp &lt;dbl&gt; | pop &lt;int&gt; | gdpPercap &lt;dbl&gt; | lifeExp * 12 &lt;dbl&gt; |\n|---|---|---|---|---|---|---|\n| Afghanistan | Asia | 1952 | 28.801 |  8425333 | 779.4453 | 345.612 |\n| Afghanistan | Asia | 1957 | 30.332 |  9240934 | 820.8530 | 363.984 |\n| Afghanistan | Asia | 1962 | 31.997 | 10267083 | 853.1007 | 383.964 |\n| Afghanistan | Asia | 1967 | 34.020 | 11537966 | 836.1971 | 408.240 |\n| Afghanistan | Asia | 1972 | 36.088 | 13079460 | 739.9811 | 433.056 |\n| Afghanistan | Asia | 1977 | 38.438 | 14880372 | 786.1134 | 461.256 |\n\n",
            "text/html": [
              "<table class=\"dataframe\">\n",
              "<caption>A tibble: 6 × 7</caption>\n",
              "<thead>\n",
              "\t<tr><th scope=col>country</th><th scope=col>continent</th><th scope=col>year</th><th scope=col>lifeExp</th><th scope=col>pop</th><th scope=col>gdpPercap</th><th scope=col>lifeExp * 12</th></tr>\n",
              "\t<tr><th scope=col>&lt;fct&gt;</th><th scope=col>&lt;fct&gt;</th><th scope=col>&lt;int&gt;</th><th scope=col>&lt;dbl&gt;</th><th scope=col>&lt;int&gt;</th><th scope=col>&lt;dbl&gt;</th><th scope=col>&lt;dbl&gt;</th></tr>\n",
              "</thead>\n",
              "<tbody>\n",
              "\t<tr><td>Afghanistan</td><td>Asia</td><td>1952</td><td>28.801</td><td> 8425333</td><td>779.4453</td><td>345.612</td></tr>\n",
              "\t<tr><td>Afghanistan</td><td>Asia</td><td>1957</td><td>30.332</td><td> 9240934</td><td>820.8530</td><td>363.984</td></tr>\n",
              "\t<tr><td>Afghanistan</td><td>Asia</td><td>1962</td><td>31.997</td><td>10267083</td><td>853.1007</td><td>383.964</td></tr>\n",
              "\t<tr><td>Afghanistan</td><td>Asia</td><td>1967</td><td>34.020</td><td>11537966</td><td>836.1971</td><td>408.240</td></tr>\n",
              "\t<tr><td>Afghanistan</td><td>Asia</td><td>1972</td><td>36.088</td><td>13079460</td><td>739.9811</td><td>433.056</td></tr>\n",
              "\t<tr><td>Afghanistan</td><td>Asia</td><td>1977</td><td>38.438</td><td>14880372</td><td>786.1134</td><td>461.256</td></tr>\n",
              "</tbody>\n",
              "</table>\n"
            ]
          },
          "metadata": {}
        }
      ]
    },
    {
      "cell_type": "markdown",
      "source": [
        "Exercise 6: Create new columns corresponding to log-scaled versions of the decimal columns and return only these columns.\n",
        "\n",
        "Imaginary bonus points for compact notation."
      ],
      "metadata": {
        "id": "-h6XyeEOOzSD"
      }
    },
    {
      "cell_type": "code",
      "source": [
        "# your code here\n",
        "\n",
        "gapminder %>% mutate(log_life_exp = log(lifeExp), log_gdp_per_cap = log(gdpPercap)) %>% \n",
        "  select(starts_with(\"log\")) %>% head"
      ],
      "metadata": {
        "id": "8DKwr4aCPHUS",
        "colab": {
          "base_uri": "https://localhost:8080/",
          "height": 286
        },
        "outputId": "82258e7b-6c91-4f49-b3a1-611fc68a863f"
      },
      "execution_count": 48,
      "outputs": [
        {
          "output_type": "display_data",
          "data": {
            "text/plain": [
              "  log_life_exp log_gdp_per_cap\n",
              "1 3.360410     6.658583       \n",
              "2 3.412203     6.710344       \n",
              "3 3.465642     6.748878       \n",
              "4 3.526949     6.728864       \n",
              "5 3.585960     6.606625       \n",
              "6 3.649047     6.667101       "
            ],
            "text/latex": "A tibble: 6 × 2\n\\begin{tabular}{ll}\n log\\_life\\_exp & log\\_gdp\\_per\\_cap\\\\\n <dbl> & <dbl>\\\\\n\\hline\n\t 3.360410 & 6.658583\\\\\n\t 3.412203 & 6.710344\\\\\n\t 3.465642 & 6.748878\\\\\n\t 3.526949 & 6.728864\\\\\n\t 3.585960 & 6.606625\\\\\n\t 3.649047 & 6.667101\\\\\n\\end{tabular}\n",
            "text/markdown": "\nA tibble: 6 × 2\n\n| log_life_exp &lt;dbl&gt; | log_gdp_per_cap &lt;dbl&gt; |\n|---|---|\n| 3.360410 | 6.658583 |\n| 3.412203 | 6.710344 |\n| 3.465642 | 6.748878 |\n| 3.526949 | 6.728864 |\n| 3.585960 | 6.606625 |\n| 3.649047 | 6.667101 |\n\n",
            "text/html": [
              "<table class=\"dataframe\">\n",
              "<caption>A tibble: 6 × 2</caption>\n",
              "<thead>\n",
              "\t<tr><th scope=col>log_life_exp</th><th scope=col>log_gdp_per_cap</th></tr>\n",
              "\t<tr><th scope=col>&lt;dbl&gt;</th><th scope=col>&lt;dbl&gt;</th></tr>\n",
              "</thead>\n",
              "<tbody>\n",
              "\t<tr><td>3.360410</td><td>6.658583</td></tr>\n",
              "\t<tr><td>3.412203</td><td>6.710344</td></tr>\n",
              "\t<tr><td>3.465642</td><td>6.748878</td></tr>\n",
              "\t<tr><td>3.526949</td><td>6.728864</td></tr>\n",
              "\t<tr><td>3.585960</td><td>6.606625</td></tr>\n",
              "\t<tr><td>3.649047</td><td>6.667101</td></tr>\n",
              "</tbody>\n",
              "</table>\n"
            ]
          },
          "metadata": {}
        }
      ]
    },
    {
      "cell_type": "code",
      "source": [
        "gapminder %>% mutate(across(where(is.double), log)) %>%\n",
        "  select(where(is.double)) %>% head"
      ],
      "metadata": {
        "colab": {
          "base_uri": "https://localhost:8080/",
          "height": 286
        },
        "id": "iyHKxkFz5GaL",
        "outputId": "059e05ef-85c1-45bf-c9e8-f54090e711ff"
      },
      "execution_count": 36,
      "outputs": [
        {
          "output_type": "display_data",
          "data": {
            "text/plain": [
              "  lifeExp  gdpPercap\n",
              "1 3.360410 6.658583 \n",
              "2 3.412203 6.710344 \n",
              "3 3.465642 6.748878 \n",
              "4 3.526949 6.728864 \n",
              "5 3.585960 6.606625 \n",
              "6 3.649047 6.667101 "
            ],
            "text/latex": "A tibble: 6 × 2\n\\begin{tabular}{ll}\n lifeExp & gdpPercap\\\\\n <dbl> & <dbl>\\\\\n\\hline\n\t 3.360410 & 6.658583\\\\\n\t 3.412203 & 6.710344\\\\\n\t 3.465642 & 6.748878\\\\\n\t 3.526949 & 6.728864\\\\\n\t 3.585960 & 6.606625\\\\\n\t 3.649047 & 6.667101\\\\\n\\end{tabular}\n",
            "text/markdown": "\nA tibble: 6 × 2\n\n| lifeExp &lt;dbl&gt; | gdpPercap &lt;dbl&gt; |\n|---|---|\n| 3.360410 | 6.658583 |\n| 3.412203 | 6.710344 |\n| 3.465642 | 6.748878 |\n| 3.526949 | 6.728864 |\n| 3.585960 | 6.606625 |\n| 3.649047 | 6.667101 |\n\n",
            "text/html": [
              "<table class=\"dataframe\">\n",
              "<caption>A tibble: 6 × 2</caption>\n",
              "<thead>\n",
              "\t<tr><th scope=col>lifeExp</th><th scope=col>gdpPercap</th></tr>\n",
              "\t<tr><th scope=col>&lt;dbl&gt;</th><th scope=col>&lt;dbl&gt;</th></tr>\n",
              "</thead>\n",
              "<tbody>\n",
              "\t<tr><td>3.360410</td><td>6.658583</td></tr>\n",
              "\t<tr><td>3.412203</td><td>6.710344</td></tr>\n",
              "\t<tr><td>3.465642</td><td>6.748878</td></tr>\n",
              "\t<tr><td>3.526949</td><td>6.728864</td></tr>\n",
              "\t<tr><td>3.585960</td><td>6.606625</td></tr>\n",
              "\t<tr><td>3.649047</td><td>6.667101</td></tr>\n",
              "</tbody>\n",
              "</table>\n"
            ]
          },
          "metadata": {}
        }
      ]
    },
    {
      "cell_type": "code",
      "source": [
        "# there's a flashy way of applying mutations across multiple columns\n",
        "# this takes the square root of each of the numeric columns\n",
        "gapminder %>% mutate(across(where(is.numeric), sqrt)) %>% head"
      ],
      "metadata": {
        "id": "s6cLKPGyPh-5",
        "colab": {
          "base_uri": "https://localhost:8080/",
          "height": 286
        },
        "outputId": "544db47d-ec21-48ce-a1c1-a961d487d6f0"
      },
      "execution_count": 37,
      "outputs": [
        {
          "output_type": "display_data",
          "data": {
            "text/plain": [
              "  country     continent year     lifeExp  pop      gdpPercap\n",
              "1 Afghanistan Asia      44.18144 5.366656 2902.642 27.91855 \n",
              "2 Afghanistan Asia      44.23799 5.507450 3039.890 28.65053 \n",
              "3 Afghanistan Asia      44.29447 5.656589 3204.229 29.20789 \n",
              "4 Afghanistan Asia      44.35087 5.832667 3396.758 28.91707 \n",
              "5 Afghanistan Asia      44.40721 6.007329 3616.554 27.20259 \n",
              "6 Afghanistan Asia      44.46347 6.199839 3857.509 28.03771 "
            ],
            "text/latex": "A tibble: 6 × 6\n\\begin{tabular}{llllll}\n country & continent & year & lifeExp & pop & gdpPercap\\\\\n <fct> & <fct> & <dbl> & <dbl> & <dbl> & <dbl>\\\\\n\\hline\n\t Afghanistan & Asia & 44.18144 & 5.366656 & 2902.642 & 27.91855\\\\\n\t Afghanistan & Asia & 44.23799 & 5.507450 & 3039.890 & 28.65053\\\\\n\t Afghanistan & Asia & 44.29447 & 5.656589 & 3204.229 & 29.20789\\\\\n\t Afghanistan & Asia & 44.35087 & 5.832667 & 3396.758 & 28.91707\\\\\n\t Afghanistan & Asia & 44.40721 & 6.007329 & 3616.554 & 27.20259\\\\\n\t Afghanistan & Asia & 44.46347 & 6.199839 & 3857.509 & 28.03771\\\\\n\\end{tabular}\n",
            "text/markdown": "\nA tibble: 6 × 6\n\n| country &lt;fct&gt; | continent &lt;fct&gt; | year &lt;dbl&gt; | lifeExp &lt;dbl&gt; | pop &lt;dbl&gt; | gdpPercap &lt;dbl&gt; |\n|---|---|---|---|---|---|\n| Afghanistan | Asia | 44.18144 | 5.366656 | 2902.642 | 27.91855 |\n| Afghanistan | Asia | 44.23799 | 5.507450 | 3039.890 | 28.65053 |\n| Afghanistan | Asia | 44.29447 | 5.656589 | 3204.229 | 29.20789 |\n| Afghanistan | Asia | 44.35087 | 5.832667 | 3396.758 | 28.91707 |\n| Afghanistan | Asia | 44.40721 | 6.007329 | 3616.554 | 27.20259 |\n| Afghanistan | Asia | 44.46347 | 6.199839 | 3857.509 | 28.03771 |\n\n",
            "text/html": [
              "<table class=\"dataframe\">\n",
              "<caption>A tibble: 6 × 6</caption>\n",
              "<thead>\n",
              "\t<tr><th scope=col>country</th><th scope=col>continent</th><th scope=col>year</th><th scope=col>lifeExp</th><th scope=col>pop</th><th scope=col>gdpPercap</th></tr>\n",
              "\t<tr><th scope=col>&lt;fct&gt;</th><th scope=col>&lt;fct&gt;</th><th scope=col>&lt;dbl&gt;</th><th scope=col>&lt;dbl&gt;</th><th scope=col>&lt;dbl&gt;</th><th scope=col>&lt;dbl&gt;</th></tr>\n",
              "</thead>\n",
              "<tbody>\n",
              "\t<tr><td>Afghanistan</td><td>Asia</td><td>44.18144</td><td>5.366656</td><td>2902.642</td><td>27.91855</td></tr>\n",
              "\t<tr><td>Afghanistan</td><td>Asia</td><td>44.23799</td><td>5.507450</td><td>3039.890</td><td>28.65053</td></tr>\n",
              "\t<tr><td>Afghanistan</td><td>Asia</td><td>44.29447</td><td>5.656589</td><td>3204.229</td><td>29.20789</td></tr>\n",
              "\t<tr><td>Afghanistan</td><td>Asia</td><td>44.35087</td><td>5.832667</td><td>3396.758</td><td>28.91707</td></tr>\n",
              "\t<tr><td>Afghanistan</td><td>Asia</td><td>44.40721</td><td>6.007329</td><td>3616.554</td><td>27.20259</td></tr>\n",
              "\t<tr><td>Afghanistan</td><td>Asia</td><td>44.46347</td><td>6.199839</td><td>3857.509</td><td>28.03771</td></tr>\n",
              "</tbody>\n",
              "</table>\n"
            ]
          },
          "metadata": {}
        }
      ]
    },
    {
      "cell_type": "markdown",
      "source": [
        "# 4. Summarise\n",
        "\n",
        "Calculate a summary statistic of a tibble, returning one observation.\n",
        "\n",
        "When given grouped data (using the `group_by` function) we get one observation per group."
      ],
      "metadata": {
        "id": "qbTrnzY5SWGP"
      }
    },
    {
      "cell_type": "code",
      "source": [
        "# this is not particularly interesting, but hey\n",
        "gapminder %>% filter(continent == \"Asia\" & year == \"1977\") %>%\n",
        "  summarise(median_life_exp = median(lifeExp))"
      ],
      "metadata": {
        "id": "OrYDXjzISZwW",
        "colab": {
          "base_uri": "https://localhost:8080/",
          "height": 129
        },
        "outputId": "c2f3cadd-137f-402e-e539-3a08048119d3"
      },
      "execution_count": 38,
      "outputs": [
        {
          "output_type": "display_data",
          "data": {
            "text/plain": [
              "  median_life_exp\n",
              "1 60.765         "
            ],
            "text/latex": "A tibble: 1 × 1\n\\begin{tabular}{l}\n median\\_life\\_exp\\\\\n <dbl>\\\\\n\\hline\n\t 60.765\\\\\n\\end{tabular}\n",
            "text/markdown": "\nA tibble: 1 × 1\n\n| median_life_exp &lt;dbl&gt; |\n|---|\n| 60.765 |\n\n",
            "text/html": [
              "<table class=\"dataframe\">\n",
              "<caption>A tibble: 1 × 1</caption>\n",
              "<thead>\n",
              "\t<tr><th scope=col>median_life_exp</th></tr>\n",
              "\t<tr><th scope=col>&lt;dbl&gt;</th></tr>\n",
              "</thead>\n",
              "<tbody>\n",
              "\t<tr><td>60.765</td></tr>\n",
              "</tbody>\n",
              "</table>\n"
            ]
          },
          "metadata": {}
        }
      ]
    },
    {
      "cell_type": "code",
      "source": [
        "# grouping data makes things a bit more fun!\n",
        "# calculates the median life expectancy for countries in each continent\n",
        "gapminder %>% filter(year == \"1977\") %>% group_by(continent) %>%\n",
        "  summarise(median_life_exp = median(lifeExp))\n",
        "\n",
        "# can get multiple summary statistics for each group\n",
        "gapminder %>% filter(year == \"1977\") %>% group_by(continent) %>%\n",
        "  summarise(min = min(pop), med = median(pop), max = max(pop), mean_pop = mean(pop))"
      ],
      "metadata": {
        "id": "M2-7aCL0TB_k",
        "colab": {
          "base_uri": "https://localhost:8080/",
          "height": 493
        },
        "outputId": "cbd0362f-dd23-4134-dd1a-4d1ea824275b"
      },
      "execution_count": 40,
      "outputs": [
        {
          "output_type": "display_data",
          "data": {
            "text/plain": [
              "  continent median_life_exp\n",
              "1 Africa    49.2725        \n",
              "2 Americas  66.3530        \n",
              "3 Asia      60.7650        \n",
              "4 Europe    72.3350        \n",
              "5 Oceania   72.8550        "
            ],
            "text/latex": "A tibble: 5 × 2\n\\begin{tabular}{ll}\n continent & median\\_life\\_exp\\\\\n <fct> & <dbl>\\\\\n\\hline\n\t Africa   & 49.2725\\\\\n\t Americas & 66.3530\\\\\n\t Asia     & 60.7650\\\\\n\t Europe   & 72.3350\\\\\n\t Oceania  & 72.8550\\\\\n\\end{tabular}\n",
            "text/markdown": "\nA tibble: 5 × 2\n\n| continent &lt;fct&gt; | median_life_exp &lt;dbl&gt; |\n|---|---|\n| Africa   | 49.2725 |\n| Americas | 66.3530 |\n| Asia     | 60.7650 |\n| Europe   | 72.3350 |\n| Oceania  | 72.8550 |\n\n",
            "text/html": [
              "<table class=\"dataframe\">\n",
              "<caption>A tibble: 5 × 2</caption>\n",
              "<thead>\n",
              "\t<tr><th scope=col>continent</th><th scope=col>median_life_exp</th></tr>\n",
              "\t<tr><th scope=col>&lt;fct&gt;</th><th scope=col>&lt;dbl&gt;</th></tr>\n",
              "</thead>\n",
              "<tbody>\n",
              "\t<tr><td>Africa  </td><td>49.2725</td></tr>\n",
              "\t<tr><td>Americas</td><td>66.3530</td></tr>\n",
              "\t<tr><td>Asia    </td><td>60.7650</td></tr>\n",
              "\t<tr><td>Europe  </td><td>72.3350</td></tr>\n",
              "\t<tr><td>Oceania </td><td>72.8550</td></tr>\n",
              "</tbody>\n",
              "</table>\n"
            ]
          },
          "metadata": {}
        },
        {
          "output_type": "display_data",
          "data": {
            "text/plain": [
              "  continent min     med      max       mean_pop\n",
              "1 Africa      86796  4522666  62209173  8328097\n",
              "2 Americas  1039009  5302800 220239000 23122708\n",
              "3 Asia       297410 13933198 943455000 72257987\n",
              "4 Europe     221823  8741694  78160773 17238818\n",
              "5 Oceania   3164900  8619500  14074100  8619500"
            ],
            "text/latex": "A tibble: 5 × 5\n\\begin{tabular}{lllll}\n continent & min & med & max & mean\\_pop\\\\\n <fct> & <int> & <dbl> & <int> & <dbl>\\\\\n\\hline\n\t Africa   &   86796 &  4522666 &  62209173 &  8328097\\\\\n\t Americas & 1039009 &  5302800 & 220239000 & 23122708\\\\\n\t Asia     &  297410 & 13933198 & 943455000 & 72257987\\\\\n\t Europe   &  221823 &  8741694 &  78160773 & 17238818\\\\\n\t Oceania  & 3164900 &  8619500 &  14074100 &  8619500\\\\\n\\end{tabular}\n",
            "text/markdown": "\nA tibble: 5 × 5\n\n| continent &lt;fct&gt; | min &lt;int&gt; | med &lt;dbl&gt; | max &lt;int&gt; | mean_pop &lt;dbl&gt; |\n|---|---|---|---|---|\n| Africa   |   86796 |  4522666 |  62209173 |  8328097 |\n| Americas | 1039009 |  5302800 | 220239000 | 23122708 |\n| Asia     |  297410 | 13933198 | 943455000 | 72257987 |\n| Europe   |  221823 |  8741694 |  78160773 | 17238818 |\n| Oceania  | 3164900 |  8619500 |  14074100 |  8619500 |\n\n",
            "text/html": [
              "<table class=\"dataframe\">\n",
              "<caption>A tibble: 5 × 5</caption>\n",
              "<thead>\n",
              "\t<tr><th scope=col>continent</th><th scope=col>min</th><th scope=col>med</th><th scope=col>max</th><th scope=col>mean_pop</th></tr>\n",
              "\t<tr><th scope=col>&lt;fct&gt;</th><th scope=col>&lt;int&gt;</th><th scope=col>&lt;dbl&gt;</th><th scope=col>&lt;int&gt;</th><th scope=col>&lt;dbl&gt;</th></tr>\n",
              "</thead>\n",
              "<tbody>\n",
              "\t<tr><td>Africa  </td><td>  86796</td><td> 4522666</td><td> 62209173</td><td> 8328097</td></tr>\n",
              "\t<tr><td>Americas</td><td>1039009</td><td> 5302800</td><td>220239000</td><td>23122708</td></tr>\n",
              "\t<tr><td>Asia    </td><td> 297410</td><td>13933198</td><td>943455000</td><td>72257987</td></tr>\n",
              "\t<tr><td>Europe  </td><td> 221823</td><td> 8741694</td><td> 78160773</td><td>17238818</td></tr>\n",
              "\t<tr><td>Oceania </td><td>3164900</td><td> 8619500</td><td> 14074100</td><td> 8619500</td></tr>\n",
              "</tbody>\n",
              "</table>\n"
            ]
          },
          "metadata": {}
        }
      ]
    },
    {
      "cell_type": "code",
      "source": [
        "# we can count how many countries are in each continent for a given year\n",
        "gapminder %>% filter(year == \"2002\") %>% \n",
        "  group_by(continent) %>% summarise(n_countries = n())\n",
        "\n",
        "# basically equivalent to the following:\n",
        "# using basic R\n",
        "gapminder_2002 <- gapminder %>% filter(year == \"2002\")\n",
        "table(gapminder_2002$continent)"
      ],
      "metadata": {
        "id": "CiNfjXOmWHd8",
        "colab": {
          "base_uri": "https://localhost:8080/",
          "height": 310
        },
        "outputId": "5c9cf549-88b5-4d2a-8f25-eb9ff4e20655"
      },
      "execution_count": 41,
      "outputs": [
        {
          "output_type": "display_data",
          "data": {
            "text/plain": [
              "  continent n_countries\n",
              "1 Africa    52         \n",
              "2 Americas  25         \n",
              "3 Asia      33         \n",
              "4 Europe    30         \n",
              "5 Oceania    2         "
            ],
            "text/latex": "A tibble: 5 × 2\n\\begin{tabular}{ll}\n continent & n\\_countries\\\\\n <fct> & <int>\\\\\n\\hline\n\t Africa   & 52\\\\\n\t Americas & 25\\\\\n\t Asia     & 33\\\\\n\t Europe   & 30\\\\\n\t Oceania  &  2\\\\\n\\end{tabular}\n",
            "text/markdown": "\nA tibble: 5 × 2\n\n| continent &lt;fct&gt; | n_countries &lt;int&gt; |\n|---|---|\n| Africa   | 52 |\n| Americas | 25 |\n| Asia     | 33 |\n| Europe   | 30 |\n| Oceania  |  2 |\n\n",
            "text/html": [
              "<table class=\"dataframe\">\n",
              "<caption>A tibble: 5 × 2</caption>\n",
              "<thead>\n",
              "\t<tr><th scope=col>continent</th><th scope=col>n_countries</th></tr>\n",
              "\t<tr><th scope=col>&lt;fct&gt;</th><th scope=col>&lt;int&gt;</th></tr>\n",
              "</thead>\n",
              "<tbody>\n",
              "\t<tr><td>Africa  </td><td>52</td></tr>\n",
              "\t<tr><td>Americas</td><td>25</td></tr>\n",
              "\t<tr><td>Asia    </td><td>33</td></tr>\n",
              "\t<tr><td>Europe  </td><td>30</td></tr>\n",
              "\t<tr><td>Oceania </td><td> 2</td></tr>\n",
              "</tbody>\n",
              "</table>\n"
            ]
          },
          "metadata": {}
        },
        {
          "output_type": "display_data",
          "data": {
            "text/plain": [
              "\n",
              "  Africa Americas     Asia   Europe  Oceania \n",
              "      52       25       33       30        2 "
            ]
          },
          "metadata": {}
        }
      ]
    },
    {
      "cell_type": "code",
      "source": [
        "# group by multiple columns\n",
        "gapminder %>% filter(year > 1990) %>%\n",
        "  group_by(continent, year) %>% \n",
        "  summarise(med_life_exp = median(lifeExp))"
      ],
      "metadata": {
        "id": "jYoNMV6ZTWKa",
        "colab": {
          "base_uri": "https://localhost:8080/",
          "height": 762
        },
        "outputId": "c362cb28-3cd9-408a-b55d-060b119aaf85"
      },
      "execution_count": 42,
      "outputs": [
        {
          "output_type": "stream",
          "name": "stderr",
          "text": [
            "`summarise()` has grouped output by 'continent'. You can override using the `.groups` argument.\n",
            "\n"
          ]
        },
        {
          "output_type": "display_data",
          "data": {
            "text/plain": [
              "   continent year med_life_exp\n",
              "1  Africa    1992 52.4290     \n",
              "2  Africa    1997 52.7590     \n",
              "3  Africa    2002 51.2355     \n",
              "4  Africa    2007 52.9265     \n",
              "5  Americas  1992 69.8620     \n",
              "6  Americas  1997 72.1460     \n",
              "7  Americas  2002 72.0470     \n",
              "8  Americas  2007 72.8990     \n",
              "9  Asia      1992 68.6900     \n",
              "10 Asia      1997 70.2650     \n",
              "11 Asia      2002 71.0280     \n",
              "12 Asia      2007 72.3960     \n",
              "13 Europe    1992 75.4510     \n",
              "14 Europe    1997 76.1160     \n",
              "15 Europe    2002 77.5365     \n",
              "16 Europe    2007 78.6085     \n",
              "17 Oceania   1992 76.9450     \n",
              "18 Oceania   1997 78.1900     \n",
              "19 Oceania   2002 79.7400     \n",
              "20 Oceania   2007 80.7195     "
            ],
            "text/latex": "A grouped\\_df: 20 × 3\n\\begin{tabular}{lll}\n continent & year & med\\_life\\_exp\\\\\n <fct> & <int> & <dbl>\\\\\n\\hline\n\t Africa   & 1992 & 52.4290\\\\\n\t Africa   & 1997 & 52.7590\\\\\n\t Africa   & 2002 & 51.2355\\\\\n\t Africa   & 2007 & 52.9265\\\\\n\t Americas & 1992 & 69.8620\\\\\n\t Americas & 1997 & 72.1460\\\\\n\t Americas & 2002 & 72.0470\\\\\n\t Americas & 2007 & 72.8990\\\\\n\t Asia     & 1992 & 68.6900\\\\\n\t Asia     & 1997 & 70.2650\\\\\n\t Asia     & 2002 & 71.0280\\\\\n\t Asia     & 2007 & 72.3960\\\\\n\t Europe   & 1992 & 75.4510\\\\\n\t Europe   & 1997 & 76.1160\\\\\n\t Europe   & 2002 & 77.5365\\\\\n\t Europe   & 2007 & 78.6085\\\\\n\t Oceania  & 1992 & 76.9450\\\\\n\t Oceania  & 1997 & 78.1900\\\\\n\t Oceania  & 2002 & 79.7400\\\\\n\t Oceania  & 2007 & 80.7195\\\\\n\\end{tabular}\n",
            "text/markdown": "\nA grouped_df: 20 × 3\n\n| continent &lt;fct&gt; | year &lt;int&gt; | med_life_exp &lt;dbl&gt; |\n|---|---|---|\n| Africa   | 1992 | 52.4290 |\n| Africa   | 1997 | 52.7590 |\n| Africa   | 2002 | 51.2355 |\n| Africa   | 2007 | 52.9265 |\n| Americas | 1992 | 69.8620 |\n| Americas | 1997 | 72.1460 |\n| Americas | 2002 | 72.0470 |\n| Americas | 2007 | 72.8990 |\n| Asia     | 1992 | 68.6900 |\n| Asia     | 1997 | 70.2650 |\n| Asia     | 2002 | 71.0280 |\n| Asia     | 2007 | 72.3960 |\n| Europe   | 1992 | 75.4510 |\n| Europe   | 1997 | 76.1160 |\n| Europe   | 2002 | 77.5365 |\n| Europe   | 2007 | 78.6085 |\n| Oceania  | 1992 | 76.9450 |\n| Oceania  | 1997 | 78.1900 |\n| Oceania  | 2002 | 79.7400 |\n| Oceania  | 2007 | 80.7195 |\n\n",
            "text/html": [
              "<table class=\"dataframe\">\n",
              "<caption>A grouped_df: 20 × 3</caption>\n",
              "<thead>\n",
              "\t<tr><th scope=col>continent</th><th scope=col>year</th><th scope=col>med_life_exp</th></tr>\n",
              "\t<tr><th scope=col>&lt;fct&gt;</th><th scope=col>&lt;int&gt;</th><th scope=col>&lt;dbl&gt;</th></tr>\n",
              "</thead>\n",
              "<tbody>\n",
              "\t<tr><td>Africa  </td><td>1992</td><td>52.4290</td></tr>\n",
              "\t<tr><td>Africa  </td><td>1997</td><td>52.7590</td></tr>\n",
              "\t<tr><td>Africa  </td><td>2002</td><td>51.2355</td></tr>\n",
              "\t<tr><td>Africa  </td><td>2007</td><td>52.9265</td></tr>\n",
              "\t<tr><td>Americas</td><td>1992</td><td>69.8620</td></tr>\n",
              "\t<tr><td>Americas</td><td>1997</td><td>72.1460</td></tr>\n",
              "\t<tr><td>Americas</td><td>2002</td><td>72.0470</td></tr>\n",
              "\t<tr><td>Americas</td><td>2007</td><td>72.8990</td></tr>\n",
              "\t<tr><td>Asia    </td><td>1992</td><td>68.6900</td></tr>\n",
              "\t<tr><td>Asia    </td><td>1997</td><td>70.2650</td></tr>\n",
              "\t<tr><td>Asia    </td><td>2002</td><td>71.0280</td></tr>\n",
              "\t<tr><td>Asia    </td><td>2007</td><td>72.3960</td></tr>\n",
              "\t<tr><td>Europe  </td><td>1992</td><td>75.4510</td></tr>\n",
              "\t<tr><td>Europe  </td><td>1997</td><td>76.1160</td></tr>\n",
              "\t<tr><td>Europe  </td><td>2002</td><td>77.5365</td></tr>\n",
              "\t<tr><td>Europe  </td><td>2007</td><td>78.6085</td></tr>\n",
              "\t<tr><td>Oceania </td><td>1992</td><td>76.9450</td></tr>\n",
              "\t<tr><td>Oceania </td><td>1997</td><td>78.1900</td></tr>\n",
              "\t<tr><td>Oceania </td><td>2002</td><td>79.7400</td></tr>\n",
              "\t<tr><td>Oceania </td><td>2007</td><td>80.7195</td></tr>\n",
              "</tbody>\n",
              "</table>\n"
            ]
          },
          "metadata": {}
        }
      ]
    },
    {
      "cell_type": "code",
      "source": [
        "# example of advanced dplyr\n",
        "# (probably not going to be doing stuff life this)\n",
        "# Which countries have had the most gdp per capita gain since 1952?\n",
        "gapminder %>% group_by(country) %>%\n",
        "  arrange(year) %>%\n",
        "  # gdp per cap in 2007 - gdp per cap in 1952, for *each* country\n",
        "  mutate(gdp_gain = last(gdpPercap) - first(gdpPercap)) %>%\n",
        "  arrange(desc(gdp_gain)) %>% filter(year == 2002) %>%\n",
        "  select(country, gdp_gain) %>% head(10)"
      ],
      "metadata": {
        "id": "5HFXZq0NX-Ub",
        "colab": {
          "base_uri": "https://localhost:8080/",
          "height": 412
        },
        "outputId": "19f20f66-2da8-4b32-faaa-469c14ce9134"
      },
      "execution_count": 43,
      "outputs": [
        {
          "output_type": "display_data",
          "data": {
            "text/plain": [
              "   country          gdp_gain\n",
              "1  Singapore        44828.04\n",
              "2  Norway           39261.77\n",
              "3  Hong Kong, China 36670.56\n",
              "4  Ireland          35465.72\n",
              "5  Austria          29989.42\n",
              "6  United States    28961.17\n",
              "7  Iceland          28913.10\n",
              "8  Japan            28439.11\n",
              "9  Netherlands      27856.36\n",
              "10 Taiwan           27511.33"
            ],
            "text/latex": "A grouped\\_df: 10 × 2\n\\begin{tabular}{ll}\n country & gdp\\_gain\\\\\n <fct> & <dbl>\\\\\n\\hline\n\t Singapore        & 44828.04\\\\\n\t Norway           & 39261.77\\\\\n\t Hong Kong, China & 36670.56\\\\\n\t Ireland          & 35465.72\\\\\n\t Austria          & 29989.42\\\\\n\t United States    & 28961.17\\\\\n\t Iceland          & 28913.10\\\\\n\t Japan            & 28439.11\\\\\n\t Netherlands      & 27856.36\\\\\n\t Taiwan           & 27511.33\\\\\n\\end{tabular}\n",
            "text/markdown": "\nA grouped_df: 10 × 2\n\n| country &lt;fct&gt; | gdp_gain &lt;dbl&gt; |\n|---|---|\n| Singapore        | 44828.04 |\n| Norway           | 39261.77 |\n| Hong Kong, China | 36670.56 |\n| Ireland          | 35465.72 |\n| Austria          | 29989.42 |\n| United States    | 28961.17 |\n| Iceland          | 28913.10 |\n| Japan            | 28439.11 |\n| Netherlands      | 27856.36 |\n| Taiwan           | 27511.33 |\n\n",
            "text/html": [
              "<table class=\"dataframe\">\n",
              "<caption>A grouped_df: 10 × 2</caption>\n",
              "<thead>\n",
              "\t<tr><th scope=col>country</th><th scope=col>gdp_gain</th></tr>\n",
              "\t<tr><th scope=col>&lt;fct&gt;</th><th scope=col>&lt;dbl&gt;</th></tr>\n",
              "</thead>\n",
              "<tbody>\n",
              "\t<tr><td>Singapore       </td><td>44828.04</td></tr>\n",
              "\t<tr><td>Norway          </td><td>39261.77</td></tr>\n",
              "\t<tr><td>Hong Kong, China</td><td>36670.56</td></tr>\n",
              "\t<tr><td>Ireland         </td><td>35465.72</td></tr>\n",
              "\t<tr><td>Austria         </td><td>29989.42</td></tr>\n",
              "\t<tr><td>United States   </td><td>28961.17</td></tr>\n",
              "\t<tr><td>Iceland         </td><td>28913.10</td></tr>\n",
              "\t<tr><td>Japan           </td><td>28439.11</td></tr>\n",
              "\t<tr><td>Netherlands     </td><td>27856.36</td></tr>\n",
              "\t<tr><td>Taiwan          </td><td>27511.33</td></tr>\n",
              "</tbody>\n",
              "</table>\n"
            ]
          },
          "metadata": {}
        }
      ]
    },
    {
      "cell_type": "markdown",
      "source": [
        "Exercise 7: Find the interquartile range in life expectancy for each continent by year."
      ],
      "metadata": {
        "id": "yH1BpuuGVAYG"
      }
    },
    {
      "cell_type": "code",
      "source": [
        "# your code here\n",
        "gapminder %>% group_by(continent, year) %>%\n",
        "  # summarise(iqr_range = quantile(lifeExp, 0.75) - quantile(lifeExp, 0.25))\n",
        "  summarise(iqr_range = IQR(lifeExp))"
      ],
      "metadata": {
        "id": "VWNIKWdSVzMc",
        "colab": {
          "base_uri": "https://localhost:8080/",
          "height": 1000
        },
        "outputId": "66ca662d-0eff-445f-a9f3-77521f512b3a"
      },
      "execution_count": 47,
      "outputs": [
        {
          "output_type": "stream",
          "name": "stderr",
          "text": [
            "`summarise()` has grouped output by 'continent'. You can override using the `.groups` argument.\n",
            "\n"
          ]
        },
        {
          "output_type": "display_data",
          "data": {
            "text/plain": [
              "   continent year iqr_range\n",
              "1  Africa    1952  6.30600 \n",
              "2  Africa    1957  7.41600 \n",
              "3  Africa    1962  8.27825 \n",
              "4  Africa    1967  8.15800 \n",
              "5  Africa    1972  8.24800 \n",
              "6  Africa    1977  9.35800 \n",
              "7  Africa    1982 10.97025 \n",
              "8  Africa    1987 12.61800 \n",
              "9  Africa    1992 11.90350 \n",
              "10 Africa    1997 11.92825 \n",
              "11 Africa    2002 11.85300 \n",
              "12 Africa    2007 11.61025 \n",
              "13 Americas  1952 14.15900 \n",
              "14 Americas  1957 14.04000 \n",
              "15 Americas  1962 12.83500 \n",
              "16 Americas  1967  9.77900 \n",
              "17 Americas  1972  9.64200 \n",
              "18 Americas  1977 11.03400 \n",
              "19 Americas  1982  9.39900 \n",
              "20 Americas  1987  7.42600 \n",
              "21 Americas  1992  5.95400 \n",
              "22 Americas  1997  4.83500 \n",
              "23 Americas  2002  4.57300 \n",
              "24 Americas  2007  4.63200 \n",
              "25 Asia      1952 11.52200 \n",
              "26 Asia      1957 12.17600 \n",
              "27 Asia      1962 12.42164 \n",
              "28 Asia      1967 12.10400 \n",
              "29 Asia      1972 12.05400 \n",
              "30 Asia      1977 10.45800 \n",
              "31 Asia      1982 11.26800 \n",
              "32 Asia      1987  9.67300 \n",
              "33 Asia      1992 10.35900 \n",
              "34 Asia      1997 10.68100 \n",
              "35 Asia      2002 10.58300 \n",
              "36 Asia      2007 10.15200 \n",
              "37 Europe    1952  6.78500 \n",
              "38 Europe    1957  4.18500 \n",
              "39 Europe    1962  3.20750 \n",
              "40 Europe    1967  2.75000 \n",
              "41 Europe    1972  2.59500 \n",
              "42 Europe    1977  3.29500 \n",
              "43 Europe    1982  4.11750 \n",
              "44 Europe    1987  4.84250 \n",
              "45 Europe    1992  5.45875 \n",
              "46 Europe    1997  4.96625 \n",
              "47 Europe    2002  4.66750 \n",
              "48 Europe    2007  4.78250 \n",
              "49 Oceania   1952  0.13500 \n",
              "50 Oceania   1957  0.03500 \n",
              "51 Oceania   1962  0.15500 \n",
              "52 Oceania   1967  0.21000 \n",
              "53 Oceania   1972  0.02000 \n",
              "54 Oceania   1977  0.63500 \n",
              "55 Oceania   1982  0.45000 \n",
              "56 Oceania   1987  1.00000 \n",
              "57 Oceania   1992  0.61500 \n",
              "58 Oceania   1997  0.64000 \n",
              "59 Oceania   2002  0.63000 \n",
              "60 Oceania   2007  0.51550 "
            ],
            "text/latex": "A grouped\\_df: 60 × 3\n\\begin{tabular}{lll}\n continent & year & iqr\\_range\\\\\n <fct> & <int> & <dbl>\\\\\n\\hline\n\t Africa   & 1952 &  6.30600\\\\\n\t Africa   & 1957 &  7.41600\\\\\n\t Africa   & 1962 &  8.27825\\\\\n\t Africa   & 1967 &  8.15800\\\\\n\t Africa   & 1972 &  8.24800\\\\\n\t Africa   & 1977 &  9.35800\\\\\n\t Africa   & 1982 & 10.97025\\\\\n\t Africa   & 1987 & 12.61800\\\\\n\t Africa   & 1992 & 11.90350\\\\\n\t Africa   & 1997 & 11.92825\\\\\n\t Africa   & 2002 & 11.85300\\\\\n\t Africa   & 2007 & 11.61025\\\\\n\t Americas & 1952 & 14.15900\\\\\n\t Americas & 1957 & 14.04000\\\\\n\t Americas & 1962 & 12.83500\\\\\n\t Americas & 1967 &  9.77900\\\\\n\t Americas & 1972 &  9.64200\\\\\n\t Americas & 1977 & 11.03400\\\\\n\t Americas & 1982 &  9.39900\\\\\n\t Americas & 1987 &  7.42600\\\\\n\t Americas & 1992 &  5.95400\\\\\n\t Americas & 1997 &  4.83500\\\\\n\t Americas & 2002 &  4.57300\\\\\n\t Americas & 2007 &  4.63200\\\\\n\t Asia     & 1952 & 11.52200\\\\\n\t Asia     & 1957 & 12.17600\\\\\n\t Asia     & 1962 & 12.42164\\\\\n\t Asia     & 1967 & 12.10400\\\\\n\t Asia     & 1972 & 12.05400\\\\\n\t Asia     & 1977 & 10.45800\\\\\n\t Asia     & 1982 & 11.26800\\\\\n\t Asia     & 1987 &  9.67300\\\\\n\t Asia     & 1992 & 10.35900\\\\\n\t Asia     & 1997 & 10.68100\\\\\n\t Asia     & 2002 & 10.58300\\\\\n\t Asia     & 2007 & 10.15200\\\\\n\t Europe   & 1952 &  6.78500\\\\\n\t Europe   & 1957 &  4.18500\\\\\n\t Europe   & 1962 &  3.20750\\\\\n\t Europe   & 1967 &  2.75000\\\\\n\t Europe   & 1972 &  2.59500\\\\\n\t Europe   & 1977 &  3.29500\\\\\n\t Europe   & 1982 &  4.11750\\\\\n\t Europe   & 1987 &  4.84250\\\\\n\t Europe   & 1992 &  5.45875\\\\\n\t Europe   & 1997 &  4.96625\\\\\n\t Europe   & 2002 &  4.66750\\\\\n\t Europe   & 2007 &  4.78250\\\\\n\t Oceania  & 1952 &  0.13500\\\\\n\t Oceania  & 1957 &  0.03500\\\\\n\t Oceania  & 1962 &  0.15500\\\\\n\t Oceania  & 1967 &  0.21000\\\\\n\t Oceania  & 1972 &  0.02000\\\\\n\t Oceania  & 1977 &  0.63500\\\\\n\t Oceania  & 1982 &  0.45000\\\\\n\t Oceania  & 1987 &  1.00000\\\\\n\t Oceania  & 1992 &  0.61500\\\\\n\t Oceania  & 1997 &  0.64000\\\\\n\t Oceania  & 2002 &  0.63000\\\\\n\t Oceania  & 2007 &  0.51550\\\\\n\\end{tabular}\n",
            "text/markdown": "\nA grouped_df: 60 × 3\n\n| continent &lt;fct&gt; | year &lt;int&gt; | iqr_range &lt;dbl&gt; |\n|---|---|---|\n| Africa   | 1952 |  6.30600 |\n| Africa   | 1957 |  7.41600 |\n| Africa   | 1962 |  8.27825 |\n| Africa   | 1967 |  8.15800 |\n| Africa   | 1972 |  8.24800 |\n| Africa   | 1977 |  9.35800 |\n| Africa   | 1982 | 10.97025 |\n| Africa   | 1987 | 12.61800 |\n| Africa   | 1992 | 11.90350 |\n| Africa   | 1997 | 11.92825 |\n| Africa   | 2002 | 11.85300 |\n| Africa   | 2007 | 11.61025 |\n| Americas | 1952 | 14.15900 |\n| Americas | 1957 | 14.04000 |\n| Americas | 1962 | 12.83500 |\n| Americas | 1967 |  9.77900 |\n| Americas | 1972 |  9.64200 |\n| Americas | 1977 | 11.03400 |\n| Americas | 1982 |  9.39900 |\n| Americas | 1987 |  7.42600 |\n| Americas | 1992 |  5.95400 |\n| Americas | 1997 |  4.83500 |\n| Americas | 2002 |  4.57300 |\n| Americas | 2007 |  4.63200 |\n| Asia     | 1952 | 11.52200 |\n| Asia     | 1957 | 12.17600 |\n| Asia     | 1962 | 12.42164 |\n| Asia     | 1967 | 12.10400 |\n| Asia     | 1972 | 12.05400 |\n| Asia     | 1977 | 10.45800 |\n| Asia     | 1982 | 11.26800 |\n| Asia     | 1987 |  9.67300 |\n| Asia     | 1992 | 10.35900 |\n| Asia     | 1997 | 10.68100 |\n| Asia     | 2002 | 10.58300 |\n| Asia     | 2007 | 10.15200 |\n| Europe   | 1952 |  6.78500 |\n| Europe   | 1957 |  4.18500 |\n| Europe   | 1962 |  3.20750 |\n| Europe   | 1967 |  2.75000 |\n| Europe   | 1972 |  2.59500 |\n| Europe   | 1977 |  3.29500 |\n| Europe   | 1982 |  4.11750 |\n| Europe   | 1987 |  4.84250 |\n| Europe   | 1992 |  5.45875 |\n| Europe   | 1997 |  4.96625 |\n| Europe   | 2002 |  4.66750 |\n| Europe   | 2007 |  4.78250 |\n| Oceania  | 1952 |  0.13500 |\n| Oceania  | 1957 |  0.03500 |\n| Oceania  | 1962 |  0.15500 |\n| Oceania  | 1967 |  0.21000 |\n| Oceania  | 1972 |  0.02000 |\n| Oceania  | 1977 |  0.63500 |\n| Oceania  | 1982 |  0.45000 |\n| Oceania  | 1987 |  1.00000 |\n| Oceania  | 1992 |  0.61500 |\n| Oceania  | 1997 |  0.64000 |\n| Oceania  | 2002 |  0.63000 |\n| Oceania  | 2007 |  0.51550 |\n\n",
            "text/html": [
              "<table class=\"dataframe\">\n",
              "<caption>A grouped_df: 60 × 3</caption>\n",
              "<thead>\n",
              "\t<tr><th scope=col>continent</th><th scope=col>year</th><th scope=col>iqr_range</th></tr>\n",
              "\t<tr><th scope=col>&lt;fct&gt;</th><th scope=col>&lt;int&gt;</th><th scope=col>&lt;dbl&gt;</th></tr>\n",
              "</thead>\n",
              "<tbody>\n",
              "\t<tr><td>Africa  </td><td>1952</td><td> 6.30600</td></tr>\n",
              "\t<tr><td>Africa  </td><td>1957</td><td> 7.41600</td></tr>\n",
              "\t<tr><td>Africa  </td><td>1962</td><td> 8.27825</td></tr>\n",
              "\t<tr><td>Africa  </td><td>1967</td><td> 8.15800</td></tr>\n",
              "\t<tr><td>Africa  </td><td>1972</td><td> 8.24800</td></tr>\n",
              "\t<tr><td>Africa  </td><td>1977</td><td> 9.35800</td></tr>\n",
              "\t<tr><td>Africa  </td><td>1982</td><td>10.97025</td></tr>\n",
              "\t<tr><td>Africa  </td><td>1987</td><td>12.61800</td></tr>\n",
              "\t<tr><td>Africa  </td><td>1992</td><td>11.90350</td></tr>\n",
              "\t<tr><td>Africa  </td><td>1997</td><td>11.92825</td></tr>\n",
              "\t<tr><td>Africa  </td><td>2002</td><td>11.85300</td></tr>\n",
              "\t<tr><td>Africa  </td><td>2007</td><td>11.61025</td></tr>\n",
              "\t<tr><td>Americas</td><td>1952</td><td>14.15900</td></tr>\n",
              "\t<tr><td>Americas</td><td>1957</td><td>14.04000</td></tr>\n",
              "\t<tr><td>Americas</td><td>1962</td><td>12.83500</td></tr>\n",
              "\t<tr><td>Americas</td><td>1967</td><td> 9.77900</td></tr>\n",
              "\t<tr><td>Americas</td><td>1972</td><td> 9.64200</td></tr>\n",
              "\t<tr><td>Americas</td><td>1977</td><td>11.03400</td></tr>\n",
              "\t<tr><td>Americas</td><td>1982</td><td> 9.39900</td></tr>\n",
              "\t<tr><td>Americas</td><td>1987</td><td> 7.42600</td></tr>\n",
              "\t<tr><td>Americas</td><td>1992</td><td> 5.95400</td></tr>\n",
              "\t<tr><td>Americas</td><td>1997</td><td> 4.83500</td></tr>\n",
              "\t<tr><td>Americas</td><td>2002</td><td> 4.57300</td></tr>\n",
              "\t<tr><td>Americas</td><td>2007</td><td> 4.63200</td></tr>\n",
              "\t<tr><td>Asia    </td><td>1952</td><td>11.52200</td></tr>\n",
              "\t<tr><td>Asia    </td><td>1957</td><td>12.17600</td></tr>\n",
              "\t<tr><td>Asia    </td><td>1962</td><td>12.42164</td></tr>\n",
              "\t<tr><td>Asia    </td><td>1967</td><td>12.10400</td></tr>\n",
              "\t<tr><td>Asia    </td><td>1972</td><td>12.05400</td></tr>\n",
              "\t<tr><td>Asia    </td><td>1977</td><td>10.45800</td></tr>\n",
              "\t<tr><td>Asia    </td><td>1982</td><td>11.26800</td></tr>\n",
              "\t<tr><td>Asia    </td><td>1987</td><td> 9.67300</td></tr>\n",
              "\t<tr><td>Asia    </td><td>1992</td><td>10.35900</td></tr>\n",
              "\t<tr><td>Asia    </td><td>1997</td><td>10.68100</td></tr>\n",
              "\t<tr><td>Asia    </td><td>2002</td><td>10.58300</td></tr>\n",
              "\t<tr><td>Asia    </td><td>2007</td><td>10.15200</td></tr>\n",
              "\t<tr><td>Europe  </td><td>1952</td><td> 6.78500</td></tr>\n",
              "\t<tr><td>Europe  </td><td>1957</td><td> 4.18500</td></tr>\n",
              "\t<tr><td>Europe  </td><td>1962</td><td> 3.20750</td></tr>\n",
              "\t<tr><td>Europe  </td><td>1967</td><td> 2.75000</td></tr>\n",
              "\t<tr><td>Europe  </td><td>1972</td><td> 2.59500</td></tr>\n",
              "\t<tr><td>Europe  </td><td>1977</td><td> 3.29500</td></tr>\n",
              "\t<tr><td>Europe  </td><td>1982</td><td> 4.11750</td></tr>\n",
              "\t<tr><td>Europe  </td><td>1987</td><td> 4.84250</td></tr>\n",
              "\t<tr><td>Europe  </td><td>1992</td><td> 5.45875</td></tr>\n",
              "\t<tr><td>Europe  </td><td>1997</td><td> 4.96625</td></tr>\n",
              "\t<tr><td>Europe  </td><td>2002</td><td> 4.66750</td></tr>\n",
              "\t<tr><td>Europe  </td><td>2007</td><td> 4.78250</td></tr>\n",
              "\t<tr><td>Oceania </td><td>1952</td><td> 0.13500</td></tr>\n",
              "\t<tr><td>Oceania </td><td>1957</td><td> 0.03500</td></tr>\n",
              "\t<tr><td>Oceania </td><td>1962</td><td> 0.15500</td></tr>\n",
              "\t<tr><td>Oceania </td><td>1967</td><td> 0.21000</td></tr>\n",
              "\t<tr><td>Oceania </td><td>1972</td><td> 0.02000</td></tr>\n",
              "\t<tr><td>Oceania </td><td>1977</td><td> 0.63500</td></tr>\n",
              "\t<tr><td>Oceania </td><td>1982</td><td> 0.45000</td></tr>\n",
              "\t<tr><td>Oceania </td><td>1987</td><td> 1.00000</td></tr>\n",
              "\t<tr><td>Oceania </td><td>1992</td><td> 0.61500</td></tr>\n",
              "\t<tr><td>Oceania </td><td>1997</td><td> 0.64000</td></tr>\n",
              "\t<tr><td>Oceania </td><td>2002</td><td> 0.63000</td></tr>\n",
              "\t<tr><td>Oceania </td><td>2007</td><td> 0.51550</td></tr>\n",
              "</tbody>\n",
              "</table>\n"
            ]
          },
          "metadata": {}
        }
      ]
    }
  ]
}