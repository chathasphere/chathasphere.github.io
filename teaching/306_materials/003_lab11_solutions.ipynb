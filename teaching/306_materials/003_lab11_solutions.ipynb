{
  "nbformat": 4,
  "nbformat_minor": 0,
  "metadata": {
    "kernelspec": {
      "display_name": "R",
      "language": "R",
      "name": "ir"
    },
    "language_info": {
      "codemirror_mode": "r",
      "file_extension": ".r",
      "mimetype": "text/x-r-source",
      "name": "R",
      "pygments_lexer": "r",
      "version": "3.6.1"
    },
    "colab": {
      "name": "003_lab11_solutions.ipynb",
      "provenance": [],
      "collapsed_sections": [],
      "include_colab_link": true
    }
  },
  "cells": [
    {
      "cell_type": "markdown",
      "metadata": {
        "id": "view-in-github",
        "colab_type": "text"
      },
      "source": [
        "<a href=\"https://colab.research.google.com/github/chathasphere/chathasphere.github.io/blob/main/teaching/306_materials/003_lab11_solutions.ipynb\" target=\"_parent\"><img src=\"https://colab.research.google.com/assets/colab-badge.svg\" alt=\"Open In Colab\"/></a>"
      ]
    },
    {
      "cell_type": "markdown",
      "metadata": {
        "id": "N6qet7MQcfCt"
      },
      "source": [
        "# Lab 11: Final Review\n",
        "## April 12th, 2022\n",
        "\n",
        "It's almost over!\n",
        "\n",
        "Aiming to release the final exam on April 14th. You'll have a week to work on it. Same rules as the midterm exam."
      ]
    },
    {
      "cell_type": "code",
      "metadata": {
        "id": "ydYGcQICcfCx",
        "colab": {
          "base_uri": "https://localhost:8080/"
        },
        "outputId": "a2e2d145-5e4e-48c8-f49a-00235b0fa9e5"
      },
      "source": [
        "library(tidyverse)"
      ],
      "execution_count": null,
      "outputs": [
        {
          "output_type": "stream",
          "name": "stderr",
          "text": [
            "Warning message in system(\"timedatectl\", intern = TRUE):\n",
            "“running command 'timedatectl' had status 1”\n",
            "── \u001b[1mAttaching packages\u001b[22m ─────────────────────────────────────── tidyverse 1.3.1 ──\n",
            "\n",
            "\u001b[32m✔\u001b[39m \u001b[34mggplot2\u001b[39m 3.3.5     \u001b[32m✔\u001b[39m \u001b[34mpurrr  \u001b[39m 0.3.4\n",
            "\u001b[32m✔\u001b[39m \u001b[34mtibble \u001b[39m 3.1.6     \u001b[32m✔\u001b[39m \u001b[34mdplyr  \u001b[39m 1.0.8\n",
            "\u001b[32m✔\u001b[39m \u001b[34mtidyr  \u001b[39m 1.2.0     \u001b[32m✔\u001b[39m \u001b[34mstringr\u001b[39m 1.4.0\n",
            "\u001b[32m✔\u001b[39m \u001b[34mreadr  \u001b[39m 2.1.2     \u001b[32m✔\u001b[39m \u001b[34mforcats\u001b[39m 0.5.1\n",
            "\n",
            "── \u001b[1mConflicts\u001b[22m ────────────────────────────────────────── tidyverse_conflicts() ──\n",
            "\u001b[31m✖\u001b[39m \u001b[34mdplyr\u001b[39m::\u001b[32mfilter()\u001b[39m masks \u001b[34mstats\u001b[39m::filter()\n",
            "\u001b[31m✖\u001b[39m \u001b[34mdplyr\u001b[39m::\u001b[32mlag()\u001b[39m    masks \u001b[34mstats\u001b[39m::lag()\n",
            "\n"
          ]
        }
      ]
    },
    {
      "cell_type": "markdown",
      "source": [
        "## Exercise 1a.\n",
        "\n",
        "The `billboard` data set lists Billboard top 100 hits from the year 2000. There are 76 columns that correspond to weeks that a song was in the top 100. Tidy up this data set so that it is in long format: there should a column called `week` indicating the week number and a column called `rank` specifying a song's rank in the top 100.\n"
      ],
      "metadata": {
        "id": "5zbliAEkslCr"
      }
    },
    {
      "cell_type": "code",
      "source": [
        "head(billboard)"
      ],
      "metadata": {
        "colab": {
          "base_uri": "https://localhost:8080/",
          "height": 286
        },
        "id": "K4CS3smDsjVl",
        "outputId": "c35d490a-284d-4616-f1b3-82e103fb86dd"
      },
      "execution_count": null,
      "outputs": [
        {
          "output_type": "display_data",
          "data": {
            "text/html": [
              "<table class=\"dataframe\">\n",
              "<caption>A tibble: 6 × 79</caption>\n",
              "<thead>\n",
              "\t<tr><th scope=col>artist</th><th scope=col>track</th><th scope=col>date.entered</th><th scope=col>wk1</th><th scope=col>wk2</th><th scope=col>wk3</th><th scope=col>wk4</th><th scope=col>wk5</th><th scope=col>wk6</th><th scope=col>wk7</th><th scope=col>⋯</th><th scope=col>wk67</th><th scope=col>wk68</th><th scope=col>wk69</th><th scope=col>wk70</th><th scope=col>wk71</th><th scope=col>wk72</th><th scope=col>wk73</th><th scope=col>wk74</th><th scope=col>wk75</th><th scope=col>wk76</th></tr>\n",
              "\t<tr><th scope=col>&lt;chr&gt;</th><th scope=col>&lt;chr&gt;</th><th scope=col>&lt;date&gt;</th><th scope=col>&lt;dbl&gt;</th><th scope=col>&lt;dbl&gt;</th><th scope=col>&lt;dbl&gt;</th><th scope=col>&lt;dbl&gt;</th><th scope=col>&lt;dbl&gt;</th><th scope=col>&lt;dbl&gt;</th><th scope=col>&lt;dbl&gt;</th><th scope=col>⋯</th><th scope=col>&lt;lgl&gt;</th><th scope=col>&lt;lgl&gt;</th><th scope=col>&lt;lgl&gt;</th><th scope=col>&lt;lgl&gt;</th><th scope=col>&lt;lgl&gt;</th><th scope=col>&lt;lgl&gt;</th><th scope=col>&lt;lgl&gt;</th><th scope=col>&lt;lgl&gt;</th><th scope=col>&lt;lgl&gt;</th><th scope=col>&lt;lgl&gt;</th></tr>\n",
              "</thead>\n",
              "<tbody>\n",
              "\t<tr><td>2 Pac       </td><td>Baby Don't Cry (Keep...</td><td>2000-02-26</td><td>87</td><td>82</td><td>72</td><td>77</td><td>87</td><td>94</td><td>99</td><td>⋯</td><td>NA</td><td>NA</td><td>NA</td><td>NA</td><td>NA</td><td>NA</td><td>NA</td><td>NA</td><td>NA</td><td>NA</td></tr>\n",
              "\t<tr><td>2Ge+her     </td><td>The Hardest Part Of ...</td><td>2000-09-02</td><td>91</td><td>87</td><td>92</td><td>NA</td><td>NA</td><td>NA</td><td>NA</td><td>⋯</td><td>NA</td><td>NA</td><td>NA</td><td>NA</td><td>NA</td><td>NA</td><td>NA</td><td>NA</td><td>NA</td><td>NA</td></tr>\n",
              "\t<tr><td>3 Doors Down</td><td>Kryptonite             </td><td>2000-04-08</td><td>81</td><td>70</td><td>68</td><td>67</td><td>66</td><td>57</td><td>54</td><td>⋯</td><td>NA</td><td>NA</td><td>NA</td><td>NA</td><td>NA</td><td>NA</td><td>NA</td><td>NA</td><td>NA</td><td>NA</td></tr>\n",
              "\t<tr><td>3 Doors Down</td><td>Loser                  </td><td>2000-10-21</td><td>76</td><td>76</td><td>72</td><td>69</td><td>67</td><td>65</td><td>55</td><td>⋯</td><td>NA</td><td>NA</td><td>NA</td><td>NA</td><td>NA</td><td>NA</td><td>NA</td><td>NA</td><td>NA</td><td>NA</td></tr>\n",
              "\t<tr><td>504 Boyz    </td><td>Wobble Wobble          </td><td>2000-04-15</td><td>57</td><td>34</td><td>25</td><td>17</td><td>17</td><td>31</td><td>36</td><td>⋯</td><td>NA</td><td>NA</td><td>NA</td><td>NA</td><td>NA</td><td>NA</td><td>NA</td><td>NA</td><td>NA</td><td>NA</td></tr>\n",
              "\t<tr><td>98^0        </td><td>Give Me Just One Nig...</td><td>2000-08-19</td><td>51</td><td>39</td><td>34</td><td>26</td><td>26</td><td>19</td><td> 2</td><td>⋯</td><td>NA</td><td>NA</td><td>NA</td><td>NA</td><td>NA</td><td>NA</td><td>NA</td><td>NA</td><td>NA</td><td>NA</td></tr>\n",
              "</tbody>\n",
              "</table>\n"
            ],
            "text/markdown": "\nA tibble: 6 × 79\n\n| artist &lt;chr&gt; | track &lt;chr&gt; | date.entered &lt;date&gt; | wk1 &lt;dbl&gt; | wk2 &lt;dbl&gt; | wk3 &lt;dbl&gt; | wk4 &lt;dbl&gt; | wk5 &lt;dbl&gt; | wk6 &lt;dbl&gt; | wk7 &lt;dbl&gt; | ⋯ ⋯ | wk67 &lt;lgl&gt; | wk68 &lt;lgl&gt; | wk69 &lt;lgl&gt; | wk70 &lt;lgl&gt; | wk71 &lt;lgl&gt; | wk72 &lt;lgl&gt; | wk73 &lt;lgl&gt; | wk74 &lt;lgl&gt; | wk75 &lt;lgl&gt; | wk76 &lt;lgl&gt; |\n|---|---|---|---|---|---|---|---|---|---|---|---|---|---|---|---|---|---|---|---|---|\n| 2 Pac        | Baby Don't Cry (Keep... | 2000-02-26 | 87 | 82 | 72 | 77 | 87 | 94 | 99 | ⋯ | NA | NA | NA | NA | NA | NA | NA | NA | NA | NA |\n| 2Ge+her      | The Hardest Part Of ... | 2000-09-02 | 91 | 87 | 92 | NA | NA | NA | NA | ⋯ | NA | NA | NA | NA | NA | NA | NA | NA | NA | NA |\n| 3 Doors Down | Kryptonite              | 2000-04-08 | 81 | 70 | 68 | 67 | 66 | 57 | 54 | ⋯ | NA | NA | NA | NA | NA | NA | NA | NA | NA | NA |\n| 3 Doors Down | Loser                   | 2000-10-21 | 76 | 76 | 72 | 69 | 67 | 65 | 55 | ⋯ | NA | NA | NA | NA | NA | NA | NA | NA | NA | NA |\n| 504 Boyz     | Wobble Wobble           | 2000-04-15 | 57 | 34 | 25 | 17 | 17 | 31 | 36 | ⋯ | NA | NA | NA | NA | NA | NA | NA | NA | NA | NA |\n| 98^0         | Give Me Just One Nig... | 2000-08-19 | 51 | 39 | 34 | 26 | 26 | 19 |  2 | ⋯ | NA | NA | NA | NA | NA | NA | NA | NA | NA | NA |\n\n",
            "text/latex": "A tibble: 6 × 79\n\\begin{tabular}{lllllllllllllllllllll}\n artist & track & date.entered & wk1 & wk2 & wk3 & wk4 & wk5 & wk6 & wk7 & ⋯ & wk67 & wk68 & wk69 & wk70 & wk71 & wk72 & wk73 & wk74 & wk75 & wk76\\\\\n <chr> & <chr> & <date> & <dbl> & <dbl> & <dbl> & <dbl> & <dbl> & <dbl> & <dbl> & ⋯ & <lgl> & <lgl> & <lgl> & <lgl> & <lgl> & <lgl> & <lgl> & <lgl> & <lgl> & <lgl>\\\\\n\\hline\n\t 2 Pac        & Baby Don't Cry (Keep... & 2000-02-26 & 87 & 82 & 72 & 77 & 87 & 94 & 99 & ⋯ & NA & NA & NA & NA & NA & NA & NA & NA & NA & NA\\\\\n\t 2Ge+her      & The Hardest Part Of ... & 2000-09-02 & 91 & 87 & 92 & NA & NA & NA & NA & ⋯ & NA & NA & NA & NA & NA & NA & NA & NA & NA & NA\\\\\n\t 3 Doors Down & Kryptonite              & 2000-04-08 & 81 & 70 & 68 & 67 & 66 & 57 & 54 & ⋯ & NA & NA & NA & NA & NA & NA & NA & NA & NA & NA\\\\\n\t 3 Doors Down & Loser                   & 2000-10-21 & 76 & 76 & 72 & 69 & 67 & 65 & 55 & ⋯ & NA & NA & NA & NA & NA & NA & NA & NA & NA & NA\\\\\n\t 504 Boyz     & Wobble Wobble           & 2000-04-15 & 57 & 34 & 25 & 17 & 17 & 31 & 36 & ⋯ & NA & NA & NA & NA & NA & NA & NA & NA & NA & NA\\\\\n\t 98\\textasciicircum{}0         & Give Me Just One Nig... & 2000-08-19 & 51 & 39 & 34 & 26 & 26 & 19 &  2 & ⋯ & NA & NA & NA & NA & NA & NA & NA & NA & NA & NA\\\\\n\\end{tabular}\n",
            "text/plain": [
              "  artist       track                   date.entered wk1 wk2 wk3 wk4 wk5 wk6 wk7\n",
              "1 2 Pac        Baby Don't Cry (Keep... 2000-02-26   87  82  72  77  87  94  99 \n",
              "2 2Ge+her      The Hardest Part Of ... 2000-09-02   91  87  92  NA  NA  NA  NA \n",
              "3 3 Doors Down Kryptonite              2000-04-08   81  70  68  67  66  57  54 \n",
              "4 3 Doors Down Loser                   2000-10-21   76  76  72  69  67  65  55 \n",
              "5 504 Boyz     Wobble Wobble           2000-04-15   57  34  25  17  17  31  36 \n",
              "6 98^0         Give Me Just One Nig... 2000-08-19   51  39  34  26  26  19   2 \n",
              "  ⋯ wk67 wk68 wk69 wk70 wk71 wk72 wk73 wk74 wk75 wk76\n",
              "1 ⋯ NA   NA   NA   NA   NA   NA   NA   NA   NA   NA  \n",
              "2 ⋯ NA   NA   NA   NA   NA   NA   NA   NA   NA   NA  \n",
              "3 ⋯ NA   NA   NA   NA   NA   NA   NA   NA   NA   NA  \n",
              "4 ⋯ NA   NA   NA   NA   NA   NA   NA   NA   NA   NA  \n",
              "5 ⋯ NA   NA   NA   NA   NA   NA   NA   NA   NA   NA  \n",
              "6 ⋯ NA   NA   NA   NA   NA   NA   NA   NA   NA   NA  "
            ]
          },
          "metadata": {}
        }
      ]
    },
    {
      "cell_type": "code",
      "source": [
        "billboard_long <- billboard %>%\n",
        "  pivot_longer(cols = starts_with(\"wk\"),\n",
        "               names_to = \"week\",\n",
        "               values_to = \"rank\",\n",
        "               values_drop_na = TRUE\n",
        "               )\n",
        "billboard_long %>% head"
      ],
      "metadata": {
        "colab": {
          "base_uri": "https://localhost:8080/",
          "height": 286
        },
        "id": "7b_OA26SuQ7U",
        "outputId": "0ba6c1d1-13b9-4436-b144-1726c5ab014b"
      },
      "execution_count": null,
      "outputs": [
        {
          "output_type": "display_data",
          "data": {
            "text/html": [
              "<table class=\"dataframe\">\n",
              "<caption>A tibble: 6 × 5</caption>\n",
              "<thead>\n",
              "\t<tr><th scope=col>artist</th><th scope=col>track</th><th scope=col>date.entered</th><th scope=col>week</th><th scope=col>rank</th></tr>\n",
              "\t<tr><th scope=col>&lt;chr&gt;</th><th scope=col>&lt;chr&gt;</th><th scope=col>&lt;date&gt;</th><th scope=col>&lt;chr&gt;</th><th scope=col>&lt;dbl&gt;</th></tr>\n",
              "</thead>\n",
              "<tbody>\n",
              "\t<tr><td>2 Pac</td><td>Baby Don't Cry (Keep...</td><td>2000-02-26</td><td>wk1</td><td>87</td></tr>\n",
              "\t<tr><td>2 Pac</td><td>Baby Don't Cry (Keep...</td><td>2000-02-26</td><td>wk2</td><td>82</td></tr>\n",
              "\t<tr><td>2 Pac</td><td>Baby Don't Cry (Keep...</td><td>2000-02-26</td><td>wk3</td><td>72</td></tr>\n",
              "\t<tr><td>2 Pac</td><td>Baby Don't Cry (Keep...</td><td>2000-02-26</td><td>wk4</td><td>77</td></tr>\n",
              "\t<tr><td>2 Pac</td><td>Baby Don't Cry (Keep...</td><td>2000-02-26</td><td>wk5</td><td>87</td></tr>\n",
              "\t<tr><td>2 Pac</td><td>Baby Don't Cry (Keep...</td><td>2000-02-26</td><td>wk6</td><td>94</td></tr>\n",
              "</tbody>\n",
              "</table>\n"
            ],
            "text/markdown": "\nA tibble: 6 × 5\n\n| artist &lt;chr&gt; | track &lt;chr&gt; | date.entered &lt;date&gt; | week &lt;chr&gt; | rank &lt;dbl&gt; |\n|---|---|---|---|---|\n| 2 Pac | Baby Don't Cry (Keep... | 2000-02-26 | wk1 | 87 |\n| 2 Pac | Baby Don't Cry (Keep... | 2000-02-26 | wk2 | 82 |\n| 2 Pac | Baby Don't Cry (Keep... | 2000-02-26 | wk3 | 72 |\n| 2 Pac | Baby Don't Cry (Keep... | 2000-02-26 | wk4 | 77 |\n| 2 Pac | Baby Don't Cry (Keep... | 2000-02-26 | wk5 | 87 |\n| 2 Pac | Baby Don't Cry (Keep... | 2000-02-26 | wk6 | 94 |\n\n",
            "text/latex": "A tibble: 6 × 5\n\\begin{tabular}{lllll}\n artist & track & date.entered & week & rank\\\\\n <chr> & <chr> & <date> & <chr> & <dbl>\\\\\n\\hline\n\t 2 Pac & Baby Don't Cry (Keep... & 2000-02-26 & wk1 & 87\\\\\n\t 2 Pac & Baby Don't Cry (Keep... & 2000-02-26 & wk2 & 82\\\\\n\t 2 Pac & Baby Don't Cry (Keep... & 2000-02-26 & wk3 & 72\\\\\n\t 2 Pac & Baby Don't Cry (Keep... & 2000-02-26 & wk4 & 77\\\\\n\t 2 Pac & Baby Don't Cry (Keep... & 2000-02-26 & wk5 & 87\\\\\n\t 2 Pac & Baby Don't Cry (Keep... & 2000-02-26 & wk6 & 94\\\\\n\\end{tabular}\n",
            "text/plain": [
              "  artist track                   date.entered week rank\n",
              "1 2 Pac  Baby Don't Cry (Keep... 2000-02-26   wk1  87  \n",
              "2 2 Pac  Baby Don't Cry (Keep... 2000-02-26   wk2  82  \n",
              "3 2 Pac  Baby Don't Cry (Keep... 2000-02-26   wk3  72  \n",
              "4 2 Pac  Baby Don't Cry (Keep... 2000-02-26   wk4  77  \n",
              "5 2 Pac  Baby Don't Cry (Keep... 2000-02-26   wk5  87  \n",
              "6 2 Pac  Baby Don't Cry (Keep... 2000-02-26   wk6  94  "
            ]
          },
          "metadata": {}
        }
      ]
    },
    {
      "cell_type": "markdown",
      "source": [
        "#### Subproblem: convert `week` column from character to integer type: \"wk8\"  should become `8` for example."
      ],
      "metadata": {
        "id": "hVe753RzIGH4"
      }
    },
    {
      "cell_type": "code",
      "source": [
        "billboard_long %>% mutate(week = as.integer(str_replace(week, \"wk\", \"\"))) %>% head"
      ],
      "metadata": {
        "colab": {
          "base_uri": "https://localhost:8080/",
          "height": 286
        },
        "id": "FuZOq1t5IAst",
        "outputId": "bd09494a-435b-4f96-8166-01de37e409b1"
      },
      "execution_count": null,
      "outputs": [
        {
          "output_type": "display_data",
          "data": {
            "text/html": [
              "<table class=\"dataframe\">\n",
              "<caption>A tibble: 6 × 5</caption>\n",
              "<thead>\n",
              "\t<tr><th scope=col>artist</th><th scope=col>track</th><th scope=col>date.entered</th><th scope=col>week</th><th scope=col>rank</th></tr>\n",
              "\t<tr><th scope=col>&lt;chr&gt;</th><th scope=col>&lt;chr&gt;</th><th scope=col>&lt;date&gt;</th><th scope=col>&lt;int&gt;</th><th scope=col>&lt;dbl&gt;</th></tr>\n",
              "</thead>\n",
              "<tbody>\n",
              "\t<tr><td>2 Pac</td><td>Baby Don't Cry (Keep...</td><td>2000-02-26</td><td>1</td><td>87</td></tr>\n",
              "\t<tr><td>2 Pac</td><td>Baby Don't Cry (Keep...</td><td>2000-02-26</td><td>2</td><td>82</td></tr>\n",
              "\t<tr><td>2 Pac</td><td>Baby Don't Cry (Keep...</td><td>2000-02-26</td><td>3</td><td>72</td></tr>\n",
              "\t<tr><td>2 Pac</td><td>Baby Don't Cry (Keep...</td><td>2000-02-26</td><td>4</td><td>77</td></tr>\n",
              "\t<tr><td>2 Pac</td><td>Baby Don't Cry (Keep...</td><td>2000-02-26</td><td>5</td><td>87</td></tr>\n",
              "\t<tr><td>2 Pac</td><td>Baby Don't Cry (Keep...</td><td>2000-02-26</td><td>6</td><td>94</td></tr>\n",
              "</tbody>\n",
              "</table>\n"
            ],
            "text/markdown": "\nA tibble: 6 × 5\n\n| artist &lt;chr&gt; | track &lt;chr&gt; | date.entered &lt;date&gt; | week &lt;int&gt; | rank &lt;dbl&gt; |\n|---|---|---|---|---|\n| 2 Pac | Baby Don't Cry (Keep... | 2000-02-26 | 1 | 87 |\n| 2 Pac | Baby Don't Cry (Keep... | 2000-02-26 | 2 | 82 |\n| 2 Pac | Baby Don't Cry (Keep... | 2000-02-26 | 3 | 72 |\n| 2 Pac | Baby Don't Cry (Keep... | 2000-02-26 | 4 | 77 |\n| 2 Pac | Baby Don't Cry (Keep... | 2000-02-26 | 5 | 87 |\n| 2 Pac | Baby Don't Cry (Keep... | 2000-02-26 | 6 | 94 |\n\n",
            "text/latex": "A tibble: 6 × 5\n\\begin{tabular}{lllll}\n artist & track & date.entered & week & rank\\\\\n <chr> & <chr> & <date> & <int> & <dbl>\\\\\n\\hline\n\t 2 Pac & Baby Don't Cry (Keep... & 2000-02-26 & 1 & 87\\\\\n\t 2 Pac & Baby Don't Cry (Keep... & 2000-02-26 & 2 & 82\\\\\n\t 2 Pac & Baby Don't Cry (Keep... & 2000-02-26 & 3 & 72\\\\\n\t 2 Pac & Baby Don't Cry (Keep... & 2000-02-26 & 4 & 77\\\\\n\t 2 Pac & Baby Don't Cry (Keep... & 2000-02-26 & 5 & 87\\\\\n\t 2 Pac & Baby Don't Cry (Keep... & 2000-02-26 & 6 & 94\\\\\n\\end{tabular}\n",
            "text/plain": [
              "  artist track                   date.entered week rank\n",
              "1 2 Pac  Baby Don't Cry (Keep... 2000-02-26   1    87  \n",
              "2 2 Pac  Baby Don't Cry (Keep... 2000-02-26   2    82  \n",
              "3 2 Pac  Baby Don't Cry (Keep... 2000-02-26   3    72  \n",
              "4 2 Pac  Baby Don't Cry (Keep... 2000-02-26   4    77  \n",
              "5 2 Pac  Baby Don't Cry (Keep... 2000-02-26   5    87  \n",
              "6 2 Pac  Baby Don't Cry (Keep... 2000-02-26   6    94  "
            ]
          },
          "metadata": {}
        }
      ]
    },
    {
      "cell_type": "markdown",
      "source": [
        "## Exercise 1b.\n",
        "Which song was a top hit for the most weeks? List tracks (along with the artist) in descending order by the number of weeks they stayed in the top 100. (If you have heard of any of these songs then I'm impressed.)"
      ],
      "metadata": {
        "id": "s_LX4yERuaPM"
      }
    },
    {
      "cell_type": "code",
      "source": [
        "billboard_long %>% group_by(artist, track) %>% \n",
        "  summarize(n_weeks_hit = n()) %>% arrange(-n_weeks_hit) %>% head(10)"
      ],
      "metadata": {
        "colab": {
          "base_uri": "https://localhost:8080/",
          "height": 449
        },
        "id": "T6hrqCHmuXlO",
        "outputId": "8858bbd8-4526-4666-c8b0-ae6daeaf6edf"
      },
      "execution_count": null,
      "outputs": [
        {
          "output_type": "stream",
          "name": "stderr",
          "text": [
            "\u001b[1m\u001b[22m`summarise()` has grouped output by 'artist'. You can override using the\n",
            "`.groups` argument.\n"
          ]
        },
        {
          "output_type": "display_data",
          "data": {
            "text/html": [
              "<table class=\"dataframe\">\n",
              "<caption>A grouped_df: 10 × 3</caption>\n",
              "<thead>\n",
              "\t<tr><th scope=col>artist</th><th scope=col>track</th><th scope=col>n_weeks_hit</th></tr>\n",
              "\t<tr><th scope=col>&lt;chr&gt;</th><th scope=col>&lt;chr&gt;</th><th scope=col>&lt;int&gt;</th></tr>\n",
              "</thead>\n",
              "<tbody>\n",
              "\t<tr><td>Creed           </td><td>Higher                 </td><td>57</td></tr>\n",
              "\t<tr><td>Lonestar        </td><td>Amazed                 </td><td>55</td></tr>\n",
              "\t<tr><td>3 Doors Down    </td><td>Kryptonite             </td><td>53</td></tr>\n",
              "\t<tr><td>Hill, Faith     </td><td>Breathe                </td><td>53</td></tr>\n",
              "\t<tr><td>Creed           </td><td>With Arms Wide Open    </td><td>47</td></tr>\n",
              "\t<tr><td>Joe             </td><td>I Wanna Know           </td><td>44</td></tr>\n",
              "\t<tr><td>Vertical Horizon</td><td>Everything You Want    </td><td>41</td></tr>\n",
              "\t<tr><td>matchbox twenty </td><td>Bent                   </td><td>39</td></tr>\n",
              "\t<tr><td>Braxton, Toni   </td><td>He Wasn't Man Enough   </td><td>37</td></tr>\n",
              "\t<tr><td>Nelly           </td><td>(Hot S**t) Country G...</td><td>34</td></tr>\n",
              "</tbody>\n",
              "</table>\n"
            ],
            "text/markdown": "\nA grouped_df: 10 × 3\n\n| artist &lt;chr&gt; | track &lt;chr&gt; | n_weeks_hit &lt;int&gt; |\n|---|---|---|\n| Creed            | Higher                  | 57 |\n| Lonestar         | Amazed                  | 55 |\n| 3 Doors Down     | Kryptonite              | 53 |\n| Hill, Faith      | Breathe                 | 53 |\n| Creed            | With Arms Wide Open     | 47 |\n| Joe              | I Wanna Know            | 44 |\n| Vertical Horizon | Everything You Want     | 41 |\n| matchbox twenty  | Bent                    | 39 |\n| Braxton, Toni    | He Wasn't Man Enough    | 37 |\n| Nelly            | (Hot S**t) Country G... | 34 |\n\n",
            "text/latex": "A grouped\\_df: 10 × 3\n\\begin{tabular}{lll}\n artist & track & n\\_weeks\\_hit\\\\\n <chr> & <chr> & <int>\\\\\n\\hline\n\t Creed            & Higher                  & 57\\\\\n\t Lonestar         & Amazed                  & 55\\\\\n\t 3 Doors Down     & Kryptonite              & 53\\\\\n\t Hill, Faith      & Breathe                 & 53\\\\\n\t Creed            & With Arms Wide Open     & 47\\\\\n\t Joe              & I Wanna Know            & 44\\\\\n\t Vertical Horizon & Everything You Want     & 41\\\\\n\t matchbox twenty  & Bent                    & 39\\\\\n\t Braxton, Toni    & He Wasn't Man Enough    & 37\\\\\n\t Nelly            & (Hot S**t) Country G... & 34\\\\\n\\end{tabular}\n",
            "text/plain": [
              "   artist           track                   n_weeks_hit\n",
              "1  Creed            Higher                  57         \n",
              "2  Lonestar         Amazed                  55         \n",
              "3  3 Doors Down     Kryptonite              53         \n",
              "4  Hill, Faith      Breathe                 53         \n",
              "5  Creed            With Arms Wide Open     47         \n",
              "6  Joe              I Wanna Know            44         \n",
              "7  Vertical Horizon Everything You Want     41         \n",
              "8  matchbox twenty  Bent                    39         \n",
              "9  Braxton, Toni    He Wasn't Man Enough    37         \n",
              "10 Nelly            (Hot S**t) Country G... 34         "
            ]
          },
          "metadata": {}
        }
      ]
    },
    {
      "cell_type": "markdown",
      "source": [
        "## Exercise 1c.\n",
        "\n",
        "Find all the artists with number one hits and count how many each had. Which artists had the most number one hits in 2000?"
      ],
      "metadata": {
        "id": "lzRdLcqAwCvX"
      }
    },
    {
      "cell_type": "code",
      "source": [
        "billboard_long %>% filter(rank == 1) %>%distinct(artist, track)  %>% group_by(artist) %>% summarise(n = n())"
      ],
      "metadata": {
        "colab": {
          "base_uri": "https://localhost:8080/",
          "height": 569
        },
        "id": "AM_04rGyvskQ",
        "outputId": "57206926-9dc8-43e2-a365-30bd5c839ec4"
      },
      "execution_count": null,
      "outputs": [
        {
          "output_type": "display_data",
          "data": {
            "text/html": [
              "<table class=\"dataframe\">\n",
              "<caption>A tibble: 15 × 2</caption>\n",
              "<thead>\n",
              "\t<tr><th scope=col>artist</th><th scope=col>n</th></tr>\n",
              "\t<tr><th scope=col>&lt;chr&gt;</th><th scope=col>&lt;int&gt;</th></tr>\n",
              "</thead>\n",
              "<tbody>\n",
              "\t<tr><td>Aaliyah            </td><td>1</td></tr>\n",
              "\t<tr><td>Aguilera, Christina</td><td>2</td></tr>\n",
              "\t<tr><td>Carey, Mariah      </td><td>1</td></tr>\n",
              "\t<tr><td>Creed              </td><td>1</td></tr>\n",
              "\t<tr><td>Destiny's Child    </td><td>2</td></tr>\n",
              "\t<tr><td>Iglesias, Enrique  </td><td>1</td></tr>\n",
              "\t<tr><td>Janet              </td><td>1</td></tr>\n",
              "\t<tr><td>Lonestar           </td><td>1</td></tr>\n",
              "\t<tr><td>Madonna            </td><td>1</td></tr>\n",
              "\t<tr><td>matchbox twenty    </td><td>1</td></tr>\n",
              "\t<tr><td>N'Sync             </td><td>1</td></tr>\n",
              "\t<tr><td>Santana            </td><td>1</td></tr>\n",
              "\t<tr><td>Savage Garden      </td><td>1</td></tr>\n",
              "\t<tr><td>Sisqo              </td><td>1</td></tr>\n",
              "\t<tr><td>Vertical Horizon   </td><td>1</td></tr>\n",
              "</tbody>\n",
              "</table>\n"
            ],
            "text/markdown": "\nA tibble: 15 × 2\n\n| artist &lt;chr&gt; | n &lt;int&gt; |\n|---|---|\n| Aaliyah             | 1 |\n| Aguilera, Christina | 2 |\n| Carey, Mariah       | 1 |\n| Creed               | 1 |\n| Destiny's Child     | 2 |\n| Iglesias, Enrique   | 1 |\n| Janet               | 1 |\n| Lonestar            | 1 |\n| Madonna             | 1 |\n| matchbox twenty     | 1 |\n| N'Sync              | 1 |\n| Santana             | 1 |\n| Savage Garden       | 1 |\n| Sisqo               | 1 |\n| Vertical Horizon    | 1 |\n\n",
            "text/latex": "A tibble: 15 × 2\n\\begin{tabular}{ll}\n artist & n\\\\\n <chr> & <int>\\\\\n\\hline\n\t Aaliyah             & 1\\\\\n\t Aguilera, Christina & 2\\\\\n\t Carey, Mariah       & 1\\\\\n\t Creed               & 1\\\\\n\t Destiny's Child     & 2\\\\\n\t Iglesias, Enrique   & 1\\\\\n\t Janet               & 1\\\\\n\t Lonestar            & 1\\\\\n\t Madonna             & 1\\\\\n\t matchbox twenty     & 1\\\\\n\t N'Sync              & 1\\\\\n\t Santana             & 1\\\\\n\t Savage Garden       & 1\\\\\n\t Sisqo               & 1\\\\\n\t Vertical Horizon    & 1\\\\\n\\end{tabular}\n",
            "text/plain": [
              "   artist              n\n",
              "1  Aaliyah             1\n",
              "2  Aguilera, Christina 2\n",
              "3  Carey, Mariah       1\n",
              "4  Creed               1\n",
              "5  Destiny's Child     2\n",
              "6  Iglesias, Enrique   1\n",
              "7  Janet               1\n",
              "8  Lonestar            1\n",
              "9  Madonna             1\n",
              "10 matchbox twenty     1\n",
              "11 N'Sync              1\n",
              "12 Santana             1\n",
              "13 Savage Garden       1\n",
              "14 Sisqo               1\n",
              "15 Vertical Horizon    1"
            ]
          },
          "metadata": {}
        }
      ]
    },
    {
      "cell_type": "markdown",
      "source": [
        "## Exercise 1d.\n",
        "\n",
        "For each artist, create a column called `all_songs` listing the number of unique tracks they have. Using this column, find the subset of artists with at least 3 hits. Save this to a tibble called `many_hits`."
      ],
      "metadata": {
        "id": "pDRV-XsPviDx"
      }
    },
    {
      "cell_type": "code",
      "source": [
        "# billboard_long %>% group_by(artist) %>% \n",
        "#   summarise(all_songs = (list(unique(track))))"
      ],
      "metadata": {
        "id": "Isf1FE5RL3qq"
      },
      "execution_count": null,
      "outputs": []
    },
    {
      "cell_type": "code",
      "source": [
        "many_hits <- billboard_long %>% group_by(artist) %>% \n",
        "  summarise(all_songs = (list(unique(track)))) %>% filter(lengths(all_songs) > 2)\n",
        "\n",
        "  # lengths applies the length function to each element in a vector..."
      ],
      "metadata": {
        "id": "jFJDhzaovhR1"
      },
      "execution_count": null,
      "outputs": []
    },
    {
      "cell_type": "code",
      "source": [
        "many_hits"
      ],
      "metadata": {
        "colab": {
          "base_uri": "https://localhost:8080/",
          "height": 757
        },
        "id": "2RrTzwErMD2a",
        "outputId": "754510df-4295-46a2-8364-7f1cc6038eb0"
      },
      "execution_count": null,
      "outputs": [
        {
          "output_type": "display_data",
          "data": {
            "text/html": [
              "<table class=\"dataframe\">\n",
              "<caption>A tibble: 21 × 2</caption>\n",
              "<thead>\n",
              "\t<tr><th scope=col>artist</th><th scope=col>all_songs</th></tr>\n",
              "\t<tr><th scope=col>&lt;chr&gt;</th><th scope=col>&lt;list&gt;</th></tr>\n",
              "</thead>\n",
              "<tbody>\n",
              "\t<tr><td>Aguilera, Christina </td><td>Come On Over Baby (A..., I Turn To You          , What A Girl Wants      </td></tr>\n",
              "\t<tr><td>Backstreet Boys, The</td><td>Shape Of My Heart      , Show Me The Meaning ..., The One                </td></tr>\n",
              "\t<tr><td>Braxton, Toni       </td><td>He Wasn't Man Enough   , Just Be A Man About ..., Spanish Guitar         </td></tr>\n",
              "\t<tr><td>Destiny's Child     </td><td>Independent Women Pa..., Jumpin' Jumpin'        , Say My Name            </td></tr>\n",
              "\t<tr><td>Dixie Chicks, The   </td><td>Cold Day In July   , Cowboy Take Me Away, Goodbye Earl       , Without You        </td></tr>\n",
              "\t<tr><td>DMX                 </td><td>Party Up (Up In Here..., What You Want          , What's My Name         </td></tr>\n",
              "\t<tr><td>Eminem              </td><td>Stan               , The Real Slim Shady, The Way I Am       </td></tr>\n",
              "\t<tr><td>Houston, Whitney    </td><td>Could I Have This Ki..., I Learned From The B..., My Love Is Your Love   , Same Script, Differe...</td></tr>\n",
              "\t<tr><td>Jackson, Alan       </td><td>It Must Be Love, Pop A Top      , www.memory     </td></tr>\n",
              "\t<tr><td>Jay-Z               </td><td>Anything               , Big Pimpin'            , Do It Again (Put Ya ..., Hey Papi               , I Just Wanna Love U ...</td></tr>\n",
              "\t<tr><td>Limp Bizkit         </td><td>N 2 Gether Now, Re-Arranged   , Rollin'       </td></tr>\n",
              "\t<tr><td>Lonestar            </td><td>Amazed        , Smile         , What About Now</td></tr>\n",
              "\t<tr><td>Martin, Ricky       </td><td>Private Emotion   , Shake Your Bon-Bon, She Bangs         </td></tr>\n",
              "\t<tr><td>McGraw, Tim         </td><td>My Best Friend         , My Next Thirty Years   , Some Things Never Ch...</td></tr>\n",
              "\t<tr><td>N'Sync              </td><td>Bye Bye Bye       , It's Gonna Be Me  , This I Promise You</td></tr>\n",
              "\t<tr><td>Price, Kelly        </td><td>As We Lay              , Love Sets You Free     , You Should've Told M...</td></tr>\n",
              "\t<tr><td>Rimes, LeAnn        </td><td>Big Deal               , Can't Fight The Moon..., I Need You             </td></tr>\n",
              "\t<tr><td>SheDaisy            </td><td>Deck The Halls  , I Will.. But    , This Woman Needs</td></tr>\n",
              "\t<tr><td>Sisqo               </td><td>Got To Get It, Incomplete   , Thong Song   </td></tr>\n",
              "\t<tr><td>Spears, Britney     </td><td>From The Bottom Of M..., Lucky                  , Oops!.. I Did It Aga...</td></tr>\n",
              "\t<tr><td>Thomas, Carl        </td><td>Emotional  , I Wish     , Summer Rain</td></tr>\n",
              "</tbody>\n",
              "</table>\n"
            ],
            "text/markdown": "\nA tibble: 21 × 2\n\n| artist &lt;chr&gt; | all_songs &lt;list&gt; |\n|---|---|\n| Aguilera, Christina  | Come On Over Baby (A..., I Turn To You          , What A Girl Wants       |\n| Backstreet Boys, The | Shape Of My Heart      , Show Me The Meaning ..., The One                 |\n| Braxton, Toni        | He Wasn't Man Enough   , Just Be A Man About ..., Spanish Guitar          |\n| Destiny's Child      | Independent Women Pa..., Jumpin' Jumpin'        , Say My Name             |\n| Dixie Chicks, The    | Cold Day In July   , Cowboy Take Me Away, Goodbye Earl       , Without You         |\n| DMX                  | Party Up (Up In Here..., What You Want          , What's My Name          |\n| Eminem               | Stan               , The Real Slim Shady, The Way I Am        |\n| Houston, Whitney     | Could I Have This Ki..., I Learned From The B..., My Love Is Your Love   , Same Script, Differe... |\n| Jackson, Alan        | It Must Be Love, Pop A Top      , www.memory      |\n| Jay-Z                | Anything               , Big Pimpin'            , Do It Again (Put Ya ..., Hey Papi               , I Just Wanna Love U ... |\n| Limp Bizkit          | N 2 Gether Now, Re-Arranged   , Rollin'        |\n| Lonestar             | Amazed        , Smile         , What About Now |\n| Martin, Ricky        | Private Emotion   , Shake Your Bon-Bon, She Bangs          |\n| McGraw, Tim          | My Best Friend         , My Next Thirty Years   , Some Things Never Ch... |\n| N'Sync               | Bye Bye Bye       , It's Gonna Be Me  , This I Promise You |\n| Price, Kelly         | As We Lay              , Love Sets You Free     , You Should've Told M... |\n| Rimes, LeAnn         | Big Deal               , Can't Fight The Moon..., I Need You              |\n| SheDaisy             | Deck The Halls  , I Will.. But    , This Woman Needs |\n| Sisqo                | Got To Get It, Incomplete   , Thong Song    |\n| Spears, Britney      | From The Bottom Of M..., Lucky                  , Oops!.. I Did It Aga... |\n| Thomas, Carl         | Emotional  , I Wish     , Summer Rain |\n\n",
            "text/latex": "A tibble: 21 × 2\n\\begin{tabular}{ll}\n artist & all\\_songs\\\\\n <chr> & <list>\\\\\n\\hline\n\t Aguilera, Christina  & Come On Over Baby (A..., I Turn To You          , What A Girl Wants      \\\\\n\t Backstreet Boys, The & Shape Of My Heart      , Show Me The Meaning ..., The One                \\\\\n\t Braxton, Toni        & He Wasn't Man Enough   , Just Be A Man About ..., Spanish Guitar         \\\\\n\t Destiny's Child      & Independent Women Pa..., Jumpin' Jumpin'        , Say My Name            \\\\\n\t Dixie Chicks, The    & Cold Day In July   , Cowboy Take Me Away, Goodbye Earl       , Without You        \\\\\n\t DMX                  & Party Up (Up In Here..., What You Want          , What's My Name         \\\\\n\t Eminem               & Stan               , The Real Slim Shady, The Way I Am       \\\\\n\t Houston, Whitney     & Could I Have This Ki..., I Learned From The B..., My Love Is Your Love   , Same Script, Differe...\\\\\n\t Jackson, Alan        & It Must Be Love, Pop A Top      , www.memory     \\\\\n\t Jay-Z                & Anything               , Big Pimpin'            , Do It Again (Put Ya ..., Hey Papi               , I Just Wanna Love U ...\\\\\n\t Limp Bizkit          & N 2 Gether Now, Re-Arranged   , Rollin'       \\\\\n\t Lonestar             & Amazed        , Smile         , What About Now\\\\\n\t Martin, Ricky        & Private Emotion   , Shake Your Bon-Bon, She Bangs         \\\\\n\t McGraw, Tim          & My Best Friend         , My Next Thirty Years   , Some Things Never Ch...\\\\\n\t N'Sync               & Bye Bye Bye       , It's Gonna Be Me  , This I Promise You\\\\\n\t Price, Kelly         & As We Lay              , Love Sets You Free     , You Should've Told M...\\\\\n\t Rimes, LeAnn         & Big Deal               , Can't Fight The Moon..., I Need You             \\\\\n\t SheDaisy             & Deck The Halls  , I Will.. But    , This Woman Needs\\\\\n\t Sisqo                & Got To Get It, Incomplete   , Thong Song   \\\\\n\t Spears, Britney      & From The Bottom Of M..., Lucky                  , Oops!.. I Did It Aga...\\\\\n\t Thomas, Carl         & Emotional  , I Wish     , Summer Rain\\\\\n\\end{tabular}\n",
            "text/plain": [
              "   artist              \n",
              "1  Aguilera, Christina \n",
              "2  Backstreet Boys, The\n",
              "3  Braxton, Toni       \n",
              "4  Destiny's Child     \n",
              "5  Dixie Chicks, The   \n",
              "6  DMX                 \n",
              "7  Eminem              \n",
              "8  Houston, Whitney    \n",
              "9  Jackson, Alan       \n",
              "10 Jay-Z               \n",
              "11 Limp Bizkit         \n",
              "12 Lonestar            \n",
              "13 Martin, Ricky       \n",
              "14 McGraw, Tim         \n",
              "15 N'Sync              \n",
              "16 Price, Kelly        \n",
              "17 Rimes, LeAnn        \n",
              "18 SheDaisy            \n",
              "19 Sisqo               \n",
              "20 Spears, Britney     \n",
              "21 Thomas, Carl        \n",
              "   all_songs                                                                                                                  \n",
              "1  Come On Over Baby (A..., I Turn To You          , What A Girl Wants                                                        \n",
              "2  Shape Of My Heart      , Show Me The Meaning ..., The One                                                                  \n",
              "3  He Wasn't Man Enough   , Just Be A Man About ..., Spanish Guitar                                                           \n",
              "4  Independent Women Pa..., Jumpin' Jumpin'        , Say My Name                                                              \n",
              "5  Cold Day In July   , Cowboy Take Me Away, Goodbye Earl       , Without You                                                 \n",
              "6  Party Up (Up In Here..., What You Want          , What's My Name                                                           \n",
              "7  Stan               , The Real Slim Shady, The Way I Am                                                                     \n",
              "8  Could I Have This Ki..., I Learned From The B..., My Love Is Your Love   , Same Script, Differe...                         \n",
              "9  It Must Be Love, Pop A Top      , www.memory                                                                               \n",
              "10 Anything               , Big Pimpin'            , Do It Again (Put Ya ..., Hey Papi               , I Just Wanna Love U ...\n",
              "11 N 2 Gether Now, Re-Arranged   , Rollin'                                                                                    \n",
              "12 Amazed        , Smile         , What About Now                                                                             \n",
              "13 Private Emotion   , Shake Your Bon-Bon, She Bangs                                                                          \n",
              "14 My Best Friend         , My Next Thirty Years   , Some Things Never Ch...                                                  \n",
              "15 Bye Bye Bye       , It's Gonna Be Me  , This I Promise You                                                                 \n",
              "16 As We Lay              , Love Sets You Free     , You Should've Told M...                                                  \n",
              "17 Big Deal               , Can't Fight The Moon..., I Need You                                                               \n",
              "18 Deck The Halls  , I Will.. But    , This Woman Needs                                                                       \n",
              "19 Got To Get It, Incomplete   , Thong Song                                                                                   \n",
              "20 From The Bottom Of M..., Lucky                  , Oops!.. I Did It Aga...                                                  \n",
              "21 Emotional  , I Wish     , Summer Rain                                                                                      "
            ]
          },
          "metadata": {}
        }
      ]
    },
    {
      "cell_type": "markdown",
      "source": [
        "## Exercise 1e.\n",
        "\n",
        "Bonus challenge: How many unique words (space-separated) are found in all songs in this data set?"
      ],
      "metadata": {
        "id": "IgHtFCinz2hH"
      }
    },
    {
      "cell_type": "code",
      "source": [
        "billboard_long$track %>% unique() %>% str_split(\" \") %>% lengths %>% sum"
      ],
      "metadata": {
        "colab": {
          "base_uri": "https://localhost:8080/",
          "height": 34
        },
        "id": "lhCuRu090t5x",
        "outputId": "bf75c673-a0da-4423-b3b3-46854c656f4a"
      },
      "execution_count": null,
      "outputs": [
        {
          "output_type": "display_data",
          "data": {
            "text/html": [
              "953"
            ],
            "text/markdown": "953",
            "text/latex": "953",
            "text/plain": [
              "[1] 953"
            ]
          },
          "metadata": {}
        }
      ]
    },
    {
      "cell_type": "markdown",
      "source": [
        "## Exercise 2a.\n",
        "\n",
        "Write a function called `is_prime` that accepts an integer argument `num`. This function should return True when given a prime number and false otherwise.\n",
        "\n",
        "Hint: Suppose `num` is 21. Can you use a vector to tell how many numbers smaller than 21 and larger than 1 divide 21?"
      ],
      "metadata": {
        "id": "4OPPXo9w4kGu"
      }
    },
    {
      "cell_type": "code",
      "source": [
        "num <- 8\n",
        "\n",
        "any((num %% 2:(num-1) == 0))"
      ],
      "metadata": {
        "colab": {
          "base_uri": "https://localhost:8080/",
          "height": 34
        },
        "id": "o34kPADVOo8Q",
        "outputId": "f680249e-78e8-48fc-ec69-3dc81bbd49e6"
      },
      "execution_count": null,
      "outputs": [
        {
          "output_type": "display_data",
          "data": {
            "text/html": [
              "TRUE"
            ],
            "text/markdown": "TRUE",
            "text/latex": "TRUE",
            "text/plain": [
              "[1] TRUE"
            ]
          },
          "metadata": {}
        }
      ]
    },
    {
      "cell_type": "code",
      "source": [
        "is_prime <- function(num) {\n",
        "   if (num == 2) {\n",
        "      TRUE\n",
        "   } else if (any(num %% 2:(num-1) == 0)) {\n",
        "      FALSE\n",
        "   } else { \n",
        "      TRUE\n",
        "   }\n",
        "}"
      ],
      "metadata": {
        "id": "RhWT1eTd0_i9"
      },
      "execution_count": null,
      "outputs": []
    },
    {
      "cell_type": "markdown",
      "source": [
        "## Exercise 2b.\n",
        "\n",
        "For $i =1, \\cdots, 30,$ create a vector where the $i$th element is \"duck\" if $i+1$ is prime or \"goose\" if $i+1$ is not prime. Do this without loops."
      ],
      "metadata": {
        "id": "TL_7zFY-5sSv"
      }
    },
    {
      "cell_type": "code",
      "source": [
        "map_lgl(2:31, is_prime)"
      ],
      "metadata": {
        "colab": {
          "base_uri": "https://localhost:8080/",
          "height": 52
        },
        "id": "HxzNvJwPPeU-",
        "outputId": "db696041-f907-40a5-a7e2-21a43ead56fd"
      },
      "execution_count": null,
      "outputs": [
        {
          "output_type": "display_data",
          "data": {
            "text/html": [
              "<style>\n",
              ".list-inline {list-style: none; margin:0; padding: 0}\n",
              ".list-inline>li {display: inline-block}\n",
              ".list-inline>li:not(:last-child)::after {content: \"\\00b7\"; padding: 0 .5ex}\n",
              "</style>\n",
              "<ol class=list-inline><li>TRUE</li><li>TRUE</li><li>FALSE</li><li>TRUE</li><li>FALSE</li><li>TRUE</li><li>FALSE</li><li>FALSE</li><li>FALSE</li><li>TRUE</li><li>FALSE</li><li>TRUE</li><li>FALSE</li><li>FALSE</li><li>FALSE</li><li>TRUE</li><li>FALSE</li><li>TRUE</li><li>FALSE</li><li>FALSE</li><li>FALSE</li><li>TRUE</li><li>FALSE</li><li>FALSE</li><li>FALSE</li><li>FALSE</li><li>FALSE</li><li>TRUE</li><li>FALSE</li><li>TRUE</li></ol>\n"
            ],
            "text/markdown": "1. TRUE\n2. TRUE\n3. FALSE\n4. TRUE\n5. FALSE\n6. TRUE\n7. FALSE\n8. FALSE\n9. FALSE\n10. TRUE\n11. FALSE\n12. TRUE\n13. FALSE\n14. FALSE\n15. FALSE\n16. TRUE\n17. FALSE\n18. TRUE\n19. FALSE\n20. FALSE\n21. FALSE\n22. TRUE\n23. FALSE\n24. FALSE\n25. FALSE\n26. FALSE\n27. FALSE\n28. TRUE\n29. FALSE\n30. TRUE\n\n\n",
            "text/latex": "\\begin{enumerate*}\n\\item TRUE\n\\item TRUE\n\\item FALSE\n\\item TRUE\n\\item FALSE\n\\item TRUE\n\\item FALSE\n\\item FALSE\n\\item FALSE\n\\item TRUE\n\\item FALSE\n\\item TRUE\n\\item FALSE\n\\item FALSE\n\\item FALSE\n\\item TRUE\n\\item FALSE\n\\item TRUE\n\\item FALSE\n\\item FALSE\n\\item FALSE\n\\item TRUE\n\\item FALSE\n\\item FALSE\n\\item FALSE\n\\item FALSE\n\\item FALSE\n\\item TRUE\n\\item FALSE\n\\item TRUE\n\\end{enumerate*}\n",
            "text/plain": [
              " [1]  TRUE  TRUE FALSE  TRUE FALSE  TRUE FALSE FALSE FALSE  TRUE FALSE  TRUE\n",
              "[13] FALSE FALSE FALSE  TRUE FALSE  TRUE FALSE FALSE FALSE  TRUE FALSE FALSE\n",
              "[25] FALSE FALSE FALSE  TRUE FALSE  TRUE"
            ]
          },
          "metadata": {}
        }
      ]
    },
    {
      "cell_type": "code",
      "source": [
        "dg <- ifelse(map_lgl(2:31, is_prime), \"duck\", \"goose\")\n",
        "dg"
      ],
      "metadata": {
        "colab": {
          "base_uri": "https://localhost:8080/",
          "height": 52
        },
        "id": "0loDTr7351dc",
        "outputId": "f66788dd-5b2c-491f-ccbe-ca8d33203429"
      },
      "execution_count": null,
      "outputs": [
        {
          "output_type": "display_data",
          "data": {
            "text/html": [
              "<style>\n",
              ".list-inline {list-style: none; margin:0; padding: 0}\n",
              ".list-inline>li {display: inline-block}\n",
              ".list-inline>li:not(:last-child)::after {content: \"\\00b7\"; padding: 0 .5ex}\n",
              "</style>\n",
              "<ol class=list-inline><li>'duck'</li><li>'duck'</li><li>'goose'</li><li>'duck'</li><li>'goose'</li><li>'duck'</li><li>'goose'</li><li>'goose'</li><li>'goose'</li><li>'duck'</li><li>'goose'</li><li>'duck'</li><li>'goose'</li><li>'goose'</li><li>'goose'</li><li>'duck'</li><li>'goose'</li><li>'duck'</li><li>'goose'</li><li>'goose'</li><li>'goose'</li><li>'duck'</li><li>'goose'</li><li>'goose'</li><li>'goose'</li><li>'goose'</li><li>'goose'</li><li>'duck'</li><li>'goose'</li><li>'duck'</li></ol>\n"
            ],
            "text/markdown": "1. 'duck'\n2. 'duck'\n3. 'goose'\n4. 'duck'\n5. 'goose'\n6. 'duck'\n7. 'goose'\n8. 'goose'\n9. 'goose'\n10. 'duck'\n11. 'goose'\n12. 'duck'\n13. 'goose'\n14. 'goose'\n15. 'goose'\n16. 'duck'\n17. 'goose'\n18. 'duck'\n19. 'goose'\n20. 'goose'\n21. 'goose'\n22. 'duck'\n23. 'goose'\n24. 'goose'\n25. 'goose'\n26. 'goose'\n27. 'goose'\n28. 'duck'\n29. 'goose'\n30. 'duck'\n\n\n",
            "text/latex": "\\begin{enumerate*}\n\\item 'duck'\n\\item 'duck'\n\\item 'goose'\n\\item 'duck'\n\\item 'goose'\n\\item 'duck'\n\\item 'goose'\n\\item 'goose'\n\\item 'goose'\n\\item 'duck'\n\\item 'goose'\n\\item 'duck'\n\\item 'goose'\n\\item 'goose'\n\\item 'goose'\n\\item 'duck'\n\\item 'goose'\n\\item 'duck'\n\\item 'goose'\n\\item 'goose'\n\\item 'goose'\n\\item 'duck'\n\\item 'goose'\n\\item 'goose'\n\\item 'goose'\n\\item 'goose'\n\\item 'goose'\n\\item 'duck'\n\\item 'goose'\n\\item 'duck'\n\\end{enumerate*}\n",
            "text/plain": [
              " [1] \"duck\"  \"duck\"  \"goose\" \"duck\"  \"goose\" \"duck\"  \"goose\" \"goose\" \"goose\"\n",
              "[10] \"duck\"  \"goose\" \"duck\"  \"goose\" \"goose\" \"goose\" \"duck\"  \"goose\" \"duck\" \n",
              "[19] \"goose\" \"goose\" \"goose\" \"duck\"  \"goose\" \"goose\" \"goose\" \"goose\" \"goose\"\n",
              "[28] \"duck\"  \"goose\" \"duck\" "
            ]
          },
          "metadata": {}
        }
      ]
    },
    {
      "cell_type": "markdown",
      "source": [
        "## 2c. \n",
        "How would you print the above vector so that each element appears on a new line?"
      ],
      "metadata": {
        "id": "wI2zxngt8nie"
      }
    },
    {
      "cell_type": "code",
      "source": [
        "cat(str_c(dg, collapse = \"\\n\"))"
      ],
      "metadata": {
        "colab": {
          "base_uri": "https://localhost:8080/"
        },
        "id": "zirkqwaO8AMP",
        "outputId": "09d6250e-915f-4f1e-d3c4-7ea582cdb36a"
      },
      "execution_count": null,
      "outputs": [
        {
          "output_type": "stream",
          "name": "stdout",
          "text": [
            "duck\n",
            "duck\n",
            "goose\n",
            "duck\n",
            "goose\n",
            "duck\n",
            "goose\n",
            "goose\n",
            "goose\n",
            "duck\n",
            "goose\n",
            "duck\n",
            "goose\n",
            "goose\n",
            "goose\n",
            "duck\n",
            "goose\n",
            "duck\n",
            "goose\n",
            "goose\n",
            "goose\n",
            "duck\n",
            "goose\n",
            "goose\n",
            "goose\n",
            "goose\n",
            "goose\n",
            "duck\n",
            "goose\n",
            "duck"
          ]
        }
      ]
    },
    {
      "cell_type": "markdown",
      "source": [
        "## 3a. \n",
        "Using a `map` function, find the mean of all numeric columns in the `msleep` data set. Round to two decimal places.\n",
        "\n",
        "Also using a `map` function, find the number of unique values in each column of `msleep.`"
      ],
      "metadata": {
        "id": "4gam9Rc86TRP"
      }
    },
    {
      "cell_type": "code",
      "source": [
        "msleep %>% select(where(is.numeric)) %>% map_df(mean, na.rm=TRUE) %>% round(2)\n",
        "\n",
        "# msleep %>% select(where(is.numeric)) %>% map_dbl(mean, na.rm=TRUE) %>% round(2)"
      ],
      "metadata": {
        "colab": {
          "base_uri": "https://localhost:8080/",
          "height": 129
        },
        "id": "NSyv2U_sHUbL",
        "outputId": "6c68491c-3862-48cb-cbe8-d0b458d7a59d"
      },
      "execution_count": null,
      "outputs": [
        {
          "output_type": "display_data",
          "data": {
            "text/html": [
              "<table class=\"dataframe\">\n",
              "<caption>A tibble: 1 × 6</caption>\n",
              "<thead>\n",
              "\t<tr><th scope=col>sleep_total</th><th scope=col>sleep_rem</th><th scope=col>sleep_cycle</th><th scope=col>awake</th><th scope=col>brainwt</th><th scope=col>bodywt</th></tr>\n",
              "\t<tr><th scope=col>&lt;dbl&gt;</th><th scope=col>&lt;dbl&gt;</th><th scope=col>&lt;dbl&gt;</th><th scope=col>&lt;dbl&gt;</th><th scope=col>&lt;dbl&gt;</th><th scope=col>&lt;dbl&gt;</th></tr>\n",
              "</thead>\n",
              "<tbody>\n",
              "\t<tr><td>10.43</td><td>1.88</td><td>0.44</td><td>13.57</td><td>0.28</td><td>166.14</td></tr>\n",
              "</tbody>\n",
              "</table>\n"
            ],
            "text/markdown": "\nA tibble: 1 × 6\n\n| sleep_total &lt;dbl&gt; | sleep_rem &lt;dbl&gt; | sleep_cycle &lt;dbl&gt; | awake &lt;dbl&gt; | brainwt &lt;dbl&gt; | bodywt &lt;dbl&gt; |\n|---|---|---|---|---|---|\n| 10.43 | 1.88 | 0.44 | 13.57 | 0.28 | 166.14 |\n\n",
            "text/latex": "A tibble: 1 × 6\n\\begin{tabular}{llllll}\n sleep\\_total & sleep\\_rem & sleep\\_cycle & awake & brainwt & bodywt\\\\\n <dbl> & <dbl> & <dbl> & <dbl> & <dbl> & <dbl>\\\\\n\\hline\n\t 10.43 & 1.88 & 0.44 & 13.57 & 0.28 & 166.14\\\\\n\\end{tabular}\n",
            "text/plain": [
              "  sleep_total sleep_rem sleep_cycle awake brainwt bodywt\n",
              "1 10.43       1.88      0.44        13.57 0.28    166.14"
            ]
          },
          "metadata": {}
        }
      ]
    },
    {
      "cell_type": "code",
      "source": [
        "map_df(msleep, ~length(unique(.))) # number of unique in each column"
      ],
      "metadata": {
        "colab": {
          "base_uri": "https://localhost:8080/",
          "height": 149
        },
        "id": "VUAcb9_ZV2CC",
        "outputId": "1834ae4f-751f-49ad-a811-1b9e51841102"
      },
      "execution_count": null,
      "outputs": [
        {
          "output_type": "display_data",
          "data": {
            "text/html": [
              "<table class=\"dataframe\">\n",
              "<caption>A tibble: 1 × 11</caption>\n",
              "<thead>\n",
              "\t<tr><th scope=col>name</th><th scope=col>genus</th><th scope=col>vore</th><th scope=col>order</th><th scope=col>conservation</th><th scope=col>sleep_total</th><th scope=col>sleep_rem</th><th scope=col>sleep_cycle</th><th scope=col>awake</th><th scope=col>brainwt</th><th scope=col>bodywt</th></tr>\n",
              "\t<tr><th scope=col>&lt;int&gt;</th><th scope=col>&lt;int&gt;</th><th scope=col>&lt;int&gt;</th><th scope=col>&lt;int&gt;</th><th scope=col>&lt;int&gt;</th><th scope=col>&lt;int&gt;</th><th scope=col>&lt;int&gt;</th><th scope=col>&lt;int&gt;</th><th scope=col>&lt;int&gt;</th><th scope=col>&lt;int&gt;</th><th scope=col>&lt;int&gt;</th></tr>\n",
              "</thead>\n",
              "<tbody>\n",
              "\t<tr><td>83</td><td>77</td><td>5</td><td>19</td><td>7</td><td>65</td><td>33</td><td>23</td><td>65</td><td>54</td><td>82</td></tr>\n",
              "</tbody>\n",
              "</table>\n"
            ],
            "text/markdown": "\nA tibble: 1 × 11\n\n| name &lt;int&gt; | genus &lt;int&gt; | vore &lt;int&gt; | order &lt;int&gt; | conservation &lt;int&gt; | sleep_total &lt;int&gt; | sleep_rem &lt;int&gt; | sleep_cycle &lt;int&gt; | awake &lt;int&gt; | brainwt &lt;int&gt; | bodywt &lt;int&gt; |\n|---|---|---|---|---|---|---|---|---|---|---|\n| 83 | 77 | 5 | 19 | 7 | 65 | 33 | 23 | 65 | 54 | 82 |\n\n",
            "text/latex": "A tibble: 1 × 11\n\\begin{tabular}{lllllllllll}\n name & genus & vore & order & conservation & sleep\\_total & sleep\\_rem & sleep\\_cycle & awake & brainwt & bodywt\\\\\n <int> & <int> & <int> & <int> & <int> & <int> & <int> & <int> & <int> & <int> & <int>\\\\\n\\hline\n\t 83 & 77 & 5 & 19 & 7 & 65 & 33 & 23 & 65 & 54 & 82\\\\\n\\end{tabular}\n",
            "text/plain": [
              "  name genus vore order conservation sleep_total sleep_rem sleep_cycle awake\n",
              "1 83   77    5    19    7            65          33        23          65   \n",
              "  brainwt bodywt\n",
              "1 54      82    "
            ]
          },
          "metadata": {}
        }
      ]
    },
    {
      "cell_type": "markdown",
      "source": [
        "## 3b.\n",
        "\n",
        "Return the rows corresponding to the animals with the smallest `sleep_total` in their order."
      ],
      "metadata": {
        "id": "J7PzLGroLywI"
      }
    },
    {
      "cell_type": "code",
      "source": [
        "msleep %>% group_by(order) %>% summarise(m = min(sleep_total))\n"
      ],
      "metadata": {
        "colab": {
          "base_uri": "https://localhost:8080/",
          "height": 694
        },
        "id": "LP93UpAgRxEZ",
        "outputId": "5d8e35ba-a3b5-4d16-dea2-63384735f42f"
      },
      "execution_count": null,
      "outputs": [
        {
          "output_type": "display_data",
          "data": {
            "text/html": [
              "<table class=\"dataframe\">\n",
              "<caption>A tibble: 19 × 2</caption>\n",
              "<thead>\n",
              "\t<tr><th scope=col>order</th><th scope=col>m</th></tr>\n",
              "\t<tr><th scope=col>&lt;chr&gt;</th><th scope=col>&lt;dbl&gt;</th></tr>\n",
              "</thead>\n",
              "<tbody>\n",
              "\t<tr><td>Afrosoricida   </td><td>15.6</td></tr>\n",
              "\t<tr><td>Artiodactyla   </td><td> 1.9</td></tr>\n",
              "\t<tr><td>Carnivora      </td><td> 3.5</td></tr>\n",
              "\t<tr><td>Cetacea        </td><td> 2.7</td></tr>\n",
              "\t<tr><td>Chiroptera     </td><td>19.7</td></tr>\n",
              "\t<tr><td>Cingulata      </td><td>17.4</td></tr>\n",
              "\t<tr><td>Didelphimorphia</td><td>18.0</td></tr>\n",
              "\t<tr><td>Diprotodontia  </td><td>11.1</td></tr>\n",
              "\t<tr><td>Erinaceomorpha </td><td>10.1</td></tr>\n",
              "\t<tr><td>Hyracoidea     </td><td> 5.3</td></tr>\n",
              "\t<tr><td>Lagomorpha     </td><td> 8.4</td></tr>\n",
              "\t<tr><td>Monotremata    </td><td> 8.6</td></tr>\n",
              "\t<tr><td>Perissodactyla </td><td> 2.9</td></tr>\n",
              "\t<tr><td>Pilosa         </td><td>14.4</td></tr>\n",
              "\t<tr><td>Primates       </td><td> 8.0</td></tr>\n",
              "\t<tr><td>Proboscidea    </td><td> 3.3</td></tr>\n",
              "\t<tr><td>Rodentia       </td><td> 7.0</td></tr>\n",
              "\t<tr><td>Scandentia     </td><td> 8.9</td></tr>\n",
              "\t<tr><td>Soricomorpha   </td><td> 8.4</td></tr>\n",
              "</tbody>\n",
              "</table>\n"
            ],
            "text/markdown": "\nA tibble: 19 × 2\n\n| order &lt;chr&gt; | m &lt;dbl&gt; |\n|---|---|\n| Afrosoricida    | 15.6 |\n| Artiodactyla    |  1.9 |\n| Carnivora       |  3.5 |\n| Cetacea         |  2.7 |\n| Chiroptera      | 19.7 |\n| Cingulata       | 17.4 |\n| Didelphimorphia | 18.0 |\n| Diprotodontia   | 11.1 |\n| Erinaceomorpha  | 10.1 |\n| Hyracoidea      |  5.3 |\n| Lagomorpha      |  8.4 |\n| Monotremata     |  8.6 |\n| Perissodactyla  |  2.9 |\n| Pilosa          | 14.4 |\n| Primates        |  8.0 |\n| Proboscidea     |  3.3 |\n| Rodentia        |  7.0 |\n| Scandentia      |  8.9 |\n| Soricomorpha    |  8.4 |\n\n",
            "text/latex": "A tibble: 19 × 2\n\\begin{tabular}{ll}\n order & m\\\\\n <chr> & <dbl>\\\\\n\\hline\n\t Afrosoricida    & 15.6\\\\\n\t Artiodactyla    &  1.9\\\\\n\t Carnivora       &  3.5\\\\\n\t Cetacea         &  2.7\\\\\n\t Chiroptera      & 19.7\\\\\n\t Cingulata       & 17.4\\\\\n\t Didelphimorphia & 18.0\\\\\n\t Diprotodontia   & 11.1\\\\\n\t Erinaceomorpha  & 10.1\\\\\n\t Hyracoidea      &  5.3\\\\\n\t Lagomorpha      &  8.4\\\\\n\t Monotremata     &  8.6\\\\\n\t Perissodactyla  &  2.9\\\\\n\t Pilosa          & 14.4\\\\\n\t Primates        &  8.0\\\\\n\t Proboscidea     &  3.3\\\\\n\t Rodentia        &  7.0\\\\\n\t Scandentia      &  8.9\\\\\n\t Soricomorpha    &  8.4\\\\\n\\end{tabular}\n",
            "text/plain": [
              "   order           m   \n",
              "1  Afrosoricida    15.6\n",
              "2  Artiodactyla     1.9\n",
              "3  Carnivora        3.5\n",
              "4  Cetacea          2.7\n",
              "5  Chiroptera      19.7\n",
              "6  Cingulata       17.4\n",
              "7  Didelphimorphia 18.0\n",
              "8  Diprotodontia   11.1\n",
              "9  Erinaceomorpha  10.1\n",
              "10 Hyracoidea       5.3\n",
              "11 Lagomorpha       8.4\n",
              "12 Monotremata      8.6\n",
              "13 Perissodactyla   2.9\n",
              "14 Pilosa          14.4\n",
              "15 Primates         8.0\n",
              "16 Proboscidea      3.3\n",
              "17 Rodentia         7.0\n",
              "18 Scandentia       8.9\n",
              "19 Soricomorpha     8.4"
            ]
          },
          "metadata": {}
        }
      ]
    },
    {
      "cell_type": "code",
      "source": [
        "msleep %>% group_by(order) %>% filter(sleep_total == min(sleep_total))"
      ],
      "metadata": {
        "colab": {
          "base_uri": "https://localhost:8080/",
          "height": 1000
        },
        "id": "6U08bHU9LP18",
        "outputId": "b4be2b6e-a9b4-468d-ee4b-ab2778e2327d"
      },
      "execution_count": null,
      "outputs": [
        {
          "output_type": "display_data",
          "data": {
            "text/html": [
              "<table class=\"dataframe\">\n",
              "<caption>A grouped_df: 19 × 11</caption>\n",
              "<thead>\n",
              "\t<tr><th scope=col>name</th><th scope=col>genus</th><th scope=col>vore</th><th scope=col>order</th><th scope=col>conservation</th><th scope=col>sleep_total</th><th scope=col>sleep_rem</th><th scope=col>sleep_cycle</th><th scope=col>awake</th><th scope=col>brainwt</th><th scope=col>bodywt</th></tr>\n",
              "\t<tr><th scope=col>&lt;chr&gt;</th><th scope=col>&lt;chr&gt;</th><th scope=col>&lt;chr&gt;</th><th scope=col>&lt;chr&gt;</th><th scope=col>&lt;chr&gt;</th><th scope=col>&lt;dbl&gt;</th><th scope=col>&lt;dbl&gt;</th><th scope=col>&lt;dbl&gt;</th><th scope=col>&lt;dbl&gt;</th><th scope=col>&lt;dbl&gt;</th><th scope=col>&lt;dbl&gt;</th></tr>\n",
              "</thead>\n",
              "<tbody>\n",
              "\t<tr><td>Three-toed sloth      </td><td>Bradypus     </td><td>herbi  </td><td>Pilosa         </td><td>NA          </td><td>14.4</td><td>2.2</td><td>0.7666667</td><td> 9.60</td><td>    NA</td><td>   3.850</td></tr>\n",
              "\t<tr><td>Vesper mouse          </td><td>Calomys      </td><td>NA     </td><td>Rodentia       </td><td>NA          </td><td> 7.0</td><td> NA</td><td>       NA</td><td>17.00</td><td>    NA</td><td>   0.045</td></tr>\n",
              "\t<tr><td>Long-nosed armadillo  </td><td>Dasypus      </td><td>carni  </td><td>Cingulata      </td><td>lc          </td><td>17.4</td><td>3.1</td><td>0.3833333</td><td> 6.60</td><td>0.0108</td><td>   3.500</td></tr>\n",
              "\t<tr><td>Tree hyrax            </td><td>Dendrohyrax  </td><td>herbi  </td><td>Hyracoidea     </td><td>lc          </td><td> 5.3</td><td>0.5</td><td>       NA</td><td>18.70</td><td>0.0123</td><td>   2.950</td></tr>\n",
              "\t<tr><td>North American Opossum</td><td>Didelphis    </td><td>omni   </td><td>Didelphimorphia</td><td>lc          </td><td>18.0</td><td>4.9</td><td>0.3333333</td><td> 6.00</td><td>0.0063</td><td>   1.700</td></tr>\n",
              "\t<tr><td>Big brown bat         </td><td>Eptesicus    </td><td>insecti</td><td>Chiroptera     </td><td>lc          </td><td>19.7</td><td>3.9</td><td>0.1166667</td><td> 4.30</td><td>0.0003</td><td>   0.023</td></tr>\n",
              "\t<tr><td>Horse                 </td><td>Equus        </td><td>herbi  </td><td>Perissodactyla </td><td>domesticated</td><td> 2.9</td><td>0.6</td><td>1.0000000</td><td>21.10</td><td>0.6550</td><td> 521.000</td></tr>\n",
              "\t<tr><td>European hedgehog     </td><td>Erinaceus    </td><td>omni   </td><td>Erinaceomorpha </td><td>lc          </td><td>10.1</td><td>3.5</td><td>0.2833333</td><td>13.90</td><td>0.0035</td><td>   0.770</td></tr>\n",
              "\t<tr><td>Giraffe               </td><td>Giraffa      </td><td>herbi  </td><td>Artiodactyla   </td><td>cd          </td><td> 1.9</td><td>0.4</td><td>       NA</td><td>22.10</td><td>    NA</td><td> 899.995</td></tr>\n",
              "\t<tr><td>Pilot whale           </td><td>Globicephalus</td><td>carni  </td><td>Cetacea        </td><td>cd          </td><td> 2.7</td><td>0.1</td><td>       NA</td><td>21.35</td><td>    NA</td><td> 800.000</td></tr>\n",
              "\t<tr><td>Human                 </td><td>Homo         </td><td>omni   </td><td>Primates       </td><td>NA          </td><td> 8.0</td><td>1.9</td><td>1.5000000</td><td>16.00</td><td>1.3200</td><td>  62.000</td></tr>\n",
              "\t<tr><td>African elephant      </td><td>Loxodonta    </td><td>herbi  </td><td>Proboscidea    </td><td>vu          </td><td> 3.3</td><td> NA</td><td>       NA</td><td>20.70</td><td>5.7120</td><td>6654.000</td></tr>\n",
              "\t<tr><td>Rabbit                </td><td>Oryctolagus  </td><td>herbi  </td><td>Lagomorpha     </td><td>domesticated</td><td> 8.4</td><td>0.9</td><td>0.4166667</td><td>15.60</td><td>0.0121</td><td>   2.500</td></tr>\n",
              "\t<tr><td>Caspian seal          </td><td>Phoca        </td><td>carni  </td><td>Carnivora      </td><td>vu          </td><td> 3.5</td><td>0.4</td><td>       NA</td><td>20.50</td><td>    NA</td><td>  86.000</td></tr>\n",
              "\t<tr><td>Potoroo               </td><td>Potorous     </td><td>herbi  </td><td>Diprotodontia  </td><td>NA          </td><td>11.1</td><td>1.5</td><td>       NA</td><td>12.90</td><td>    NA</td><td>   1.100</td></tr>\n",
              "\t<tr><td>Eastern american mole </td><td>Scalopus     </td><td>insecti</td><td>Soricomorpha   </td><td>lc          </td><td> 8.4</td><td>2.1</td><td>0.1666667</td><td>15.60</td><td>0.0012</td><td>   0.075</td></tr>\n",
              "\t<tr><td>Short-nosed echidna   </td><td>Tachyglossus </td><td>insecti</td><td>Monotremata    </td><td>NA          </td><td> 8.6</td><td> NA</td><td>       NA</td><td>15.40</td><td>0.0250</td><td>   4.500</td></tr>\n",
              "\t<tr><td>Tenrec                </td><td>Tenrec       </td><td>omni   </td><td>Afrosoricida   </td><td>NA          </td><td>15.6</td><td>2.3</td><td>       NA</td><td> 8.40</td><td>0.0026</td><td>   0.900</td></tr>\n",
              "\t<tr><td>Tree shrew            </td><td>Tupaia       </td><td>omni   </td><td>Scandentia     </td><td>NA          </td><td> 8.9</td><td>2.6</td><td>0.2333333</td><td>15.10</td><td>0.0025</td><td>   0.104</td></tr>\n",
              "</tbody>\n",
              "</table>\n"
            ],
            "text/markdown": "\nA grouped_df: 19 × 11\n\n| name &lt;chr&gt; | genus &lt;chr&gt; | vore &lt;chr&gt; | order &lt;chr&gt; | conservation &lt;chr&gt; | sleep_total &lt;dbl&gt; | sleep_rem &lt;dbl&gt; | sleep_cycle &lt;dbl&gt; | awake &lt;dbl&gt; | brainwt &lt;dbl&gt; | bodywt &lt;dbl&gt; |\n|---|---|---|---|---|---|---|---|---|---|---|\n| Three-toed sloth       | Bradypus      | herbi   | Pilosa          | NA           | 14.4 | 2.2 | 0.7666667 |  9.60 |     NA |    3.850 |\n| Vesper mouse           | Calomys       | NA      | Rodentia        | NA           |  7.0 |  NA |        NA | 17.00 |     NA |    0.045 |\n| Long-nosed armadillo   | Dasypus       | carni   | Cingulata       | lc           | 17.4 | 3.1 | 0.3833333 |  6.60 | 0.0108 |    3.500 |\n| Tree hyrax             | Dendrohyrax   | herbi   | Hyracoidea      | lc           |  5.3 | 0.5 |        NA | 18.70 | 0.0123 |    2.950 |\n| North American Opossum | Didelphis     | omni    | Didelphimorphia | lc           | 18.0 | 4.9 | 0.3333333 |  6.00 | 0.0063 |    1.700 |\n| Big brown bat          | Eptesicus     | insecti | Chiroptera      | lc           | 19.7 | 3.9 | 0.1166667 |  4.30 | 0.0003 |    0.023 |\n| Horse                  | Equus         | herbi   | Perissodactyla  | domesticated |  2.9 | 0.6 | 1.0000000 | 21.10 | 0.6550 |  521.000 |\n| European hedgehog      | Erinaceus     | omni    | Erinaceomorpha  | lc           | 10.1 | 3.5 | 0.2833333 | 13.90 | 0.0035 |    0.770 |\n| Giraffe                | Giraffa       | herbi   | Artiodactyla    | cd           |  1.9 | 0.4 |        NA | 22.10 |     NA |  899.995 |\n| Pilot whale            | Globicephalus | carni   | Cetacea         | cd           |  2.7 | 0.1 |        NA | 21.35 |     NA |  800.000 |\n| Human                  | Homo          | omni    | Primates        | NA           |  8.0 | 1.9 | 1.5000000 | 16.00 | 1.3200 |   62.000 |\n| African elephant       | Loxodonta     | herbi   | Proboscidea     | vu           |  3.3 |  NA |        NA | 20.70 | 5.7120 | 6654.000 |\n| Rabbit                 | Oryctolagus   | herbi   | Lagomorpha      | domesticated |  8.4 | 0.9 | 0.4166667 | 15.60 | 0.0121 |    2.500 |\n| Caspian seal           | Phoca         | carni   | Carnivora       | vu           |  3.5 | 0.4 |        NA | 20.50 |     NA |   86.000 |\n| Potoroo                | Potorous      | herbi   | Diprotodontia   | NA           | 11.1 | 1.5 |        NA | 12.90 |     NA |    1.100 |\n| Eastern american mole  | Scalopus      | insecti | Soricomorpha    | lc           |  8.4 | 2.1 | 0.1666667 | 15.60 | 0.0012 |    0.075 |\n| Short-nosed echidna    | Tachyglossus  | insecti | Monotremata     | NA           |  8.6 |  NA |        NA | 15.40 | 0.0250 |    4.500 |\n| Tenrec                 | Tenrec        | omni    | Afrosoricida    | NA           | 15.6 | 2.3 |        NA |  8.40 | 0.0026 |    0.900 |\n| Tree shrew             | Tupaia        | omni    | Scandentia      | NA           |  8.9 | 2.6 | 0.2333333 | 15.10 | 0.0025 |    0.104 |\n\n",
            "text/latex": "A grouped\\_df: 19 × 11\n\\begin{tabular}{lllllllllll}\n name & genus & vore & order & conservation & sleep\\_total & sleep\\_rem & sleep\\_cycle & awake & brainwt & bodywt\\\\\n <chr> & <chr> & <chr> & <chr> & <chr> & <dbl> & <dbl> & <dbl> & <dbl> & <dbl> & <dbl>\\\\\n\\hline\n\t Three-toed sloth       & Bradypus      & herbi   & Pilosa          & NA           & 14.4 & 2.2 & 0.7666667 &  9.60 &     NA &    3.850\\\\\n\t Vesper mouse           & Calomys       & NA      & Rodentia        & NA           &  7.0 &  NA &        NA & 17.00 &     NA &    0.045\\\\\n\t Long-nosed armadillo   & Dasypus       & carni   & Cingulata       & lc           & 17.4 & 3.1 & 0.3833333 &  6.60 & 0.0108 &    3.500\\\\\n\t Tree hyrax             & Dendrohyrax   & herbi   & Hyracoidea      & lc           &  5.3 & 0.5 &        NA & 18.70 & 0.0123 &    2.950\\\\\n\t North American Opossum & Didelphis     & omni    & Didelphimorphia & lc           & 18.0 & 4.9 & 0.3333333 &  6.00 & 0.0063 &    1.700\\\\\n\t Big brown bat          & Eptesicus     & insecti & Chiroptera      & lc           & 19.7 & 3.9 & 0.1166667 &  4.30 & 0.0003 &    0.023\\\\\n\t Horse                  & Equus         & herbi   & Perissodactyla  & domesticated &  2.9 & 0.6 & 1.0000000 & 21.10 & 0.6550 &  521.000\\\\\n\t European hedgehog      & Erinaceus     & omni    & Erinaceomorpha  & lc           & 10.1 & 3.5 & 0.2833333 & 13.90 & 0.0035 &    0.770\\\\\n\t Giraffe                & Giraffa       & herbi   & Artiodactyla    & cd           &  1.9 & 0.4 &        NA & 22.10 &     NA &  899.995\\\\\n\t Pilot whale            & Globicephalus & carni   & Cetacea         & cd           &  2.7 & 0.1 &        NA & 21.35 &     NA &  800.000\\\\\n\t Human                  & Homo          & omni    & Primates        & NA           &  8.0 & 1.9 & 1.5000000 & 16.00 & 1.3200 &   62.000\\\\\n\t African elephant       & Loxodonta     & herbi   & Proboscidea     & vu           &  3.3 &  NA &        NA & 20.70 & 5.7120 & 6654.000\\\\\n\t Rabbit                 & Oryctolagus   & herbi   & Lagomorpha      & domesticated &  8.4 & 0.9 & 0.4166667 & 15.60 & 0.0121 &    2.500\\\\\n\t Caspian seal           & Phoca         & carni   & Carnivora       & vu           &  3.5 & 0.4 &        NA & 20.50 &     NA &   86.000\\\\\n\t Potoroo                & Potorous      & herbi   & Diprotodontia   & NA           & 11.1 & 1.5 &        NA & 12.90 &     NA &    1.100\\\\\n\t Eastern american mole  & Scalopus      & insecti & Soricomorpha    & lc           &  8.4 & 2.1 & 0.1666667 & 15.60 & 0.0012 &    0.075\\\\\n\t Short-nosed echidna    & Tachyglossus  & insecti & Monotremata     & NA           &  8.6 &  NA &        NA & 15.40 & 0.0250 &    4.500\\\\\n\t Tenrec                 & Tenrec        & omni    & Afrosoricida    & NA           & 15.6 & 2.3 &        NA &  8.40 & 0.0026 &    0.900\\\\\n\t Tree shrew             & Tupaia        & omni    & Scandentia      & NA           &  8.9 & 2.6 & 0.2333333 & 15.10 & 0.0025 &    0.104\\\\\n\\end{tabular}\n",
            "text/plain": [
              "   name                   genus         vore    order           conservation\n",
              "1  Three-toed sloth       Bradypus      herbi   Pilosa          NA          \n",
              "2  Vesper mouse           Calomys       NA      Rodentia        NA          \n",
              "3  Long-nosed armadillo   Dasypus       carni   Cingulata       lc          \n",
              "4  Tree hyrax             Dendrohyrax   herbi   Hyracoidea      lc          \n",
              "5  North American Opossum Didelphis     omni    Didelphimorphia lc          \n",
              "6  Big brown bat          Eptesicus     insecti Chiroptera      lc          \n",
              "7  Horse                  Equus         herbi   Perissodactyla  domesticated\n",
              "8  European hedgehog      Erinaceus     omni    Erinaceomorpha  lc          \n",
              "9  Giraffe                Giraffa       herbi   Artiodactyla    cd          \n",
              "10 Pilot whale            Globicephalus carni   Cetacea         cd          \n",
              "11 Human                  Homo          omni    Primates        NA          \n",
              "12 African elephant       Loxodonta     herbi   Proboscidea     vu          \n",
              "13 Rabbit                 Oryctolagus   herbi   Lagomorpha      domesticated\n",
              "14 Caspian seal           Phoca         carni   Carnivora       vu          \n",
              "15 Potoroo                Potorous      herbi   Diprotodontia   NA          \n",
              "16 Eastern american mole  Scalopus      insecti Soricomorpha    lc          \n",
              "17 Short-nosed echidna    Tachyglossus  insecti Monotremata     NA          \n",
              "18 Tenrec                 Tenrec        omni    Afrosoricida    NA          \n",
              "19 Tree shrew             Tupaia        omni    Scandentia      NA          \n",
              "   sleep_total sleep_rem sleep_cycle awake brainwt bodywt  \n",
              "1  14.4        2.2       0.7666667    9.60     NA     3.850\n",
              "2   7.0         NA              NA   17.00     NA     0.045\n",
              "3  17.4        3.1       0.3833333    6.60 0.0108     3.500\n",
              "4   5.3        0.5              NA   18.70 0.0123     2.950\n",
              "5  18.0        4.9       0.3333333    6.00 0.0063     1.700\n",
              "6  19.7        3.9       0.1166667    4.30 0.0003     0.023\n",
              "7   2.9        0.6       1.0000000   21.10 0.6550   521.000\n",
              "8  10.1        3.5       0.2833333   13.90 0.0035     0.770\n",
              "9   1.9        0.4              NA   22.10     NA   899.995\n",
              "10  2.7        0.1              NA   21.35     NA   800.000\n",
              "11  8.0        1.9       1.5000000   16.00 1.3200    62.000\n",
              "12  3.3         NA              NA   20.70 5.7120  6654.000\n",
              "13  8.4        0.9       0.4166667   15.60 0.0121     2.500\n",
              "14  3.5        0.4              NA   20.50     NA    86.000\n",
              "15 11.1        1.5              NA   12.90     NA     1.100\n",
              "16  8.4        2.1       0.1666667   15.60 0.0012     0.075\n",
              "17  8.6         NA              NA   15.40 0.0250     4.500\n",
              "18 15.6        2.3              NA    8.40 0.0026     0.900\n",
              "19  8.9        2.6       0.2333333   15.10 0.0025     0.104"
            ]
          },
          "metadata": {}
        }
      ]
    },
    {
      "cell_type": "markdown",
      "source": [
        "## 3c.\n",
        "Select only rows corresponding to animals whose names are made up of exactly two words (separated by a space)."
      ],
      "metadata": {
        "id": "oCfRAVmVM7kg"
      }
    },
    {
      "cell_type": "code",
      "source": [
        "\"^(\\\\w*)\\\\s(\\\\w*)$\"\n",
        "\n",
        "\n",
        "# ^(\\\\w+) -> string begins with one or more characters a-z\n",
        "# \\\\s -> corresponds to whitespace in Regex\n",
        "# (\\\\w+)$ -> string ends with one or more characters a-z"
      ],
      "metadata": {
        "id": "2BBnmY89Svsx"
      },
      "execution_count": null,
      "outputs": []
    },
    {
      "cell_type": "code",
      "source": [
        "msleep %>% filter(str_detect(name, \"^(\\\\w+)\\\\s(\\\\w+)$\"))\n",
        "\n",
        "# modify this to include animals such as \"three-toed sloth\""
      ],
      "metadata": {
        "colab": {
          "base_uri": "https://localhost:8080/",
          "height": 1000
        },
        "id": "qKGSDLS4L6MV",
        "outputId": "4a73b75b-0151-43e3-8f0b-9d66413e60d0"
      },
      "execution_count": null,
      "outputs": [
        {
          "output_type": "display_data",
          "data": {
            "text/html": [
              "<table class=\"dataframe\">\n",
              "<caption>A tibble: 34 × 11</caption>\n",
              "<thead>\n",
              "\t<tr><th scope=col>name</th><th scope=col>genus</th><th scope=col>vore</th><th scope=col>order</th><th scope=col>conservation</th><th scope=col>sleep_total</th><th scope=col>sleep_rem</th><th scope=col>sleep_cycle</th><th scope=col>awake</th><th scope=col>brainwt</th><th scope=col>bodywt</th></tr>\n",
              "\t<tr><th scope=col>&lt;chr&gt;</th><th scope=col>&lt;chr&gt;</th><th scope=col>&lt;chr&gt;</th><th scope=col>&lt;chr&gt;</th><th scope=col>&lt;chr&gt;</th><th scope=col>&lt;dbl&gt;</th><th scope=col>&lt;dbl&gt;</th><th scope=col>&lt;dbl&gt;</th><th scope=col>&lt;dbl&gt;</th><th scope=col>&lt;dbl&gt;</th><th scope=col>&lt;dbl&gt;</th></tr>\n",
              "</thead>\n",
              "<tbody>\n",
              "\t<tr><td>Owl monkey       </td><td>Aotus        </td><td>omni   </td><td>Primates      </td><td>NA          </td><td>17.0</td><td>1.8</td><td>       NA</td><td> 7.00</td><td>0.01550</td><td>   0.480</td></tr>\n",
              "\t<tr><td>Mountain beaver  </td><td>Aplodontia   </td><td>herbi  </td><td>Rodentia      </td><td>nt          </td><td>14.4</td><td>2.4</td><td>       NA</td><td> 9.60</td><td>     NA</td><td>   1.350</td></tr>\n",
              "\t<tr><td>Vesper mouse     </td><td>Calomys      </td><td>NA     </td><td>Rodentia      </td><td>NA          </td><td> 7.0</td><td> NA</td><td>       NA</td><td>17.00</td><td>     NA</td><td>   0.045</td></tr>\n",
              "\t<tr><td>Roe deer         </td><td>Capreolus    </td><td>herbi  </td><td>Artiodactyla  </td><td>lc          </td><td> 3.0</td><td> NA</td><td>       NA</td><td>21.00</td><td>0.09820</td><td>  14.800</td></tr>\n",
              "\t<tr><td>Guinea pig       </td><td>Cavis        </td><td>herbi  </td><td>Rodentia      </td><td>domesticated</td><td> 9.4</td><td>0.8</td><td>0.2166667</td><td>14.60</td><td>0.00550</td><td>   0.728</td></tr>\n",
              "\t<tr><td>Tree hyrax       </td><td>Dendrohyrax  </td><td>herbi  </td><td>Hyracoidea    </td><td>lc          </td><td> 5.3</td><td>0.5</td><td>       NA</td><td>18.70</td><td>0.01230</td><td>   2.950</td></tr>\n",
              "\t<tr><td>Asian elephant   </td><td>Elephas      </td><td>herbi  </td><td>Proboscidea   </td><td>en          </td><td> 3.9</td><td> NA</td><td>       NA</td><td>20.10</td><td>4.60300</td><td>2547.000</td></tr>\n",
              "\t<tr><td>European hedgehog</td><td>Erinaceus    </td><td>omni   </td><td>Erinaceomorpha</td><td>lc          </td><td>10.1</td><td>3.5</td><td>0.2833333</td><td>13.90</td><td>0.00350</td><td>   0.770</td></tr>\n",
              "\t<tr><td>Patas monkey     </td><td>Erythrocebus </td><td>omni   </td><td>Primates      </td><td>lc          </td><td>10.9</td><td>1.1</td><td>       NA</td><td>13.10</td><td>0.11500</td><td>  10.000</td></tr>\n",
              "\t<tr><td>Domestic cat     </td><td>Felis        </td><td>carni  </td><td>Carnivora     </td><td>domesticated</td><td>12.5</td><td>3.2</td><td>0.4166667</td><td>11.50</td><td>0.02560</td><td>   3.300</td></tr>\n",
              "\t<tr><td>Pilot whale      </td><td>Globicephalus</td><td>carni  </td><td>Cetacea       </td><td>cd          </td><td> 2.7</td><td>0.1</td><td>       NA</td><td>21.35</td><td>     NA</td><td> 800.000</td></tr>\n",
              "\t<tr><td>Gray seal        </td><td>Haliochoerus </td><td>carni  </td><td>Carnivora     </td><td>lc          </td><td> 6.2</td><td>1.5</td><td>       NA</td><td>17.80</td><td>0.32500</td><td>  85.000</td></tr>\n",
              "\t<tr><td>Gray hyrax       </td><td>Heterohyrax  </td><td>herbi  </td><td>Hyracoidea    </td><td>lc          </td><td> 6.3</td><td>0.6</td><td>       NA</td><td>17.70</td><td>0.01227</td><td>   2.625</td></tr>\n",
              "\t<tr><td>Mongoose lemur   </td><td>Lemur        </td><td>herbi  </td><td>Primates      </td><td>vu          </td><td> 9.5</td><td>0.9</td><td>       NA</td><td>14.50</td><td>     NA</td><td>   1.670</td></tr>\n",
              "\t<tr><td>African elephant </td><td>Loxodonta    </td><td>herbi  </td><td>Proboscidea   </td><td>vu          </td><td> 3.3</td><td> NA</td><td>       NA</td><td>20.70</td><td>5.71200</td><td>6654.000</td></tr>\n",
              "\t<tr><td>Mongolian gerbil </td><td>Meriones     </td><td>herbi  </td><td>Rodentia      </td><td>lc          </td><td>14.2</td><td>1.9</td><td>       NA</td><td> 9.80</td><td>     NA</td><td>   0.053</td></tr>\n",
              "\t<tr><td>Golden hamster   </td><td>Mesocricetus </td><td>herbi  </td><td>Rodentia      </td><td>en          </td><td>14.3</td><td>3.1</td><td>0.2000000</td><td> 9.70</td><td>0.00100</td><td>   0.120</td></tr>\n",
              "\t<tr><td>House mouse      </td><td>Mus          </td><td>herbi  </td><td>Rodentia      </td><td>nt          </td><td>12.5</td><td>1.4</td><td>0.1833333</td><td>11.50</td><td>0.00040</td><td>   0.022</td></tr>\n",
              "\t<tr><td>Slow loris       </td><td>Nyctibeus    </td><td>carni  </td><td>Primates      </td><td>NA          </td><td>11.0</td><td> NA</td><td>       NA</td><td>13.00</td><td>0.01250</td><td>   1.400</td></tr>\n",
              "\t<tr><td>Desert hedgehog  </td><td>Paraechinus  </td><td>NA     </td><td>Erinaceomorpha</td><td>lc          </td><td>10.3</td><td>2.7</td><td>       NA</td><td>13.70</td><td>0.00240</td><td>   0.550</td></tr>\n",
              "\t<tr><td>Deer mouse       </td><td>Peromyscus   </td><td>NA     </td><td>Rodentia      </td><td>NA          </td><td>11.5</td><td> NA</td><td>       NA</td><td>12.50</td><td>     NA</td><td>   0.021</td></tr>\n",
              "\t<tr><td>Caspian seal     </td><td>Phoca        </td><td>carni  </td><td>Carnivora     </td><td>vu          </td><td> 3.5</td><td>0.4</td><td>       NA</td><td>20.50</td><td>     NA</td><td>  86.000</td></tr>\n",
              "\t<tr><td>Common porpoise  </td><td>Phocoena     </td><td>carni  </td><td>Cetacea       </td><td>vu          </td><td> 5.6</td><td> NA</td><td>       NA</td><td>18.45</td><td>     NA</td><td>  53.180</td></tr>\n",
              "\t<tr><td>Giant armadillo  </td><td>Priodontes   </td><td>insecti</td><td>Cingulata     </td><td>en          </td><td>18.1</td><td>6.1</td><td>       NA</td><td> 5.90</td><td>0.08100</td><td>  60.000</td></tr>\n",
              "\t<tr><td>Rock hyrax       </td><td>Procavia     </td><td>NA     </td><td>Hyracoidea    </td><td>lc          </td><td> 5.4</td><td>0.5</td><td>       NA</td><td>18.60</td><td>0.02100</td><td>   3.600</td></tr>\n",
              "\t<tr><td>Laboratory rat   </td><td>Rattus       </td><td>herbi  </td><td>Rodentia      </td><td>lc          </td><td>13.0</td><td>2.4</td><td>0.1833333</td><td>11.00</td><td>0.00190</td><td>   0.320</td></tr>\n",
              "\t<tr><td>Squirrel monkey  </td><td>Saimiri      </td><td>omni   </td><td>Primates      </td><td>NA          </td><td> 9.6</td><td>1.4</td><td>       NA</td><td>14.40</td><td>0.02000</td><td>   0.743</td></tr>\n",
              "\t<tr><td>Cotton rat       </td><td>Sigmodon     </td><td>herbi  </td><td>Rodentia      </td><td>NA          </td><td>11.3</td><td>1.1</td><td>0.1500000</td><td>12.70</td><td>0.00118</td><td>   0.148</td></tr>\n",
              "\t<tr><td>Mole rat         </td><td>Spalax       </td><td>NA     </td><td>Rodentia      </td><td>NA          </td><td>10.6</td><td>2.4</td><td>       NA</td><td>13.40</td><td>0.00300</td><td>   0.122</td></tr>\n",
              "\t<tr><td>Musk shrew       </td><td>Suncus       </td><td>NA     </td><td>Soricomorpha  </td><td>NA          </td><td>12.8</td><td>2.0</td><td>0.1833333</td><td>11.20</td><td>0.00033</td><td>   0.048</td></tr>\n",
              "\t<tr><td>Brazilian tapir  </td><td>Tapirus      </td><td>herbi  </td><td>Perissodactyla</td><td>vu          </td><td> 4.4</td><td>1.0</td><td>0.9000000</td><td>19.60</td><td>0.16900</td><td> 207.501</td></tr>\n",
              "\t<tr><td>Tree shrew       </td><td>Tupaia       </td><td>omni   </td><td>Scandentia    </td><td>NA          </td><td> 8.9</td><td>2.6</td><td>0.2333333</td><td>15.10</td><td>0.00250</td><td>   0.104</td></tr>\n",
              "\t<tr><td>Arctic fox       </td><td>Vulpes       </td><td>carni  </td><td>Carnivora     </td><td>NA          </td><td>12.5</td><td> NA</td><td>       NA</td><td>11.50</td><td>0.04450</td><td>   3.380</td></tr>\n",
              "\t<tr><td>Red fox          </td><td>Vulpes       </td><td>carni  </td><td>Carnivora     </td><td>NA          </td><td> 9.8</td><td>2.4</td><td>0.3500000</td><td>14.20</td><td>0.05040</td><td>   4.230</td></tr>\n",
              "</tbody>\n",
              "</table>\n"
            ],
            "text/markdown": "\nA tibble: 34 × 11\n\n| name &lt;chr&gt; | genus &lt;chr&gt; | vore &lt;chr&gt; | order &lt;chr&gt; | conservation &lt;chr&gt; | sleep_total &lt;dbl&gt; | sleep_rem &lt;dbl&gt; | sleep_cycle &lt;dbl&gt; | awake &lt;dbl&gt; | brainwt &lt;dbl&gt; | bodywt &lt;dbl&gt; |\n|---|---|---|---|---|---|---|---|---|---|---|\n| Owl monkey        | Aotus         | omni    | Primates       | NA           | 17.0 | 1.8 |        NA |  7.00 | 0.01550 |    0.480 |\n| Mountain beaver   | Aplodontia    | herbi   | Rodentia       | nt           | 14.4 | 2.4 |        NA |  9.60 |      NA |    1.350 |\n| Vesper mouse      | Calomys       | NA      | Rodentia       | NA           |  7.0 |  NA |        NA | 17.00 |      NA |    0.045 |\n| Roe deer          | Capreolus     | herbi   | Artiodactyla   | lc           |  3.0 |  NA |        NA | 21.00 | 0.09820 |   14.800 |\n| Guinea pig        | Cavis         | herbi   | Rodentia       | domesticated |  9.4 | 0.8 | 0.2166667 | 14.60 | 0.00550 |    0.728 |\n| Tree hyrax        | Dendrohyrax   | herbi   | Hyracoidea     | lc           |  5.3 | 0.5 |        NA | 18.70 | 0.01230 |    2.950 |\n| Asian elephant    | Elephas       | herbi   | Proboscidea    | en           |  3.9 |  NA |        NA | 20.10 | 4.60300 | 2547.000 |\n| European hedgehog | Erinaceus     | omni    | Erinaceomorpha | lc           | 10.1 | 3.5 | 0.2833333 | 13.90 | 0.00350 |    0.770 |\n| Patas monkey      | Erythrocebus  | omni    | Primates       | lc           | 10.9 | 1.1 |        NA | 13.10 | 0.11500 |   10.000 |\n| Domestic cat      | Felis         | carni   | Carnivora      | domesticated | 12.5 | 3.2 | 0.4166667 | 11.50 | 0.02560 |    3.300 |\n| Pilot whale       | Globicephalus | carni   | Cetacea        | cd           |  2.7 | 0.1 |        NA | 21.35 |      NA |  800.000 |\n| Gray seal         | Haliochoerus  | carni   | Carnivora      | lc           |  6.2 | 1.5 |        NA | 17.80 | 0.32500 |   85.000 |\n| Gray hyrax        | Heterohyrax   | herbi   | Hyracoidea     | lc           |  6.3 | 0.6 |        NA | 17.70 | 0.01227 |    2.625 |\n| Mongoose lemur    | Lemur         | herbi   | Primates       | vu           |  9.5 | 0.9 |        NA | 14.50 |      NA |    1.670 |\n| African elephant  | Loxodonta     | herbi   | Proboscidea    | vu           |  3.3 |  NA |        NA | 20.70 | 5.71200 | 6654.000 |\n| Mongolian gerbil  | Meriones      | herbi   | Rodentia       | lc           | 14.2 | 1.9 |        NA |  9.80 |      NA |    0.053 |\n| Golden hamster    | Mesocricetus  | herbi   | Rodentia       | en           | 14.3 | 3.1 | 0.2000000 |  9.70 | 0.00100 |    0.120 |\n| House mouse       | Mus           | herbi   | Rodentia       | nt           | 12.5 | 1.4 | 0.1833333 | 11.50 | 0.00040 |    0.022 |\n| Slow loris        | Nyctibeus     | carni   | Primates       | NA           | 11.0 |  NA |        NA | 13.00 | 0.01250 |    1.400 |\n| Desert hedgehog   | Paraechinus   | NA      | Erinaceomorpha | lc           | 10.3 | 2.7 |        NA | 13.70 | 0.00240 |    0.550 |\n| Deer mouse        | Peromyscus    | NA      | Rodentia       | NA           | 11.5 |  NA |        NA | 12.50 |      NA |    0.021 |\n| Caspian seal      | Phoca         | carni   | Carnivora      | vu           |  3.5 | 0.4 |        NA | 20.50 |      NA |   86.000 |\n| Common porpoise   | Phocoena      | carni   | Cetacea        | vu           |  5.6 |  NA |        NA | 18.45 |      NA |   53.180 |\n| Giant armadillo   | Priodontes    | insecti | Cingulata      | en           | 18.1 | 6.1 |        NA |  5.90 | 0.08100 |   60.000 |\n| Rock hyrax        | Procavia      | NA      | Hyracoidea     | lc           |  5.4 | 0.5 |        NA | 18.60 | 0.02100 |    3.600 |\n| Laboratory rat    | Rattus        | herbi   | Rodentia       | lc           | 13.0 | 2.4 | 0.1833333 | 11.00 | 0.00190 |    0.320 |\n| Squirrel monkey   | Saimiri       | omni    | Primates       | NA           |  9.6 | 1.4 |        NA | 14.40 | 0.02000 |    0.743 |\n| Cotton rat        | Sigmodon      | herbi   | Rodentia       | NA           | 11.3 | 1.1 | 0.1500000 | 12.70 | 0.00118 |    0.148 |\n| Mole rat          | Spalax        | NA      | Rodentia       | NA           | 10.6 | 2.4 |        NA | 13.40 | 0.00300 |    0.122 |\n| Musk shrew        | Suncus        | NA      | Soricomorpha   | NA           | 12.8 | 2.0 | 0.1833333 | 11.20 | 0.00033 |    0.048 |\n| Brazilian tapir   | Tapirus       | herbi   | Perissodactyla | vu           |  4.4 | 1.0 | 0.9000000 | 19.60 | 0.16900 |  207.501 |\n| Tree shrew        | Tupaia        | omni    | Scandentia     | NA           |  8.9 | 2.6 | 0.2333333 | 15.10 | 0.00250 |    0.104 |\n| Arctic fox        | Vulpes        | carni   | Carnivora      | NA           | 12.5 |  NA |        NA | 11.50 | 0.04450 |    3.380 |\n| Red fox           | Vulpes        | carni   | Carnivora      | NA           |  9.8 | 2.4 | 0.3500000 | 14.20 | 0.05040 |    4.230 |\n\n",
            "text/latex": "A tibble: 34 × 11\n\\begin{tabular}{lllllllllll}\n name & genus & vore & order & conservation & sleep\\_total & sleep\\_rem & sleep\\_cycle & awake & brainwt & bodywt\\\\\n <chr> & <chr> & <chr> & <chr> & <chr> & <dbl> & <dbl> & <dbl> & <dbl> & <dbl> & <dbl>\\\\\n\\hline\n\t Owl monkey        & Aotus         & omni    & Primates       & NA           & 17.0 & 1.8 &        NA &  7.00 & 0.01550 &    0.480\\\\\n\t Mountain beaver   & Aplodontia    & herbi   & Rodentia       & nt           & 14.4 & 2.4 &        NA &  9.60 &      NA &    1.350\\\\\n\t Vesper mouse      & Calomys       & NA      & Rodentia       & NA           &  7.0 &  NA &        NA & 17.00 &      NA &    0.045\\\\\n\t Roe deer          & Capreolus     & herbi   & Artiodactyla   & lc           &  3.0 &  NA &        NA & 21.00 & 0.09820 &   14.800\\\\\n\t Guinea pig        & Cavis         & herbi   & Rodentia       & domesticated &  9.4 & 0.8 & 0.2166667 & 14.60 & 0.00550 &    0.728\\\\\n\t Tree hyrax        & Dendrohyrax   & herbi   & Hyracoidea     & lc           &  5.3 & 0.5 &        NA & 18.70 & 0.01230 &    2.950\\\\\n\t Asian elephant    & Elephas       & herbi   & Proboscidea    & en           &  3.9 &  NA &        NA & 20.10 & 4.60300 & 2547.000\\\\\n\t European hedgehog & Erinaceus     & omni    & Erinaceomorpha & lc           & 10.1 & 3.5 & 0.2833333 & 13.90 & 0.00350 &    0.770\\\\\n\t Patas monkey      & Erythrocebus  & omni    & Primates       & lc           & 10.9 & 1.1 &        NA & 13.10 & 0.11500 &   10.000\\\\\n\t Domestic cat      & Felis         & carni   & Carnivora      & domesticated & 12.5 & 3.2 & 0.4166667 & 11.50 & 0.02560 &    3.300\\\\\n\t Pilot whale       & Globicephalus & carni   & Cetacea        & cd           &  2.7 & 0.1 &        NA & 21.35 &      NA &  800.000\\\\\n\t Gray seal         & Haliochoerus  & carni   & Carnivora      & lc           &  6.2 & 1.5 &        NA & 17.80 & 0.32500 &   85.000\\\\\n\t Gray hyrax        & Heterohyrax   & herbi   & Hyracoidea     & lc           &  6.3 & 0.6 &        NA & 17.70 & 0.01227 &    2.625\\\\\n\t Mongoose lemur    & Lemur         & herbi   & Primates       & vu           &  9.5 & 0.9 &        NA & 14.50 &      NA &    1.670\\\\\n\t African elephant  & Loxodonta     & herbi   & Proboscidea    & vu           &  3.3 &  NA &        NA & 20.70 & 5.71200 & 6654.000\\\\\n\t Mongolian gerbil  & Meriones      & herbi   & Rodentia       & lc           & 14.2 & 1.9 &        NA &  9.80 &      NA &    0.053\\\\\n\t Golden hamster    & Mesocricetus  & herbi   & Rodentia       & en           & 14.3 & 3.1 & 0.2000000 &  9.70 & 0.00100 &    0.120\\\\\n\t House mouse       & Mus           & herbi   & Rodentia       & nt           & 12.5 & 1.4 & 0.1833333 & 11.50 & 0.00040 &    0.022\\\\\n\t Slow loris        & Nyctibeus     & carni   & Primates       & NA           & 11.0 &  NA &        NA & 13.00 & 0.01250 &    1.400\\\\\n\t Desert hedgehog   & Paraechinus   & NA      & Erinaceomorpha & lc           & 10.3 & 2.7 &        NA & 13.70 & 0.00240 &    0.550\\\\\n\t Deer mouse        & Peromyscus    & NA      & Rodentia       & NA           & 11.5 &  NA &        NA & 12.50 &      NA &    0.021\\\\\n\t Caspian seal      & Phoca         & carni   & Carnivora      & vu           &  3.5 & 0.4 &        NA & 20.50 &      NA &   86.000\\\\\n\t Common porpoise   & Phocoena      & carni   & Cetacea        & vu           &  5.6 &  NA &        NA & 18.45 &      NA &   53.180\\\\\n\t Giant armadillo   & Priodontes    & insecti & Cingulata      & en           & 18.1 & 6.1 &        NA &  5.90 & 0.08100 &   60.000\\\\\n\t Rock hyrax        & Procavia      & NA      & Hyracoidea     & lc           &  5.4 & 0.5 &        NA & 18.60 & 0.02100 &    3.600\\\\\n\t Laboratory rat    & Rattus        & herbi   & Rodentia       & lc           & 13.0 & 2.4 & 0.1833333 & 11.00 & 0.00190 &    0.320\\\\\n\t Squirrel monkey   & Saimiri       & omni    & Primates       & NA           &  9.6 & 1.4 &        NA & 14.40 & 0.02000 &    0.743\\\\\n\t Cotton rat        & Sigmodon      & herbi   & Rodentia       & NA           & 11.3 & 1.1 & 0.1500000 & 12.70 & 0.00118 &    0.148\\\\\n\t Mole rat          & Spalax        & NA      & Rodentia       & NA           & 10.6 & 2.4 &        NA & 13.40 & 0.00300 &    0.122\\\\\n\t Musk shrew        & Suncus        & NA      & Soricomorpha   & NA           & 12.8 & 2.0 & 0.1833333 & 11.20 & 0.00033 &    0.048\\\\\n\t Brazilian tapir   & Tapirus       & herbi   & Perissodactyla & vu           &  4.4 & 1.0 & 0.9000000 & 19.60 & 0.16900 &  207.501\\\\\n\t Tree shrew        & Tupaia        & omni    & Scandentia     & NA           &  8.9 & 2.6 & 0.2333333 & 15.10 & 0.00250 &    0.104\\\\\n\t Arctic fox        & Vulpes        & carni   & Carnivora      & NA           & 12.5 &  NA &        NA & 11.50 & 0.04450 &    3.380\\\\\n\t Red fox           & Vulpes        & carni   & Carnivora      & NA           &  9.8 & 2.4 & 0.3500000 & 14.20 & 0.05040 &    4.230\\\\\n\\end{tabular}\n",
            "text/plain": [
              "   name              genus         vore    order          conservation\n",
              "1  Owl monkey        Aotus         omni    Primates       NA          \n",
              "2  Mountain beaver   Aplodontia    herbi   Rodentia       nt          \n",
              "3  Vesper mouse      Calomys       NA      Rodentia       NA          \n",
              "4  Roe deer          Capreolus     herbi   Artiodactyla   lc          \n",
              "5  Guinea pig        Cavis         herbi   Rodentia       domesticated\n",
              "6  Tree hyrax        Dendrohyrax   herbi   Hyracoidea     lc          \n",
              "7  Asian elephant    Elephas       herbi   Proboscidea    en          \n",
              "8  European hedgehog Erinaceus     omni    Erinaceomorpha lc          \n",
              "9  Patas monkey      Erythrocebus  omni    Primates       lc          \n",
              "10 Domestic cat      Felis         carni   Carnivora      domesticated\n",
              "11 Pilot whale       Globicephalus carni   Cetacea        cd          \n",
              "12 Gray seal         Haliochoerus  carni   Carnivora      lc          \n",
              "13 Gray hyrax        Heterohyrax   herbi   Hyracoidea     lc          \n",
              "14 Mongoose lemur    Lemur         herbi   Primates       vu          \n",
              "15 African elephant  Loxodonta     herbi   Proboscidea    vu          \n",
              "16 Mongolian gerbil  Meriones      herbi   Rodentia       lc          \n",
              "17 Golden hamster    Mesocricetus  herbi   Rodentia       en          \n",
              "18 House mouse       Mus           herbi   Rodentia       nt          \n",
              "19 Slow loris        Nyctibeus     carni   Primates       NA          \n",
              "20 Desert hedgehog   Paraechinus   NA      Erinaceomorpha lc          \n",
              "21 Deer mouse        Peromyscus    NA      Rodentia       NA          \n",
              "22 Caspian seal      Phoca         carni   Carnivora      vu          \n",
              "23 Common porpoise   Phocoena      carni   Cetacea        vu          \n",
              "24 Giant armadillo   Priodontes    insecti Cingulata      en          \n",
              "25 Rock hyrax        Procavia      NA      Hyracoidea     lc          \n",
              "26 Laboratory rat    Rattus        herbi   Rodentia       lc          \n",
              "27 Squirrel monkey   Saimiri       omni    Primates       NA          \n",
              "28 Cotton rat        Sigmodon      herbi   Rodentia       NA          \n",
              "29 Mole rat          Spalax        NA      Rodentia       NA          \n",
              "30 Musk shrew        Suncus        NA      Soricomorpha   NA          \n",
              "31 Brazilian tapir   Tapirus       herbi   Perissodactyla vu          \n",
              "32 Tree shrew        Tupaia        omni    Scandentia     NA          \n",
              "33 Arctic fox        Vulpes        carni   Carnivora      NA          \n",
              "34 Red fox           Vulpes        carni   Carnivora      NA          \n",
              "   sleep_total sleep_rem sleep_cycle awake brainwt bodywt  \n",
              "1  17.0        1.8              NA    7.00 0.01550    0.480\n",
              "2  14.4        2.4              NA    9.60      NA    1.350\n",
              "3   7.0         NA              NA   17.00      NA    0.045\n",
              "4   3.0         NA              NA   21.00 0.09820   14.800\n",
              "5   9.4        0.8       0.2166667   14.60 0.00550    0.728\n",
              "6   5.3        0.5              NA   18.70 0.01230    2.950\n",
              "7   3.9         NA              NA   20.10 4.60300 2547.000\n",
              "8  10.1        3.5       0.2833333   13.90 0.00350    0.770\n",
              "9  10.9        1.1              NA   13.10 0.11500   10.000\n",
              "10 12.5        3.2       0.4166667   11.50 0.02560    3.300\n",
              "11  2.7        0.1              NA   21.35      NA  800.000\n",
              "12  6.2        1.5              NA   17.80 0.32500   85.000\n",
              "13  6.3        0.6              NA   17.70 0.01227    2.625\n",
              "14  9.5        0.9              NA   14.50      NA    1.670\n",
              "15  3.3         NA              NA   20.70 5.71200 6654.000\n",
              "16 14.2        1.9              NA    9.80      NA    0.053\n",
              "17 14.3        3.1       0.2000000    9.70 0.00100    0.120\n",
              "18 12.5        1.4       0.1833333   11.50 0.00040    0.022\n",
              "19 11.0         NA              NA   13.00 0.01250    1.400\n",
              "20 10.3        2.7              NA   13.70 0.00240    0.550\n",
              "21 11.5         NA              NA   12.50      NA    0.021\n",
              "22  3.5        0.4              NA   20.50      NA   86.000\n",
              "23  5.6         NA              NA   18.45      NA   53.180\n",
              "24 18.1        6.1              NA    5.90 0.08100   60.000\n",
              "25  5.4        0.5              NA   18.60 0.02100    3.600\n",
              "26 13.0        2.4       0.1833333   11.00 0.00190    0.320\n",
              "27  9.6        1.4              NA   14.40 0.02000    0.743\n",
              "28 11.3        1.1       0.1500000   12.70 0.00118    0.148\n",
              "29 10.6        2.4              NA   13.40 0.00300    0.122\n",
              "30 12.8        2.0       0.1833333   11.20 0.00033    0.048\n",
              "31  4.4        1.0       0.9000000   19.60 0.16900  207.501\n",
              "32  8.9        2.6       0.2333333   15.10 0.00250    0.104\n",
              "33 12.5         NA              NA   11.50 0.04450    3.380\n",
              "34  9.8        2.4       0.3500000   14.20 0.05040    4.230"
            ]
          },
          "metadata": {}
        }
      ]
    },
    {
      "cell_type": "markdown",
      "source": [
        "## 3d.\n",
        "\n",
        "For each order, find the animal with the longest name."
      ],
      "metadata": {
        "id": "NX4XL6RdRJGn"
      }
    },
    {
      "cell_type": "code",
      "source": [
        "msleep %>% group_by(order) %>% summarise(names = list(name))"
      ],
      "metadata": {
        "colab": {
          "base_uri": "https://localhost:8080/",
          "height": 729
        },
        "id": "-0NSc6dpV3d1",
        "outputId": "ae968afb-2d07-406c-911a-bd80413a3d1a"
      },
      "execution_count": null,
      "outputs": [
        {
          "output_type": "display_data",
          "data": {
            "text/html": [
              "<table class=\"dataframe\">\n",
              "<caption>A tibble: 19 × 2</caption>\n",
              "<thead>\n",
              "\t<tr><th scope=col>order</th><th scope=col>names</th></tr>\n",
              "\t<tr><th scope=col>&lt;chr&gt;</th><th scope=col>&lt;list&gt;</th></tr>\n",
              "</thead>\n",
              "<tbody>\n",
              "\t<tr><td>Afrosoricida   </td><td>Tenrec</td></tr>\n",
              "\t<tr><td>Artiodactyla   </td><td>Cow     , Roe deer, Goat    , Giraffe , Sheep   , Pig     </td></tr>\n",
              "\t<tr><td>Carnivora      </td><td>Cheetah          , Northern fur seal, Dog              , Domestic cat     , Gray seal        , Tiger            , Jaguar           , Lion             , Caspian seal     , Genet            , Arctic fox       , Red fox          </td></tr>\n",
              "\t<tr><td>Cetacea        </td><td>Pilot whale         , Common porpoise     , Bottle-nosed dolphin</td></tr>\n",
              "\t<tr><td>Chiroptera     </td><td>Big brown bat   , Little brown bat</td></tr>\n",
              "\t<tr><td>Cingulata      </td><td>Long-nosed armadillo, Giant armadillo     </td></tr>\n",
              "\t<tr><td>Didelphimorphia</td><td>North American Opossum, Thick-tailed opposum  </td></tr>\n",
              "\t<tr><td>Diprotodontia  </td><td>Phalanger, Potoroo  </td></tr>\n",
              "\t<tr><td>Erinaceomorpha </td><td>European hedgehog, Desert hedgehog  </td></tr>\n",
              "\t<tr><td>Hyracoidea     </td><td>Tree hyrax, Gray hyrax, Rock hyrax</td></tr>\n",
              "\t<tr><td>Lagomorpha     </td><td>Rabbit</td></tr>\n",
              "\t<tr><td>Monotremata    </td><td>Short-nosed echidna</td></tr>\n",
              "\t<tr><td>Perissodactyla </td><td>Horse          , Donkey         , Brazilian tapir</td></tr>\n",
              "\t<tr><td>Pilosa         </td><td>Three-toed sloth</td></tr>\n",
              "\t<tr><td>Primates       </td><td>Owl monkey     , Grivet         , Patas monkey   , Galago         , Human          , Mongoose lemur , Macaque        , Slow loris     , Chimpanzee     , Baboon         , Potto          , Squirrel monkey</td></tr>\n",
              "\t<tr><td>Proboscidea    </td><td>Asian elephant  , African elephant</td></tr>\n",
              "\t<tr><td>Rodentia       </td><td>Mountain beaver               , Vesper mouse                  , Guinea pig                    , Chinchilla                    , African giant pouched rat     , Western american chipmunk     , Mongolian gerbil              , Golden hamster                , Vole                          , House mouse                   , Round-tailed muskrat          , Degu                          , Northern grasshopper mouse    , Deer mouse                    , Laboratory rat                , African striped mouse         , Cotton rat                    , Mole rat                      , Arctic ground squirrel        , Thirteen-lined ground squirrel, Golden-mantled ground squirrel, Eastern american chipmunk     </td></tr>\n",
              "\t<tr><td>Scandentia     </td><td>Tree shrew</td></tr>\n",
              "\t<tr><td>Soricomorpha   </td><td>Greater short-tailed shrew, Star-nosed mole           , Lesser short-tailed shrew , Eastern american mole     , Musk shrew                </td></tr>\n",
              "</tbody>\n",
              "</table>\n"
            ],
            "text/markdown": "\nA tibble: 19 × 2\n\n| order &lt;chr&gt; | names &lt;list&gt; |\n|---|---|\n| Afrosoricida    | Tenrec |\n| Artiodactyla    | Cow     , Roe deer, Goat    , Giraffe , Sheep   , Pig      |\n| Carnivora       | Cheetah          , Northern fur seal, Dog              , Domestic cat     , Gray seal        , Tiger            , Jaguar           , Lion             , Caspian seal     , Genet            , Arctic fox       , Red fox           |\n| Cetacea         | Pilot whale         , Common porpoise     , Bottle-nosed dolphin |\n| Chiroptera      | Big brown bat   , Little brown bat |\n| Cingulata       | Long-nosed armadillo, Giant armadillo      |\n| Didelphimorphia | North American Opossum, Thick-tailed opposum   |\n| Diprotodontia   | Phalanger, Potoroo   |\n| Erinaceomorpha  | European hedgehog, Desert hedgehog   |\n| Hyracoidea      | Tree hyrax, Gray hyrax, Rock hyrax |\n| Lagomorpha      | Rabbit |\n| Monotremata     | Short-nosed echidna |\n| Perissodactyla  | Horse          , Donkey         , Brazilian tapir |\n| Pilosa          | Three-toed sloth |\n| Primates        | Owl monkey     , Grivet         , Patas monkey   , Galago         , Human          , Mongoose lemur , Macaque        , Slow loris     , Chimpanzee     , Baboon         , Potto          , Squirrel monkey |\n| Proboscidea     | Asian elephant  , African elephant |\n| Rodentia        | Mountain beaver               , Vesper mouse                  , Guinea pig                    , Chinchilla                    , African giant pouched rat     , Western american chipmunk     , Mongolian gerbil              , Golden hamster                , Vole                          , House mouse                   , Round-tailed muskrat          , Degu                          , Northern grasshopper mouse    , Deer mouse                    , Laboratory rat                , African striped mouse         , Cotton rat                    , Mole rat                      , Arctic ground squirrel        , Thirteen-lined ground squirrel, Golden-mantled ground squirrel, Eastern american chipmunk      |\n| Scandentia      | Tree shrew |\n| Soricomorpha    | Greater short-tailed shrew, Star-nosed mole           , Lesser short-tailed shrew , Eastern american mole     , Musk shrew                 |\n\n",
            "text/latex": "A tibble: 19 × 2\n\\begin{tabular}{ll}\n order & names\\\\\n <chr> & <list>\\\\\n\\hline\n\t Afrosoricida    & Tenrec\\\\\n\t Artiodactyla    & Cow     , Roe deer, Goat    , Giraffe , Sheep   , Pig     \\\\\n\t Carnivora       & Cheetah          , Northern fur seal, Dog              , Domestic cat     , Gray seal        , Tiger            , Jaguar           , Lion             , Caspian seal     , Genet            , Arctic fox       , Red fox          \\\\\n\t Cetacea         & Pilot whale         , Common porpoise     , Bottle-nosed dolphin\\\\\n\t Chiroptera      & Big brown bat   , Little brown bat\\\\\n\t Cingulata       & Long-nosed armadillo, Giant armadillo     \\\\\n\t Didelphimorphia & North American Opossum, Thick-tailed opposum  \\\\\n\t Diprotodontia   & Phalanger, Potoroo  \\\\\n\t Erinaceomorpha  & European hedgehog, Desert hedgehog  \\\\\n\t Hyracoidea      & Tree hyrax, Gray hyrax, Rock hyrax\\\\\n\t Lagomorpha      & Rabbit\\\\\n\t Monotremata     & Short-nosed echidna\\\\\n\t Perissodactyla  & Horse          , Donkey         , Brazilian tapir\\\\\n\t Pilosa          & Three-toed sloth\\\\\n\t Primates        & Owl monkey     , Grivet         , Patas monkey   , Galago         , Human          , Mongoose lemur , Macaque        , Slow loris     , Chimpanzee     , Baboon         , Potto          , Squirrel monkey\\\\\n\t Proboscidea     & Asian elephant  , African elephant\\\\\n\t Rodentia        & Mountain beaver               , Vesper mouse                  , Guinea pig                    , Chinchilla                    , African giant pouched rat     , Western american chipmunk     , Mongolian gerbil              , Golden hamster                , Vole                          , House mouse                   , Round-tailed muskrat          , Degu                          , Northern grasshopper mouse    , Deer mouse                    , Laboratory rat                , African striped mouse         , Cotton rat                    , Mole rat                      , Arctic ground squirrel        , Thirteen-lined ground squirrel, Golden-mantled ground squirrel, Eastern american chipmunk     \\\\\n\t Scandentia      & Tree shrew\\\\\n\t Soricomorpha    & Greater short-tailed shrew, Star-nosed mole           , Lesser short-tailed shrew , Eastern american mole     , Musk shrew                \\\\\n\\end{tabular}\n",
            "text/plain": [
              "   order          \n",
              "1  Afrosoricida   \n",
              "2  Artiodactyla   \n",
              "3  Carnivora      \n",
              "4  Cetacea        \n",
              "5  Chiroptera     \n",
              "6  Cingulata      \n",
              "7  Didelphimorphia\n",
              "8  Diprotodontia  \n",
              "9  Erinaceomorpha \n",
              "10 Hyracoidea     \n",
              "11 Lagomorpha     \n",
              "12 Monotremata    \n",
              "13 Perissodactyla \n",
              "14 Pilosa         \n",
              "15 Primates       \n",
              "16 Proboscidea    \n",
              "17 Rodentia       \n",
              "18 Scandentia     \n",
              "19 Soricomorpha   \n",
              "   names                                                                                                                                                                                                                                                                                                                                                                                                                                                                                                                                                                                                                                                                                                                         \n",
              "1  Tenrec                                                                                                                                                                                                                                                                                                                                                                                                                                                                                                                                                                                                                                                                                                                        \n",
              "2  Cow     , Roe deer, Goat    , Giraffe , Sheep   , Pig                                                                                                                                                                                                                                                                                                                                                                                                                                                                                                                                                                                                                                                                         \n",
              "3  Cheetah          , Northern fur seal, Dog              , Domestic cat     , Gray seal        , Tiger            , Jaguar           , Lion             , Caspian seal     , Genet            , Arctic fox       , Red fox                                                                                                                                                                                                                                                                                                                                                                                                                                                                                                      \n",
              "4  Pilot whale         , Common porpoise     , Bottle-nosed dolphin                                                                                                                                                                                                                                                                                                                                                                                                                                                                                                                                                                                                                                                              \n",
              "5  Big brown bat   , Little brown bat                                                                                                                                                                                                                                                                                                                                                                                                                                                                                                                                                                                                                                                                                            \n",
              "6  Long-nosed armadillo, Giant armadillo                                                                                                                                                                                                                                                                                                                                                                                                                                                                                                                                                                                                                                                                                         \n",
              "7  North American Opossum, Thick-tailed opposum                                                                                                                                                                                                                                                                                                                                                                                                                                                                                                                                                                                                                                                                                  \n",
              "8  Phalanger, Potoroo                                                                                                                                                                                                                                                                                                                                                                                                                                                                                                                                                                                                                                                                                                            \n",
              "9  European hedgehog, Desert hedgehog                                                                                                                                                                                                                                                                                                                                                                                                                                                                                                                                                                                                                                                                                            \n",
              "10 Tree hyrax, Gray hyrax, Rock hyrax                                                                                                                                                                                                                                                                                                                                                                                                                                                                                                                                                                                                                                                                                            \n",
              "11 Rabbit                                                                                                                                                                                                                                                                                                                                                                                                                                                                                                                                                                                                                                                                                                                        \n",
              "12 Short-nosed echidna                                                                                                                                                                                                                                                                                                                                                                                                                                                                                                                                                                                                                                                                                                           \n",
              "13 Horse          , Donkey         , Brazilian tapir                                                                                                                                                                                                                                                                                                                                                                                                                                                                                                                                                                                                                                                                             \n",
              "14 Three-toed sloth                                                                                                                                                                                                                                                                                                                                                                                                                                                                                                                                                                                                                                                                                                              \n",
              "15 Owl monkey     , Grivet         , Patas monkey   , Galago         , Human          , Mongoose lemur , Macaque        , Slow loris     , Chimpanzee     , Baboon         , Potto          , Squirrel monkey                                                                                                                                                                                                                                                                                                                                                                                                                                                                                                                    \n",
              "16 Asian elephant  , African elephant                                                                                                                                                                                                                                                                                                                                                                                                                                                                                                                                                                                                                                                                                            \n",
              "17 Mountain beaver               , Vesper mouse                  , Guinea pig                    , Chinchilla                    , African giant pouched rat     , Western american chipmunk     , Mongolian gerbil              , Golden hamster                , Vole                          , House mouse                   , Round-tailed muskrat          , Degu                          , Northern grasshopper mouse    , Deer mouse                    , Laboratory rat                , African striped mouse         , Cotton rat                    , Mole rat                      , Arctic ground squirrel        , Thirteen-lined ground squirrel, Golden-mantled ground squirrel, Eastern american chipmunk     \n",
              "18 Tree shrew                                                                                                                                                                                                                                                                                                                                                                                                                                                                                                                                                                                                                                                                                                                    \n",
              "19 Greater short-tailed shrew, Star-nosed mole           , Lesser short-tailed shrew , Eastern american mole     , Musk shrew                                                                                                                                                                                                                                                                                                                                                                                                                                                                                                                                                                                                    "
            ]
          },
          "metadata": {}
        }
      ]
    },
    {
      "cell_type": "code",
      "source": [
        "x <- msleep %>% group_by(order) %>% summarise(names = list(name))\n",
        "# $longest_name <- x$names %>% map_chr(~.[which.max(nchar(.))])"
      ],
      "metadata": {
        "id": "0MpUXbocOK1E"
      },
      "execution_count": null,
      "outputs": []
    },
    {
      "cell_type": "code",
      "source": [
        "x$names %>% map_chr(~.[which.max(nchar(.))])"
      ],
      "metadata": {
        "colab": {
          "base_uri": "https://localhost:8080/",
          "height": 52
        },
        "id": "65M41ZdyScrr",
        "outputId": "ea781261-9d85-4d5c-8f21-8f9a3de6cac2"
      },
      "execution_count": null,
      "outputs": [
        {
          "output_type": "display_data",
          "data": {
            "text/html": [
              "<style>\n",
              ".list-inline {list-style: none; margin:0; padding: 0}\n",
              ".list-inline>li {display: inline-block}\n",
              ".list-inline>li:not(:last-child)::after {content: \"\\00b7\"; padding: 0 .5ex}\n",
              "</style>\n",
              "<ol class=list-inline><li>'Tenrec'</li><li>'Roe deer'</li><li>'Northern fur seal'</li><li>'Bottle-nosed dolphin'</li><li>'Little brown bat'</li><li>'Long-nosed armadillo'</li><li>'North American Opossum'</li><li>'Phalanger'</li><li>'European hedgehog'</li><li>'Tree hyrax'</li><li>'Rabbit'</li><li>'Short-nosed echidna'</li><li>'Brazilian tapir'</li><li>'Three-toed sloth'</li><li>'Squirrel monkey'</li><li>'African elephant'</li><li>'Thirteen-lined ground squirrel'</li><li>'Tree shrew'</li><li>'Greater short-tailed shrew'</li></ol>\n"
            ],
            "text/markdown": "1. 'Tenrec'\n2. 'Roe deer'\n3. 'Northern fur seal'\n4. 'Bottle-nosed dolphin'\n5. 'Little brown bat'\n6. 'Long-nosed armadillo'\n7. 'North American Opossum'\n8. 'Phalanger'\n9. 'European hedgehog'\n10. 'Tree hyrax'\n11. 'Rabbit'\n12. 'Short-nosed echidna'\n13. 'Brazilian tapir'\n14. 'Three-toed sloth'\n15. 'Squirrel monkey'\n16. 'African elephant'\n17. 'Thirteen-lined ground squirrel'\n18. 'Tree shrew'\n19. 'Greater short-tailed shrew'\n\n\n",
            "text/latex": "\\begin{enumerate*}\n\\item 'Tenrec'\n\\item 'Roe deer'\n\\item 'Northern fur seal'\n\\item 'Bottle-nosed dolphin'\n\\item 'Little brown bat'\n\\item 'Long-nosed armadillo'\n\\item 'North American Opossum'\n\\item 'Phalanger'\n\\item 'European hedgehog'\n\\item 'Tree hyrax'\n\\item 'Rabbit'\n\\item 'Short-nosed echidna'\n\\item 'Brazilian tapir'\n\\item 'Three-toed sloth'\n\\item 'Squirrel monkey'\n\\item 'African elephant'\n\\item 'Thirteen-lined ground squirrel'\n\\item 'Tree shrew'\n\\item 'Greater short-tailed shrew'\n\\end{enumerate*}\n",
            "text/plain": [
              " [1] \"Tenrec\"                         \"Roe deer\"                      \n",
              " [3] \"Northern fur seal\"              \"Bottle-nosed dolphin\"          \n",
              " [5] \"Little brown bat\"               \"Long-nosed armadillo\"          \n",
              " [7] \"North American Opossum\"         \"Phalanger\"                     \n",
              " [9] \"European hedgehog\"              \"Tree hyrax\"                    \n",
              "[11] \"Rabbit\"                         \"Short-nosed echidna\"           \n",
              "[13] \"Brazilian tapir\"                \"Three-toed sloth\"              \n",
              "[15] \"Squirrel monkey\"                \"African elephant\"              \n",
              "[17] \"Thirteen-lined ground squirrel\" \"Tree shrew\"                    \n",
              "[19] \"Greater short-tailed shrew\"    "
            ]
          },
          "metadata": {}
        }
      ]
    },
    {
      "cell_type": "code",
      "source": [
        "head(msleep)"
      ],
      "metadata": {
        "colab": {
          "base_uri": "https://localhost:8080/",
          "height": 428
        },
        "id": "SWNTD7tSVSvT",
        "outputId": "d358ef02-e153-4119-a0ba-47f52a990282"
      },
      "execution_count": null,
      "outputs": [
        {
          "output_type": "display_data",
          "data": {
            "text/html": [
              "<table class=\"dataframe\">\n",
              "<caption>A tibble: 6 × 11</caption>\n",
              "<thead>\n",
              "\t<tr><th scope=col>name</th><th scope=col>genus</th><th scope=col>vore</th><th scope=col>order</th><th scope=col>conservation</th><th scope=col>sleep_total</th><th scope=col>sleep_rem</th><th scope=col>sleep_cycle</th><th scope=col>awake</th><th scope=col>brainwt</th><th scope=col>bodywt</th></tr>\n",
              "\t<tr><th scope=col>&lt;chr&gt;</th><th scope=col>&lt;chr&gt;</th><th scope=col>&lt;chr&gt;</th><th scope=col>&lt;chr&gt;</th><th scope=col>&lt;chr&gt;</th><th scope=col>&lt;dbl&gt;</th><th scope=col>&lt;dbl&gt;</th><th scope=col>&lt;dbl&gt;</th><th scope=col>&lt;dbl&gt;</th><th scope=col>&lt;dbl&gt;</th><th scope=col>&lt;dbl&gt;</th></tr>\n",
              "</thead>\n",
              "<tbody>\n",
              "\t<tr><td>Cheetah                   </td><td>Acinonyx  </td><td>carni</td><td>Carnivora   </td><td>lc          </td><td>12.1</td><td> NA</td><td>       NA</td><td>11.9</td><td>     NA</td><td> 50.000</td></tr>\n",
              "\t<tr><td>Owl monkey                </td><td>Aotus     </td><td>omni </td><td>Primates    </td><td>NA          </td><td>17.0</td><td>1.8</td><td>       NA</td><td> 7.0</td><td>0.01550</td><td>  0.480</td></tr>\n",
              "\t<tr><td>Mountain beaver           </td><td>Aplodontia</td><td>herbi</td><td>Rodentia    </td><td>nt          </td><td>14.4</td><td>2.4</td><td>       NA</td><td> 9.6</td><td>     NA</td><td>  1.350</td></tr>\n",
              "\t<tr><td>Greater short-tailed shrew</td><td>Blarina   </td><td>omni </td><td>Soricomorpha</td><td>lc          </td><td>14.9</td><td>2.3</td><td>0.1333333</td><td> 9.1</td><td>0.00029</td><td>  0.019</td></tr>\n",
              "\t<tr><td>Cow                       </td><td>Bos       </td><td>herbi</td><td>Artiodactyla</td><td>domesticated</td><td> 4.0</td><td>0.7</td><td>0.6666667</td><td>20.0</td><td>0.42300</td><td>600.000</td></tr>\n",
              "\t<tr><td>Three-toed sloth          </td><td>Bradypus  </td><td>herbi</td><td>Pilosa      </td><td>NA          </td><td>14.4</td><td>2.2</td><td>0.7666667</td><td> 9.6</td><td>     NA</td><td>  3.850</td></tr>\n",
              "</tbody>\n",
              "</table>\n"
            ],
            "text/markdown": "\nA tibble: 6 × 11\n\n| name &lt;chr&gt; | genus &lt;chr&gt; | vore &lt;chr&gt; | order &lt;chr&gt; | conservation &lt;chr&gt; | sleep_total &lt;dbl&gt; | sleep_rem &lt;dbl&gt; | sleep_cycle &lt;dbl&gt; | awake &lt;dbl&gt; | brainwt &lt;dbl&gt; | bodywt &lt;dbl&gt; |\n|---|---|---|---|---|---|---|---|---|---|---|\n| Cheetah                    | Acinonyx   | carni | Carnivora    | lc           | 12.1 |  NA |        NA | 11.9 |      NA |  50.000 |\n| Owl monkey                 | Aotus      | omni  | Primates     | NA           | 17.0 | 1.8 |        NA |  7.0 | 0.01550 |   0.480 |\n| Mountain beaver            | Aplodontia | herbi | Rodentia     | nt           | 14.4 | 2.4 |        NA |  9.6 |      NA |   1.350 |\n| Greater short-tailed shrew | Blarina    | omni  | Soricomorpha | lc           | 14.9 | 2.3 | 0.1333333 |  9.1 | 0.00029 |   0.019 |\n| Cow                        | Bos        | herbi | Artiodactyla | domesticated |  4.0 | 0.7 | 0.6666667 | 20.0 | 0.42300 | 600.000 |\n| Three-toed sloth           | Bradypus   | herbi | Pilosa       | NA           | 14.4 | 2.2 | 0.7666667 |  9.6 |      NA |   3.850 |\n\n",
            "text/latex": "A tibble: 6 × 11\n\\begin{tabular}{lllllllllll}\n name & genus & vore & order & conservation & sleep\\_total & sleep\\_rem & sleep\\_cycle & awake & brainwt & bodywt\\\\\n <chr> & <chr> & <chr> & <chr> & <chr> & <dbl> & <dbl> & <dbl> & <dbl> & <dbl> & <dbl>\\\\\n\\hline\n\t Cheetah                    & Acinonyx   & carni & Carnivora    & lc           & 12.1 &  NA &        NA & 11.9 &      NA &  50.000\\\\\n\t Owl monkey                 & Aotus      & omni  & Primates     & NA           & 17.0 & 1.8 &        NA &  7.0 & 0.01550 &   0.480\\\\\n\t Mountain beaver            & Aplodontia & herbi & Rodentia     & nt           & 14.4 & 2.4 &        NA &  9.6 &      NA &   1.350\\\\\n\t Greater short-tailed shrew & Blarina    & omni  & Soricomorpha & lc           & 14.9 & 2.3 & 0.1333333 &  9.1 & 0.00029 &   0.019\\\\\n\t Cow                        & Bos        & herbi & Artiodactyla & domesticated &  4.0 & 0.7 & 0.6666667 & 20.0 & 0.42300 & 600.000\\\\\n\t Three-toed sloth           & Bradypus   & herbi & Pilosa       & NA           & 14.4 & 2.2 & 0.7666667 &  9.6 &      NA &   3.850\\\\\n\\end{tabular}\n",
            "text/plain": [
              "  name                       genus      vore  order        conservation\n",
              "1 Cheetah                    Acinonyx   carni Carnivora    lc          \n",
              "2 Owl monkey                 Aotus      omni  Primates     NA          \n",
              "3 Mountain beaver            Aplodontia herbi Rodentia     nt          \n",
              "4 Greater short-tailed shrew Blarina    omni  Soricomorpha lc          \n",
              "5 Cow                        Bos        herbi Artiodactyla domesticated\n",
              "6 Three-toed sloth           Bradypus   herbi Pilosa       NA          \n",
              "  sleep_total sleep_rem sleep_cycle awake brainwt bodywt \n",
              "1 12.1         NA              NA   11.9       NA  50.000\n",
              "2 17.0        1.8              NA    7.0  0.01550   0.480\n",
              "3 14.4        2.4              NA    9.6       NA   1.350\n",
              "4 14.9        2.3       0.1333333    9.1  0.00029   0.019\n",
              "5  4.0        0.7       0.6666667   20.0  0.42300 600.000\n",
              "6 14.4        2.2       0.7666667    9.6       NA   3.850"
            ]
          },
          "metadata": {}
        }
      ]
    },
    {
      "cell_type": "markdown",
      "source": [
        "## 3e.\n",
        "\n",
        "Create a scatterplot with `brainwt` on the x-axis and `sleep_total` on the y-axis. Use a log-10 transformation for the x-axis. Color points by `vore`. Plot a *single* linear line of best fit on top of the scatterplot. "
      ],
      "metadata": {
        "id": "O14kvnvxXrHZ"
      }
    },
    {
      "cell_type": "code",
      "source": [
        "ggplot(msleep, aes(x = brainwt, y = sleep_total)) +\n",
        "  scale_x_continuous(trans=\"log10\") + geom_point(aes(color=vore)) +\n",
        "  geom_smooth(method=\"lm\", se=FALSE)"
      ],
      "metadata": {
        "colab": {
          "base_uri": "https://localhost:8080/",
          "height": 547
        },
        "id": "_qvdeDDCUpc0",
        "outputId": "3a6c88a8-9505-4b41-d0ee-4ae7c9dc89dc"
      },
      "execution_count": null,
      "outputs": [
        {
          "output_type": "stream",
          "name": "stderr",
          "text": [
            "`geom_smooth()` using formula 'y ~ x'\n",
            "\n",
            "Warning message:\n",
            "“Removed 27 rows containing non-finite values (stat_smooth).”\n",
            "Warning message:\n",
            "“Removed 27 rows containing missing values (geom_point).”\n"
          ]
        },
        {
          "output_type": "display_data",
          "data": {
            "text/plain": [
              "plot without title"
            ],
            "image/png": "[encoded data removed]"
          },
          "metadata": {
            "image/png": {
              "width": 420,
              "height": 420
            }
          }
        }
      ]
    }
  ]
}