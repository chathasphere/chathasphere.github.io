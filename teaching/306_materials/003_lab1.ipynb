{
  "nbformat": 4,
  "nbformat_minor": 0,
  "metadata": {
    "kernelspec": {
      "display_name": "R",
      "language": "R",
      "name": "ir"
    },
    "language_info": {
      "codemirror_mode": "r",
      "file_extension": ".r",
      "mimetype": "text/x-r-source",
      "name": "R",
      "pygments_lexer": "r",
      "version": "3.6.1"
    },
    "colab": {
      "name": "Copy of 003_lab1.ipynb",
      "provenance": [],
      "collapsed_sections": [],
      "toc_visible": true,
      "include_colab_link": true
    }
  },
  "cells": [
    {
      "cell_type": "markdown",
      "metadata": {
        "id": "view-in-github",
        "colab_type": "text"
      },
      "source": [
        "<a href=\"https://colab.research.google.com/github/chathasphere/chathasphere.github.io/blob/main/teaching/306_materials/003_lab1.ipynb\" target=\"_parent\"><img src=\"https://colab.research.google.com/assets/colab-badge.svg\" alt=\"Open In Colab\"/></a>"
      ]
    },
    {
      "cell_type": "markdown",
      "metadata": {
        "id": "POSnPhki4LTA"
      },
      "source": [
        "# Lab 1: Intro to R and ggplot\n",
        "### January 11th, 2022\n",
        "\n"
      ]
    },
    {
      "cell_type": "markdown",
      "source": [
        "# 1. Logistics\n",
        "My name is Prayag (pronounced \"Pre-YAAG\"; he/him/his pronouns), and I'll be your GSI this semester!\n",
        "\n",
        "To download lab materials & get office hour info, go to my instructor webpage:\n",
        "https://chathasphere.github.io/teaching/stats306/\n",
        "\n",
        "The goal of these labs is to review concepts from lecture through examples and to give you practice writing code. \n",
        "\n",
        "Please fill out this brief Google form:\n",
        "https://forms.gle/xYAxg1zkmjecgaZk8\n",
        "\n",
        "Cheatsheet for Jupyter notebooks: https://www.edureka.co/blog/wp-content/uploads/2018/10/Jupyter_Notebook_CheatSheet_Edureka.**pdf**"
      ],
      "metadata": {
        "id": "m7y7LTSlyNT4"
      }
    },
    {
      "cell_type": "markdown",
      "source": [
        "# 2. Introduction to R"
      ],
      "metadata": {
        "id": "x84I8KuXyOGV"
      }
    },
    {
      "cell_type": "code",
      "metadata": {
        "scrolled": false,
        "id": "XIvQ8mIm4LTH"
      },
      "source": [
        "library(tidyverse) # syntax for importing a package\n",
        "# we'll be using tidyverse extensively this semester!"
      ],
      "execution_count": null,
      "outputs": []
    },
    {
      "cell_type": "markdown",
      "metadata": {
        "id": "qVLb5OR44LTJ"
      },
      "source": [
        "## 2.1 Assignment and operations\n"
      ]
    },
    {
      "cell_type": "code",
      "source": [
        "x <- \"hello world\" # preferred syntax\n",
        "x = \"hello world\" # this also works\n",
        "print(x) # this function takes an argument"
      ],
      "metadata": {
        "id": "ziJKAllSze-d"
      },
      "execution_count": null,
      "outputs": []
    },
    {
      "cell_type": "code",
      "metadata": {
        "id": "5rYBRw_M4LTK"
      },
      "source": [
        "y <- 3.5 \n",
        "z <- 5.5\n",
        "\n",
        "res <- 3*y^2/(z+1) # basic PEMDAS operators\n",
        "print(res)"
      ],
      "execution_count": null,
      "outputs": []
    },
    {
      "cell_type": "code",
      "metadata": {
        "id": "dAPof5CB4LTM"
      },
      "source": [
        "# modular arithmetic\n",
        "\n",
        "8 %% 4 # remainder operator\n",
        "10 %% 4\n",
        "14 %/% 4 # quotient operator\n",
        "14 %/% 7"
      ],
      "execution_count": null,
      "outputs": []
    },
    {
      "cell_type": "markdown",
      "metadata": {
        "id": "MVpkZTkP4LTN"
      },
      "source": [
        "## 2.2 Functions"
      ]
    },
    {
      "cell_type": "code",
      "metadata": {
        "id": "GjsY7J3-4LTN"
      },
      "source": [
        "?sqrt     # Look up documentation"
      ],
      "execution_count": null,
      "outputs": []
    },
    {
      "cell_type": "code",
      "metadata": {
        "id": "APAJMg9_4LTO"
      },
      "source": [
        "sqrt(5)"
      ],
      "execution_count": null,
      "outputs": []
    },
    {
      "cell_type": "code",
      "metadata": {
        "id": "6d7q5lcT4LTO"
      },
      "source": [
        "log(100)  # natural log\n",
        "log(100, base=10)"
      ],
      "execution_count": null,
      "outputs": []
    },
    {
      "cell_type": "code",
      "source": [
        "round(3.1415926535, 3)\n",
        "abs(-4)"
      ],
      "metadata": {
        "id": "kuPIY3hm1HvF"
      },
      "execution_count": null,
      "outputs": []
    },
    {
      "cell_type": "code",
      "source": [
        "# writing your own functions\n",
        "pow <- function(base, exponent) {\n",
        "  # this is a trivial example\n",
        "  return (base^exponent)\n",
        "}\n",
        "\n",
        "dog <- function() {\n",
        "  print(\"woof\") # does not need to return anything\n",
        "}"
      ],
      "metadata": {
        "id": "0AjT1xZ81xkS"
      },
      "execution_count": null,
      "outputs": []
    },
    {
      "cell_type": "code",
      "source": [
        "squareof(8); dog()"
      ],
      "metadata": {
        "id": "D6dtSDVH17wm"
      },
      "execution_count": null,
      "outputs": []
    },
    {
      "cell_type": "code",
      "source": [
        "# exercise: write a function that solves a quadratic equation\n",
        "# of the form y = ax^2 + bx + c\n",
        "# (it should return a vector of length 2)\n",
        "quad_eq <- function(a, b, c) {\n",
        "  # write your code here\n",
        "}"
      ],
      "metadata": {
        "id": "3nW6-bl79WZy"
      },
      "execution_count": null,
      "outputs": []
    },
    {
      "cell_type": "code",
      "source": [
        "quad_eq(1, 2, 3)"
      ],
      "metadata": {
        "id": "iU8f5dGF9st4"
      },
      "execution_count": null,
      "outputs": []
    },
    {
      "cell_type": "markdown",
      "metadata": {
        "id": "WPG0xW2z4LTQ"
      },
      "source": [
        "## 2.3 Vectors\n",
        "\n",
        "Sequences of a fixed type! R is a statistical computing language, so we'll be using vectors extensively. They often represent samples."
      ]
    },
    {
      "cell_type": "code",
      "metadata": {
        "id": "XKugI2Um4LTR"
      },
      "source": [
        "vec1 = c(1, 3, 5) # vector of integers\n",
        "\n",
        "vec2 = c(vec1, 6, 7, c(8, 9)) # vector of integers AND vectors\n",
        "# technically, a single \"primitive\" is a vector of length 1\n",
        "\n",
        "vec1; vec2"
      ],
      "execution_count": null,
      "outputs": []
    },
    {
      "cell_type": "code",
      "source": [
        "string_vec <- c(\"Michigan\", \"Ohio\", \"Pennsylvania\")\n",
        "bool_vec <- c(F, T, F, T, T)\n",
        "string_vec[1]; bool_vec[2]"
      ],
      "metadata": {
        "id": "ej3zdjDM3XRI"
      },
      "execution_count": null,
      "outputs": []
    },
    {
      "cell_type": "code",
      "metadata": {
        "id": "Fj6RbeCt4LTT"
      },
      "source": [
        "# alternate ways of initializing a vector\n",
        "1:10 \n",
        "5:-2\n",
        "rep(42, 4)\n",
        "seq(5, 8, 0.5)"
      ],
      "execution_count": null,
      "outputs": []
    },
    {
      "cell_type": "code",
      "metadata": {
        "id": "jenTuqxK4LTT"
      },
      "source": [
        "# vectors can index vectors!\n",
        "vec2[2:4]\n",
        "vec2[c(2, 4, 6)]"
      ],
      "execution_count": null,
      "outputs": []
    },
    {
      "cell_type": "code",
      "metadata": {
        "id": "a7Zy5Vv84LTV"
      },
      "source": [
        "# operations on vectors\n",
        "vec1 + 3\n",
        "sqrt(vec1)"
      ],
      "execution_count": null,
      "outputs": []
    },
    {
      "cell_type": "code",
      "metadata": {
        "id": "h1u2huML4LTW"
      },
      "source": [
        "length(vec1)\n",
        "min(vec1)\n",
        "mean(vec1)\n",
        "sum(vec1)"
      ],
      "execution_count": null,
      "outputs": []
    },
    {
      "cell_type": "markdown",
      "metadata": {
        "id": "eoKiRn1_4LTX"
      },
      "source": [
        "## 2.4 Logical operations"
      ]
    },
    {
      "cell_type": "code",
      "metadata": {
        "id": "i5UE3VVO4LTY"
      },
      "source": [
        "a = TRUE\n",
        "b = c(TRUE, FALSE)\n",
        "\n",
        "a\n",
        "!a\n",
        "!b\n",
        "! bool_vec"
      ],
      "execution_count": null,
      "outputs": []
    },
    {
      "cell_type": "code",
      "metadata": {
        "id": "PR5MJWKv4LTY"
      },
      "source": [
        "x = c(1, 3, 5)\n",
        "y = c(2, 3, 4)\n",
        "\n",
        "x == y\n",
        "x != y\n",
        "x > y\n",
        "x >= y"
      ],
      "execution_count": null,
      "outputs": []
    },
    {
      "cell_type": "code",
      "metadata": {
        "id": "-j22pD0C4LTZ"
      },
      "source": [
        "(3>2) | (1 == 0) # and\n",
        "(3>2) & (1 == 0) # or"
      ],
      "execution_count": null,
      "outputs": []
    },
    {
      "cell_type": "code",
      "metadata": {
        "id": "ay0-Sg5s4LTb"
      },
      "source": [
        "c = c(TRUE, TRUE, FALSE)\n",
        "d = c(TRUE, FALSE, FALSE)\n",
        "c & d\n",
        "c | d"
      ],
      "execution_count": null,
      "outputs": []
    },
    {
      "cell_type": "code",
      "metadata": {
        "id": "51PI0ZLH4LTc"
      },
      "source": [
        "all(c(TRUE, TRUE, TRUE))\n",
        "all(c(TRUE, TRUE, FALSE))"
      ],
      "execution_count": null,
      "outputs": []
    },
    {
      "cell_type": "code",
      "metadata": {
        "id": "33AFrqt64LTc"
      },
      "source": [
        "any(c(FALSE, FALSE, FALSE))\n",
        "any(c(FALSE, FALSE, TRUE))"
      ],
      "execution_count": null,
      "outputs": []
    },
    {
      "cell_type": "markdown",
      "source": [
        "## 2.5 Control Flows"
      ],
      "metadata": {
        "id": "pyBpkb7x8JBQ"
      }
    },
    {
      "cell_type": "code",
      "source": [
        "# For loops and if-else statements\n",
        "for(i in 1:10) {\n",
        "    if (i %% 2 == 0 & i %% 3 == 0) {\n",
        "        print('FizzBuzz')\n",
        "    } else if (i %% 2 == 0) {\n",
        "        print('Fizz')\n",
        "    } else {\n",
        "        print(i)\n",
        "    }\n",
        "}\n",
        "# in this course, we will generally be avoiding for loops\n",
        "# in favor of \"vectorized operations,\" which tend to be more efficient"
      ],
      "metadata": {
        "id": "hMvfRIKT8OQq"
      },
      "execution_count": null,
      "outputs": []
    },
    {
      "cell_type": "markdown",
      "metadata": {
        "id": "610f6MFv4LTd"
      },
      "source": [
        "# 3. Working with Data"
      ]
    },
    {
      "cell_type": "markdown",
      "source": [
        "## 3.1 Creating a Tibble\n"
      ],
      "metadata": {
        "id": "LBV9Dr37-CvY"
      }
    },
    {
      "cell_type": "code",
      "metadata": {
        "id": "1m6UKm1-4LTe"
      },
      "source": [
        "# constructing a \"tibble\"\n",
        "# ...basically an R dataframe\n",
        "# (These are characters from Avatar: the Last Airbender)\n",
        "dat = tibble(\n",
        "  name = c('Aang', 'Katara', 'Sokka', 'Toph', 'Zuko'), \n",
        "  age = c(112, 14, 15, 12, 16), \n",
        "  is_bender = c(T, T, F, T, T),\n",
        "  nationality = c(\"Air\", \"Water\", \"Water\", \"Earth\", \"Fire\"),\n",
        "  grade = c(89, 94, 96, 86, 82),\n",
        "  extra_credit = rep(1, 5) \n",
        ")"
      ],
      "execution_count": null,
      "outputs": []
    },
    {
      "cell_type": "code",
      "metadata": {
        "id": "7N0jWG5o4LTe"
      },
      "source": [
        "print(dat)\n",
        "dat"
      ],
      "execution_count": null,
      "outputs": []
    },
    {
      "cell_type": "code",
      "metadata": {
        "id": "zlWsYaE24LTe"
      },
      "source": [
        "dat[2,] # accessing a row\n",
        "dat[4, 4] #accessing a single value\n",
        "# syntax is: [row, column]"
      ],
      "execution_count": null,
      "outputs": []
    },
    {
      "cell_type": "code",
      "metadata": {
        "id": "-LWVUVir4LTf"
      },
      "source": [
        "dat[2:3, c(1, 3, 4)]"
      ],
      "execution_count": null,
      "outputs": []
    },
    {
      "cell_type": "code",
      "metadata": {
        "id": "1j4L4l3Y4LTf"
      },
      "source": [
        "dat$name # accessing a single column\n",
        "dat$grade"
      ],
      "execution_count": null,
      "outputs": []
    },
    {
      "cell_type": "code",
      "metadata": {
        "id": "ldl0_Fz34LTg"
      },
      "source": [
        "dat$final_score = dat$grade + dat$extra_credit\n",
        "print(dat)"
      ],
      "execution_count": null,
      "outputs": []
    },
    {
      "cell_type": "code",
      "source": [
        "subset(dat, age < 100) # subset based on logical condition"
      ],
      "metadata": {
        "id": "-HGXWS1m_NiI"
      },
      "execution_count": null,
      "outputs": []
    },
    {
      "cell_type": "markdown",
      "source": [
        "Exercise: Take a subset of Avatar characters who are benders *and* have a raw grade greater than 90%. Save this to a variable called `dat2`."
      ],
      "metadata": {
        "id": "unAdVIPqUWuX"
      }
    },
    {
      "cell_type": "code",
      "source": [
        "# your code here"
      ],
      "metadata": {
        "id": "7X9gc3JMULLw"
      },
      "execution_count": null,
      "outputs": []
    },
    {
      "cell_type": "markdown",
      "source": [
        "## 3.2 A Larger Data set"
      ],
      "metadata": {
        "id": "dvozpXGK-IMT"
      }
    },
    {
      "cell_type": "code",
      "metadata": {
        "id": "r_ZPLtQZ4LTi"
      },
      "source": [
        "print(diamonds) # importing a data set"
      ],
      "execution_count": null,
      "outputs": []
    },
    {
      "cell_type": "code",
      "source": [
        "str(diamonds);  dim(diamonds)"
      ],
      "metadata": {
        "id": "VoBuucXV7qba"
      },
      "execution_count": null,
      "outputs": []
    },
    {
      "cell_type": "code",
      "metadata": {
        "id": "OMibc9mT4LTj"
      },
      "source": [
        "head(diamonds);"
      ],
      "execution_count": null,
      "outputs": []
    },
    {
      "cell_type": "code",
      "metadata": {
        "id": "bEFCGKW64LTk"
      },
      "source": [
        "summary(diamonds)"
      ],
      "execution_count": null,
      "outputs": []
    },
    {
      "cell_type": "markdown",
      "metadata": {
        "id": "SEFeL_nJ4LTl"
      },
      "source": [
        "# Introducing ggplot\n",
        "\n",
        "Every ggplot2 plot has three key components:\n",
        "\n",
        "- data,\n",
        "\n",
        "- A set of aesthetic mappings between variables in the data and visual properties, and\n",
        "\n",
        "- At least one layer which describes how to render each observation. Layers are usually created with a geom function.\n",
        "\n",
        "(Source: https://ggplot2-book.org/getting-started.html)\n"
      ]
    },
    {
      "cell_type": "code",
      "metadata": {
        "id": "x_aFMS5x4LTl"
      },
      "source": [
        "ggplot(data=diamonds, mapping=aes(x=carat, y=price)) + \n",
        "    geom_point() # layers added on with a \"+\" operator"
      ],
      "execution_count": null,
      "outputs": []
    },
    {
      "cell_type": "code",
      "metadata": {
        "id": "H9HIXNsu4LTm"
      },
      "source": [
        "ggplot(data=diamonds, aes(x=carat, y=price, color=clarity)) + \n",
        "    geom_point(alpha=0.6) +\n",
        "    facet_wrap(~cut, ncol=3) +\n",
        "    labs(x='Carats', y='Price($)') +\n",
        "    ggtitle('Diamond size by carat')"
      ],
      "execution_count": null,
      "outputs": []
    },
    {
      "cell_type": "markdown",
      "metadata": {
        "id": "ulrRaL8wukiX"
      },
      "source": [
        "![Screen Shot 2021-01-23 at 2.29.19 PM.png](data:image/png;base64,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)"
      ]
    },
    {
      "cell_type": "markdown",
      "metadata": {
        "id": "HJcOtpL24LTn"
      },
      "source": [
        "Exercise: Recreate above box-plot (hint you need to use geom_boxplot)"
      ]
    },
    {
      "cell_type": "code",
      "metadata": {
        "id": "cRNAkSTy4LTn"
      },
      "source": [
        "# YOUR CODE HERE"
      ],
      "execution_count": null,
      "outputs": []
    },
    {
      "cell_type": "markdown",
      "metadata": {
        "id": "FKltcmHa4LTp"
      },
      "source": [
        "What are those points above the boxes?\n",
        "\n",
        "What are those straight lines on the boxes?"
      ]
    }
  ]
}