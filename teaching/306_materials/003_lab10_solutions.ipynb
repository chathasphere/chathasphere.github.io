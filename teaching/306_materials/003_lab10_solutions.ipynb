{
  "nbformat": 4,
  "nbformat_minor": 0,
  "metadata": {
    "kernelspec": {
      "display_name": "R",
      "language": "R",
      "name": "ir"
    },
    "language_info": {
      "codemirror_mode": "r",
      "file_extension": ".r",
      "mimetype": "text/x-r-source",
      "name": "R",
      "pygments_lexer": "r",
      "version": "3.6.1"
    },
    "colab": {
      "name": "003_lab10_solutions.ipynb",
      "provenance": [],
      "collapsed_sections": [],
      "include_colab_link": true
    }
  },
  "cells": [
    {
      "cell_type": "markdown",
      "metadata": {
        "id": "view-in-github",
        "colab_type": "text"
      },
      "source": [
        "<a href=\"https://colab.research.google.com/github/chathasphere/chathasphere.github.io/blob/main/teaching/306_materials/003_lab10_solutions.ipynb\" target=\"_parent\"><img src=\"https://colab.research.google.com/assets/colab-badge.svg\" alt=\"Open In Colab\"/></a>"
      ]
    },
    {
      "cell_type": "markdown",
      "metadata": {
        "id": "N6qet7MQcfCt"
      },
      "source": [
        "# Lab 10: Lists, Loops, Functions, Mapping\n",
        "## April 5th, 2022"
      ]
    },
    {
      "cell_type": "code",
      "metadata": {
        "id": "ydYGcQICcfCx",
        "colab": {
          "base_uri": "https://localhost:8080/"
        },
        "outputId": "baaa2d85-49e8-4e0c-88c2-04ae45c35698"
      },
      "source": [
        "library(tidyverse)"
      ],
      "execution_count": 1,
      "outputs": [
        {
          "output_type": "stream",
          "name": "stderr",
          "text": [
            "Warning message in system(\"timedatectl\", intern = TRUE):\n",
            "“running command 'timedatectl' had status 1”\n",
            "── \u001b[1mAttaching packages\u001b[22m ─────────────────────────────────────── tidyverse 1.3.1 ──\n",
            "\n",
            "\u001b[32m✔\u001b[39m \u001b[34mggplot2\u001b[39m 3.3.5     \u001b[32m✔\u001b[39m \u001b[34mpurrr  \u001b[39m 0.3.4\n",
            "\u001b[32m✔\u001b[39m \u001b[34mtibble \u001b[39m 3.1.6     \u001b[32m✔\u001b[39m \u001b[34mdplyr  \u001b[39m 1.0.8\n",
            "\u001b[32m✔\u001b[39m \u001b[34mtidyr  \u001b[39m 1.2.0     \u001b[32m✔\u001b[39m \u001b[34mstringr\u001b[39m 1.4.0\n",
            "\u001b[32m✔\u001b[39m \u001b[34mreadr  \u001b[39m 2.1.2     \u001b[32m✔\u001b[39m \u001b[34mforcats\u001b[39m 0.5.1\n",
            "\n",
            "── \u001b[1mConflicts\u001b[22m ────────────────────────────────────────── tidyverse_conflicts() ──\n",
            "\u001b[31m✖\u001b[39m \u001b[34mdplyr\u001b[39m::\u001b[32mfilter()\u001b[39m masks \u001b[34mstats\u001b[39m::filter()\n",
            "\u001b[31m✖\u001b[39m \u001b[34mdplyr\u001b[39m::\u001b[32mlag()\u001b[39m    masks \u001b[34mstats\u001b[39m::lag()\n",
            "\n"
          ]
        }
      ]
    },
    {
      "cell_type": "markdown",
      "metadata": {
        "id": "kg-bXvYPcfCz"
      },
      "source": [
        "# 1. Lists and Vectors (again)\n",
        "\n",
        "Whereas atomic vectors are sequences of a fixed type (e.g. character, integer), lists are \"recursive\" data structures. They can hold values of different types, even other lists. \n"
      ]
    },
    {
      "cell_type": "code",
      "source": [
        "z <- list(values=sin(1:3), ids=letters[1:3], sub=list(foo=42,bar=13))\n",
        "z"
      ],
      "metadata": {
        "id": "mzJxkjVy1gh3",
        "colab": {
          "base_uri": "https://localhost:8080/",
          "height": 201
        },
        "outputId": "9bc02d36-8eee-4bb2-e73e-a3af9ca7852e"
      },
      "execution_count": 2,
      "outputs": [
        {
          "output_type": "display_data",
          "data": {
            "text/html": [
              "<dl>\n",
              "\t<dt>$values</dt>\n",
              "\t\t<dd><style>\n",
              ".list-inline {list-style: none; margin:0; padding: 0}\n",
              ".list-inline>li {display: inline-block}\n",
              ".list-inline>li:not(:last-child)::after {content: \"\\00b7\"; padding: 0 .5ex}\n",
              "</style>\n",
              "<ol class=list-inline><li>0.841470984807897</li><li>0.909297426825682</li><li>0.141120008059867</li></ol>\n",
              "</dd>\n",
              "\t<dt>$ids</dt>\n",
              "\t\t<dd><style>\n",
              ".list-inline {list-style: none; margin:0; padding: 0}\n",
              ".list-inline>li {display: inline-block}\n",
              ".list-inline>li:not(:last-child)::after {content: \"\\00b7\"; padding: 0 .5ex}\n",
              "</style>\n",
              "<ol class=list-inline><li>'a'</li><li>'b'</li><li>'c'</li></ol>\n",
              "</dd>\n",
              "\t<dt>$sub</dt>\n",
              "\t\t<dd><dl>\n",
              "\t<dt>$foo</dt>\n",
              "\t\t<dd>42</dd>\n",
              "\t<dt>$bar</dt>\n",
              "\t\t<dd>13</dd>\n",
              "</dl>\n",
              "</dd>\n",
              "</dl>\n"
            ],
            "text/markdown": "$values\n:   1. 0.841470984807897\n2. 0.909297426825682\n3. 0.141120008059867\n\n\n\n$ids\n:   1. 'a'\n2. 'b'\n3. 'c'\n\n\n\n$sub\n:   $foo\n:   42\n$bar\n:   13\n\n\n\n\n\n",
            "text/latex": "\\begin{description}\n\\item[\\$values] \\begin{enumerate*}\n\\item 0.841470984807897\n\\item 0.909297426825682\n\\item 0.141120008059867\n\\end{enumerate*}\n\n\\item[\\$ids] \\begin{enumerate*}\n\\item 'a'\n\\item 'b'\n\\item 'c'\n\\end{enumerate*}\n\n\\item[\\$sub] \\begin{description}\n\\item[\\$foo] 42\n\\item[\\$bar] 13\n\\end{description}\n\n\\end{description}\n",
            "text/plain": [
              "$values\n",
              "[1] 0.8414710 0.9092974 0.1411200\n",
              "\n",
              "$ids\n",
              "[1] \"a\" \"b\" \"c\"\n",
              "\n",
              "$sub\n",
              "$sub$foo\n",
              "[1] 42\n",
              "\n",
              "$sub$bar\n",
              "[1] 13\n",
              "\n"
            ]
          },
          "metadata": {}
        }
      ]
    },
    {
      "cell_type": "code",
      "source": [
        "y <- vector(mode = \"list\", length = 3) #somewhat unintuitively, you can initialize an empty list using the \"vector\" function\n",
        "y[[1]] <- 4\n",
        "y[2] <- 5\n",
        "y$sublist <- list(night=F, day=T)\n",
        "y"
      ],
      "metadata": {
        "id": "NO51vnDM1oWZ",
        "colab": {
          "base_uri": "https://localhost:8080/",
          "height": 236
        },
        "outputId": "a8baebd4-7e43-486c-c3af-6833e0ae7c60"
      },
      "execution_count": 4,
      "outputs": [
        {
          "output_type": "display_data",
          "data": {
            "text/html": [
              "<dl>\n",
              "\t<dt>[[1]]</dt>\n",
              "\t\t<dd>4</dd>\n",
              "\t<dt>[[2]]</dt>\n",
              "\t\t<dd>5</dd>\n",
              "\t<dt>[[3]]</dt>\n",
              "\t\t<dd>NULL</dd>\n",
              "\t<dt>$sublist</dt>\n",
              "\t\t<dd><dl>\n",
              "\t<dt>$night</dt>\n",
              "\t\t<dd>FALSE</dd>\n",
              "\t<dt>$day</dt>\n",
              "\t\t<dd>TRUE</dd>\n",
              "</dl>\n",
              "</dd>\n",
              "</dl>\n"
            ],
            "text/markdown": "[[1]]\n:   4\n[[2]]\n:   5\n[[3]]\n:   NULL\n$sublist\n:   $night\n:   FALSE\n$day\n:   TRUE\n\n\n\n\n\n",
            "text/latex": "\\begin{description}\n\\item[{[[1]]}] 4\n\\item[{[[2]]}] 5\n\\item[{[[3]]}] NULL\n\\item[\\$sublist] \\begin{description}\n\\item[\\$night] FALSE\n\\item[\\$day] TRUE\n\\end{description}\n\n\\end{description}\n",
            "text/plain": [
              "[[1]]\n",
              "[1] 4\n",
              "\n",
              "[[2]]\n",
              "[1] 5\n",
              "\n",
              "[[3]]\n",
              "NULL\n",
              "\n",
              "$sublist\n",
              "$sublist$night\n",
              "[1] FALSE\n",
              "\n",
              "$sublist$day\n",
              "[1] TRUE\n",
              "\n"
            ]
          },
          "metadata": {}
        }
      ]
    },
    {
      "cell_type": "markdown",
      "metadata": {
        "id": "gb6izh8ccfCz"
      },
      "source": [
        "### 1.1 How does `[[.]]` differ from `[.]` when you are subsetting a list?"
      ]
    },
    {
      "cell_type": "code",
      "metadata": {
        "id": "RVkO6IPrcfC0"
      },
      "source": [
        "x = list(4,5,6)"
      ],
      "execution_count": 7,
      "outputs": []
    },
    {
      "cell_type": "code",
      "source": [
        "x"
      ],
      "metadata": {
        "colab": {
          "base_uri": "https://localhost:8080/",
          "height": 97
        },
        "id": "t5OS5SsmDY68",
        "outputId": "24a4030a-20d7-4665-975b-db03aa875e91"
      },
      "execution_count": 8,
      "outputs": [
        {
          "output_type": "display_data",
          "data": {
            "text/html": [
              "<ol>\n",
              "\t<li>4</li>\n",
              "\t<li>5</li>\n",
              "\t<li>6</li>\n",
              "</ol>\n"
            ],
            "text/markdown": "1. 4\n2. 5\n3. 6\n\n\n",
            "text/latex": "\\begin{enumerate}\n\\item 4\n\\item 5\n\\item 6\n\\end{enumerate}\n",
            "text/plain": [
              "[[1]]\n",
              "[1] 4\n",
              "\n",
              "[[2]]\n",
              "[1] 5\n",
              "\n",
              "[[3]]\n",
              "[1] 6\n"
            ]
          },
          "metadata": {}
        }
      ]
    },
    {
      "cell_type": "code",
      "metadata": {
        "id": "ju_5iFLscfC1",
        "colab": {
          "base_uri": "https://localhost:8080/",
          "height": 80
        },
        "outputId": "791d96ae-6460-4749-a0c2-e154b8fa4ba0"
      },
      "source": [
        "x[1] # A slice from the list, still a list\n",
        "class(x[1]) "
      ],
      "execution_count": 9,
      "outputs": [
        {
          "output_type": "display_data",
          "data": {
            "text/html": [
              "<ol>\n",
              "\t<li>4</li>\n",
              "</ol>\n"
            ],
            "text/markdown": "1. 4\n\n\n",
            "text/latex": "\\begin{enumerate}\n\\item 4\n\\end{enumerate}\n",
            "text/plain": [
              "[[1]]\n",
              "[1] 4\n"
            ]
          },
          "metadata": {}
        },
        {
          "output_type": "display_data",
          "data": {
            "text/html": [
              "'list'"
            ],
            "text/markdown": "'list'",
            "text/latex": "'list'",
            "text/plain": [
              "[1] \"list\""
            ]
          },
          "metadata": {}
        }
      ]
    },
    {
      "cell_type": "code",
      "metadata": {
        "id": "CvwqJV8zcfC3",
        "colab": {
          "base_uri": "https://localhost:8080/",
          "height": 52
        },
        "outputId": "c5b301f9-10cc-4de5-ca6b-854f7cb8dde8"
      },
      "source": [
        "x[[1]] # Accessing first element of the list\n",
        "class(x[[1]])"
      ],
      "execution_count": 13,
      "outputs": [
        {
          "output_type": "display_data",
          "data": {
            "text/html": [
              "4"
            ],
            "text/markdown": "4",
            "text/latex": "4",
            "text/plain": [
              "[1] 4"
            ]
          },
          "metadata": {}
        },
        {
          "output_type": "display_data",
          "data": {
            "text/html": [
              "'numeric'"
            ],
            "text/markdown": "'numeric'",
            "text/latex": "'numeric'",
            "text/plain": [
              "[1] \"numeric\""
            ]
          },
          "metadata": {}
        }
      ]
    },
    {
      "cell_type": "markdown",
      "metadata": {
        "id": "JXGEwPE7cfC5"
      },
      "source": [
        "### 1.2 How do you extract the last value of an atomic vector?\n"
      ]
    },
    {
      "cell_type": "code",
      "metadata": {
        "id": "z4VpxCI9cfC6",
        "colab": {
          "base_uri": "https://localhost:8080/",
          "height": 34
        },
        "outputId": "41439b7c-ad65-4f16-ed4a-d220cb6e338f"
      },
      "source": [
        "x  <- c(-3,-2,-1)\n",
        "x[length(x)]\n",
        "\n",
        "# python \n",
        "# x[-1]"
      ],
      "execution_count": 14,
      "outputs": [
        {
          "output_type": "display_data",
          "data": {
            "text/html": [
              "-1"
            ],
            "text/markdown": "-1",
            "text/latex": "-1",
            "text/plain": [
              "[1] -1"
            ]
          },
          "metadata": {}
        }
      ]
    },
    {
      "cell_type": "markdown",
      "metadata": {
        "id": "hnQSQot3cfC7"
      },
      "source": [
        "### 1.3. How do you extract every value but the last value of an atomic vector?"
      ]
    },
    {
      "cell_type": "code",
      "metadata": {
        "id": "LFlURBAMcfC8",
        "colab": {
          "base_uri": "https://localhost:8080/",
          "height": 34
        },
        "outputId": "e66383dc-aae5-4b48-e152-1a17097ca28a"
      },
      "source": [
        "x[-length(x)] # different syntax from Python"
      ],
      "execution_count": 15,
      "outputs": [
        {
          "output_type": "display_data",
          "data": {
            "text/html": [
              "<style>\n",
              ".list-inline {list-style: none; margin:0; padding: 0}\n",
              ".list-inline>li {display: inline-block}\n",
              ".list-inline>li:not(:last-child)::after {content: \"\\00b7\"; padding: 0 .5ex}\n",
              "</style>\n",
              "<ol class=list-inline><li>-3</li><li>-2</li></ol>\n"
            ],
            "text/markdown": "1. -3\n2. -2\n\n\n",
            "text/latex": "\\begin{enumerate*}\n\\item -3\n\\item -2\n\\end{enumerate*}\n",
            "text/plain": [
              "[1] -3 -2"
            ]
          },
          "metadata": {}
        }
      ]
    },
    {
      "cell_type": "code",
      "source": [
        "x[-c(1,2)]"
      ],
      "metadata": {
        "colab": {
          "base_uri": "https://localhost:8080/",
          "height": 34
        },
        "id": "BDewG1ilD_t0",
        "outputId": "e5f9a848-f61b-4638-888c-cc4f40cb0b08"
      },
      "execution_count": 18,
      "outputs": [
        {
          "output_type": "display_data",
          "data": {
            "text/html": [
              "-1"
            ],
            "text/markdown": "-1",
            "text/latex": "-1",
            "text/plain": [
              "[1] -1"
            ]
          },
          "metadata": {}
        }
      ]
    },
    {
      "cell_type": "markdown",
      "metadata": {
        "id": "vu41qw2vcfC9"
      },
      "source": [
        "### 1.4. Why is `x[-which(x > 0)]` not the same as `x[x <= 0]` where `x` is an atomic vector?"
      ]
    },
    {
      "cell_type": "code",
      "source": [
        "x"
      ],
      "metadata": {
        "colab": {
          "base_uri": "https://localhost:8080/",
          "height": 34
        },
        "id": "pg9jVAObEOl_",
        "outputId": "10f5094f-7ce1-4c15-b4c5-d3e39ade6ce6"
      },
      "execution_count": 19,
      "outputs": [
        {
          "output_type": "display_data",
          "data": {
            "text/html": [
              "<style>\n",
              ".list-inline {list-style: none; margin:0; padding: 0}\n",
              ".list-inline>li {display: inline-block}\n",
              ".list-inline>li:not(:last-child)::after {content: \"\\00b7\"; padding: 0 .5ex}\n",
              "</style>\n",
              "<ol class=list-inline><li>-3</li><li>-2</li><li>-1</li></ol>\n"
            ],
            "text/markdown": "1. -3\n2. -2\n3. -1\n\n\n",
            "text/latex": "\\begin{enumerate*}\n\\item -3\n\\item -2\n\\item -1\n\\end{enumerate*}\n",
            "text/plain": [
              "[1] -3 -2 -1"
            ]
          },
          "metadata": {}
        }
      ]
    },
    {
      "cell_type": "code",
      "source": [
        "# what does the which function do?\n",
        "y <- c(-2, -1, 0, 1, 2)\n",
        "y[which(y >= 0)]"
      ],
      "metadata": {
        "colab": {
          "base_uri": "https://localhost:8080/",
          "height": 34
        },
        "id": "dwBsuuZmEQYY",
        "outputId": "526c2fa3-76ea-4de6-c9c3-2527baf537d4"
      },
      "execution_count": 20,
      "outputs": [
        {
          "output_type": "display_data",
          "data": {
            "text/html": [
              "<style>\n",
              ".list-inline {list-style: none; margin:0; padding: 0}\n",
              ".list-inline>li {display: inline-block}\n",
              ".list-inline>li:not(:last-child)::after {content: \"\\00b7\"; padding: 0 .5ex}\n",
              "</style>\n",
              "<ol class=list-inline><li>0</li><li>1</li><li>2</li></ol>\n"
            ],
            "text/markdown": "1. 0\n2. 1\n3. 2\n\n\n",
            "text/latex": "\\begin{enumerate*}\n\\item 0\n\\item 1\n\\item 2\n\\end{enumerate*}\n",
            "text/plain": [
              "[1] 0 1 2"
            ]
          },
          "metadata": {}
        }
      ]
    },
    {
      "cell_type": "code",
      "source": [
        "x[ x <= 0]"
      ],
      "metadata": {
        "colab": {
          "base_uri": "https://localhost:8080/",
          "height": 34
        },
        "id": "DY6G1iBbEee5",
        "outputId": "706a4eff-0a2d-43e2-fcd1-17daed9890b1"
      },
      "execution_count": 21,
      "outputs": [
        {
          "output_type": "display_data",
          "data": {
            "text/html": [
              "<style>\n",
              ".list-inline {list-style: none; margin:0; padding: 0}\n",
              ".list-inline>li {display: inline-block}\n",
              ".list-inline>li:not(:last-child)::after {content: \"\\00b7\"; padding: 0 .5ex}\n",
              "</style>\n",
              "<ol class=list-inline><li>-3</li><li>-2</li><li>-1</li></ol>\n"
            ],
            "text/markdown": "1. -3\n2. -2\n3. -1\n\n\n",
            "text/latex": "\\begin{enumerate*}\n\\item -3\n\\item -2\n\\item -1\n\\end{enumerate*}\n",
            "text/plain": [
              "[1] -3 -2 -1"
            ]
          },
          "metadata": {}
        }
      ]
    },
    {
      "cell_type": "code",
      "source": [
        "x[-which(x > 0)]"
      ],
      "metadata": {
        "colab": {
          "base_uri": "https://localhost:8080/",
          "height": 17
        },
        "id": "TxrEGShVEjuD",
        "outputId": "791fb783-867f-4cd2-e933-5a64d2d6f7d3"
      },
      "execution_count": 22,
      "outputs": [
        {
          "output_type": "display_data",
          "data": {
            "text/html": [
              ""
            ],
            "text/markdown": "",
            "text/latex": "",
            "text/plain": [
              "numeric(0)"
            ]
          },
          "metadata": {}
        }
      ]
    },
    {
      "cell_type": "code",
      "metadata": {
        "id": "GA16oQ6icfC9",
        "colab": {
          "base_uri": "https://localhost:8080/"
        },
        "outputId": "71e5b0e8-c26a-4c67-e4df-c2d261a5f417"
      },
      "source": [
        "print(x[-which(x > 0)])\n",
        "print(x[x<=0])"
      ],
      "execution_count": 23,
      "outputs": [
        {
          "output_type": "stream",
          "name": "stdout",
          "text": [
            "numeric(0)\n",
            "[1] -3 -2 -1\n"
          ]
        }
      ]
    },
    {
      "cell_type": "code",
      "metadata": {
        "id": "BNniw3WKcfC_",
        "colab": {
          "base_uri": "https://localhost:8080/",
          "height": 17
        },
        "outputId": "5c7c33bb-76e7-45eb-bf07-893d4e99bde3"
      },
      "source": [
        "which(x > 0) # returns empty "
      ],
      "execution_count": 24,
      "outputs": [
        {
          "output_type": "display_data",
          "data": {
            "text/html": [
              ""
            ],
            "text/markdown": "",
            "text/latex": "",
            "text/plain": [
              "integer(0)"
            ]
          },
          "metadata": {}
        }
      ]
    },
    {
      "cell_type": "markdown",
      "metadata": {
        "id": "jr7jWqxIcfDC"
      },
      "source": [
        "It would work if `which` condition is not empty!"
      ]
    },
    {
      "cell_type": "code",
      "metadata": {
        "id": "F8a5M_CfcfDC",
        "colab": {
          "base_uri": "https://localhost:8080/"
        },
        "outputId": "25d05b05-d314-498e-fbaa-fe2229057928"
      },
      "source": [
        "x  <- c(-3,-2,-1, 1) # recreate the vector\n",
        "print(x[-which(x > 0)])\n",
        "print(x[x<=0])"
      ],
      "execution_count": 25,
      "outputs": [
        {
          "output_type": "stream",
          "name": "stdout",
          "text": [
            "[1] -3 -2 -1\n",
            "[1] -3 -2 -1\n"
          ]
        }
      ]
    },
    {
      "cell_type": "markdown",
      "metadata": {
        "id": "hOldyLyccfDE"
      },
      "source": [
        "# 2. While Loops: \n",
        "\n",
        "The first basic form of *iteration.* While some logical condition is satisfied, keep performing an operation. (ProTip: make sure the condition is eventually false, or else the loop will run indefinitely.) "
      ]
    },
    {
      "cell_type": "code",
      "source": [
        "i <- 10 # typically: define an index/counter variable\n",
        "while(i > 0) { \n",
        "  # body of while loop\n",
        "  print(i**2) # repeated operation\n",
        "  i <- i - 1 # some modification of the index variable\n",
        "}"
      ],
      "metadata": {
        "id": "0MeW1ACe5ZCs",
        "colab": {
          "base_uri": "https://localhost:8080/"
        },
        "outputId": "d2305bfe-5520-4e08-ce0d-e40c3ea248b5"
      },
      "execution_count": 26,
      "outputs": [
        {
          "output_type": "stream",
          "name": "stdout",
          "text": [
            "[1] 100\n",
            "[1] 81\n",
            "[1] 64\n",
            "[1] 49\n",
            "[1] 36\n",
            "[1] 25\n",
            "[1] 16\n",
            "[1] 9\n",
            "[1] 4\n",
            "[1] 1\n"
          ]
        }
      ]
    },
    {
      "cell_type": "markdown",
      "source": [
        "### 2.1 Generate random numbers from Normal(0, 1) and stop when you have more positive values than negatives. Write a function that implements the following algorithm and returns the number of iterations taken.\n",
        "\n",
        "Algorithm:\n",
        "1. set pc = 0 (positive counter) and nc = 0\n",
        "1. Generate Y~Normal(0,1)\n",
        "1. If Y>0 then pc = pc+1 otherwise nc = nc+1\n",
        "1. Repeat 2-3 until pc>nc\n",
        "\n",
        "Recall that `rnorm(n, 0, 1)` generates `n` numbers from a standard Normal distribution."
      ],
      "metadata": {
        "id": "iI-lPSAg33Lq"
      }
    },
    {
      "cell_type": "code",
      "metadata": {
        "id": "wtIydqaGcfDF"
      },
      "source": [
        "f <- function(){\n",
        "    pc <- 0\n",
        "    nc <- 0\n",
        "    while(pc <= nc) {\n",
        "      y <- rnorm(1, 0, 1)\n",
        "      if (y > 0) { pc = pc + 1}\n",
        "      else { nc = nc + 1}\n",
        "    }\n",
        "    return(pc + nc)\n",
        "}"
      ],
      "execution_count": 33,
      "outputs": []
    },
    {
      "cell_type": "markdown",
      "metadata": {
        "id": "VxChNllscfDG"
      },
      "source": [
        "### 2.2 Call this function 100 times"
      ]
    },
    {
      "cell_type": "code",
      "metadata": {
        "id": "88Kr6hcYcfDH",
        "colab": {
          "base_uri": "https://localhost:8080/",
          "height": 69
        },
        "outputId": "2946edd9-2da1-4447-a61f-109a1e972ea1"
      },
      "source": [
        "result <- map_dbl(1:100, ~f())\n",
        "result"
      ],
      "execution_count": 40,
      "outputs": [
        {
          "output_type": "display_data",
          "data": {
            "text/html": [
              "<style>\n",
              ".list-inline {list-style: none; margin:0; padding: 0}\n",
              ".list-inline>li {display: inline-block}\n",
              ".list-inline>li:not(:last-child)::after {content: \"\\00b7\"; padding: 0 .5ex}\n",
              "</style>\n",
              "<ol class=list-inline><li>1</li><li>37</li><li>1</li><li>204903</li><li>1</li><li>3</li><li>1</li><li>1</li><li>11</li><li>1</li><li>3</li><li>1</li><li>2569</li><li>1</li><li>37</li><li>1</li><li>3</li><li>3</li><li>3</li><li>9</li><li>17</li><li>1</li><li>3</li><li>1</li><li>3</li><li>1</li><li>1</li><li>13</li><li>11</li><li>1</li><li>3</li><li>159</li><li>15</li><li>5</li><li>1</li><li>3</li><li>1</li><li>1</li><li>37</li><li>1</li><li>385</li><li>1</li><li>1</li><li>1</li><li>1</li><li>1</li><li>1</li><li>8101</li><li>1</li><li>1</li><li>13</li><li>811</li><li>17247</li><li>9</li><li>265</li><li>11</li><li>13</li><li>1</li><li>1</li><li>55</li><li>1</li><li>1</li><li>1</li><li>5</li><li>137</li><li>1</li><li>175</li><li>1</li><li>1</li><li>1</li><li>5</li><li>1</li><li>5</li><li>43</li><li>1</li><li>9</li><li>1</li><li>1</li><li>1</li><li>1</li><li>3</li><li>17</li><li>1</li><li>1</li><li>3</li><li>3</li><li>7</li><li>1</li><li>1</li><li>197</li><li>1</li><li>1</li><li>5</li><li>1</li><li>1</li><li>25</li><li>1</li><li>15</li><li>1</li><li>13</li></ol>\n"
            ],
            "text/markdown": "1. 1\n2. 37\n3. 1\n4. 204903\n5. 1\n6. 3\n7. 1\n8. 1\n9. 11\n10. 1\n11. 3\n12. 1\n13. 2569\n14. 1\n15. 37\n16. 1\n17. 3\n18. 3\n19. 3\n20. 9\n21. 17\n22. 1\n23. 3\n24. 1\n25. 3\n26. 1\n27. 1\n28. 13\n29. 11\n30. 1\n31. 3\n32. 159\n33. 15\n34. 5\n35. 1\n36. 3\n37. 1\n38. 1\n39. 37\n40. 1\n41. 385\n42. 1\n43. 1\n44. 1\n45. 1\n46. 1\n47. 1\n48. 8101\n49. 1\n50. 1\n51. 13\n52. 811\n53. 17247\n54. 9\n55. 265\n56. 11\n57. 13\n58. 1\n59. 1\n60. 55\n61. 1\n62. 1\n63. 1\n64. 5\n65. 137\n66. 1\n67. 175\n68. 1\n69. 1\n70. 1\n71. 5\n72. 1\n73. 5\n74. 43\n75. 1\n76. 9\n77. 1\n78. 1\n79. 1\n80. 1\n81. 3\n82. 17\n83. 1\n84. 1\n85. 3\n86. 3\n87. 7\n88. 1\n89. 1\n90. 197\n91. 1\n92. 1\n93. 5\n94. 1\n95. 1\n96. 25\n97. 1\n98. 15\n99. 1\n100. 13\n\n\n",
            "text/latex": "\\begin{enumerate*}\n\\item 1\n\\item 37\n\\item 1\n\\item 204903\n\\item 1\n\\item 3\n\\item 1\n\\item 1\n\\item 11\n\\item 1\n\\item 3\n\\item 1\n\\item 2569\n\\item 1\n\\item 37\n\\item 1\n\\item 3\n\\item 3\n\\item 3\n\\item 9\n\\item 17\n\\item 1\n\\item 3\n\\item 1\n\\item 3\n\\item 1\n\\item 1\n\\item 13\n\\item 11\n\\item 1\n\\item 3\n\\item 159\n\\item 15\n\\item 5\n\\item 1\n\\item 3\n\\item 1\n\\item 1\n\\item 37\n\\item 1\n\\item 385\n\\item 1\n\\item 1\n\\item 1\n\\item 1\n\\item 1\n\\item 1\n\\item 8101\n\\item 1\n\\item 1\n\\item 13\n\\item 811\n\\item 17247\n\\item 9\n\\item 265\n\\item 11\n\\item 13\n\\item 1\n\\item 1\n\\item 55\n\\item 1\n\\item 1\n\\item 1\n\\item 5\n\\item 137\n\\item 1\n\\item 175\n\\item 1\n\\item 1\n\\item 1\n\\item 5\n\\item 1\n\\item 5\n\\item 43\n\\item 1\n\\item 9\n\\item 1\n\\item 1\n\\item 1\n\\item 1\n\\item 3\n\\item 17\n\\item 1\n\\item 1\n\\item 3\n\\item 3\n\\item 7\n\\item 1\n\\item 1\n\\item 197\n\\item 1\n\\item 1\n\\item 5\n\\item 1\n\\item 1\n\\item 25\n\\item 1\n\\item 15\n\\item 1\n\\item 13\n\\end{enumerate*}\n",
            "text/plain": [
              "  [1]      1     37      1 204903      1      3      1      1     11      1\n",
              " [11]      3      1   2569      1     37      1      3      3      3      9\n",
              " [21]     17      1      3      1      3      1      1     13     11      1\n",
              " [31]      3    159     15      5      1      3      1      1     37      1\n",
              " [41]    385      1      1      1      1      1      1   8101      1      1\n",
              " [51]     13    811  17247      9    265     11     13      1      1     55\n",
              " [61]      1      1      1      5    137      1    175      1      1      1\n",
              " [71]      5      1      5     43      1      9      1      1      1      1\n",
              " [81]      3     17      1      1      3      3      7      1      1    197\n",
              " [91]      1      1      5      1      1     25      1     15      1     13"
            ]
          },
          "metadata": {}
        }
      ]
    },
    {
      "cell_type": "markdown",
      "metadata": {
        "id": "1913Ur-5cfDI"
      },
      "source": [
        "# 3. For Loops\n",
        "\n",
        "The other basic form of iteration. \n",
        "\n"
      ]
    },
    {
      "cell_type": "code",
      "source": [
        "seq(1, 21, 4)"
      ],
      "metadata": {
        "colab": {
          "base_uri": "https://localhost:8080/",
          "height": 34
        },
        "id": "pylo9glEIFWw",
        "outputId": "958fdbdd-11f6-4cdd-aff7-4a1ca1b7ee2e"
      },
      "execution_count": 41,
      "outputs": [
        {
          "output_type": "display_data",
          "data": {
            "text/html": [
              "<style>\n",
              ".list-inline {list-style: none; margin:0; padding: 0}\n",
              ".list-inline>li {display: inline-block}\n",
              ".list-inline>li:not(:last-child)::after {content: \"\\00b7\"; padding: 0 .5ex}\n",
              "</style>\n",
              "<ol class=list-inline><li>1</li><li>5</li><li>9</li><li>13</li><li>17</li><li>21</li></ol>\n"
            ],
            "text/markdown": "1. 1\n2. 5\n3. 9\n4. 13\n5. 17\n6. 21\n\n\n",
            "text/latex": "\\begin{enumerate*}\n\\item 1\n\\item 5\n\\item 9\n\\item 13\n\\item 17\n\\item 21\n\\end{enumerate*}\n",
            "text/plain": [
              "[1]  1  5  9 13 17 21"
            ]
          },
          "metadata": {}
        }
      ]
    },
    {
      "cell_type": "code",
      "source": [
        "# generic for loop\n",
        "for(j in seq(1, 21, 4)) { # specify a vector for j to take values from\n",
        "  print(j/(j**0.5))\n",
        "}"
      ],
      "metadata": {
        "id": "HCVpcwu6522g",
        "colab": {
          "base_uri": "https://localhost:8080/"
        },
        "outputId": "d5de11d0-892c-4d59-94ee-92f734b88f5f"
      },
      "execution_count": 42,
      "outputs": [
        {
          "output_type": "stream",
          "name": "stdout",
          "text": [
            "[1] 1\n",
            "[1] 2.236068\n",
            "[1] 3\n",
            "[1] 3.605551\n",
            "[1] 4.123106\n",
            "[1] 4.582576\n"
          ]
        }
      ]
    },
    {
      "cell_type": "code",
      "source": [
        "for(j in 1:5) {\n",
        "  print(\"Congratulations!\")\n",
        "}"
      ],
      "metadata": {
        "colab": {
          "base_uri": "https://localhost:8080/"
        },
        "id": "dbj45YRuIPEE",
        "outputId": "36968238-e4c6-453d-f401-303aa45ff84a"
      },
      "execution_count": 43,
      "outputs": [
        {
          "output_type": "stream",
          "name": "stdout",
          "text": [
            "[1] \"Congratulations!\"\n",
            "[1] \"Congratulations!\"\n",
            "[1] \"Congratulations!\"\n",
            "[1] \"Congratulations!\"\n",
            "[1] \"Congratulations!\"\n"
          ]
        }
      ]
    },
    {
      "cell_type": "markdown",
      "metadata": {
        "id": "aK7zewNDcfDJ"
      },
      "source": [
        "### 3.1 Compute the mean of every column in mtcars with `na.rm = True`"
      ]
    },
    {
      "cell_type": "code",
      "source": [
        "mtcars %>% head"
      ],
      "metadata": {
        "colab": {
          "base_uri": "https://localhost:8080/",
          "height": 286
        },
        "id": "KQuI6DEfIWjA",
        "outputId": "fea3ca74-389c-4d17-dacf-32b45fb22408"
      },
      "execution_count": 44,
      "outputs": [
        {
          "output_type": "display_data",
          "data": {
            "text/html": [
              "<table class=\"dataframe\">\n",
              "<caption>A data.frame: 6 × 11</caption>\n",
              "<thead>\n",
              "\t<tr><th></th><th scope=col>mpg</th><th scope=col>cyl</th><th scope=col>disp</th><th scope=col>hp</th><th scope=col>drat</th><th scope=col>wt</th><th scope=col>qsec</th><th scope=col>vs</th><th scope=col>am</th><th scope=col>gear</th><th scope=col>carb</th></tr>\n",
              "\t<tr><th></th><th scope=col>&lt;dbl&gt;</th><th scope=col>&lt;dbl&gt;</th><th scope=col>&lt;dbl&gt;</th><th scope=col>&lt;dbl&gt;</th><th scope=col>&lt;dbl&gt;</th><th scope=col>&lt;dbl&gt;</th><th scope=col>&lt;dbl&gt;</th><th scope=col>&lt;dbl&gt;</th><th scope=col>&lt;dbl&gt;</th><th scope=col>&lt;dbl&gt;</th><th scope=col>&lt;dbl&gt;</th></tr>\n",
              "</thead>\n",
              "<tbody>\n",
              "\t<tr><th scope=row>Mazda RX4</th><td>21.0</td><td>6</td><td>160</td><td>110</td><td>3.90</td><td>2.620</td><td>16.46</td><td>0</td><td>1</td><td>4</td><td>4</td></tr>\n",
              "\t<tr><th scope=row>Mazda RX4 Wag</th><td>21.0</td><td>6</td><td>160</td><td>110</td><td>3.90</td><td>2.875</td><td>17.02</td><td>0</td><td>1</td><td>4</td><td>4</td></tr>\n",
              "\t<tr><th scope=row>Datsun 710</th><td>22.8</td><td>4</td><td>108</td><td> 93</td><td>3.85</td><td>2.320</td><td>18.61</td><td>1</td><td>1</td><td>4</td><td>1</td></tr>\n",
              "\t<tr><th scope=row>Hornet 4 Drive</th><td>21.4</td><td>6</td><td>258</td><td>110</td><td>3.08</td><td>3.215</td><td>19.44</td><td>1</td><td>0</td><td>3</td><td>1</td></tr>\n",
              "\t<tr><th scope=row>Hornet Sportabout</th><td>18.7</td><td>8</td><td>360</td><td>175</td><td>3.15</td><td>3.440</td><td>17.02</td><td>0</td><td>0</td><td>3</td><td>2</td></tr>\n",
              "\t<tr><th scope=row>Valiant</th><td>18.1</td><td>6</td><td>225</td><td>105</td><td>2.76</td><td>3.460</td><td>20.22</td><td>1</td><td>0</td><td>3</td><td>1</td></tr>\n",
              "</tbody>\n",
              "</table>\n"
            ],
            "text/markdown": "\nA data.frame: 6 × 11\n\n| <!--/--> | mpg &lt;dbl&gt; | cyl &lt;dbl&gt; | disp &lt;dbl&gt; | hp &lt;dbl&gt; | drat &lt;dbl&gt; | wt &lt;dbl&gt; | qsec &lt;dbl&gt; | vs &lt;dbl&gt; | am &lt;dbl&gt; | gear &lt;dbl&gt; | carb &lt;dbl&gt; |\n|---|---|---|---|---|---|---|---|---|---|---|---|\n| Mazda RX4 | 21.0 | 6 | 160 | 110 | 3.90 | 2.620 | 16.46 | 0 | 1 | 4 | 4 |\n| Mazda RX4 Wag | 21.0 | 6 | 160 | 110 | 3.90 | 2.875 | 17.02 | 0 | 1 | 4 | 4 |\n| Datsun 710 | 22.8 | 4 | 108 |  93 | 3.85 | 2.320 | 18.61 | 1 | 1 | 4 | 1 |\n| Hornet 4 Drive | 21.4 | 6 | 258 | 110 | 3.08 | 3.215 | 19.44 | 1 | 0 | 3 | 1 |\n| Hornet Sportabout | 18.7 | 8 | 360 | 175 | 3.15 | 3.440 | 17.02 | 0 | 0 | 3 | 2 |\n| Valiant | 18.1 | 6 | 225 | 105 | 2.76 | 3.460 | 20.22 | 1 | 0 | 3 | 1 |\n\n",
            "text/latex": "A data.frame: 6 × 11\n\\begin{tabular}{r|lllllllllll}\n  & mpg & cyl & disp & hp & drat & wt & qsec & vs & am & gear & carb\\\\\n  & <dbl> & <dbl> & <dbl> & <dbl> & <dbl> & <dbl> & <dbl> & <dbl> & <dbl> & <dbl> & <dbl>\\\\\n\\hline\n\tMazda RX4 & 21.0 & 6 & 160 & 110 & 3.90 & 2.620 & 16.46 & 0 & 1 & 4 & 4\\\\\n\tMazda RX4 Wag & 21.0 & 6 & 160 & 110 & 3.90 & 2.875 & 17.02 & 0 & 1 & 4 & 4\\\\\n\tDatsun 710 & 22.8 & 4 & 108 &  93 & 3.85 & 2.320 & 18.61 & 1 & 1 & 4 & 1\\\\\n\tHornet 4 Drive & 21.4 & 6 & 258 & 110 & 3.08 & 3.215 & 19.44 & 1 & 0 & 3 & 1\\\\\n\tHornet Sportabout & 18.7 & 8 & 360 & 175 & 3.15 & 3.440 & 17.02 & 0 & 0 & 3 & 2\\\\\n\tValiant & 18.1 & 6 & 225 & 105 & 2.76 & 3.460 & 20.22 & 1 & 0 & 3 & 1\\\\\n\\end{tabular}\n",
            "text/plain": [
              "                  mpg  cyl disp hp  drat wt    qsec  vs am gear carb\n",
              "Mazda RX4         21.0 6   160  110 3.90 2.620 16.46 0  1  4    4   \n",
              "Mazda RX4 Wag     21.0 6   160  110 3.90 2.875 17.02 0  1  4    4   \n",
              "Datsun 710        22.8 4   108   93 3.85 2.320 18.61 1  1  4    1   \n",
              "Hornet 4 Drive    21.4 6   258  110 3.08 3.215 19.44 1  0  3    1   \n",
              "Hornet Sportabout 18.7 8   360  175 3.15 3.440 17.02 0  0  3    2   \n",
              "Valiant           18.1 6   225  105 2.76 3.460 20.22 1  0  3    1   "
            ]
          },
          "metadata": {}
        }
      ]
    },
    {
      "cell_type": "code",
      "metadata": {
        "id": "p6ieFKcCgvzS",
        "colab": {
          "base_uri": "https://localhost:8080/",
          "height": 52
        },
        "outputId": "e6f7b2b4-8673-4a87-ca8b-08147c076896"
      },
      "source": [
        "# hint: how do we relate the columns of mtcars to a vector?\n",
        "seq_along(mtcars)\n",
        "1:ncol(mtcars)\n",
        "# hint 2: define an empty vector of an appropriate type"
      ],
      "execution_count": 45,
      "outputs": [
        {
          "output_type": "display_data",
          "data": {
            "text/html": [
              "<style>\n",
              ".list-inline {list-style: none; margin:0; padding: 0}\n",
              ".list-inline>li {display: inline-block}\n",
              ".list-inline>li:not(:last-child)::after {content: \"\\00b7\"; padding: 0 .5ex}\n",
              "</style>\n",
              "<ol class=list-inline><li>1</li><li>2</li><li>3</li><li>4</li><li>5</li><li>6</li><li>7</li><li>8</li><li>9</li><li>10</li><li>11</li></ol>\n"
            ],
            "text/markdown": "1. 1\n2. 2\n3. 3\n4. 4\n5. 5\n6. 6\n7. 7\n8. 8\n9. 9\n10. 10\n11. 11\n\n\n",
            "text/latex": "\\begin{enumerate*}\n\\item 1\n\\item 2\n\\item 3\n\\item 4\n\\item 5\n\\item 6\n\\item 7\n\\item 8\n\\item 9\n\\item 10\n\\item 11\n\\end{enumerate*}\n",
            "text/plain": [
              " [1]  1  2  3  4  5  6  7  8  9 10 11"
            ]
          },
          "metadata": {}
        },
        {
          "output_type": "display_data",
          "data": {
            "text/html": [
              "<style>\n",
              ".list-inline {list-style: none; margin:0; padding: 0}\n",
              ".list-inline>li {display: inline-block}\n",
              ".list-inline>li:not(:last-child)::after {content: \"\\00b7\"; padding: 0 .5ex}\n",
              "</style>\n",
              "<ol class=list-inline><li>1</li><li>2</li><li>3</li><li>4</li><li>5</li><li>6</li><li>7</li><li>8</li><li>9</li><li>10</li><li>11</li></ol>\n"
            ],
            "text/markdown": "1. 1\n2. 2\n3. 3\n4. 4\n5. 5\n6. 6\n7. 7\n8. 8\n9. 9\n10. 10\n11. 11\n\n\n",
            "text/latex": "\\begin{enumerate*}\n\\item 1\n\\item 2\n\\item 3\n\\item 4\n\\item 5\n\\item 6\n\\item 7\n\\item 8\n\\item 9\n\\item 10\n\\item 11\n\\end{enumerate*}\n",
            "text/plain": [
              " [1]  1  2  3  4  5  6  7  8  9 10 11"
            ]
          },
          "metadata": {}
        }
      ]
    },
    {
      "cell_type": "code",
      "source": [
        "mtcars[, 4]\n",
        "# mtcars %>% select(4)"
      ],
      "metadata": {
        "colab": {
          "base_uri": "https://localhost:8080/",
          "height": 52
        },
        "id": "ydfLU1tNI3VP",
        "outputId": "62e2ed34-d6ec-4bbf-db2c-97e341b8c2a5"
      },
      "execution_count": 49,
      "outputs": [
        {
          "output_type": "display_data",
          "data": {
            "text/html": [
              "<style>\n",
              ".list-inline {list-style: none; margin:0; padding: 0}\n",
              ".list-inline>li {display: inline-block}\n",
              ".list-inline>li:not(:last-child)::after {content: \"\\00b7\"; padding: 0 .5ex}\n",
              "</style>\n",
              "<ol class=list-inline><li>110</li><li>110</li><li>93</li><li>110</li><li>175</li><li>105</li><li>245</li><li>62</li><li>95</li><li>123</li><li>123</li><li>180</li><li>180</li><li>180</li><li>205</li><li>215</li><li>230</li><li>66</li><li>52</li><li>65</li><li>97</li><li>150</li><li>150</li><li>245</li><li>175</li><li>66</li><li>91</li><li>113</li><li>264</li><li>175</li><li>335</li><li>109</li></ol>\n"
            ],
            "text/markdown": "1. 110\n2. 110\n3. 93\n4. 110\n5. 175\n6. 105\n7. 245\n8. 62\n9. 95\n10. 123\n11. 123\n12. 180\n13. 180\n14. 180\n15. 205\n16. 215\n17. 230\n18. 66\n19. 52\n20. 65\n21. 97\n22. 150\n23. 150\n24. 245\n25. 175\n26. 66\n27. 91\n28. 113\n29. 264\n30. 175\n31. 335\n32. 109\n\n\n",
            "text/latex": "\\begin{enumerate*}\n\\item 110\n\\item 110\n\\item 93\n\\item 110\n\\item 175\n\\item 105\n\\item 245\n\\item 62\n\\item 95\n\\item 123\n\\item 123\n\\item 180\n\\item 180\n\\item 180\n\\item 205\n\\item 215\n\\item 230\n\\item 66\n\\item 52\n\\item 65\n\\item 97\n\\item 150\n\\item 150\n\\item 245\n\\item 175\n\\item 66\n\\item 91\n\\item 113\n\\item 264\n\\item 175\n\\item 335\n\\item 109\n\\end{enumerate*}\n",
            "text/plain": [
              " [1] 110 110  93 110 175 105 245  62  95 123 123 180 180 180 205 215 230  66  52\n",
              "[20]  65  97 150 150 245 175  66  91 113 264 175 335 109"
            ]
          },
          "metadata": {}
        }
      ]
    },
    {
      "cell_type": "code",
      "source": [
        "results <- vector(mode = \"double\", length = ncol(mtcars))\n",
        "for (i in seq_along(mtcars)) {\n",
        "  results[i] <- mean(mtcars[, i], na.rm=T)\n",
        "}\n",
        "results"
      ],
      "metadata": {
        "colab": {
          "base_uri": "https://localhost:8080/",
          "height": 34
        },
        "id": "j3t86YbZItye",
        "outputId": "6e57082e-0733-4a87-c73b-6a5ce8156a9c"
      },
      "execution_count": 60,
      "outputs": [
        {
          "output_type": "display_data",
          "data": {
            "text/html": [
              "<style>\n",
              ".list-inline {list-style: none; margin:0; padding: 0}\n",
              ".list-inline>li {display: inline-block}\n",
              ".list-inline>li:not(:last-child)::after {content: \"\\00b7\"; padding: 0 .5ex}\n",
              "</style>\n",
              "<ol class=list-inline><li>20.090625</li><li>6.1875</li><li>230.721875</li><li>146.6875</li><li>3.5965625</li><li>3.21725</li><li>17.84875</li><li>0.4375</li><li>0.40625</li><li>3.6875</li><li>2.8125</li></ol>\n"
            ],
            "text/markdown": "1. 20.090625\n2. 6.1875\n3. 230.721875\n4. 146.6875\n5. 3.5965625\n6. 3.21725\n7. 17.84875\n8. 0.4375\n9. 0.40625\n10. 3.6875\n11. 2.8125\n\n\n",
            "text/latex": "\\begin{enumerate*}\n\\item 20.090625\n\\item 6.1875\n\\item 230.721875\n\\item 146.6875\n\\item 3.5965625\n\\item 3.21725\n\\item 17.84875\n\\item 0.4375\n\\item 0.40625\n\\item 3.6875\n\\item 2.8125\n\\end{enumerate*}\n",
            "text/plain": [
              " [1]  20.090625   6.187500 230.721875 146.687500   3.596563   3.217250\n",
              " [7]  17.848750   0.437500   0.406250   3.687500   2.812500"
            ]
          },
          "metadata": {}
        }
      ]
    },
    {
      "cell_type": "markdown",
      "metadata": {
        "id": "06eIqz-YcfDL"
      },
      "source": [
        "### 3.2 Determine the type of each column of iris\n"
      ]
    },
    {
      "cell_type": "code",
      "metadata": {
        "id": "4jlMOV-CcfDM",
        "colab": {
          "base_uri": "https://localhost:8080/",
          "height": 34
        },
        "outputId": "8115e863-37f4-49b5-a745-b4c7f26dcf4b"
      },
      "source": [
        "results <- vector(mode = \"character\", length = ncol(iris))\n",
        "for (i in seq_along(iris)) {\n",
        "  results[i] <- typeof(iris[, i])\n",
        "}\n",
        "results"
      ],
      "execution_count": 55,
      "outputs": [
        {
          "output_type": "display_data",
          "data": {
            "text/html": [
              "<style>\n",
              ".list-inline {list-style: none; margin:0; padding: 0}\n",
              ".list-inline>li {display: inline-block}\n",
              ".list-inline>li:not(:last-child)::after {content: \"\\00b7\"; padding: 0 .5ex}\n",
              "</style>\n",
              "<ol class=list-inline><li>'double'</li><li>'double'</li><li>'double'</li><li>'double'</li><li>'integer'</li></ol>\n"
            ],
            "text/markdown": "1. 'double'\n2. 'double'\n3. 'double'\n4. 'double'\n5. 'integer'\n\n\n",
            "text/latex": "\\begin{enumerate*}\n\\item 'double'\n\\item 'double'\n\\item 'double'\n\\item 'double'\n\\item 'integer'\n\\end{enumerate*}\n",
            "text/plain": [
              "[1] \"double\"  \"double\"  \"double\"  \"double\"  \"integer\""
            ]
          },
          "metadata": {}
        }
      ]
    },
    {
      "cell_type": "markdown",
      "metadata": {
        "id": "MQvcy2z2cfDM"
      },
      "source": [
        "### 3.3 Compute the number of unique values in each column of iris."
      ]
    },
    {
      "cell_type": "code",
      "source": [
        "length(unique(iris[, 1]))"
      ],
      "metadata": {
        "id": "6KrFP0n2J_Bt"
      },
      "execution_count": 59,
      "outputs": []
    },
    {
      "cell_type": "code",
      "metadata": {
        "id": "RBxPLMd4cfDN",
        "colab": {
          "base_uri": "https://localhost:8080/",
          "height": 34
        },
        "outputId": "81be7626-5e6e-4f67-e244-0f76e4c93765"
      },
      "source": [
        "results <- vector(mode = \"double\", length = ncol(iris))\n",
        "for (i in 1:ncol(iris)) {\n",
        "  results[i] <- length(unique(iris[, i]))\n",
        "}\n",
        "results"
      ],
      "execution_count": 64,
      "outputs": [
        {
          "output_type": "display_data",
          "data": {
            "text/html": [
              "<style>\n",
              ".list-inline {list-style: none; margin:0; padding: 0}\n",
              ".list-inline>li {display: inline-block}\n",
              ".list-inline>li:not(:last-child)::after {content: \"\\00b7\"; padding: 0 .5ex}\n",
              "</style>\n",
              "<ol class=list-inline><li>35</li><li>23</li><li>43</li><li>22</li><li>3</li></ol>\n"
            ],
            "text/markdown": "1. 35\n2. 23\n3. 43\n4. 22\n5. 3\n\n\n",
            "text/latex": "\\begin{enumerate*}\n\\item 35\n\\item 23\n\\item 43\n\\item 22\n\\item 3\n\\end{enumerate*}\n",
            "text/plain": [
              "[1] 35 23 43 22  3"
            ]
          },
          "metadata": {}
        }
      ]
    },
    {
      "cell_type": "markdown",
      "metadata": {
        "id": "DcZ1xshucfDO"
      },
      "source": [
        "# 4. Reviewing Map Functions\n",
        "\n",
        "As we can see, map functions are more elegant than explicit loops."
      ]
    },
    {
      "cell_type": "code",
      "metadata": {
        "id": "Zbw1dsV9cfDP",
        "colab": {
          "base_uri": "https://localhost:8080/",
          "height": 52
        },
        "outputId": "9d4fd188-740a-4fa4-97e1-8e0f90a70b74"
      },
      "source": [
        "map_dbl(mtcars, mean, na.rm = T)"
      ],
      "execution_count": 67,
      "outputs": [
        {
          "output_type": "display_data",
          "data": {
            "text/html": [
              "<style>\n",
              ".dl-inline {width: auto; margin:0; padding: 0}\n",
              ".dl-inline>dt, .dl-inline>dd {float: none; width: auto; display: inline-block}\n",
              ".dl-inline>dt::after {content: \":\\0020\"; padding-right: .5ex}\n",
              ".dl-inline>dt:not(:first-of-type) {padding-left: .5ex}\n",
              "</style><dl class=dl-inline><dt>mpg</dt><dd>20.090625</dd><dt>cyl</dt><dd>6.1875</dd><dt>disp</dt><dd>230.721875</dd><dt>hp</dt><dd>146.6875</dd><dt>drat</dt><dd>3.5965625</dd><dt>wt</dt><dd>3.21725</dd><dt>qsec</dt><dd>17.84875</dd><dt>vs</dt><dd>0.4375</dd><dt>am</dt><dd>0.40625</dd><dt>gear</dt><dd>3.6875</dd><dt>carb</dt><dd>2.8125</dd></dl>\n"
            ],
            "text/markdown": "mpg\n:   20.090625cyl\n:   6.1875disp\n:   230.721875hp\n:   146.6875drat\n:   3.5965625wt\n:   3.21725qsec\n:   17.84875vs\n:   0.4375am\n:   0.40625gear\n:   3.6875carb\n:   2.8125\n\n",
            "text/latex": "\\begin{description*}\n\\item[mpg] 20.090625\n\\item[cyl] 6.1875\n\\item[disp] 230.721875\n\\item[hp] 146.6875\n\\item[drat] 3.5965625\n\\item[wt] 3.21725\n\\item[qsec] 17.84875\n\\item[vs] 0.4375\n\\item[am] 0.40625\n\\item[gear] 3.6875\n\\item[carb] 2.8125\n\\end{description*}\n",
            "text/plain": [
              "       mpg        cyl       disp         hp       drat         wt       qsec \n",
              " 20.090625   6.187500 230.721875 146.687500   3.596563   3.217250  17.848750 \n",
              "        vs         am       gear       carb \n",
              "  0.437500   0.406250   3.687500   2.812500 "
            ]
          },
          "metadata": {}
        }
      ]
    },
    {
      "cell_type": "code",
      "source": [
        "map_chr(iris, typeof)"
      ],
      "metadata": {
        "colab": {
          "base_uri": "https://localhost:8080/",
          "height": 52
        },
        "id": "naZm_o0TK2vk",
        "outputId": "dab031d1-d74e-4c1a-b718-3069009dad94"
      },
      "execution_count": 68,
      "outputs": [
        {
          "output_type": "display_data",
          "data": {
            "text/html": [
              "<style>\n",
              ".dl-inline {width: auto; margin:0; padding: 0}\n",
              ".dl-inline>dt, .dl-inline>dd {float: none; width: auto; display: inline-block}\n",
              ".dl-inline>dt::after {content: \":\\0020\"; padding-right: .5ex}\n",
              ".dl-inline>dt:not(:first-of-type) {padding-left: .5ex}\n",
              "</style><dl class=dl-inline><dt>Sepal.Length</dt><dd>'double'</dd><dt>Sepal.Width</dt><dd>'double'</dd><dt>Petal.Length</dt><dd>'double'</dd><dt>Petal.Width</dt><dd>'double'</dd><dt>Species</dt><dd>'integer'</dd></dl>\n"
            ],
            "text/markdown": "Sepal.Length\n:   'double'Sepal.Width\n:   'double'Petal.Length\n:   'double'Petal.Width\n:   'double'Species\n:   'integer'\n\n",
            "text/latex": "\\begin{description*}\n\\item[Sepal.Length] 'double'\n\\item[Sepal.Width] 'double'\n\\item[Petal.Length] 'double'\n\\item[Petal.Width] 'double'\n\\item[Species] 'integer'\n\\end{description*}\n",
            "text/plain": [
              "Sepal.Length  Sepal.Width Petal.Length  Petal.Width      Species \n",
              "    \"double\"     \"double\"     \"double\"     \"double\"    \"integer\" "
            ]
          },
          "metadata": {}
        }
      ]
    },
    {
      "cell_type": "code",
      "source": [
        "map_int(iris, ~ length(unique(.)))"
      ],
      "metadata": {
        "colab": {
          "base_uri": "https://localhost:8080/",
          "height": 34
        },
        "id": "JXlqUkXVK3_V",
        "outputId": "27c3bc6c-27b2-45dd-cc26-b76b87222392"
      },
      "execution_count": 69,
      "outputs": [
        {
          "output_type": "display_data",
          "data": {
            "text/html": [
              "<style>\n",
              ".dl-inline {width: auto; margin:0; padding: 0}\n",
              ".dl-inline>dt, .dl-inline>dd {float: none; width: auto; display: inline-block}\n",
              ".dl-inline>dt::after {content: \":\\0020\"; padding-right: .5ex}\n",
              ".dl-inline>dt:not(:first-of-type) {padding-left: .5ex}\n",
              "</style><dl class=dl-inline><dt>Sepal.Length</dt><dd>35</dd><dt>Sepal.Width</dt><dd>23</dd><dt>Petal.Length</dt><dd>43</dd><dt>Petal.Width</dt><dd>22</dd><dt>Species</dt><dd>3</dd></dl>\n"
            ],
            "text/markdown": "Sepal.Length\n:   35Sepal.Width\n:   23Petal.Length\n:   43Petal.Width\n:   22Species\n:   3\n\n",
            "text/latex": "\\begin{description*}\n\\item[Sepal.Length] 35\n\\item[Sepal.Width] 23\n\\item[Petal.Length] 43\n\\item[Petal.Width] 22\n\\item[Species] 3\n\\end{description*}\n",
            "text/plain": [
              "Sepal.Length  Sepal.Width Petal.Length  Petal.Width      Species \n",
              "          35           23           43           22            3 "
            ]
          },
          "metadata": {}
        }
      ]
    },
    {
      "cell_type": "markdown",
      "metadata": {
        "id": "Rrp2weT7cfDP"
      },
      "source": [
        "# 5. Recursive Functions"
      ]
    },
    {
      "cell_type": "markdown",
      "metadata": {
        "id": "EDnH1dkccfDR"
      },
      "source": [
        "Recall the definition of a factorial number.\n",
        "\n",
        "$n! = n(n-1)(n-2)\\dots1$\n",
        "\n",
        "We can simplify this by relating $n!$ to only $(n - 1)!$:\n",
        "\n",
        "Recursive step: `factorial(n) = n*factorial(n-1)`\\\n",
        "Base case: `factorial(0) = 1`"
      ]
    },
    {
      "cell_type": "code",
      "metadata": {
        "id": "BqxuLaJRcfDS"
      },
      "source": [
        "factorial = function(n){\n",
        "    if(n == 0){\n",
        "        return(1) # base case\n",
        "    }else{\n",
        "        return(n*factorial(n-1))\n",
        "    }\n",
        "}"
      ],
      "execution_count": 70,
      "outputs": []
    },
    {
      "cell_type": "code",
      "metadata": {
        "id": "jwNSoNXbcfDT",
        "colab": {
          "base_uri": "https://localhost:8080/",
          "height": 34
        },
        "outputId": "0ebc4f70-0482-44f6-b39e-11796bb90c6f"
      },
      "source": [
        "factorial(20)"
      ],
      "execution_count": 71,
      "outputs": [
        {
          "output_type": "display_data",
          "data": {
            "text/html": [
              "2432902008176640000"
            ],
            "text/markdown": "2432902008176640000",
            "text/latex": "2432902008176640000",
            "text/plain": [
              "[1] 2.432902e+18"
            ]
          },
          "metadata": {}
        }
      ]
    },
    {
      "cell_type": "markdown",
      "source": [
        "### 5.1 Write a recursive function that computes the $n$th Fibonacci number, where\n",
        "\n",
        "$F_n = F_{n-1} + F_{n - 2}$ and $F_0, F_1 = 1.$\n",
        "\n",
        "You can speed up this computation by caching previous answers."
      ],
      "metadata": {
        "id": "RyvmZRb691WN"
      }
    },
    {
      "cell_type": "code",
      "source": [
        "fib <- function(n) {\n",
        "  if (n == 0) {\n",
        "    return(1)\n",
        "  }\n",
        "  if (n == 1) {\n",
        "    return(1)\n",
        "  }\n",
        "  else {\n",
        "    return(fib(n-1) + fib(n-2))\n",
        "  }\n",
        "}"
      ],
      "metadata": {
        "id": "KvMxCAalMM2N"
      },
      "execution_count": 72,
      "outputs": []
    },
    {
      "cell_type": "code",
      "source": [
        "map_dbl(0:6, fib)"
      ],
      "metadata": {
        "colab": {
          "base_uri": "https://localhost:8080/",
          "height": 34
        },
        "id": "bfV84ma6NFdb",
        "outputId": "569d992e-6d42-40b1-9a36-eb53dc5bfe4b"
      },
      "execution_count": 75,
      "outputs": [
        {
          "output_type": "display_data",
          "data": {
            "text/html": [
              "<style>\n",
              ".list-inline {list-style: none; margin:0; padding: 0}\n",
              ".list-inline>li {display: inline-block}\n",
              ".list-inline>li:not(:last-child)::after {content: \"\\00b7\"; padding: 0 .5ex}\n",
              "</style>\n",
              "<ol class=list-inline><li>1</li><li>1</li><li>2</li><li>3</li><li>5</li><li>8</li><li>13</li></ol>\n"
            ],
            "text/markdown": "1. 1\n2. 1\n3. 2\n4. 3\n5. 5\n6. 8\n7. 13\n\n\n",
            "text/latex": "\\begin{enumerate*}\n\\item 1\n\\item 1\n\\item 2\n\\item 3\n\\item 5\n\\item 8\n\\item 13\n\\end{enumerate*}\n",
            "text/plain": [
              "[1]  1  1  2  3  5  8 13"
            ]
          },
          "metadata": {}
        }
      ]
    },
    {
      "cell_type": "code",
      "source": [
        "cache"
      ],
      "metadata": {
        "colab": {
          "base_uri": "https://localhost:8080/",
          "height": 69
        },
        "id": "LaQ4IGXKPsCl",
        "outputId": "5e3bb1b1-9f63-427e-c22e-05face181597"
      },
      "execution_count": 93,
      "outputs": [
        {
          "output_type": "display_data",
          "data": {
            "text/html": [
              "<style>\n",
              ".list-inline {list-style: none; margin:0; padding: 0}\n",
              ".list-inline>li {display: inline-block}\n",
              ".list-inline>li:not(:last-child)::after {content: \"\\00b7\"; padding: 0 .5ex}\n",
              "</style>\n",
              "<ol class=list-inline><li>1</li><li>1</li><li>0</li><li>0</li><li>0</li><li>0</li><li>0</li><li>0</li><li>0</li><li>0</li><li>0</li><li>0</li><li>0</li><li>0</li><li>0</li><li>0</li><li>0</li><li>0</li><li>0</li><li>0</li><li>0</li><li>0</li><li>0</li><li>0</li><li>0</li><li>0</li><li>0</li><li>0</li><li>0</li><li>0</li><li>0</li><li>0</li><li>0</li><li>0</li><li>0</li><li>0</li><li>0</li><li>0</li><li>0</li><li>0</li><li>0</li><li>0</li><li>0</li><li>0</li><li>0</li><li>0</li><li>0</li><li>0</li><li>0</li><li>0</li><li>0</li><li>0</li><li>0</li><li>0</li><li>0</li><li>0</li><li>0</li><li>0</li><li>0</li><li>0</li><li>0</li><li>0</li><li>0</li><li>0</li><li>0</li><li>0</li><li>0</li><li>0</li><li>0</li><li>0</li><li>0</li><li>0</li><li>0</li><li>0</li><li>0</li><li>0</li><li>0</li><li>0</li><li>0</li><li>0</li><li>0</li><li>0</li><li>0</li><li>0</li><li>0</li><li>0</li><li>0</li><li>0</li><li>0</li><li>0</li><li>0</li><li>0</li><li>0</li><li>0</li><li>0</li><li>0</li><li>0</li><li>0</li><li>0</li><li>0</li></ol>\n"
            ],
            "text/markdown": "1. 1\n2. 1\n3. 0\n4. 0\n5. 0\n6. 0\n7. 0\n8. 0\n9. 0\n10. 0\n11. 0\n12. 0\n13. 0\n14. 0\n15. 0\n16. 0\n17. 0\n18. 0\n19. 0\n20. 0\n21. 0\n22. 0\n23. 0\n24. 0\n25. 0\n26. 0\n27. 0\n28. 0\n29. 0\n30. 0\n31. 0\n32. 0\n33. 0\n34. 0\n35. 0\n36. 0\n37. 0\n38. 0\n39. 0\n40. 0\n41. 0\n42. 0\n43. 0\n44. 0\n45. 0\n46. 0\n47. 0\n48. 0\n49. 0\n50. 0\n51. 0\n52. 0\n53. 0\n54. 0\n55. 0\n56. 0\n57. 0\n58. 0\n59. 0\n60. 0\n61. 0\n62. 0\n63. 0\n64. 0\n65. 0\n66. 0\n67. 0\n68. 0\n69. 0\n70. 0\n71. 0\n72. 0\n73. 0\n74. 0\n75. 0\n76. 0\n77. 0\n78. 0\n79. 0\n80. 0\n81. 0\n82. 0\n83. 0\n84. 0\n85. 0\n86. 0\n87. 0\n88. 0\n89. 0\n90. 0\n91. 0\n92. 0\n93. 0\n94. 0\n95. 0\n96. 0\n97. 0\n98. 0\n99. 0\n100. 0\n\n\n",
            "text/latex": "\\begin{enumerate*}\n\\item 1\n\\item 1\n\\item 0\n\\item 0\n\\item 0\n\\item 0\n\\item 0\n\\item 0\n\\item 0\n\\item 0\n\\item 0\n\\item 0\n\\item 0\n\\item 0\n\\item 0\n\\item 0\n\\item 0\n\\item 0\n\\item 0\n\\item 0\n\\item 0\n\\item 0\n\\item 0\n\\item 0\n\\item 0\n\\item 0\n\\item 0\n\\item 0\n\\item 0\n\\item 0\n\\item 0\n\\item 0\n\\item 0\n\\item 0\n\\item 0\n\\item 0\n\\item 0\n\\item 0\n\\item 0\n\\item 0\n\\item 0\n\\item 0\n\\item 0\n\\item 0\n\\item 0\n\\item 0\n\\item 0\n\\item 0\n\\item 0\n\\item 0\n\\item 0\n\\item 0\n\\item 0\n\\item 0\n\\item 0\n\\item 0\n\\item 0\n\\item 0\n\\item 0\n\\item 0\n\\item 0\n\\item 0\n\\item 0\n\\item 0\n\\item 0\n\\item 0\n\\item 0\n\\item 0\n\\item 0\n\\item 0\n\\item 0\n\\item 0\n\\item 0\n\\item 0\n\\item 0\n\\item 0\n\\item 0\n\\item 0\n\\item 0\n\\item 0\n\\item 0\n\\item 0\n\\item 0\n\\item 0\n\\item 0\n\\item 0\n\\item 0\n\\item 0\n\\item 0\n\\item 0\n\\item 0\n\\item 0\n\\item 0\n\\item 0\n\\item 0\n\\item 0\n\\item 0\n\\item 0\n\\item 0\n\\item 0\n\\end{enumerate*}\n",
            "text/plain": [
              "  [1] 1 1 0 0 0 0 0 0 0 0 0 0 0 0 0 0 0 0 0 0 0 0 0 0 0 0 0 0 0 0 0 0 0 0 0 0 0\n",
              " [38] 0 0 0 0 0 0 0 0 0 0 0 0 0 0 0 0 0 0 0 0 0 0 0 0 0 0 0 0 0 0 0 0 0 0 0 0 0\n",
              " [75] 0 0 0 0 0 0 0 0 0 0 0 0 0 0 0 0 0 0 0 0 0 0 0 0 0 0"
            ]
          },
          "metadata": {}
        }
      ]
    },
    {
      "cell_type": "code",
      "source": [
        "cache <- vector(mode=\"integer\", length=100)\n",
        "cache[1] <- 1\n",
        "cache[2] <- 1\n",
        "\n",
        "fast_fib <- function(n) {\n",
        "  if (n == 1) {\n",
        "    return(1)\n",
        "  }\n",
        "  if (n == 2) {\n",
        "    return(1)\n",
        "  }\n",
        "  else {\n",
        "    if (cache[n] != 0) {\n",
        "      return(cache[n])\n",
        "    }\n",
        "    else {\n",
        "      cache[n] <- fast_fib(n-1) + fast_fib(n-2)\n",
        "      return(cache[n])\n",
        "    }\n",
        "  }\n",
        "}"
      ],
      "metadata": {
        "id": "-bfbg_R3NQvd"
      },
      "execution_count": 100,
      "outputs": []
    },
    {
      "cell_type": "code",
      "source": [
        "map_dbl(1:30, fast_fib)"
      ],
      "metadata": {
        "colab": {
          "base_uri": "https://localhost:8080/",
          "height": 52
        },
        "id": "qSnqLC95NrQ3",
        "outputId": "7aa2dc2b-eedf-4b74-cfcd-fe3ebe509f11"
      },
      "execution_count": 105,
      "outputs": [
        {
          "output_type": "display_data",
          "data": {
            "text/html": [
              "<style>\n",
              ".list-inline {list-style: none; margin:0; padding: 0}\n",
              ".list-inline>li {display: inline-block}\n",
              ".list-inline>li:not(:last-child)::after {content: \"\\00b7\"; padding: 0 .5ex}\n",
              "</style>\n",
              "<ol class=list-inline><li>1</li><li>1</li><li>2</li><li>3</li><li>5</li><li>8</li><li>13</li><li>21</li><li>34</li><li>55</li><li>89</li><li>144</li><li>233</li><li>377</li><li>610</li><li>987</li><li>1597</li><li>2584</li><li>4181</li><li>6765</li><li>10946</li><li>17711</li><li>28657</li><li>46368</li><li>75025</li><li>121393</li><li>196418</li><li>317811</li><li>514229</li><li>832040</li></ol>\n"
            ],
            "text/markdown": "1. 1\n2. 1\n3. 2\n4. 3\n5. 5\n6. 8\n7. 13\n8. 21\n9. 34\n10. 55\n11. 89\n12. 144\n13. 233\n14. 377\n15. 610\n16. 987\n17. 1597\n18. 2584\n19. 4181\n20. 6765\n21. 10946\n22. 17711\n23. 28657\n24. 46368\n25. 75025\n26. 121393\n27. 196418\n28. 317811\n29. 514229\n30. 832040\n\n\n",
            "text/latex": "\\begin{enumerate*}\n\\item 1\n\\item 1\n\\item 2\n\\item 3\n\\item 5\n\\item 8\n\\item 13\n\\item 21\n\\item 34\n\\item 55\n\\item 89\n\\item 144\n\\item 233\n\\item 377\n\\item 610\n\\item 987\n\\item 1597\n\\item 2584\n\\item 4181\n\\item 6765\n\\item 10946\n\\item 17711\n\\item 28657\n\\item 46368\n\\item 75025\n\\item 121393\n\\item 196418\n\\item 317811\n\\item 514229\n\\item 832040\n\\end{enumerate*}\n",
            "text/plain": [
              " [1]      1      1      2      3      5      8     13     21     34     55\n",
              "[11]     89    144    233    377    610    987   1597   2584   4181   6765\n",
              "[21]  10946  17711  28657  46368  75025 121393 196418 317811 514229 832040"
            ]
          },
          "metadata": {}
        }
      ]
    },
    {
      "cell_type": "markdown",
      "metadata": {
        "id": "wzL6GRZ0cfDT"
      },
      "source": [
        "### 5.3 Suppose Joe wants to climb $n$ steps on a stairway. Joe can climb either one step or two steps at a time. Write a function to find out how many ways there are for Joe to climb $n$ steps. \n",
        "\n",
        "For example, if $n=3,$ then Joe has 3 ways: (1,1,1), (1,2), and (2,1)."
      ]
    },
    {
      "cell_type": "markdown",
      "metadata": {
        "id": "W_ZCqWKCcfDU"
      },
      "source": [
        "How do we break this down recursively?\n",
        "\n",
        "Suppose the staircase is 10 steps long. After Joe moves once, there could be 8 or 9 steps left. What is the recurrence relationship? What is the base case?"
      ]
    },
    {
      "cell_type": "code",
      "metadata": {
        "id": "rZtSgFErcfDV"
      },
      "source": [
        "num_ways <- function(n) {\n",
        "  if (n == 1) {\n",
        "      return(1)\n",
        "  }\n",
        "  if (n == 2) {\n",
        "    return (2)\n",
        "  }\n",
        "  else {\n",
        "    return( num_ways(n-1) + num_ways(n - 2))\n",
        "  }\n",
        "}"
      ],
      "execution_count": 98,
      "outputs": []
    },
    {
      "cell_type": "code",
      "source": [
        "map_dbl(1:10, num_ways)"
      ],
      "metadata": {
        "colab": {
          "base_uri": "https://localhost:8080/",
          "height": 34
        },
        "id": "8bD0SXe0QNXU",
        "outputId": "62633db6-3bb6-4e88-fa95-b9c0b9c15f1d"
      },
      "execution_count": 99,
      "outputs": [
        {
          "output_type": "display_data",
          "data": {
            "text/html": [
              "<style>\n",
              ".list-inline {list-style: none; margin:0; padding: 0}\n",
              ".list-inline>li {display: inline-block}\n",
              ".list-inline>li:not(:last-child)::after {content: \"\\00b7\"; padding: 0 .5ex}\n",
              "</style>\n",
              "<ol class=list-inline><li>1</li><li>2</li><li>3</li><li>5</li><li>8</li><li>13</li><li>21</li><li>34</li><li>55</li><li>89</li></ol>\n"
            ],
            "text/markdown": "1. 1\n2. 2\n3. 3\n4. 5\n5. 8\n6. 13\n7. 21\n8. 34\n9. 55\n10. 89\n\n\n",
            "text/latex": "\\begin{enumerate*}\n\\item 1\n\\item 2\n\\item 3\n\\item 5\n\\item 8\n\\item 13\n\\item 21\n\\item 34\n\\item 55\n\\item 89\n\\end{enumerate*}\n",
            "text/plain": [
              " [1]  1  2  3  5  8 13 21 34 55 89"
            ]
          },
          "metadata": {}
        }
      ]
    }
  ]
}