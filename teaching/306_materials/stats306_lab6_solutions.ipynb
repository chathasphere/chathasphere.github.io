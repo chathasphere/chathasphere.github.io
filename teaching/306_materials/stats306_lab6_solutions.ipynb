{
  "nbformat": 4,
  "nbformat_minor": 0,
  "metadata": {
    "kernelspec": {
      "display_name": "R",
      "language": "R",
      "name": "ir"
    },
    "language_info": {
      "codemirror_mode": "r",
      "file_extension": ".r",
      "mimetype": "text/x-r-source",
      "name": "R",
      "pygments_lexer": "r",
      "version": "3.6.1"
    },
    "colab": {
      "name": "stats306_lab6_solutions.ipynb",
      "provenance": [],
      "collapsed_sections": [],
      "include_colab_link": true
    }
  },
  "cells": [
    {
      "cell_type": "markdown",
      "metadata": {
        "id": "view-in-github",
        "colab_type": "text"
      },
      "source": [
        "<a href=\"https://colab.research.google.com/github/chathasphere/chathasphere.github.io/blob/main/teaching/306_materials/stats306_lab6_solutions.ipynb\" target=\"_parent\"><img src=\"https://colab.research.google.com/assets/colab-badge.svg\" alt=\"Open In Colab\"/></a>"
      ]
    },
    {
      "cell_type": "markdown",
      "metadata": {
        "id": "E7GWPq7f7XUj"
      },
      "source": [
        "# Lab 6: Pivoting for Longer and Wider Tables\n",
        "## March 8th, 2022\n",
        "\n",
        "Welcome back!\n"
      ]
    },
    {
      "cell_type": "code",
      "metadata": {
        "id": "Izi2MXVr7XUy",
        "outputId": "ee76392d-e447-438a-b118-f9bee723b0ac",
        "colab": {
          "base_uri": "https://localhost:8080/"
        }
      },
      "source": [
        "library(tidyverse)\n",
        "install.packages(\"dslabs\")\n",
        "library(dslabs)"
      ],
      "execution_count": 1,
      "outputs": [
        {
          "output_type": "stream",
          "name": "stderr",
          "text": [
            "Warning message in system(\"timedatectl\", intern = TRUE):\n",
            "“running command 'timedatectl' had status 1”\n",
            "── \u001b[1mAttaching packages\u001b[22m ─────────────────────────────────────── tidyverse 1.3.1 ──\n",
            "\n",
            "\u001b[32m✔\u001b[39m \u001b[34mggplot2\u001b[39m 3.3.5     \u001b[32m✔\u001b[39m \u001b[34mpurrr  \u001b[39m 0.3.4\n",
            "\u001b[32m✔\u001b[39m \u001b[34mtibble \u001b[39m 3.1.6     \u001b[32m✔\u001b[39m \u001b[34mdplyr  \u001b[39m 1.0.8\n",
            "\u001b[32m✔\u001b[39m \u001b[34mtidyr  \u001b[39m 1.2.0     \u001b[32m✔\u001b[39m \u001b[34mstringr\u001b[39m 1.4.0\n",
            "\u001b[32m✔\u001b[39m \u001b[34mreadr  \u001b[39m 2.1.2     \u001b[32m✔\u001b[39m \u001b[34mforcats\u001b[39m 0.5.1\n",
            "\n",
            "── \u001b[1mConflicts\u001b[22m ────────────────────────────────────────── tidyverse_conflicts() ──\n",
            "\u001b[31m✖\u001b[39m \u001b[34mdplyr\u001b[39m::\u001b[32mfilter()\u001b[39m masks \u001b[34mstats\u001b[39m::filter()\n",
            "\u001b[31m✖\u001b[39m \u001b[34mdplyr\u001b[39m::\u001b[32mlag()\u001b[39m    masks \u001b[34mstats\u001b[39m::lag()\n",
            "\n",
            "Installing package into ‘/usr/local/lib/R/site-library’\n",
            "(as ‘lib’ is unspecified)\n",
            "\n"
          ]
        }
      ]
    },
    {
      "cell_type": "markdown",
      "source": [
        "# 1. Preliminaries"
      ],
      "metadata": {
        "id": "29UKg56HPBj8"
      }
    },
    {
      "cell_type": "code",
      "source": [
        "# create a tibble from a dataframe\n",
        "irisTibble <- as_tibble(iris)"
      ],
      "metadata": {
        "id": "EB0XeAn2PNBX"
      },
      "execution_count": null,
      "outputs": []
    },
    {
      "cell_type": "code",
      "source": [
        "iris %>% head"
      ],
      "metadata": {
        "colab": {
          "base_uri": "https://localhost:8080/",
          "height": 286
        },
        "id": "FyAoKeCRFM2h",
        "outputId": "f3111e27-3c86-46c8-e158-b976483020ec"
      },
      "execution_count": null,
      "outputs": [
        {
          "output_type": "display_data",
          "data": {
            "text/plain": [
              "  Sepal.Length Sepal.Width Petal.Length Petal.Width Species\n",
              "1 5.1          3.5         1.4          0.2         setosa \n",
              "2 4.9          3.0         1.4          0.2         setosa \n",
              "3 4.7          3.2         1.3          0.2         setosa \n",
              "4 4.6          3.1         1.5          0.2         setosa \n",
              "5 5.0          3.6         1.4          0.2         setosa \n",
              "6 5.4          3.9         1.7          0.4         setosa "
            ],
            "text/latex": "A data.frame: 6 × 5\n\\begin{tabular}{r|lllll}\n  & Sepal.Length & Sepal.Width & Petal.Length & Petal.Width & Species\\\\\n  & <dbl> & <dbl> & <dbl> & <dbl> & <fct>\\\\\n\\hline\n\t1 & 5.1 & 3.5 & 1.4 & 0.2 & setosa\\\\\n\t2 & 4.9 & 3.0 & 1.4 & 0.2 & setosa\\\\\n\t3 & 4.7 & 3.2 & 1.3 & 0.2 & setosa\\\\\n\t4 & 4.6 & 3.1 & 1.5 & 0.2 & setosa\\\\\n\t5 & 5.0 & 3.6 & 1.4 & 0.2 & setosa\\\\\n\t6 & 5.4 & 3.9 & 1.7 & 0.4 & setosa\\\\\n\\end{tabular}\n",
            "text/markdown": "\nA data.frame: 6 × 5\n\n| <!--/--> | Sepal.Length &lt;dbl&gt; | Sepal.Width &lt;dbl&gt; | Petal.Length &lt;dbl&gt; | Petal.Width &lt;dbl&gt; | Species &lt;fct&gt; |\n|---|---|---|---|---|---|\n| 1 | 5.1 | 3.5 | 1.4 | 0.2 | setosa |\n| 2 | 4.9 | 3.0 | 1.4 | 0.2 | setosa |\n| 3 | 4.7 | 3.2 | 1.3 | 0.2 | setosa |\n| 4 | 4.6 | 3.1 | 1.5 | 0.2 | setosa |\n| 5 | 5.0 | 3.6 | 1.4 | 0.2 | setosa |\n| 6 | 5.4 | 3.9 | 1.7 | 0.4 | setosa |\n\n",
            "text/html": [
              "<table class=\"dataframe\">\n",
              "<caption>A data.frame: 6 × 5</caption>\n",
              "<thead>\n",
              "\t<tr><th></th><th scope=col>Sepal.Length</th><th scope=col>Sepal.Width</th><th scope=col>Petal.Length</th><th scope=col>Petal.Width</th><th scope=col>Species</th></tr>\n",
              "\t<tr><th></th><th scope=col>&lt;dbl&gt;</th><th scope=col>&lt;dbl&gt;</th><th scope=col>&lt;dbl&gt;</th><th scope=col>&lt;dbl&gt;</th><th scope=col>&lt;fct&gt;</th></tr>\n",
              "</thead>\n",
              "<tbody>\n",
              "\t<tr><th scope=row>1</th><td>5.1</td><td>3.5</td><td>1.4</td><td>0.2</td><td>setosa</td></tr>\n",
              "\t<tr><th scope=row>2</th><td>4.9</td><td>3.0</td><td>1.4</td><td>0.2</td><td>setosa</td></tr>\n",
              "\t<tr><th scope=row>3</th><td>4.7</td><td>3.2</td><td>1.3</td><td>0.2</td><td>setosa</td></tr>\n",
              "\t<tr><th scope=row>4</th><td>4.6</td><td>3.1</td><td>1.5</td><td>0.2</td><td>setosa</td></tr>\n",
              "\t<tr><th scope=row>5</th><td>5.0</td><td>3.6</td><td>1.4</td><td>0.2</td><td>setosa</td></tr>\n",
              "\t<tr><th scope=row>6</th><td>5.4</td><td>3.9</td><td>1.7</td><td>0.4</td><td>setosa</td></tr>\n",
              "</tbody>\n",
              "</table>\n"
            ]
          },
          "metadata": {}
        }
      ]
    },
    {
      "cell_type": "code",
      "source": [
        "# initialize tibble from vectors\n",
        "\n",
        "tib1 <- tibble(\n",
        "  rank = 1:6,\n",
        "  names = c(\"mercury\", \"venus\", \"terra\", \"mars\", \"jupiter\", \"saturn\"),\n",
        "  inhabited = c(FALSE, FALSE, TRUE, FALSE, FALSE, FALSE)\n",
        ")\n",
        "tib1"
      ],
      "metadata": {
        "id": "906D7QvoPal4",
        "colab": {
          "base_uri": "https://localhost:8080/",
          "height": 286
        },
        "outputId": "debd669a-8393-4095-919a-5217e51f8445"
      },
      "execution_count": null,
      "outputs": [
        {
          "output_type": "display_data",
          "data": {
            "text/plain": [
              "  rank names   inhabited\n",
              "1 1    mercury FALSE    \n",
              "2 2    venus   FALSE    \n",
              "3 3    terra    TRUE    \n",
              "4 4    mars    FALSE    \n",
              "5 5    jupiter FALSE    \n",
              "6 6    saturn  FALSE    "
            ],
            "text/latex": "A tibble: 6 × 3\n\\begin{tabular}{lll}\n rank & names & inhabited\\\\\n <int> & <chr> & <lgl>\\\\\n\\hline\n\t 1 & mercury & FALSE\\\\\n\t 2 & venus   & FALSE\\\\\n\t 3 & terra   &  TRUE\\\\\n\t 4 & mars    & FALSE\\\\\n\t 5 & jupiter & FALSE\\\\\n\t 6 & saturn  & FALSE\\\\\n\\end{tabular}\n",
            "text/markdown": "\nA tibble: 6 × 3\n\n| rank &lt;int&gt; | names &lt;chr&gt; | inhabited &lt;lgl&gt; |\n|---|---|---|\n| 1 | mercury | FALSE |\n| 2 | venus   | FALSE |\n| 3 | terra   |  TRUE |\n| 4 | mars    | FALSE |\n| 5 | jupiter | FALSE |\n| 6 | saturn  | FALSE |\n\n",
            "text/html": [
              "<table class=\"dataframe\">\n",
              "<caption>A tibble: 6 × 3</caption>\n",
              "<thead>\n",
              "\t<tr><th scope=col>rank</th><th scope=col>names</th><th scope=col>inhabited</th></tr>\n",
              "\t<tr><th scope=col>&lt;int&gt;</th><th scope=col>&lt;chr&gt;</th><th scope=col>&lt;lgl&gt;</th></tr>\n",
              "</thead>\n",
              "<tbody>\n",
              "\t<tr><td>1</td><td>mercury</td><td>FALSE</td></tr>\n",
              "\t<tr><td>2</td><td>venus  </td><td>FALSE</td></tr>\n",
              "\t<tr><td>3</td><td>terra  </td><td> TRUE</td></tr>\n",
              "\t<tr><td>4</td><td>mars   </td><td>FALSE</td></tr>\n",
              "\t<tr><td>5</td><td>jupiter</td><td>FALSE</td></tr>\n",
              "\t<tr><td>6</td><td>saturn </td><td>FALSE</td></tr>\n",
              "</tbody>\n",
              "</table>\n"
            ]
          },
          "metadata": {}
        }
      ]
    },
    {
      "cell_type": "code",
      "source": [
        "# tibble from data entry\n",
        "tib2 <- tribble(\n",
        "  ~index, ~language, ~phrase,\n",
        "  # comment to separate column names from values\n",
        "  1, \"swedish\", \"hej, världen!\",\n",
        "  2, \"czech\", \"ahoj, světe!\",\n",
        "  3, \"irish\", \"dia duit, domhan!\",\n",
        "  4, \"portuguese\", \"olá, mundo!\" \n",
        ")\n",
        "tib2"
      ],
      "metadata": {
        "id": "DBim1WXkQpYs",
        "colab": {
          "base_uri": "https://localhost:8080/",
          "height": 224
        },
        "outputId": "ed7c4d54-99ad-4228-a490-4e12cbc5187d"
      },
      "execution_count": null,
      "outputs": [
        {
          "output_type": "display_data",
          "data": {
            "text/plain": [
              "  index language   phrase           \n",
              "1 1     swedish    hej, världen!    \n",
              "2 2     czech      ahoj, světe!     \n",
              "3 3     irish      dia duit, domhan!\n",
              "4 4     portuguese olá, mundo!      "
            ],
            "text/latex": "A tibble: 4 × 3\n\\begin{tabular}{lll}\n index & language & phrase\\\\\n <dbl> & <chr> & <chr>\\\\\n\\hline\n\t 1 & swedish    & hej, världen!    \\\\\n\t 2 & czech      & ahoj, světe!     \\\\\n\t 3 & irish      & dia duit, domhan!\\\\\n\t 4 & portuguese & olá, mundo!      \\\\\n\\end{tabular}\n",
            "text/markdown": "\nA tibble: 4 × 3\n\n| index &lt;dbl&gt; | language &lt;chr&gt; | phrase &lt;chr&gt; |\n|---|---|---|\n| 1 | swedish    | hej, världen!     |\n| 2 | czech      | ahoj, světe!      |\n| 3 | irish      | dia duit, domhan! |\n| 4 | portuguese | olá, mundo!       |\n\n",
            "text/html": [
              "<table class=\"dataframe\">\n",
              "<caption>A tibble: 4 × 3</caption>\n",
              "<thead>\n",
              "\t<tr><th scope=col>index</th><th scope=col>language</th><th scope=col>phrase</th></tr>\n",
              "\t<tr><th scope=col>&lt;dbl&gt;</th><th scope=col>&lt;chr&gt;</th><th scope=col>&lt;chr&gt;</th></tr>\n",
              "</thead>\n",
              "<tbody>\n",
              "\t<tr><td>1</td><td>swedish   </td><td>hej, världen!    </td></tr>\n",
              "\t<tr><td>2</td><td>czech     </td><td>ahoj, světe!     </td></tr>\n",
              "\t<tr><td>3</td><td>irish     </td><td>dia duit, domhan!</td></tr>\n",
              "\t<tr><td>4</td><td>portuguese</td><td>olá, mundo!      </td></tr>\n",
              "</tbody>\n",
              "</table>\n"
            ]
          },
          "metadata": {}
        }
      ]
    },
    {
      "cell_type": "code",
      "source": [
        "# non-syntactic names\n",
        "annoying <- tibble(\n",
        "  `2019` = 1:10,\n",
        "  `2020` = `2019` * 2 + rnorm(length(`2019`))\n",
        ")\n",
        "annoying"
      ],
      "metadata": {
        "id": "3IwHZC4dSke3",
        "colab": {
          "base_uri": "https://localhost:8080/",
          "height": 412
        },
        "outputId": "e55d3f30-0a4f-462e-d5c5-b0c901784974"
      },
      "execution_count": null,
      "outputs": [
        {
          "output_type": "display_data",
          "data": {
            "text/plain": [
              "   2019 2020      \n",
              "1   1    0.3672377\n",
              "2   2    3.6141585\n",
              "3   3    7.1164816\n",
              "4   4    6.2060397\n",
              "5   5   12.0916756\n",
              "6   6   11.8858673\n",
              "7   7   13.4395301\n",
              "8   8   14.5807213\n",
              "9   9   17.8042871\n",
              "10 10   19.5378185"
            ],
            "text/latex": "A tibble: 10 × 2\n\\begin{tabular}{ll}\n 2019 & 2020\\\\\n <int> & <dbl>\\\\\n\\hline\n\t  1 &  0.3672377\\\\\n\t  2 &  3.6141585\\\\\n\t  3 &  7.1164816\\\\\n\t  4 &  6.2060397\\\\\n\t  5 & 12.0916756\\\\\n\t  6 & 11.8858673\\\\\n\t  7 & 13.4395301\\\\\n\t  8 & 14.5807213\\\\\n\t  9 & 17.8042871\\\\\n\t 10 & 19.5378185\\\\\n\\end{tabular}\n",
            "text/markdown": "\nA tibble: 10 × 2\n\n| 2019 &lt;int&gt; | 2020 &lt;dbl&gt; |\n|---|---|\n|  1 |  0.3672377 |\n|  2 |  3.6141585 |\n|  3 |  7.1164816 |\n|  4 |  6.2060397 |\n|  5 | 12.0916756 |\n|  6 | 11.8858673 |\n|  7 | 13.4395301 |\n|  8 | 14.5807213 |\n|  9 | 17.8042871 |\n| 10 | 19.5378185 |\n\n",
            "text/html": [
              "<table class=\"dataframe\">\n",
              "<caption>A tibble: 10 × 2</caption>\n",
              "<thead>\n",
              "\t<tr><th scope=col>2019</th><th scope=col>2020</th></tr>\n",
              "\t<tr><th scope=col>&lt;int&gt;</th><th scope=col>&lt;dbl&gt;</th></tr>\n",
              "</thead>\n",
              "<tbody>\n",
              "\t<tr><td> 1</td><td> 0.3672377</td></tr>\n",
              "\t<tr><td> 2</td><td> 3.6141585</td></tr>\n",
              "\t<tr><td> 3</td><td> 7.1164816</td></tr>\n",
              "\t<tr><td> 4</td><td> 6.2060397</td></tr>\n",
              "\t<tr><td> 5</td><td>12.0916756</td></tr>\n",
              "\t<tr><td> 6</td><td>11.8858673</td></tr>\n",
              "\t<tr><td> 7</td><td>13.4395301</td></tr>\n",
              "\t<tr><td> 8</td><td>14.5807213</td></tr>\n",
              "\t<tr><td> 9</td><td>17.8042871</td></tr>\n",
              "\t<tr><td>10</td><td>19.5378185</td></tr>\n",
              "</tbody>\n",
              "</table>\n"
            ]
          },
          "metadata": {}
        }
      ]
    },
    {
      "cell_type": "code",
      "source": [
        "annoying[[2]]; annoying %>% select(`2`)"
      ],
      "metadata": {
        "id": "kREl5mj2Su8-"
      },
      "execution_count": null,
      "outputs": []
    },
    {
      "cell_type": "markdown",
      "source": [
        "## Tidy Data\n",
        "\n",
        "\"Tidy datasets are all alike, but every messy dataset is messy in its own way.\" (Hadley Wickham)\n",
        "\n",
        "Rules of tidy data:\n",
        "\n",
        "1. Each variable must have its own column\n",
        "2. Each observation must have its own row\n",
        "3. Each value must have its own cell\n",
        "\n",
        "Real world data is usually messy. People who enter/curate data often don't have the data analyst in mind.\n",
        "\n",
        "Pivoting helps with the following problems:\n",
        "- One variable spread across multiple columns\n",
        "- One observation scattered across multiple rows"
      ],
      "metadata": {
        "id": "Mm3XFBR4TOFe"
      }
    },
    {
      "cell_type": "markdown",
      "metadata": {
        "id": "kBclFdUV7XU7"
      },
      "source": [
        "# 2. Longer Tables\n",
        "\n",
        "`pivot_longer` takes 4 main arguments:\n",
        "* `data`: tibble to pivot\n",
        "* `cols`: columns to lengthen (ignores the others)\n",
        "* `names_to`: name of the new variable to which old column names (`cols`) get moved\n",
        "* `values_to`: name of the variable to which pivoted column values get moved"
      ]
    },
    {
      "cell_type": "code",
      "metadata": {
        "scrolled": true,
        "id": "Gyuqi5kC7XU8",
        "colab": {
          "base_uri": "https://localhost:8080/",
          "height": 224
        },
        "outputId": "56a737b1-a9ac-46bb-d0bc-e53c955dbf97"
      },
      "source": [
        "# example: column names here are really values of a variable, \"year\"\n",
        "grades_wide = tribble(\n",
        "  ~name, ~Sex, ~`2015`, ~`2016`, ~`2017`,\n",
        "     'Wu',  'M', 83,      89,      93,\n",
        "  'Alice',  'F', 92,      90,      93,\n",
        " 'Jordan',   NA, 80,      87,      99,\n",
        " 'Gilberto','M', 67,      90,      92)\n",
        "grades_wide"
      ],
      "execution_count": null,
      "outputs": [
        {
          "output_type": "display_data",
          "data": {
            "text/plain": [
              "  name     Sex 2015 2016 2017\n",
              "1 Wu       M   83   89   93  \n",
              "2 Alice    F   92   90   93  \n",
              "3 Jordan   NA  80   87   99  \n",
              "4 Gilberto M   67   90   92  "
            ],
            "text/latex": "A tibble: 4 × 5\n\\begin{tabular}{lllll}\n name & Sex & 2015 & 2016 & 2017\\\\\n <chr> & <chr> & <dbl> & <dbl> & <dbl>\\\\\n\\hline\n\t Wu       & M  & 83 & 89 & 93\\\\\n\t Alice    & F  & 92 & 90 & 93\\\\\n\t Jordan   & NA & 80 & 87 & 99\\\\\n\t Gilberto & M  & 67 & 90 & 92\\\\\n\\end{tabular}\n",
            "text/markdown": "\nA tibble: 4 × 5\n\n| name &lt;chr&gt; | Sex &lt;chr&gt; | 2015 &lt;dbl&gt; | 2016 &lt;dbl&gt; | 2017 &lt;dbl&gt; |\n|---|---|---|---|---|\n| Wu       | M  | 83 | 89 | 93 |\n| Alice    | F  | 92 | 90 | 93 |\n| Jordan   | NA | 80 | 87 | 99 |\n| Gilberto | M  | 67 | 90 | 92 |\n\n",
            "text/html": [
              "<table class=\"dataframe\">\n",
              "<caption>A tibble: 4 × 5</caption>\n",
              "<thead>\n",
              "\t<tr><th scope=col>name</th><th scope=col>Sex</th><th scope=col>2015</th><th scope=col>2016</th><th scope=col>2017</th></tr>\n",
              "\t<tr><th scope=col>&lt;chr&gt;</th><th scope=col>&lt;chr&gt;</th><th scope=col>&lt;dbl&gt;</th><th scope=col>&lt;dbl&gt;</th><th scope=col>&lt;dbl&gt;</th></tr>\n",
              "</thead>\n",
              "<tbody>\n",
              "\t<tr><td>Wu      </td><td>M </td><td>83</td><td>89</td><td>93</td></tr>\n",
              "\t<tr><td>Alice   </td><td>F </td><td>92</td><td>90</td><td>93</td></tr>\n",
              "\t<tr><td>Jordan  </td><td>NA</td><td>80</td><td>87</td><td>99</td></tr>\n",
              "\t<tr><td>Gilberto</td><td>M </td><td>67</td><td>90</td><td>92</td></tr>\n",
              "</tbody>\n",
              "</table>\n"
            ]
          },
          "metadata": {}
        }
      ]
    },
    {
      "cell_type": "code",
      "metadata": {
        "id": "pghzvk5b7XU9",
        "colab": {
          "base_uri": "https://localhost:8080/",
          "height": 475
        },
        "outputId": "a9f12672-bb07-4d4d-e41c-3ef2b22453a8"
      },
      "source": [
        "grades_long = grades_wide %>% \n",
        "  pivot_longer(\n",
        "    cols = c(`2015`, `2016`, `2017`),\n",
        "    names_to = \"year\",\n",
        "    values_to = \"grades\")\n",
        "grades_long"
      ],
      "execution_count": null,
      "outputs": [
        {
          "output_type": "display_data",
          "data": {
            "text/plain": [
              "   name     Sex year grades\n",
              "1  Wu       M   2015 83    \n",
              "2  Wu       M   2016 89    \n",
              "3  Wu       M   2017 93    \n",
              "4  Alice    F   2015 92    \n",
              "5  Alice    F   2016 90    \n",
              "6  Alice    F   2017 93    \n",
              "7  Jordan   NA  2015 80    \n",
              "8  Jordan   NA  2016 87    \n",
              "9  Jordan   NA  2017 99    \n",
              "10 Gilberto M   2015 67    \n",
              "11 Gilberto M   2016 90    \n",
              "12 Gilberto M   2017 92    "
            ],
            "text/latex": "A tibble: 12 × 4\n\\begin{tabular}{llll}\n name & Sex & year & grades\\\\\n <chr> & <chr> & <chr> & <dbl>\\\\\n\\hline\n\t Wu       & M  & 2015 & 83\\\\\n\t Wu       & M  & 2016 & 89\\\\\n\t Wu       & M  & 2017 & 93\\\\\n\t Alice    & F  & 2015 & 92\\\\\n\t Alice    & F  & 2016 & 90\\\\\n\t Alice    & F  & 2017 & 93\\\\\n\t Jordan   & NA & 2015 & 80\\\\\n\t Jordan   & NA & 2016 & 87\\\\\n\t Jordan   & NA & 2017 & 99\\\\\n\t Gilberto & M  & 2015 & 67\\\\\n\t Gilberto & M  & 2016 & 90\\\\\n\t Gilberto & M  & 2017 & 92\\\\\n\\end{tabular}\n",
            "text/markdown": "\nA tibble: 12 × 4\n\n| name &lt;chr&gt; | Sex &lt;chr&gt; | year &lt;chr&gt; | grades &lt;dbl&gt; |\n|---|---|---|---|\n| Wu       | M  | 2015 | 83 |\n| Wu       | M  | 2016 | 89 |\n| Wu       | M  | 2017 | 93 |\n| Alice    | F  | 2015 | 92 |\n| Alice    | F  | 2016 | 90 |\n| Alice    | F  | 2017 | 93 |\n| Jordan   | NA | 2015 | 80 |\n| Jordan   | NA | 2016 | 87 |\n| Jordan   | NA | 2017 | 99 |\n| Gilberto | M  | 2015 | 67 |\n| Gilberto | M  | 2016 | 90 |\n| Gilberto | M  | 2017 | 92 |\n\n",
            "text/html": [
              "<table class=\"dataframe\">\n",
              "<caption>A tibble: 12 × 4</caption>\n",
              "<thead>\n",
              "\t<tr><th scope=col>name</th><th scope=col>Sex</th><th scope=col>year</th><th scope=col>grades</th></tr>\n",
              "\t<tr><th scope=col>&lt;chr&gt;</th><th scope=col>&lt;chr&gt;</th><th scope=col>&lt;chr&gt;</th><th scope=col>&lt;dbl&gt;</th></tr>\n",
              "</thead>\n",
              "<tbody>\n",
              "\t<tr><td>Wu      </td><td>M </td><td>2015</td><td>83</td></tr>\n",
              "\t<tr><td>Wu      </td><td>M </td><td>2016</td><td>89</td></tr>\n",
              "\t<tr><td>Wu      </td><td>M </td><td>2017</td><td>93</td></tr>\n",
              "\t<tr><td>Alice   </td><td>F </td><td>2015</td><td>92</td></tr>\n",
              "\t<tr><td>Alice   </td><td>F </td><td>2016</td><td>90</td></tr>\n",
              "\t<tr><td>Alice   </td><td>F </td><td>2017</td><td>93</td></tr>\n",
              "\t<tr><td>Jordan  </td><td>NA</td><td>2015</td><td>80</td></tr>\n",
              "\t<tr><td>Jordan  </td><td>NA</td><td>2016</td><td>87</td></tr>\n",
              "\t<tr><td>Jordan  </td><td>NA</td><td>2017</td><td>99</td></tr>\n",
              "\t<tr><td>Gilberto</td><td>M </td><td>2015</td><td>67</td></tr>\n",
              "\t<tr><td>Gilberto</td><td>M </td><td>2016</td><td>90</td></tr>\n",
              "\t<tr><td>Gilberto</td><td>M </td><td>2017</td><td>92</td></tr>\n",
              "</tbody>\n",
              "</table>\n"
            ]
          },
          "metadata": {}
        }
      ]
    },
    {
      "cell_type": "markdown",
      "source": [
        "# 3. Wider Tables\n",
        "\n",
        "`pivot_wider` is the opposite of `pivot_longer` and takes three main parameters:\n",
        "\n",
        "* `data`: data frame to pivot\n",
        "* `names_from`: column from which new column names are extracted \n",
        "* `values_from`: column from which new values are extracted"
      ],
      "metadata": {
        "id": "JJri6c5tWMeZ"
      }
    },
    {
      "cell_type": "code",
      "source": [
        "# example: the \"type\" column contains multiple variable names,\n",
        "long_countries <- tribble(\n",
        "  ~country,      ~year, ~type,           ~count,\n",
        "  #---------------------------------------------\n",
        "  \"Afghanistan\",  1999, \"cases\",            745,\n",
        "  \"Afghanistan\",  1999, \"population\",  19987071,\n",
        "  \"Afghanistan\",  2000, \"cases\",           2666,\n",
        "  \"Afghanistan\",  2000, \"population\",  20595360,\n",
        "  \"Brazil\",       1999, \"cases\",          37737,\n",
        "  \"Brazil\",       1999, \"population\", 172006362\n",
        ")\n",
        "long_countries"
      ],
      "metadata": {
        "id": "uBbiutjnWN-7",
        "colab": {
          "base_uri": "https://localhost:8080/",
          "height": 286
        },
        "outputId": "26b2d332-9930-42e1-cbfe-6d5c4bd2f77c"
      },
      "execution_count": null,
      "outputs": [
        {
          "output_type": "display_data",
          "data": {
            "text/plain": [
              "  country     year type       count    \n",
              "1 Afghanistan 1999 cases            745\n",
              "2 Afghanistan 1999 population  19987071\n",
              "3 Afghanistan 2000 cases           2666\n",
              "4 Afghanistan 2000 population  20595360\n",
              "5 Brazil      1999 cases          37737\n",
              "6 Brazil      1999 population 172006362"
            ],
            "text/latex": "A tibble: 6 × 4\n\\begin{tabular}{llll}\n country & year & type & count\\\\\n <chr> & <dbl> & <chr> & <dbl>\\\\\n\\hline\n\t Afghanistan & 1999 & cases      &       745\\\\\n\t Afghanistan & 1999 & population &  19987071\\\\\n\t Afghanistan & 2000 & cases      &      2666\\\\\n\t Afghanistan & 2000 & population &  20595360\\\\\n\t Brazil      & 1999 & cases      &     37737\\\\\n\t Brazil      & 1999 & population & 172006362\\\\\n\\end{tabular}\n",
            "text/markdown": "\nA tibble: 6 × 4\n\n| country &lt;chr&gt; | year &lt;dbl&gt; | type &lt;chr&gt; | count &lt;dbl&gt; |\n|---|---|---|---|\n| Afghanistan | 1999 | cases      |       745 |\n| Afghanistan | 1999 | population |  19987071 |\n| Afghanistan | 2000 | cases      |      2666 |\n| Afghanistan | 2000 | population |  20595360 |\n| Brazil      | 1999 | cases      |     37737 |\n| Brazil      | 1999 | population | 172006362 |\n\n",
            "text/html": [
              "<table class=\"dataframe\">\n",
              "<caption>A tibble: 6 × 4</caption>\n",
              "<thead>\n",
              "\t<tr><th scope=col>country</th><th scope=col>year</th><th scope=col>type</th><th scope=col>count</th></tr>\n",
              "\t<tr><th scope=col>&lt;chr&gt;</th><th scope=col>&lt;dbl&gt;</th><th scope=col>&lt;chr&gt;</th><th scope=col>&lt;dbl&gt;</th></tr>\n",
              "</thead>\n",
              "<tbody>\n",
              "\t<tr><td>Afghanistan</td><td>1999</td><td>cases     </td><td>      745</td></tr>\n",
              "\t<tr><td>Afghanistan</td><td>1999</td><td>population</td><td> 19987071</td></tr>\n",
              "\t<tr><td>Afghanistan</td><td>2000</td><td>cases     </td><td>     2666</td></tr>\n",
              "\t<tr><td>Afghanistan</td><td>2000</td><td>population</td><td> 20595360</td></tr>\n",
              "\t<tr><td>Brazil     </td><td>1999</td><td>cases     </td><td>    37737</td></tr>\n",
              "\t<tr><td>Brazil     </td><td>1999</td><td>population</td><td>172006362</td></tr>\n",
              "</tbody>\n",
              "</table>\n"
            ]
          },
          "metadata": {}
        }
      ]
    },
    {
      "cell_type": "code",
      "source": [
        "wide_countries <- long_countries %>% pivot_wider(\n",
        "  names_from = type,\n",
        "  values_from = count)\n",
        "wide_countries"
      ],
      "metadata": {
        "colab": {
          "base_uri": "https://localhost:8080/",
          "height": 192
        },
        "id": "HwJQIHXmItoQ",
        "outputId": "cfb072d9-4331-4e95-8248-93082ab81f6b"
      },
      "execution_count": null,
      "outputs": [
        {
          "output_type": "display_data",
          "data": {
            "text/plain": [
              "  country     year cases population\n",
              "1 Afghanistan 1999   745  19987071 \n",
              "2 Afghanistan 2000  2666  20595360 \n",
              "3 Brazil      1999 37737 172006362 "
            ],
            "text/latex": "A tibble: 3 × 4\n\\begin{tabular}{llll}\n country & year & cases & population\\\\\n <chr> & <dbl> & <dbl> & <dbl>\\\\\n\\hline\n\t Afghanistan & 1999 &   745 &  19987071\\\\\n\t Afghanistan & 2000 &  2666 &  20595360\\\\\n\t Brazil      & 1999 & 37737 & 172006362\\\\\n\\end{tabular}\n",
            "text/markdown": "\nA tibble: 3 × 4\n\n| country &lt;chr&gt; | year &lt;dbl&gt; | cases &lt;dbl&gt; | population &lt;dbl&gt; |\n|---|---|---|---|\n| Afghanistan | 1999 |   745 |  19987071 |\n| Afghanistan | 2000 |  2666 |  20595360 |\n| Brazil      | 1999 | 37737 | 172006362 |\n\n",
            "text/html": [
              "<table class=\"dataframe\">\n",
              "<caption>A tibble: 3 × 4</caption>\n",
              "<thead>\n",
              "\t<tr><th scope=col>country</th><th scope=col>year</th><th scope=col>cases</th><th scope=col>population</th></tr>\n",
              "\t<tr><th scope=col>&lt;chr&gt;</th><th scope=col>&lt;dbl&gt;</th><th scope=col>&lt;dbl&gt;</th><th scope=col>&lt;dbl&gt;</th></tr>\n",
              "</thead>\n",
              "<tbody>\n",
              "\t<tr><td>Afghanistan</td><td>1999</td><td>  745</td><td> 19987071</td></tr>\n",
              "\t<tr><td>Afghanistan</td><td>2000</td><td> 2666</td><td> 20595360</td></tr>\n",
              "\t<tr><td>Brazil     </td><td>1999</td><td>37737</td><td>172006362</td></tr>\n",
              "</tbody>\n",
              "</table>\n"
            ]
          },
          "metadata": {}
        }
      ]
    },
    {
      "cell_type": "code",
      "source": [
        "# note: pivot longer and pivot wider aren't *exactly* symmetrical\n",
        "\n",
        "stocks <- tibble(\n",
        "  year   = c(2015, 2015, 2016, 2016),\n",
        "  half  = c(   1,    2,     1,    2),\n",
        "  return = c(1.88, 0.59, 0.92, 0.17)\n",
        ")\n",
        "stocks"
      ],
      "metadata": {
        "id": "3PHiAaLwXRdA",
        "colab": {
          "base_uri": "https://localhost:8080/",
          "height": 224
        },
        "outputId": "11cd4f0c-0cf8-428a-ef0e-06cf56dd5794"
      },
      "execution_count": null,
      "outputs": [
        {
          "output_type": "display_data",
          "data": {
            "text/plain": [
              "  year half return\n",
              "1 2015 1    1.88  \n",
              "2 2015 2    0.59  \n",
              "3 2016 1    0.92  \n",
              "4 2016 2    0.17  "
            ],
            "text/latex": "A tibble: 4 × 3\n\\begin{tabular}{lll}\n year & half & return\\\\\n <dbl> & <dbl> & <dbl>\\\\\n\\hline\n\t 2015 & 1 & 1.88\\\\\n\t 2015 & 2 & 0.59\\\\\n\t 2016 & 1 & 0.92\\\\\n\t 2016 & 2 & 0.17\\\\\n\\end{tabular}\n",
            "text/markdown": "\nA tibble: 4 × 3\n\n| year &lt;dbl&gt; | half &lt;dbl&gt; | return &lt;dbl&gt; |\n|---|---|---|\n| 2015 | 1 | 1.88 |\n| 2015 | 2 | 0.59 |\n| 2016 | 1 | 0.92 |\n| 2016 | 2 | 0.17 |\n\n",
            "text/html": [
              "<table class=\"dataframe\">\n",
              "<caption>A tibble: 4 × 3</caption>\n",
              "<thead>\n",
              "\t<tr><th scope=col>year</th><th scope=col>half</th><th scope=col>return</th></tr>\n",
              "\t<tr><th scope=col>&lt;dbl&gt;</th><th scope=col>&lt;dbl&gt;</th><th scope=col>&lt;dbl&gt;</th></tr>\n",
              "</thead>\n",
              "<tbody>\n",
              "\t<tr><td>2015</td><td>1</td><td>1.88</td></tr>\n",
              "\t<tr><td>2015</td><td>2</td><td>0.59</td></tr>\n",
              "\t<tr><td>2016</td><td>1</td><td>0.92</td></tr>\n",
              "\t<tr><td>2016</td><td>2</td><td>0.17</td></tr>\n",
              "</tbody>\n",
              "</table>\n"
            ]
          },
          "metadata": {}
        }
      ]
    },
    {
      "cell_type": "code",
      "source": [
        "stocks %>% \n",
        "  pivot_wider(names_from = year, values_from = return) %>% \n",
        "  pivot_longer(`2015`:`2016`, names_to = \"year\", values_to = \"return\")"
      ],
      "metadata": {
        "colab": {
          "base_uri": "https://localhost:8080/",
          "height": 224
        },
        "id": "e9KpvSviJebt",
        "outputId": "83085844-f2cb-4383-e63b-da977f2a03f9"
      },
      "execution_count": null,
      "outputs": [
        {
          "output_type": "display_data",
          "data": {
            "text/plain": [
              "  half year return\n",
              "1 1    2015 1.88  \n",
              "2 1    2016 0.92  \n",
              "3 2    2015 0.59  \n",
              "4 2    2016 0.17  "
            ],
            "text/latex": "A tibble: 4 × 3\n\\begin{tabular}{lll}\n half & year & return\\\\\n <dbl> & <chr> & <dbl>\\\\\n\\hline\n\t 1 & 2015 & 1.88\\\\\n\t 1 & 2016 & 0.92\\\\\n\t 2 & 2015 & 0.59\\\\\n\t 2 & 2016 & 0.17\\\\\n\\end{tabular}\n",
            "text/markdown": "\nA tibble: 4 × 3\n\n| half &lt;dbl&gt; | year &lt;chr&gt; | return &lt;dbl&gt; |\n|---|---|---|\n| 1 | 2015 | 1.88 |\n| 1 | 2016 | 0.92 |\n| 2 | 2015 | 0.59 |\n| 2 | 2016 | 0.17 |\n\n",
            "text/html": [
              "<table class=\"dataframe\">\n",
              "<caption>A tibble: 4 × 3</caption>\n",
              "<thead>\n",
              "\t<tr><th scope=col>half</th><th scope=col>year</th><th scope=col>return</th></tr>\n",
              "\t<tr><th scope=col>&lt;dbl&gt;</th><th scope=col>&lt;chr&gt;</th><th scope=col>&lt;dbl&gt;</th></tr>\n",
              "</thead>\n",
              "<tbody>\n",
              "\t<tr><td>1</td><td>2015</td><td>1.88</td></tr>\n",
              "\t<tr><td>1</td><td>2016</td><td>0.92</td></tr>\n",
              "\t<tr><td>2</td><td>2015</td><td>0.59</td></tr>\n",
              "\t<tr><td>2</td><td>2016</td><td>0.17</td></tr>\n",
              "</tbody>\n",
              "</table>\n"
            ]
          },
          "metadata": {}
        }
      ]
    },
    {
      "cell_type": "markdown",
      "metadata": {
        "id": "o_Ccor457XVC"
      },
      "source": [
        "# 4. Exercises on MLB dataset"
      ]
    },
    {
      "cell_type": "code",
      "metadata": {
        "id": "FZ8YnXqX7XVE",
        "colab": {
          "base_uri": "https://localhost:8080/",
          "height": 433
        },
        "outputId": "68d1bf7b-3ea4-4cbb-bfee-8f33c355ed1b"
      },
      "source": [
        "mlb = read_csv('https://raw.githubusercontent.com/enesdilber/stats306_labs/master/lab5/mlb.csv')\n",
        "mlb %>% head"
      ],
      "execution_count": 2,
      "outputs": [
        {
          "output_type": "stream",
          "name": "stderr",
          "text": [
            "\u001b[1mRows: \u001b[22m\u001b[34m1526\u001b[39m \u001b[1mColumns: \u001b[22m\u001b[34m11\u001b[39m\n",
            "\u001b[36m──\u001b[39m \u001b[1mColumn specification\u001b[22m \u001b[36m────────────────────────────────────────────────────────\u001b[39m\n",
            "\u001b[1mDelimiter:\u001b[22m \",\"\n",
            "\u001b[31mchr\u001b[39m (5): name, team, division, BBrate, BB_K\n",
            "\u001b[32mdbl\u001b[39m (6): year, PA, HR, AVG, FB, playerid\n",
            "\n",
            "\u001b[36mℹ\u001b[39m Use `spec()` to retrieve the full column specification for this data.\n",
            "\u001b[36mℹ\u001b[39m Specify the column types or set `show_col_types = FALSE` to quiet this message.\n"
          ]
        },
        {
          "output_type": "display_data",
          "data": {
            "text/plain": [
              "  year name            team    division PA  HR BBrate BB_K  AVG   FB playerid\n",
              "1 2016 Abraham Almonte Indians Central  194 1  4.1 %  8/42  0.264 43  5486   \n",
              "2 2017 Abraham Almonte Indians Central  195 3  10.3 % 20/46 0.233 34  5486   \n",
              "3 2015 Adam Moore      Indians Central    4 0  0.0 %  0/2   0.250  1  9362   \n",
              "4 2016 Adam Moore      Indians Central    5 0  0.0 %  0/4   0.000  1  9362   \n",
              "5 2018 Adam Plutko     Indians Central    2 0  0.0 %  0/0   0.000  0 15846   \n",
              "6 2018 Adam Rosales    Indians Central   21 1  4.8 %  1/5   0.211  7  9682   "
            ],
            "text/latex": "A tibble: 6 × 11\n\\begin{tabular}{lllllllllll}\n year & name & team & division & PA & HR & BBrate & BB\\_K & AVG & FB & playerid\\\\\n <dbl> & <chr> & <chr> & <chr> & <dbl> & <dbl> & <chr> & <chr> & <dbl> & <dbl> & <dbl>\\\\\n\\hline\n\t 2016 & Abraham Almonte & Indians & Central & 194 & 1 & 4.1 \\%  & 8/42  & 0.264 & 43 &  5486\\\\\n\t 2017 & Abraham Almonte & Indians & Central & 195 & 3 & 10.3 \\% & 20/46 & 0.233 & 34 &  5486\\\\\n\t 2015 & Adam Moore      & Indians & Central &   4 & 0 & 0.0 \\%  & 0/2   & 0.250 &  1 &  9362\\\\\n\t 2016 & Adam Moore      & Indians & Central &   5 & 0 & 0.0 \\%  & 0/4   & 0.000 &  1 &  9362\\\\\n\t 2018 & Adam Plutko     & Indians & Central &   2 & 0 & 0.0 \\%  & 0/0   & 0.000 &  0 & 15846\\\\\n\t 2018 & Adam Rosales    & Indians & Central &  21 & 1 & 4.8 \\%  & 1/5   & 0.211 &  7 &  9682\\\\\n\\end{tabular}\n",
            "text/markdown": "\nA tibble: 6 × 11\n\n| year &lt;dbl&gt; | name &lt;chr&gt; | team &lt;chr&gt; | division &lt;chr&gt; | PA &lt;dbl&gt; | HR &lt;dbl&gt; | BBrate &lt;chr&gt; | BB_K &lt;chr&gt; | AVG &lt;dbl&gt; | FB &lt;dbl&gt; | playerid &lt;dbl&gt; |\n|---|---|---|---|---|---|---|---|---|---|---|\n| 2016 | Abraham Almonte | Indians | Central | 194 | 1 | 4.1 %  | 8/42  | 0.264 | 43 |  5486 |\n| 2017 | Abraham Almonte | Indians | Central | 195 | 3 | 10.3 % | 20/46 | 0.233 | 34 |  5486 |\n| 2015 | Adam Moore      | Indians | Central |   4 | 0 | 0.0 %  | 0/2   | 0.250 |  1 |  9362 |\n| 2016 | Adam Moore      | Indians | Central |   5 | 0 | 0.0 %  | 0/4   | 0.000 |  1 |  9362 |\n| 2018 | Adam Plutko     | Indians | Central |   2 | 0 | 0.0 %  | 0/0   | 0.000 |  0 | 15846 |\n| 2018 | Adam Rosales    | Indians | Central |  21 | 1 | 4.8 %  | 1/5   | 0.211 |  7 |  9682 |\n\n",
            "text/html": [
              "<table class=\"dataframe\">\n",
              "<caption>A tibble: 6 × 11</caption>\n",
              "<thead>\n",
              "\t<tr><th scope=col>year</th><th scope=col>name</th><th scope=col>team</th><th scope=col>division</th><th scope=col>PA</th><th scope=col>HR</th><th scope=col>BBrate</th><th scope=col>BB_K</th><th scope=col>AVG</th><th scope=col>FB</th><th scope=col>playerid</th></tr>\n",
              "\t<tr><th scope=col>&lt;dbl&gt;</th><th scope=col>&lt;chr&gt;</th><th scope=col>&lt;chr&gt;</th><th scope=col>&lt;chr&gt;</th><th scope=col>&lt;dbl&gt;</th><th scope=col>&lt;dbl&gt;</th><th scope=col>&lt;chr&gt;</th><th scope=col>&lt;chr&gt;</th><th scope=col>&lt;dbl&gt;</th><th scope=col>&lt;dbl&gt;</th><th scope=col>&lt;dbl&gt;</th></tr>\n",
              "</thead>\n",
              "<tbody>\n",
              "\t<tr><td>2016</td><td>Abraham Almonte</td><td>Indians</td><td>Central</td><td>194</td><td>1</td><td>4.1 % </td><td>8/42 </td><td>0.264</td><td>43</td><td> 5486</td></tr>\n",
              "\t<tr><td>2017</td><td>Abraham Almonte</td><td>Indians</td><td>Central</td><td>195</td><td>3</td><td>10.3 %</td><td>20/46</td><td>0.233</td><td>34</td><td> 5486</td></tr>\n",
              "\t<tr><td>2015</td><td>Adam Moore     </td><td>Indians</td><td>Central</td><td>  4</td><td>0</td><td>0.0 % </td><td>0/2  </td><td>0.250</td><td> 1</td><td> 9362</td></tr>\n",
              "\t<tr><td>2016</td><td>Adam Moore     </td><td>Indians</td><td>Central</td><td>  5</td><td>0</td><td>0.0 % </td><td>0/4  </td><td>0.000</td><td> 1</td><td> 9362</td></tr>\n",
              "\t<tr><td>2018</td><td>Adam Plutko    </td><td>Indians</td><td>Central</td><td>  2</td><td>0</td><td>0.0 % </td><td>0/0  </td><td>0.000</td><td> 0</td><td>15846</td></tr>\n",
              "\t<tr><td>2018</td><td>Adam Rosales   </td><td>Indians</td><td>Central</td><td> 21</td><td>1</td><td>4.8 % </td><td>1/5  </td><td>0.211</td><td> 7</td><td> 9682</td></tr>\n",
              "</tbody>\n",
              "</table>\n"
            ]
          },
          "metadata": {}
        }
      ]
    },
    {
      "cell_type": "markdown",
      "metadata": {
        "id": "GrJ8bMMv7XVF"
      },
      "source": [
        "#### Exercise 1:\n",
        " Calculate the `Home Run to Fly Ball rate (HR/FB)` in total for each team and year. That is $HR\\_FB = \\frac{\\sum HR_i}{\\sum FB_i}$. Make sure you have the division at the final dataset. So  you'll have `division`, `team`, `year` and `HR_FB`."
      ]
    },
    {
      "cell_type": "code",
      "metadata": {
        "id": "OXY2M7lH7XVF",
        "colab": {
          "base_uri": "https://localhost:8080/",
          "height": 323
        },
        "outputId": "90a5798f-e6c3-4e8e-8a8e-43a4aa1bf0bd"
      },
      "source": [
        "df <- mlb %>% group_by(division, team, year) %>% summarize(HR_FB=sum(HR)/sum(FB))\n",
        "head(df)"
      ],
      "execution_count": 3,
      "outputs": [
        {
          "output_type": "stream",
          "name": "stderr",
          "text": [
            "\u001b[1m\u001b[22m`summarise()` has grouped output by 'division', 'team'. You can override using\n",
            "the `.groups` argument.\n"
          ]
        },
        {
          "output_type": "display_data",
          "data": {
            "text/plain": [
              "  division team    year HR_FB     \n",
              "1 Central  Indians 2015 0.09964727\n",
              "2 Central  Indians 2016 0.11984021\n",
              "3 Central  Indians 2017 0.13141026\n",
              "4 Central  Indians 2018 0.12936849\n",
              "5 Central  Royals  2015 0.08997253\n",
              "6 Central  Royals  2016 0.10412148"
            ],
            "text/latex": "A grouped\\_df: 6 × 4\n\\begin{tabular}{llll}\n division & team & year & HR\\_FB\\\\\n <chr> & <chr> & <dbl> & <dbl>\\\\\n\\hline\n\t Central & Indians & 2015 & 0.09964727\\\\\n\t Central & Indians & 2016 & 0.11984021\\\\\n\t Central & Indians & 2017 & 0.13141026\\\\\n\t Central & Indians & 2018 & 0.12936849\\\\\n\t Central & Royals  & 2015 & 0.08997253\\\\\n\t Central & Royals  & 2016 & 0.10412148\\\\\n\\end{tabular}\n",
            "text/markdown": "\nA grouped_df: 6 × 4\n\n| division &lt;chr&gt; | team &lt;chr&gt; | year &lt;dbl&gt; | HR_FB &lt;dbl&gt; |\n|---|---|---|---|\n| Central | Indians | 2015 | 0.09964727 |\n| Central | Indians | 2016 | 0.11984021 |\n| Central | Indians | 2017 | 0.13141026 |\n| Central | Indians | 2018 | 0.12936849 |\n| Central | Royals  | 2015 | 0.08997253 |\n| Central | Royals  | 2016 | 0.10412148 |\n\n",
            "text/html": [
              "<table class=\"dataframe\">\n",
              "<caption>A grouped_df: 6 × 4</caption>\n",
              "<thead>\n",
              "\t<tr><th scope=col>division</th><th scope=col>team</th><th scope=col>year</th><th scope=col>HR_FB</th></tr>\n",
              "\t<tr><th scope=col>&lt;chr&gt;</th><th scope=col>&lt;chr&gt;</th><th scope=col>&lt;dbl&gt;</th><th scope=col>&lt;dbl&gt;</th></tr>\n",
              "</thead>\n",
              "<tbody>\n",
              "\t<tr><td>Central</td><td>Indians</td><td>2015</td><td>0.09964727</td></tr>\n",
              "\t<tr><td>Central</td><td>Indians</td><td>2016</td><td>0.11984021</td></tr>\n",
              "\t<tr><td>Central</td><td>Indians</td><td>2017</td><td>0.13141026</td></tr>\n",
              "\t<tr><td>Central</td><td>Indians</td><td>2018</td><td>0.12936849</td></tr>\n",
              "\t<tr><td>Central</td><td>Royals </td><td>2015</td><td>0.08997253</td></tr>\n",
              "\t<tr><td>Central</td><td>Royals </td><td>2016</td><td>0.10412148</td></tr>\n",
              "</tbody>\n",
              "</table>\n"
            ]
          },
          "metadata": {}
        }
      ]
    },
    {
      "cell_type": "markdown",
      "metadata": {
        "id": "sRJ51Zoq7XVG"
      },
      "source": [
        " #### Exercise 2: \n",
        " Convert this to a wide dataset, so your variables should be `division`, `team`, and `2015-2018`, where values are the `HR/FB` rate. Note that, again, you should ensure that `division` is still in the dataset."
      ]
    },
    {
      "cell_type": "code",
      "metadata": {
        "id": "iJnrqb9E7XVH",
        "colab": {
          "base_uri": "https://localhost:8080/",
          "height": 286
        },
        "outputId": "e5bd1689-b461-482a-b70d-199c2f550b38"
      },
      "source": [
        "df_wide <- df %>% pivot_wider(names_from = year, values_from = HR_FB)\n",
        "head(df_wide)"
      ],
      "execution_count": 4,
      "outputs": [
        {
          "output_type": "display_data",
          "data": {
            "text/plain": [
              "  division team      2015       2016      2017      2018      \n",
              "1 Central  Indians   0.09964727 0.1198402 0.1314103 0.12936849\n",
              "2 Central  Royals    0.08997253 0.1041215 0.1225681 0.10319635\n",
              "3 Central  Tigers    0.09611152 0.1376147 0.1077051 0.09244314\n",
              "4 Central  Twins     0.10641201 0.1308677 0.1312420 0.09869494\n",
              "5 Central  White_Sox 0.10594947 0.1220799 0.1352785 0.13573620\n",
              "6 East     Blue_Jays 0.16168582 0.1460446 0.1417910 0.13721264"
            ],
            "text/latex": "A grouped\\_df: 6 × 6\n\\begin{tabular}{llllll}\n division & team & 2015 & 2016 & 2017 & 2018\\\\\n <chr> & <chr> & <dbl> & <dbl> & <dbl> & <dbl>\\\\\n\\hline\n\t Central & Indians   & 0.09964727 & 0.1198402 & 0.1314103 & 0.12936849\\\\\n\t Central & Royals    & 0.08997253 & 0.1041215 & 0.1225681 & 0.10319635\\\\\n\t Central & Tigers    & 0.09611152 & 0.1376147 & 0.1077051 & 0.09244314\\\\\n\t Central & Twins     & 0.10641201 & 0.1308677 & 0.1312420 & 0.09869494\\\\\n\t Central & White\\_Sox & 0.10594947 & 0.1220799 & 0.1352785 & 0.13573620\\\\\n\t East    & Blue\\_Jays & 0.16168582 & 0.1460446 & 0.1417910 & 0.13721264\\\\\n\\end{tabular}\n",
            "text/markdown": "\nA grouped_df: 6 × 6\n\n| division &lt;chr&gt; | team &lt;chr&gt; | 2015 &lt;dbl&gt; | 2016 &lt;dbl&gt; | 2017 &lt;dbl&gt; | 2018 &lt;dbl&gt; |\n|---|---|---|---|---|---|\n| Central | Indians   | 0.09964727 | 0.1198402 | 0.1314103 | 0.12936849 |\n| Central | Royals    | 0.08997253 | 0.1041215 | 0.1225681 | 0.10319635 |\n| Central | Tigers    | 0.09611152 | 0.1376147 | 0.1077051 | 0.09244314 |\n| Central | Twins     | 0.10641201 | 0.1308677 | 0.1312420 | 0.09869494 |\n| Central | White_Sox | 0.10594947 | 0.1220799 | 0.1352785 | 0.13573620 |\n| East    | Blue_Jays | 0.16168582 | 0.1460446 | 0.1417910 | 0.13721264 |\n\n",
            "text/html": [
              "<table class=\"dataframe\">\n",
              "<caption>A grouped_df: 6 × 6</caption>\n",
              "<thead>\n",
              "\t<tr><th scope=col>division</th><th scope=col>team</th><th scope=col>2015</th><th scope=col>2016</th><th scope=col>2017</th><th scope=col>2018</th></tr>\n",
              "\t<tr><th scope=col>&lt;chr&gt;</th><th scope=col>&lt;chr&gt;</th><th scope=col>&lt;dbl&gt;</th><th scope=col>&lt;dbl&gt;</th><th scope=col>&lt;dbl&gt;</th><th scope=col>&lt;dbl&gt;</th></tr>\n",
              "</thead>\n",
              "<tbody>\n",
              "\t<tr><td>Central</td><td>Indians  </td><td>0.09964727</td><td>0.1198402</td><td>0.1314103</td><td>0.12936849</td></tr>\n",
              "\t<tr><td>Central</td><td>Royals   </td><td>0.08997253</td><td>0.1041215</td><td>0.1225681</td><td>0.10319635</td></tr>\n",
              "\t<tr><td>Central</td><td>Tigers   </td><td>0.09611152</td><td>0.1376147</td><td>0.1077051</td><td>0.09244314</td></tr>\n",
              "\t<tr><td>Central</td><td>Twins    </td><td>0.10641201</td><td>0.1308677</td><td>0.1312420</td><td>0.09869494</td></tr>\n",
              "\t<tr><td>Central</td><td>White_Sox</td><td>0.10594947</td><td>0.1220799</td><td>0.1352785</td><td>0.13573620</td></tr>\n",
              "\t<tr><td>East   </td><td>Blue_Jays</td><td>0.16168582</td><td>0.1460446</td><td>0.1417910</td><td>0.13721264</td></tr>\n",
              "</tbody>\n",
              "</table>\n"
            ]
          },
          "metadata": {}
        }
      ]
    },
    {
      "cell_type": "markdown",
      "metadata": {
        "id": "N1tcTLV67XVI"
      },
      "source": [
        " #### Exercise 3:\n",
        " Create a variable called `increased`, which checks if the `HR/FB` rate was higher in 2018 than it was in 2015 for that team."
      ]
    },
    {
      "cell_type": "code",
      "metadata": {
        "id": "MSNDkwDU7XVJ",
        "colab": {
          "base_uri": "https://localhost:8080/",
          "height": 569
        },
        "outputId": "1a30a36c-cdd4-46d7-d53f-654a1f02465a"
      },
      "source": [
        "df_wide <- df_wide %>% mutate(increased = `2018`>`2015`)\n",
        "head(df_wide, 15)"
      ],
      "execution_count": 5,
      "outputs": [
        {
          "output_type": "display_data",
          "data": {
            "text/plain": [
              "   division team      2015       2016      2017      2018       increased\n",
              "1  Central  Indians   0.09964727 0.1198402 0.1314103 0.12936849  TRUE    \n",
              "2  Central  Royals    0.08997253 0.1041215 0.1225681 0.10319635  TRUE    \n",
              "3  Central  Tigers    0.09611152 0.1376147 0.1077051 0.09244314 FALSE    \n",
              "4  Central  Twins     0.10641201 0.1308677 0.1312420 0.09869494 FALSE    \n",
              "5  Central  White_Sox 0.10594947 0.1220799 0.1352785 0.13573620  TRUE    \n",
              "6  East     Blue_Jays 0.16168582 0.1460446 0.1417910 0.13721264 FALSE    \n",
              "7  East     Orioles   0.14992722 0.1571610 0.1524138 0.12285714 FALSE    \n",
              "8  East     Rays      0.11355311 0.1395179 0.1588862 0.10292634 FALSE    \n",
              "9  East     Red_Sox   0.11068111 0.1353482 0.1067762 0.13297872  TRUE    \n",
              "10 East     Yankees   0.12690665 0.1190476 0.1556157 0.16188525  TRUE    \n",
              "11 West     Angels    0.12264151 0.1029900 0.1278079 0.14545455  TRUE    \n",
              "12 West     Astros    0.14814815 0.1432814 0.1433869 0.12697410 FALSE    \n",
              "13 West     Athletics 0.08695652 0.1151920 0.1479150 0.13774272  TRUE    \n",
              "14 West     Mariners  0.13852459 0.1563611 0.1294278 0.12296296 FALSE    \n",
              "15 West     Rangers   0.11508220 0.1407579 0.1682379 0.14190687  TRUE    "
            ],
            "text/latex": "A grouped\\_df: 15 × 7\n\\begin{tabular}{lllllll}\n division & team & 2015 & 2016 & 2017 & 2018 & increased\\\\\n <chr> & <chr> & <dbl> & <dbl> & <dbl> & <dbl> & <lgl>\\\\\n\\hline\n\t Central & Indians   & 0.09964727 & 0.1198402 & 0.1314103 & 0.12936849 &  TRUE\\\\\n\t Central & Royals    & 0.08997253 & 0.1041215 & 0.1225681 & 0.10319635 &  TRUE\\\\\n\t Central & Tigers    & 0.09611152 & 0.1376147 & 0.1077051 & 0.09244314 & FALSE\\\\\n\t Central & Twins     & 0.10641201 & 0.1308677 & 0.1312420 & 0.09869494 & FALSE\\\\\n\t Central & White\\_Sox & 0.10594947 & 0.1220799 & 0.1352785 & 0.13573620 &  TRUE\\\\\n\t East    & Blue\\_Jays & 0.16168582 & 0.1460446 & 0.1417910 & 0.13721264 & FALSE\\\\\n\t East    & Orioles   & 0.14992722 & 0.1571610 & 0.1524138 & 0.12285714 & FALSE\\\\\n\t East    & Rays      & 0.11355311 & 0.1395179 & 0.1588862 & 0.10292634 & FALSE\\\\\n\t East    & Red\\_Sox   & 0.11068111 & 0.1353482 & 0.1067762 & 0.13297872 &  TRUE\\\\\n\t East    & Yankees   & 0.12690665 & 0.1190476 & 0.1556157 & 0.16188525 &  TRUE\\\\\n\t West    & Angels    & 0.12264151 & 0.1029900 & 0.1278079 & 0.14545455 &  TRUE\\\\\n\t West    & Astros    & 0.14814815 & 0.1432814 & 0.1433869 & 0.12697410 & FALSE\\\\\n\t West    & Athletics & 0.08695652 & 0.1151920 & 0.1479150 & 0.13774272 &  TRUE\\\\\n\t West    & Mariners  & 0.13852459 & 0.1563611 & 0.1294278 & 0.12296296 & FALSE\\\\\n\t West    & Rangers   & 0.11508220 & 0.1407579 & 0.1682379 & 0.14190687 &  TRUE\\\\\n\\end{tabular}\n",
            "text/markdown": "\nA grouped_df: 15 × 7\n\n| division &lt;chr&gt; | team &lt;chr&gt; | 2015 &lt;dbl&gt; | 2016 &lt;dbl&gt; | 2017 &lt;dbl&gt; | 2018 &lt;dbl&gt; | increased &lt;lgl&gt; |\n|---|---|---|---|---|---|---|\n| Central | Indians   | 0.09964727 | 0.1198402 | 0.1314103 | 0.12936849 |  TRUE |\n| Central | Royals    | 0.08997253 | 0.1041215 | 0.1225681 | 0.10319635 |  TRUE |\n| Central | Tigers    | 0.09611152 | 0.1376147 | 0.1077051 | 0.09244314 | FALSE |\n| Central | Twins     | 0.10641201 | 0.1308677 | 0.1312420 | 0.09869494 | FALSE |\n| Central | White_Sox | 0.10594947 | 0.1220799 | 0.1352785 | 0.13573620 |  TRUE |\n| East    | Blue_Jays | 0.16168582 | 0.1460446 | 0.1417910 | 0.13721264 | FALSE |\n| East    | Orioles   | 0.14992722 | 0.1571610 | 0.1524138 | 0.12285714 | FALSE |\n| East    | Rays      | 0.11355311 | 0.1395179 | 0.1588862 | 0.10292634 | FALSE |\n| East    | Red_Sox   | 0.11068111 | 0.1353482 | 0.1067762 | 0.13297872 |  TRUE |\n| East    | Yankees   | 0.12690665 | 0.1190476 | 0.1556157 | 0.16188525 |  TRUE |\n| West    | Angels    | 0.12264151 | 0.1029900 | 0.1278079 | 0.14545455 |  TRUE |\n| West    | Astros    | 0.14814815 | 0.1432814 | 0.1433869 | 0.12697410 | FALSE |\n| West    | Athletics | 0.08695652 | 0.1151920 | 0.1479150 | 0.13774272 |  TRUE |\n| West    | Mariners  | 0.13852459 | 0.1563611 | 0.1294278 | 0.12296296 | FALSE |\n| West    | Rangers   | 0.11508220 | 0.1407579 | 0.1682379 | 0.14190687 |  TRUE |\n\n",
            "text/html": [
              "<table class=\"dataframe\">\n",
              "<caption>A grouped_df: 15 × 7</caption>\n",
              "<thead>\n",
              "\t<tr><th scope=col>division</th><th scope=col>team</th><th scope=col>2015</th><th scope=col>2016</th><th scope=col>2017</th><th scope=col>2018</th><th scope=col>increased</th></tr>\n",
              "\t<tr><th scope=col>&lt;chr&gt;</th><th scope=col>&lt;chr&gt;</th><th scope=col>&lt;dbl&gt;</th><th scope=col>&lt;dbl&gt;</th><th scope=col>&lt;dbl&gt;</th><th scope=col>&lt;dbl&gt;</th><th scope=col>&lt;lgl&gt;</th></tr>\n",
              "</thead>\n",
              "<tbody>\n",
              "\t<tr><td>Central</td><td>Indians  </td><td>0.09964727</td><td>0.1198402</td><td>0.1314103</td><td>0.12936849</td><td> TRUE</td></tr>\n",
              "\t<tr><td>Central</td><td>Royals   </td><td>0.08997253</td><td>0.1041215</td><td>0.1225681</td><td>0.10319635</td><td> TRUE</td></tr>\n",
              "\t<tr><td>Central</td><td>Tigers   </td><td>0.09611152</td><td>0.1376147</td><td>0.1077051</td><td>0.09244314</td><td>FALSE</td></tr>\n",
              "\t<tr><td>Central</td><td>Twins    </td><td>0.10641201</td><td>0.1308677</td><td>0.1312420</td><td>0.09869494</td><td>FALSE</td></tr>\n",
              "\t<tr><td>Central</td><td>White_Sox</td><td>0.10594947</td><td>0.1220799</td><td>0.1352785</td><td>0.13573620</td><td> TRUE</td></tr>\n",
              "\t<tr><td>East   </td><td>Blue_Jays</td><td>0.16168582</td><td>0.1460446</td><td>0.1417910</td><td>0.13721264</td><td>FALSE</td></tr>\n",
              "\t<tr><td>East   </td><td>Orioles  </td><td>0.14992722</td><td>0.1571610</td><td>0.1524138</td><td>0.12285714</td><td>FALSE</td></tr>\n",
              "\t<tr><td>East   </td><td>Rays     </td><td>0.11355311</td><td>0.1395179</td><td>0.1588862</td><td>0.10292634</td><td>FALSE</td></tr>\n",
              "\t<tr><td>East   </td><td>Red_Sox  </td><td>0.11068111</td><td>0.1353482</td><td>0.1067762</td><td>0.13297872</td><td> TRUE</td></tr>\n",
              "\t<tr><td>East   </td><td>Yankees  </td><td>0.12690665</td><td>0.1190476</td><td>0.1556157</td><td>0.16188525</td><td> TRUE</td></tr>\n",
              "\t<tr><td>West   </td><td>Angels   </td><td>0.12264151</td><td>0.1029900</td><td>0.1278079</td><td>0.14545455</td><td> TRUE</td></tr>\n",
              "\t<tr><td>West   </td><td>Astros   </td><td>0.14814815</td><td>0.1432814</td><td>0.1433869</td><td>0.12697410</td><td>FALSE</td></tr>\n",
              "\t<tr><td>West   </td><td>Athletics</td><td>0.08695652</td><td>0.1151920</td><td>0.1479150</td><td>0.13774272</td><td> TRUE</td></tr>\n",
              "\t<tr><td>West   </td><td>Mariners </td><td>0.13852459</td><td>0.1563611</td><td>0.1294278</td><td>0.12296296</td><td>FALSE</td></tr>\n",
              "\t<tr><td>West   </td><td>Rangers  </td><td>0.11508220</td><td>0.1407579</td><td>0.1682379</td><td>0.14190687</td><td> TRUE</td></tr>\n",
              "</tbody>\n",
              "</table>\n"
            ]
          },
          "metadata": {}
        }
      ]
    },
    {
      "cell_type": "markdown",
      "metadata": {
        "id": "-jK74LnC7XVK"
      },
      "source": [
        "#### Exercise 4:\n",
        "Calculate the correlation between each year with the following year. That is $\\rho_{2015, 2016}, \\rho_{2016, 2017}, \\rho_{2017, 2018}$.\n",
        "\n",
        "(Hint: use the `cor` function along with `summarise`.)"
      ]
    },
    {
      "cell_type": "code",
      "metadata": {
        "id": "R6KChetC7XVK",
        "colab": {
          "base_uri": "https://localhost:8080/",
          "height": 129
        },
        "outputId": "02cd1e81-f259-49e3-81cb-36066a06fe5c"
      },
      "source": [
        "# approach 1\n",
        "df_wide %>% group_by(.) %>%\n",
        "  summarise(`2015-2016` = cor(`2015`, `2016`),\n",
        "          `2016-2017` = cor(`2016`, `2017`),\n",
        "          `2017-2018` = cor(`2017`, `2018`))"
      ],
      "execution_count": 6,
      "outputs": [
        {
          "output_type": "display_data",
          "data": {
            "text/plain": [
              "  2015-2016 2016-2017 2017-2018\n",
              "1 0.6381773 0.2025801 0.3866467"
            ],
            "text/latex": "A tibble: 1 × 3\n\\begin{tabular}{lll}\n 2015-2016 & 2016-2017 & 2017-2018\\\\\n <dbl> & <dbl> & <dbl>\\\\\n\\hline\n\t 0.6381773 & 0.2025801 & 0.3866467\\\\\n\\end{tabular}\n",
            "text/markdown": "\nA tibble: 1 × 3\n\n| 2015-2016 &lt;dbl&gt; | 2016-2017 &lt;dbl&gt; | 2017-2018 &lt;dbl&gt; |\n|---|---|---|\n| 0.6381773 | 0.2025801 | 0.3866467 |\n\n",
            "text/html": [
              "<table class=\"dataframe\">\n",
              "<caption>A tibble: 1 × 3</caption>\n",
              "<thead>\n",
              "\t<tr><th scope=col>2015-2016</th><th scope=col>2016-2017</th><th scope=col>2017-2018</th></tr>\n",
              "\t<tr><th scope=col>&lt;dbl&gt;</th><th scope=col>&lt;dbl&gt;</th><th scope=col>&lt;dbl&gt;</th></tr>\n",
              "</thead>\n",
              "<tbody>\n",
              "\t<tr><td>0.6381773</td><td>0.2025801</td><td>0.3866467</td></tr>\n",
              "</tbody>\n",
              "</table>\n"
            ]
          },
          "metadata": {}
        }
      ]
    },
    {
      "cell_type": "code",
      "source": [
        "# approach 2\n",
        "df_wide %>% ungroup %>%\n",
        "  summarise(`2015-2016` = cor(`2015`, `2016`),\n",
        "          `2016-2017` = cor(`2016`, `2017`),\n",
        "          `2017-2018` = cor(`2017`, `2018`))"
      ],
      "metadata": {
        "colab": {
          "base_uri": "https://localhost:8080/",
          "height": 129
        },
        "id": "kxIufP_UzjSG",
        "outputId": "c7b246b8-48e8-4ced-f4bd-621f9472b067"
      },
      "execution_count": 7,
      "outputs": [
        {
          "output_type": "display_data",
          "data": {
            "text/plain": [
              "  2015-2016 2016-2017 2017-2018\n",
              "1 0.6381773 0.2025801 0.3866467"
            ],
            "text/latex": "A tibble: 1 × 3\n\\begin{tabular}{lll}\n 2015-2016 & 2016-2017 & 2017-2018\\\\\n <dbl> & <dbl> & <dbl>\\\\\n\\hline\n\t 0.6381773 & 0.2025801 & 0.3866467\\\\\n\\end{tabular}\n",
            "text/markdown": "\nA tibble: 1 × 3\n\n| 2015-2016 &lt;dbl&gt; | 2016-2017 &lt;dbl&gt; | 2017-2018 &lt;dbl&gt; |\n|---|---|---|\n| 0.6381773 | 0.2025801 | 0.3866467 |\n\n",
            "text/html": [
              "<table class=\"dataframe\">\n",
              "<caption>A tibble: 1 × 3</caption>\n",
              "<thead>\n",
              "\t<tr><th scope=col>2015-2016</th><th scope=col>2016-2017</th><th scope=col>2017-2018</th></tr>\n",
              "\t<tr><th scope=col>&lt;dbl&gt;</th><th scope=col>&lt;dbl&gt;</th><th scope=col>&lt;dbl&gt;</th></tr>\n",
              "</thead>\n",
              "<tbody>\n",
              "\t<tr><td>0.6381773</td><td>0.2025801</td><td>0.3866467</td></tr>\n",
              "</tbody>\n",
              "</table>\n"
            ]
          },
          "metadata": {}
        }
      ]
    },
    {
      "cell_type": "markdown",
      "metadata": {
        "id": "Kj364SrH7XVL"
      },
      "source": [
        "#### Exercise 5:\n",
        "Turn `df_wide` back into a \"long\" dataset called `df_long`."
      ]
    },
    {
      "cell_type": "code",
      "metadata": {
        "id": "PjH9fjcD7XVL",
        "colab": {
          "base_uri": "https://localhost:8080/",
          "height": 286
        },
        "outputId": "968bc8ee-5582-4f4a-e43d-96902a34144b"
      },
      "source": [
        "df_long <- df_wide %>% \n",
        "  pivot_longer(`2015`:`2018`, names_to = \"year\", values_to = \"HR_FB\")\n",
        "  head(df_long)"
      ],
      "execution_count": 8,
      "outputs": [
        {
          "output_type": "display_data",
          "data": {
            "text/plain": [
              "  division team    increased year HR_FB     \n",
              "1 Central  Indians TRUE      2015 0.09964727\n",
              "2 Central  Indians TRUE      2016 0.11984021\n",
              "3 Central  Indians TRUE      2017 0.13141026\n",
              "4 Central  Indians TRUE      2018 0.12936849\n",
              "5 Central  Royals  TRUE      2015 0.08997253\n",
              "6 Central  Royals  TRUE      2016 0.10412148"
            ],
            "text/latex": "A grouped\\_df: 6 × 5\n\\begin{tabular}{lllll}\n division & team & increased & year & HR\\_FB\\\\\n <chr> & <chr> & <lgl> & <chr> & <dbl>\\\\\n\\hline\n\t Central & Indians & TRUE & 2015 & 0.09964727\\\\\n\t Central & Indians & TRUE & 2016 & 0.11984021\\\\\n\t Central & Indians & TRUE & 2017 & 0.13141026\\\\\n\t Central & Indians & TRUE & 2018 & 0.12936849\\\\\n\t Central & Royals  & TRUE & 2015 & 0.08997253\\\\\n\t Central & Royals  & TRUE & 2016 & 0.10412148\\\\\n\\end{tabular}\n",
            "text/markdown": "\nA grouped_df: 6 × 5\n\n| division &lt;chr&gt; | team &lt;chr&gt; | increased &lt;lgl&gt; | year &lt;chr&gt; | HR_FB &lt;dbl&gt; |\n|---|---|---|---|---|\n| Central | Indians | TRUE | 2015 | 0.09964727 |\n| Central | Indians | TRUE | 2016 | 0.11984021 |\n| Central | Indians | TRUE | 2017 | 0.13141026 |\n| Central | Indians | TRUE | 2018 | 0.12936849 |\n| Central | Royals  | TRUE | 2015 | 0.08997253 |\n| Central | Royals  | TRUE | 2016 | 0.10412148 |\n\n",
            "text/html": [
              "<table class=\"dataframe\">\n",
              "<caption>A grouped_df: 6 × 5</caption>\n",
              "<thead>\n",
              "\t<tr><th scope=col>division</th><th scope=col>team</th><th scope=col>increased</th><th scope=col>year</th><th scope=col>HR_FB</th></tr>\n",
              "\t<tr><th scope=col>&lt;chr&gt;</th><th scope=col>&lt;chr&gt;</th><th scope=col>&lt;lgl&gt;</th><th scope=col>&lt;chr&gt;</th><th scope=col>&lt;dbl&gt;</th></tr>\n",
              "</thead>\n",
              "<tbody>\n",
              "\t<tr><td>Central</td><td>Indians</td><td>TRUE</td><td>2015</td><td>0.09964727</td></tr>\n",
              "\t<tr><td>Central</td><td>Indians</td><td>TRUE</td><td>2016</td><td>0.11984021</td></tr>\n",
              "\t<tr><td>Central</td><td>Indians</td><td>TRUE</td><td>2017</td><td>0.13141026</td></tr>\n",
              "\t<tr><td>Central</td><td>Indians</td><td>TRUE</td><td>2018</td><td>0.12936849</td></tr>\n",
              "\t<tr><td>Central</td><td>Royals </td><td>TRUE</td><td>2015</td><td>0.08997253</td></tr>\n",
              "\t<tr><td>Central</td><td>Royals </td><td>TRUE</td><td>2016</td><td>0.10412148</td></tr>\n",
              "</tbody>\n",
              "</table>\n"
            ]
          },
          "metadata": {}
        }
      ]
    },
    {
      "cell_type": "markdown",
      "metadata": {
        "id": "fBMTe51l7XVM"
      },
      "source": [
        "#### Exercise 6:\n",
        "Using df_long, create a faceted line plot of `HR/FB` rate on `year`. Color it by `team`, facet it by `division`, and choose the linetype according to the `increased` variable."
      ]
    },
    {
      "cell_type": "code",
      "metadata": {
        "id": "sSq60zyT7XVN",
        "colab": {
          "base_uri": "https://localhost:8080/",
          "height": 437
        },
        "outputId": "effe8b4a-c627-4693-deb1-d32779a5e654"
      },
      "source": [
        "ggplot(df_long, aes(color=team, linetype=increased, x=as.integer(year), y=HR_FB)) + \n",
        "    geom_line() + xlab(\"Year\") + ylab(\"Home Run to Fly Ball Ratio\") + \n",
        "    facet_wrap(~ division, nrow=3)"
      ],
      "execution_count": 9,
      "outputs": [
        {
          "output_type": "display_data",
          "data": {
            "image/png": "[encoded data removed]",
            "text/plain": [
              "plot without title"
            ]
          },
          "metadata": {
            "image/png": {
              "width": 420,
              "height": 420
            }
          }
        }
      ]
    },
    {
      "cell_type": "code",
      "source": [
        ""
      ],
      "metadata": {
        "id": "yxhK89Fgzxxa"
      },
      "execution_count": null,
      "outputs": []
    }
  ]
}