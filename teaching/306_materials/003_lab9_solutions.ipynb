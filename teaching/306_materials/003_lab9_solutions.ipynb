{
  "nbformat": 4,
  "nbformat_minor": 0,
  "metadata": {
    "kernelspec": {
      "display_name": "R",
      "language": "R",
      "name": "ir"
    },
    "language_info": {
      "codemirror_mode": "r",
      "file_extension": ".r",
      "mimetype": "text/x-r-source",
      "name": "R",
      "pygments_lexer": "r",
      "version": "3.6.1"
    },
    "colab": {
      "name": "003_lab9_solutions.ipynb",
      "provenance": [],
      "collapsed_sections": [
        "ncS6YnVjKzss"
      ],
      "include_colab_link": true
    }
  },
  "cells": [
    {
      "cell_type": "markdown",
      "metadata": {
        "id": "view-in-github",
        "colab_type": "text"
      },
      "source": [
        "<a href=\"https://colab.research.google.com/github/chathasphere/chathasphere.github.io/blob/main/teaching/306_materials/003_lab9_solutions.ipynb\" target=\"_parent\"><img src=\"https://colab.research.google.com/assets/colab-badge.svg\" alt=\"Open In Colab\"/></a>"
      ]
    },
    {
      "cell_type": "markdown",
      "metadata": {
        "id": "3HapUIdaKzsm"
      },
      "source": [
        "# Lab 9: \tPracticing Functions"
      ]
    },
    {
      "cell_type": "code",
      "metadata": {
        "scrolled": false,
        "id": "8DBadPqFKzso",
        "colab": {
          "base_uri": "https://localhost:8080/"
        },
        "outputId": "d40389c8-b95f-4610-c1a8-6dd53c088868"
      },
      "source": [
        "library(tidyverse)\n",
        "library(stringr)\n",
        "library(forcats)\n",
        "library(lubridate)"
      ],
      "execution_count": 1,
      "outputs": [
        {
          "output_type": "stream",
          "name": "stderr",
          "text": [
            "Warning message in system(\"timedatectl\", intern = TRUE):\n",
            "“running command 'timedatectl' had status 1”\n",
            "── \u001b[1mAttaching packages\u001b[22m ─────────────────────────────────────── tidyverse 1.3.1 ──\n",
            "\n",
            "\u001b[32m✔\u001b[39m \u001b[34mggplot2\u001b[39m 3.3.5     \u001b[32m✔\u001b[39m \u001b[34mpurrr  \u001b[39m 0.3.4\n",
            "\u001b[32m✔\u001b[39m \u001b[34mtibble \u001b[39m 3.1.6     \u001b[32m✔\u001b[39m \u001b[34mdplyr  \u001b[39m 1.0.8\n",
            "\u001b[32m✔\u001b[39m \u001b[34mtidyr  \u001b[39m 1.2.0     \u001b[32m✔\u001b[39m \u001b[34mstringr\u001b[39m 1.4.0\n",
            "\u001b[32m✔\u001b[39m \u001b[34mreadr  \u001b[39m 2.1.2     \u001b[32m✔\u001b[39m \u001b[34mforcats\u001b[39m 0.5.1\n",
            "\n",
            "── \u001b[1mConflicts\u001b[22m ────────────────────────────────────────── tidyverse_conflicts() ──\n",
            "\u001b[31m✖\u001b[39m \u001b[34mdplyr\u001b[39m::\u001b[32mfilter()\u001b[39m masks \u001b[34mstats\u001b[39m::filter()\n",
            "\u001b[31m✖\u001b[39m \u001b[34mdplyr\u001b[39m::\u001b[32mlag()\u001b[39m    masks \u001b[34mstats\u001b[39m::lag()\n",
            "\n",
            "\n",
            "Attaching package: ‘lubridate’\n",
            "\n",
            "\n",
            "The following objects are masked from ‘package:base’:\n",
            "\n",
            "    date, intersect, setdiff, union\n",
            "\n",
            "\n"
          ]
        }
      ]
    },
    {
      "cell_type": "markdown",
      "source": [
        "# 0. Warmup\n",
        "\n",
        "Can we count all the prime numbers in the first *n* integers?"
      ],
      "metadata": {
        "id": "H0avBYALDEt_"
      }
    },
    {
      "cell_type": "code",
      "metadata": {
        "id": "4vS9UW-kKzsz"
      },
      "source": [
        "# a helper fn\n",
        "is.prime <- function(num) {\n",
        "   if (num == 2) {\n",
        "      return (TRUE)\n",
        "   } else if (any(num %% 2:(num-1) == 0)) {\n",
        "      return (FALSE)\n",
        "   } else { \n",
        "      return (TRUE)\n",
        "   }\n",
        "}"
      ],
      "execution_count": 2,
      "outputs": []
    },
    {
      "cell_type": "code",
      "source": [
        "is.prime(6); is.prime(13)"
      ],
      "metadata": {
        "id": "dtuBkfHZD_Py",
        "colab": {
          "base_uri": "https://localhost:8080/",
          "height": 52
        },
        "outputId": "518132c4-a628-4722-a61e-ea5e1436d302"
      },
      "execution_count": null,
      "outputs": [
        {
          "output_type": "display_data",
          "data": {
            "text/html": [
              "FALSE"
            ],
            "text/markdown": "FALSE",
            "text/latex": "FALSE",
            "text/plain": [
              "[1] FALSE"
            ]
          },
          "metadata": {}
        },
        {
          "output_type": "display_data",
          "data": {
            "text/html": [
              "TRUE"
            ],
            "text/markdown": "TRUE",
            "text/latex": "TRUE",
            "text/plain": [
              "[1] TRUE"
            ]
          },
          "metadata": {}
        }
      ]
    },
    {
      "cell_type": "code",
      "source": [
        "6 %% 3"
      ],
      "metadata": {
        "colab": {
          "base_uri": "https://localhost:8080/",
          "height": 34
        },
        "id": "pvMAF3ZAAX5O",
        "outputId": "79588c3e-1af9-4b38-b9f9-e9bb73b1d189"
      },
      "execution_count": null,
      "outputs": [
        {
          "output_type": "display_data",
          "data": {
            "text/html": [
              "0"
            ],
            "text/markdown": "0",
            "text/latex": "0",
            "text/plain": [
              "[1] 0"
            ]
          },
          "metadata": {}
        }
      ]
    },
    {
      "cell_type": "code",
      "metadata": {
        "id": "9dX7rLI0Nk1O",
        "colab": {
          "base_uri": "https://localhost:8080/",
          "height": 34
        },
        "outputId": "552637d6-0c48-4909-b696-fefa0a29f185"
      },
      "source": [
        "# reviewing syntax of remainder operator\n",
        "num = 7\n",
        "num %% 2:(num-1)\n",
        "# remainder of 7 and (2, 3, 4, 5, 6)"
      ],
      "execution_count": null,
      "outputs": [
        {
          "output_type": "display_data",
          "data": {
            "text/html": [
              "<style>\n",
              ".list-inline {list-style: none; margin:0; padding: 0}\n",
              ".list-inline>li {display: inline-block}\n",
              ".list-inline>li:not(:last-child)::after {content: \"\\00b7\"; padding: 0 .5ex}\n",
              "</style>\n",
              "<ol class=list-inline><li>1</li><li>1</li><li>3</li><li>2</li><li>1</li></ol>\n"
            ],
            "text/markdown": "1. 1\n2. 1\n3. 3\n4. 2\n5. 1\n\n\n",
            "text/latex": "\\begin{enumerate*}\n\\item 1\n\\item 1\n\\item 3\n\\item 2\n\\item 1\n\\end{enumerate*}\n",
            "text/plain": [
              "[1] 1 1 3 2 1"
            ]
          },
          "metadata": {}
        }
      ]
    },
    {
      "cell_type": "code",
      "metadata": {
        "id": "AaAMv5lJKzs0"
      },
      "source": [
        "# main function\n",
        "prime.counter <- function(n){\n",
        "    total = 0 # start the counter\n",
        "    for(num in 2:n){\n",
        "        total = total + is.prime(num)\n",
        "    }\n",
        "    return(total)\n",
        "}"
      ],
      "execution_count": null,
      "outputs": []
    },
    {
      "cell_type": "code",
      "source": [
        "prime.counter(10); prime.counter(20); prime.counter(30)"
      ],
      "metadata": {
        "id": "tgPmS5kGEHot",
        "colab": {
          "base_uri": "https://localhost:8080/",
          "height": 69
        },
        "outputId": "6e1170f7-090c-4357-beb0-b91533d8ecc1"
      },
      "execution_count": null,
      "outputs": [
        {
          "output_type": "display_data",
          "data": {
            "text/html": [
              "4"
            ],
            "text/markdown": "4",
            "text/latex": "4",
            "text/plain": [
              "[1] 4"
            ]
          },
          "metadata": {}
        },
        {
          "output_type": "display_data",
          "data": {
            "text/html": [
              "8"
            ],
            "text/markdown": "8",
            "text/latex": "8",
            "text/plain": [
              "[1] 8"
            ]
          },
          "metadata": {}
        },
        {
          "output_type": "display_data",
          "data": {
            "text/html": [
              "10"
            ],
            "text/markdown": "10",
            "text/latex": "10",
            "text/plain": [
              "[1] 10"
            ]
          },
          "metadata": {}
        }
      ]
    },
    {
      "cell_type": "markdown",
      "metadata": {
        "id": "ArhsgvfwKzsy"
      },
      "source": [
        "## 0.1 Mapping"
      ]
    },
    {
      "cell_type": "code",
      "source": [
        "# base R version of mapping\n",
        "sapply(c(10, 20, 30), prime.counter)"
      ],
      "metadata": {
        "id": "ZyQhBSHdFmeH",
        "colab": {
          "base_uri": "https://localhost:8080/",
          "height": 34
        },
        "outputId": "84c9f0f9-e2d9-4ab1-da79-c818f18972c0"
      },
      "execution_count": null,
      "outputs": [
        {
          "output_type": "display_data",
          "data": {
            "text/html": [
              "<style>\n",
              ".list-inline {list-style: none; margin:0; padding: 0}\n",
              ".list-inline>li {display: inline-block}\n",
              ".list-inline>li:not(:last-child)::after {content: \"\\00b7\"; padding: 0 .5ex}\n",
              "</style>\n",
              "<ol class=list-inline><li>4</li><li>8</li><li>10</li></ol>\n"
            ],
            "text/markdown": "1. 4\n2. 8\n3. 10\n\n\n",
            "text/latex": "\\begin{enumerate*}\n\\item 4\n\\item 8\n\\item 10\n\\end{enumerate*}\n",
            "text/plain": [
              "[1]  4  8 10"
            ]
          },
          "metadata": {}
        }
      ]
    },
    {
      "cell_type": "code",
      "source": [
        "lapply(c(10, 20, 30), prime.counter)"
      ],
      "metadata": {
        "colab": {
          "base_uri": "https://localhost:8080/",
          "height": 97
        },
        "id": "rx0mzCS6BMLc",
        "outputId": "361e0128-f607-4928-ac15-764f0ce37015"
      },
      "execution_count": null,
      "outputs": [
        {
          "output_type": "display_data",
          "data": {
            "text/html": [
              "<ol>\n",
              "\t<li>4</li>\n",
              "\t<li>8</li>\n",
              "\t<li>10</li>\n",
              "</ol>\n"
            ],
            "text/markdown": "1. 4\n2. 8\n3. 10\n\n\n",
            "text/latex": "\\begin{enumerate}\n\\item 4\n\\item 8\n\\item 10\n\\end{enumerate}\n",
            "text/plain": [
              "[[1]]\n",
              "[1] 4\n",
              "\n",
              "[[2]]\n",
              "[1] 8\n",
              "\n",
              "[[3]]\n",
              "[1] 10\n"
            ]
          },
          "metadata": {}
        }
      ]
    },
    {
      "cell_type": "markdown",
      "metadata": {
        "id": "3_Edn5A_YTDW"
      },
      "source": [
        "We'll usually use the equivalent from the `purrr` package. These `map` functions transform their input by applying a function to each element and returning a vector of the same length. This is handy for parallelization!"
      ]
    },
    {
      "cell_type": "markdown",
      "source": [
        "Why use `map` instead of `sapply`? https://stackoverflow.com/questions/45101045/why-use-purrrmap-instead-of-lapply"
      ],
      "metadata": {
        "id": "DzVSzfIXGKP-"
      }
    },
    {
      "cell_type": "code",
      "source": [
        "map(1:10, is.prime)"
      ],
      "metadata": {
        "colab": {
          "base_uri": "https://localhost:8080/",
          "height": 219
        },
        "id": "x67DWH9eBsfp",
        "outputId": "ce847a80-30e7-4d39-b932-9396b57a9ed3"
      },
      "execution_count": null,
      "outputs": [
        {
          "output_type": "display_data",
          "data": {
            "text/html": [
              "<ol>\n",
              "\t<li>FALSE</li>\n",
              "\t<li>TRUE</li>\n",
              "\t<li>TRUE</li>\n",
              "\t<li>FALSE</li>\n",
              "\t<li>TRUE</li>\n",
              "\t<li>FALSE</li>\n",
              "\t<li>TRUE</li>\n",
              "\t<li>FALSE</li>\n",
              "\t<li>FALSE</li>\n",
              "\t<li>FALSE</li>\n",
              "</ol>\n"
            ],
            "text/markdown": "1. FALSE\n2. TRUE\n3. TRUE\n4. FALSE\n5. TRUE\n6. FALSE\n7. TRUE\n8. FALSE\n9. FALSE\n10. FALSE\n\n\n",
            "text/latex": "\\begin{enumerate}\n\\item FALSE\n\\item TRUE\n\\item TRUE\n\\item FALSE\n\\item TRUE\n\\item FALSE\n\\item TRUE\n\\item FALSE\n\\item FALSE\n\\item FALSE\n\\end{enumerate}\n",
            "text/plain": [
              "[[1]]\n",
              "[1] FALSE\n",
              "\n",
              "[[2]]\n",
              "[1] TRUE\n",
              "\n",
              "[[3]]\n",
              "[1] TRUE\n",
              "\n",
              "[[4]]\n",
              "[1] FALSE\n",
              "\n",
              "[[5]]\n",
              "[1] TRUE\n",
              "\n",
              "[[6]]\n",
              "[1] FALSE\n",
              "\n",
              "[[7]]\n",
              "[1] TRUE\n",
              "\n",
              "[[8]]\n",
              "[1] FALSE\n",
              "\n",
              "[[9]]\n",
              "[1] FALSE\n",
              "\n",
              "[[10]]\n",
              "[1] FALSE\n"
            ]
          },
          "metadata": {}
        }
      ]
    },
    {
      "cell_type": "code",
      "metadata": {
        "id": "GumQkLnHYMYL",
        "colab": {
          "base_uri": "https://localhost:8080/",
          "height": 34
        },
        "outputId": "bf82fae9-4446-48f4-ccf3-c1d422a1182b"
      },
      "source": [
        "# this is how it's done with applyer functions\n",
        "1:10000 %>% map_lgl(is.prime) %>% sum\n",
        "\n",
        "# mapping every number 1 thru 1000 to the is.prime() function"
      ],
      "execution_count": null,
      "outputs": [
        {
          "output_type": "display_data",
          "data": {
            "text/html": [
              "1229"
            ],
            "text/markdown": "1229",
            "text/latex": "1229",
            "text/plain": [
              "[1] 1229"
            ]
          },
          "metadata": {}
        }
      ]
    },
    {
      "cell_type": "markdown",
      "source": [
        "What is going on with `map_lgl`? This map function specifically returns a boolean vector. `map` by itself returns a list."
      ],
      "metadata": {
        "id": "jGSpmWvHFAJe"
      }
    },
    {
      "cell_type": "code",
      "source": [
        "map(1:20, is.prime); map_int(1:20, is.prime)"
      ],
      "metadata": {
        "id": "ump09mvxFSgT"
      },
      "execution_count": null,
      "outputs": []
    },
    {
      "cell_type": "code",
      "metadata": {
        "id": "VW5nv3B1Kzs1",
        "colab": {
          "base_uri": "https://localhost:8080/",
          "height": 34
        },
        "outputId": "4c414e38-8045-4630-b038-15bf0d458c0e"
      },
      "source": [
        "# Let's check prime.counter for first 10000 integers\n",
        "prime.counter(10000)"
      ],
      "execution_count": null,
      "outputs": [
        {
          "output_type": "display_data",
          "data": {
            "text/html": [
              "1229"
            ],
            "text/markdown": "1229",
            "text/latex": "1229",
            "text/plain": [
              "[1] 1229"
            ]
          },
          "metadata": {}
        }
      ]
    },
    {
      "cell_type": "markdown",
      "metadata": {
        "id": "xLtgnu-ZKzsq"
      },
      "source": [
        "# 1. News Headlines\n",
        "\n",
        "The following code loads a dataset made up of headlines from ABC News:\n",
        "(Australian Broadcasting Corporation, not American Broadcasting Company!)\n"
      ]
    },
    {
      "cell_type": "code",
      "metadata": {
        "id": "ZUxOV9ZTKzsr",
        "colab": {
          "base_uri": "https://localhost:8080/",
          "height": 286
        },
        "outputId": "81294985-9302-4f2f-9adf-6585037f7733"
      },
      "source": [
        "headlines = read_csv('https://raw.githubusercontent.com/byoungwookjang/stats306_labs/master/lab13/abcnews_2017.csv', \n",
        "                     col_types=list(col_character(), col_character()))\n",
        "head(headlines)"
      ],
      "execution_count": null,
      "outputs": [
        {
          "output_type": "display_data",
          "data": {
            "text/html": [
              "<table class=\"dataframe\">\n",
              "<caption>A tibble: 6 × 2</caption>\n",
              "<thead>\n",
              "\t<tr><th scope=col>publish_date</th><th scope=col>headline_text</th></tr>\n",
              "\t<tr><th scope=col>&lt;chr&gt;</th><th scope=col>&lt;chr&gt;</th></tr>\n",
              "</thead>\n",
              "<tbody>\n",
              "\t<tr><td>20170101</td><td>1986 queensland cabinet documents released                      </td></tr>\n",
              "\t<tr><td>20170101</td><td>actor william cristopher mash chaplain dead at 84               </td></tr>\n",
              "\t<tr><td>20170101</td><td>adelaide hip hop artist dreams becoming influential in australia</td></tr>\n",
              "\t<tr><td>20170101</td><td>adelaide's new year's fireworks                                 </td></tr>\n",
              "\t<tr><td>20170101</td><td>adelaides new years fireworks                                   </td></tr>\n",
              "\t<tr><td>20170101</td><td>ambulances ferry injured to hospital istanbul nightclub attack  </td></tr>\n",
              "</tbody>\n",
              "</table>\n"
            ],
            "text/markdown": "\nA tibble: 6 × 2\n\n| publish_date &lt;chr&gt; | headline_text &lt;chr&gt; |\n|---|---|\n| 20170101 | 1986 queensland cabinet documents released                       |\n| 20170101 | actor william cristopher mash chaplain dead at 84                |\n| 20170101 | adelaide hip hop artist dreams becoming influential in australia |\n| 20170101 | adelaide's new year's fireworks                                  |\n| 20170101 | adelaides new years fireworks                                    |\n| 20170101 | ambulances ferry injured to hospital istanbul nightclub attack   |\n\n",
            "text/latex": "A tibble: 6 × 2\n\\begin{tabular}{ll}\n publish\\_date & headline\\_text\\\\\n <chr> & <chr>\\\\\n\\hline\n\t 20170101 & 1986 queensland cabinet documents released                      \\\\\n\t 20170101 & actor william cristopher mash chaplain dead at 84               \\\\\n\t 20170101 & adelaide hip hop artist dreams becoming influential in australia\\\\\n\t 20170101 & adelaide's new year's fireworks                                 \\\\\n\t 20170101 & adelaides new years fireworks                                   \\\\\n\t 20170101 & ambulances ferry injured to hospital istanbul nightclub attack  \\\\\n\\end{tabular}\n",
            "text/plain": [
              "  publish_date headline_text                                                   \n",
              "1 20170101     1986 queensland cabinet documents released                      \n",
              "2 20170101     actor william cristopher mash chaplain dead at 84               \n",
              "3 20170101     adelaide hip hop artist dreams becoming influential in australia\n",
              "4 20170101     adelaide's new year's fireworks                                 \n",
              "5 20170101     adelaides new years fireworks                                   \n",
              "6 20170101     ambulances ferry injured to hospital istanbul nightclub attack  "
            ]
          },
          "metadata": {}
        }
      ]
    },
    {
      "cell_type": "markdown",
      "metadata": {
        "id": "ncS6YnVjKzss"
      },
      "source": [
        "### 1.1\n",
        "\n",
        "Add columns to `headlines` in which `publish_date` is converted the appropriate date format and there is an additional `id` variable that gives each headline a unique id number.\n",
        "\n",
        "*Hint: the function `ymd` will come in handy here.*"
      ]
    },
    {
      "cell_type": "code",
      "metadata": {
        "id": "7LZVhgktKzst",
        "colab": {
          "base_uri": "https://localhost:8080/",
          "height": 286
        },
        "outputId": "dd489c48-4e53-424c-b385-e0803b617f15"
      },
      "source": [
        "headlines <- headlines %>% mutate(publish_date = ymd(publish_date), id = row_number())\n",
        "headlines %>% head"
      ],
      "execution_count": null,
      "outputs": [
        {
          "output_type": "display_data",
          "data": {
            "text/html": [
              "<table class=\"dataframe\">\n",
              "<caption>A tibble: 6 × 3</caption>\n",
              "<thead>\n",
              "\t<tr><th scope=col>publish_date</th><th scope=col>headline_text</th><th scope=col>id</th></tr>\n",
              "\t<tr><th scope=col>&lt;date&gt;</th><th scope=col>&lt;chr&gt;</th><th scope=col>&lt;int&gt;</th></tr>\n",
              "</thead>\n",
              "<tbody>\n",
              "\t<tr><td>2017-01-01</td><td>1986 queensland cabinet documents released                      </td><td>1</td></tr>\n",
              "\t<tr><td>2017-01-01</td><td>actor william cristopher mash chaplain dead at 84               </td><td>2</td></tr>\n",
              "\t<tr><td>2017-01-01</td><td>adelaide hip hop artist dreams becoming influential in australia</td><td>3</td></tr>\n",
              "\t<tr><td>2017-01-01</td><td>adelaide's new year's fireworks                                 </td><td>4</td></tr>\n",
              "\t<tr><td>2017-01-01</td><td>adelaides new years fireworks                                   </td><td>5</td></tr>\n",
              "\t<tr><td>2017-01-01</td><td>ambulances ferry injured to hospital istanbul nightclub attack  </td><td>6</td></tr>\n",
              "</tbody>\n",
              "</table>\n"
            ],
            "text/markdown": "\nA tibble: 6 × 3\n\n| publish_date &lt;date&gt; | headline_text &lt;chr&gt; | id &lt;int&gt; |\n|---|---|---|\n| 2017-01-01 | 1986 queensland cabinet documents released                       | 1 |\n| 2017-01-01 | actor william cristopher mash chaplain dead at 84                | 2 |\n| 2017-01-01 | adelaide hip hop artist dreams becoming influential in australia | 3 |\n| 2017-01-01 | adelaide's new year's fireworks                                  | 4 |\n| 2017-01-01 | adelaides new years fireworks                                    | 5 |\n| 2017-01-01 | ambulances ferry injured to hospital istanbul nightclub attack   | 6 |\n\n",
            "text/latex": "A tibble: 6 × 3\n\\begin{tabular}{lll}\n publish\\_date & headline\\_text & id\\\\\n <date> & <chr> & <int>\\\\\n\\hline\n\t 2017-01-01 & 1986 queensland cabinet documents released                       & 1\\\\\n\t 2017-01-01 & actor william cristopher mash chaplain dead at 84                & 2\\\\\n\t 2017-01-01 & adelaide hip hop artist dreams becoming influential in australia & 3\\\\\n\t 2017-01-01 & adelaide's new year's fireworks                                  & 4\\\\\n\t 2017-01-01 & adelaides new years fireworks                                    & 5\\\\\n\t 2017-01-01 & ambulances ferry injured to hospital istanbul nightclub attack   & 6\\\\\n\\end{tabular}\n",
            "text/plain": [
              "  publish_date headline_text                                                   \n",
              "1 2017-01-01   1986 queensland cabinet documents released                      \n",
              "2 2017-01-01   actor william cristopher mash chaplain dead at 84               \n",
              "3 2017-01-01   adelaide hip hop artist dreams becoming influential in australia\n",
              "4 2017-01-01   adelaide's new year's fireworks                                 \n",
              "5 2017-01-01   adelaides new years fireworks                                   \n",
              "6 2017-01-01   ambulances ferry injured to hospital istanbul nightclub attack  \n",
              "  id\n",
              "1 1 \n",
              "2 2 \n",
              "3 3 \n",
              "4 4 \n",
              "5 5 \n",
              "6 6 "
            ]
          },
          "metadata": {}
        }
      ]
    },
    {
      "cell_type": "markdown",
      "metadata": {
        "id": "xsmPfsd8Kzst"
      },
      "source": [
        "### 1.2\n",
        "\n",
        "Write a function `get_headlines` that takes a string `keyword` as an argument and returns a subset of `headlines` with only rows where the headline contains the given `keyword`. The returned dataframe should contain an additional column titled `keyword` that contains the keyword provided to the function. And make sure your function is not case-sensitive."
      ]
    },
    {
      "cell_type": "code",
      "metadata": {
        "scrolled": true,
        "id": "uJbQoZibKzsw",
        "colab": {
          "base_uri": "https://localhost:8080/",
          "height": 286
        },
        "outputId": "f012f796-76ef-4f45-9e38-5cf2fc3f664a"
      },
      "source": [
        "get_headlines <- function(df, keyword) {\n",
        "    keyword <- str_to_lower(keyword)\n",
        "    sub_df <- df %>% filter(str_detect(headline_text, keyword))\n",
        "    sub_df <- sub_df %>% mutate(keyword = keyword)\n",
        "    return (sub_df)\n",
        "}\n",
        "\n",
        "headlines %>% get_headlines('trump') %>% head"
      ],
      "execution_count": null,
      "outputs": [
        {
          "output_type": "display_data",
          "data": {
            "text/html": [
              "<table class=\"dataframe\">\n",
              "<caption>A tibble: 6 × 4</caption>\n",
              "<thead>\n",
              "\t<tr><th scope=col>publish_date</th><th scope=col>headline_text</th><th scope=col>id</th><th scope=col>keyword</th></tr>\n",
              "\t<tr><th scope=col>&lt;date&gt;</th><th scope=col>&lt;chr&gt;</th><th scope=col>&lt;int&gt;</th><th scope=col>&lt;chr&gt;</th></tr>\n",
              "</thead>\n",
              "<tbody>\n",
              "\t<tr><td>2017-01-01</td><td>donald trump remains sceptical russia was behind hacking        </td><td> 22</td><td>trump</td></tr>\n",
              "\t<tr><td>2017-01-02</td><td>donald trump indonesian business partner wants run for president</td><td> 83</td><td>trump</td></tr>\n",
              "\t<tr><td>2017-01-03</td><td>donald trump rebecca ferguson inauguration strange fruit        </td><td>172</td><td>trump</td></tr>\n",
              "\t<tr><td>2017-01-03</td><td>will president trump be the most pro israel president ever      </td><td>261</td><td>trump</td></tr>\n",
              "\t<tr><td>2017-01-04</td><td>bill and hillary clinton to attend donald trump inauguration    </td><td>282</td><td>trump</td></tr>\n",
              "\t<tr><td>2017-01-04</td><td>republican led us congress trump era groundwork                 </td><td>360</td><td>trump</td></tr>\n",
              "</tbody>\n",
              "</table>\n"
            ],
            "text/markdown": "\nA tibble: 6 × 4\n\n| publish_date &lt;date&gt; | headline_text &lt;chr&gt; | id &lt;int&gt; | keyword &lt;chr&gt; |\n|---|---|---|---|\n| 2017-01-01 | donald trump remains sceptical russia was behind hacking         |  22 | trump |\n| 2017-01-02 | donald trump indonesian business partner wants run for president |  83 | trump |\n| 2017-01-03 | donald trump rebecca ferguson inauguration strange fruit         | 172 | trump |\n| 2017-01-03 | will president trump be the most pro israel president ever       | 261 | trump |\n| 2017-01-04 | bill and hillary clinton to attend donald trump inauguration     | 282 | trump |\n| 2017-01-04 | republican led us congress trump era groundwork                  | 360 | trump |\n\n",
            "text/latex": "A tibble: 6 × 4\n\\begin{tabular}{llll}\n publish\\_date & headline\\_text & id & keyword\\\\\n <date> & <chr> & <int> & <chr>\\\\\n\\hline\n\t 2017-01-01 & donald trump remains sceptical russia was behind hacking         &  22 & trump\\\\\n\t 2017-01-02 & donald trump indonesian business partner wants run for president &  83 & trump\\\\\n\t 2017-01-03 & donald trump rebecca ferguson inauguration strange fruit         & 172 & trump\\\\\n\t 2017-01-03 & will president trump be the most pro israel president ever       & 261 & trump\\\\\n\t 2017-01-04 & bill and hillary clinton to attend donald trump inauguration     & 282 & trump\\\\\n\t 2017-01-04 & republican led us congress trump era groundwork                  & 360 & trump\\\\\n\\end{tabular}\n",
            "text/plain": [
              "  publish_date headline_text                                                   \n",
              "1 2017-01-01   donald trump remains sceptical russia was behind hacking        \n",
              "2 2017-01-02   donald trump indonesian business partner wants run for president\n",
              "3 2017-01-03   donald trump rebecca ferguson inauguration strange fruit        \n",
              "4 2017-01-03   will president trump be the most pro israel president ever      \n",
              "5 2017-01-04   bill and hillary clinton to attend donald trump inauguration    \n",
              "6 2017-01-04   republican led us congress trump era groundwork                 \n",
              "  id  keyword\n",
              "1  22 trump  \n",
              "2  83 trump  \n",
              "3 172 trump  \n",
              "4 261 trump  \n",
              "5 282 trump  \n",
              "6 360 trump  "
            ]
          },
          "metadata": {}
        }
      ]
    },
    {
      "cell_type": "markdown",
      "metadata": {
        "id": "KAq_eKCaKzs3"
      },
      "source": [
        "### 1.3\n",
        "\n",
        "Using `get_headlines`, create a dataframe `headlines2` which, for each country in `country_interest`, contains the headlines associated with that country. The result should be a single dataframe. You should be able to do this with a one-liner."
      ]
    },
    {
      "cell_type": "code",
      "metadata": {
        "id": "KcaBmHKaKzs5",
        "colab": {
          "base_uri": "https://localhost:8080/",
          "height": 286
        },
        "outputId": "d1c51aa4-2318-4475-ed13-d833aab54106"
      },
      "source": [
        "country_interest = c('china', 'india', 'russia', 'syria', 'indonesia',\n",
        "                     'japan', 'israel', 'iraq', 'iran', 'philippines',\n",
        "                     'united states', 'france')\n",
        "\n",
        "headlines2 <- country_interest %>% map_dfr(~get_headlines(headlines, .))\n",
        "\n",
        "head(headlines2)\n",
        "\n",
        "# map_dfr() applies a function to each element of a list/vector/column and returns a dataframe\n",
        "\n",
        "# head(headlines2)"
      ],
      "execution_count": null,
      "outputs": [
        {
          "output_type": "display_data",
          "data": {
            "text/html": [
              "<table class=\"dataframe\">\n",
              "<caption>A tibble: 6 × 4</caption>\n",
              "<thead>\n",
              "\t<tr><th scope=col>publish_date</th><th scope=col>headline_text</th><th scope=col>id</th><th scope=col>keyword</th></tr>\n",
              "\t<tr><th scope=col>&lt;date&gt;</th><th scope=col>&lt;chr&gt;</th><th scope=col>&lt;int&gt;</th><th scope=col>&lt;chr&gt;</th></tr>\n",
              "</thead>\n",
              "<tbody>\n",
              "\t<tr><td>2017-01-03</td><td>human hair and rocket launchers now cheaper to export to china</td><td>193</td><td>china</td></tr>\n",
              "\t<tr><td>2017-01-04</td><td>two wounded one dead after gun rampage in china               </td><td>388</td><td>china</td></tr>\n",
              "\t<tr><td>2017-01-05</td><td>china to spend $493 billion on renewable fuel by 2020         </td><td>424</td><td>china</td></tr>\n",
              "\t<tr><td>2017-01-05</td><td>economists fear official uschina trade war as yuan            </td><td>434</td><td>china</td></tr>\n",
              "\t<tr><td>2017-01-05</td><td>wine exporters to benefit from further china tariff reduction </td><td>531</td><td>china</td></tr>\n",
              "\t<tr><td>2017-01-06</td><td>china harbin ice festival begins with spectacular sculptures  </td><td>554</td><td>china</td></tr>\n",
              "</tbody>\n",
              "</table>\n"
            ],
            "text/markdown": "\nA tibble: 6 × 4\n\n| publish_date &lt;date&gt; | headline_text &lt;chr&gt; | id &lt;int&gt; | keyword &lt;chr&gt; |\n|---|---|---|---|\n| 2017-01-03 | human hair and rocket launchers now cheaper to export to china | 193 | china |\n| 2017-01-04 | two wounded one dead after gun rampage in china                | 388 | china |\n| 2017-01-05 | china to spend $493 billion on renewable fuel by 2020          | 424 | china |\n| 2017-01-05 | economists fear official uschina trade war as yuan             | 434 | china |\n| 2017-01-05 | wine exporters to benefit from further china tariff reduction  | 531 | china |\n| 2017-01-06 | china harbin ice festival begins with spectacular sculptures   | 554 | china |\n\n",
            "text/latex": "A tibble: 6 × 4\n\\begin{tabular}{llll}\n publish\\_date & headline\\_text & id & keyword\\\\\n <date> & <chr> & <int> & <chr>\\\\\n\\hline\n\t 2017-01-03 & human hair and rocket launchers now cheaper to export to china & 193 & china\\\\\n\t 2017-01-04 & two wounded one dead after gun rampage in china                & 388 & china\\\\\n\t 2017-01-05 & china to spend \\$493 billion on renewable fuel by 2020          & 424 & china\\\\\n\t 2017-01-05 & economists fear official uschina trade war as yuan             & 434 & china\\\\\n\t 2017-01-05 & wine exporters to benefit from further china tariff reduction  & 531 & china\\\\\n\t 2017-01-06 & china harbin ice festival begins with spectacular sculptures   & 554 & china\\\\\n\\end{tabular}\n",
            "text/plain": [
              "  publish_date headline_text                                                 \n",
              "1 2017-01-03   human hair and rocket launchers now cheaper to export to china\n",
              "2 2017-01-04   two wounded one dead after gun rampage in china               \n",
              "3 2017-01-05   china to spend $493 billion on renewable fuel by 2020         \n",
              "4 2017-01-05   economists fear official uschina trade war as yuan            \n",
              "5 2017-01-05   wine exporters to benefit from further china tariff reduction \n",
              "6 2017-01-06   china harbin ice festival begins with spectacular sculptures  \n",
              "  id  keyword\n",
              "1 193 china  \n",
              "2 388 china  \n",
              "3 424 china  \n",
              "4 434 china  \n",
              "5 531 china  \n",
              "6 554 china  "
            ]
          },
          "metadata": {}
        }
      ]
    },
    {
      "cell_type": "code",
      "source": [
        "# verbose alternative\n",
        "\n",
        "headline_getter <- function(x) {\n",
        "  return ( get_headlines(headlines, x))\n",
        "}\n",
        "\n",
        "head(map_dfr(country_interest, headline_getter))"
      ],
      "metadata": {
        "id": "vhgzROoIHrtR",
        "colab": {
          "base_uri": "https://localhost:8080/",
          "height": 286
        },
        "outputId": "54c6095a-a5d9-4775-e96c-003d582fe1fa"
      },
      "execution_count": null,
      "outputs": [
        {
          "output_type": "display_data",
          "data": {
            "text/html": [
              "<table class=\"dataframe\">\n",
              "<caption>A tibble: 6 × 4</caption>\n",
              "<thead>\n",
              "\t<tr><th scope=col>publish_date</th><th scope=col>headline_text</th><th scope=col>id</th><th scope=col>keyword</th></tr>\n",
              "\t<tr><th scope=col>&lt;date&gt;</th><th scope=col>&lt;chr&gt;</th><th scope=col>&lt;int&gt;</th><th scope=col>&lt;chr&gt;</th></tr>\n",
              "</thead>\n",
              "<tbody>\n",
              "\t<tr><td>2017-01-03</td><td>human hair and rocket launchers now cheaper to export to china</td><td>193</td><td>china</td></tr>\n",
              "\t<tr><td>2017-01-04</td><td>two wounded one dead after gun rampage in china               </td><td>388</td><td>china</td></tr>\n",
              "\t<tr><td>2017-01-05</td><td>china to spend $493 billion on renewable fuel by 2020         </td><td>424</td><td>china</td></tr>\n",
              "\t<tr><td>2017-01-05</td><td>economists fear official uschina trade war as yuan            </td><td>434</td><td>china</td></tr>\n",
              "\t<tr><td>2017-01-05</td><td>wine exporters to benefit from further china tariff reduction </td><td>531</td><td>china</td></tr>\n",
              "\t<tr><td>2017-01-06</td><td>china harbin ice festival begins with spectacular sculptures  </td><td>554</td><td>china</td></tr>\n",
              "</tbody>\n",
              "</table>\n"
            ],
            "text/markdown": "\nA tibble: 6 × 4\n\n| publish_date &lt;date&gt; | headline_text &lt;chr&gt; | id &lt;int&gt; | keyword &lt;chr&gt; |\n|---|---|---|---|\n| 2017-01-03 | human hair and rocket launchers now cheaper to export to china | 193 | china |\n| 2017-01-04 | two wounded one dead after gun rampage in china                | 388 | china |\n| 2017-01-05 | china to spend $493 billion on renewable fuel by 2020          | 424 | china |\n| 2017-01-05 | economists fear official uschina trade war as yuan             | 434 | china |\n| 2017-01-05 | wine exporters to benefit from further china tariff reduction  | 531 | china |\n| 2017-01-06 | china harbin ice festival begins with spectacular sculptures   | 554 | china |\n\n",
            "text/latex": "A tibble: 6 × 4\n\\begin{tabular}{llll}\n publish\\_date & headline\\_text & id & keyword\\\\\n <date> & <chr> & <int> & <chr>\\\\\n\\hline\n\t 2017-01-03 & human hair and rocket launchers now cheaper to export to china & 193 & china\\\\\n\t 2017-01-04 & two wounded one dead after gun rampage in china                & 388 & china\\\\\n\t 2017-01-05 & china to spend \\$493 billion on renewable fuel by 2020          & 424 & china\\\\\n\t 2017-01-05 & economists fear official uschina trade war as yuan             & 434 & china\\\\\n\t 2017-01-05 & wine exporters to benefit from further china tariff reduction  & 531 & china\\\\\n\t 2017-01-06 & china harbin ice festival begins with spectacular sculptures   & 554 & china\\\\\n\\end{tabular}\n",
            "text/plain": [
              "  publish_date headline_text                                                 \n",
              "1 2017-01-03   human hair and rocket launchers now cheaper to export to china\n",
              "2 2017-01-04   two wounded one dead after gun rampage in china               \n",
              "3 2017-01-05   china to spend $493 billion on renewable fuel by 2020         \n",
              "4 2017-01-05   economists fear official uschina trade war as yuan            \n",
              "5 2017-01-05   wine exporters to benefit from further china tariff reduction \n",
              "6 2017-01-06   china harbin ice festival begins with spectacular sculptures  \n",
              "  id  keyword\n",
              "1 193 china  \n",
              "2 388 china  \n",
              "3 424 china  \n",
              "4 434 china  \n",
              "5 531 china  \n",
              "6 554 china  "
            ]
          },
          "metadata": {}
        }
      ]
    },
    {
      "cell_type": "markdown",
      "metadata": {
        "id": "DmM-1aBiKzs6"
      },
      "source": [
        "### 1.4 \n",
        "\n",
        "Create a bar plot of number of headlines by country. Make sure the bars are arranged in descending order."
      ]
    },
    {
      "cell_type": "code",
      "source": [
        "counts <- headlines2 %>% group_by(keyword) %>% summarise(n = n())\n",
        "counts %>% arrange(-n) %>% ggplot(aes(x = reorder(keyword, -n), y = n)) + geom_col()"
      ],
      "metadata": {
        "colab": {
          "base_uri": "https://localhost:8080/",
          "height": 437
        },
        "id": "W7hUi7n1GZwY",
        "outputId": "13e7a432-532a-42b1-a20a-9030ba735506"
      },
      "execution_count": null,
      "outputs": [
        {
          "output_type": "display_data",
          "data": {
            "text/plain": [
              "plot without title"
            ],
            "image/png": "[encoded data removed]"
          },
          "metadata": {
            "image/png": {
              "width": 420,
              "height": 420
            }
          }
        }
      ]
    },
    {
      "cell_type": "markdown",
      "metadata": {
        "id": "2gPUXRNgKzs8"
      },
      "source": [
        "# 2. The General Social Survey\n",
        "\n",
        "​​​Since 1972, the General Social Survey (GSS) has provided politicians, policymakers, and scholars with a clear and unbiased perspective on what Americans think and feel about such issues as national spendi​ng priorities, crime and punishment, intergroup relations, and confidence in institutions. (From their website: https://gss.norc.org/)"
      ]
    },
    {
      "cell_type": "code",
      "metadata": {
        "scrolled": true,
        "id": "1k5hATXlKzs9",
        "colab": {
          "base_uri": "https://localhost:8080/",
          "height": 286
        },
        "outputId": "269123d5-7e8c-424f-f582-81d5bb0c3d13"
      },
      "source": [
        "head(gss_cat)"
      ],
      "execution_count": 3,
      "outputs": [
        {
          "output_type": "display_data",
          "data": {
            "text/html": [
              "<table class=\"dataframe\">\n",
              "<caption>A tibble: 6 × 9</caption>\n",
              "<thead>\n",
              "\t<tr><th scope=col>year</th><th scope=col>marital</th><th scope=col>age</th><th scope=col>race</th><th scope=col>rincome</th><th scope=col>partyid</th><th scope=col>relig</th><th scope=col>denom</th><th scope=col>tvhours</th></tr>\n",
              "\t<tr><th scope=col>&lt;int&gt;</th><th scope=col>&lt;fct&gt;</th><th scope=col>&lt;int&gt;</th><th scope=col>&lt;fct&gt;</th><th scope=col>&lt;fct&gt;</th><th scope=col>&lt;fct&gt;</th><th scope=col>&lt;fct&gt;</th><th scope=col>&lt;fct&gt;</th><th scope=col>&lt;int&gt;</th></tr>\n",
              "</thead>\n",
              "<tbody>\n",
              "\t<tr><td>2000</td><td>Never married</td><td>26</td><td>White</td><td>$8000 to 9999 </td><td>Ind,near rep      </td><td>Protestant        </td><td>Southern baptist</td><td>12</td></tr>\n",
              "\t<tr><td>2000</td><td>Divorced     </td><td>48</td><td>White</td><td>$8000 to 9999 </td><td>Not str republican</td><td>Protestant        </td><td>Baptist-dk which</td><td>NA</td></tr>\n",
              "\t<tr><td>2000</td><td>Widowed      </td><td>67</td><td>White</td><td>Not applicable</td><td>Independent       </td><td>Protestant        </td><td>No denomination </td><td> 2</td></tr>\n",
              "\t<tr><td>2000</td><td>Never married</td><td>39</td><td>White</td><td>Not applicable</td><td>Ind,near rep      </td><td>Orthodox-christian</td><td>Not applicable  </td><td> 4</td></tr>\n",
              "\t<tr><td>2000</td><td>Divorced     </td><td>25</td><td>White</td><td>Not applicable</td><td>Not str democrat  </td><td>None              </td><td>Not applicable  </td><td> 1</td></tr>\n",
              "\t<tr><td>2000</td><td>Married      </td><td>25</td><td>White</td><td>$20000 - 24999</td><td>Strong democrat   </td><td>Protestant        </td><td>Southern baptist</td><td>NA</td></tr>\n",
              "</tbody>\n",
              "</table>\n"
            ],
            "text/markdown": "\nA tibble: 6 × 9\n\n| year &lt;int&gt; | marital &lt;fct&gt; | age &lt;int&gt; | race &lt;fct&gt; | rincome &lt;fct&gt; | partyid &lt;fct&gt; | relig &lt;fct&gt; | denom &lt;fct&gt; | tvhours &lt;int&gt; |\n|---|---|---|---|---|---|---|---|---|\n| 2000 | Never married | 26 | White | $8000 to 9999  | Ind,near rep       | Protestant         | Southern baptist | 12 |\n| 2000 | Divorced      | 48 | White | $8000 to 9999  | Not str republican | Protestant         | Baptist-dk which | NA |\n| 2000 | Widowed       | 67 | White | Not applicable | Independent        | Protestant         | No denomination  |  2 |\n| 2000 | Never married | 39 | White | Not applicable | Ind,near rep       | Orthodox-christian | Not applicable   |  4 |\n| 2000 | Divorced      | 25 | White | Not applicable | Not str democrat   | None               | Not applicable   |  1 |\n| 2000 | Married       | 25 | White | $20000 - 24999 | Strong democrat    | Protestant         | Southern baptist | NA |\n\n",
            "text/latex": "A tibble: 6 × 9\n\\begin{tabular}{lllllllll}\n year & marital & age & race & rincome & partyid & relig & denom & tvhours\\\\\n <int> & <fct> & <int> & <fct> & <fct> & <fct> & <fct> & <fct> & <int>\\\\\n\\hline\n\t 2000 & Never married & 26 & White & \\$8000 to 9999  & Ind,near rep       & Protestant         & Southern baptist & 12\\\\\n\t 2000 & Divorced      & 48 & White & \\$8000 to 9999  & Not str republican & Protestant         & Baptist-dk which & NA\\\\\n\t 2000 & Widowed       & 67 & White & Not applicable & Independent        & Protestant         & No denomination  &  2\\\\\n\t 2000 & Never married & 39 & White & Not applicable & Ind,near rep       & Orthodox-christian & Not applicable   &  4\\\\\n\t 2000 & Divorced      & 25 & White & Not applicable & Not str democrat   & None               & Not applicable   &  1\\\\\n\t 2000 & Married       & 25 & White & \\$20000 - 24999 & Strong democrat    & Protestant         & Southern baptist & NA\\\\\n\\end{tabular}\n",
            "text/plain": [
              "  year marital       age race  rincome        partyid           \n",
              "1 2000 Never married 26  White $8000 to 9999  Ind,near rep      \n",
              "2 2000 Divorced      48  White $8000 to 9999  Not str republican\n",
              "3 2000 Widowed       67  White Not applicable Independent       \n",
              "4 2000 Never married 39  White Not applicable Ind,near rep      \n",
              "5 2000 Divorced      25  White Not applicable Not str democrat  \n",
              "6 2000 Married       25  White $20000 - 24999 Strong democrat   \n",
              "  relig              denom            tvhours\n",
              "1 Protestant         Southern baptist 12     \n",
              "2 Protestant         Baptist-dk which NA     \n",
              "3 Protestant         No denomination   2     \n",
              "4 Orthodox-christian Not applicable    4     \n",
              "5 None               Not applicable    1     \n",
              "6 Protestant         Southern baptist NA     "
            ]
          },
          "metadata": {}
        }
      ]
    },
    {
      "cell_type": "markdown",
      "metadata": {
        "id": "rpLj_9XbKzs-"
      },
      "source": [
        "### 2.1 What is the median reported age for Jewish respondents?\n",
        "\n",
        "Make sure you return a number and not a dataframe!"
      ]
    },
    {
      "cell_type": "code",
      "source": [
        "gss_cat$relig %>% unique"
      ],
      "metadata": {
        "colab": {
          "base_uri": "https://localhost:8080/",
          "height": 54
        },
        "id": "vSQ7JAYXHdH_",
        "outputId": "3e19d619-dc59-4a4d-fd5e-0f0b0788ac35"
      },
      "execution_count": 4,
      "outputs": [
        {
          "output_type": "display_data",
          "data": {
            "text/html": [
              "<style>\n",
              ".list-inline {list-style: none; margin:0; padding: 0}\n",
              ".list-inline>li {display: inline-block}\n",
              ".list-inline>li:not(:last-child)::after {content: \"\\00b7\"; padding: 0 .5ex}\n",
              "</style>\n",
              "<ol class=list-inline><li>Protestant</li><li>Orthodox-christian</li><li>None</li><li>Christian</li><li>Jewish</li><li>Catholic</li><li>Other</li><li>Inter-nondenominational</li><li>Hinduism</li><li>Native american</li><li>No answer</li><li>Buddhism</li><li>Moslem/islam</li><li>Other eastern</li><li>Don't know</li></ol>\n",
              "\n",
              "<details>\n",
              "\t<summary style=display:list-item;cursor:pointer>\n",
              "\t\t<strong>Levels</strong>:\n",
              "\t</summary>\n",
              "\t<style>\n",
              "\t.list-inline {list-style: none; margin:0; padding: 0}\n",
              "\t.list-inline>li {display: inline-block}\n",
              "\t.list-inline>li:not(:last-child)::after {content: \"\\00b7\"; padding: 0 .5ex}\n",
              "\t</style>\n",
              "\t<ol class=list-inline><li>'No answer'</li><li>'Don\\'t know'</li><li>'Inter-nondenominational'</li><li>'Native american'</li><li>'Christian'</li><li>'Orthodox-christian'</li><li>'Moslem/islam'</li><li>'Other eastern'</li><li>'Hinduism'</li><li>'Buddhism'</li><li>'Other'</li><li>'None'</li><li>'Jewish'</li><li>'Catholic'</li><li>'Protestant'</li><li>'Not applicable'</li></ol>\n",
              "</details>"
            ],
            "text/markdown": "1. Protestant\n2. Orthodox-christian\n3. None\n4. Christian\n5. Jewish\n6. Catholic\n7. Other\n8. Inter-nondenominational\n9. Hinduism\n10. Native american\n11. No answer\n12. Buddhism\n13. Moslem/islam\n14. Other eastern\n15. Don't know\n\n\n\n**Levels**: 1. 'No answer'\n2. 'Don\\'t know'\n3. 'Inter-nondenominational'\n4. 'Native american'\n5. 'Christian'\n6. 'Orthodox-christian'\n7. 'Moslem/islam'\n8. 'Other eastern'\n9. 'Hinduism'\n10. 'Buddhism'\n11. 'Other'\n12. 'None'\n13. 'Jewish'\n14. 'Catholic'\n15. 'Protestant'\n16. 'Not applicable'\n\n\n",
            "text/latex": "\\begin{enumerate*}\n\\item Protestant\n\\item Orthodox-christian\n\\item None\n\\item Christian\n\\item Jewish\n\\item Catholic\n\\item Other\n\\item Inter-nondenominational\n\\item Hinduism\n\\item Native american\n\\item No answer\n\\item Buddhism\n\\item Moslem/islam\n\\item Other eastern\n\\item Don't know\n\\end{enumerate*}\n\n\\emph{Levels}: \\begin{enumerate*}\n\\item 'No answer'\n\\item 'Don\\textbackslash{}'t know'\n\\item 'Inter-nondenominational'\n\\item 'Native american'\n\\item 'Christian'\n\\item 'Orthodox-christian'\n\\item 'Moslem/islam'\n\\item 'Other eastern'\n\\item 'Hinduism'\n\\item 'Buddhism'\n\\item 'Other'\n\\item 'None'\n\\item 'Jewish'\n\\item 'Catholic'\n\\item 'Protestant'\n\\item 'Not applicable'\n\\end{enumerate*}\n",
            "text/plain": [
              " [1] Protestant              Orthodox-christian      None                   \n",
              " [4] Christian               Jewish                  Catholic               \n",
              " [7] Other                   Inter-nondenominational Hinduism               \n",
              "[10] Native american         No answer               Buddhism               \n",
              "[13] Moslem/islam            Other eastern           Don't know             \n",
              "16 Levels: No answer Don't know Inter-nondenominational ... Not applicable"
            ]
          },
          "metadata": {}
        }
      ]
    },
    {
      "cell_type": "code",
      "metadata": {
        "id": "Euv6rLKPKzs_",
        "colab": {
          "base_uri": "https://localhost:8080/",
          "height": 34
        },
        "outputId": "6a25d5b2-e414-4b1a-8447-b44646d4773a"
      },
      "source": [
        "gss_cat %>% filter(relig == \"Jewish\") %>% summarise(m = median(age, na.rm=T)) %>% deframe"
      ],
      "execution_count": 5,
      "outputs": [
        {
          "output_type": "display_data",
          "data": {
            "text/html": [
              "53"
            ],
            "text/markdown": "53",
            "text/latex": "53",
            "text/plain": [
              "[1] 53"
            ]
          },
          "metadata": {}
        }
      ]
    },
    {
      "cell_type": "markdown",
      "metadata": {
        "id": "Jp0AgFS_Kzs_"
      },
      "source": [
        "### 2.2 Write a generalized function for above code. For a given religion, print out the median age of respondents."
      ]
    },
    {
      "cell_type": "code",
      "metadata": {
        "id": "EeZSXM9dKztA",
        "colab": {
          "base_uri": "https://localhost:8080/",
          "height": 34
        },
        "outputId": "38373b46-dc58-45b4-d4e0-903df83d184b"
      },
      "source": [
        "age_of_religion <- function(x){\n",
        "    gss_cat %>% filter(relig == x) %>% \n",
        "    summarize(median(age, na.rm=T)) %>% deframe\n",
        "}\n",
        "age_of_religion(\"Jewish\")"
      ],
      "execution_count": 6,
      "outputs": [
        {
          "output_type": "display_data",
          "data": {
            "text/html": [
              "53"
            ],
            "text/markdown": "53",
            "text/latex": "53",
            "text/plain": [
              "[1] 53"
            ]
          },
          "metadata": {}
        }
      ]
    },
    {
      "cell_type": "code",
      "metadata": {
        "id": "zsBB091iKztB",
        "colab": {
          "base_uri": "https://localhost:8080/",
          "height": 569
        },
        "outputId": "53874a02-b1c9-4977-c6be-10280b4cf5b0"
      },
      "source": [
        "# Here is the religion list\n",
        "gss_cat %>% select(relig) %>% unique"
      ],
      "execution_count": 8,
      "outputs": [
        {
          "output_type": "display_data",
          "data": {
            "text/html": [
              "<table class=\"dataframe\">\n",
              "<caption>A tibble: 15 × 1</caption>\n",
              "<thead>\n",
              "\t<tr><th scope=col>relig</th></tr>\n",
              "\t<tr><th scope=col>&lt;fct&gt;</th></tr>\n",
              "</thead>\n",
              "<tbody>\n",
              "\t<tr><td>Protestant             </td></tr>\n",
              "\t<tr><td>Orthodox-christian     </td></tr>\n",
              "\t<tr><td>None                   </td></tr>\n",
              "\t<tr><td>Christian              </td></tr>\n",
              "\t<tr><td>Jewish                 </td></tr>\n",
              "\t<tr><td>Catholic               </td></tr>\n",
              "\t<tr><td>Other                  </td></tr>\n",
              "\t<tr><td>Inter-nondenominational</td></tr>\n",
              "\t<tr><td>Hinduism               </td></tr>\n",
              "\t<tr><td>Native american        </td></tr>\n",
              "\t<tr><td>No answer              </td></tr>\n",
              "\t<tr><td>Buddhism               </td></tr>\n",
              "\t<tr><td>Moslem/islam           </td></tr>\n",
              "\t<tr><td>Other eastern          </td></tr>\n",
              "\t<tr><td>Don't know             </td></tr>\n",
              "</tbody>\n",
              "</table>\n"
            ],
            "text/markdown": "\nA tibble: 15 × 1\n\n| relig &lt;fct&gt; |\n|---|\n| Protestant              |\n| Orthodox-christian      |\n| None                    |\n| Christian               |\n| Jewish                  |\n| Catholic                |\n| Other                   |\n| Inter-nondenominational |\n| Hinduism                |\n| Native american         |\n| No answer               |\n| Buddhism                |\n| Moslem/islam            |\n| Other eastern           |\n| Don't know              |\n\n",
            "text/latex": "A tibble: 15 × 1\n\\begin{tabular}{l}\n relig\\\\\n <fct>\\\\\n\\hline\n\t Protestant             \\\\\n\t Orthodox-christian     \\\\\n\t None                   \\\\\n\t Christian              \\\\\n\t Jewish                 \\\\\n\t Catholic               \\\\\n\t Other                  \\\\\n\t Inter-nondenominational\\\\\n\t Hinduism               \\\\\n\t Native american        \\\\\n\t No answer              \\\\\n\t Buddhism               \\\\\n\t Moslem/islam           \\\\\n\t Other eastern          \\\\\n\t Don't know             \\\\\n\\end{tabular}\n",
            "text/plain": [
              "   relig                  \n",
              "1  Protestant             \n",
              "2  Orthodox-christian     \n",
              "3  None                   \n",
              "4  Christian              \n",
              "5  Jewish                 \n",
              "6  Catholic               \n",
              "7  Other                  \n",
              "8  Inter-nondenominational\n",
              "9  Hinduism               \n",
              "10 Native american        \n",
              "11 No answer              \n",
              "12 Buddhism               \n",
              "13 Moslem/islam           \n",
              "14 Other eastern          \n",
              "15 Don't know             "
            ]
          },
          "metadata": {}
        }
      ]
    },
    {
      "cell_type": "code",
      "metadata": {
        "id": "Q9aUU1OmKztB",
        "colab": {
          "base_uri": "https://localhost:8080/",
          "height": 69
        },
        "outputId": "11673e6c-6362-46c7-94a2-6e12fc0073bf"
      },
      "source": [
        "age_of_religion('Protestant'); age_of_religion('None'); age_of_religion('Hinduism')"
      ],
      "execution_count": 7,
      "outputs": [
        {
          "output_type": "display_data",
          "data": {
            "text/html": [
              "49"
            ],
            "text/markdown": "49",
            "text/latex": "49",
            "text/plain": [
              "[1] 49"
            ]
          },
          "metadata": {}
        },
        {
          "output_type": "display_data",
          "data": {
            "text/html": [
              "38"
            ],
            "text/markdown": "38",
            "text/latex": "38",
            "text/plain": [
              "[1] 38"
            ]
          },
          "metadata": {}
        },
        {
          "output_type": "display_data",
          "data": {
            "text/html": [
              "33"
            ],
            "text/markdown": "33",
            "text/latex": "33",
            "text/plain": [
              "[1] 33"
            ]
          },
          "metadata": {}
        }
      ]
    },
    {
      "cell_type": "markdown",
      "metadata": {
        "id": "x9k_keuWKztC"
      },
      "source": [
        "### 2.3 Write a generalized function for above code so that your function can work with different statistics such as mean, var etc, but keep median as default option."
      ]
    },
    {
      "cell_type": "code",
      "metadata": {
        "id": "n1hIIND0KztD",
        "colab": {
          "base_uri": "https://localhost:8080/",
          "height": 69
        },
        "outputId": "f3f5b2c4-8a46-4898-a7e5-ba987498b0b1"
      },
      "source": [
        "# generally it's a good idea to keep the name of the function informative\n",
        "# Think of what you might name this?\n",
        "f <- function(x, stat = median){\n",
        "    gss_cat %>% filter(relig == x) %>% \n",
        "    summarize(stat(age, na.rm=T)) %>% deframe\n",
        "}\n",
        "f('Jewish', median); f('Jewish', mean); f('Hinduism', sd)"
      ],
      "execution_count": 9,
      "outputs": [
        {
          "output_type": "display_data",
          "data": {
            "text/html": [
              "53"
            ],
            "text/markdown": "53",
            "text/latex": "53",
            "text/plain": [
              "[1] 53"
            ]
          },
          "metadata": {}
        },
        {
          "output_type": "display_data",
          "data": {
            "text/html": [
              "52.3953488372093"
            ],
            "text/markdown": "52.3953488372093",
            "text/latex": "52.3953488372093",
            "text/plain": [
              "[1] 52.39535"
            ]
          },
          "metadata": {}
        },
        {
          "output_type": "display_data",
          "data": {
            "text/html": [
              "13.0725084123314"
            ],
            "text/markdown": "13.0725084123314",
            "text/latex": "13.0725084123314",
            "text/plain": [
              "[1] 13.07251"
            ]
          },
          "metadata": {}
        }
      ]
    },
    {
      "cell_type": "markdown",
      "metadata": {
        "id": "7WHs5w8MKztE"
      },
      "source": [
        "### 2.4 We'll define a millennial to be someone who was 18 or younger in the year 2000. Are the millennials in this survey more likely to identify as atheist (`relig =='None'`) compared to earlier generations?"
      ]
    },
    {
      "cell_type": "code",
      "metadata": {
        "id": "Fpt-WdPzKztE",
        "colab": {
          "base_uri": "https://localhost:8080/",
          "height": 161
        },
        "outputId": "d80cf97d-8390-47bb-bd6a-b27adcee9a2f"
      },
      "source": [
        "gss_cat %>% \n",
        "    filter(!is.na(age)) %>%\n",
        "    mutate(age_2000 = age - (year-2000),\n",
        "           millenial = ifelse(age_2000 > 18, \n",
        "                              'not millenial', 'millenial')) %>%\n",
        "    group_by(millenial) %>%\n",
        "    summarize(Proportion = sum(relig=='None')/n(), religion = 'None')"
      ],
      "execution_count": 10,
      "outputs": [
        {
          "output_type": "display_data",
          "data": {
            "text/html": [
              "<table class=\"dataframe\">\n",
              "<caption>A tibble: 2 × 3</caption>\n",
              "<thead>\n",
              "\t<tr><th scope=col>millenial</th><th scope=col>Proportion</th><th scope=col>religion</th></tr>\n",
              "\t<tr><th scope=col>&lt;chr&gt;</th><th scope=col>&lt;dbl&gt;</th><th scope=col>&lt;chr&gt;</th></tr>\n",
              "</thead>\n",
              "<tbody>\n",
              "\t<tr><td>millenial    </td><td>0.2920228</td><td>None</td></tr>\n",
              "\t<tr><td>not millenial</td><td>0.1501995</td><td>None</td></tr>\n",
              "</tbody>\n",
              "</table>\n"
            ],
            "text/markdown": "\nA tibble: 2 × 3\n\n| millenial &lt;chr&gt; | Proportion &lt;dbl&gt; | religion &lt;chr&gt; |\n|---|---|---|\n| millenial     | 0.2920228 | None |\n| not millenial | 0.1501995 | None |\n\n",
            "text/latex": "A tibble: 2 × 3\n\\begin{tabular}{lll}\n millenial & Proportion & religion\\\\\n <chr> & <dbl> & <chr>\\\\\n\\hline\n\t millenial     & 0.2920228 & None\\\\\n\t not millenial & 0.1501995 & None\\\\\n\\end{tabular}\n",
            "text/plain": [
              "  millenial     Proportion religion\n",
              "1 millenial     0.2920228  None    \n",
              "2 not millenial 0.1501995  None    "
            ]
          },
          "metadata": {}
        }
      ]
    },
    {
      "cell_type": "markdown",
      "metadata": {
        "id": "8WTeI41wKztF"
      },
      "source": [
        "### 2.5 Generalize this to a comparison for any religion"
      ]
    },
    {
      "cell_type": "code",
      "metadata": {
        "id": "8-N-Bf77KztG"
      },
      "source": [
        "prop_millennial <- function(x){\n",
        "    gss_cat %>% \n",
        "    filter(!is.na(age)) %>%\n",
        "    mutate(age_2000 = age - (year-2000),\n",
        "           millenial = ifelse(age_2000 > 18, \n",
        "                              'not millenial', 'millenial')) %>%\n",
        "    group_by(millenial) %>%\n",
        "    summarize(Proportion = sum(relig==x)/n(), religion = x)\n",
        "}"
      ],
      "execution_count": 11,
      "outputs": []
    },
    {
      "cell_type": "code",
      "metadata": {
        "id": "aFiTj0syKztJ",
        "colab": {
          "base_uri": "https://localhost:8080/",
          "height": 161
        },
        "outputId": "8c04f32e-c0fd-4038-fef1-98802d5db526"
      },
      "source": [
        "prop_millennial('Jewish')"
      ],
      "execution_count": 12,
      "outputs": [
        {
          "output_type": "display_data",
          "data": {
            "text/html": [
              "<table class=\"dataframe\">\n",
              "<caption>A tibble: 2 × 3</caption>\n",
              "<thead>\n",
              "\t<tr><th scope=col>millenial</th><th scope=col>Proportion</th><th scope=col>religion</th></tr>\n",
              "\t<tr><th scope=col>&lt;chr&gt;</th><th scope=col>&lt;dbl&gt;</th><th scope=col>&lt;chr&gt;</th></tr>\n",
              "</thead>\n",
              "<tbody>\n",
              "\t<tr><td>millenial    </td><td>0.01044634</td><td>Jewish</td></tr>\n",
              "\t<tr><td>not millenial</td><td>0.01891094</td><td>Jewish</td></tr>\n",
              "</tbody>\n",
              "</table>\n"
            ],
            "text/markdown": "\nA tibble: 2 × 3\n\n| millenial &lt;chr&gt; | Proportion &lt;dbl&gt; | religion &lt;chr&gt; |\n|---|---|---|\n| millenial     | 0.01044634 | Jewish |\n| not millenial | 0.01891094 | Jewish |\n\n",
            "text/latex": "A tibble: 2 × 3\n\\begin{tabular}{lll}\n millenial & Proportion & religion\\\\\n <chr> & <dbl> & <chr>\\\\\n\\hline\n\t millenial     & 0.01044634 & Jewish\\\\\n\t not millenial & 0.01891094 & Jewish\\\\\n\\end{tabular}\n",
            "text/plain": [
              "  millenial     Proportion religion\n",
              "1 millenial     0.01044634 Jewish  \n",
              "2 not millenial 0.01891094 Jewish  "
            ]
          },
          "metadata": {}
        }
      ]
    },
    {
      "cell_type": "markdown",
      "metadata": {
        "id": "o6xOroZjKztL"
      },
      "source": [
        "### 2.6 Using the above function, make a generation trend table for all religions by calculating the percent change in proportion. (Compare to the image below.)"
      ]
    },
    {
      "cell_type": "code",
      "metadata": {
        "scrolled": true,
        "id": "TyDQCcr3KztM",
        "colab": {
          "base_uri": "https://localhost:8080/",
          "height": 1000
        },
        "outputId": "4d308519-1af5-4ee6-b6d6-91dde8dd10ce"
      },
      "source": [
        "relTrend = gss_cat %>% select(relig) %>% unique %>% deframe %>%\n",
        "map_dfr(prop_millennial)\n",
        "\n",
        "relTrend "
      ],
      "execution_count": 14,
      "outputs": [
        {
          "output_type": "display_data",
          "data": {
            "text/html": [
              "<table class=\"dataframe\">\n",
              "<caption>A tibble: 30 × 3</caption>\n",
              "<thead>\n",
              "\t<tr><th scope=col>millenial</th><th scope=col>Proportion</th><th scope=col>religion</th></tr>\n",
              "\t<tr><th scope=col>&lt;chr&gt;</th><th scope=col>&lt;dbl&gt;</th><th scope=col>&lt;fct&gt;</th></tr>\n",
              "</thead>\n",
              "<tbody>\n",
              "\t<tr><td>millenial    </td><td>0.3584995252</td><td>Protestant             </td></tr>\n",
              "\t<tr><td>not millenial</td><td>0.5213201389</td><td>Protestant             </td></tr>\n",
              "\t<tr><td>millenial    </td><td>0.0023741690</td><td>Orthodox-christian     </td></tr>\n",
              "\t<tr><td>not millenial</td><td>0.0046629708</td><td>Orthodox-christian     </td></tr>\n",
              "\t<tr><td>millenial    </td><td>0.2920227920</td><td>None                   </td></tr>\n",
              "\t<tr><td>not millenial</td><td>0.1501994715</td><td>None                   </td></tr>\n",
              "\t<tr><td>millenial    </td><td>0.0569800570</td><td>Christian              </td></tr>\n",
              "\t<tr><td>not millenial</td><td>0.0293767162</td><td>Christian              </td></tr>\n",
              "\t<tr><td>millenial    </td><td>0.0104463438</td><td>Jewish                 </td></tr>\n",
              "\t<tr><td>not millenial</td><td>0.0189109373</td><td>Jewish                 </td></tr>\n",
              "\t<tr><td>millenial    </td><td>0.2317188984</td><td>Catholic               </td></tr>\n",
              "\t<tr><td>not millenial</td><td>0.2390031605</td><td>Catholic               </td></tr>\n",
              "\t<tr><td>millenial    </td><td>0.0142450142</td><td>Other                  </td></tr>\n",
              "\t<tr><td>not millenial</td><td>0.0099476711</td><td>Other                  </td></tr>\n",
              "\t<tr><td>millenial    </td><td>0.0056980057</td><td>Inter-nondenominational</td></tr>\n",
              "\t<tr><td>not millenial</td><td>0.0050256463</td><td>Inter-nondenominational</td></tr>\n",
              "\t<tr><td>millenial    </td><td>0.0052231719</td><td>Hinduism               </td></tr>\n",
              "\t<tr><td>not millenial</td><td>0.0030568364</td><td>Hinduism               </td></tr>\n",
              "\t<tr><td>millenial    </td><td>0.0028490028</td><td>Native american        </td></tr>\n",
              "\t<tr><td>not millenial</td><td>0.0008807834</td><td>Native american        </td></tr>\n",
              "\t<tr><td>millenial    </td><td>0.0018993352</td><td>No answer              </td></tr>\n",
              "\t<tr><td>not millenial</td><td>0.0041966737</td><td>No answer              </td></tr>\n",
              "\t<tr><td>millenial    </td><td>0.0071225071</td><td>Buddhism               </td></tr>\n",
              "\t<tr><td>not millenial</td><td>0.0068390239</td><td>Buddhism               </td></tr>\n",
              "\t<tr><td>millenial    </td><td>0.0080721747</td><td>Moslem/islam           </td></tr>\n",
              "\t<tr><td>not millenial</td><td>0.0044557277</td><td>Moslem/islam           </td></tr>\n",
              "\t<tr><td>millenial    </td><td>0.0018993352</td><td>Other eastern          </td></tr>\n",
              "\t<tr><td>not millenial</td><td>0.0014507020</td><td>Other eastern          </td></tr>\n",
              "\t<tr><td>millenial    </td><td>0.0009496676</td><td>Don't know             </td></tr>\n",
              "\t<tr><td>not millenial</td><td>0.0006735402</td><td>Don't know             </td></tr>\n",
              "</tbody>\n",
              "</table>\n"
            ],
            "text/markdown": "\nA tibble: 30 × 3\n\n| millenial &lt;chr&gt; | Proportion &lt;dbl&gt; | religion &lt;fct&gt; |\n|---|---|---|\n| millenial     | 0.3584995252 | Protestant              |\n| not millenial | 0.5213201389 | Protestant              |\n| millenial     | 0.0023741690 | Orthodox-christian      |\n| not millenial | 0.0046629708 | Orthodox-christian      |\n| millenial     | 0.2920227920 | None                    |\n| not millenial | 0.1501994715 | None                    |\n| millenial     | 0.0569800570 | Christian               |\n| not millenial | 0.0293767162 | Christian               |\n| millenial     | 0.0104463438 | Jewish                  |\n| not millenial | 0.0189109373 | Jewish                  |\n| millenial     | 0.2317188984 | Catholic                |\n| not millenial | 0.2390031605 | Catholic                |\n| millenial     | 0.0142450142 | Other                   |\n| not millenial | 0.0099476711 | Other                   |\n| millenial     | 0.0056980057 | Inter-nondenominational |\n| not millenial | 0.0050256463 | Inter-nondenominational |\n| millenial     | 0.0052231719 | Hinduism                |\n| not millenial | 0.0030568364 | Hinduism                |\n| millenial     | 0.0028490028 | Native american         |\n| not millenial | 0.0008807834 | Native american         |\n| millenial     | 0.0018993352 | No answer               |\n| not millenial | 0.0041966737 | No answer               |\n| millenial     | 0.0071225071 | Buddhism                |\n| not millenial | 0.0068390239 | Buddhism                |\n| millenial     | 0.0080721747 | Moslem/islam            |\n| not millenial | 0.0044557277 | Moslem/islam            |\n| millenial     | 0.0018993352 | Other eastern           |\n| not millenial | 0.0014507020 | Other eastern           |\n| millenial     | 0.0009496676 | Don't know              |\n| not millenial | 0.0006735402 | Don't know              |\n\n",
            "text/latex": "A tibble: 30 × 3\n\\begin{tabular}{lll}\n millenial & Proportion & religion\\\\\n <chr> & <dbl> & <fct>\\\\\n\\hline\n\t millenial     & 0.3584995252 & Protestant             \\\\\n\t not millenial & 0.5213201389 & Protestant             \\\\\n\t millenial     & 0.0023741690 & Orthodox-christian     \\\\\n\t not millenial & 0.0046629708 & Orthodox-christian     \\\\\n\t millenial     & 0.2920227920 & None                   \\\\\n\t not millenial & 0.1501994715 & None                   \\\\\n\t millenial     & 0.0569800570 & Christian              \\\\\n\t not millenial & 0.0293767162 & Christian              \\\\\n\t millenial     & 0.0104463438 & Jewish                 \\\\\n\t not millenial & 0.0189109373 & Jewish                 \\\\\n\t millenial     & 0.2317188984 & Catholic               \\\\\n\t not millenial & 0.2390031605 & Catholic               \\\\\n\t millenial     & 0.0142450142 & Other                  \\\\\n\t not millenial & 0.0099476711 & Other                  \\\\\n\t millenial     & 0.0056980057 & Inter-nondenominational\\\\\n\t not millenial & 0.0050256463 & Inter-nondenominational\\\\\n\t millenial     & 0.0052231719 & Hinduism               \\\\\n\t not millenial & 0.0030568364 & Hinduism               \\\\\n\t millenial     & 0.0028490028 & Native american        \\\\\n\t not millenial & 0.0008807834 & Native american        \\\\\n\t millenial     & 0.0018993352 & No answer              \\\\\n\t not millenial & 0.0041966737 & No answer              \\\\\n\t millenial     & 0.0071225071 & Buddhism               \\\\\n\t not millenial & 0.0068390239 & Buddhism               \\\\\n\t millenial     & 0.0080721747 & Moslem/islam           \\\\\n\t not millenial & 0.0044557277 & Moslem/islam           \\\\\n\t millenial     & 0.0018993352 & Other eastern          \\\\\n\t not millenial & 0.0014507020 & Other eastern          \\\\\n\t millenial     & 0.0009496676 & Don't know             \\\\\n\t not millenial & 0.0006735402 & Don't know             \\\\\n\\end{tabular}\n",
            "text/plain": [
              "   millenial     Proportion   religion               \n",
              "1  millenial     0.3584995252 Protestant             \n",
              "2  not millenial 0.5213201389 Protestant             \n",
              "3  millenial     0.0023741690 Orthodox-christian     \n",
              "4  not millenial 0.0046629708 Orthodox-christian     \n",
              "5  millenial     0.2920227920 None                   \n",
              "6  not millenial 0.1501994715 None                   \n",
              "7  millenial     0.0569800570 Christian              \n",
              "8  not millenial 0.0293767162 Christian              \n",
              "9  millenial     0.0104463438 Jewish                 \n",
              "10 not millenial 0.0189109373 Jewish                 \n",
              "11 millenial     0.2317188984 Catholic               \n",
              "12 not millenial 0.2390031605 Catholic               \n",
              "13 millenial     0.0142450142 Other                  \n",
              "14 not millenial 0.0099476711 Other                  \n",
              "15 millenial     0.0056980057 Inter-nondenominational\n",
              "16 not millenial 0.0050256463 Inter-nondenominational\n",
              "17 millenial     0.0052231719 Hinduism               \n",
              "18 not millenial 0.0030568364 Hinduism               \n",
              "19 millenial     0.0028490028 Native american        \n",
              "20 not millenial 0.0008807834 Native american        \n",
              "21 millenial     0.0018993352 No answer              \n",
              "22 not millenial 0.0041966737 No answer              \n",
              "23 millenial     0.0071225071 Buddhism               \n",
              "24 not millenial 0.0068390239 Buddhism               \n",
              "25 millenial     0.0080721747 Moslem/islam           \n",
              "26 not millenial 0.0044557277 Moslem/islam           \n",
              "27 millenial     0.0018993352 Other eastern          \n",
              "28 not millenial 0.0014507020 Other eastern          \n",
              "29 millenial     0.0009496676 Don't know             \n",
              "30 not millenial 0.0006735402 Don't know             "
            ]
          },
          "metadata": {}
        }
      ]
    }
  ]
}