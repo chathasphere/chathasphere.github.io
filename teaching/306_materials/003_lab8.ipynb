{
  "nbformat": 4,
  "nbformat_minor": 0,
  "metadata": {
    "kernelspec": {
      "display_name": "R",
      "language": "R",
      "name": "ir"
    },
    "language_info": {
      "codemirror_mode": "r",
      "file_extension": ".r",
      "mimetype": "text/x-r-source",
      "name": "R",
      "pygments_lexer": "r",
      "version": "3.6.1"
    },
    "colab": {
      "name": "003_lab8.ipynb",
      "provenance": [],
      "collapsed_sections": [
        "sxHhHMb04SRj",
        "ml_PRW_m4SRn",
        "haJjBqC24SRo",
        "pKE4dYKX4SRo",
        "NM047q7m4SRt",
        "W9bFN3Hw4SR3",
        "ONTicl8L4SR9",
        "dFL1JzPpV43B",
        "k5c6hBZl4SSJ",
        "ZlyAaUzM4SSK",
        "DxtokEpo4SSN",
        "s22tnpPy4SSO",
        "6QnMX7K14SSO",
        "wyuD1sJ54SSP",
        "tlv65nQI4SSX"
      ],
      "include_colab_link": true
    }
  },
  "cells": [
    {
      "cell_type": "markdown",
      "metadata": {
        "id": "view-in-github",
        "colab_type": "text"
      },
      "source": [
        "<a href=\"https://colab.research.google.com/github/chathasphere/chathasphere.github.io/blob/main/teaching/306_materials/003_lab8.ipynb\" target=\"_parent\"><img src=\"https://colab.research.google.com/assets/colab-badge.svg\" alt=\"Open In Colab\"/></a>"
      ]
    },
    {
      "cell_type": "markdown",
      "metadata": {
        "id": "sxHhHMb04SRj"
      },
      "source": [
        "# Lab 8: Regular Expressions and Strings\n",
        "## March 22nd, 2022"
      ]
    },
    {
      "cell_type": "code",
      "metadata": {
        "scrolled": true,
        "colab": {
          "base_uri": "https://localhost:8080/"
        },
        "id": "4EdUO08G4SRm",
        "outputId": "b108b88c-83d2-4159-a66b-caeb02af13bd"
      },
      "source": [
        "require(tidyverse)\n",
        "require(stringr)"
      ],
      "execution_count": 1,
      "outputs": [
        {
          "output_type": "stream",
          "name": "stderr",
          "text": [
            "Loading required package: tidyverse\n",
            "\n",
            "Warning message in system(\"timedatectl\", intern = TRUE):\n",
            "“running command 'timedatectl' had status 1”\n",
            "── \u001b[1mAttaching packages\u001b[22m ─────────────────────────────────────── tidyverse 1.3.1 ──\n",
            "\n",
            "\u001b[32m✔\u001b[39m \u001b[34mggplot2\u001b[39m 3.3.5     \u001b[32m✔\u001b[39m \u001b[34mpurrr  \u001b[39m 0.3.4\n",
            "\u001b[32m✔\u001b[39m \u001b[34mtibble \u001b[39m 3.1.6     \u001b[32m✔\u001b[39m \u001b[34mdplyr  \u001b[39m 1.0.8\n",
            "\u001b[32m✔\u001b[39m \u001b[34mtidyr  \u001b[39m 1.2.0     \u001b[32m✔\u001b[39m \u001b[34mstringr\u001b[39m 1.4.0\n",
            "\u001b[32m✔\u001b[39m \u001b[34mreadr  \u001b[39m 2.1.2     \u001b[32m✔\u001b[39m \u001b[34mforcats\u001b[39m 0.5.1\n",
            "\n",
            "── \u001b[1mConflicts\u001b[22m ────────────────────────────────────────── tidyverse_conflicts() ──\n",
            "\u001b[31m✖\u001b[39m \u001b[34mdplyr\u001b[39m::\u001b[32mfilter()\u001b[39m masks \u001b[34mstats\u001b[39m::filter()\n",
            "\u001b[31m✖\u001b[39m \u001b[34mdplyr\u001b[39m::\u001b[32mlag()\u001b[39m    masks \u001b[34mstats\u001b[39m::lag()\n",
            "\n"
          ]
        }
      ]
    },
    {
      "cell_type": "markdown",
      "metadata": {
        "id": "ml_PRW_m4SRn"
      },
      "source": [
        "# 1. Regular Expressions\n",
        "\n",
        "Regular expressions (regex) are a way of describing **patterns** in text. In practice, they are used to search for (and/or replace) substrings. They can be trickyL\n",
        "\n",
        "`Some people, when confronted with a problem, think \"I know, I'll use regular expressions.\" Now they have two problems.` - Jamie Zawinski\n",
        "\n",
        "As a concrete example, suppose that we want to find and extract all the email addresses in a document. Do we manually search for all email addresses? Or do email addresses follow an abstract pattern that we can capture automatically?"
      ]
    },
    {
      "cell_type": "markdown",
      "metadata": {
        "id": "haJjBqC24SRo"
      },
      "source": [
        "## 1.1 Special characters\n",
        "\n",
        "Regex takes advantage of several reserved characters that are used for special functions. \n",
        "\n",
        "`. \\ | ( ) [ ] ^ $ { } * + ?`\n",
        "\n",
        "We'll go through a bunch of definitions. These will make more sense with some concrete examples later on. For more practice, you can check out https://regexone.com/."
      ]
    },
    {
      "cell_type": "markdown",
      "metadata": {
        "id": "pKE4dYKX4SRo"
      },
      "source": [
        "### Character classes\n",
        "\n",
        "* `.` matches anything (wildcard)\n",
        "* `[aeiou]` matches a single character in the set provided\n",
        "* `[^aeiou]` matches a single character NOT in the set\n",
        "* `[a-e]` matches a single character in a range, equivalent to `[abcde]`\n",
        "\n",
        "#### Shorthand\n",
        "\n",
        "* `\\w` matches a \"word\" character, equivalent to `[a-zA-Z0-9]`\n",
        "* `\\s` matches any whitespace, including tabs and newlines\n",
        "* `\\d` matches digits, equivalent to `[0-9]`\n",
        "* `\\W`, `\\S`, and `\\D` match the opposite of the lower-case versions\n",
        "\n",
        "#### Special characters\n",
        "\n",
        "* Note that `\\t` and `\\n` match the tab and newline characters. \n",
        "* If you want the \"literal\" versions of any of the reserved characters, (e.g., if we want to match the period \".\") you will need to escape them with a backslash `\\`, e.g. `[\\.\\\\\\|]`\n",
        "\n",
        "\n",
        "### Grouping\n",
        "\n",
        "* `()` are used to group patterns together. This can be used with any of the below operators. This can also be used to extract portions of a regex out individually, which we will later learn.\n",
        "* `\\1`, `\\2`, etc. refers to the first, second, etc. group in the match.\n",
        "\n",
        "### Operators\n",
        "\n",
        "* `|` is the OR operator and allows matches of either side\n",
        "* `{}` describes how many times the preceeding character of group must occur:\n",
        "  * `{m}` must occur exactly `m` times\n",
        "  * `{m,n}` must occur between `m` and `n` times, inclusive\n",
        "  * `{m,}` Must occur at least `m` times\n",
        "* `*` means the preceeding character can appear zero or more times, equivalent to `{0,}`\n",
        "* `+` means the preceeding character must appear one or more times, equivalent to `{1,}`\n",
        "* `?` means the preceeding character can appear zero or one time, equivalent to `{0,1}`\n",
        "\n",
        "### Anchors\n",
        "\n",
        "* `^` matches the start of a string (or line)\n",
        "* `$` matches the end of a string (or line)\n",
        "* `\\b` matches a word \"boundary\"\n",
        "* `\\B` matches not word boundary"
      ]
    },
    {
      "cell_type": "markdown",
      "metadata": {
        "id": "NM047q7m4SRt"
      },
      "source": [
        "# 2. Handling Strings in R"
      ]
    },
    {
      "cell_type": "markdown",
      "metadata": {
        "id": "O1vrxLGT4SRv"
      },
      "source": [
        "You're already familiar with the basics of strings. Note that there are some special characters. The most commonly used ones are `\\n` and `\\t` for newlines and tabs, respectively.\n",
        "\n",
        "Also note that there are some reserved characters do special things in strings. If you want to include them, you must escape them with a backslash `\\`."
      ]
    },
    {
      "cell_type": "code",
      "metadata": {
        "id": "j5u6YnKy4SRw"
      },
      "source": [
        "double_quote = \"hi\\\"bye\"\n",
        "backslash_ex = \"a\\\\tb\"\n",
        "backslash_ex2 = \"a\\tb\""
      ],
      "execution_count": 4,
      "outputs": []
    },
    {
      "cell_type": "markdown",
      "source": [
        "Running `print(double_quote)` shows the unformatted string--we'll want to use the `cat` function instead. 'cat' means \"concatenate and print.\""
      ],
      "metadata": {
        "id": "uiFmRp3LTV-0"
      }
    },
    {
      "cell_type": "code",
      "metadata": {
        "id": "JMn0sGJW4SRw",
        "outputId": "2fa55ad5-a5e2-41d1-a803-1ef2a04fb15f"
      },
      "source": [
        "cat(double_quote)"
      ],
      "execution_count": null,
      "outputs": [
        {
          "output_type": "stream",
          "text": [
            "hi\"bye"
          ],
          "name": "stdout"
        }
      ]
    },
    {
      "cell_type": "code",
      "metadata": {
        "id": "oF4UDlE_4SRx",
        "colab": {
          "base_uri": "https://localhost:8080/"
        },
        "outputId": "f0505ae7-adb8-4ee7-ed15-d6e2dd750650"
      },
      "source": [
        "cat(backslash_ex)"
      ],
      "execution_count": null,
      "outputs": [
        {
          "output_type": "stream",
          "text": [
            "a\\tb"
          ],
          "name": "stdout"
        }
      ]
    },
    {
      "cell_type": "code",
      "metadata": {
        "id": "51auAJ3F4SRy",
        "colab": {
          "base_uri": "https://localhost:8080/"
        },
        "outputId": "c048526a-f46c-441e-b1bd-becee01b02a0"
      },
      "source": [
        "cat(backslash_ex2)"
      ],
      "execution_count": null,
      "outputs": [
        {
          "output_type": "stream",
          "text": [
            "a\tb"
          ],
          "name": "stdout"
        }
      ]
    },
    {
      "cell_type": "markdown",
      "metadata": {
        "id": "imFnu94B4SRz"
      },
      "source": [
        "You’ll also sometimes see strings like `\"\\u00b5\"`($\\mu$), this is called Unicode-escaping, and is a way of writing non-ASCII characters that works on all platforms."
      ]
    },
    {
      "cell_type": "code",
      "metadata": {
        "id": "y9t_Kizq4SR0",
        "colab": {
          "base_uri": "https://localhost:8080/"
        },
        "outputId": "c205ca9c-f194-4cc1-b10e-a50845e7a863"
      },
      "source": [
        "cat(\"\\u00b5\")"
      ],
      "execution_count": null,
      "outputs": [
        {
          "output_type": "stream",
          "text": [
            "µ"
          ],
          "name": "stdout"
        }
      ]
    },
    {
      "cell_type": "code",
      "metadata": {
        "id": "vBw5mBlL4SR1",
        "colab": {
          "base_uri": "https://localhost:8080/"
        },
        "outputId": "4c7d77f2-443c-4980-9205-2320ae8c3946"
      },
      "source": [
        "cat(\"\\u00e7 (c-cedilla) is a Latin script letter, used in the Albanian, Azerbaijani, Manx, Tatar, Turkish, Turkmen, Kurdish, Zazaki, and Romance alphabets.\" )\n"
      ],
      "execution_count": null,
      "outputs": [
        {
          "output_type": "stream",
          "text": [
            "ç (c-cedilla) is a Latin script letter, used in the Albanian, Azerbaijani, Manx, Tatar, Turkish, Turkmen, Kurdish, Zazaki, and Romance alphabets."
          ],
          "name": "stdout"
        }
      ]
    },
    {
      "cell_type": "code",
      "metadata": {
        "id": "SaBSJY844SR2",
        "colab": {
          "base_uri": "https://localhost:8080/"
        },
        "outputId": "2b41c3de-16c2-4a70-d376-226a39c08e90"
      },
      "source": [
        "cat(\"You can even use emojis like: \\U0001f637\")"
      ],
      "execution_count": null,
      "outputs": [
        {
          "output_type": "stream",
          "text": [
            "You can even use emojis like: 😷"
          ],
          "name": "stdout"
        }
      ]
    },
    {
      "cell_type": "markdown",
      "metadata": {
        "id": "W9bFN3Hw4SR3"
      },
      "source": [
        "### String Functions"
      ]
    },
    {
      "cell_type": "code",
      "metadata": {
        "id": "5LLiEA7f4SR4"
      },
      "source": [
        "ne_states <- c(\"Connecticut\", \"Maine\", \"Massachusetts\", \"Vermont\", \"New Hampshire\", \"Rhode Island\")"
      ],
      "execution_count": 10,
      "outputs": []
    },
    {
      "cell_type": "code",
      "metadata": {
        "id": "wtn99UPF4SR4",
        "colab": {
          "base_uri": "https://localhost:8080/",
          "height": 34
        },
        "outputId": "addb5edf-de12-4670-83f3-957d2944c344"
      },
      "source": [
        "# measure the lengths of strings within a chr vector\n",
        "str_length(ne_states)"
      ],
      "execution_count": 17,
      "outputs": [
        {
          "output_type": "display_data",
          "data": {
            "text/html": [
              "<style>\n",
              ".list-inline {list-style: none; margin:0; padding: 0}\n",
              ".list-inline>li {display: inline-block}\n",
              ".list-inline>li:not(:last-child)::after {content: \"\\00b7\"; padding: 0 .5ex}\n",
              "</style>\n",
              "<ol class=list-inline><li>11</li><li>5</li><li>13</li><li>7</li><li>13</li><li>12</li></ol>\n"
            ],
            "text/markdown": "1. 11\n2. 5\n3. 13\n4. 7\n5. 13\n6. 12\n\n\n",
            "text/latex": "\\begin{enumerate*}\n\\item 11\n\\item 5\n\\item 13\n\\item 7\n\\item 13\n\\item 12\n\\end{enumerate*}\n",
            "text/plain": [
              "[1] 11  5 13  7 13 12"
            ]
          },
          "metadata": {}
        }
      ]
    },
    {
      "cell_type": "code",
      "source": [
        "# string analog of `c`\n",
        "str_c(\"lions\", \"tigers\", \"bears\", \"oh my!\")"
      ],
      "metadata": {
        "colab": {
          "base_uri": "https://localhost:8080/",
          "height": 34
        },
        "id": "hlhH5HYeUILS",
        "outputId": "bd8c8d3f-b7f9-44ac-eb29-b38b631fee41"
      },
      "execution_count": 15,
      "outputs": [
        {
          "output_type": "display_data",
          "data": {
            "text/html": [
              "'lionstigersbearsoh my!'"
            ],
            "text/markdown": "'lionstigersbearsoh my!'",
            "text/latex": "'lionstigersbearsoh my!'",
            "text/plain": [
              "[1] \"lionstigersbearsoh my!\""
            ]
          },
          "metadata": {}
        }
      ]
    },
    {
      "cell_type": "code",
      "metadata": {
        "id": "OAvpmRen4SR5",
        "colab": {
          "base_uri": "https://localhost:8080/"
        },
        "outputId": "b7d7deb4-a783-49ad-d0c9-9089c52b06e6"
      },
      "source": [
        "cat(str_c('Istanbul', 'Turkey\\n', sep=', '))\n",
        "cat(str_c('Ann Arbor', 'MI', \"USA\", sep=', '))"
      ],
      "execution_count": 18,
      "outputs": [
        {
          "output_type": "stream",
          "name": "stdout",
          "text": [
            "Istanbul, Turkey\n",
            "Ann Arbor, MI, USA"
          ]
        }
      ]
    },
    {
      "cell_type": "code",
      "source": [
        "# what happens when we combine str_c with c?\n",
        "vec <- c(\"a\", \"b\", \"c\")\n",
        "str_c(\"d\", vec)"
      ],
      "metadata": {
        "colab": {
          "base_uri": "https://localhost:8080/",
          "height": 34
        },
        "id": "FArt0ZZeUzi0",
        "outputId": "6a331c16-84d4-404c-8b7d-b6678dde22f8"
      },
      "execution_count": 21,
      "outputs": [
        {
          "output_type": "display_data",
          "data": {
            "text/html": [
              "<style>\n",
              ".list-inline {list-style: none; margin:0; padding: 0}\n",
              ".list-inline>li {display: inline-block}\n",
              ".list-inline>li:not(:last-child)::after {content: \"\\00b7\"; padding: 0 .5ex}\n",
              "</style>\n",
              "<ol class=list-inline><li>'da'</li><li>'db'</li><li>'dc'</li></ol>\n"
            ],
            "text/markdown": "1. 'da'\n2. 'db'\n3. 'dc'\n\n\n",
            "text/latex": "\\begin{enumerate*}\n\\item 'da'\n\\item 'db'\n\\item 'dc'\n\\end{enumerate*}\n",
            "text/plain": [
              "[1] \"da\" \"db\" \"dc\""
            ]
          },
          "metadata": {}
        }
      ]
    },
    {
      "cell_type": "code",
      "metadata": {
        "id": "20FNGJrH4SR6",
        "colab": {
          "base_uri": "https://localhost:8080/",
          "height": 34
        },
        "outputId": "ec750b57-8934-40ed-98ff-5704b578293c"
      },
      "source": [
        "x = c('abc', '123', NA)\n",
        "str_c('|-', x, '-|')"
      ],
      "execution_count": 22,
      "outputs": [
        {
          "output_type": "display_data",
          "data": {
            "text/html": [
              "<style>\n",
              ".list-inline {list-style: none; margin:0; padding: 0}\n",
              ".list-inline>li {display: inline-block}\n",
              ".list-inline>li:not(:last-child)::after {content: \"\\00b7\"; padding: 0 .5ex}\n",
              "</style>\n",
              "<ol class=list-inline><li>'|-abc-|'</li><li>'|-123-|'</li><li>NA</li></ol>\n"
            ],
            "text/markdown": "1. '|-abc-|'\n2. '|-123-|'\n3. NA\n\n\n",
            "text/latex": "\\begin{enumerate*}\n\\item '\\textbar{}-abc-\\textbar{}'\n\\item '\\textbar{}-123-\\textbar{}'\n\\item NA\n\\end{enumerate*}\n",
            "text/plain": [
              "[1] \"|-abc-|\" \"|-123-|\" NA       "
            ]
          },
          "metadata": {}
        }
      ]
    },
    {
      "cell_type": "code",
      "metadata": {
        "id": "4EwgrUJw4SR7",
        "colab": {
          "base_uri": "https://localhost:8080/",
          "height": 34
        },
        "outputId": "536aa304-573b-453a-f850-9021f9c420d2"
      },
      "source": [
        "str_c('|-', str_replace_na(x, \"UNK\"), '-|') # finds NA and replaces with 'UNK'"
      ],
      "execution_count": 24,
      "outputs": [
        {
          "output_type": "display_data",
          "data": {
            "text/html": [
              "<style>\n",
              ".list-inline {list-style: none; margin:0; padding: 0}\n",
              ".list-inline>li {display: inline-block}\n",
              ".list-inline>li:not(:last-child)::after {content: \"\\00b7\"; padding: 0 .5ex}\n",
              "</style>\n",
              "<ol class=list-inline><li>'|-abc-|'</li><li>'|-123-|'</li><li>'|-UNK-|'</li></ol>\n"
            ],
            "text/markdown": "1. '|-abc-|'\n2. '|-123-|'\n3. '|-UNK-|'\n\n\n",
            "text/latex": "\\begin{enumerate*}\n\\item '\\textbar{}-abc-\\textbar{}'\n\\item '\\textbar{}-123-\\textbar{}'\n\\item '\\textbar{}-UNK-\\textbar{}'\n\\end{enumerate*}\n",
            "text/plain": [
              "[1] \"|-abc-|\" \"|-123-|\" \"|-UNK-|\""
            ]
          },
          "metadata": {}
        }
      ]
    },
    {
      "cell_type": "markdown",
      "metadata": {
        "id": "7zUgvijL4SR8"
      },
      "source": [
        "To collapse a vector of strings, use the `collapse` argument to `str_c`:"
      ]
    },
    {
      "cell_type": "code",
      "metadata": {
        "scrolled": true,
        "id": "3PoBoyck4SR8",
        "colab": {
          "base_uri": "https://localhost:8080/",
          "height": 34
        },
        "outputId": "8c653d0d-5007-4a98-da11-2749225f051a"
      },
      "source": [
        "str_c(ne_states, collapse=\", \")"
      ],
      "execution_count": 25,
      "outputs": [
        {
          "output_type": "display_data",
          "data": {
            "text/html": [
              "'Connecticut, Maine, Massachusetts, Vermont, New Hampshire, Rhode Island'"
            ],
            "text/markdown": "'Connecticut, Maine, Massachusetts, Vermont, New Hampshire, Rhode Island'",
            "text/latex": "'Connecticut, Maine, Massachusetts, Vermont, New Hampshire, Rhode Island'",
            "text/plain": [
              "[1] \"Connecticut, Maine, Massachusetts, Vermont, New Hampshire, Rhode Island\""
            ]
          },
          "metadata": {}
        }
      ]
    },
    {
      "cell_type": "markdown",
      "metadata": {
        "id": "ONTicl8L4SR9"
      },
      "source": [
        "### Subsetting Strings"
      ]
    },
    {
      "cell_type": "code",
      "metadata": {
        "id": "JAXZif4W4SR9",
        "colab": {
          "base_uri": "https://localhost:8080/",
          "height": 32
        },
        "outputId": "29fe31e1-9fc6-44c9-ebf2-5abfeec9c817"
      },
      "source": [
        "ne_states = c(\"Connecticut\", \"Maine\", \"Massachusetts\", \"Vermont\", \"New Hampshire\", \"Rhode Island\")\n",
        "ne_states"
      ],
      "execution_count": null,
      "outputs": [
        {
          "output_type": "display_data",
          "data": {
            "text/plain": [
              "[1] \"Connecticut\"   \"Maine\"         \"Massachusetts\" \"Vermont\"      \n",
              "[5] \"New Hampshire\" \"Rhode Island\" "
            ],
            "text/latex": "\\begin{enumerate*}\n\\item 'Connecticut'\n\\item 'Maine'\n\\item 'Massachusetts'\n\\item 'Vermont'\n\\item 'New Hampshire'\n\\item 'Rhode Island'\n\\end{enumerate*}\n",
            "text/markdown": "1. 'Connecticut'\n2. 'Maine'\n3. 'Massachusetts'\n4. 'Vermont'\n5. 'New Hampshire'\n6. 'Rhode Island'\n\n\n",
            "text/html": [
              "<style>\n",
              ".list-inline {list-style: none; margin:0; padding: 0}\n",
              ".list-inline>li {display: inline-block}\n",
              ".list-inline>li:not(:last-child)::after {content: \"\\00b7\"; padding: 0 .5ex}\n",
              "</style>\n",
              "<ol class=list-inline><li>'Connecticut'</li><li>'Maine'</li><li>'Massachusetts'</li><li>'Vermont'</li><li>'New Hampshire'</li><li>'Rhode Island'</li></ol>\n"
            ]
          },
          "metadata": {
            "tags": []
          }
        }
      ]
    },
    {
      "cell_type": "code",
      "metadata": {
        "id": "tB5GEjMA4SR-",
        "colab": {
          "base_uri": "https://localhost:8080/",
          "height": 34
        },
        "outputId": "a78f14c6-0e1b-4c48-e557-7b5502ec9140"
      },
      "source": [
        "# selects first 3 characters in each\n",
        "str_sub(ne_states, 1, 3)"
      ],
      "execution_count": 29,
      "outputs": [
        {
          "output_type": "display_data",
          "data": {
            "text/html": [
              "<style>\n",
              ".list-inline {list-style: none; margin:0; padding: 0}\n",
              ".list-inline>li {display: inline-block}\n",
              ".list-inline>li:not(:last-child)::after {content: \"\\00b7\"; padding: 0 .5ex}\n",
              "</style>\n",
              "<ol class=list-inline><li>'Con'</li><li>'Mai'</li><li>'Mas'</li><li>'Ver'</li><li>'New'</li><li>'Rho'</li></ol>\n"
            ],
            "text/markdown": "1. 'Con'\n2. 'Mai'\n3. 'Mas'\n4. 'Ver'\n5. 'New'\n6. 'Rho'\n\n\n",
            "text/latex": "\\begin{enumerate*}\n\\item 'Con'\n\\item 'Mai'\n\\item 'Mas'\n\\item 'Ver'\n\\item 'New'\n\\item 'Rho'\n\\end{enumerate*}\n",
            "text/plain": [
              "[1] \"Con\" \"Mai\" \"Mas\" \"Ver\" \"New\" \"Rho\""
            ]
          },
          "metadata": {}
        }
      ]
    },
    {
      "cell_type": "code",
      "metadata": {
        "id": "8o_vUURs4SR-",
        "colab": {
          "base_uri": "https://localhost:8080/",
          "height": 32
        },
        "outputId": "baa333d1-737e-47a6-a9e8-e20948ff8930"
      },
      "source": [
        "# selects last 3 characters\n",
        "str_sub(ne_states, -3, -1)"
      ],
      "execution_count": null,
      "outputs": [
        {
          "output_type": "display_data",
          "data": {
            "text/plain": [
              "[1] \"cut\" \"ine\" \"tts\" \"ont\" \"ire\" \"and\""
            ],
            "text/latex": "\\begin{enumerate*}\n\\item 'cut'\n\\item 'ine'\n\\item 'tts'\n\\item 'ont'\n\\item 'ire'\n\\item 'and'\n\\end{enumerate*}\n",
            "text/markdown": "1. 'cut'\n2. 'ine'\n3. 'tts'\n4. 'ont'\n5. 'ire'\n6. 'and'\n\n\n",
            "text/html": [
              "<style>\n",
              ".list-inline {list-style: none; margin:0; padding: 0}\n",
              ".list-inline>li {display: inline-block}\n",
              ".list-inline>li:not(:last-child)::after {content: \"\\00b7\"; padding: 0 .5ex}\n",
              "</style>\n",
              "<ol class=list-inline><li>'cut'</li><li>'ine'</li><li>'tts'</li><li>'ont'</li><li>'ire'</li><li>'and'</li></ol>\n"
            ]
          },
          "metadata": {
            "tags": []
          }
        }
      ]
    },
    {
      "cell_type": "code",
      "metadata": {
        "id": "mGE_dURK4SR_",
        "colab": {
          "base_uri": "https://localhost:8080/",
          "height": 34
        },
        "outputId": "c192acec-adb3-4bf8-fb38-429e37dd2f89"
      },
      "source": [
        "str_sub(ne_states, 1, 7)  # Maine is 5 letters, but this worked still"
      ],
      "execution_count": 30,
      "outputs": [
        {
          "output_type": "display_data",
          "data": {
            "text/html": [
              "<style>\n",
              ".list-inline {list-style: none; margin:0; padding: 0}\n",
              ".list-inline>li {display: inline-block}\n",
              ".list-inline>li:not(:last-child)::after {content: \"\\00b7\"; padding: 0 .5ex}\n",
              "</style>\n",
              "<ol class=list-inline><li>'Connect'</li><li>'Maine'</li><li>'Massach'</li><li>'Vermont'</li><li>'New Ham'</li><li>'Rhode I'</li></ol>\n"
            ],
            "text/markdown": "1. 'Connect'\n2. 'Maine'\n3. 'Massach'\n4. 'Vermont'\n5. 'New Ham'\n6. 'Rhode I'\n\n\n",
            "text/latex": "\\begin{enumerate*}\n\\item 'Connect'\n\\item 'Maine'\n\\item 'Massach'\n\\item 'Vermont'\n\\item 'New Ham'\n\\item 'Rhode I'\n\\end{enumerate*}\n",
            "text/plain": [
              "[1] \"Connect\" \"Maine\"   \"Massach\" \"Vermont\" \"New Ham\" \"Rhode I\""
            ]
          },
          "metadata": {}
        }
      ]
    },
    {
      "cell_type": "code",
      "metadata": {
        "id": "k2kj_Nnz4SSA",
        "colab": {
          "base_uri": "https://localhost:8080/",
          "height": 34
        },
        "outputId": "d502167d-4f4b-41bf-9e13-12a9ade623d2"
      },
      "source": [
        "# select and mutate substrings\n",
        "str_sub(ne_states, 1, 1) <- str_to_lower(str_sub(ne_states, 1, 1))\n",
        "# this alters the original string!\n",
        "ne_states"
      ],
      "execution_count": 31,
      "outputs": [
        {
          "output_type": "display_data",
          "data": {
            "text/html": [
              "<style>\n",
              ".list-inline {list-style: none; margin:0; padding: 0}\n",
              ".list-inline>li {display: inline-block}\n",
              ".list-inline>li:not(:last-child)::after {content: \"\\00b7\"; padding: 0 .5ex}\n",
              "</style>\n",
              "<ol class=list-inline><li>'connecticut'</li><li>'maine'</li><li>'massachusetts'</li><li>'vermont'</li><li>'new Hampshire'</li><li>'rhode Island'</li></ol>\n"
            ],
            "text/markdown": "1. 'connecticut'\n2. 'maine'\n3. 'massachusetts'\n4. 'vermont'\n5. 'new Hampshire'\n6. 'rhode Island'\n\n\n",
            "text/latex": "\\begin{enumerate*}\n\\item 'connecticut'\n\\item 'maine'\n\\item 'massachusetts'\n\\item 'vermont'\n\\item 'new Hampshire'\n\\item 'rhode Island'\n\\end{enumerate*}\n",
            "text/plain": [
              "[1] \"connecticut\"   \"maine\"         \"massachusetts\" \"vermont\"      \n",
              "[5] \"new Hampshire\" \"rhode Island\" "
            ]
          },
          "metadata": {}
        }
      ]
    },
    {
      "cell_type": "code",
      "metadata": {
        "id": "RI8ZJlz74SSD",
        "colab": {
          "base_uri": "https://localhost:8080/",
          "height": 32
        },
        "outputId": "fd25b096-c2d8-44ec-dcb7-89782a1a5c50"
      },
      "source": [
        "str_sub(ne_states, -3, -1) <- str_to_upper(str_sub(ne_states, -3, -1))\n",
        "ne_states"
      ],
      "execution_count": null,
      "outputs": [
        {
          "output_type": "display_data",
          "data": {
            "text/plain": [
              "[1] \"connectiCUT\"   \"maINE\"         \"massachuseTTS\" \"vermONT\"      \n",
              "[5] \"new HampshIRE\" \"rhode IslAND\" "
            ],
            "text/latex": "\\begin{enumerate*}\n\\item 'connectiCUT'\n\\item 'maINE'\n\\item 'massachuseTTS'\n\\item 'vermONT'\n\\item 'new HampshIRE'\n\\item 'rhode IslAND'\n\\end{enumerate*}\n",
            "text/markdown": "1. 'connectiCUT'\n2. 'maINE'\n3. 'massachuseTTS'\n4. 'vermONT'\n5. 'new HampshIRE'\n6. 'rhode IslAND'\n\n\n",
            "text/html": [
              "<style>\n",
              ".list-inline {list-style: none; margin:0; padding: 0}\n",
              ".list-inline>li {display: inline-block}\n",
              ".list-inline>li:not(:last-child)::after {content: \"\\00b7\"; padding: 0 .5ex}\n",
              "</style>\n",
              "<ol class=list-inline><li>'connectiCUT'</li><li>'maINE'</li><li>'massachuseTTS'</li><li>'vermONT'</li><li>'new HampshIRE'</li><li>'rhode IslAND'</li></ol>\n"
            ]
          },
          "metadata": {
            "tags": []
          }
        }
      ]
    },
    {
      "cell_type": "markdown",
      "source": [
        "### String Replacement\n",
        "We have seen this in previous labs, but a quick review..."
      ],
      "metadata": {
        "id": "dFL1JzPpV43B"
      }
    },
    {
      "cell_type": "code",
      "source": [
        "str_replace(\"dragonfly\", \"fly\", \"\")"
      ],
      "metadata": {
        "colab": {
          "base_uri": "https://localhost:8080/",
          "height": 34
        },
        "id": "0ZIWrTTvWHGx",
        "outputId": "ea9c5127-686c-465a-ca8a-03007d868601"
      },
      "execution_count": 34,
      "outputs": [
        {
          "output_type": "display_data",
          "data": {
            "text/html": [
              "'dragon'"
            ],
            "text/markdown": "'dragon'",
            "text/latex": "'dragon'",
            "text/plain": [
              "[1] \"dragon\""
            ]
          },
          "metadata": {}
        }
      ]
    },
    {
      "cell_type": "code",
      "source": [
        "str_replace_all(\"banana\", \"a\", \"o\")"
      ],
      "metadata": {
        "colab": {
          "base_uri": "https://localhost:8080/",
          "height": 34
        },
        "id": "SXWOH8D1V_pV",
        "outputId": "597382b5-8149-4cef-8063-742bde7a7835"
      },
      "execution_count": 35,
      "outputs": [
        {
          "output_type": "display_data",
          "data": {
            "text/html": [
              "'bonono'"
            ],
            "text/markdown": "'bonono'",
            "text/latex": "'bonono'",
            "text/plain": [
              "[1] \"bonono\""
            ]
          },
          "metadata": {}
        }
      ]
    },
    {
      "cell_type": "markdown",
      "metadata": {
        "id": "3W_mPppR4SSE"
      },
      "source": [
        "# 3. RegEx in R\n",
        "\n",
        "In `R`, we will use  `str_detect` and `str_extract` (or `str_extract_all`) to play wtih regular expressions."
      ]
    },
    {
      "cell_type": "code",
      "metadata": {
        "id": "-OQS-xjM4SSF"
      },
      "source": [
        "x = c(\"apple\", \"banana\", \"pear\", \"orange\")"
      ],
      "execution_count": 38,
      "outputs": []
    },
    {
      "cell_type": "code",
      "metadata": {
        "id": "eaV60Syb4SSG",
        "colab": {
          "base_uri": "https://localhost:8080/",
          "height": 34
        },
        "outputId": "ad9a6ec4-097b-4f11-8b03-33973c8f1782"
      },
      "source": [
        "str_detect(x, \"an\")"
      ],
      "execution_count": 39,
      "outputs": [
        {
          "output_type": "display_data",
          "data": {
            "text/html": [
              "<style>\n",
              ".list-inline {list-style: none; margin:0; padding: 0}\n",
              ".list-inline>li {display: inline-block}\n",
              ".list-inline>li:not(:last-child)::after {content: \"\\00b7\"; padding: 0 .5ex}\n",
              "</style>\n",
              "<ol class=list-inline><li>FALSE</li><li>TRUE</li><li>FALSE</li><li>TRUE</li></ol>\n"
            ],
            "text/markdown": "1. FALSE\n2. TRUE\n3. FALSE\n4. TRUE\n\n\n",
            "text/latex": "\\begin{enumerate*}\n\\item FALSE\n\\item TRUE\n\\item FALSE\n\\item TRUE\n\\end{enumerate*}\n",
            "text/plain": [
              "[1] FALSE  TRUE FALSE  TRUE"
            ]
          },
          "metadata": {}
        }
      ]
    },
    {
      "cell_type": "code",
      "metadata": {
        "scrolled": true,
        "id": "nNPWfO0n4SSH",
        "colab": {
          "base_uri": "https://localhost:8080/",
          "height": 34
        },
        "outputId": "8cad9555-c0c3-48ec-9603-b7b88a8e2b36"
      },
      "source": [
        "str_extract(x, \"an\")"
      ],
      "execution_count": 40,
      "outputs": [
        {
          "output_type": "display_data",
          "data": {
            "text/html": [
              "<style>\n",
              ".list-inline {list-style: none; margin:0; padding: 0}\n",
              ".list-inline>li {display: inline-block}\n",
              ".list-inline>li:not(:last-child)::after {content: \"\\00b7\"; padding: 0 .5ex}\n",
              "</style>\n",
              "<ol class=list-inline><li>NA</li><li>'an'</li><li>NA</li><li>'an'</li></ol>\n"
            ],
            "text/markdown": "1. NA\n2. 'an'\n3. NA\n4. 'an'\n\n\n",
            "text/latex": "\\begin{enumerate*}\n\\item NA\n\\item 'an'\n\\item NA\n\\item 'an'\n\\end{enumerate*}\n",
            "text/plain": [
              "[1] NA   \"an\" NA   \"an\""
            ]
          },
          "metadata": {}
        }
      ]
    },
    {
      "cell_type": "code",
      "metadata": {
        "id": "A-dD10m04SSI"
      },
      "source": [
        "baseball = \"According to Baseball Reference’s wins above average, The Red Sox had the best \n",
        "outfield in baseball— one-tenth of a win ahead of the Milwaukee Brewers, 11.5 to 11.4. And \n",
        "that’s despite, I’d argue, the two best position players in the NL this year (Christian \n",
        "Yelich and Lorenzo Cain) being Brewers outfielders. More importantly, the distance from \n",
        "Boston and Milwaukee to the third-place Yankees is about five wins. Two-thirds of the Los \n",
        "Angeles Angels’ outfield is Mike Trout (the best player in baseball) and Justin Upton (a \n",
        "four-time All-Star who hit 30 home runs and posted a 122 OPS+ and .348 wOba this year), \n",
        "and in order to get to 11.5 WAA, the Angels’ outfield would have had to replace right \n",
        "fielder Kole Calhoun with one of the three best outfielders in baseball this year by WAA.\""
      ],
      "execution_count": 37,
      "outputs": []
    },
    {
      "cell_type": "markdown",
      "metadata": {
        "id": "k5c6hBZl4SSJ"
      },
      "source": [
        "#### 1 Write a regex that captures all capitalized words."
      ]
    },
    {
      "cell_type": "code",
      "metadata": {
        "id": "Bu-0c1g84SSJ",
        "colab": {
          "base_uri": "https://localhost:8080/",
          "height": 80
        },
        "outputId": "57cdd146-1262-4de3-cd44-49ffcb01babe"
      },
      "source": [
        "str_extract_all(baseball, \"\\\\b[A-Z][a-z]+\") #1 Write a regex that captures all capitalized words.\n",
        "# think for a second: why do we need two backslashes to begin with?"
      ],
      "execution_count": 43,
      "outputs": [
        {
          "output_type": "display_data",
          "data": {
            "text/html": [
              "<ol>\n",
              "\t<li><style>\n",
              ".list-inline {list-style: none; margin:0; padding: 0}\n",
              ".list-inline>li {display: inline-block}\n",
              ".list-inline>li:not(:last-child)::after {content: \"\\00b7\"; padding: 0 .5ex}\n",
              "</style>\n",
              "<ol class=list-inline><li>'According'</li><li>'Baseball'</li><li>'Reference'</li><li>'The'</li><li>'Red'</li><li>'Sox'</li><li>'Milwaukee'</li><li>'Brewers'</li><li>'And'</li><li>'Christian'</li><li>'Yelich'</li><li>'Lorenzo'</li><li>'Cain'</li><li>'Brewers'</li><li>'More'</li><li>'Boston'</li><li>'Milwaukee'</li><li>'Yankees'</li><li>'Two'</li><li>'Los'</li><li>'Angeles'</li><li>'Angels'</li><li>'Mike'</li><li>'Trout'</li><li>'Justin'</li><li>'Upton'</li><li>'All'</li><li>'Star'</li><li>'Angels'</li><li>'Kole'</li><li>'Calhoun'</li></ol>\n",
              "</li>\n",
              "</ol>\n"
            ],
            "text/markdown": "1. 1. 'According'\n2. 'Baseball'\n3. 'Reference'\n4. 'The'\n5. 'Red'\n6. 'Sox'\n7. 'Milwaukee'\n8. 'Brewers'\n9. 'And'\n10. 'Christian'\n11. 'Yelich'\n12. 'Lorenzo'\n13. 'Cain'\n14. 'Brewers'\n15. 'More'\n16. 'Boston'\n17. 'Milwaukee'\n18. 'Yankees'\n19. 'Two'\n20. 'Los'\n21. 'Angeles'\n22. 'Angels'\n23. 'Mike'\n24. 'Trout'\n25. 'Justin'\n26. 'Upton'\n27. 'All'\n28. 'Star'\n29. 'Angels'\n30. 'Kole'\n31. 'Calhoun'\n\n\n\n\n\n",
            "text/latex": "\\begin{enumerate}\n\\item \\begin{enumerate*}\n\\item 'According'\n\\item 'Baseball'\n\\item 'Reference'\n\\item 'The'\n\\item 'Red'\n\\item 'Sox'\n\\item 'Milwaukee'\n\\item 'Brewers'\n\\item 'And'\n\\item 'Christian'\n\\item 'Yelich'\n\\item 'Lorenzo'\n\\item 'Cain'\n\\item 'Brewers'\n\\item 'More'\n\\item 'Boston'\n\\item 'Milwaukee'\n\\item 'Yankees'\n\\item 'Two'\n\\item 'Los'\n\\item 'Angeles'\n\\item 'Angels'\n\\item 'Mike'\n\\item 'Trout'\n\\item 'Justin'\n\\item 'Upton'\n\\item 'All'\n\\item 'Star'\n\\item 'Angels'\n\\item 'Kole'\n\\item 'Calhoun'\n\\end{enumerate*}\n\n\\end{enumerate}\n",
            "text/plain": [
              "[[1]]\n",
              " [1] \"According\" \"Baseball\"  \"Reference\" \"The\"       \"Red\"       \"Sox\"      \n",
              " [7] \"Milwaukee\" \"Brewers\"   \"And\"       \"Christian\" \"Yelich\"    \"Lorenzo\"  \n",
              "[13] \"Cain\"      \"Brewers\"   \"More\"      \"Boston\"    \"Milwaukee\" \"Yankees\"  \n",
              "[19] \"Two\"       \"Los\"       \"Angeles\"   \"Angels\"    \"Mike\"      \"Trout\"    \n",
              "[25] \"Justin\"    \"Upton\"     \"All\"       \"Star\"      \"Angels\"    \"Kole\"     \n",
              "[31] \"Calhoun\"  \n"
            ]
          },
          "metadata": {}
        }
      ]
    },
    {
      "cell_type": "markdown",
      "source": [
        "Breaking down the above Regex:\n",
        "- `\\b` looks for a word boundary (not just the beginning of the text snippet!)\n",
        "- `[A-Z]` matches a single capitalized letter\n",
        "- `[a-z]` matches a single lowercase letter\n",
        "- `+` means we match arbitrarily many lowercase letters"
      ],
      "metadata": {
        "id": "GNCC5DCsW0o-"
      }
    },
    {
      "cell_type": "markdown",
      "metadata": {
        "id": "ZlyAaUzM4SSK"
      },
      "source": [
        "#### 2 Write a regex that captures all the numbers"
      ]
    },
    {
      "cell_type": "code",
      "metadata": {
        "scrolled": true,
        "id": "bKB0tZ0R4SSL",
        "colab": {
          "base_uri": "https://localhost:8080/",
          "height": 62
        },
        "outputId": "f36c50ce-3175-4ef3-a285-b5fbe0531f49"
      },
      "source": [
        "str_extract_all(baseball, \"\\\\.?\\\\d+\\\\.?\\\\d*\") \n",
        "# exercise: break down what the component parts of this Regex are doing"
      ],
      "execution_count": 45,
      "outputs": [
        {
          "output_type": "display_data",
          "data": {
            "text/html": [
              "<ol>\n",
              "\t<li><style>\n",
              ".list-inline {list-style: none; margin:0; padding: 0}\n",
              ".list-inline>li {display: inline-block}\n",
              ".list-inline>li:not(:last-child)::after {content: \"\\00b7\"; padding: 0 .5ex}\n",
              "</style>\n",
              "<ol class=list-inline><li>'11.5'</li><li>'11.4'</li><li>'30'</li><li>'122'</li><li>'.348'</li><li>'11.5'</li></ol>\n",
              "</li>\n",
              "</ol>\n"
            ],
            "text/markdown": "1. 1. '11.5'\n2. '11.4'\n3. '30'\n4. '122'\n5. '.348'\n6. '11.5'\n\n\n\n\n\n",
            "text/latex": "\\begin{enumerate}\n\\item \\begin{enumerate*}\n\\item '11.5'\n\\item '11.4'\n\\item '30'\n\\item '122'\n\\item '.348'\n\\item '11.5'\n\\end{enumerate*}\n\n\\end{enumerate}\n",
            "text/plain": [
              "[[1]]\n",
              "[1] \"11.5\" \"11.4\" \"30\"   \"122\"  \".348\" \"11.5\"\n"
            ]
          },
          "metadata": {}
        }
      ]
    },
    {
      "cell_type": "markdown",
      "metadata": {
        "id": "DxtokEpo4SSN"
      },
      "source": [
        "#### 3 Write a regex that captures all hyphenated words"
      ]
    },
    {
      "cell_type": "code",
      "metadata": {
        "id": "9brh6ftb4SSN",
        "colab": {
          "base_uri": "https://localhost:8080/",
          "height": 62
        },
        "outputId": "563e987f-aaee-4954-9f45-6f2a8cde4654"
      },
      "source": [
        "str_extract_all(baseball, \"\\\\w+-\\\\w+\") # \\w stands for an arbitrary letter"
      ],
      "execution_count": 46,
      "outputs": [
        {
          "output_type": "display_data",
          "data": {
            "text/html": [
              "<ol>\n",
              "\t<li><style>\n",
              ".list-inline {list-style: none; margin:0; padding: 0}\n",
              ".list-inline>li {display: inline-block}\n",
              ".list-inline>li:not(:last-child)::after {content: \"\\00b7\"; padding: 0 .5ex}\n",
              "</style>\n",
              "<ol class=list-inline><li>'one-tenth'</li><li>'third-place'</li><li>'Two-thirds'</li><li>'four-time'</li><li>'All-Star'</li></ol>\n",
              "</li>\n",
              "</ol>\n"
            ],
            "text/markdown": "1. 1. 'one-tenth'\n2. 'third-place'\n3. 'Two-thirds'\n4. 'four-time'\n5. 'All-Star'\n\n\n\n\n\n",
            "text/latex": "\\begin{enumerate}\n\\item \\begin{enumerate*}\n\\item 'one-tenth'\n\\item 'third-place'\n\\item 'Two-thirds'\n\\item 'four-time'\n\\item 'All-Star'\n\\end{enumerate*}\n\n\\end{enumerate}\n",
            "text/plain": [
              "[[1]]\n",
              "[1] \"one-tenth\"   \"third-place\" \"Two-thirds\"  \"four-time\"   \"All-Star\"   \n"
            ]
          },
          "metadata": {}
        }
      ]
    },
    {
      "cell_type": "markdown",
      "metadata": {
        "id": "s22tnpPy4SSO"
      },
      "source": [
        "#### 4 Write a regex that captures all words with two consecutive wovels"
      ]
    },
    {
      "cell_type": "code",
      "metadata": {
        "scrolled": true,
        "id": "pSjiyrd54SSO",
        "colab": {
          "base_uri": "https://localhost:8080/",
          "height": 77
        },
        "outputId": "a2de3222-7cac-4ba8-801b-0449e78648ed"
      },
      "source": [
        "str_extract_all(baseball, \"\\\\w*[aeiou]{2}\\\\w*\")"
      ],
      "execution_count": null,
      "outputs": [
        {
          "output_type": "display_data",
          "data": {
            "text/plain": [
              "[[1]]\n",
              " [1] \"outfield\"    \"ahead\"       \"Milwaukee\"   \"argue\"       \"position\"   \n",
              " [6] \"year\"        \"Christian\"   \"Cain\"        \"being\"       \"outfielders\"\n",
              "[11] \"Milwaukee\"   \"Yankees\"     \"about\"       \"outfield\"    \"Trout\"      \n",
              "[16] \"four\"        \"year\"        \"outfield\"    \"would\"       \"fielder\"    \n",
              "[21] \"Calhoun\"     \"three\"       \"outfielders\" \"year\"       \n"
            ],
            "text/latex": "\\begin{enumerate}\n\\item \\begin{enumerate*}\n\\item 'outfield'\n\\item 'ahead'\n\\item 'Milwaukee'\n\\item 'argue'\n\\item 'position'\n\\item 'year'\n\\item 'Christian'\n\\item 'Cain'\n\\item 'being'\n\\item 'outfielders'\n\\item 'Milwaukee'\n\\item 'Yankees'\n\\item 'about'\n\\item 'outfield'\n\\item 'Trout'\n\\item 'four'\n\\item 'year'\n\\item 'outfield'\n\\item 'would'\n\\item 'fielder'\n\\item 'Calhoun'\n\\item 'three'\n\\item 'outfielders'\n\\item 'year'\n\\end{enumerate*}\n\n\\end{enumerate}\n",
            "text/markdown": "1. 1. 'outfield'\n2. 'ahead'\n3. 'Milwaukee'\n4. 'argue'\n5. 'position'\n6. 'year'\n7. 'Christian'\n8. 'Cain'\n9. 'being'\n10. 'outfielders'\n11. 'Milwaukee'\n12. 'Yankees'\n13. 'about'\n14. 'outfield'\n15. 'Trout'\n16. 'four'\n17. 'year'\n18. 'outfield'\n19. 'would'\n20. 'fielder'\n21. 'Calhoun'\n22. 'three'\n23. 'outfielders'\n24. 'year'\n\n\n\n\n\n",
            "text/html": [
              "<ol>\n",
              "\t<li><style>\n",
              ".list-inline {list-style: none; margin:0; padding: 0}\n",
              ".list-inline>li {display: inline-block}\n",
              ".list-inline>li:not(:last-child)::after {content: \"\\00b7\"; padding: 0 .5ex}\n",
              "</style>\n",
              "<ol class=list-inline><li>'outfield'</li><li>'ahead'</li><li>'Milwaukee'</li><li>'argue'</li><li>'position'</li><li>'year'</li><li>'Christian'</li><li>'Cain'</li><li>'being'</li><li>'outfielders'</li><li>'Milwaukee'</li><li>'Yankees'</li><li>'about'</li><li>'outfield'</li><li>'Trout'</li><li>'four'</li><li>'year'</li><li>'outfield'</li><li>'would'</li><li>'fielder'</li><li>'Calhoun'</li><li>'three'</li><li>'outfielders'</li><li>'year'</li></ol>\n",
              "</li>\n",
              "</ol>\n"
            ]
          },
          "metadata": {
            "tags": []
          }
        }
      ]
    },
    {
      "cell_type": "markdown",
      "metadata": {
        "id": "6QnMX7K14SSO"
      },
      "source": [
        "#### 5 Write a regex that captures all words with a repeated letter"
      ]
    },
    {
      "cell_type": "code",
      "metadata": {
        "id": "ryZCLDaa4SSP",
        "colab": {
          "base_uri": "https://localhost:8080/",
          "height": 62
        },
        "outputId": "3e3d81d6-f506-437f-b58c-ddea111ad2d4"
      },
      "source": [
        "str_extract_all(baseball, \"\\\\w*([a-zA-Z])\\\\1\\\\w*\")\n",
        "# equivalently: str_extract_all(baseball, \"\\\\w*([\\\\w])\\\\1\\\\w*\")\n",
        "# the \\1 is a backreference that matches the (first and only) () group"
      ],
      "execution_count": 56,
      "outputs": [
        {
          "output_type": "display_data",
          "data": {
            "text/html": [
              "<ol>\n",
              "\t<li><style>\n",
              ".list-inline {list-style: none; margin:0; padding: 0}\n",
              ".list-inline>li {display: inline-block}\n",
              ".list-inline>li:not(:last-child)::after {content: \"\\00b7\"; padding: 0 .5ex}\n",
              "</style>\n",
              "<ol class=list-inline><li>'According'</li><li>'Baseball'</li><li>'baseball'</li><li>'Milwaukee'</li><li>'Milwaukee'</li><li>'Yankees'</li><li>'baseball'</li><li>'All'</li><li>'WAA'</li><li>'three'</li><li>'baseball'</li><li>'WAA'</li></ol>\n",
              "</li>\n",
              "</ol>\n"
            ],
            "text/markdown": "1. 1. 'According'\n2. 'Baseball'\n3. 'baseball'\n4. 'Milwaukee'\n5. 'Milwaukee'\n6. 'Yankees'\n7. 'baseball'\n8. 'All'\n9. 'WAA'\n10. 'three'\n11. 'baseball'\n12. 'WAA'\n\n\n\n\n\n",
            "text/latex": "\\begin{enumerate}\n\\item \\begin{enumerate*}\n\\item 'According'\n\\item 'Baseball'\n\\item 'baseball'\n\\item 'Milwaukee'\n\\item 'Milwaukee'\n\\item 'Yankees'\n\\item 'baseball'\n\\item 'All'\n\\item 'WAA'\n\\item 'three'\n\\item 'baseball'\n\\item 'WAA'\n\\end{enumerate*}\n\n\\end{enumerate}\n",
            "text/plain": [
              "[[1]]\n",
              " [1] \"According\" \"Baseball\"  \"baseball\"  \"Milwaukee\" \"Milwaukee\" \"Yankees\"  \n",
              " [7] \"baseball\"  \"All\"       \"WAA\"       \"three\"     \"baseball\"  \"WAA\"      \n"
            ]
          },
          "metadata": {}
        }
      ]
    },
    {
      "cell_type": "markdown",
      "metadata": {
        "id": "wyuD1sJ54SSP"
      },
      "source": [
        "#### 6 Write a regex that matches \"this\" and \"the\" but not \"third\""
      ]
    },
    {
      "cell_type": "code",
      "metadata": {
        "id": "s4nKzAMz4SSQ",
        "colab": {
          "base_uri": "https://localhost:8080/",
          "height": 91
        },
        "outputId": "f88c4c66-f4bd-41b1-807f-fb6405464ae7"
      },
      "source": [
        "str_extract_all(baseball, \"th(e|is)\")\n",
        "str_extract_all(baseball, \"(t|T)h(e|is)\") # including capitalized T"
      ],
      "execution_count": null,
      "outputs": [
        {
          "output_type": "display_data",
          "data": {
            "text/plain": [
              "[[1]]\n",
              " [1] \"the\"  \"the\"  \"the\"  \"the\"  \"this\" \"the\"  \"the\"  \"the\"  \"the\"  \"this\"\n",
              "[11] \"the\"  \"the\"  \"this\"\n"
            ],
            "text/latex": "\\begin{enumerate}\n\\item \\begin{enumerate*}\n\\item 'the'\n\\item 'the'\n\\item 'the'\n\\item 'the'\n\\item 'this'\n\\item 'the'\n\\item 'the'\n\\item 'the'\n\\item 'the'\n\\item 'this'\n\\item 'the'\n\\item 'the'\n\\item 'this'\n\\end{enumerate*}\n\n\\end{enumerate}\n",
            "text/markdown": "1. 1. 'the'\n2. 'the'\n3. 'the'\n4. 'the'\n5. 'this'\n6. 'the'\n7. 'the'\n8. 'the'\n9. 'the'\n10. 'this'\n11. 'the'\n12. 'the'\n13. 'this'\n\n\n\n\n\n",
            "text/html": [
              "<ol>\n",
              "\t<li><style>\n",
              ".list-inline {list-style: none; margin:0; padding: 0}\n",
              ".list-inline>li {display: inline-block}\n",
              ".list-inline>li:not(:last-child)::after {content: \"\\00b7\"; padding: 0 .5ex}\n",
              "</style>\n",
              "<ol class=list-inline><li>'the'</li><li>'the'</li><li>'the'</li><li>'the'</li><li>'this'</li><li>'the'</li><li>'the'</li><li>'the'</li><li>'the'</li><li>'this'</li><li>'the'</li><li>'the'</li><li>'this'</li></ol>\n",
              "</li>\n",
              "</ol>\n"
            ]
          },
          "metadata": {
            "tags": []
          }
        },
        {
          "output_type": "display_data",
          "data": {
            "text/plain": [
              "[[1]]\n",
              " [1] \"The\"  \"the\"  \"the\"  \"the\"  \"the\"  \"this\" \"the\"  \"the\"  \"the\"  \"the\" \n",
              "[11] \"this\" \"the\"  \"the\"  \"this\"\n"
            ],
            "text/latex": "\\begin{enumerate}\n\\item \\begin{enumerate*}\n\\item 'The'\n\\item 'the'\n\\item 'the'\n\\item 'the'\n\\item 'the'\n\\item 'this'\n\\item 'the'\n\\item 'the'\n\\item 'the'\n\\item 'the'\n\\item 'this'\n\\item 'the'\n\\item 'the'\n\\item 'this'\n\\end{enumerate*}\n\n\\end{enumerate}\n",
            "text/markdown": "1. 1. 'The'\n2. 'the'\n3. 'the'\n4. 'the'\n5. 'the'\n6. 'this'\n7. 'the'\n8. 'the'\n9. 'the'\n10. 'the'\n11. 'this'\n12. 'the'\n13. 'the'\n14. 'this'\n\n\n\n\n\n",
            "text/html": [
              "<ol>\n",
              "\t<li><style>\n",
              ".list-inline {list-style: none; margin:0; padding: 0}\n",
              ".list-inline>li {display: inline-block}\n",
              ".list-inline>li:not(:last-child)::after {content: \"\\00b7\"; padding: 0 .5ex}\n",
              "</style>\n",
              "<ol class=list-inline><li>'The'</li><li>'the'</li><li>'the'</li><li>'the'</li><li>'the'</li><li>'this'</li><li>'the'</li><li>'the'</li><li>'the'</li><li>'the'</li><li>'this'</li><li>'the'</li><li>'the'</li><li>'this'</li></ol>\n",
              "</li>\n",
              "</ol>\n"
            ]
          },
          "metadata": {
            "tags": []
          }
        }
      ]
    },
    {
      "cell_type": "markdown",
      "metadata": {
        "id": "sdvZlQlI4SSQ"
      },
      "source": [
        "Note that any time you want to use a backslash `\\` in a regex pattern in `R`, you'll need to use a double backslash `\\\\` instead. This is because `R` has its own layer of string processing that also uses backslashes to escape reserved characters. So you need to tell `R` to use a literal backslash so that it passes a backslash to the regex function."
      ]
    },
    {
      "cell_type": "code",
      "metadata": {
        "id": "buMz5tCy4SSQ",
        "colab": {
          "base_uri": "https://localhost:8080/",
          "height": 82
        },
        "outputId": "acd4e498-451b-4071-8d24-7abfda66e687"
      },
      "source": [
        "naive = \"a.c\"\n",
        "dot = \"a\\\\.c\"\n",
        "\n",
        "cat(naive)\n",
        "str_detect(c(\"abc\", \"a.c\", \"bef\"), naive) # matches anything a-blank-c because . is a wildcard\n",
        "\n",
        "cat(dot)\n",
        "str_detect(c(\"abc\", \"a.c\", \"bef\"), dot)"
      ],
      "execution_count": null,
      "outputs": [
        {
          "output_type": "stream",
          "text": [
            "a.c"
          ],
          "name": "stdout"
        },
        {
          "output_type": "display_data",
          "data": {
            "text/plain": [
              "[1]  TRUE  TRUE FALSE"
            ],
            "text/latex": "\\begin{enumerate*}\n\\item TRUE\n\\item TRUE\n\\item FALSE\n\\end{enumerate*}\n",
            "text/markdown": "1. TRUE\n2. TRUE\n3. FALSE\n\n\n",
            "text/html": [
              "<style>\n",
              ".list-inline {list-style: none; margin:0; padding: 0}\n",
              ".list-inline>li {display: inline-block}\n",
              ".list-inline>li:not(:last-child)::after {content: \"\\00b7\"; padding: 0 .5ex}\n",
              "</style>\n",
              "<ol class=list-inline><li>TRUE</li><li>TRUE</li><li>FALSE</li></ol>\n"
            ]
          },
          "metadata": {
            "tags": []
          }
        },
        {
          "output_type": "stream",
          "text": [
            "a\\.c"
          ],
          "name": "stdout"
        },
        {
          "output_type": "display_data",
          "data": {
            "text/plain": [
              "[1] FALSE  TRUE FALSE"
            ],
            "text/latex": "\\begin{enumerate*}\n\\item FALSE\n\\item TRUE\n\\item FALSE\n\\end{enumerate*}\n",
            "text/markdown": "1. FALSE\n2. TRUE\n3. FALSE\n\n\n",
            "text/html": [
              "<style>\n",
              ".list-inline {list-style: none; margin:0; padding: 0}\n",
              ".list-inline>li {display: inline-block}\n",
              ".list-inline>li:not(:last-child)::after {content: \"\\00b7\"; padding: 0 .5ex}\n",
              "</style>\n",
              "<ol class=list-inline><li>FALSE</li><li>TRUE</li><li>FALSE</li></ol>\n"
            ]
          },
          "metadata": {
            "tags": []
          }
        }
      ]
    },
    {
      "cell_type": "markdown",
      "metadata": {
        "id": "wK-8CjW74SSR"
      },
      "source": [
        "Question: How many backslashes do you need to create a regex pattern that matches a literal backslash when using `R`?"
      ]
    },
    {
      "cell_type": "code",
      "metadata": {
        "id": "3NBmDIvm4SSR",
        "colab": {
          "base_uri": "https://localhost:8080/"
        },
        "outputId": "30b5f62c-929d-47dd-b83f-c4d7a5443ad2"
      },
      "source": [
        "x = \"a\\\\b\"\n",
        "cat(x)"
      ],
      "execution_count": 57,
      "outputs": [
        {
          "output_type": "stream",
          "name": "stdout",
          "text": [
            "a\\b"
          ]
        }
      ]
    },
    {
      "cell_type": "code",
      "metadata": {
        "scrolled": true,
        "id": "XEMXZthh4SSS",
        "colab": {
          "base_uri": "https://localhost:8080/",
          "height": 34
        },
        "outputId": "10078443-1c1d-4cf4-8b9c-361d9013a743"
      },
      "source": [
        "str_extract(x, \"\\\\\\\\\")\n",
        "# remember, the parser interprets each \"\\\\\" as '\\'.\n",
        "# hence the raw string \"\\\\\\\\\" becomes the regex \"\\\\\" which matches \"\\\" twice."
      ],
      "execution_count": 68,
      "outputs": [
        {
          "output_type": "display_data",
          "data": {
            "text/html": [
              "'\\\\'"
            ],
            "text/markdown": "'\\\\'",
            "text/latex": "'\\textbackslash{}\\textbackslash{}'",
            "text/plain": [
              "[1] \"\\\\\""
            ]
          },
          "metadata": {}
        }
      ]
    },
    {
      "cell_type": "markdown",
      "metadata": {
        "id": "Ny2hH9rs4SST"
      },
      "source": [
        "## Exercises\n",
        "\n",
        "Use `stringr::words` to do the exercises"
      ]
    },
    {
      "cell_type": "code",
      "metadata": {
        "colab": {
          "base_uri": "https://localhost:8080/",
          "height": 296
        },
        "id": "qxbcxa3KccK4",
        "outputId": "a8732cb2-4055-4cd4-8f3d-a79ee147187a"
      },
      "source": [
        "words"
      ],
      "execution_count": null,
      "outputs": [
        {
          "output_type": "display_data",
          "data": {
            "text/plain": [
              "  [1] \"a\"           \"able\"        \"about\"       \"absolute\"    \"accept\"     \n",
              "  [6] \"account\"     \"achieve\"     \"across\"      \"act\"         \"active\"     \n",
              " [11] \"actual\"      \"add\"         \"address\"     \"admit\"       \"advertise\"  \n",
              " [16] \"affect\"      \"afford\"      \"after\"       \"afternoon\"   \"again\"      \n",
              " [21] \"against\"     \"age\"         \"agent\"       \"ago\"         \"agree\"      \n",
              " [26] \"air\"         \"all\"         \"allow\"       \"almost\"      \"along\"      \n",
              " [31] \"already\"     \"alright\"     \"also\"        \"although\"    \"always\"     \n",
              " [36] \"america\"     \"amount\"      \"and\"         \"another\"     \"answer\"     \n",
              " [41] \"any\"         \"apart\"       \"apparent\"    \"appear\"      \"apply\"      \n",
              " [46] \"appoint\"     \"approach\"    \"appropriate\" \"area\"        \"argue\"      \n",
              " [51] \"arm\"         \"around\"      \"arrange\"     \"art\"         \"as\"         \n",
              " [56] \"ask\"         \"associate\"   \"assume\"      \"at\"          \"attend\"     \n",
              " [61] \"authority\"   \"available\"   \"aware\"       \"away\"        \"awful\"      \n",
              " [66] \"baby\"        \"back\"        \"bad\"         \"bag\"         \"balance\"    \n",
              " [71] \"ball\"        \"bank\"        \"bar\"         \"base\"        \"basis\"      \n",
              " [76] \"be\"          \"bear\"        \"beat\"        \"beauty\"      \"because\"    \n",
              " [81] \"become\"      \"bed\"         \"before\"      \"begin\"       \"behind\"     \n",
              " [86] \"believe\"     \"benefit\"     \"best\"        \"bet\"         \"between\"    \n",
              " [91] \"big\"         \"bill\"        \"birth\"       \"bit\"         \"black\"      \n",
              " [96] \"bloke\"       \"blood\"       \"blow\"        \"blue\"        \"board\"      \n",
              "[101] \"boat\"        \"body\"        \"book\"        \"both\"        \"bother\"     \n",
              "[106] \"bottle\"      \"bottom\"      \"box\"         \"boy\"         \"break\"      \n",
              "[111] \"brief\"       \"brilliant\"   \"bring\"       \"britain\"     \"brother\"    \n",
              "[116] \"budget\"      \"build\"       \"bus\"         \"business\"    \"busy\"       \n",
              "[121] \"but\"         \"buy\"         \"by\"          \"cake\"        \"call\"       \n",
              "[126] \"can\"         \"car\"         \"card\"        \"care\"        \"carry\"      \n",
              "[131] \"case\"        \"cat\"         \"catch\"       \"cause\"       \"cent\"       \n",
              "[136] \"centre\"      \"certain\"     \"chair\"       \"chairman\"    \"chance\"     \n",
              "[141] \"change\"      \"chap\"        \"character\"   \"charge\"      \"cheap\"      \n",
              "[146] \"check\"       \"child\"       \"choice\"      \"choose\"      \"Christ\"     \n",
              "[151] \"Christmas\"   \"church\"      \"city\"        \"claim\"       \"class\"      \n",
              "[156] \"clean\"       \"clear\"       \"client\"      \"clock\"       \"close\"      \n",
              "[161] \"closes\"      \"clothe\"      \"club\"        \"coffee\"      \"cold\"       \n",
              "[166] \"colleague\"   \"collect\"     \"college\"     \"colour\"      \"come\"       \n",
              "[171] \"comment\"     \"commit\"      \"committee\"   \"common\"      \"community\"  \n",
              "[176] \"company\"     \"compare\"     \"complete\"    \"compute\"     \"concern\"    \n",
              "[181] \"condition\"   \"confer\"      \"consider\"    \"consult\"     \"contact\"    \n",
              "[186] \"continue\"    \"contract\"    \"control\"     \"converse\"    \"cook\"       \n",
              "[191] \"copy\"        \"corner\"      \"correct\"     \"cost\"        \"could\"      \n",
              "[196] \"council\"     \"count\"       \"country\"     \"county\"      \"couple\"     \n",
              "[201] \"course\"      \"court\"       \"cover\"       \"create\"      \"cross\"      \n",
              "[206] \"cup\"         \"current\"     \"cut\"         \"dad\"         \"danger\"     \n",
              "[211] \"date\"        \"day\"         \"dead\"        \"deal\"        \"dear\"       \n",
              "[216] \"debate\"      \"decide\"      \"decision\"    \"deep\"        \"definite\"   \n",
              "[221] \"degree\"      \"department\"  \"depend\"      \"describe\"    \"design\"     \n",
              "[226] \"detail\"      \"develop\"     \"die\"         \"difference\"  \"difficult\"  \n",
              "[231] \"dinner\"      \"direct\"      \"discuss\"     \"district\"    \"divide\"     \n",
              "[236] \"do\"          \"doctor\"      \"document\"    \"dog\"         \"door\"       \n",
              "[241] \"double\"      \"doubt\"       \"down\"        \"draw\"        \"dress\"      \n",
              "[246] \"drink\"       \"drive\"       \"drop\"        \"dry\"         \"due\"        \n",
              "[251] \"during\"      \"each\"        \"early\"       \"east\"        \"easy\"       \n",
              "[256] \"eat\"         \"economy\"     \"educate\"     \"effect\"      \"egg\"        \n",
              "[261] \"eight\"       \"either\"      \"elect\"       \"electric\"    \"eleven\"     \n",
              "[266] \"else\"        \"employ\"      \"encourage\"   \"end\"         \"engine\"     \n",
              "[271] \"english\"     \"enjoy\"       \"enough\"      \"enter\"       \"environment\"\n",
              "[276] \"equal\"       \"especial\"    \"europe\"      \"even\"        \"evening\"    \n",
              "[281] \"ever\"        \"every\"       \"evidence\"    \"exact\"       \"example\"    \n",
              "[286] \"except\"      \"excuse\"      \"exercise\"    \"exist\"       \"expect\"     \n",
              "[291] \"expense\"     \"experience\"  \"explain\"     \"express\"     \"extra\"      \n",
              "[296] \"eye\"         \"face\"        \"fact\"        \"fair\"        \"fall\"       \n",
              "[301] \"family\"      \"far\"         \"farm\"        \"fast\"        \"father\"     \n",
              "[306] \"favour\"      \"feed\"        \"feel\"        \"few\"         \"field\"      \n",
              "[311] \"fight\"       \"figure\"      \"file\"        \"fill\"        \"film\"       \n",
              "[316] \"final\"       \"finance\"     \"find\"        \"fine\"        \"finish\"     \n",
              "[321] \"fire\"        \"first\"       \"fish\"        \"fit\"         \"five\"       \n",
              "[326] \"flat\"        \"floor\"       \"fly\"         \"follow\"      \"food\"       \n",
              "[331] \"foot\"        \"for\"         \"force\"       \"forget\"      \"form\"       \n",
              "[336] \"fortune\"     \"forward\"     \"four\"        \"france\"      \"free\"       \n",
              "[341] \"friday\"      \"friend\"      \"from\"        \"front\"       \"full\"       \n",
              "[346] \"fun\"         \"function\"    \"fund\"        \"further\"     \"future\"     \n",
              "[351] \"game\"        \"garden\"      \"gas\"         \"general\"     \"germany\"    \n",
              "[356] \"get\"         \"girl\"        \"give\"        \"glass\"       \"go\"         \n",
              "[361] \"god\"         \"good\"        \"goodbye\"     \"govern\"      \"grand\"      \n",
              "[366] \"grant\"       \"great\"       \"green\"       \"ground\"      \"group\"      \n",
              "[371] \"grow\"        \"guess\"       \"guy\"         \"hair\"        \"half\"       \n",
              "[376] \"hall\"        \"hand\"        \"hang\"        \"happen\"      \"happy\"      \n",
              "[381] \"hard\"        \"hate\"        \"have\"        \"he\"          \"head\"       \n",
              "[386] \"health\"      \"hear\"        \"heart\"       \"heat\"        \"heavy\"      \n",
              "[391] \"hell\"        \"help\"        \"here\"        \"high\"        \"history\"    \n",
              "[396] \"hit\"         \"hold\"        \"holiday\"     \"home\"        \"honest\"     \n",
              "[401] \"hope\"        \"horse\"       \"hospital\"    \"hot\"         \"hour\"       \n",
              "[406] \"house\"       \"how\"         \"however\"     \"hullo\"       \"hundred\"    \n",
              "[411] \"husband\"     \"idea\"        \"identify\"    \"if\"          \"imagine\"    \n",
              "[416] \"important\"   \"improve\"     \"in\"          \"include\"     \"income\"     \n",
              "[421] \"increase\"    \"indeed\"      \"individual\"  \"industry\"    \"inform\"     \n",
              "[426] \"inside\"      \"instead\"     \"insure\"      \"interest\"    \"into\"       \n",
              "[431] \"introduce\"   \"invest\"      \"involve\"     \"issue\"       \"it\"         \n",
              "[436] \"item\"        \"jesus\"       \"job\"         \"join\"        \"judge\"      \n",
              "[441] \"jump\"        \"just\"        \"keep\"        \"key\"         \"kid\"        \n",
              "[446] \"kill\"        \"kind\"        \"king\"        \"kitchen\"     \"knock\"      \n",
              "[451] \"know\"        \"labour\"      \"lad\"         \"lady\"        \"land\"       \n",
              "[456] \"language\"    \"large\"       \"last\"        \"late\"        \"laugh\"      \n",
              "[461] \"law\"         \"lay\"         \"lead\"        \"learn\"       \"leave\"      \n",
              "[466] \"left\"        \"leg\"         \"less\"        \"let\"         \"letter\"     \n",
              "[471] \"level\"       \"lie\"         \"life\"        \"light\"       \"like\"       \n",
              "[476] \"likely\"      \"limit\"       \"line\"        \"link\"        \"list\"       \n",
              "[481] \"listen\"      \"little\"      \"live\"        \"load\"        \"local\"      \n",
              "[486] \"lock\"        \"london\"      \"long\"        \"look\"        \"lord\"       \n",
              "[491] \"lose\"        \"lot\"         \"love\"        \"low\"         \"luck\"       \n",
              "[496] \"lunch\"       \"machine\"     \"main\"        \"major\"       \"make\"       \n",
              "[501] \"man\"         \"manage\"      \"many\"        \"mark\"        \"market\"     \n",
              "[506] \"marry\"       \"match\"       \"matter\"      \"may\"         \"maybe\"      \n",
              "[511] \"mean\"        \"meaning\"     \"measure\"     \"meet\"        \"member\"     \n",
              "[516] \"mention\"     \"middle\"      \"might\"       \"mile\"        \"milk\"       \n",
              "[521] \"million\"     \"mind\"        \"minister\"    \"minus\"       \"minute\"     \n",
              "[526] \"miss\"        \"mister\"      \"moment\"      \"monday\"      \"money\"      \n",
              "[531] \"month\"       \"more\"        \"morning\"     \"most\"        \"mother\"     \n",
              "[536] \"motion\"      \"move\"        \"mrs\"         \"much\"        \"music\"      \n",
              "[541] \"must\"        \"name\"        \"nation\"      \"nature\"      \"near\"       \n",
              "[546] \"necessary\"   \"need\"        \"never\"       \"new\"         \"news\"       \n",
              "[551] \"next\"        \"nice\"        \"night\"       \"nine\"        \"no\"         \n",
              "[556] \"non\"         \"none\"        \"normal\"      \"north\"       \"not\"        \n",
              "[561] \"note\"        \"notice\"      \"now\"         \"number\"      \"obvious\"    \n",
              "[566] \"occasion\"    \"odd\"         \"of\"          \"off\"         \"offer\"      \n",
              "[571] \"office\"      \"often\"       \"okay\"        \"old\"         \"on\"         \n",
              "[576] \"once\"        \"one\"         \"only\"        \"open\"        \"operate\"    \n",
              "[581] \"opportunity\" \"oppose\"      \"or\"          \"order\"       \"organize\"   \n",
              "[586] \"original\"    \"other\"       \"otherwise\"   \"ought\"       \"out\"        \n",
              "[591] \"over\"        \"own\"         \"pack\"        \"page\"        \"paint\"      \n",
              "[596] \"pair\"        \"paper\"       \"paragraph\"   \"pardon\"      \"parent\"     \n",
              "[601] \"park\"        \"part\"        \"particular\"  \"party\"       \"pass\"       \n",
              "[606] \"past\"        \"pay\"         \"pence\"       \"pension\"     \"people\"     \n",
              "[611] \"per\"         \"percent\"     \"perfect\"     \"perhaps\"     \"period\"     \n",
              "[616] \"person\"      \"photograph\"  \"pick\"        \"picture\"     \"piece\"      \n",
              "[621] \"place\"       \"plan\"        \"play\"        \"please\"      \"plus\"       \n",
              "[626] \"point\"       \"police\"      \"policy\"      \"politic\"     \"poor\"       \n",
              "[631] \"position\"    \"positive\"    \"possible\"    \"post\"        \"pound\"      \n",
              "[636] \"power\"       \"practise\"    \"prepare\"     \"present\"     \"press\"      \n",
              "[641] \"pressure\"    \"presume\"     \"pretty\"      \"previous\"    \"price\"      \n",
              "[646] \"print\"       \"private\"     \"probable\"    \"problem\"     \"proceed\"    \n",
              "[651] \"process\"     \"produce\"     \"product\"     \"programme\"   \"project\"    \n",
              "[656] \"proper\"      \"propose\"     \"protect\"     \"provide\"     \"public\"     \n",
              "[661] \"pull\"        \"purpose\"     \"push\"        \"put\"         \"quality\"    \n",
              "[666] \"quarter\"     \"question\"    \"quick\"       \"quid\"        \"quiet\"      \n",
              "[671] \"quite\"       \"radio\"       \"rail\"        \"raise\"       \"range\"      \n",
              "[676] \"rate\"        \"rather\"      \"read\"        \"ready\"       \"real\"       \n",
              "[681] \"realise\"     \"really\"      \"reason\"      \"receive\"     \"recent\"     \n",
              "[686] \"reckon\"      \"recognize\"   \"recommend\"   \"record\"      \"red\"        \n",
              "[691] \"reduce\"      \"refer\"       \"regard\"      \"region\"      \"relation\"   \n",
              "[696] \"remember\"    \"report\"      \"represent\"   \"require\"     \"research\"   \n",
              "[701] \"resource\"    \"respect\"     \"responsible\" \"rest\"        \"result\"     \n",
              "[706] \"return\"      \"rid\"         \"right\"       \"ring\"        \"rise\"       \n",
              "[711] \"road\"        \"role\"        \"roll\"        \"room\"        \"round\"      \n",
              "[716] \"rule\"        \"run\"         \"safe\"        \"sale\"        \"same\"       \n",
              "[721] \"saturday\"    \"save\"        \"say\"         \"scheme\"      \"school\"     \n",
              "[726] \"science\"     \"score\"       \"scotland\"    \"seat\"        \"second\"     \n",
              "[731] \"secretary\"   \"section\"     \"secure\"      \"see\"         \"seem\"       \n",
              "[736] \"self\"        \"sell\"        \"send\"        \"sense\"       \"separate\"   \n",
              "[741] \"serious\"     \"serve\"       \"service\"     \"set\"         \"settle\"     \n",
              "[746] \"seven\"       \"sex\"         \"shall\"       \"share\"       \"she\"        \n",
              "[751] \"sheet\"       \"shoe\"        \"shoot\"       \"shop\"        \"short\"      \n",
              "[756] \"should\"      \"show\"        \"shut\"        \"sick\"        \"side\"       \n",
              "[761] \"sign\"        \"similar\"     \"simple\"      \"since\"       \"sing\"       \n",
              "[766] \"single\"      \"sir\"         \"sister\"      \"sit\"         \"site\"       \n",
              "[771] \"situate\"     \"six\"         \"size\"        \"sleep\"       \"slight\"     \n",
              "[776] \"slow\"        \"small\"       \"smoke\"       \"so\"          \"social\"     \n",
              "[781] \"society\"     \"some\"        \"son\"         \"soon\"        \"sorry\"      \n",
              "[786] \"sort\"        \"sound\"       \"south\"       \"space\"       \"speak\"      \n",
              "[791] \"special\"     \"specific\"    \"speed\"       \"spell\"       \"spend\"      \n",
              "[796] \"square\"      \"staff\"       \"stage\"       \"stairs\"      \"stand\"      \n",
              "[801] \"standard\"    \"start\"       \"state\"       \"station\"     \"stay\"       \n",
              "[806] \"step\"        \"stick\"       \"still\"       \"stop\"        \"story\"      \n",
              "[811] \"straight\"    \"strategy\"    \"street\"      \"strike\"      \"strong\"     \n",
              "[816] \"structure\"   \"student\"     \"study\"       \"stuff\"       \"stupid\"     \n",
              "[821] \"subject\"     \"succeed\"     \"such\"        \"sudden\"      \"suggest\"    \n",
              "[826] \"suit\"        \"summer\"      \"sun\"         \"sunday\"      \"supply\"     \n",
              "[831] \"support\"     \"suppose\"     \"sure\"        \"surprise\"    \"switch\"     \n",
              "[836] \"system\"      \"table\"       \"take\"        \"talk\"        \"tape\"       \n",
              "[841] \"tax\"         \"tea\"         \"teach\"       \"team\"        \"telephone\"  \n",
              "[846] \"television\"  \"tell\"        \"ten\"         \"tend\"        \"term\"       \n",
              "[851] \"terrible\"    \"test\"        \"than\"        \"thank\"       \"the\"        \n",
              "[856] \"then\"        \"there\"       \"therefore\"   \"they\"        \"thing\"      \n",
              "[861] \"think\"       \"thirteen\"    \"thirty\"      \"this\"        \"thou\"       \n",
              "[866] \"though\"      \"thousand\"    \"three\"       \"through\"     \"throw\"      \n",
              "[871] \"thursday\"    \"tie\"         \"time\"        \"to\"          \"today\"      \n",
              "[876] \"together\"    \"tomorrow\"    \"tonight\"     \"too\"         \"top\"        \n",
              "[881] \"total\"       \"touch\"       \"toward\"      \"town\"        \"trade\"      \n",
              "[886] \"traffic\"     \"train\"       \"transport\"   \"travel\"      \"treat\"      \n",
              "[891] \"tree\"        \"trouble\"     \"true\"        \"trust\"       \"try\"        \n",
              "[896] \"tuesday\"     \"turn\"        \"twelve\"      \"twenty\"      \"two\"        \n",
              "[901] \"type\"        \"under\"       \"understand\"  \"union\"       \"unit\"       \n",
              "[906] \"unite\"       \"university\"  \"unless\"      \"until\"       \"up\"         \n",
              "[911] \"upon\"        \"use\"         \"usual\"       \"value\"       \"various\"    \n",
              "[916] \"very\"        \"video\"       \"view\"        \"village\"     \"visit\"      \n",
              "[921] \"vote\"        \"wage\"        \"wait\"        \"walk\"        \"wall\"       \n",
              "[926] \"want\"        \"war\"         \"warm\"        \"wash\"        \"waste\"      \n",
              "[931] \"watch\"       \"water\"       \"way\"         \"we\"          \"wear\"       \n",
              "[936] \"wednesday\"   \"wee\"         \"week\"        \"weigh\"       \"welcome\"    \n",
              "[941] \"well\"        \"west\"        \"what\"        \"when\"        \"where\"      \n",
              "[946] \"whether\"     \"which\"       \"while\"       \"white\"       \"who\"        \n",
              "[951] \"whole\"       \"why\"         \"wide\"        \"wife\"        \"will\"       \n",
              "[956] \"win\"         \"wind\"        \"window\"      \"wish\"        \"with\"       \n",
              "[961] \"within\"      \"without\"     \"woman\"       \"wonder\"      \"wood\"       \n",
              "[966] \"word\"        \"work\"        \"world\"       \"worry\"       \"worse\"      \n",
              "[971] \"worth\"       \"would\"       \"write\"       \"wrong\"       \"year\"       \n",
              "[976] \"yes\"         \"yesterday\"   \"yet\"         \"you\"         \"young\"      "
            ],
            "text/latex": "\\begin{enumerate*}\n\\item 'a'\n\\item 'able'\n\\item 'about'\n\\item 'absolute'\n\\item 'accept'\n\\item 'account'\n\\item 'achieve'\n\\item 'across'\n\\item 'act'\n\\item 'active'\n\\item 'actual'\n\\item 'add'\n\\item 'address'\n\\item 'admit'\n\\item 'advertise'\n\\item 'affect'\n\\item 'afford'\n\\item 'after'\n\\item 'afternoon'\n\\item 'again'\n\\item 'against'\n\\item 'age'\n\\item 'agent'\n\\item 'ago'\n\\item 'agree'\n\\item 'air'\n\\item 'all'\n\\item 'allow'\n\\item 'almost'\n\\item 'along'\n\\item 'already'\n\\item 'alright'\n\\item 'also'\n\\item 'although'\n\\item 'always'\n\\item 'america'\n\\item 'amount'\n\\item 'and'\n\\item 'another'\n\\item 'answer'\n\\item 'any'\n\\item 'apart'\n\\item 'apparent'\n\\item 'appear'\n\\item 'apply'\n\\item 'appoint'\n\\item 'approach'\n\\item 'appropriate'\n\\item 'area'\n\\item 'argue'\n\\item 'arm'\n\\item 'around'\n\\item 'arrange'\n\\item 'art'\n\\item 'as'\n\\item 'ask'\n\\item 'associate'\n\\item 'assume'\n\\item 'at'\n\\item 'attend'\n\\item 'authority'\n\\item 'available'\n\\item 'aware'\n\\item 'away'\n\\item 'awful'\n\\item 'baby'\n\\item 'back'\n\\item 'bad'\n\\item 'bag'\n\\item 'balance'\n\\item 'ball'\n\\item 'bank'\n\\item 'bar'\n\\item 'base'\n\\item 'basis'\n\\item 'be'\n\\item 'bear'\n\\item 'beat'\n\\item 'beauty'\n\\item 'because'\n\\item 'become'\n\\item 'bed'\n\\item 'before'\n\\item 'begin'\n\\item 'behind'\n\\item 'believe'\n\\item 'benefit'\n\\item 'best'\n\\item 'bet'\n\\item 'between'\n\\item 'big'\n\\item 'bill'\n\\item 'birth'\n\\item 'bit'\n\\item 'black'\n\\item 'bloke'\n\\item 'blood'\n\\item 'blow'\n\\item 'blue'\n\\item 'board'\n\\item 'boat'\n\\item 'body'\n\\item 'book'\n\\item 'both'\n\\item 'bother'\n\\item 'bottle'\n\\item 'bottom'\n\\item 'box'\n\\item 'boy'\n\\item 'break'\n\\item 'brief'\n\\item 'brilliant'\n\\item 'bring'\n\\item 'britain'\n\\item 'brother'\n\\item 'budget'\n\\item 'build'\n\\item 'bus'\n\\item 'business'\n\\item 'busy'\n\\item 'but'\n\\item 'buy'\n\\item 'by'\n\\item 'cake'\n\\item 'call'\n\\item 'can'\n\\item 'car'\n\\item 'card'\n\\item 'care'\n\\item 'carry'\n\\item 'case'\n\\item 'cat'\n\\item 'catch'\n\\item 'cause'\n\\item 'cent'\n\\item 'centre'\n\\item 'certain'\n\\item 'chair'\n\\item 'chairman'\n\\item 'chance'\n\\item 'change'\n\\item 'chap'\n\\item 'character'\n\\item 'charge'\n\\item 'cheap'\n\\item 'check'\n\\item 'child'\n\\item 'choice'\n\\item 'choose'\n\\item 'Christ'\n\\item 'Christmas'\n\\item 'church'\n\\item 'city'\n\\item 'claim'\n\\item 'class'\n\\item 'clean'\n\\item 'clear'\n\\item 'client'\n\\item 'clock'\n\\item 'close'\n\\item 'closes'\n\\item 'clothe'\n\\item 'club'\n\\item 'coffee'\n\\item 'cold'\n\\item 'colleague'\n\\item 'collect'\n\\item 'college'\n\\item 'colour'\n\\item 'come'\n\\item 'comment'\n\\item 'commit'\n\\item 'committee'\n\\item 'common'\n\\item 'community'\n\\item 'company'\n\\item 'compare'\n\\item 'complete'\n\\item 'compute'\n\\item 'concern'\n\\item 'condition'\n\\item 'confer'\n\\item 'consider'\n\\item 'consult'\n\\item 'contact'\n\\item 'continue'\n\\item 'contract'\n\\item 'control'\n\\item 'converse'\n\\item 'cook'\n\\item 'copy'\n\\item 'corner'\n\\item 'correct'\n\\item 'cost'\n\\item 'could'\n\\item 'council'\n\\item 'count'\n\\item 'country'\n\\item 'county'\n\\item 'couple'\n\\item ⋯\n\\item 'society'\n\\item 'some'\n\\item 'son'\n\\item 'soon'\n\\item 'sorry'\n\\item 'sort'\n\\item 'sound'\n\\item 'south'\n\\item 'space'\n\\item 'speak'\n\\item 'special'\n\\item 'specific'\n\\item 'speed'\n\\item 'spell'\n\\item 'spend'\n\\item 'square'\n\\item 'staff'\n\\item 'stage'\n\\item 'stairs'\n\\item 'stand'\n\\item 'standard'\n\\item 'start'\n\\item 'state'\n\\item 'station'\n\\item 'stay'\n\\item 'step'\n\\item 'stick'\n\\item 'still'\n\\item 'stop'\n\\item 'story'\n\\item 'straight'\n\\item 'strategy'\n\\item 'street'\n\\item 'strike'\n\\item 'strong'\n\\item 'structure'\n\\item 'student'\n\\item 'study'\n\\item 'stuff'\n\\item 'stupid'\n\\item 'subject'\n\\item 'succeed'\n\\item 'such'\n\\item 'sudden'\n\\item 'suggest'\n\\item 'suit'\n\\item 'summer'\n\\item 'sun'\n\\item 'sunday'\n\\item 'supply'\n\\item 'support'\n\\item 'suppose'\n\\item 'sure'\n\\item 'surprise'\n\\item 'switch'\n\\item 'system'\n\\item 'table'\n\\item 'take'\n\\item 'talk'\n\\item 'tape'\n\\item 'tax'\n\\item 'tea'\n\\item 'teach'\n\\item 'team'\n\\item 'telephone'\n\\item 'television'\n\\item 'tell'\n\\item 'ten'\n\\item 'tend'\n\\item 'term'\n\\item 'terrible'\n\\item 'test'\n\\item 'than'\n\\item 'thank'\n\\item 'the'\n\\item 'then'\n\\item 'there'\n\\item 'therefore'\n\\item 'they'\n\\item 'thing'\n\\item 'think'\n\\item 'thirteen'\n\\item 'thirty'\n\\item 'this'\n\\item 'thou'\n\\item 'though'\n\\item 'thousand'\n\\item 'three'\n\\item 'through'\n\\item 'throw'\n\\item 'thursday'\n\\item 'tie'\n\\item 'time'\n\\item 'to'\n\\item 'today'\n\\item 'together'\n\\item 'tomorrow'\n\\item 'tonight'\n\\item 'too'\n\\item 'top'\n\\item 'total'\n\\item 'touch'\n\\item 'toward'\n\\item 'town'\n\\item 'trade'\n\\item 'traffic'\n\\item 'train'\n\\item 'transport'\n\\item 'travel'\n\\item 'treat'\n\\item 'tree'\n\\item 'trouble'\n\\item 'true'\n\\item 'trust'\n\\item 'try'\n\\item 'tuesday'\n\\item 'turn'\n\\item 'twelve'\n\\item 'twenty'\n\\item 'two'\n\\item 'type'\n\\item 'under'\n\\item 'understand'\n\\item 'union'\n\\item 'unit'\n\\item 'unite'\n\\item 'university'\n\\item 'unless'\n\\item 'until'\n\\item 'up'\n\\item 'upon'\n\\item 'use'\n\\item 'usual'\n\\item 'value'\n\\item 'various'\n\\item 'very'\n\\item 'video'\n\\item 'view'\n\\item 'village'\n\\item 'visit'\n\\item 'vote'\n\\item 'wage'\n\\item 'wait'\n\\item 'walk'\n\\item 'wall'\n\\item 'want'\n\\item 'war'\n\\item 'warm'\n\\item 'wash'\n\\item 'waste'\n\\item 'watch'\n\\item 'water'\n\\item 'way'\n\\item 'we'\n\\item 'wear'\n\\item 'wednesday'\n\\item 'wee'\n\\item 'week'\n\\item 'weigh'\n\\item 'welcome'\n\\item 'well'\n\\item 'west'\n\\item 'what'\n\\item 'when'\n\\item 'where'\n\\item 'whether'\n\\item 'which'\n\\item 'while'\n\\item 'white'\n\\item 'who'\n\\item 'whole'\n\\item 'why'\n\\item 'wide'\n\\item 'wife'\n\\item 'will'\n\\item 'win'\n\\item 'wind'\n\\item 'window'\n\\item 'wish'\n\\item 'with'\n\\item 'within'\n\\item 'without'\n\\item 'woman'\n\\item 'wonder'\n\\item 'wood'\n\\item 'word'\n\\item 'work'\n\\item 'world'\n\\item 'worry'\n\\item 'worse'\n\\item 'worth'\n\\item 'would'\n\\item 'write'\n\\item 'wrong'\n\\item 'year'\n\\item 'yes'\n\\item 'yesterday'\n\\item 'yet'\n\\item 'you'\n\\item 'young'\n\\end{enumerate*}\n",
            "text/markdown": "1. 'a'\n2. 'able'\n3. 'about'\n4. 'absolute'\n5. 'accept'\n6. 'account'\n7. 'achieve'\n8. 'across'\n9. 'act'\n10. 'active'\n11. 'actual'\n12. 'add'\n13. 'address'\n14. 'admit'\n15. 'advertise'\n16. 'affect'\n17. 'afford'\n18. 'after'\n19. 'afternoon'\n20. 'again'\n21. 'against'\n22. 'age'\n23. 'agent'\n24. 'ago'\n25. 'agree'\n26. 'air'\n27. 'all'\n28. 'allow'\n29. 'almost'\n30. 'along'\n31. 'already'\n32. 'alright'\n33. 'also'\n34. 'although'\n35. 'always'\n36. 'america'\n37. 'amount'\n38. 'and'\n39. 'another'\n40. 'answer'\n41. 'any'\n42. 'apart'\n43. 'apparent'\n44. 'appear'\n45. 'apply'\n46. 'appoint'\n47. 'approach'\n48. 'appropriate'\n49. 'area'\n50. 'argue'\n51. 'arm'\n52. 'around'\n53. 'arrange'\n54. 'art'\n55. 'as'\n56. 'ask'\n57. 'associate'\n58. 'assume'\n59. 'at'\n60. 'attend'\n61. 'authority'\n62. 'available'\n63. 'aware'\n64. 'away'\n65. 'awful'\n66. 'baby'\n67. 'back'\n68. 'bad'\n69. 'bag'\n70. 'balance'\n71. 'ball'\n72. 'bank'\n73. 'bar'\n74. 'base'\n75. 'basis'\n76. 'be'\n77. 'bear'\n78. 'beat'\n79. 'beauty'\n80. 'because'\n81. 'become'\n82. 'bed'\n83. 'before'\n84. 'begin'\n85. 'behind'\n86. 'believe'\n87. 'benefit'\n88. 'best'\n89. 'bet'\n90. 'between'\n91. 'big'\n92. 'bill'\n93. 'birth'\n94. 'bit'\n95. 'black'\n96. 'bloke'\n97. 'blood'\n98. 'blow'\n99. 'blue'\n100. 'board'\n101. 'boat'\n102. 'body'\n103. 'book'\n104. 'both'\n105. 'bother'\n106. 'bottle'\n107. 'bottom'\n108. 'box'\n109. 'boy'\n110. 'break'\n111. 'brief'\n112. 'brilliant'\n113. 'bring'\n114. 'britain'\n115. 'brother'\n116. 'budget'\n117. 'build'\n118. 'bus'\n119. 'business'\n120. 'busy'\n121. 'but'\n122. 'buy'\n123. 'by'\n124. 'cake'\n125. 'call'\n126. 'can'\n127. 'car'\n128. 'card'\n129. 'care'\n130. 'carry'\n131. 'case'\n132. 'cat'\n133. 'catch'\n134. 'cause'\n135. 'cent'\n136. 'centre'\n137. 'certain'\n138. 'chair'\n139. 'chairman'\n140. 'chance'\n141. 'change'\n142. 'chap'\n143. 'character'\n144. 'charge'\n145. 'cheap'\n146. 'check'\n147. 'child'\n148. 'choice'\n149. 'choose'\n150. 'Christ'\n151. 'Christmas'\n152. 'church'\n153. 'city'\n154. 'claim'\n155. 'class'\n156. 'clean'\n157. 'clear'\n158. 'client'\n159. 'clock'\n160. 'close'\n161. 'closes'\n162. 'clothe'\n163. 'club'\n164. 'coffee'\n165. 'cold'\n166. 'colleague'\n167. 'collect'\n168. 'college'\n169. 'colour'\n170. 'come'\n171. 'comment'\n172. 'commit'\n173. 'committee'\n174. 'common'\n175. 'community'\n176. 'company'\n177. 'compare'\n178. 'complete'\n179. 'compute'\n180. 'concern'\n181. 'condition'\n182. 'confer'\n183. 'consider'\n184. 'consult'\n185. 'contact'\n186. 'continue'\n187. 'contract'\n188. 'control'\n189. 'converse'\n190. 'cook'\n191. 'copy'\n192. 'corner'\n193. 'correct'\n194. 'cost'\n195. 'could'\n196. 'council'\n197. 'count'\n198. 'country'\n199. 'county'\n200. 'couple'\n201. ⋯\n202. 'society'\n203. 'some'\n204. 'son'\n205. 'soon'\n206. 'sorry'\n207. 'sort'\n208. 'sound'\n209. 'south'\n210. 'space'\n211. 'speak'\n212. 'special'\n213. 'specific'\n214. 'speed'\n215. 'spell'\n216. 'spend'\n217. 'square'\n218. 'staff'\n219. 'stage'\n220. 'stairs'\n221. 'stand'\n222. 'standard'\n223. 'start'\n224. 'state'\n225. 'station'\n226. 'stay'\n227. 'step'\n228. 'stick'\n229. 'still'\n230. 'stop'\n231. 'story'\n232. 'straight'\n233. 'strategy'\n234. 'street'\n235. 'strike'\n236. 'strong'\n237. 'structure'\n238. 'student'\n239. 'study'\n240. 'stuff'\n241. 'stupid'\n242. 'subject'\n243. 'succeed'\n244. 'such'\n245. 'sudden'\n246. 'suggest'\n247. 'suit'\n248. 'summer'\n249. 'sun'\n250. 'sunday'\n251. 'supply'\n252. 'support'\n253. 'suppose'\n254. 'sure'\n255. 'surprise'\n256. 'switch'\n257. 'system'\n258. 'table'\n259. 'take'\n260. 'talk'\n261. 'tape'\n262. 'tax'\n263. 'tea'\n264. 'teach'\n265. 'team'\n266. 'telephone'\n267. 'television'\n268. 'tell'\n269. 'ten'\n270. 'tend'\n271. 'term'\n272. 'terrible'\n273. 'test'\n274. 'than'\n275. 'thank'\n276. 'the'\n277. 'then'\n278. 'there'\n279. 'therefore'\n280. 'they'\n281. 'thing'\n282. 'think'\n283. 'thirteen'\n284. 'thirty'\n285. 'this'\n286. 'thou'\n287. 'though'\n288. 'thousand'\n289. 'three'\n290. 'through'\n291. 'throw'\n292. 'thursday'\n293. 'tie'\n294. 'time'\n295. 'to'\n296. 'today'\n297. 'together'\n298. 'tomorrow'\n299. 'tonight'\n300. 'too'\n301. 'top'\n302. 'total'\n303. 'touch'\n304. 'toward'\n305. 'town'\n306. 'trade'\n307. 'traffic'\n308. 'train'\n309. 'transport'\n310. 'travel'\n311. 'treat'\n312. 'tree'\n313. 'trouble'\n314. 'true'\n315. 'trust'\n316. 'try'\n317. 'tuesday'\n318. 'turn'\n319. 'twelve'\n320. 'twenty'\n321. 'two'\n322. 'type'\n323. 'under'\n324. 'understand'\n325. 'union'\n326. 'unit'\n327. 'unite'\n328. 'university'\n329. 'unless'\n330. 'until'\n331. 'up'\n332. 'upon'\n333. 'use'\n334. 'usual'\n335. 'value'\n336. 'various'\n337. 'very'\n338. 'video'\n339. 'view'\n340. 'village'\n341. 'visit'\n342. 'vote'\n343. 'wage'\n344. 'wait'\n345. 'walk'\n346. 'wall'\n347. 'want'\n348. 'war'\n349. 'warm'\n350. 'wash'\n351. 'waste'\n352. 'watch'\n353. 'water'\n354. 'way'\n355. 'we'\n356. 'wear'\n357. 'wednesday'\n358. 'wee'\n359. 'week'\n360. 'weigh'\n361. 'welcome'\n362. 'well'\n363. 'west'\n364. 'what'\n365. 'when'\n366. 'where'\n367. 'whether'\n368. 'which'\n369. 'while'\n370. 'white'\n371. 'who'\n372. 'whole'\n373. 'why'\n374. 'wide'\n375. 'wife'\n376. 'will'\n377. 'win'\n378. 'wind'\n379. 'window'\n380. 'wish'\n381. 'with'\n382. 'within'\n383. 'without'\n384. 'woman'\n385. 'wonder'\n386. 'wood'\n387. 'word'\n388. 'work'\n389. 'world'\n390. 'worry'\n391. 'worse'\n392. 'worth'\n393. 'would'\n394. 'write'\n395. 'wrong'\n396. 'year'\n397. 'yes'\n398. 'yesterday'\n399. 'yet'\n400. 'you'\n401. 'young'\n\n\n",
            "text/html": [
              "<style>\n",
              ".list-inline {list-style: none; margin:0; padding: 0}\n",
              ".list-inline>li {display: inline-block}\n",
              ".list-inline>li:not(:last-child)::after {content: \"\\00b7\"; padding: 0 .5ex}\n",
              "</style>\n",
              "<ol class=list-inline><li>'a'</li><li>'able'</li><li>'about'</li><li>'absolute'</li><li>'accept'</li><li>'account'</li><li>'achieve'</li><li>'across'</li><li>'act'</li><li>'active'</li><li>'actual'</li><li>'add'</li><li>'address'</li><li>'admit'</li><li>'advertise'</li><li>'affect'</li><li>'afford'</li><li>'after'</li><li>'afternoon'</li><li>'again'</li><li>'against'</li><li>'age'</li><li>'agent'</li><li>'ago'</li><li>'agree'</li><li>'air'</li><li>'all'</li><li>'allow'</li><li>'almost'</li><li>'along'</li><li>'already'</li><li>'alright'</li><li>'also'</li><li>'although'</li><li>'always'</li><li>'america'</li><li>'amount'</li><li>'and'</li><li>'another'</li><li>'answer'</li><li>'any'</li><li>'apart'</li><li>'apparent'</li><li>'appear'</li><li>'apply'</li><li>'appoint'</li><li>'approach'</li><li>'appropriate'</li><li>'area'</li><li>'argue'</li><li>'arm'</li><li>'around'</li><li>'arrange'</li><li>'art'</li><li>'as'</li><li>'ask'</li><li>'associate'</li><li>'assume'</li><li>'at'</li><li>'attend'</li><li>'authority'</li><li>'available'</li><li>'aware'</li><li>'away'</li><li>'awful'</li><li>'baby'</li><li>'back'</li><li>'bad'</li><li>'bag'</li><li>'balance'</li><li>'ball'</li><li>'bank'</li><li>'bar'</li><li>'base'</li><li>'basis'</li><li>'be'</li><li>'bear'</li><li>'beat'</li><li>'beauty'</li><li>'because'</li><li>'become'</li><li>'bed'</li><li>'before'</li><li>'begin'</li><li>'behind'</li><li>'believe'</li><li>'benefit'</li><li>'best'</li><li>'bet'</li><li>'between'</li><li>'big'</li><li>'bill'</li><li>'birth'</li><li>'bit'</li><li>'black'</li><li>'bloke'</li><li>'blood'</li><li>'blow'</li><li>'blue'</li><li>'board'</li><li>'boat'</li><li>'body'</li><li>'book'</li><li>'both'</li><li>'bother'</li><li>'bottle'</li><li>'bottom'</li><li>'box'</li><li>'boy'</li><li>'break'</li><li>'brief'</li><li>'brilliant'</li><li>'bring'</li><li>'britain'</li><li>'brother'</li><li>'budget'</li><li>'build'</li><li>'bus'</li><li>'business'</li><li>'busy'</li><li>'but'</li><li>'buy'</li><li>'by'</li><li>'cake'</li><li>'call'</li><li>'can'</li><li>'car'</li><li>'card'</li><li>'care'</li><li>'carry'</li><li>'case'</li><li>'cat'</li><li>'catch'</li><li>'cause'</li><li>'cent'</li><li>'centre'</li><li>'certain'</li><li>'chair'</li><li>'chairman'</li><li>'chance'</li><li>'change'</li><li>'chap'</li><li>'character'</li><li>'charge'</li><li>'cheap'</li><li>'check'</li><li>'child'</li><li>'choice'</li><li>'choose'</li><li>'Christ'</li><li>'Christmas'</li><li>'church'</li><li>'city'</li><li>'claim'</li><li>'class'</li><li>'clean'</li><li>'clear'</li><li>'client'</li><li>'clock'</li><li>'close'</li><li>'closes'</li><li>'clothe'</li><li>'club'</li><li>'coffee'</li><li>'cold'</li><li>'colleague'</li><li>'collect'</li><li>'college'</li><li>'colour'</li><li>'come'</li><li>'comment'</li><li>'commit'</li><li>'committee'</li><li>'common'</li><li>'community'</li><li>'company'</li><li>'compare'</li><li>'complete'</li><li>'compute'</li><li>'concern'</li><li>'condition'</li><li>'confer'</li><li>'consider'</li><li>'consult'</li><li>'contact'</li><li>'continue'</li><li>'contract'</li><li>'control'</li><li>'converse'</li><li>'cook'</li><li>'copy'</li><li>'corner'</li><li>'correct'</li><li>'cost'</li><li>'could'</li><li>'council'</li><li>'count'</li><li>'country'</li><li>'county'</li><li>'couple'</li><li>⋯</li><li>'society'</li><li>'some'</li><li>'son'</li><li>'soon'</li><li>'sorry'</li><li>'sort'</li><li>'sound'</li><li>'south'</li><li>'space'</li><li>'speak'</li><li>'special'</li><li>'specific'</li><li>'speed'</li><li>'spell'</li><li>'spend'</li><li>'square'</li><li>'staff'</li><li>'stage'</li><li>'stairs'</li><li>'stand'</li><li>'standard'</li><li>'start'</li><li>'state'</li><li>'station'</li><li>'stay'</li><li>'step'</li><li>'stick'</li><li>'still'</li><li>'stop'</li><li>'story'</li><li>'straight'</li><li>'strategy'</li><li>'street'</li><li>'strike'</li><li>'strong'</li><li>'structure'</li><li>'student'</li><li>'study'</li><li>'stuff'</li><li>'stupid'</li><li>'subject'</li><li>'succeed'</li><li>'such'</li><li>'sudden'</li><li>'suggest'</li><li>'suit'</li><li>'summer'</li><li>'sun'</li><li>'sunday'</li><li>'supply'</li><li>'support'</li><li>'suppose'</li><li>'sure'</li><li>'surprise'</li><li>'switch'</li><li>'system'</li><li>'table'</li><li>'take'</li><li>'talk'</li><li>'tape'</li><li>'tax'</li><li>'tea'</li><li>'teach'</li><li>'team'</li><li>'telephone'</li><li>'television'</li><li>'tell'</li><li>'ten'</li><li>'tend'</li><li>'term'</li><li>'terrible'</li><li>'test'</li><li>'than'</li><li>'thank'</li><li>'the'</li><li>'then'</li><li>'there'</li><li>'therefore'</li><li>'they'</li><li>'thing'</li><li>'think'</li><li>'thirteen'</li><li>'thirty'</li><li>'this'</li><li>'thou'</li><li>'though'</li><li>'thousand'</li><li>'three'</li><li>'through'</li><li>'throw'</li><li>'thursday'</li><li>'tie'</li><li>'time'</li><li>'to'</li><li>'today'</li><li>'together'</li><li>'tomorrow'</li><li>'tonight'</li><li>'too'</li><li>'top'</li><li>'total'</li><li>'touch'</li><li>'toward'</li><li>'town'</li><li>'trade'</li><li>'traffic'</li><li>'train'</li><li>'transport'</li><li>'travel'</li><li>'treat'</li><li>'tree'</li><li>'trouble'</li><li>'true'</li><li>'trust'</li><li>'try'</li><li>'tuesday'</li><li>'turn'</li><li>'twelve'</li><li>'twenty'</li><li>'two'</li><li>'type'</li><li>'under'</li><li>'understand'</li><li>'union'</li><li>'unit'</li><li>'unite'</li><li>'university'</li><li>'unless'</li><li>'until'</li><li>'up'</li><li>'upon'</li><li>'use'</li><li>'usual'</li><li>'value'</li><li>'various'</li><li>'very'</li><li>'video'</li><li>'view'</li><li>'village'</li><li>'visit'</li><li>'vote'</li><li>'wage'</li><li>'wait'</li><li>'walk'</li><li>'wall'</li><li>'want'</li><li>'war'</li><li>'warm'</li><li>'wash'</li><li>'waste'</li><li>'watch'</li><li>'water'</li><li>'way'</li><li>'we'</li><li>'wear'</li><li>'wednesday'</li><li>'wee'</li><li>'week'</li><li>'weigh'</li><li>'welcome'</li><li>'well'</li><li>'west'</li><li>'what'</li><li>'when'</li><li>'where'</li><li>'whether'</li><li>'which'</li><li>'while'</li><li>'white'</li><li>'who'</li><li>'whole'</li><li>'why'</li><li>'wide'</li><li>'wife'</li><li>'will'</li><li>'win'</li><li>'wind'</li><li>'window'</li><li>'wish'</li><li>'with'</li><li>'within'</li><li>'without'</li><li>'woman'</li><li>'wonder'</li><li>'wood'</li><li>'word'</li><li>'work'</li><li>'world'</li><li>'worry'</li><li>'worse'</li><li>'worth'</li><li>'would'</li><li>'write'</li><li>'wrong'</li><li>'year'</li><li>'yes'</li><li>'yesterday'</li><li>'yet'</li><li>'you'</li><li>'young'</li></ol>\n"
            ]
          },
          "metadata": {
            "tags": []
          }
        }
      ]
    },
    {
      "cell_type": "markdown",
      "metadata": {
        "id": "8UT4DoB74SSU"
      },
      "source": [
        "### 1. Which words start with `y`? (Freebie)"
      ]
    },
    {
      "cell_type": "code",
      "metadata": {
        "id": "Xqe2Asr94SSU",
        "colab": {
          "base_uri": "https://localhost:8080/",
          "height": 181
        },
        "outputId": "1acc11dd-c6e2-4fea-957b-d6f438b08612"
      },
      "source": [
        "str_extract(words, \"^y\\\\w*\")"
      ],
      "execution_count": null,
      "outputs": [
        {
          "output_type": "display_data",
          "data": {
            "text/plain": [
              "  [1] NA          NA          NA          NA          NA          NA         \n",
              "  [7] NA          NA          NA          NA          NA          NA         \n",
              " [13] NA          NA          NA          NA          NA          NA         \n",
              " [19] NA          NA          NA          NA          NA          NA         \n",
              " [25] NA          NA          NA          NA          NA          NA         \n",
              " [31] NA          NA          NA          NA          NA          NA         \n",
              " [37] NA          NA          NA          NA          NA          NA         \n",
              " [43] NA          NA          NA          NA          NA          NA         \n",
              " [49] NA          NA          NA          NA          NA          NA         \n",
              " [55] NA          NA          NA          NA          NA          NA         \n",
              " [61] NA          NA          NA          NA          NA          NA         \n",
              " [67] NA          NA          NA          NA          NA          NA         \n",
              " [73] NA          NA          NA          NA          NA          NA         \n",
              " [79] NA          NA          NA          NA          NA          NA         \n",
              " [85] NA          NA          NA          NA          NA          NA         \n",
              " [91] NA          NA          NA          NA          NA          NA         \n",
              " [97] NA          NA          NA          NA          NA          NA         \n",
              "[103] NA          NA          NA          NA          NA          NA         \n",
              "[109] NA          NA          NA          NA          NA          NA         \n",
              "[115] NA          NA          NA          NA          NA          NA         \n",
              "[121] NA          NA          NA          NA          NA          NA         \n",
              "[127] NA          NA          NA          NA          NA          NA         \n",
              "[133] NA          NA          NA          NA          NA          NA         \n",
              "[139] NA          NA          NA          NA          NA          NA         \n",
              "[145] NA          NA          NA          NA          NA          NA         \n",
              "[151] NA          NA          NA          NA          NA          NA         \n",
              "[157] NA          NA          NA          NA          NA          NA         \n",
              "[163] NA          NA          NA          NA          NA          NA         \n",
              "[169] NA          NA          NA          NA          NA          NA         \n",
              "[175] NA          NA          NA          NA          NA          NA         \n",
              "[181] NA          NA          NA          NA          NA          NA         \n",
              "[187] NA          NA          NA          NA          NA          NA         \n",
              "[193] NA          NA          NA          NA          NA          NA         \n",
              "[199] NA          NA          NA          NA          NA          NA         \n",
              "[205] NA          NA          NA          NA          NA          NA         \n",
              "[211] NA          NA          NA          NA          NA          NA         \n",
              "[217] NA          NA          NA          NA          NA          NA         \n",
              "[223] NA          NA          NA          NA          NA          NA         \n",
              "[229] NA          NA          NA          NA          NA          NA         \n",
              "[235] NA          NA          NA          NA          NA          NA         \n",
              "[241] NA          NA          NA          NA          NA          NA         \n",
              "[247] NA          NA          NA          NA          NA          NA         \n",
              "[253] NA          NA          NA          NA          NA          NA         \n",
              "[259] NA          NA          NA          NA          NA          NA         \n",
              "[265] NA          NA          NA          NA          NA          NA         \n",
              "[271] NA          NA          NA          NA          NA          NA         \n",
              "[277] NA          NA          NA          NA          NA          NA         \n",
              "[283] NA          NA          NA          NA          NA          NA         \n",
              "[289] NA          NA          NA          NA          NA          NA         \n",
              "[295] NA          NA          NA          NA          NA          NA         \n",
              "[301] NA          NA          NA          NA          NA          NA         \n",
              "[307] NA          NA          NA          NA          NA          NA         \n",
              "[313] NA          NA          NA          NA          NA          NA         \n",
              "[319] NA          NA          NA          NA          NA          NA         \n",
              "[325] NA          NA          NA          NA          NA          NA         \n",
              "[331] NA          NA          NA          NA          NA          NA         \n",
              "[337] NA          NA          NA          NA          NA          NA         \n",
              "[343] NA          NA          NA          NA          NA          NA         \n",
              "[349] NA          NA          NA          NA          NA          NA         \n",
              "[355] NA          NA          NA          NA          NA          NA         \n",
              "[361] NA          NA          NA          NA          NA          NA         \n",
              "[367] NA          NA          NA          NA          NA          NA         \n",
              "[373] NA          NA          NA          NA          NA          NA         \n",
              "[379] NA          NA          NA          NA          NA          NA         \n",
              "[385] NA          NA          NA          NA          NA          NA         \n",
              "[391] NA          NA          NA          NA          NA          NA         \n",
              "[397] NA          NA          NA          NA          NA          NA         \n",
              "[403] NA          NA          NA          NA          NA          NA         \n",
              "[409] NA          NA          NA          NA          NA          NA         \n",
              "[415] NA          NA          NA          NA          NA          NA         \n",
              "[421] NA          NA          NA          NA          NA          NA         \n",
              "[427] NA          NA          NA          NA          NA          NA         \n",
              "[433] NA          NA          NA          NA          NA          NA         \n",
              "[439] NA          NA          NA          NA          NA          NA         \n",
              "[445] NA          NA          NA          NA          NA          NA         \n",
              "[451] NA          NA          NA          NA          NA          NA         \n",
              "[457] NA          NA          NA          NA          NA          NA         \n",
              "[463] NA          NA          NA          NA          NA          NA         \n",
              "[469] NA          NA          NA          NA          NA          NA         \n",
              "[475] NA          NA          NA          NA          NA          NA         \n",
              "[481] NA          NA          NA          NA          NA          NA         \n",
              "[487] NA          NA          NA          NA          NA          NA         \n",
              "[493] NA          NA          NA          NA          NA          NA         \n",
              "[499] NA          NA          NA          NA          NA          NA         \n",
              "[505] NA          NA          NA          NA          NA          NA         \n",
              "[511] NA          NA          NA          NA          NA          NA         \n",
              "[517] NA          NA          NA          NA          NA          NA         \n",
              "[523] NA          NA          NA          NA          NA          NA         \n",
              "[529] NA          NA          NA          NA          NA          NA         \n",
              "[535] NA          NA          NA          NA          NA          NA         \n",
              "[541] NA          NA          NA          NA          NA          NA         \n",
              "[547] NA          NA          NA          NA          NA          NA         \n",
              "[553] NA          NA          NA          NA          NA          NA         \n",
              "[559] NA          NA          NA          NA          NA          NA         \n",
              "[565] NA          NA          NA          NA          NA          NA         \n",
              "[571] NA          NA          NA          NA          NA          NA         \n",
              "[577] NA          NA          NA          NA          NA          NA         \n",
              "[583] NA          NA          NA          NA          NA          NA         \n",
              "[589] NA          NA          NA          NA          NA          NA         \n",
              "[595] NA          NA          NA          NA          NA          NA         \n",
              "[601] NA          NA          NA          NA          NA          NA         \n",
              "[607] NA          NA          NA          NA          NA          NA         \n",
              "[613] NA          NA          NA          NA          NA          NA         \n",
              "[619] NA          NA          NA          NA          NA          NA         \n",
              "[625] NA          NA          NA          NA          NA          NA         \n",
              "[631] NA          NA          NA          NA          NA          NA         \n",
              "[637] NA          NA          NA          NA          NA          NA         \n",
              "[643] NA          NA          NA          NA          NA          NA         \n",
              "[649] NA          NA          NA          NA          NA          NA         \n",
              "[655] NA          NA          NA          NA          NA          NA         \n",
              "[661] NA          NA          NA          NA          NA          NA         \n",
              "[667] NA          NA          NA          NA          NA          NA         \n",
              "[673] NA          NA          NA          NA          NA          NA         \n",
              "[679] NA          NA          NA          NA          NA          NA         \n",
              "[685] NA          NA          NA          NA          NA          NA         \n",
              "[691] NA          NA          NA          NA          NA          NA         \n",
              "[697] NA          NA          NA          NA          NA          NA         \n",
              "[703] NA          NA          NA          NA          NA          NA         \n",
              "[709] NA          NA          NA          NA          NA          NA         \n",
              "[715] NA          NA          NA          NA          NA          NA         \n",
              "[721] NA          NA          NA          NA          NA          NA         \n",
              "[727] NA          NA          NA          NA          NA          NA         \n",
              "[733] NA          NA          NA          NA          NA          NA         \n",
              "[739] NA          NA          NA          NA          NA          NA         \n",
              "[745] NA          NA          NA          NA          NA          NA         \n",
              "[751] NA          NA          NA          NA          NA          NA         \n",
              "[757] NA          NA          NA          NA          NA          NA         \n",
              "[763] NA          NA          NA          NA          NA          NA         \n",
              "[769] NA          NA          NA          NA          NA          NA         \n",
              "[775] NA          NA          NA          NA          NA          NA         \n",
              "[781] NA          NA          NA          NA          NA          NA         \n",
              "[787] NA          NA          NA          NA          NA          NA         \n",
              "[793] NA          NA          NA          NA          NA          NA         \n",
              "[799] NA          NA          NA          NA          NA          NA         \n",
              "[805] NA          NA          NA          NA          NA          NA         \n",
              "[811] NA          NA          NA          NA          NA          NA         \n",
              "[817] NA          NA          NA          NA          NA          NA         \n",
              "[823] NA          NA          NA          NA          NA          NA         \n",
              "[829] NA          NA          NA          NA          NA          NA         \n",
              "[835] NA          NA          NA          NA          NA          NA         \n",
              "[841] NA          NA          NA          NA          NA          NA         \n",
              "[847] NA          NA          NA          NA          NA          NA         \n",
              "[853] NA          NA          NA          NA          NA          NA         \n",
              "[859] NA          NA          NA          NA          NA          NA         \n",
              "[865] NA          NA          NA          NA          NA          NA         \n",
              "[871] NA          NA          NA          NA          NA          NA         \n",
              "[877] NA          NA          NA          NA          NA          NA         \n",
              "[883] NA          NA          NA          NA          NA          NA         \n",
              "[889] NA          NA          NA          NA          NA          NA         \n",
              "[895] NA          NA          NA          NA          NA          NA         \n",
              "[901] NA          NA          NA          NA          NA          NA         \n",
              "[907] NA          NA          NA          NA          NA          NA         \n",
              "[913] NA          NA          NA          NA          NA          NA         \n",
              "[919] NA          NA          NA          NA          NA          NA         \n",
              "[925] NA          NA          NA          NA          NA          NA         \n",
              "[931] NA          NA          NA          NA          NA          NA         \n",
              "[937] NA          NA          NA          NA          NA          NA         \n",
              "[943] NA          NA          NA          NA          NA          NA         \n",
              "[949] NA          NA          NA          NA          NA          NA         \n",
              "[955] NA          NA          NA          NA          NA          NA         \n",
              "[961] NA          NA          NA          NA          NA          NA         \n",
              "[967] NA          NA          NA          NA          NA          NA         \n",
              "[973] NA          NA          \"year\"      \"yes\"       \"yesterday\" \"yet\"      \n",
              "[979] \"you\"       \"young\"    "
            ],
            "text/latex": "\\begin{enumerate*}\n\\item NA\n\\item NA\n\\item NA\n\\item NA\n\\item NA\n\\item NA\n\\item NA\n\\item NA\n\\item NA\n\\item NA\n\\item NA\n\\item NA\n\\item NA\n\\item NA\n\\item NA\n\\item NA\n\\item NA\n\\item NA\n\\item NA\n\\item NA\n\\item NA\n\\item NA\n\\item NA\n\\item NA\n\\item NA\n\\item NA\n\\item NA\n\\item NA\n\\item NA\n\\item NA\n\\item NA\n\\item NA\n\\item NA\n\\item NA\n\\item NA\n\\item NA\n\\item NA\n\\item NA\n\\item NA\n\\item NA\n\\item NA\n\\item NA\n\\item NA\n\\item NA\n\\item NA\n\\item NA\n\\item NA\n\\item NA\n\\item NA\n\\item NA\n\\item NA\n\\item NA\n\\item NA\n\\item NA\n\\item NA\n\\item NA\n\\item NA\n\\item NA\n\\item NA\n\\item NA\n\\item NA\n\\item NA\n\\item NA\n\\item NA\n\\item NA\n\\item NA\n\\item NA\n\\item NA\n\\item NA\n\\item NA\n\\item NA\n\\item NA\n\\item NA\n\\item NA\n\\item NA\n\\item NA\n\\item NA\n\\item NA\n\\item NA\n\\item NA\n\\item NA\n\\item NA\n\\item NA\n\\item NA\n\\item NA\n\\item NA\n\\item NA\n\\item NA\n\\item NA\n\\item NA\n\\item NA\n\\item NA\n\\item NA\n\\item NA\n\\item NA\n\\item NA\n\\item NA\n\\item NA\n\\item NA\n\\item NA\n\\item NA\n\\item NA\n\\item NA\n\\item NA\n\\item NA\n\\item NA\n\\item NA\n\\item NA\n\\item NA\n\\item NA\n\\item NA\n\\item NA\n\\item NA\n\\item NA\n\\item NA\n\\item NA\n\\item NA\n\\item NA\n\\item NA\n\\item NA\n\\item NA\n\\item NA\n\\item NA\n\\item NA\n\\item NA\n\\item NA\n\\item NA\n\\item NA\n\\item NA\n\\item NA\n\\item NA\n\\item NA\n\\item NA\n\\item NA\n\\item NA\n\\item NA\n\\item NA\n\\item NA\n\\item NA\n\\item NA\n\\item NA\n\\item NA\n\\item NA\n\\item NA\n\\item NA\n\\item NA\n\\item NA\n\\item NA\n\\item NA\n\\item NA\n\\item NA\n\\item NA\n\\item NA\n\\item NA\n\\item NA\n\\item NA\n\\item NA\n\\item NA\n\\item NA\n\\item NA\n\\item NA\n\\item NA\n\\item NA\n\\item NA\n\\item NA\n\\item NA\n\\item NA\n\\item NA\n\\item NA\n\\item NA\n\\item NA\n\\item NA\n\\item NA\n\\item NA\n\\item NA\n\\item NA\n\\item NA\n\\item NA\n\\item NA\n\\item NA\n\\item NA\n\\item NA\n\\item NA\n\\item NA\n\\item NA\n\\item NA\n\\item NA\n\\item NA\n\\item NA\n\\item NA\n\\item NA\n\\item NA\n\\item NA\n\\item NA\n\\item NA\n\\item NA\n\\item NA\n\\item NA\n\\item NA\n\\item NA\n\\item ⋯\n\\item NA\n\\item NA\n\\item NA\n\\item NA\n\\item NA\n\\item NA\n\\item NA\n\\item NA\n\\item NA\n\\item NA\n\\item NA\n\\item NA\n\\item NA\n\\item NA\n\\item NA\n\\item NA\n\\item NA\n\\item NA\n\\item NA\n\\item NA\n\\item NA\n\\item NA\n\\item NA\n\\item NA\n\\item NA\n\\item NA\n\\item NA\n\\item NA\n\\item NA\n\\item NA\n\\item NA\n\\item NA\n\\item NA\n\\item NA\n\\item NA\n\\item NA\n\\item NA\n\\item NA\n\\item NA\n\\item NA\n\\item NA\n\\item NA\n\\item NA\n\\item NA\n\\item NA\n\\item NA\n\\item NA\n\\item NA\n\\item NA\n\\item NA\n\\item NA\n\\item NA\n\\item NA\n\\item NA\n\\item NA\n\\item NA\n\\item NA\n\\item NA\n\\item NA\n\\item NA\n\\item NA\n\\item NA\n\\item NA\n\\item NA\n\\item NA\n\\item NA\n\\item NA\n\\item NA\n\\item NA\n\\item NA\n\\item NA\n\\item NA\n\\item NA\n\\item NA\n\\item NA\n\\item NA\n\\item NA\n\\item NA\n\\item NA\n\\item NA\n\\item NA\n\\item NA\n\\item NA\n\\item NA\n\\item NA\n\\item NA\n\\item NA\n\\item NA\n\\item NA\n\\item NA\n\\item NA\n\\item NA\n\\item NA\n\\item NA\n\\item NA\n\\item NA\n\\item NA\n\\item NA\n\\item NA\n\\item NA\n\\item NA\n\\item NA\n\\item NA\n\\item NA\n\\item NA\n\\item NA\n\\item NA\n\\item NA\n\\item NA\n\\item NA\n\\item NA\n\\item NA\n\\item NA\n\\item NA\n\\item NA\n\\item NA\n\\item NA\n\\item NA\n\\item NA\n\\item NA\n\\item NA\n\\item NA\n\\item NA\n\\item NA\n\\item NA\n\\item NA\n\\item NA\n\\item NA\n\\item NA\n\\item NA\n\\item NA\n\\item NA\n\\item NA\n\\item NA\n\\item NA\n\\item NA\n\\item NA\n\\item NA\n\\item NA\n\\item NA\n\\item NA\n\\item NA\n\\item NA\n\\item NA\n\\item NA\n\\item NA\n\\item NA\n\\item NA\n\\item NA\n\\item NA\n\\item NA\n\\item NA\n\\item NA\n\\item NA\n\\item NA\n\\item NA\n\\item NA\n\\item NA\n\\item NA\n\\item NA\n\\item NA\n\\item NA\n\\item NA\n\\item NA\n\\item NA\n\\item NA\n\\item NA\n\\item NA\n\\item NA\n\\item NA\n\\item NA\n\\item NA\n\\item NA\n\\item NA\n\\item NA\n\\item NA\n\\item NA\n\\item NA\n\\item NA\n\\item NA\n\\item NA\n\\item NA\n\\item NA\n\\item NA\n\\item NA\n\\item NA\n\\item NA\n\\item NA\n\\item NA\n\\item NA\n\\item NA\n\\item NA\n\\item NA\n\\item NA\n\\item 'year'\n\\item 'yes'\n\\item 'yesterday'\n\\item 'yet'\n\\item 'you'\n\\item 'young'\n\\end{enumerate*}\n",
            "text/markdown": "1. NA\n2. NA\n3. NA\n4. NA\n5. NA\n6. NA\n7. NA\n8. NA\n9. NA\n10. NA\n11. NA\n12. NA\n13. NA\n14. NA\n15. NA\n16. NA\n17. NA\n18. NA\n19. NA\n20. NA\n21. NA\n22. NA\n23. NA\n24. NA\n25. NA\n26. NA\n27. NA\n28. NA\n29. NA\n30. NA\n31. NA\n32. NA\n33. NA\n34. NA\n35. NA\n36. NA\n37. NA\n38. NA\n39. NA\n40. NA\n41. NA\n42. NA\n43. NA\n44. NA\n45. NA\n46. NA\n47. NA\n48. NA\n49. NA\n50. NA\n51. NA\n52. NA\n53. NA\n54. NA\n55. NA\n56. NA\n57. NA\n58. NA\n59. NA\n60. NA\n61. NA\n62. NA\n63. NA\n64. NA\n65. NA\n66. NA\n67. NA\n68. NA\n69. NA\n70. NA\n71. NA\n72. NA\n73. NA\n74. NA\n75. NA\n76. NA\n77. NA\n78. NA\n79. NA\n80. NA\n81. NA\n82. NA\n83. NA\n84. NA\n85. NA\n86. NA\n87. NA\n88. NA\n89. NA\n90. NA\n91. NA\n92. NA\n93. NA\n94. NA\n95. NA\n96. NA\n97. NA\n98. NA\n99. NA\n100. NA\n101. NA\n102. NA\n103. NA\n104. NA\n105. NA\n106. NA\n107. NA\n108. NA\n109. NA\n110. NA\n111. NA\n112. NA\n113. NA\n114. NA\n115. NA\n116. NA\n117. NA\n118. NA\n119. NA\n120. NA\n121. NA\n122. NA\n123. NA\n124. NA\n125. NA\n126. NA\n127. NA\n128. NA\n129. NA\n130. NA\n131. NA\n132. NA\n133. NA\n134. NA\n135. NA\n136. NA\n137. NA\n138. NA\n139. NA\n140. NA\n141. NA\n142. NA\n143. NA\n144. NA\n145. NA\n146. NA\n147. NA\n148. NA\n149. NA\n150. NA\n151. NA\n152. NA\n153. NA\n154. NA\n155. NA\n156. NA\n157. NA\n158. NA\n159. NA\n160. NA\n161. NA\n162. NA\n163. NA\n164. NA\n165. NA\n166. NA\n167. NA\n168. NA\n169. NA\n170. NA\n171. NA\n172. NA\n173. NA\n174. NA\n175. NA\n176. NA\n177. NA\n178. NA\n179. NA\n180. NA\n181. NA\n182. NA\n183. NA\n184. NA\n185. NA\n186. NA\n187. NA\n188. NA\n189. NA\n190. NA\n191. NA\n192. NA\n193. NA\n194. NA\n195. NA\n196. NA\n197. NA\n198. NA\n199. NA\n200. NA\n201. ⋯\n202. NA\n203. NA\n204. NA\n205. NA\n206. NA\n207. NA\n208. NA\n209. NA\n210. NA\n211. NA\n212. NA\n213. NA\n214. NA\n215. NA\n216. NA\n217. NA\n218. NA\n219. NA\n220. NA\n221. NA\n222. NA\n223. NA\n224. NA\n225. NA\n226. NA\n227. NA\n228. NA\n229. NA\n230. NA\n231. NA\n232. NA\n233. NA\n234. NA\n235. NA\n236. NA\n237. NA\n238. NA\n239. NA\n240. NA\n241. NA\n242. NA\n243. NA\n244. NA\n245. NA\n246. NA\n247. NA\n248. NA\n249. NA\n250. NA\n251. NA\n252. NA\n253. NA\n254. NA\n255. NA\n256. NA\n257. NA\n258. NA\n259. NA\n260. NA\n261. NA\n262. NA\n263. NA\n264. NA\n265. NA\n266. NA\n267. NA\n268. NA\n269. NA\n270. NA\n271. NA\n272. NA\n273. NA\n274. NA\n275. NA\n276. NA\n277. NA\n278. NA\n279. NA\n280. NA\n281. NA\n282. NA\n283. NA\n284. NA\n285. NA\n286. NA\n287. NA\n288. NA\n289. NA\n290. NA\n291. NA\n292. NA\n293. NA\n294. NA\n295. NA\n296. NA\n297. NA\n298. NA\n299. NA\n300. NA\n301. NA\n302. NA\n303. NA\n304. NA\n305. NA\n306. NA\n307. NA\n308. NA\n309. NA\n310. NA\n311. NA\n312. NA\n313. NA\n314. NA\n315. NA\n316. NA\n317. NA\n318. NA\n319. NA\n320. NA\n321. NA\n322. NA\n323. NA\n324. NA\n325. NA\n326. NA\n327. NA\n328. NA\n329. NA\n330. NA\n331. NA\n332. NA\n333. NA\n334. NA\n335. NA\n336. NA\n337. NA\n338. NA\n339. NA\n340. NA\n341. NA\n342. NA\n343. NA\n344. NA\n345. NA\n346. NA\n347. NA\n348. NA\n349. NA\n350. NA\n351. NA\n352. NA\n353. NA\n354. NA\n355. NA\n356. NA\n357. NA\n358. NA\n359. NA\n360. NA\n361. NA\n362. NA\n363. NA\n364. NA\n365. NA\n366. NA\n367. NA\n368. NA\n369. NA\n370. NA\n371. NA\n372. NA\n373. NA\n374. NA\n375. NA\n376. NA\n377. NA\n378. NA\n379. NA\n380. NA\n381. NA\n382. NA\n383. NA\n384. NA\n385. NA\n386. NA\n387. NA\n388. NA\n389. NA\n390. NA\n391. NA\n392. NA\n393. NA\n394. NA\n395. NA\n396. 'year'\n397. 'yes'\n398. 'yesterday'\n399. 'yet'\n400. 'you'\n401. 'young'\n\n\n",
            "text/html": [
              "<style>\n",
              ".list-inline {list-style: none; margin:0; padding: 0}\n",
              ".list-inline>li {display: inline-block}\n",
              ".list-inline>li:not(:last-child)::after {content: \"\\00b7\"; padding: 0 .5ex}\n",
              "</style>\n",
              "<ol class=list-inline><li>NA</li><li>NA</li><li>NA</li><li>NA</li><li>NA</li><li>NA</li><li>NA</li><li>NA</li><li>NA</li><li>NA</li><li>NA</li><li>NA</li><li>NA</li><li>NA</li><li>NA</li><li>NA</li><li>NA</li><li>NA</li><li>NA</li><li>NA</li><li>NA</li><li>NA</li><li>NA</li><li>NA</li><li>NA</li><li>NA</li><li>NA</li><li>NA</li><li>NA</li><li>NA</li><li>NA</li><li>NA</li><li>NA</li><li>NA</li><li>NA</li><li>NA</li><li>NA</li><li>NA</li><li>NA</li><li>NA</li><li>NA</li><li>NA</li><li>NA</li><li>NA</li><li>NA</li><li>NA</li><li>NA</li><li>NA</li><li>NA</li><li>NA</li><li>NA</li><li>NA</li><li>NA</li><li>NA</li><li>NA</li><li>NA</li><li>NA</li><li>NA</li><li>NA</li><li>NA</li><li>NA</li><li>NA</li><li>NA</li><li>NA</li><li>NA</li><li>NA</li><li>NA</li><li>NA</li><li>NA</li><li>NA</li><li>NA</li><li>NA</li><li>NA</li><li>NA</li><li>NA</li><li>NA</li><li>NA</li><li>NA</li><li>NA</li><li>NA</li><li>NA</li><li>NA</li><li>NA</li><li>NA</li><li>NA</li><li>NA</li><li>NA</li><li>NA</li><li>NA</li><li>NA</li><li>NA</li><li>NA</li><li>NA</li><li>NA</li><li>NA</li><li>NA</li><li>NA</li><li>NA</li><li>NA</li><li>NA</li><li>NA</li><li>NA</li><li>NA</li><li>NA</li><li>NA</li><li>NA</li><li>NA</li><li>NA</li><li>NA</li><li>NA</li><li>NA</li><li>NA</li><li>NA</li><li>NA</li><li>NA</li><li>NA</li><li>NA</li><li>NA</li><li>NA</li><li>NA</li><li>NA</li><li>NA</li><li>NA</li><li>NA</li><li>NA</li><li>NA</li><li>NA</li><li>NA</li><li>NA</li><li>NA</li><li>NA</li><li>NA</li><li>NA</li><li>NA</li><li>NA</li><li>NA</li><li>NA</li><li>NA</li><li>NA</li><li>NA</li><li>NA</li><li>NA</li><li>NA</li><li>NA</li><li>NA</li><li>NA</li><li>NA</li><li>NA</li><li>NA</li><li>NA</li><li>NA</li><li>NA</li><li>NA</li><li>NA</li><li>NA</li><li>NA</li><li>NA</li><li>NA</li><li>NA</li><li>NA</li><li>NA</li><li>NA</li><li>NA</li><li>NA</li><li>NA</li><li>NA</li><li>NA</li><li>NA</li><li>NA</li><li>NA</li><li>NA</li><li>NA</li><li>NA</li><li>NA</li><li>NA</li><li>NA</li><li>NA</li><li>NA</li><li>NA</li><li>NA</li><li>NA</li><li>NA</li><li>NA</li><li>NA</li><li>NA</li><li>NA</li><li>NA</li><li>NA</li><li>NA</li><li>NA</li><li>NA</li><li>NA</li><li>NA</li><li>NA</li><li>NA</li><li>NA</li><li>NA</li><li>NA</li><li>NA</li><li>NA</li><li>⋯</li><li>NA</li><li>NA</li><li>NA</li><li>NA</li><li>NA</li><li>NA</li><li>NA</li><li>NA</li><li>NA</li><li>NA</li><li>NA</li><li>NA</li><li>NA</li><li>NA</li><li>NA</li><li>NA</li><li>NA</li><li>NA</li><li>NA</li><li>NA</li><li>NA</li><li>NA</li><li>NA</li><li>NA</li><li>NA</li><li>NA</li><li>NA</li><li>NA</li><li>NA</li><li>NA</li><li>NA</li><li>NA</li><li>NA</li><li>NA</li><li>NA</li><li>NA</li><li>NA</li><li>NA</li><li>NA</li><li>NA</li><li>NA</li><li>NA</li><li>NA</li><li>NA</li><li>NA</li><li>NA</li><li>NA</li><li>NA</li><li>NA</li><li>NA</li><li>NA</li><li>NA</li><li>NA</li><li>NA</li><li>NA</li><li>NA</li><li>NA</li><li>NA</li><li>NA</li><li>NA</li><li>NA</li><li>NA</li><li>NA</li><li>NA</li><li>NA</li><li>NA</li><li>NA</li><li>NA</li><li>NA</li><li>NA</li><li>NA</li><li>NA</li><li>NA</li><li>NA</li><li>NA</li><li>NA</li><li>NA</li><li>NA</li><li>NA</li><li>NA</li><li>NA</li><li>NA</li><li>NA</li><li>NA</li><li>NA</li><li>NA</li><li>NA</li><li>NA</li><li>NA</li><li>NA</li><li>NA</li><li>NA</li><li>NA</li><li>NA</li><li>NA</li><li>NA</li><li>NA</li><li>NA</li><li>NA</li><li>NA</li><li>NA</li><li>NA</li><li>NA</li><li>NA</li><li>NA</li><li>NA</li><li>NA</li><li>NA</li><li>NA</li><li>NA</li><li>NA</li><li>NA</li><li>NA</li><li>NA</li><li>NA</li><li>NA</li><li>NA</li><li>NA</li><li>NA</li><li>NA</li><li>NA</li><li>NA</li><li>NA</li><li>NA</li><li>NA</li><li>NA</li><li>NA</li><li>NA</li><li>NA</li><li>NA</li><li>NA</li><li>NA</li><li>NA</li><li>NA</li><li>NA</li><li>NA</li><li>NA</li><li>NA</li><li>NA</li><li>NA</li><li>NA</li><li>NA</li><li>NA</li><li>NA</li><li>NA</li><li>NA</li><li>NA</li><li>NA</li><li>NA</li><li>NA</li><li>NA</li><li>NA</li><li>NA</li><li>NA</li><li>NA</li><li>NA</li><li>NA</li><li>NA</li><li>NA</li><li>NA</li><li>NA</li><li>NA</li><li>NA</li><li>NA</li><li>NA</li><li>NA</li><li>NA</li><li>NA</li><li>NA</li><li>NA</li><li>NA</li><li>NA</li><li>NA</li><li>NA</li><li>NA</li><li>NA</li><li>NA</li><li>NA</li><li>NA</li><li>NA</li><li>NA</li><li>NA</li><li>NA</li><li>NA</li><li>NA</li><li>NA</li><li>NA</li><li>NA</li><li>NA</li><li>NA</li><li>NA</li><li>NA</li><li>NA</li><li>NA</li><li>'year'</li><li>'yes'</li><li>'yesterday'</li><li>'yet'</li><li>'you'</li><li>'young'</li></ol>\n"
            ]
          },
          "metadata": {
            "tags": []
          }
        }
      ]
    },
    {
      "cell_type": "code",
      "metadata": {
        "colab": {
          "base_uri": "https://localhost:8080/",
          "height": 32
        },
        "id": "ma6muR8LdN0N",
        "outputId": "012bb60a-564b-47a4-e976-ad1b539ff621"
      },
      "source": [
        "na.omit(str_extract(words, \"^y\\\\w*\"))"
      ],
      "execution_count": null,
      "outputs": [
        {
          "output_type": "display_data",
          "data": {
            "text/plain": [
              "[1] \"year\"      \"yes\"       \"yesterday\" \"yet\"       \"you\"       \"young\"    \n",
              "attr(,\"na.action\")\n",
              "  [1]   1   2   3   4   5   6   7   8   9  10  11  12  13  14  15  16  17  18\n",
              " [19]  19  20  21  22  23  24  25  26  27  28  29  30  31  32  33  34  35  36\n",
              " [37]  37  38  39  40  41  42  43  44  45  46  47  48  49  50  51  52  53  54\n",
              " [55]  55  56  57  58  59  60  61  62  63  64  65  66  67  68  69  70  71  72\n",
              " [73]  73  74  75  76  77  78  79  80  81  82  83  84  85  86  87  88  89  90\n",
              " [91]  91  92  93  94  95  96  97  98  99 100 101 102 103 104 105 106 107 108\n",
              "[109] 109 110 111 112 113 114 115 116 117 118 119 120 121 122 123 124 125 126\n",
              "[127] 127 128 129 130 131 132 133 134 135 136 137 138 139 140 141 142 143 144\n",
              "[145] 145 146 147 148 149 150 151 152 153 154 155 156 157 158 159 160 161 162\n",
              "[163] 163 164 165 166 167 168 169 170 171 172 173 174 175 176 177 178 179 180\n",
              "[181] 181 182 183 184 185 186 187 188 189 190 191 192 193 194 195 196 197 198\n",
              "[199] 199 200 201 202 203 204 205 206 207 208 209 210 211 212 213 214 215 216\n",
              "[217] 217 218 219 220 221 222 223 224 225 226 227 228 229 230 231 232 233 234\n",
              "[235] 235 236 237 238 239 240 241 242 243 244 245 246 247 248 249 250 251 252\n",
              "[253] 253 254 255 256 257 258 259 260 261 262 263 264 265 266 267 268 269 270\n",
              "[271] 271 272 273 274 275 276 277 278 279 280 281 282 283 284 285 286 287 288\n",
              "[289] 289 290 291 292 293 294 295 296 297 298 299 300 301 302 303 304 305 306\n",
              "[307] 307 308 309 310 311 312 313 314 315 316 317 318 319 320 321 322 323 324\n",
              "[325] 325 326 327 328 329 330 331 332 333 334 335 336 337 338 339 340 341 342\n",
              "[343] 343 344 345 346 347 348 349 350 351 352 353 354 355 356 357 358 359 360\n",
              "[361] 361 362 363 364 365 366 367 368 369 370 371 372 373 374 375 376 377 378\n",
              "[379] 379 380 381 382 383 384 385 386 387 388 389 390 391 392 393 394 395 396\n",
              "[397] 397 398 399 400 401 402 403 404 405 406 407 408 409 410 411 412 413 414\n",
              "[415] 415 416 417 418 419 420 421 422 423 424 425 426 427 428 429 430 431 432\n",
              "[433] 433 434 435 436 437 438 439 440 441 442 443 444 445 446 447 448 449 450\n",
              "[451] 451 452 453 454 455 456 457 458 459 460 461 462 463 464 465 466 467 468\n",
              "[469] 469 470 471 472 473 474 475 476 477 478 479 480 481 482 483 484 485 486\n",
              "[487] 487 488 489 490 491 492 493 494 495 496 497 498 499 500 501 502 503 504\n",
              "[505] 505 506 507 508 509 510 511 512 513 514 515 516 517 518 519 520 521 522\n",
              "[523] 523 524 525 526 527 528 529 530 531 532 533 534 535 536 537 538 539 540\n",
              "[541] 541 542 543 544 545 546 547 548 549 550 551 552 553 554 555 556 557 558\n",
              "[559] 559 560 561 562 563 564 565 566 567 568 569 570 571 572 573 574 575 576\n",
              "[577] 577 578 579 580 581 582 583 584 585 586 587 588 589 590 591 592 593 594\n",
              "[595] 595 596 597 598 599 600 601 602 603 604 605 606 607 608 609 610 611 612\n",
              "[613] 613 614 615 616 617 618 619 620 621 622 623 624 625 626 627 628 629 630\n",
              "[631] 631 632 633 634 635 636 637 638 639 640 641 642 643 644 645 646 647 648\n",
              "[649] 649 650 651 652 653 654 655 656 657 658 659 660 661 662 663 664 665 666\n",
              "[667] 667 668 669 670 671 672 673 674 675 676 677 678 679 680 681 682 683 684\n",
              "[685] 685 686 687 688 689 690 691 692 693 694 695 696 697 698 699 700 701 702\n",
              "[703] 703 704 705 706 707 708 709 710 711 712 713 714 715 716 717 718 719 720\n",
              "[721] 721 722 723 724 725 726 727 728 729 730 731 732 733 734 735 736 737 738\n",
              "[739] 739 740 741 742 743 744 745 746 747 748 749 750 751 752 753 754 755 756\n",
              "[757] 757 758 759 760 761 762 763 764 765 766 767 768 769 770 771 772 773 774\n",
              "[775] 775 776 777 778 779 780 781 782 783 784 785 786 787 788 789 790 791 792\n",
              "[793] 793 794 795 796 797 798 799 800 801 802 803 804 805 806 807 808 809 810\n",
              "[811] 811 812 813 814 815 816 817 818 819 820 821 822 823 824 825 826 827 828\n",
              "[829] 829 830 831 832 833 834 835 836 837 838 839 840 841 842 843 844 845 846\n",
              "[847] 847 848 849 850 851 852 853 854 855 856 857 858 859 860 861 862 863 864\n",
              "[865] 865 866 867 868 869 870 871 872 873 874 875 876 877 878 879 880 881 882\n",
              "[883] 883 884 885 886 887 888 889 890 891 892 893 894 895 896 897 898 899 900\n",
              "[901] 901 902 903 904 905 906 907 908 909 910 911 912 913 914 915 916 917 918\n",
              "[919] 919 920 921 922 923 924 925 926 927 928 929 930 931 932 933 934 935 936\n",
              "[937] 937 938 939 940 941 942 943 944 945 946 947 948 949 950 951 952 953 954\n",
              "[955] 955 956 957 958 959 960 961 962 963 964 965 966 967 968 969 970 971 972\n",
              "[973] 973 974\n",
              "attr(,\"class\")\n",
              "[1] \"omit\""
            ],
            "text/latex": "\\begin{enumerate*}\n\\item 'year'\n\\item 'yes'\n\\item 'yesterday'\n\\item 'yet'\n\\item 'you'\n\\item 'young'\n\\end{enumerate*}\n",
            "text/markdown": "1. 'year'\n2. 'yes'\n3. 'yesterday'\n4. 'yet'\n5. 'you'\n6. 'young'\n\n\n",
            "text/html": [
              "<style>\n",
              ".list-inline {list-style: none; margin:0; padding: 0}\n",
              ".list-inline>li {display: inline-block}\n",
              ".list-inline>li:not(:last-child)::after {content: \"\\00b7\"; padding: 0 .5ex}\n",
              "</style>\n",
              "<ol class=list-inline><li>'year'</li><li>'yes'</li><li>'yesterday'</li><li>'yet'</li><li>'you'</li><li>'young'</li></ol>\n"
            ]
          },
          "metadata": {
            "tags": []
          }
        }
      ]
    },
    {
      "cell_type": "markdown",
      "metadata": {
        "id": "tlv65nQI4SSX"
      },
      "source": [
        "### 2. Which words end with `x`?"
      ]
    },
    {
      "cell_type": "code",
      "metadata": {
        "id": "_TImnVnm4SSX"
      },
      "source": [
        ""
      ],
      "execution_count": null,
      "outputs": []
    },
    {
      "cell_type": "markdown",
      "metadata": {
        "id": "BfVvtNRw4SSY"
      },
      "source": [
        "### 3. ...are exactly two letters long (don’t use `str_length` here)?"
      ]
    },
    {
      "cell_type": "code",
      "source": [
        ""
      ],
      "metadata": {
        "id": "XsbSp1cnb57-"
      },
      "execution_count": null,
      "outputs": []
    },
    {
      "cell_type": "markdown",
      "metadata": {
        "id": "p2o5FtOe4SSZ"
      },
      "source": [
        "### 4. ...have ten or more letters?"
      ]
    },
    {
      "cell_type": "code",
      "metadata": {
        "id": "yjYzNTa_4SSa"
      },
      "source": [
        ""
      ],
      "execution_count": null,
      "outputs": []
    },
    {
      "cell_type": "markdown",
      "metadata": {
        "id": "O_JReR6d4SSa"
      },
      "source": [
        "### 5. ...end with `ed`, but not with `eed`?"
      ]
    },
    {
      "cell_type": "code",
      "metadata": {
        "scrolled": true,
        "id": "pMpFb3Dc4SSa"
      },
      "source": [
        ""
      ],
      "execution_count": null,
      "outputs": []
    },
    {
      "cell_type": "markdown",
      "metadata": {
        "id": "WCiSk4VB4SSb"
      },
      "source": [
        "### 6. ...end with `ing` or `ise`?"
      ]
    },
    {
      "cell_type": "code",
      "metadata": {
        "scrolled": true,
        "id": "0XCeACCF4SSb"
      },
      "source": [
        ""
      ],
      "execution_count": null,
      "outputs": []
    },
    {
      "cell_type": "markdown",
      "metadata": {
        "id": "Ob3RJa-m4SSb"
      },
      "source": [
        "### 7. ...end with the same two-letter sequence they start with (e.g. `church`)?"
      ]
    },
    {
      "cell_type": "code",
      "metadata": {
        "id": "d5E4q7Dk4SSb"
      },
      "source": [
        ""
      ],
      "execution_count": null,
      "outputs": []
    },
    {
      "cell_type": "markdown",
      "metadata": {
        "id": "gG6kpk9x4SSd"
      },
      "source": [
        "### 8 Try to match the valid `dates` below (first row) without matching the invalid dates (the latter six rows).\n",
        "Hint: Start by writing a pattern that matches all the entries. Then try to refine your pattern to omit the invalid dates."
      ]
    },
    {
      "cell_type": "code",
      "metadata": {
        "id": "Pn43ZDBa4SSe"
      },
      "source": [
        "dates = c('2012-05-13', '2014-12-31', '1991-06-14', '1991/06/14',\n",
        "          '200a-05-13',  # invalid year\n",
        "          '2014-15-20',  # invalid month\n",
        "          '2014-00-20',  # invalid month\n",
        "          '2016-04-35',  # invalid day\n",
        "          '2014-12-00',  # invalid day\n",
        "          '2013/03-25')  # non-matching separators"
      ],
      "execution_count": null,
      "outputs": []
    },
    {
      "cell_type": "code",
      "metadata": {
        "id": "xGh5LZQV4SSe"
      },
      "source": [
        ""
      ],
      "execution_count": null,
      "outputs": []
    }
  ]
}