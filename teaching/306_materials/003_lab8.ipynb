{
  "nbformat": 4,
  "nbformat_minor": 0,
  "metadata": {
    "kernelspec": {
      "display_name": "R",
      "language": "R",
      "name": "ir"
    },
    "language_info": {
      "codemirror_mode": "r",
      "file_extension": ".r",
      "mimetype": "text/x-r-source",
      "name": "R",
      "pygments_lexer": "r",
      "version": "3.6.1"
    },
    "colab": {
      "name": "003_lab8.ipynb",
      "provenance": [],
      "collapsed_sections": [
        "sxHhHMb04SRj",
        "ml_PRW_m4SRn",
        "haJjBqC24SRo",
        "pKE4dYKX4SRo",
        "NM047q7m4SRt",
        "W9bFN3Hw4SR3",
        "ONTicl8L4SR9",
        "dFL1JzPpV43B",
        "k5c6hBZl4SSJ",
        "ZlyAaUzM4SSK",
        "DxtokEpo4SSN",
        "s22tnpPy4SSO",
        "6QnMX7K14SSO",
        "wyuD1sJ54SSP",
        "tlv65nQI4SSX"
      ],
      "include_colab_link": true
    }
  },
  "cells": [
    {
      "cell_type": "markdown",
      "metadata": {
        "id": "view-in-github",
        "colab_type": "text"
      },
      "source": [
        "<a href=\"https://colab.research.google.com/github/chathasphere/chathasphere.github.io/blob/main/teaching/306_materials/003_lab8.ipynb\" target=\"_parent\"><img src=\"https://colab.research.google.com/assets/colab-badge.svg\" alt=\"Open In Colab\"/></a>"
      ]
    },
    {
      "cell_type": "markdown",
      "metadata": {
        "id": "sxHhHMb04SRj"
      },
      "source": [
        "# Lab 8: Regular Expressions and Strings\n",
        "## March 22nd, 2022"
      ]
    },
    {
      "cell_type": "code",
      "metadata": {
        "scrolled": true,
        "id": "4EdUO08G4SRm"
      },
      "source": [
        "require(tidyverse)\n",
        "require(stringr)"
      ],
      "execution_count": null,
      "outputs": []
    },
    {
      "cell_type": "markdown",
      "metadata": {
        "id": "ml_PRW_m4SRn"
      },
      "source": [
        "# 1. Regular Expressions\n",
        "\n",
        "Regular expressions (regex) are a way of describing **patterns** in text. In practice, they are used to search for (and/or replace) substrings. They can be trickyL\n",
        "\n",
        "`Some people, when confronted with a problem, think \"I know, I'll use regular expressions.\" Now they have two problems.` - Jamie Zawinski\n",
        "\n",
        "As a concrete example, suppose that we want to find and extract all the email addresses in a document. Do we manually search for all email addresses? Or do email addresses follow an abstract pattern that we can capture automatically?"
      ]
    },
    {
      "cell_type": "markdown",
      "metadata": {
        "id": "haJjBqC24SRo"
      },
      "source": [
        "## 1.1 Special characters\n",
        "\n",
        "Regex takes advantage of several reserved characters that are used for special functions. \n",
        "\n",
        "`. \\ | ( ) [ ] ^ $ { } * + ?`\n",
        "\n",
        "We'll go through a bunch of definitions. These will make more sense with some concrete examples later on. For more practice, you can check out https://regexone.com/."
      ]
    },
    {
      "cell_type": "markdown",
      "metadata": {
        "id": "pKE4dYKX4SRo"
      },
      "source": [
        "### Character classes\n",
        "\n",
        "* `.` matches anything (wildcard)\n",
        "* `[aeiou]` matches a single character in the set provided\n",
        "* `[^aeiou]` matches a single character NOT in the set\n",
        "* `[a-e]` matches a single character in a range, equivalent to `[abcde]`\n",
        "\n",
        "#### Shorthand\n",
        "\n",
        "* `\\w` matches a \"word\" character, equivalent to `[a-zA-Z0-9]`\n",
        "* `\\s` matches any whitespace, including tabs and newlines\n",
        "* `\\d` matches digits, equivalent to `[0-9]`\n",
        "* `\\W`, `\\S`, and `\\D` match the opposite of the lower-case versions\n",
        "\n",
        "#### Special characters\n",
        "\n",
        "* Note that `\\t` and `\\n` match the tab and newline characters. \n",
        "* If you want the \"literal\" versions of any of the reserved characters, (e.g., if we want to match the period \".\") you will need to escape them with a backslash `\\`, e.g. `[\\.\\\\\\|]`\n",
        "\n",
        "\n",
        "### Grouping\n",
        "\n",
        "* `()` are used to group patterns together. This can be used with any of the below operators. This can also be used to extract portions of a regex out individually, which we will later learn.\n",
        "* `\\1`, `\\2`, etc. refers to the first, second, etc. group in the match.\n",
        "\n",
        "### Operators\n",
        "\n",
        "* `|` is the OR operator and allows matches of either side\n",
        "* `{}` describes how many times the preceeding character of group must occur:\n",
        "  * `{m}` must occur exactly `m` times\n",
        "  * `{m,n}` must occur between `m` and `n` times, inclusive\n",
        "  * `{m,}` Must occur at least `m` times\n",
        "* `*` means the preceeding character can appear zero or more times, equivalent to `{0,}`\n",
        "* `+` means the preceeding character must appear one or more times, equivalent to `{1,}`\n",
        "* `?` means the preceeding character can appear zero or one time, equivalent to `{0,1}`\n",
        "\n",
        "### Anchors\n",
        "\n",
        "* `^` matches the start of a string (or line)\n",
        "* `$` matches the end of a string (or line)\n",
        "* `\\b` matches a word \"boundary\"\n",
        "* `\\B` matches not word boundary"
      ]
    },
    {
      "cell_type": "markdown",
      "metadata": {
        "id": "NM047q7m4SRt"
      },
      "source": [
        "# 2. Handling Strings in R"
      ]
    },
    {
      "cell_type": "markdown",
      "metadata": {
        "id": "O1vrxLGT4SRv"
      },
      "source": [
        "You're already familiar with the basics of strings. Note that there are some special characters. The most commonly used ones are `\\n` and `\\t` for newlines and tabs, respectively.\n",
        "\n",
        "Also note that there are some reserved characters do special things in strings. If you want to include them, you must escape them with a backslash `\\`."
      ]
    },
    {
      "cell_type": "code",
      "metadata": {
        "id": "j5u6YnKy4SRw"
      },
      "source": [
        "double_quote = \"hi\\\"bye\"\n",
        "backslash_ex = \"a\\\\tb\"\n",
        "backslash_ex2 = \"a\\tb\""
      ],
      "execution_count": null,
      "outputs": []
    },
    {
      "cell_type": "markdown",
      "source": [
        "Running `print(double_quote)` shows the unformatted string--we'll want to use the `cat` function instead. 'cat' means \"concatenate and print.\""
      ],
      "metadata": {
        "id": "uiFmRp3LTV-0"
      }
    },
    {
      "cell_type": "code",
      "metadata": {
        "id": "JMn0sGJW4SRw"
      },
      "source": [
        "cat(double_quote)"
      ],
      "execution_count": null,
      "outputs": []
    },
    {
      "cell_type": "code",
      "metadata": {
        "id": "oF4UDlE_4SRx"
      },
      "source": [
        "cat(backslash_ex)"
      ],
      "execution_count": null,
      "outputs": []
    },
    {
      "cell_type": "code",
      "metadata": {
        "id": "51auAJ3F4SRy"
      },
      "source": [
        "cat(backslash_ex2)"
      ],
      "execution_count": null,
      "outputs": []
    },
    {
      "cell_type": "markdown",
      "metadata": {
        "id": "imFnu94B4SRz"
      },
      "source": [
        "You’ll also sometimes see strings like `\"\\u00b5\"`($\\mu$), this is called Unicode-escaping, and is a way of writing non-ASCII characters that works on all platforms."
      ]
    },
    {
      "cell_type": "code",
      "metadata": {
        "id": "y9t_Kizq4SR0"
      },
      "source": [
        "cat(\"\\u00b5\")"
      ],
      "execution_count": null,
      "outputs": []
    },
    {
      "cell_type": "code",
      "metadata": {
        "id": "vBw5mBlL4SR1"
      },
      "source": [
        "cat(\"\\u00e7 (c-cedilla) is a Latin script letter, used in the Albanian, Azerbaijani, Manx, Tatar, Turkish, Turkmen, Kurdish, Zazaki, and Romance alphabets.\" )\n"
      ],
      "execution_count": null,
      "outputs": []
    },
    {
      "cell_type": "code",
      "metadata": {
        "id": "SaBSJY844SR2"
      },
      "source": [
        "cat(\"You can even use emojis like: \\U0001f637\")"
      ],
      "execution_count": null,
      "outputs": []
    },
    {
      "cell_type": "markdown",
      "metadata": {
        "id": "W9bFN3Hw4SR3"
      },
      "source": [
        "### String Functions"
      ]
    },
    {
      "cell_type": "code",
      "metadata": {
        "id": "5LLiEA7f4SR4"
      },
      "source": [
        "ne_states <- c(\"Connecticut\", \"Maine\", \"Massachusetts\", \"Vermont\", \"New Hampshire\", \"Rhode Island\")"
      ],
      "execution_count": null,
      "outputs": []
    },
    {
      "cell_type": "code",
      "metadata": {
        "id": "wtn99UPF4SR4"
      },
      "source": [
        "# measure the lengths of strings within a chr vector\n",
        "str_length(ne_states)"
      ],
      "execution_count": null,
      "outputs": []
    },
    {
      "cell_type": "code",
      "source": [
        "# string analog of `c`\n",
        "str_c(\"lions\", \"tigers\", \"bears\", \"oh my!\")"
      ],
      "metadata": {
        "id": "hlhH5HYeUILS"
      },
      "execution_count": null,
      "outputs": []
    },
    {
      "cell_type": "code",
      "metadata": {
        "id": "OAvpmRen4SR5"
      },
      "source": [
        "cat(str_c('Istanbul', 'Turkey\\n', sep=', '))\n",
        "cat(str_c('Ann Arbor', 'MI', \"USA\", sep=', '))"
      ],
      "execution_count": null,
      "outputs": []
    },
    {
      "cell_type": "code",
      "source": [
        "# what happens when we combine str_c with c?\n",
        "vec <- c(\"a\", \"b\", \"c\")\n",
        "str_c(\"d\", vec)"
      ],
      "metadata": {
        "id": "FArt0ZZeUzi0"
      },
      "execution_count": null,
      "outputs": []
    },
    {
      "cell_type": "code",
      "metadata": {
        "id": "20FNGJrH4SR6"
      },
      "source": [
        "x = c('abc', '123', NA)\n",
        "str_c('|-', x, '-|')"
      ],
      "execution_count": null,
      "outputs": []
    },
    {
      "cell_type": "code",
      "metadata": {
        "id": "4EwgrUJw4SR7"
      },
      "source": [
        "str_c('|-', str_replace_na(x, \"UNK\"), '-|') # finds NA and replaces with 'UNK'"
      ],
      "execution_count": null,
      "outputs": []
    },
    {
      "cell_type": "markdown",
      "metadata": {
        "id": "7zUgvijL4SR8"
      },
      "source": [
        "To collapse a vector of strings, use the `collapse` argument to `str_c`:"
      ]
    },
    {
      "cell_type": "code",
      "metadata": {
        "scrolled": true,
        "id": "3PoBoyck4SR8"
      },
      "source": [
        "str_c(ne_states, collapse=\", \")"
      ],
      "execution_count": null,
      "outputs": []
    },
    {
      "cell_type": "markdown",
      "metadata": {
        "id": "ONTicl8L4SR9"
      },
      "source": [
        "### Subsetting Strings"
      ]
    },
    {
      "cell_type": "code",
      "metadata": {
        "id": "JAXZif4W4SR9"
      },
      "source": [
        "ne_states = c(\"Connecticut\", \"Maine\", \"Massachusetts\", \"Vermont\", \"New Hampshire\", \"Rhode Island\")\n",
        "ne_states"
      ],
      "execution_count": null,
      "outputs": []
    },
    {
      "cell_type": "code",
      "metadata": {
        "id": "tB5GEjMA4SR-"
      },
      "source": [
        "# selects first 3 characters in each\n",
        "str_sub(ne_states, 1, 3)"
      ],
      "execution_count": null,
      "outputs": []
    },
    {
      "cell_type": "code",
      "metadata": {
        "id": "8o_vUURs4SR-"
      },
      "source": [
        "# selects last 3 characters\n",
        "str_sub(ne_states, -3, -1)"
      ],
      "execution_count": null,
      "outputs": []
    },
    {
      "cell_type": "code",
      "metadata": {
        "id": "mGE_dURK4SR_"
      },
      "source": [
        "str_sub(ne_states, 1, 7)  # Maine is 5 letters, but this worked still"
      ],
      "execution_count": null,
      "outputs": []
    },
    {
      "cell_type": "code",
      "metadata": {
        "id": "k2kj_Nnz4SSA"
      },
      "source": [
        "# select and mutate substrings\n",
        "str_sub(ne_states, 1, 1) <- str_to_lower(str_sub(ne_states, 1, 1))\n",
        "# this alters the original string!\n",
        "ne_states"
      ],
      "execution_count": null,
      "outputs": []
    },
    {
      "cell_type": "code",
      "metadata": {
        "id": "RI8ZJlz74SSD"
      },
      "source": [
        "str_sub(ne_states, -3, -1) <- str_to_upper(str_sub(ne_states, -3, -1))\n",
        "ne_states"
      ],
      "execution_count": null,
      "outputs": []
    },
    {
      "cell_type": "markdown",
      "source": [
        "### String Replacement\n",
        "We have seen this in previous labs, but a quick review..."
      ],
      "metadata": {
        "id": "dFL1JzPpV43B"
      }
    },
    {
      "cell_type": "code",
      "source": [
        "str_replace(\"dragonfly\", \"fly\", \"\")"
      ],
      "metadata": {
        "id": "0ZIWrTTvWHGx"
      },
      "execution_count": null,
      "outputs": []
    },
    {
      "cell_type": "code",
      "source": [
        "str_replace_all(\"banana\", \"a\", \"o\")"
      ],
      "metadata": {
        "id": "SXWOH8D1V_pV"
      },
      "execution_count": null,
      "outputs": []
    },
    {
      "cell_type": "markdown",
      "metadata": {
        "id": "3W_mPppR4SSE"
      },
      "source": [
        "# 3. RegEx in R\n",
        "\n",
        "In `R`, we will use  `str_detect` and `str_extract` (or `str_extract_all`) to play wtih regular expressions."
      ]
    },
    {
      "cell_type": "code",
      "metadata": {
        "id": "-OQS-xjM4SSF"
      },
      "source": [
        "x = c(\"apple\", \"banana\", \"pear\", \"orange\")"
      ],
      "execution_count": null,
      "outputs": []
    },
    {
      "cell_type": "code",
      "metadata": {
        "id": "eaV60Syb4SSG"
      },
      "source": [
        "str_detect(x, \"an\")"
      ],
      "execution_count": null,
      "outputs": []
    },
    {
      "cell_type": "code",
      "metadata": {
        "scrolled": true,
        "id": "nNPWfO0n4SSH"
      },
      "source": [
        "str_extract(x, \"an\")"
      ],
      "execution_count": null,
      "outputs": []
    },
    {
      "cell_type": "code",
      "metadata": {
        "id": "A-dD10m04SSI"
      },
      "source": [
        "baseball = \"According to Baseball Reference’s wins above average, The Red Sox had the best \n",
        "outfield in baseball— one-tenth of a win ahead of the Milwaukee Brewers, 11.5 to 11.4. And \n",
        "that’s despite, I’d argue, the two best position players in the NL this year (Christian \n",
        "Yelich and Lorenzo Cain) being Brewers outfielders. More importantly, the distance from \n",
        "Boston and Milwaukee to the third-place Yankees is about five wins. Two-thirds of the Los \n",
        "Angeles Angels’ outfield is Mike Trout (the best player in baseball) and Justin Upton (a \n",
        "four-time All-Star who hit 30 home runs and posted a 122 OPS+ and .348 wOba this year), \n",
        "and in order to get to 11.5 WAA, the Angels’ outfield would have had to replace right \n",
        "fielder Kole Calhoun with one of the three best outfielders in baseball this year by WAA.\""
      ],
      "execution_count": null,
      "outputs": []
    },
    {
      "cell_type": "markdown",
      "metadata": {
        "id": "k5c6hBZl4SSJ"
      },
      "source": [
        "#### 1 Write a regex that captures all capitalized words."
      ]
    },
    {
      "cell_type": "code",
      "metadata": {
        "id": "Bu-0c1g84SSJ"
      },
      "source": [
        "str_extract_all(baseball, \"\\\\b[A-Z][a-z]+\") #1 Write a regex that captures all capitalized words.\n",
        "# think for a second: why do we need two backslashes to begin with?"
      ],
      "execution_count": null,
      "outputs": []
    },
    {
      "cell_type": "markdown",
      "source": [
        "Breaking down the above Regex:\n",
        "- `\\b` looks for a word boundary (not just the beginning of the text snippet!)\n",
        "- `[A-Z]` matches a single capitalized letter\n",
        "- `[a-z]` matches a single lowercase letter\n",
        "- `+` means we match arbitrarily many lowercase letters"
      ],
      "metadata": {
        "id": "GNCC5DCsW0o-"
      }
    },
    {
      "cell_type": "markdown",
      "metadata": {
        "id": "ZlyAaUzM4SSK"
      },
      "source": [
        "#### 2 Write a regex that captures all the numbers"
      ]
    },
    {
      "cell_type": "code",
      "metadata": {
        "scrolled": true,
        "id": "bKB0tZ0R4SSL"
      },
      "source": [
        "str_extract_all(baseball, \"\\\\.?\\\\d+\\\\.?\\\\d*\") \n",
        "# exercise: break down what the component parts of this Regex are doing"
      ],
      "execution_count": null,
      "outputs": []
    },
    {
      "cell_type": "markdown",
      "metadata": {
        "id": "DxtokEpo4SSN"
      },
      "source": [
        "#### 3 Write a regex that captures all hyphenated words"
      ]
    },
    {
      "cell_type": "code",
      "metadata": {
        "id": "9brh6ftb4SSN"
      },
      "source": [
        "str_extract_all(baseball, \"\\\\w+-\\\\w+\") # \\w stands for an arbitrary letter"
      ],
      "execution_count": null,
      "outputs": []
    },
    {
      "cell_type": "markdown",
      "metadata": {
        "id": "s22tnpPy4SSO"
      },
      "source": [
        "#### 4 Write a regex that captures all words with two consecutive wovels"
      ]
    },
    {
      "cell_type": "code",
      "metadata": {
        "scrolled": true,
        "id": "pSjiyrd54SSO"
      },
      "source": [
        "str_extract_all(baseball, \"\\\\w*[aeiou]{2}\\\\w*\")"
      ],
      "execution_count": null,
      "outputs": []
    },
    {
      "cell_type": "markdown",
      "metadata": {
        "id": "6QnMX7K14SSO"
      },
      "source": [
        "#### 5 Write a regex that captures all words with a repeated letter"
      ]
    },
    {
      "cell_type": "code",
      "metadata": {
        "id": "ryZCLDaa4SSP"
      },
      "source": [
        "str_extract_all(baseball, \"\\\\w*([a-zA-Z])\\\\1\\\\w*\")\n",
        "# equivalently: str_extract_all(baseball, \"\\\\w*([\\\\w])\\\\1\\\\w*\")\n",
        "# the \\1 is a backreference that matches the (first and only) () group"
      ],
      "execution_count": null,
      "outputs": []
    },
    {
      "cell_type": "markdown",
      "metadata": {
        "id": "wyuD1sJ54SSP"
      },
      "source": [
        "#### 6 Write a regex that matches \"this\" and \"the\" but not \"third\""
      ]
    },
    {
      "cell_type": "code",
      "metadata": {
        "id": "s4nKzAMz4SSQ"
      },
      "source": [
        "str_extract_all(baseball, \"th(e|is)\")\n",
        "str_extract_all(baseball, \"(t|T)h(e|is)\") # including capitalized T"
      ],
      "execution_count": null,
      "outputs": []
    },
    {
      "cell_type": "markdown",
      "metadata": {
        "id": "sdvZlQlI4SSQ"
      },
      "source": [
        "Note that any time you want to use a backslash `\\` in a regex pattern in `R`, you'll need to use a double backslash `\\\\` instead. This is because `R` has its own layer of string processing that also uses backslashes to escape reserved characters. So you need to tell `R` to use a literal backslash so that it passes a backslash to the regex function."
      ]
    },
    {
      "cell_type": "code",
      "metadata": {
        "id": "buMz5tCy4SSQ"
      },
      "source": [
        "naive = \"a.c\"\n",
        "dot = \"a\\\\.c\"\n",
        "\n",
        "cat(naive)\n",
        "str_detect(c(\"abc\", \"a.c\", \"bef\"), naive) # matches anything a-blank-c because . is a wildcard\n",
        "\n",
        "cat(dot)\n",
        "str_detect(c(\"abc\", \"a.c\", \"bef\"), dot)"
      ],
      "execution_count": null,
      "outputs": []
    },
    {
      "cell_type": "markdown",
      "metadata": {
        "id": "wK-8CjW74SSR"
      },
      "source": [
        "Question: How many backslashes do you need to create a regex pattern that matches a literal backslash when using `R`?"
      ]
    },
    {
      "cell_type": "code",
      "metadata": {
        "id": "3NBmDIvm4SSR"
      },
      "source": [
        "x = \"a\\\\b\"\n",
        "cat(x)"
      ],
      "execution_count": null,
      "outputs": []
    },
    {
      "cell_type": "code",
      "metadata": {
        "scrolled": true,
        "id": "XEMXZthh4SSS"
      },
      "source": [
        "str_extract(x, \"\\\\\\\\\")\n",
        "# remember, the parser interprets each \"\\\\\" as '\\'.\n",
        "# hence the raw string \"\\\\\\\\\" becomes the regex \"\\\\\" which matches \"\\\" twice."
      ],
      "execution_count": null,
      "outputs": []
    },
    {
      "cell_type": "markdown",
      "metadata": {
        "id": "Ny2hH9rs4SST"
      },
      "source": [
        "## Exercises\n",
        "\n",
        "Use `stringr::words` to do the exercises"
      ]
    },
    {
      "cell_type": "code",
      "metadata": {
        "id": "qxbcxa3KccK4"
      },
      "source": [
        "words"
      ],
      "execution_count": null,
      "outputs": []
    },
    {
      "cell_type": "markdown",
      "metadata": {
        "id": "8UT4DoB74SSU"
      },
      "source": [
        "### 1. Which words start with `y`? (Freebie)"
      ]
    },
    {
      "cell_type": "code",
      "metadata": {
        "id": "Xqe2Asr94SSU"
      },
      "source": [
        "str_extract(words, \"^y\\\\w*\")"
      ],
      "execution_count": null,
      "outputs": []
    },
    {
      "cell_type": "code",
      "metadata": {
        "id": "ma6muR8LdN0N"
      },
      "source": [
        "na.omit(str_extract(words, \"^y\\\\w*\"))"
      ],
      "execution_count": null,
      "outputs": []
    },
    {
      "cell_type": "markdown",
      "metadata": {
        "id": "tlv65nQI4SSX"
      },
      "source": [
        "### 2. Which words end with `x`?"
      ]
    },
    {
      "cell_type": "code",
      "metadata": {
        "id": "_TImnVnm4SSX"
      },
      "source": [
        ""
      ],
      "execution_count": null,
      "outputs": []
    },
    {
      "cell_type": "markdown",
      "metadata": {
        "id": "BfVvtNRw4SSY"
      },
      "source": [
        "### 3. ...are exactly two letters long (don’t use `str_length` here)?"
      ]
    },
    {
      "cell_type": "code",
      "source": [
        ""
      ],
      "metadata": {
        "id": "XsbSp1cnb57-"
      },
      "execution_count": null,
      "outputs": []
    },
    {
      "cell_type": "markdown",
      "metadata": {
        "id": "p2o5FtOe4SSZ"
      },
      "source": [
        "### 4. ...have ten or more letters?"
      ]
    },
    {
      "cell_type": "code",
      "metadata": {
        "id": "yjYzNTa_4SSa"
      },
      "source": [
        ""
      ],
      "execution_count": null,
      "outputs": []
    },
    {
      "cell_type": "markdown",
      "metadata": {
        "id": "O_JReR6d4SSa"
      },
      "source": [
        "### 5. ...end with `ed`, but not with `eed`?"
      ]
    },
    {
      "cell_type": "code",
      "metadata": {
        "scrolled": true,
        "id": "pMpFb3Dc4SSa"
      },
      "source": [
        ""
      ],
      "execution_count": null,
      "outputs": []
    },
    {
      "cell_type": "markdown",
      "metadata": {
        "id": "WCiSk4VB4SSb"
      },
      "source": [
        "### 6. ...end with `ing` or `ise`?"
      ]
    },
    {
      "cell_type": "code",
      "metadata": {
        "scrolled": true,
        "id": "0XCeACCF4SSb"
      },
      "source": [
        ""
      ],
      "execution_count": null,
      "outputs": []
    },
    {
      "cell_type": "markdown",
      "metadata": {
        "id": "Ob3RJa-m4SSb"
      },
      "source": [
        "### 7. ...end with the same two-letter sequence they start with (e.g. `church`)?"
      ]
    },
    {
      "cell_type": "code",
      "metadata": {
        "id": "d5E4q7Dk4SSb"
      },
      "source": [
        ""
      ],
      "execution_count": null,
      "outputs": []
    },
    {
      "cell_type": "markdown",
      "metadata": {
        "id": "gG6kpk9x4SSd"
      },
      "source": [
        "### 8 Try to match the valid `dates` below (first row) without matching the invalid dates (the latter six rows).\n",
        "Hint: Start by writing a pattern that matches all the entries. Then try to refine your pattern to omit the invalid dates."
      ]
    },
    {
      "cell_type": "code",
      "metadata": {
        "id": "Pn43ZDBa4SSe"
      },
      "source": [
        "dates = c('2012-05-13', '2014-12-31', '1991-06-14', '1991/06/14',\n",
        "          '200a-05-13',  # invalid year\n",
        "          '2014-15-20',  # invalid month\n",
        "          '2014-00-20',  # invalid month\n",
        "          '2016-04-35',  # invalid day\n",
        "          '2014-12-00',  # invalid day\n",
        "          '2013/03-25')  # non-matching separators"
      ],
      "execution_count": null,
      "outputs": []
    },
    {
      "cell_type": "code",
      "metadata": {
        "id": "xGh5LZQV4SSe"
      },
      "source": [
        ""
      ],
      "execution_count": null,
      "outputs": []
    }
  ]
}