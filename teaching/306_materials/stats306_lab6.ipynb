{
  "nbformat": 4,
  "nbformat_minor": 0,
  "metadata": {
    "kernelspec": {
      "display_name": "R",
      "language": "R",
      "name": "ir"
    },
    "language_info": {
      "codemirror_mode": "r",
      "file_extension": ".r",
      "mimetype": "text/x-r-source",
      "name": "R",
      "pygments_lexer": "r",
      "version": "3.6.1"
    },
    "colab": {
      "name": "stats306_lab6.ipynb",
      "provenance": [],
      "collapsed_sections": [],
      "include_colab_link": true
    }
  },
  "cells": [
    {
      "cell_type": "markdown",
      "metadata": {
        "id": "view-in-github",
        "colab_type": "text"
      },
      "source": [
        "<a href=\"https://colab.research.google.com/github/chathasphere/chathasphere.github.io/blob/main/teaching/306_materials/stats306_lab6.ipynb\" target=\"_parent\"><img src=\"https://colab.research.google.com/assets/colab-badge.svg\" alt=\"Open In Colab\"/></a>"
      ]
    },
    {
      "cell_type": "markdown",
      "metadata": {
        "id": "E7GWPq7f7XUj"
      },
      "source": [
        "# Lab 6: Pivoting for Longer and Wider Tables\n",
        "## March 8th, 2022\n",
        "\n",
        "Welcome back!\n"
      ]
    },
    {
      "cell_type": "code",
      "metadata": {
        "id": "Izi2MXVr7XUy"
      },
      "source": [
        "library(tidyverse)\n",
        "install.packages(\"dslabs\")\n",
        "library(dslabs)"
      ],
      "execution_count": null,
      "outputs": []
    },
    {
      "cell_type": "markdown",
      "source": [
        "# 1. Preliminaries"
      ],
      "metadata": {
        "id": "29UKg56HPBj8"
      }
    },
    {
      "cell_type": "code",
      "source": [
        "# create a tibble from a dataframe\n",
        "irisTibble <- as_tibble(iris)"
      ],
      "metadata": {
        "id": "EB0XeAn2PNBX"
      },
      "execution_count": null,
      "outputs": []
    },
    {
      "cell_type": "code",
      "source": [
        "# initialize tibble from vectors\n",
        "\n",
        "tib1 <- tibble(\n",
        "  rank = 1:6,\n",
        "  names = c(\"mercury\", \"venus\", \"terra\", \"mars\", \"jupiter\", \"saturn\"),\n",
        "  inhabited = c(FALSE, FALSE, TRUE, FALSE, FALSE, FALSE)\n",
        ")\n",
        "tib1"
      ],
      "metadata": {
        "id": "906D7QvoPal4"
      },
      "execution_count": null,
      "outputs": []
    },
    {
      "cell_type": "code",
      "source": [
        "# tibble from data entry\n",
        "tib2 <- tribble(\n",
        "  ~index, ~language, ~phrase,\n",
        "  1, \"swedish\", \"hej, världen!\",\n",
        "  2, \"czech\", \"ahoj, světe!\",\n",
        "  3, \"irish\", \"dia duit, domhan!\",\n",
        "  4, \"portuguese\", \"olá, mundo!\" \n",
        ")\n",
        "tib2"
      ],
      "metadata": {
        "id": "DBim1WXkQpYs"
      },
      "execution_count": null,
      "outputs": []
    },
    {
      "cell_type": "code",
      "source": [
        "# non-syntactic names\n",
        "annoying <- tibble(\n",
        "  `1` = 1:10,\n",
        "  `2` = `1` * 2 + rnorm(length(`1`))\n",
        ")\n",
        "annoying"
      ],
      "metadata": {
        "id": "3IwHZC4dSke3"
      },
      "execution_count": null,
      "outputs": []
    },
    {
      "cell_type": "code",
      "source": [
        "annoying[[2]]; annoying %>% select(`2`)"
      ],
      "metadata": {
        "id": "kREl5mj2Su8-"
      },
      "execution_count": null,
      "outputs": []
    },
    {
      "cell_type": "markdown",
      "source": [
        "## Tidy Data\n",
        "\n",
        "\"Tidy datasets are all alike, but every messy dataset is messy in its own way.\" (Hadley Wickham)\n",
        "\n",
        "Rules of tidy data:\n",
        "\n",
        "1. Each variable must have its own column\n",
        "2. Each observation must have its own row\n",
        "3. Each value must have its own cell\n",
        "\n",
        "Real world data is usually messy. People who enter/curate data often don't have the data analyst in mind.\n",
        "\n",
        "Pivoting helps with the following problems:\n",
        "- One variable spread across multiple columns\n",
        "- One observation scattered across multiple rows"
      ],
      "metadata": {
        "id": "Mm3XFBR4TOFe"
      }
    },
    {
      "cell_type": "markdown",
      "metadata": {
        "id": "kBclFdUV7XU7"
      },
      "source": [
        "# 2. Longer Tables\n",
        "\n",
        "`pivot_longer` takes 4 main arguments:\n",
        "* `data`: data frame to pivot\n",
        "* `cols`: columns to lengthen (ignores the others)\n",
        "* `names_to`: name of the new variable to which old column names (`cols`) get moved\n",
        "* `values_to`: name of the variable to which pivoted column values get moved"
      ]
    },
    {
      "cell_type": "code",
      "metadata": {
        "scrolled": true,
        "id": "Gyuqi5kC7XU8"
      },
      "source": [
        "# example: column names here are really values of a variable, \"year\"\n",
        "grades_wide = tribble(\n",
        "  ~name, ~Sex, ~`2015`, ~`2016`, ~`2017`,\n",
        "     'Wu',  'M', 83,      89,      93,\n",
        "  'Alice',  'F', 92,      90,      93,\n",
        " 'Jordan',   NA, 80,      87,      99,\n",
        " 'Gilberto','M', 67,      90,      92)\n",
        "grades_wide"
      ],
      "execution_count": null,
      "outputs": []
    },
    {
      "cell_type": "code",
      "metadata": {
        "id": "pghzvk5b7XU9"
      },
      "source": [
        "grades_long = grades_wide %>% \n",
        "  pivot_longer(\n",
        "    -c(name, Sex),\n",
        "    names_to = \"year\",\n",
        "    values_to = \"grades\")\n",
        "grades_long"
      ],
      "execution_count": null,
      "outputs": []
    },
    {
      "cell_type": "markdown",
      "source": [
        "# 3. Wider Tables\n",
        "\n",
        "`pivot_wider` is the opposite of `pivot_longer` and takes three main parameters:\n",
        "\n",
        "* `data`: data frame to pivot\n",
        "* `names_from`: column from which new column names are extracted \n",
        "* `values_from`: column from which new values are extracted"
      ],
      "metadata": {
        "id": "JJri6c5tWMeZ"
      }
    },
    {
      "cell_type": "code",
      "source": [
        "# example: the \"type\" column contains multiple variable names,\n",
        "long_countries <- tribble(\n",
        "  ~country,      ~year, ~type,           ~count,\n",
        "  #---------------------------------------------\n",
        "  \"Afghanistan\",  1999, \"cases\",            745,\n",
        "  \"Afghanistan\",  1999, \"population\",  19987071,\n",
        "  \"Afghanistan\",  2000, \"cases\",           2666,\n",
        "  \"Afghanistan\",  2000, \"population\",  20595360,\n",
        "  \"Brazil\",       1999, \"cases\",          37737,\n",
        "  \"Brazil\",       1999, \"population\", 172006362\n",
        ")\n",
        "\n",
        "wide_countries <- long_countries %>% pivot_wider(\n",
        "  names_from = type,\n",
        "  values_from = count)\n",
        "wide_countries"
      ],
      "metadata": {
        "id": "uBbiutjnWN-7"
      },
      "execution_count": null,
      "outputs": []
    },
    {
      "cell_type": "code",
      "source": [
        "# note: pivot longer and pivot wider aren't *exactly* symmetrical\n",
        "\n",
        "stocks <- tibble(\n",
        "  year   = c(2015, 2015, 2016, 2016),\n",
        "  half  = c(   1,    2,     1,    2),\n",
        "  return = c(1.88, 0.59, 0.92, 0.17)\n",
        ")\n",
        "stocks %>% \n",
        "  pivot_wider(names_from = year, values_from = return) %>% \n",
        "  pivot_longer(`2015`:`2016`, names_to = \"year\", values_to = \"return\")"
      ],
      "metadata": {
        "id": "3PHiAaLwXRdA"
      },
      "execution_count": null,
      "outputs": []
    },
    {
      "cell_type": "markdown",
      "metadata": {
        "id": "o_Ccor457XVC"
      },
      "source": [
        "# 4. Exercises on MLB dataset"
      ]
    },
    {
      "cell_type": "code",
      "metadata": {
        "id": "FZ8YnXqX7XVE"
      },
      "source": [
        "mlb = read_csv('https://raw.githubusercontent.com/enesdilber/stats306_labs/master/lab5/mlb.csv')\n",
        "mlb %>% head"
      ],
      "execution_count": null,
      "outputs": []
    },
    {
      "cell_type": "markdown",
      "metadata": {
        "id": "GrJ8bMMv7XVF"
      },
      "source": [
        "#### Exercise 1:\n",
        " Calculate the `Home Run to Fly Ball rate (HR/FB)` in total for each team and year. That is $HR\\_FB = \\frac{\\sum HR_i}{\\sum FB_i}$. Make sure you have the division at the final dataset. So  you'll have `division`, `team`, `year` and `HR_FB`."
      ]
    },
    {
      "cell_type": "code",
      "metadata": {
        "id": "OXY2M7lH7XVF"
      },
      "source": [
        ""
      ],
      "execution_count": null,
      "outputs": []
    },
    {
      "cell_type": "markdown",
      "metadata": {
        "id": "sRJ51Zoq7XVG"
      },
      "source": [
        " #### Exercise 2: \n",
        " Convert this to a wide dataset, so your variables should be `division`, `team`, and `2015-2018`, where values are the `HR/FB` rate. Note that, again, you should ensure that `division` is still in the dataset."
      ]
    },
    {
      "cell_type": "code",
      "metadata": {
        "id": "iJnrqb9E7XVH"
      },
      "source": [
        ""
      ],
      "execution_count": null,
      "outputs": []
    },
    {
      "cell_type": "markdown",
      "metadata": {
        "id": "N1tcTLV67XVI"
      },
      "source": [
        " #### Exercise 3:\n",
        " Create a variable called `increased`, which checks if the `HR/FB` rate was higher in 2018 than it was in 2015 for that team."
      ]
    },
    {
      "cell_type": "code",
      "metadata": {
        "id": "MSNDkwDU7XVJ"
      },
      "source": [
        ""
      ],
      "execution_count": null,
      "outputs": []
    },
    {
      "cell_type": "markdown",
      "metadata": {
        "id": "-jK74LnC7XVK"
      },
      "source": [
        "#### Exercise 4:\n",
        "Calculate the correlation between each year with the following year. That is $\\rho_{2015, 2016}, \\rho_{2016, 2017}, \\rho_{2017, 2018}$.\n",
        "\n",
        "(Hint: use the `cor` function along with `summarise`.)"
      ]
    },
    {
      "cell_type": "code",
      "metadata": {
        "id": "R6KChetC7XVK"
      },
      "source": [
        ""
      ],
      "execution_count": null,
      "outputs": []
    },
    {
      "cell_type": "markdown",
      "metadata": {
        "id": "Kj364SrH7XVL"
      },
      "source": [
        "#### Exercise 5:\n",
        "Turn `df_wide` back into a \"long\" dataset called `df_long`."
      ]
    },
    {
      "cell_type": "code",
      "metadata": {
        "id": "PjH9fjcD7XVL"
      },
      "source": [
        ""
      ],
      "execution_count": null,
      "outputs": []
    },
    {
      "cell_type": "markdown",
      "metadata": {
        "id": "fBMTe51l7XVM"
      },
      "source": [
        "#### Exercise 6:\n",
        "Using df_long, create a faceted line plot of `HR/FB` rate on `year`. Color it by `team`, facet it by `division`, and choose the linetype according to the `increased` variable."
      ]
    },
    {
      "cell_type": "code",
      "metadata": {
        "id": "sSq60zyT7XVN"
      },
      "source": [
        ""
      ],
      "execution_count": null,
      "outputs": []
    }
  ]
}