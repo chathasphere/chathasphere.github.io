{
  "nbformat": 4,
  "nbformat_minor": 0,
  "metadata": {
    "kernelspec": {
      "display_name": "R",
      "language": "R",
      "name": "ir"
    },
    "language_info": {
      "codemirror_mode": "r",
      "file_extension": ".r",
      "mimetype": "text/x-r-source",
      "name": "R",
      "pygments_lexer": "r",
      "version": "3.6.1"
    },
    "colab": {
      "name": "003_lab6.ipynb",
      "provenance": [],
      "collapsed_sections": [],
      "include_colab_link": true
    }
  },
  "cells": [
    {
      "cell_type": "markdown",
      "metadata": {
        "id": "view-in-github",
        "colab_type": "text"
      },
      "source": [
        "<a href=\"https://colab.research.google.com/github/chathasphere/chathasphere.github.io/blob/main/teaching/306_materials/003_lab6.ipynb\" target=\"_parent\"><img src=\"https://colab.research.google.com/assets/colab-badge.svg\" alt=\"Open In Colab\"/></a>"
      ]
    },
    {
      "cell_type": "markdown",
      "metadata": {
        "id": "-OFp-J4uI_2o"
      },
      "source": [
        "# Lab 6: Midterm Review\n",
        "\n",
        "## February 15th, 2022\n",
        "\n",
        "- Midterm should be released the 18th, due the 25th\n",
        "\n",
        "- Rules for the midterm can be found here:  https://github.com/ambujtewari/stats306-winter2022/blob/main/midterm/README.md\n",
        "\n",
        "- No labs/lectures next week!\n",
        "\n",
        "- I can only answer clarifying questions during the exam. No hints/debugging\n"
      ]
    },
    {
      "cell_type": "code",
      "metadata": {
        "scrolled": true,
        "id": "xTo6sij2I_2v"
      },
      "source": [
        "install.packages('dslabs') # install this package\n",
        "library(dslabs)\n",
        "library(tidyverse)"
      ],
      "execution_count": null,
      "outputs": []
    },
    {
      "cell_type": "code",
      "metadata": {
        "scrolled": true,
        "id": "gASqOzYPI_2w"
      },
      "source": [
        "gapminder %>% glimpse # similar to head() or summary()"
      ],
      "execution_count": null,
      "outputs": []
    },
    {
      "cell_type": "markdown",
      "metadata": {
        "id": "NWYWBEt2I_2x"
      },
      "source": [
        "### 1. Filter out all countries with `NA` for gdp and assign filtered dataset to a variable called `df`."
      ]
    },
    {
      "cell_type": "code",
      "metadata": {
        "id": "xPJe8A4EI_2y"
      },
      "source": [
        ""
      ],
      "execution_count": null,
      "outputs": []
    },
    {
      "cell_type": "markdown",
      "metadata": {
        "scrolled": true,
        "id": "Bzw36rUtI_20"
      },
      "source": [
        "### 2. `gdp` is in dollars. Convert it to billion dollars and save it to same dataset, df. "
      ]
    },
    {
      "cell_type": "code",
      "metadata": {
        "id": "KGBgV-tZI_21"
      },
      "source": [
        ""
      ],
      "execution_count": null,
      "outputs": []
    },
    {
      "cell_type": "markdown",
      "metadata": {
        "id": "Xr3RxZ0KI_22"
      },
      "source": [
        "### 3. Get records from the year 2011 and save it to `df2011`."
      ]
    },
    {
      "cell_type": "code",
      "source": [
        ""
      ],
      "metadata": {
        "id": "gDa-PbwPULpY"
      },
      "execution_count": null,
      "outputs": []
    },
    {
      "cell_type": "markdown",
      "metadata": {
        "scrolled": false,
        "id": "WdK17QkLI_23"
      },
      "source": [
        "### 4a. Which countries have data in both 1960 and 2011?"
      ]
    },
    {
      "cell_type": "code",
      "source": [
        ""
      ],
      "metadata": {
        "id": "goj4y2MTW2cl"
      },
      "execution_count": null,
      "outputs": []
    },
    {
      "cell_type": "markdown",
      "source": [
        " ### 4b. What is the fraction oft these out of the number of distinct countries overall?"
      ],
      "metadata": {
        "id": "xWdRPE6FW3q2"
      }
    },
    {
      "cell_type": "code",
      "metadata": {
        "id": "kXQiotf1I_24"
      },
      "source": [
        ""
      ],
      "execution_count": null,
      "outputs": []
    },
    {
      "cell_type": "markdown",
      "metadata": {
        "id": "YMru_1viI_24"
      },
      "source": [
        "### 5a. Using `df2011`, create a `gdp` box plot for each region. Make sure the region names are legible and also use `log10 scale`!"
      ]
    },
    {
      "cell_type": "code",
      "metadata": {
        "id": "j_cEePqZI_25"
      },
      "source": [
        ""
      ],
      "execution_count": null,
      "outputs": []
    },
    {
      "cell_type": "markdown",
      "source": [
        "### 5b. Using `df2011`, create a `freqpoly` plot of life expectancy by continent."
      ],
      "metadata": {
        "id": "4cgJ2fiYXauX"
      }
    },
    {
      "cell_type": "code",
      "source": [
        ""
      ],
      "metadata": {
        "id": "mX8vVklgYUw4"
      },
      "execution_count": null,
      "outputs": []
    },
    {
      "cell_type": "markdown",
      "metadata": {
        "id": "sTQ1L8s9I_25"
      },
      "source": [
        "### 6a. Using `df2011`, find the maximum and minimum `gdp` in each region."
      ]
    },
    {
      "cell_type": "code",
      "metadata": {
        "id": "Wn0EV03uI_26"
      },
      "source": [
        ""
      ],
      "execution_count": null,
      "outputs": []
    },
    {
      "cell_type": "markdown",
      "source": [
        "### 6b. Find the name of the countries with min/max GDP per region."
      ],
      "metadata": {
        "id": "AfmOz9r3Wp58"
      }
    },
    {
      "cell_type": "code",
      "source": [
        ""
      ],
      "metadata": {
        "id": "tnIptHlhWyvj"
      },
      "execution_count": null,
      "outputs": []
    },
    {
      "cell_type": "markdown",
      "metadata": {
        "id": "U7tkk1phI_27"
      },
      "source": [
        "### 7a. Using `df2011`, find the average world gdp. Use 2 types of average: median and mean. "
      ]
    },
    {
      "cell_type": "code",
      "metadata": {
        "id": "lv0pa65LI_28"
      },
      "source": [
        ""
      ],
      "execution_count": null,
      "outputs": []
    },
    {
      "cell_type": "markdown",
      "source": [
        "### 7b. Calculate the percentage of countries which have a gdp more than the world average in each region."
      ],
      "metadata": {
        "id": "wYHDawxHYk2f"
      }
    },
    {
      "cell_type": "code",
      "metadata": {
        "id": "S2UhgoKrI_2-"
      },
      "source": [
        ""
      ],
      "execution_count": null,
      "outputs": []
    },
    {
      "cell_type": "markdown",
      "metadata": {
        "id": "RDgL4qEhI_2_"
      },
      "source": [
        "### 8. Using `df2011`, Find the gdp per capita, which is simply $GDP_{per capita} = \\frac{GDP}{Population}$. Find an appropriate plot to show its relationship with `gdp`, conditioned on `continent`. Remember that gdp in df2011 is in billions, so adjust for that in gdp per capita to convert back to dollars. When graphing, use the log10 scale for gdp like earlier!"
      ]
    },
    {
      "cell_type": "code",
      "metadata": {
        "scrolled": false,
        "id": "wqA7MORNI_3A"
      },
      "source": [
        ""
      ],
      "execution_count": null,
      "outputs": []
    },
    {
      "cell_type": "markdown",
      "metadata": {
        "id": "XQuRLBQZI_3A"
      },
      "source": [
        "### 9. Which country has the largest gdp per capita, among the ones that have $gdp>1000$ billion?"
      ]
    },
    {
      "cell_type": "code",
      "metadata": {
        "id": "NunLnn-jI_3C"
      },
      "source": [
        ""
      ],
      "execution_count": null,
      "outputs": []
    },
    {
      "cell_type": "markdown",
      "metadata": {
        "id": "ldUTYVSkI_3F"
      },
      "source": [
        "### 10. Which country has the life expectancy which is closest to life expectancy in US. Is it a single country? or countries?"
      ]
    },
    {
      "cell_type": "code",
      "metadata": {
        "id": "vI--Ub7yI_3F"
      },
      "source": [
        ""
      ],
      "execution_count": null,
      "outputs": []
    },
    {
      "cell_type": "markdown",
      "source": [
        "### 11. Plot life expectancy versus gdp per capita (on an appropriate scale) with points colored by geographic region."
      ],
      "metadata": {
        "id": "Y9KR6midYz98"
      }
    },
    {
      "cell_type": "code",
      "source": [
        ""
      ],
      "metadata": {
        "id": "9NvVOXTQY-EI"
      },
      "execution_count": null,
      "outputs": []
    },
    {
      "cell_type": "markdown",
      "source": [
        "### 12. Which countries have seen the greatest gains in life expectancy from 1960 to 2011?"
      ],
      "metadata": {
        "id": "qaVnFwFzZAZ-"
      }
    },
    {
      "cell_type": "code",
      "source": [
        ""
      ],
      "metadata": {
        "id": "aekGw3geZOGJ"
      },
      "execution_count": null,
      "outputs": []
    },
    {
      "cell_type": "markdown",
      "source": [
        "### 13. Visually analyze the relationship between fertility and gdp per capita. Do you notice a pattern? Does this pattern change by year?"
      ],
      "metadata": {
        "id": "WVzCODKrZSlf"
      }
    },
    {
      "cell_type": "code",
      "source": [
        ""
      ],
      "metadata": {
        "id": "VM37fP4zZcJn"
      },
      "execution_count": null,
      "outputs": []
    }
  ]
}