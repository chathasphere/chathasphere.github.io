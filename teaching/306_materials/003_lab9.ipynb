{
  "nbformat": 4,
  "nbformat_minor": 0,
  "metadata": {
    "kernelspec": {
      "display_name": "R",
      "language": "R",
      "name": "ir"
    },
    "language_info": {
      "codemirror_mode": "r",
      "file_extension": ".r",
      "mimetype": "text/x-r-source",
      "name": "R",
      "pygments_lexer": "r",
      "version": "3.6.1"
    },
    "colab": {
      "name": "003_lab9.ipynb",
      "provenance": [],
      "collapsed_sections": [
        "ncS6YnVjKzss"
      ],
      "include_colab_link": true
    }
  },
  "cells": [
    {
      "cell_type": "markdown",
      "metadata": {
        "id": "view-in-github",
        "colab_type": "text"
      },
      "source": [
        "<a href=\"https://colab.research.google.com/github/chathasphere/chathasphere.github.io/blob/main/teaching/306_materials/003_lab9.ipynb\" target=\"_parent\"><img src=\"https://colab.research.google.com/assets/colab-badge.svg\" alt=\"Open In Colab\"/></a>"
      ]
    },
    {
      "cell_type": "markdown",
      "metadata": {
        "id": "3HapUIdaKzsm"
      },
      "source": [
        "# Lab 9: \tPracticing Functions"
      ]
    },
    {
      "cell_type": "code",
      "metadata": {
        "scrolled": false,
        "id": "8DBadPqFKzso"
      },
      "source": [
        "library(tidyverse)\n",
        "library(stringr)\n",
        "library(forcats)\n",
        "library(lubridate)"
      ],
      "execution_count": null,
      "outputs": []
    },
    {
      "cell_type": "markdown",
      "source": [
        "# 0. Warmup\n",
        "\n",
        "Can we count all the prime numbers in the first *n* integers?"
      ],
      "metadata": {
        "id": "H0avBYALDEt_"
      }
    },
    {
      "cell_type": "code",
      "metadata": {
        "id": "4vS9UW-kKzsz"
      },
      "source": [
        "# a helper fn\n",
        "is.prime <- function(num) {\n",
        "   if (num == 2) {\n",
        "      TRUE\n",
        "   } else if (any(num %% 2:(num-1) == 0)) {\n",
        "      FALSE\n",
        "   } else { \n",
        "      TRUE\n",
        "   }\n",
        "}"
      ],
      "execution_count": null,
      "outputs": []
    },
    {
      "cell_type": "code",
      "source": [
        "is.prime(6); is.prime(13)"
      ],
      "metadata": {
        "id": "dtuBkfHZD_Py"
      },
      "execution_count": null,
      "outputs": []
    },
    {
      "cell_type": "code",
      "metadata": {
        "id": "9dX7rLI0Nk1O"
      },
      "source": [
        "# reviewing syntax of remainder operator\n",
        "num = 7\n",
        "num %% 2:(num-1)\n",
        "# remainder of 7 and (2, 3, 4, 5, 6)"
      ],
      "execution_count": null,
      "outputs": []
    },
    {
      "cell_type": "code",
      "metadata": {
        "id": "AaAMv5lJKzs0"
      },
      "source": [
        "# main function\n",
        "prime.counter <- function(n){\n",
        "    total = 0 # start the counter\n",
        "    for(num in 2:n){\n",
        "        total = total + is.prime(num)\n",
        "    }\n",
        "    return(total)\n",
        "}"
      ],
      "execution_count": null,
      "outputs": []
    },
    {
      "cell_type": "code",
      "source": [
        "prime.counter(10); prime.counter(20); prime.counter(30)"
      ],
      "metadata": {
        "id": "tgPmS5kGEHot"
      },
      "execution_count": null,
      "outputs": []
    },
    {
      "cell_type": "markdown",
      "metadata": {
        "id": "ArhsgvfwKzsy"
      },
      "source": [
        "## 0.1 Mapping"
      ]
    },
    {
      "cell_type": "code",
      "source": [
        "# base R version of mapping\n",
        "sapply(c(10, 20, 30), prime.counter)"
      ],
      "metadata": {
        "id": "ZyQhBSHdFmeH"
      },
      "execution_count": null,
      "outputs": []
    },
    {
      "cell_type": "markdown",
      "metadata": {
        "id": "3_Edn5A_YTDW"
      },
      "source": [
        "We'll usually use the equivalent from the `purrr` package. These `map` functions transform their input by applying a function to each element and returning a vector of the same length. This is handy for parallelization!"
      ]
    },
    {
      "cell_type": "markdown",
      "source": [
        "Why use `map` instead of `sapply`? https://stackoverflow.com/questions/45101045/why-use-purrrmap-instead-of-lapply"
      ],
      "metadata": {
        "id": "DzVSzfIXGKP-"
      }
    },
    {
      "cell_type": "code",
      "metadata": {
        "id": "GumQkLnHYMYL"
      },
      "source": [
        "# this is how it's done with applyer functions\n",
        "1:10000 %>% map_lgl(is.prime) %>% sum\n",
        "\n",
        "# mapping every number 1 thru 1000 to the is.prime() function"
      ],
      "execution_count": null,
      "outputs": []
    },
    {
      "cell_type": "markdown",
      "source": [
        "What is going on with `map_lgl`? This map function specifically returns a boolean vector. `map` by itself returns a list."
      ],
      "metadata": {
        "id": "jGSpmWvHFAJe"
      }
    },
    {
      "cell_type": "code",
      "source": [
        "map(1:20, is.prime); map_int(1:20, is.prime)"
      ],
      "metadata": {
        "id": "ump09mvxFSgT"
      },
      "execution_count": null,
      "outputs": []
    },
    {
      "cell_type": "code",
      "metadata": {
        "id": "VW5nv3B1Kzs1"
      },
      "source": [
        "# Let's check prime.counter for first 10000 integers\n",
        "prime.counter(10000)"
      ],
      "execution_count": null,
      "outputs": []
    },
    {
      "cell_type": "markdown",
      "metadata": {
        "id": "xLtgnu-ZKzsq"
      },
      "source": [
        "# 1. News Headlines\n",
        "\n",
        "The following code loads a dataset made up of headlines from ABC News:\n",
        "(Australian Broadcasting Corporation, not American Broadcasting Company!)\n"
      ]
    },
    {
      "cell_type": "code",
      "metadata": {
        "id": "ZUxOV9ZTKzsr"
      },
      "source": [
        "headlines = read_csv('https://raw.githubusercontent.com/byoungwookjang/stats306_labs/master/lab13/abcnews_2017.csv', \n",
        "                     col_types=list(col_character(), col_character()))\n",
        "head(headlines)"
      ],
      "execution_count": null,
      "outputs": []
    },
    {
      "cell_type": "markdown",
      "metadata": {
        "id": "ncS6YnVjKzss"
      },
      "source": [
        "### 1.1\n",
        "\n",
        "Add columns to `headlines` in which `publish_date` is converted the appropriate date format and there is an additional `id` variable that gives each headline a unique id number.\n",
        "\n",
        "*Hint: the function `ymd` will come in handy here.*"
      ]
    },
    {
      "cell_type": "code",
      "metadata": {
        "id": "7LZVhgktKzst"
      },
      "source": [
        ""
      ],
      "execution_count": null,
      "outputs": []
    },
    {
      "cell_type": "markdown",
      "metadata": {
        "id": "xsmPfsd8Kzst"
      },
      "source": [
        "### 1.2\n",
        "\n",
        "Write a function `get_headlines` that takes a string `keyword` as an argument and returns a subset of `headlines` with only rows where the headline contains the given `keyword`. The returned dataframe should contain an additional column titled `keyword` that contains the keyword provided to the function. And make sure your function is not case-sensitive."
      ]
    },
    {
      "cell_type": "code",
      "metadata": {
        "scrolled": true,
        "id": "uJbQoZibKzsw"
      },
      "source": [
        "get_headlines <- function(df, keyword) {\n",
        "    # Your code here\n",
        "}\n",
        "\n",
        "# headlines %>% get_headlines('trump') %>% head"
      ],
      "execution_count": null,
      "outputs": []
    },
    {
      "cell_type": "code",
      "source": [
        "get_headlines <- function(df, keyword) {\n",
        "    keyword = tolower(keyword)\n",
        "    result =  df%>% \n",
        "        filter(str_detect(headline_text, keyword)) %>%\n",
        "        mutate(keyword=keyword)\n",
        "    return(result)\n",
        "}"
      ],
      "metadata": {
        "id": "2s-QdaCnG7Kr"
      },
      "execution_count": null,
      "outputs": []
    },
    {
      "cell_type": "markdown",
      "metadata": {
        "id": "KAq_eKCaKzs3"
      },
      "source": [
        "### 1.3\n",
        "\n",
        "Using `get_headlines`, create a dataframe `headlines2` which, for each country in `country_interest`, contains the headlines associated with that country. The result should be a single dataframe. You should be able to do this with a one-liner."
      ]
    },
    {
      "cell_type": "code",
      "metadata": {
        "id": "KcaBmHKaKzs5"
      },
      "source": [
        "country_interest = c('china', 'india', 'russia', 'syria', 'indonesia',\n",
        "                     'japan', 'israel', 'iraq', 'iran', 'philippines',\n",
        "                     'united states', 'france')\n",
        "\n",
        "headlines2 <- country_interest %>% map_dfr(~get_headlines(headlines, .))\n",
        "\n",
        "head(headlines2)\n",
        "\n",
        "# map_dfr() applies a function to each element of a list/vector/column and returns a dataframe\n",
        "\n",
        "# head(headlines2)"
      ],
      "execution_count": null,
      "outputs": []
    },
    {
      "cell_type": "code",
      "source": [
        "# verbose alternative\n",
        "\n",
        "headline_getter <- function(x) {\n",
        "  return ( get_headlines(headlines, x))\n",
        "}\n",
        "\n",
        "head(map_dfr(country_interest, headline_getter))"
      ],
      "metadata": {
        "id": "vhgzROoIHrtR"
      },
      "execution_count": null,
      "outputs": []
    },
    {
      "cell_type": "markdown",
      "metadata": {
        "id": "DmM-1aBiKzs6"
      },
      "source": [
        "### 1.4 \n",
        "\n",
        "Create a bar plot of number of headlines by country. Make sure the bars are arranged in descending order."
      ]
    },
    {
      "cell_type": "markdown",
      "metadata": {
        "id": "2gPUXRNgKzs8"
      },
      "source": [
        "# 2. The General Social Survey\n",
        "\n",
        "​​​Since 1972, the General Social Survey (GSS) has provided politicians, policymakers, and scholars with a clear and unbiased perspective on what Americans think and feel about such issues as national spendi​ng priorities, crime and punishment, intergroup relations, and confidence in institutions. (From their website: https://gss.norc.org/)"
      ]
    },
    {
      "cell_type": "code",
      "metadata": {
        "scrolled": true,
        "id": "1k5hATXlKzs9"
      },
      "source": [
        "head(gss_cat)"
      ],
      "execution_count": null,
      "outputs": []
    },
    {
      "cell_type": "markdown",
      "metadata": {
        "id": "rpLj_9XbKzs-"
      },
      "source": [
        "### 2.1 What is the median reported age for Jewish respondents?\n",
        "\n",
        "Make sure you return a number and not a dataframe!"
      ]
    },
    {
      "cell_type": "code",
      "metadata": {
        "id": "Euv6rLKPKzs_"
      },
      "source": [
        ""
      ],
      "execution_count": null,
      "outputs": []
    },
    {
      "cell_type": "markdown",
      "metadata": {
        "id": "Jp0AgFS_Kzs_"
      },
      "source": [
        "### 2.2 Write a generalized function for above code. For a given religion, print out the median age of respondents."
      ]
    },
    {
      "cell_type": "code",
      "metadata": {
        "id": "EeZSXM9dKztA"
      },
      "source": [
        "age_of_religion <- function(x){\n",
        "    # your code here\n",
        "}"
      ],
      "execution_count": null,
      "outputs": []
    },
    {
      "cell_type": "code",
      "metadata": {
        "id": "zsBB091iKztB"
      },
      "source": [
        "# Here is the religion list\n",
        "gss_cat %>% select(relig) %>% unique"
      ],
      "execution_count": null,
      "outputs": []
    },
    {
      "cell_type": "code",
      "metadata": {
        "id": "Q9aUU1OmKztB"
      },
      "source": [
        "age_of_religion('Protestant'); age_of_religion('None'); age_of_religion('Hinduism')"
      ],
      "execution_count": null,
      "outputs": []
    },
    {
      "cell_type": "markdown",
      "metadata": {
        "id": "x9k_keuWKztC"
      },
      "source": [
        "### 2.3 Write a generalized function for above code so that your function can work with different statistics such as mean, var etc, but keep median as default option."
      ]
    },
    {
      "cell_type": "code",
      "metadata": {
        "id": "n1hIIND0KztD"
      },
      "source": [
        "# generally it's a good idea to keep the name of the function informative\n",
        "# Think of what you might name this?\n",
        "f <- function(x, stat = median){\n",
        "    # your code here\n",
        "}\n",
        "f('Jewish', median); f('Jewish', mean); f('Hinduism', sd)"
      ],
      "execution_count": null,
      "outputs": []
    },
    {
      "cell_type": "markdown",
      "metadata": {
        "id": "7WHs5w8MKztE"
      },
      "source": [
        "### 2.4 We'll define a millennial to be someone who was 18 or younger in the year 2000. Are the millennials in this survey more likely to identify as atheist (`relig =='None'`) compared to earlier generations?"
      ]
    },
    {
      "cell_type": "code",
      "metadata": {
        "id": "Fpt-WdPzKztE"
      },
      "source": [
        ""
      ],
      "execution_count": null,
      "outputs": []
    },
    {
      "cell_type": "markdown",
      "metadata": {
        "id": "8WTeI41wKztF"
      },
      "source": [
        "### 2.5 Generalize this to a comparison for any religion"
      ]
    },
    {
      "cell_type": "code",
      "metadata": {
        "id": "8-N-Bf77KztG"
      },
      "source": [
        "millenials = function(x){\n",
        "    # your code here\n",
        "}"
      ],
      "execution_count": null,
      "outputs": []
    },
    {
      "cell_type": "code",
      "metadata": {
        "id": "aFiTj0syKztJ"
      },
      "source": [
        "millenials('Jewish')"
      ],
      "execution_count": null,
      "outputs": []
    },
    {
      "cell_type": "markdown",
      "metadata": {
        "id": "o6xOroZjKztL"
      },
      "source": [
        "### 2.6 Using the above function, make a generation trend table for all religions by calculating the percent change in proportion. (Compare to the image below.)"
      ]
    },
    {
      "cell_type": "code",
      "metadata": {
        "scrolled": true,
        "id": "TyDQCcr3KztM"
      },
      "source": [
        ""
      ],
      "execution_count": null,
      "outputs": []
    }
  ]
}