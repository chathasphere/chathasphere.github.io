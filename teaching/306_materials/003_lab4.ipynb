{
  "nbformat": 4,
  "nbformat_minor": 0,
  "metadata": {
    "colab": {
      "name": "003_lab4.ipynb",
      "provenance": [],
      "toc_visible": true,
      "collapsed_sections": [],
      "authorship_tag": "ABX9TyNgmhDJ+Fmg7FNtXJGzoOjW",
      "include_colab_link": true
    },
    "kernelspec": {
      "name": "ir",
      "display_name": "R"
    },
    "language_info": {
      "name": "R"
    }
  },
  "cells": [
    {
      "cell_type": "markdown",
      "metadata": {
        "id": "view-in-github",
        "colab_type": "text"
      },
      "source": [
        "<a href=\"https://colab.research.google.com/github/chathasphere/chathasphere.github.io/blob/main/teaching/306_materials/003_lab4.ipynb\" target=\"_parent\"><img src=\"https://colab.research.google.com/assets/colab-badge.svg\" alt=\"Open In Colab\"/></a>"
      ]
    },
    {
      "cell_type": "markdown",
      "source": [
        "# Lab 4: Wrapping up dplyr Operations\n",
        "\n",
        "## January 31st, 2022"
      ],
      "metadata": {
        "id": "QSn7_E461K2h"
      }
    },
    {
      "cell_type": "code",
      "source": [
        "library(tidyverse)\n",
        "options(repr.plot.height=4)"
      ],
      "metadata": {
        "id": "1wnwvvws1MRb"
      },
      "execution_count": null,
      "outputs": []
    },
    {
      "cell_type": "markdown",
      "source": [
        "# 1. dplyr Loose Ends\n",
        "### review of `select`, `mutate`, `summarise`\n",
        "### & introducing a few more simple commands\n",
        "\n",
        "These are a family of \"one table verbs\" in dplyr. (Joins are an example of a \"two table verb.\")\n",
        "For reference: https://dplyr.tidyverse.org/reference/index.html#section-one-table-verbs"
      ],
      "metadata": {
        "id": "pThCHosg1zZ2"
      }
    },
    {
      "cell_type": "code",
      "source": [
        "str(midwest)"
      ],
      "metadata": {
        "id": "OGrOWvmE8p5a"
      },
      "execution_count": null,
      "outputs": []
    },
    {
      "cell_type": "markdown",
      "source": [
        "\n",
        "## 1.1 Select"
      ],
      "metadata": {
        "id": "WIUsIzHH3AL8"
      }
    },
    {
      "cell_type": "markdown",
      "source": [
        "Used for returning specific columns or columns that match a logical criterion."
      ],
      "metadata": {
        "id": "KnJDX-e12EB5"
      }
    },
    {
      "cell_type": "code",
      "source": [
        "midwest %>% select(2:5) %>% head"
      ],
      "metadata": {
        "id": "OoMZJBcu9uKI"
      },
      "execution_count": null,
      "outputs": []
    },
    {
      "cell_type": "code",
      "source": [
        "midwest %>% select(starts_with(\"perc\")) %>% head"
      ],
      "metadata": {
        "id": "EdlpbFEm1yQt"
      },
      "execution_count": null,
      "outputs": []
    },
    {
      "cell_type": "markdown",
      "source": [
        "## 1.2 Rename"
      ],
      "metadata": {
        "id": "JXaxSMv_ET7n"
      }
    },
    {
      "cell_type": "markdown",
      "source": [
        "We can also use `select` to rename columns, though there is a designated operation `rename` that accomplishes this *without* losing the other columns."
      ],
      "metadata": {
        "id": "lYA0eJykChNb"
      }
    },
    {
      "cell_type": "code",
      "source": [
        "# renaming with select keeps only the renamed column\n",
        "midwest %>% select(percentage_white = percwhite) %>% head()"
      ],
      "metadata": {
        "id": "2mkH0gd5CpI8"
      },
      "execution_count": null,
      "outputs": []
    },
    {
      "cell_type": "code",
      "source": [
        "# renaming with rename keeps everything\n",
        "midwest %>% rename(percentage_white = percwhite) %>% select(starts_with(\"perc\")) %>%\n",
        "  head"
      ],
      "metadata": {
        "id": "iUnTk-P6C6I0"
      },
      "execution_count": null,
      "outputs": []
    },
    {
      "cell_type": "markdown",
      "source": [
        "The function `rename_with` lets you apply a (string) function to all columns by default or a specific subset"
      ],
      "metadata": {
        "id": "2-X4modwEruQ"
      }
    },
    {
      "cell_type": "code",
      "source": [
        "# capitalize all columns\n",
        "midwest %>% rename_with(toupper) %>% str"
      ],
      "metadata": {
        "id": "liA2UJXNEm13"
      },
      "execution_count": null,
      "outputs": []
    },
    {
      "cell_type": "code",
      "source": [
        "# capitalize only columns of chr (string) type\n",
        "midwest %>% rename_with(toupper, where(is.character)) %>% str"
      ],
      "metadata": {
        "id": "tbp0H4zfE5vT"
      },
      "execution_count": null,
      "outputs": []
    },
    {
      "cell_type": "markdown",
      "source": [
        "## 1.3 Mutate\n",
        "\n",
        "Apply a function to an old column to obtain a new one"
      ],
      "metadata": {
        "id": "6UTs4jEs288m"
      }
    },
    {
      "cell_type": "code",
      "source": [
        "midwest %>% mutate(county = tolower(county)) %>% select(county, state) %>% head"
      ],
      "metadata": {
        "id": "RL63d_8zBSh1"
      },
      "execution_count": null,
      "outputs": []
    },
    {
      "cell_type": "code",
      "source": [
        "midwest %>% mutate(logpop = log(poptotal)) %>% select(1:5, 29) %>% head"
      ],
      "metadata": {
        "id": "FZpwhHRXBc49"
      },
      "execution_count": null,
      "outputs": []
    },
    {
      "cell_type": "markdown",
      "source": [
        "We didn't go over this last time, but it's possible to apply the same mutation to multiple columns. This gets syntactically a bit confusing..."
      ],
      "metadata": {
        "id": "9cwwhXarByZp"
      }
    },
    {
      "cell_type": "code",
      "source": [
        "midwest %>% mutate(across(starts_with(\"perc\"), ~ . / 100)) %>% select(starts_with(\"perc\")) %>% head"
      ],
      "metadata": {
        "id": "ddcZGoCbB5RP"
      },
      "execution_count": null,
      "outputs": []
    },
    {
      "cell_type": "markdown",
      "source": [
        "Breaking down the syntax above...\n",
        "* `across`: specifies a set of columns to mutate\n",
        "* `~` indicates the start of a formula to apply across several columns\n",
        "* `.` dummy variable standing in for each column"
      ],
      "metadata": {
        "id": "-og6FcntFNJr"
      }
    },
    {
      "cell_type": "markdown",
      "source": [
        "How about renaming the percentage columns (since they're no longer percentages)?"
      ],
      "metadata": {
        "id": "gW-uEKi3CDvh"
      }
    },
    {
      "cell_type": "code",
      "source": [
        "midwest_scaled <- midwest %>%\n",
        "   mutate(across(starts_with(\"perc\"), ~ . / 100))\n",
        "midwest_scaled %>% rename_with(~ str_replace(., pattern=\"perc\", replacement = \"prop_\")) %>%\n",
        "  select(starts_with(\"prop_\")) %>% head"
      ],
      "metadata": {
        "id": "ncjrdSQ1CNU8"
      },
      "execution_count": null,
      "outputs": []
    },
    {
      "cell_type": "markdown",
      "source": [
        "Annoyingly, they decided to name the column `percollege` instead of `perccollege.`\n",
        "\n",
        "I personally find the documentation for `mutate` unhelpful...Google searches and StackOverflow are your friends here (and of course you can ask the GSI team for help!)"
      ],
      "metadata": {
        "id": "yR3fj_pNGL1B"
      }
    },
    {
      "cell_type": "markdown",
      "source": [
        "## 1.4 Summarise\n",
        "\n",
        "Not very useful on its own, `summarise` shines when we are grouping data."
      ],
      "metadata": {
        "id": "iYmW5dvr9cUF"
      }
    },
    {
      "cell_type": "code",
      "source": [
        "midwest %>% group_by(state) %>% summarise(pop = sum(poptotal)) %>% \n",
        "  mutate(pop_millions = pop / 1000000) %>% arrange(desc(pop))"
      ],
      "metadata": {
        "id": "V2QXs1fEGmWg"
      },
      "execution_count": null,
      "outputs": []
    },
    {
      "cell_type": "code",
      "source": [
        "midwest %>% group_by(state) %>% summarise(area = sum(area), pop = sum(poptotal)) %>%\n",
        "  mutate(pop_density = (pop / 1000) / area) %>% arrange(pop_density)"
      ],
      "metadata": {
        "id": "C8XcFEvaG_nC"
      },
      "execution_count": null,
      "outputs": []
    },
    {
      "cell_type": "code",
      "source": [
        "head(midwest)"
      ],
      "metadata": {
        "id": "jITBRqDfIxaO"
      },
      "execution_count": null,
      "outputs": []
    },
    {
      "cell_type": "code",
      "source": [
        "midwest %>% group_by(state) %>% summarise(n_counties = n())"
      ],
      "metadata": {
        "id": "zfFy_TG1Howv"
      },
      "execution_count": null,
      "outputs": []
    },
    {
      "cell_type": "code",
      "source": [
        "midwest %>% group_by(state) %>% summarise(n_categories = n_distinct(category))"
      ],
      "metadata": {
        "id": "p8lksRnwJIVg"
      },
      "execution_count": null,
      "outputs": []
    },
    {
      "cell_type": "code",
      "source": [
        "midwest %>% group_by(category) %>% summarise(med_density = median(popdensity)) %>%\n",
        "  arrange(med_density)"
      ],
      "metadata": {
        "id": "6dwQnktRJRvu"
      },
      "execution_count": null,
      "outputs": []
    },
    {
      "cell_type": "markdown",
      "source": [
        "It's somewhat mysterious what these categories mean, since quoting the docs, \"The original descriptions were not documented and the current descriptions here are based on speculation.\" Cool cool cool."
      ],
      "metadata": {
        "id": "rdTvmih5Jlvh"
      }
    },
    {
      "cell_type": "markdown",
      "source": [
        "## 1.5 Count\n",
        "\n",
        "An alternative way of getting a quick count of rows per group."
      ],
      "metadata": {
        "id": "lrG2Qq0GJ5_d"
      }
    },
    {
      "cell_type": "code",
      "source": [
        "midwest %>% count(state)\n",
        "\n",
        "# equivalent to \n",
        "# midwest %>% group_by(state) %>% summarise(n = n())"
      ],
      "metadata": {
        "id": "bI-X6M24J5Rv"
      },
      "execution_count": null,
      "outputs": []
    },
    {
      "cell_type": "markdown",
      "source": [
        "## 1.6 Slice\n",
        "\n",
        "Similar to filter, except you return rows by specific indices and not logical criteria."
      ],
      "metadata": {
        "id": "Hdj87hxBKUTl"
      }
    },
    {
      "cell_type": "code",
      "source": [
        "midwest %>% slice(100:110)"
      ],
      "metadata": {
        "id": "IbRZOoC1KTfg"
      },
      "execution_count": null,
      "outputs": []
    },
    {
      "cell_type": "markdown",
      "source": [
        "# 2. Visualization/ Exercises"
      ],
      "metadata": {
        "id": "VnIB-GPbKsHJ"
      }
    },
    {
      "cell_type": "markdown",
      "source": [
        "Exercise 1: Create a bar plot of population per state, with each bar stacked by category"
      ],
      "metadata": {
        "id": "lm-MtxdgMA8R"
      }
    },
    {
      "cell_type": "code",
      "source": [
        "# your code here"
      ],
      "metadata": {
        "id": "pJOMIiZHKuKG"
      },
      "execution_count": null,
      "outputs": []
    },
    {
      "cell_type": "markdown",
      "source": [
        "Exercise 2: Plot the relationship between adult poverty and percentage of college grads on the log10 scale, coloring by state."
      ],
      "metadata": {
        "id": "JnSxlFcKMTiW"
      }
    },
    {
      "cell_type": "code",
      "source": [
        "# your code here"
      ],
      "metadata": {
        "id": "BamxsVlbLPms"
      },
      "execution_count": null,
      "outputs": []
    },
    {
      "cell_type": "markdown",
      "source": [
        "Exercise 3a: Create a new factor column called `poverty_level` with levels:\n",
        "* \"critical\" if poverty rate is above 25%\n",
        "* \"severe\" if poverty rate is between 15% and 25% \n",
        "* \"normal\" otherwise.\n",
        "\n",
        "Hint: use either the `cut` function with appropriate breaks and labels, or else write your own binning function and apply it with `mutate`."
      ],
      "metadata": {
        "id": "SLun1iznOoOl"
      }
    },
    {
      "cell_type": "code",
      "source": [
        "# your code here"
      ],
      "metadata": {
        "id": "eE-r0tHHOm9A"
      },
      "execution_count": null,
      "outputs": []
    },
    {
      "cell_type": "markdown",
      "source": [
        "Exercise 3b: Visualize a racial breakdown of counties in each of these levels. For instance, you could do a proportional barplot based on percentage of each race, or a `geom_col` plot as in exercise 1 that is stacked by race."
      ],
      "metadata": {
        "id": "n_R5Suq_P7oz"
      }
    },
    {
      "cell_type": "code",
      "source": [
        "# your code here"
      ],
      "metadata": {
        "id": "GYwv-nf8Pn_8"
      },
      "execution_count": null,
      "outputs": []
    },
    {
      "cell_type": "markdown",
      "source": [
        "Exercise 4: Create tibbles corresponding to the 40 counties with the highest population density and lowest population density. Choose two variables for a scatter plot (such as adult poverty and percent college grads) and visually compare the relationship for the most dense and least dense counties."
      ],
      "metadata": {
        "id": "bKK2ZxXWQTJB"
      }
    },
    {
      "cell_type": "code",
      "source": [
        "# your code here"
      ],
      "metadata": {
        "id": "1iJBtyVTQR0l"
      },
      "execution_count": null,
      "outputs": []
    },
    {
      "cell_type": "markdown",
      "source": [
        "Exercise 5: What do the categories mean? Try creating some grouped plots (e.g. stacked barplots, colored scatter plots) that shed some light on how county categories differ from one another.\n",
        "\n",
        "*This exercise is open ended/ambiguous, but it's the sort of Data Science question that people work on in real life.*"
      ],
      "metadata": {
        "id": "v0mu9nNLVBwO"
      }
    },
    {
      "cell_type": "code",
      "source": [
        "# your code here"
      ],
      "metadata": {
        "id": "DyXlE4cBVquu"
      },
      "execution_count": null,
      "outputs": []
    }
  ]
}