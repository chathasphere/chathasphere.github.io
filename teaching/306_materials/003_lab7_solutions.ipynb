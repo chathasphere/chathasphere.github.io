{
  "nbformat": 4,
  "nbformat_minor": 0,
  "metadata": {
    "kernelspec": {
      "display_name": "R",
      "language": "R",
      "name": "ir"
    },
    "language_info": {
      "codemirror_mode": "r",
      "file_extension": ".r",
      "mimetype": "text/x-r-source",
      "name": "R",
      "pygments_lexer": "r",
      "version": "3.6.1"
    },
    "colab": {
      "name": "003_lab7_solutions.ipynb",
      "provenance": [],
      "collapsed_sections": [
        "13SPE2mRYah8",
        "VtpL3od3YaiF",
        "OOuRyQVPJGMJ",
        "XYDP1rHQYaiM",
        "B-nk6GkAYaiM",
        "7FsPrIhLYaiN",
        "_2QWaupuYaiN"
      ],
      "include_colab_link": true
    }
  },
  "cells": [
    {
      "cell_type": "markdown",
      "metadata": {
        "id": "view-in-github",
        "colab_type": "text"
      },
      "source": [
        "<a href=\"https://colab.research.google.com/github/chathasphere/chathasphere.github.io/blob/main/teaching/306_materials/003_lab7_solutions.ipynb\" target=\"_parent\"><img src=\"https://colab.research.google.com/assets/colab-badge.svg\" alt=\"Open In Colab\"/></a>"
      ]
    },
    {
      "cell_type": "markdown",
      "metadata": {
        "id": "13SPE2mRYah8"
      },
      "source": [
        "# Lab 7: Missing Values and Cleaning Messy Data\n",
        "\n",
        "## March 15th, 2022"
      ]
    },
    {
      "cell_type": "code",
      "metadata": {
        "id": "W8kJxf2uYaiC",
        "colab": {
          "base_uri": "https://localhost:8080/"
        },
        "outputId": "8eca6b98-aedc-40c7-aafb-8fa5f4362a82"
      },
      "source": [
        "library(tidyverse)"
      ],
      "execution_count": 1,
      "outputs": [
        {
          "output_type": "stream",
          "name": "stderr",
          "text": [
            "Warning message in system(\"timedatectl\", intern = TRUE):\n",
            "“running command 'timedatectl' had status 1”\n",
            "── \u001b[1mAttaching packages\u001b[22m ─────────────────────────────────────── tidyverse 1.3.1 ──\n",
            "\n",
            "\u001b[32m✔\u001b[39m \u001b[34mggplot2\u001b[39m 3.3.5     \u001b[32m✔\u001b[39m \u001b[34mpurrr  \u001b[39m 0.3.4\n",
            "\u001b[32m✔\u001b[39m \u001b[34mtibble \u001b[39m 3.1.6     \u001b[32m✔\u001b[39m \u001b[34mdplyr  \u001b[39m 1.0.8\n",
            "\u001b[32m✔\u001b[39m \u001b[34mtidyr  \u001b[39m 1.2.0     \u001b[32m✔\u001b[39m \u001b[34mstringr\u001b[39m 1.4.0\n",
            "\u001b[32m✔\u001b[39m \u001b[34mreadr  \u001b[39m 2.1.2     \u001b[32m✔\u001b[39m \u001b[34mforcats\u001b[39m 0.5.1\n",
            "\n",
            "── \u001b[1mConflicts\u001b[22m ────────────────────────────────────────── tidyverse_conflicts() ──\n",
            "\u001b[31m✖\u001b[39m \u001b[34mdplyr\u001b[39m::\u001b[32mfilter()\u001b[39m masks \u001b[34mstats\u001b[39m::filter()\n",
            "\u001b[31m✖\u001b[39m \u001b[34mdplyr\u001b[39m::\u001b[32mlag()\u001b[39m    masks \u001b[34mstats\u001b[39m::lag()\n",
            "\n"
          ]
        }
      ]
    },
    {
      "cell_type": "code",
      "metadata": {
        "scrolled": true,
        "id": "G9pIZYBuYaiE",
        "colab": {
          "base_uri": "https://localhost:8080/",
          "height": 318
        },
        "outputId": "10c48183-19f7-466d-9790-8ed7b5e8e881"
      },
      "source": [
        "(stocks <- tibble(\n",
        "  Year   = c(2015, 2015, 2015, 2015, 2016, 2016, 2016),\n",
        "  Qtr    = c(   1,    2,    3,    4,    2,    3,    4),\n",
        "  Return = c(1.88, 0.59, 0.35,   NA, 0.92, 0.17, 2.66)\n",
        "))"
      ],
      "execution_count": null,
      "outputs": [
        {
          "output_type": "display_data",
          "data": {
            "text/html": [
              "<table class=\"dataframe\">\n",
              "<caption>A tibble: 7 × 3</caption>\n",
              "<thead>\n",
              "\t<tr><th scope=col>Year</th><th scope=col>Qtr</th><th scope=col>Return</th></tr>\n",
              "\t<tr><th scope=col>&lt;dbl&gt;</th><th scope=col>&lt;dbl&gt;</th><th scope=col>&lt;dbl&gt;</th></tr>\n",
              "</thead>\n",
              "<tbody>\n",
              "\t<tr><td>2015</td><td>1</td><td>1.88</td></tr>\n",
              "\t<tr><td>2015</td><td>2</td><td>0.59</td></tr>\n",
              "\t<tr><td>2015</td><td>3</td><td>0.35</td></tr>\n",
              "\t<tr><td>2015</td><td>4</td><td>  NA</td></tr>\n",
              "\t<tr><td>2016</td><td>2</td><td>0.92</td></tr>\n",
              "\t<tr><td>2016</td><td>3</td><td>0.17</td></tr>\n",
              "\t<tr><td>2016</td><td>4</td><td>2.66</td></tr>\n",
              "</tbody>\n",
              "</table>\n"
            ],
            "text/markdown": "\nA tibble: 7 × 3\n\n| Year &lt;dbl&gt; | Qtr &lt;dbl&gt; | Return &lt;dbl&gt; |\n|---|---|---|\n| 2015 | 1 | 1.88 |\n| 2015 | 2 | 0.59 |\n| 2015 | 3 | 0.35 |\n| 2015 | 4 |   NA |\n| 2016 | 2 | 0.92 |\n| 2016 | 3 | 0.17 |\n| 2016 | 4 | 2.66 |\n\n",
            "text/latex": "A tibble: 7 × 3\n\\begin{tabular}{lll}\n Year & Qtr & Return\\\\\n <dbl> & <dbl> & <dbl>\\\\\n\\hline\n\t 2015 & 1 & 1.88\\\\\n\t 2015 & 2 & 0.59\\\\\n\t 2015 & 3 & 0.35\\\\\n\t 2015 & 4 &   NA\\\\\n\t 2016 & 2 & 0.92\\\\\n\t 2016 & 3 & 0.17\\\\\n\t 2016 & 4 & 2.66\\\\\n\\end{tabular}\n",
            "text/plain": [
              "  Year Qtr Return\n",
              "1 2015 1   1.88  \n",
              "2 2015 2   0.59  \n",
              "3 2015 3   0.35  \n",
              "4 2015 4     NA  \n",
              "5 2016 2   0.92  \n",
              "6 2016 3   0.17  \n",
              "7 2016 4   2.66  "
            ]
          },
          "metadata": {}
        }
      ]
    },
    {
      "cell_type": "markdown",
      "metadata": {
        "id": "VtpL3od3YaiF"
      },
      "source": [
        "# 1. Missing Values\n",
        "Missing values can be:\n",
        "1. *Explicit* (marked as NA in our data)\n",
        "1. *Implicit* (not present in the data)\n",
        "\n",
        "In this example we have one explicitly missing value for the 4th quarter of 2015. \n",
        "\n",
        "Are there any other missing values? Yes: we do not have an observation for the first quarter of 2016."
      ]
    },
    {
      "cell_type": "markdown",
      "source": [
        "## Handling Missing Data"
      ],
      "metadata": {
        "id": "OOuRyQVPJGMJ"
      }
    },
    {
      "cell_type": "markdown",
      "metadata": {
        "id": "nj7jel7YYaiF"
      },
      "source": [
        "`complete`: Turns implicit missing values into explicit missing values.\n",
        "\n",
        "Specify a list of columns (column separated) to generate every possible combination. Missing combinations will initialize columns with NA."
      ]
    },
    {
      "cell_type": "code",
      "metadata": {
        "id": "q8_qR13zYaiF",
        "colab": {
          "base_uri": "https://localhost:8080/",
          "height": 349
        },
        "outputId": "bb15550d-6834-4e3d-a45f-59a713d93a75"
      },
      "source": [
        "stocks %>% complete(Year, Qtr)"
      ],
      "execution_count": null,
      "outputs": [
        {
          "output_type": "display_data",
          "data": {
            "text/html": [
              "<table class=\"dataframe\">\n",
              "<caption>A tibble: 8 × 3</caption>\n",
              "<thead>\n",
              "\t<tr><th scope=col>Year</th><th scope=col>Qtr</th><th scope=col>Return</th></tr>\n",
              "\t<tr><th scope=col>&lt;dbl&gt;</th><th scope=col>&lt;dbl&gt;</th><th scope=col>&lt;dbl&gt;</th></tr>\n",
              "</thead>\n",
              "<tbody>\n",
              "\t<tr><td>2015</td><td>1</td><td>1.88</td></tr>\n",
              "\t<tr><td>2015</td><td>2</td><td>0.59</td></tr>\n",
              "\t<tr><td>2015</td><td>3</td><td>0.35</td></tr>\n",
              "\t<tr><td>2015</td><td>4</td><td>  NA</td></tr>\n",
              "\t<tr><td>2016</td><td>1</td><td>  NA</td></tr>\n",
              "\t<tr><td>2016</td><td>2</td><td>0.92</td></tr>\n",
              "\t<tr><td>2016</td><td>3</td><td>0.17</td></tr>\n",
              "\t<tr><td>2016</td><td>4</td><td>2.66</td></tr>\n",
              "</tbody>\n",
              "</table>\n"
            ],
            "text/markdown": "\nA tibble: 8 × 3\n\n| Year &lt;dbl&gt; | Qtr &lt;dbl&gt; | Return &lt;dbl&gt; |\n|---|---|---|\n| 2015 | 1 | 1.88 |\n| 2015 | 2 | 0.59 |\n| 2015 | 3 | 0.35 |\n| 2015 | 4 |   NA |\n| 2016 | 1 |   NA |\n| 2016 | 2 | 0.92 |\n| 2016 | 3 | 0.17 |\n| 2016 | 4 | 2.66 |\n\n",
            "text/latex": "A tibble: 8 × 3\n\\begin{tabular}{lll}\n Year & Qtr & Return\\\\\n <dbl> & <dbl> & <dbl>\\\\\n\\hline\n\t 2015 & 1 & 1.88\\\\\n\t 2015 & 2 & 0.59\\\\\n\t 2015 & 3 & 0.35\\\\\n\t 2015 & 4 &   NA\\\\\n\t 2016 & 1 &   NA\\\\\n\t 2016 & 2 & 0.92\\\\\n\t 2016 & 3 & 0.17\\\\\n\t 2016 & 4 & 2.66\\\\\n\\end{tabular}\n",
            "text/plain": [
              "  Year Qtr Return\n",
              "1 2015 1   1.88  \n",
              "2 2015 2   0.59  \n",
              "3 2015 3   0.35  \n",
              "4 2015 4     NA  \n",
              "5 2016 1     NA  \n",
              "6 2016 2   0.92  \n",
              "7 2016 3   0.17  \n",
              "8 2016 4   2.66  "
            ]
          },
          "metadata": {}
        }
      ]
    },
    {
      "cell_type": "markdown",
      "metadata": {
        "id": "MmOaRyr9YaiG"
      },
      "source": [
        "`fill`: Fills missing values in selected columns. Defaults to using the previous entry."
      ]
    },
    {
      "cell_type": "code",
      "metadata": {
        "scrolled": true,
        "id": "AjEk-mMHYaiG",
        "colab": {
          "base_uri": "https://localhost:8080/",
          "height": 349
        },
        "outputId": "211ca99a-8a91-4e13-8ccb-53e397605a12"
      },
      "source": [
        "stocks %>% complete(Year, Qtr) %>% fill(Return)"
      ],
      "execution_count": null,
      "outputs": [
        {
          "output_type": "display_data",
          "data": {
            "text/html": [
              "<table class=\"dataframe\">\n",
              "<caption>A tibble: 8 × 3</caption>\n",
              "<thead>\n",
              "\t<tr><th scope=col>Year</th><th scope=col>Qtr</th><th scope=col>Return</th></tr>\n",
              "\t<tr><th scope=col>&lt;dbl&gt;</th><th scope=col>&lt;dbl&gt;</th><th scope=col>&lt;dbl&gt;</th></tr>\n",
              "</thead>\n",
              "<tbody>\n",
              "\t<tr><td>2015</td><td>1</td><td>1.88</td></tr>\n",
              "\t<tr><td>2015</td><td>2</td><td>0.59</td></tr>\n",
              "\t<tr><td>2015</td><td>3</td><td>0.35</td></tr>\n",
              "\t<tr><td>2015</td><td>4</td><td>0.35</td></tr>\n",
              "\t<tr><td>2016</td><td>1</td><td>0.35</td></tr>\n",
              "\t<tr><td>2016</td><td>2</td><td>0.92</td></tr>\n",
              "\t<tr><td>2016</td><td>3</td><td>0.17</td></tr>\n",
              "\t<tr><td>2016</td><td>4</td><td>2.66</td></tr>\n",
              "</tbody>\n",
              "</table>\n"
            ],
            "text/markdown": "\nA tibble: 8 × 3\n\n| Year &lt;dbl&gt; | Qtr &lt;dbl&gt; | Return &lt;dbl&gt; |\n|---|---|---|\n| 2015 | 1 | 1.88 |\n| 2015 | 2 | 0.59 |\n| 2015 | 3 | 0.35 |\n| 2015 | 4 | 0.35 |\n| 2016 | 1 | 0.35 |\n| 2016 | 2 | 0.92 |\n| 2016 | 3 | 0.17 |\n| 2016 | 4 | 2.66 |\n\n",
            "text/latex": "A tibble: 8 × 3\n\\begin{tabular}{lll}\n Year & Qtr & Return\\\\\n <dbl> & <dbl> & <dbl>\\\\\n\\hline\n\t 2015 & 1 & 1.88\\\\\n\t 2015 & 2 & 0.59\\\\\n\t 2015 & 3 & 0.35\\\\\n\t 2015 & 4 & 0.35\\\\\n\t 2016 & 1 & 0.35\\\\\n\t 2016 & 2 & 0.92\\\\\n\t 2016 & 3 & 0.17\\\\\n\t 2016 & 4 & 2.66\\\\\n\\end{tabular}\n",
            "text/plain": [
              "  Year Qtr Return\n",
              "1 2015 1   1.88  \n",
              "2 2015 2   0.59  \n",
              "3 2015 3   0.35  \n",
              "4 2015 4   0.35  \n",
              "5 2016 1   0.35  \n",
              "6 2016 2   0.92  \n",
              "7 2016 3   0.17  \n",
              "8 2016 4   2.66  "
            ]
          },
          "metadata": {}
        }
      ]
    },
    {
      "cell_type": "code",
      "source": [
        "stocks %>% complete(Year, Qtr) %>% fill(Return, .direction=\"up\")"
      ],
      "metadata": {
        "id": "mnKu3s-HJtob",
        "colab": {
          "base_uri": "https://localhost:8080/",
          "height": 349
        },
        "outputId": "b3cbcc9a-9c19-4e68-fd92-6d80e6e634bb"
      },
      "execution_count": null,
      "outputs": [
        {
          "output_type": "display_data",
          "data": {
            "text/html": [
              "<table class=\"dataframe\">\n",
              "<caption>A tibble: 8 × 3</caption>\n",
              "<thead>\n",
              "\t<tr><th scope=col>Year</th><th scope=col>Qtr</th><th scope=col>Return</th></tr>\n",
              "\t<tr><th scope=col>&lt;dbl&gt;</th><th scope=col>&lt;dbl&gt;</th><th scope=col>&lt;dbl&gt;</th></tr>\n",
              "</thead>\n",
              "<tbody>\n",
              "\t<tr><td>2015</td><td>1</td><td>1.88</td></tr>\n",
              "\t<tr><td>2015</td><td>2</td><td>0.59</td></tr>\n",
              "\t<tr><td>2015</td><td>3</td><td>0.35</td></tr>\n",
              "\t<tr><td>2015</td><td>4</td><td>0.92</td></tr>\n",
              "\t<tr><td>2016</td><td>1</td><td>0.92</td></tr>\n",
              "\t<tr><td>2016</td><td>2</td><td>0.92</td></tr>\n",
              "\t<tr><td>2016</td><td>3</td><td>0.17</td></tr>\n",
              "\t<tr><td>2016</td><td>4</td><td>2.66</td></tr>\n",
              "</tbody>\n",
              "</table>\n"
            ],
            "text/markdown": "\nA tibble: 8 × 3\n\n| Year &lt;dbl&gt; | Qtr &lt;dbl&gt; | Return &lt;dbl&gt; |\n|---|---|---|\n| 2015 | 1 | 1.88 |\n| 2015 | 2 | 0.59 |\n| 2015 | 3 | 0.35 |\n| 2015 | 4 | 0.92 |\n| 2016 | 1 | 0.92 |\n| 2016 | 2 | 0.92 |\n| 2016 | 3 | 0.17 |\n| 2016 | 4 | 2.66 |\n\n",
            "text/latex": "A tibble: 8 × 3\n\\begin{tabular}{lll}\n Year & Qtr & Return\\\\\n <dbl> & <dbl> & <dbl>\\\\\n\\hline\n\t 2015 & 1 & 1.88\\\\\n\t 2015 & 2 & 0.59\\\\\n\t 2015 & 3 & 0.35\\\\\n\t 2015 & 4 & 0.92\\\\\n\t 2016 & 1 & 0.92\\\\\n\t 2016 & 2 & 0.92\\\\\n\t 2016 & 3 & 0.17\\\\\n\t 2016 & 4 & 2.66\\\\\n\\end{tabular}\n",
            "text/plain": [
              "  Year Qtr Return\n",
              "1 2015 1   1.88  \n",
              "2 2015 2   0.59  \n",
              "3 2015 3   0.35  \n",
              "4 2015 4   0.92  \n",
              "5 2016 1   0.92  \n",
              "6 2016 2   0.92  \n",
              "7 2016 3   0.17  \n",
              "8 2016 4   2.66  "
            ]
          },
          "metadata": {}
        }
      ]
    },
    {
      "cell_type": "markdown",
      "metadata": {
        "id": "sw2tosHGYaiH"
      },
      "source": [
        "The missing values also become explicit if we widen the tibble."
      ]
    },
    {
      "cell_type": "code",
      "metadata": {
        "id": "r7GD_32-YaiH",
        "colab": {
          "base_uri": "https://localhost:8080/",
          "height": 224
        },
        "outputId": "43503eea-7665-4815-a531-07780d04754d"
      },
      "source": [
        "stocks_wide = stocks %>% pivot_wider(names_from = Year, values_from = Return)\n",
        "\n",
        "stocks_wide"
      ],
      "execution_count": null,
      "outputs": [
        {
          "output_type": "display_data",
          "data": {
            "text/html": [
              "<table class=\"dataframe\">\n",
              "<caption>A tibble: 4 × 3</caption>\n",
              "<thead>\n",
              "\t<tr><th scope=col>Qtr</th><th scope=col>2015</th><th scope=col>2016</th></tr>\n",
              "\t<tr><th scope=col>&lt;dbl&gt;</th><th scope=col>&lt;dbl&gt;</th><th scope=col>&lt;dbl&gt;</th></tr>\n",
              "</thead>\n",
              "<tbody>\n",
              "\t<tr><td>1</td><td>1.88</td><td>  NA</td></tr>\n",
              "\t<tr><td>2</td><td>0.59</td><td>0.92</td></tr>\n",
              "\t<tr><td>3</td><td>0.35</td><td>0.17</td></tr>\n",
              "\t<tr><td>4</td><td>  NA</td><td>2.66</td></tr>\n",
              "</tbody>\n",
              "</table>\n"
            ],
            "text/markdown": "\nA tibble: 4 × 3\n\n| Qtr &lt;dbl&gt; | 2015 &lt;dbl&gt; | 2016 &lt;dbl&gt; |\n|---|---|---|\n| 1 | 1.88 |   NA |\n| 2 | 0.59 | 0.92 |\n| 3 | 0.35 | 0.17 |\n| 4 |   NA | 2.66 |\n\n",
            "text/latex": "A tibble: 4 × 3\n\\begin{tabular}{lll}\n Qtr & 2015 & 2016\\\\\n <dbl> & <dbl> & <dbl>\\\\\n\\hline\n\t 1 & 1.88 &   NA\\\\\n\t 2 & 0.59 & 0.92\\\\\n\t 3 & 0.35 & 0.17\\\\\n\t 4 &   NA & 2.66\\\\\n\\end{tabular}\n",
            "text/plain": [
              "  Qtr 2015 2016\n",
              "1 1   1.88   NA\n",
              "2 2   0.59 0.92\n",
              "3 3   0.35 0.17\n",
              "4 4     NA 2.66"
            ]
          },
          "metadata": {}
        }
      ]
    },
    {
      "cell_type": "markdown",
      "metadata": {
        "id": "tKDtap61YaiH"
      },
      "source": [
        "`pivot_longer` will keep all these explicitly missing values by default."
      ]
    },
    {
      "cell_type": "code",
      "metadata": {
        "id": "Hj67tcBXYaiI",
        "colab": {
          "base_uri": "https://localhost:8080/",
          "height": 349
        },
        "outputId": "2e53a1a3-2f00-407b-fa4f-3029c7fb68b7"
      },
      "source": [
        "stocks_wide %>% pivot_longer(cols = `2015`:`2016`, names_to = 'Year') %>%\n",
        "arrange(Year)"
      ],
      "execution_count": null,
      "outputs": [
        {
          "output_type": "display_data",
          "data": {
            "text/html": [
              "<table class=\"dataframe\">\n",
              "<caption>A tibble: 8 × 3</caption>\n",
              "<thead>\n",
              "\t<tr><th scope=col>Qtr</th><th scope=col>Year</th><th scope=col>value</th></tr>\n",
              "\t<tr><th scope=col>&lt;dbl&gt;</th><th scope=col>&lt;chr&gt;</th><th scope=col>&lt;dbl&gt;</th></tr>\n",
              "</thead>\n",
              "<tbody>\n",
              "\t<tr><td>1</td><td>2015</td><td>1.88</td></tr>\n",
              "\t<tr><td>2</td><td>2015</td><td>0.59</td></tr>\n",
              "\t<tr><td>3</td><td>2015</td><td>0.35</td></tr>\n",
              "\t<tr><td>4</td><td>2015</td><td>  NA</td></tr>\n",
              "\t<tr><td>1</td><td>2016</td><td>  NA</td></tr>\n",
              "\t<tr><td>2</td><td>2016</td><td>0.92</td></tr>\n",
              "\t<tr><td>3</td><td>2016</td><td>0.17</td></tr>\n",
              "\t<tr><td>4</td><td>2016</td><td>2.66</td></tr>\n",
              "</tbody>\n",
              "</table>\n"
            ],
            "text/markdown": "\nA tibble: 8 × 3\n\n| Qtr &lt;dbl&gt; | Year &lt;chr&gt; | value &lt;dbl&gt; |\n|---|---|---|\n| 1 | 2015 | 1.88 |\n| 2 | 2015 | 0.59 |\n| 3 | 2015 | 0.35 |\n| 4 | 2015 |   NA |\n| 1 | 2016 |   NA |\n| 2 | 2016 | 0.92 |\n| 3 | 2016 | 0.17 |\n| 4 | 2016 | 2.66 |\n\n",
            "text/latex": "A tibble: 8 × 3\n\\begin{tabular}{lll}\n Qtr & Year & value\\\\\n <dbl> & <chr> & <dbl>\\\\\n\\hline\n\t 1 & 2015 & 1.88\\\\\n\t 2 & 2015 & 0.59\\\\\n\t 3 & 2015 & 0.35\\\\\n\t 4 & 2015 &   NA\\\\\n\t 1 & 2016 &   NA\\\\\n\t 2 & 2016 & 0.92\\\\\n\t 3 & 2016 & 0.17\\\\\n\t 4 & 2016 & 2.66\\\\\n\\end{tabular}\n",
            "text/plain": [
              "  Qtr Year value\n",
              "1 1   2015 1.88 \n",
              "2 2   2015 0.59 \n",
              "3 3   2015 0.35 \n",
              "4 4   2015   NA \n",
              "5 1   2016   NA \n",
              "6 2   2016 0.92 \n",
              "7 3   2016 0.17 \n",
              "8 4   2016 2.66 "
            ]
          },
          "metadata": {}
        }
      ]
    },
    {
      "cell_type": "markdown",
      "metadata": {
        "id": "r9arG3BVYaiI"
      },
      "source": [
        "# 2. Cleaning messy data"
      ]
    },
    {
      "cell_type": "code",
      "metadata": {
        "id": "eaDaVF5VYaiI"
      },
      "source": [
        "datacamp_url = \"https://assets.datacamp.com/production/repositories/34/datasets/b3c1036d9a60a9dfe0f99051d2474a54f76055ea/weather.rds\"\n",
        "weather = readRDS(url(datacamp_url))"
      ],
      "execution_count": 13,
      "outputs": []
    },
    {
      "cell_type": "code",
      "metadata": {
        "id": "vOgAOw1sYaiI",
        "colab": {
          "base_uri": "https://localhost:8080/"
        },
        "outputId": "9d498d76-1046-44e6-df3c-17683063f267"
      },
      "source": [
        "weather %>% glimpse"
      ],
      "execution_count": null,
      "outputs": [
        {
          "output_type": "stream",
          "name": "stdout",
          "text": [
            "Rows: 286\n",
            "Columns: 35\n",
            "$ X       \u001b[3m\u001b[90m<int>\u001b[39m\u001b[23m 1, 2, 3, 4, 5, 6, 7, 8, 9, 10, 11, 12, 13, 14, 15, 16, 17, 18,…\n",
            "$ year    \u001b[3m\u001b[90m<int>\u001b[39m\u001b[23m 2014, 2014, 2014, 2014, 2014, 2014, 2014, 2014, 2014, 2014, 20…\n",
            "$ month   \u001b[3m\u001b[90m<int>\u001b[39m\u001b[23m 12, 12, 12, 12, 12, 12, 12, 12, 12, 12, 12, 12, 12, 12, 12, 12…\n",
            "$ measure \u001b[3m\u001b[90m<chr>\u001b[39m\u001b[23m \"Max.TemperatureF\", \"Mean.TemperatureF\", \"Min.TemperatureF\", \"…\n",
            "$ X1      \u001b[3m\u001b[90m<chr>\u001b[39m\u001b[23m \"64\", \"52\", \"39\", \"46\", \"40\", \"26\", \"74\", \"63\", \"52\", \"30.45\",…\n",
            "$ X2      \u001b[3m\u001b[90m<chr>\u001b[39m\u001b[23m \"42\", \"38\", \"33\", \"40\", \"27\", \"17\", \"92\", \"72\", \"51\", \"30.71\",…\n",
            "$ X3      \u001b[3m\u001b[90m<chr>\u001b[39m\u001b[23m \"51\", \"44\", \"37\", \"49\", \"42\", \"24\", \"100\", \"79\", \"57\", \"30.4\",…\n",
            "$ X4      \u001b[3m\u001b[90m<chr>\u001b[39m\u001b[23m \"43\", \"37\", \"30\", \"24\", \"21\", \"13\", \"69\", \"54\", \"39\", \"30.56\",…\n",
            "$ X5      \u001b[3m\u001b[90m<chr>\u001b[39m\u001b[23m \"42\", \"34\", \"26\", \"37\", \"25\", \"12\", \"85\", \"66\", \"47\", \"30.68\",…\n",
            "$ X6      \u001b[3m\u001b[90m<chr>\u001b[39m\u001b[23m \"45\", \"42\", \"38\", \"45\", \"40\", \"36\", \"100\", \"93\", \"85\", \"30.42\"…\n",
            "$ X7      \u001b[3m\u001b[90m<chr>\u001b[39m\u001b[23m \"38\", \"30\", \"21\", \"36\", \"20\", \"-3\", \"92\", \"61\", \"29\", \"30.69\",…\n",
            "$ X8      \u001b[3m\u001b[90m<chr>\u001b[39m\u001b[23m \"29\", \"24\", \"18\", \"28\", \"16\", \"3\", \"92\", \"70\", \"47\", \"30.77\", …\n",
            "$ X9      \u001b[3m\u001b[90m<chr>\u001b[39m\u001b[23m \"49\", \"39\", \"29\", \"49\", \"41\", \"28\", \"100\", \"93\", \"86\", \"30.51\"…\n",
            "$ X10     \u001b[3m\u001b[90m<chr>\u001b[39m\u001b[23m \"48\", \"43\", \"38\", \"45\", \"39\", \"37\", \"100\", \"95\", \"89\", \"29.58\"…\n",
            "$ X11     \u001b[3m\u001b[90m<chr>\u001b[39m\u001b[23m \"39\", \"36\", \"32\", \"37\", \"31\", \"27\", \"92\", \"87\", \"82\", \"29.81\",…\n",
            "$ X12     \u001b[3m\u001b[90m<chr>\u001b[39m\u001b[23m \"39\", \"35\", \"31\", \"28\", \"27\", \"25\", \"85\", \"75\", \"64\", \"29.88\",…\n",
            "$ X13     \u001b[3m\u001b[90m<chr>\u001b[39m\u001b[23m \"42\", \"37\", \"32\", \"28\", \"26\", \"24\", \"75\", \"65\", \"55\", \"29.86\",…\n",
            "$ X14     \u001b[3m\u001b[90m<chr>\u001b[39m\u001b[23m \"45\", \"39\", \"33\", \"29\", \"27\", \"25\", \"82\", \"68\", \"53\", \"29.91\",…\n",
            "$ X15     \u001b[3m\u001b[90m<chr>\u001b[39m\u001b[23m \"42\", \"37\", \"32\", \"33\", \"29\", \"27\", \"89\", \"75\", \"60\", \"30.15\",…\n",
            "$ X16     \u001b[3m\u001b[90m<chr>\u001b[39m\u001b[23m \"44\", \"40\", \"35\", \"42\", \"36\", \"30\", \"96\", \"85\", \"73\", \"30.17\",…\n",
            "$ X17     \u001b[3m\u001b[90m<chr>\u001b[39m\u001b[23m \"49\", \"45\", \"41\", \"46\", \"41\", \"32\", \"100\", \"85\", \"70\", \"29.91\"…\n",
            "$ X18     \u001b[3m\u001b[90m<chr>\u001b[39m\u001b[23m \"44\", \"40\", \"36\", \"34\", \"30\", \"26\", \"89\", \"73\", \"57\", \"29.87\",…\n",
            "$ X19     \u001b[3m\u001b[90m<chr>\u001b[39m\u001b[23m \"37\", \"33\", \"29\", \"25\", \"22\", \"20\", \"69\", \"63\", \"56\", \"30.15\",…\n",
            "$ X20     \u001b[3m\u001b[90m<chr>\u001b[39m\u001b[23m \"36\", \"32\", \"27\", \"30\", \"24\", \"20\", \"89\", \"79\", \"69\", \"30.31\",…\n",
            "$ X21     \u001b[3m\u001b[90m<chr>\u001b[39m\u001b[23m \"36\", \"33\", \"30\", \"30\", \"27\", \"25\", \"85\", \"77\", \"69\", \"30.37\",…\n",
            "$ X22     \u001b[3m\u001b[90m<chr>\u001b[39m\u001b[23m \"44\", \"39\", \"33\", \"39\", \"34\", \"25\", \"89\", \"79\", \"69\", \"30.4\", …\n",
            "$ X23     \u001b[3m\u001b[90m<chr>\u001b[39m\u001b[23m \"47\", \"45\", \"42\", \"45\", \"42\", \"37\", \"100\", \"91\", \"82\", \"30.31\"…\n",
            "$ X24     \u001b[3m\u001b[90m<chr>\u001b[39m\u001b[23m \"46\", \"44\", \"41\", \"46\", \"44\", \"41\", \"100\", \"98\", \"96\", \"30.13\"…\n",
            "$ X25     \u001b[3m\u001b[90m<chr>\u001b[39m\u001b[23m \"59\", \"52\", \"44\", \"58\", \"43\", \"29\", \"100\", \"75\", \"49\", \"29.96\"…\n",
            "$ X26     \u001b[3m\u001b[90m<chr>\u001b[39m\u001b[23m \"50\", \"44\", \"37\", \"31\", \"29\", \"28\", \"70\", \"60\", \"49\", \"30.16\",…\n",
            "$ X27     \u001b[3m\u001b[90m<chr>\u001b[39m\u001b[23m \"52\", \"45\", \"38\", \"34\", \"31\", \"29\", \"70\", \"60\", \"50\", \"30.22\",…\n",
            "$ X28     \u001b[3m\u001b[90m<chr>\u001b[39m\u001b[23m \"52\", \"46\", \"40\", \"42\", \"35\", \"27\", \"76\", \"65\", \"53\", \"29.99\",…\n",
            "$ X29     \u001b[3m\u001b[90m<chr>\u001b[39m\u001b[23m \"41\", \"36\", \"30\", \"26\", \"20\", \"10\", \"64\", \"51\", \"37\", \"30.22\",…\n",
            "$ X30     \u001b[3m\u001b[90m<chr>\u001b[39m\u001b[23m \"30\", \"26\", \"22\", \"10\", \"4\", \"-6\", \"50\", \"38\", \"26\", \"30.36\", …\n",
            "$ X31     \u001b[3m\u001b[90m<chr>\u001b[39m\u001b[23m \"30\", \"25\", \"20\", \"8\", \"5\", \"1\", \"57\", \"44\", \"31\", \"30.32\", \"3…\n"
          ]
        }
      ]
    },
    {
      "cell_type": "code",
      "metadata": {
        "scrolled": true,
        "id": "P5jWTJn5YaiJ"
      },
      "source": [
        "weather %>% head"
      ],
      "execution_count": null,
      "outputs": []
    },
    {
      "cell_type": "markdown",
      "metadata": {
        "id": "c4y48JEUYaiJ"
      },
      "source": [
        "The first column lists row number, so let's ignore it."
      ]
    },
    {
      "cell_type": "code",
      "metadata": {
        "id": "QgaGu4YuYaiJ"
      },
      "source": [
        "weather <- weather %>% select(-X)"
      ],
      "execution_count": 14,
      "outputs": []
    },
    {
      "cell_type": "markdown",
      "metadata": {
        "id": "H_RDtl2BYaiK"
      },
      "source": [
        "It looks like the values for the weather measurements (column 3) for each day of the month are stored in the columns `X1` to `X31`. From a **tidy data** perspective, the data set is messy because:\n",
        "* Values are given as column names (`X1` to `X31`)\n",
        "* variable names are represented as values (column 3 - `measure`)\n",
        "\n",
        "We can correct it by using `pivot_longer`."
      ]
    },
    {
      "cell_type": "code",
      "metadata": {
        "id": "bMClv-CmYaiK",
        "colab": {
          "base_uri": "https://localhost:8080/",
          "height": 286
        },
        "outputId": "3c35d131-0a1f-4e78-aec1-a4a3a0af203b"
      },
      "source": [
        "tidy_weather <- weather %>% \n",
        "  pivot_longer(cols = `X1`:`X31`, names_to = 'day', values_to = \"value\") %>%\n",
        "  select(year, month, day, everything())\n",
        "\n",
        "head(tidy_weather)"
      ],
      "execution_count": 15,
      "outputs": [
        {
          "output_type": "display_data",
          "data": {
            "text/html": [
              "<table class=\"dataframe\">\n",
              "<caption>A tibble: 6 × 5</caption>\n",
              "<thead>\n",
              "\t<tr><th scope=col>year</th><th scope=col>month</th><th scope=col>day</th><th scope=col>measure</th><th scope=col>value</th></tr>\n",
              "\t<tr><th scope=col>&lt;int&gt;</th><th scope=col>&lt;int&gt;</th><th scope=col>&lt;chr&gt;</th><th scope=col>&lt;chr&gt;</th><th scope=col>&lt;chr&gt;</th></tr>\n",
              "</thead>\n",
              "<tbody>\n",
              "\t<tr><td>2014</td><td>12</td><td>X1</td><td>Max.TemperatureF</td><td>64</td></tr>\n",
              "\t<tr><td>2014</td><td>12</td><td>X2</td><td>Max.TemperatureF</td><td>42</td></tr>\n",
              "\t<tr><td>2014</td><td>12</td><td>X3</td><td>Max.TemperatureF</td><td>51</td></tr>\n",
              "\t<tr><td>2014</td><td>12</td><td>X4</td><td>Max.TemperatureF</td><td>43</td></tr>\n",
              "\t<tr><td>2014</td><td>12</td><td>X5</td><td>Max.TemperatureF</td><td>42</td></tr>\n",
              "\t<tr><td>2014</td><td>12</td><td>X6</td><td>Max.TemperatureF</td><td>45</td></tr>\n",
              "</tbody>\n",
              "</table>\n"
            ],
            "text/markdown": "\nA tibble: 6 × 5\n\n| year &lt;int&gt; | month &lt;int&gt; | day &lt;chr&gt; | measure &lt;chr&gt; | value &lt;chr&gt; |\n|---|---|---|---|---|\n| 2014 | 12 | X1 | Max.TemperatureF | 64 |\n| 2014 | 12 | X2 | Max.TemperatureF | 42 |\n| 2014 | 12 | X3 | Max.TemperatureF | 51 |\n| 2014 | 12 | X4 | Max.TemperatureF | 43 |\n| 2014 | 12 | X5 | Max.TemperatureF | 42 |\n| 2014 | 12 | X6 | Max.TemperatureF | 45 |\n\n",
            "text/latex": "A tibble: 6 × 5\n\\begin{tabular}{lllll}\n year & month & day & measure & value\\\\\n <int> & <int> & <chr> & <chr> & <chr>\\\\\n\\hline\n\t 2014 & 12 & X1 & Max.TemperatureF & 64\\\\\n\t 2014 & 12 & X2 & Max.TemperatureF & 42\\\\\n\t 2014 & 12 & X3 & Max.TemperatureF & 51\\\\\n\t 2014 & 12 & X4 & Max.TemperatureF & 43\\\\\n\t 2014 & 12 & X5 & Max.TemperatureF & 42\\\\\n\t 2014 & 12 & X6 & Max.TemperatureF & 45\\\\\n\\end{tabular}\n",
            "text/plain": [
              "  year month day measure          value\n",
              "1 2014 12    X1  Max.TemperatureF 64   \n",
              "2 2014 12    X2  Max.TemperatureF 42   \n",
              "3 2014 12    X3  Max.TemperatureF 51   \n",
              "4 2014 12    X4  Max.TemperatureF 43   \n",
              "5 2014 12    X5  Max.TemperatureF 42   \n",
              "6 2014 12    X6  Max.TemperatureF 45   "
            ]
          },
          "metadata": {}
        }
      ]
    },
    {
      "cell_type": "markdown",
      "metadata": {
        "id": "cjdc2vhgYaiK"
      },
      "source": [
        "The values in the column `measure` of the weather dataset should be variables."
      ]
    },
    {
      "cell_type": "code",
      "metadata": {
        "id": "zDqrNOPIYaiK",
        "colab": {
          "base_uri": "https://localhost:8080/",
          "height": 324
        },
        "outputId": "845a4c96-5334-4ec8-9bbd-77f9a993a35f"
      },
      "source": [
        "tidy_weather <- tidy_weather %>% \n",
        "  pivot_wider(names_from = measure, values_from = value)\n",
        "\n",
        "head(tidy_weather)"
      ],
      "execution_count": 16,
      "outputs": [
        {
          "output_type": "display_data",
          "data": {
            "text/html": [
              "<table class=\"dataframe\">\n",
              "<caption>A tibble: 6 × 25</caption>\n",
              "<thead>\n",
              "\t<tr><th scope=col>year</th><th scope=col>month</th><th scope=col>day</th><th scope=col>Max.TemperatureF</th><th scope=col>Mean.TemperatureF</th><th scope=col>Min.TemperatureF</th><th scope=col>Max.Dew.PointF</th><th scope=col>MeanDew.PointF</th><th scope=col>Min.DewpointF</th><th scope=col>Max.Humidity</th><th scope=col>⋯</th><th scope=col>Max.VisibilityMiles</th><th scope=col>Mean.VisibilityMiles</th><th scope=col>Min.VisibilityMiles</th><th scope=col>Max.Wind.SpeedMPH</th><th scope=col>Mean.Wind.SpeedMPH</th><th scope=col>Max.Gust.SpeedMPH</th><th scope=col>PrecipitationIn</th><th scope=col>CloudCover</th><th scope=col>Events</th><th scope=col>WindDirDegrees</th></tr>\n",
              "\t<tr><th scope=col>&lt;int&gt;</th><th scope=col>&lt;int&gt;</th><th scope=col>&lt;chr&gt;</th><th scope=col>&lt;chr&gt;</th><th scope=col>&lt;chr&gt;</th><th scope=col>&lt;chr&gt;</th><th scope=col>&lt;chr&gt;</th><th scope=col>&lt;chr&gt;</th><th scope=col>&lt;chr&gt;</th><th scope=col>&lt;chr&gt;</th><th scope=col>⋯</th><th scope=col>&lt;chr&gt;</th><th scope=col>&lt;chr&gt;</th><th scope=col>&lt;chr&gt;</th><th scope=col>&lt;chr&gt;</th><th scope=col>&lt;chr&gt;</th><th scope=col>&lt;chr&gt;</th><th scope=col>&lt;chr&gt;</th><th scope=col>&lt;chr&gt;</th><th scope=col>&lt;chr&gt;</th><th scope=col>&lt;chr&gt;</th></tr>\n",
              "</thead>\n",
              "<tbody>\n",
              "\t<tr><td>2014</td><td>12</td><td>X1</td><td>64</td><td>52</td><td>39</td><td>46</td><td>40</td><td>26</td><td>74 </td><td>⋯</td><td>10</td><td>10</td><td>10</td><td>22</td><td>13</td><td>29</td><td>0.01</td><td>6</td><td>Rain     </td><td>268</td></tr>\n",
              "\t<tr><td>2014</td><td>12</td><td>X2</td><td>42</td><td>38</td><td>33</td><td>40</td><td>27</td><td>17</td><td>92 </td><td>⋯</td><td>10</td><td>8 </td><td>2 </td><td>24</td><td>15</td><td>29</td><td>0.10</td><td>7</td><td>Rain-Snow</td><td>62 </td></tr>\n",
              "\t<tr><td>2014</td><td>12</td><td>X3</td><td>51</td><td>44</td><td>37</td><td>49</td><td>42</td><td>24</td><td>100</td><td>⋯</td><td>10</td><td>5 </td><td>1 </td><td>29</td><td>12</td><td>38</td><td>0.44</td><td>8</td><td>Rain     </td><td>254</td></tr>\n",
              "\t<tr><td>2014</td><td>12</td><td>X4</td><td>43</td><td>37</td><td>30</td><td>24</td><td>21</td><td>13</td><td>69 </td><td>⋯</td><td>10</td><td>10</td><td>10</td><td>25</td><td>12</td><td>33</td><td>0.00</td><td>3</td><td>         </td><td>292</td></tr>\n",
              "\t<tr><td>2014</td><td>12</td><td>X5</td><td>42</td><td>34</td><td>26</td><td>37</td><td>25</td><td>12</td><td>85 </td><td>⋯</td><td>10</td><td>10</td><td>5 </td><td>22</td><td>10</td><td>26</td><td>0.11</td><td>5</td><td>Rain     </td><td>61 </td></tr>\n",
              "\t<tr><td>2014</td><td>12</td><td>X6</td><td>45</td><td>42</td><td>38</td><td>45</td><td>40</td><td>36</td><td>100</td><td>⋯</td><td>10</td><td>4 </td><td>0 </td><td>22</td><td>8 </td><td>25</td><td>1.09</td><td>8</td><td>Rain     </td><td>313</td></tr>\n",
              "</tbody>\n",
              "</table>\n"
            ],
            "text/markdown": "\nA tibble: 6 × 25\n\n| year &lt;int&gt; | month &lt;int&gt; | day &lt;chr&gt; | Max.TemperatureF &lt;chr&gt; | Mean.TemperatureF &lt;chr&gt; | Min.TemperatureF &lt;chr&gt; | Max.Dew.PointF &lt;chr&gt; | MeanDew.PointF &lt;chr&gt; | Min.DewpointF &lt;chr&gt; | Max.Humidity &lt;chr&gt; | ⋯ ⋯ | Max.VisibilityMiles &lt;chr&gt; | Mean.VisibilityMiles &lt;chr&gt; | Min.VisibilityMiles &lt;chr&gt; | Max.Wind.SpeedMPH &lt;chr&gt; | Mean.Wind.SpeedMPH &lt;chr&gt; | Max.Gust.SpeedMPH &lt;chr&gt; | PrecipitationIn &lt;chr&gt; | CloudCover &lt;chr&gt; | Events &lt;chr&gt; | WindDirDegrees &lt;chr&gt; |\n|---|---|---|---|---|---|---|---|---|---|---|---|---|---|---|---|---|---|---|---|---|\n| 2014 | 12 | X1 | 64 | 52 | 39 | 46 | 40 | 26 | 74  | ⋯ | 10 | 10 | 10 | 22 | 13 | 29 | 0.01 | 6 | Rain      | 268 |\n| 2014 | 12 | X2 | 42 | 38 | 33 | 40 | 27 | 17 | 92  | ⋯ | 10 | 8  | 2  | 24 | 15 | 29 | 0.10 | 7 | Rain-Snow | 62  |\n| 2014 | 12 | X3 | 51 | 44 | 37 | 49 | 42 | 24 | 100 | ⋯ | 10 | 5  | 1  | 29 | 12 | 38 | 0.44 | 8 | Rain      | 254 |\n| 2014 | 12 | X4 | 43 | 37 | 30 | 24 | 21 | 13 | 69  | ⋯ | 10 | 10 | 10 | 25 | 12 | 33 | 0.00 | 3 | <!----> | 292 |\n| 2014 | 12 | X5 | 42 | 34 | 26 | 37 | 25 | 12 | 85  | ⋯ | 10 | 10 | 5  | 22 | 10 | 26 | 0.11 | 5 | Rain      | 61  |\n| 2014 | 12 | X6 | 45 | 42 | 38 | 45 | 40 | 36 | 100 | ⋯ | 10 | 4  | 0  | 22 | 8  | 25 | 1.09 | 8 | Rain      | 313 |\n\n",
            "text/latex": "A tibble: 6 × 25\n\\begin{tabular}{lllllllllllllllllllll}\n year & month & day & Max.TemperatureF & Mean.TemperatureF & Min.TemperatureF & Max.Dew.PointF & MeanDew.PointF & Min.DewpointF & Max.Humidity & ⋯ & Max.VisibilityMiles & Mean.VisibilityMiles & Min.VisibilityMiles & Max.Wind.SpeedMPH & Mean.Wind.SpeedMPH & Max.Gust.SpeedMPH & PrecipitationIn & CloudCover & Events & WindDirDegrees\\\\\n <int> & <int> & <chr> & <chr> & <chr> & <chr> & <chr> & <chr> & <chr> & <chr> & ⋯ & <chr> & <chr> & <chr> & <chr> & <chr> & <chr> & <chr> & <chr> & <chr> & <chr>\\\\\n\\hline\n\t 2014 & 12 & X1 & 64 & 52 & 39 & 46 & 40 & 26 & 74  & ⋯ & 10 & 10 & 10 & 22 & 13 & 29 & 0.01 & 6 & Rain      & 268\\\\\n\t 2014 & 12 & X2 & 42 & 38 & 33 & 40 & 27 & 17 & 92  & ⋯ & 10 & 8  & 2  & 24 & 15 & 29 & 0.10 & 7 & Rain-Snow & 62 \\\\\n\t 2014 & 12 & X3 & 51 & 44 & 37 & 49 & 42 & 24 & 100 & ⋯ & 10 & 5  & 1  & 29 & 12 & 38 & 0.44 & 8 & Rain      & 254\\\\\n\t 2014 & 12 & X4 & 43 & 37 & 30 & 24 & 21 & 13 & 69  & ⋯ & 10 & 10 & 10 & 25 & 12 & 33 & 0.00 & 3 &           & 292\\\\\n\t 2014 & 12 & X5 & 42 & 34 & 26 & 37 & 25 & 12 & 85  & ⋯ & 10 & 10 & 5  & 22 & 10 & 26 & 0.11 & 5 & Rain      & 61 \\\\\n\t 2014 & 12 & X6 & 45 & 42 & 38 & 45 & 40 & 36 & 100 & ⋯ & 10 & 4  & 0  & 22 & 8  & 25 & 1.09 & 8 & Rain      & 313\\\\\n\\end{tabular}\n",
            "text/plain": [
              "  year month day Max.TemperatureF Mean.TemperatureF Min.TemperatureF\n",
              "1 2014 12    X1  64               52                39              \n",
              "2 2014 12    X2  42               38                33              \n",
              "3 2014 12    X3  51               44                37              \n",
              "4 2014 12    X4  43               37                30              \n",
              "5 2014 12    X5  42               34                26              \n",
              "6 2014 12    X6  45               42                38              \n",
              "  Max.Dew.PointF MeanDew.PointF Min.DewpointF Max.Humidity ⋯\n",
              "1 46             40             26            74           ⋯\n",
              "2 40             27             17            92           ⋯\n",
              "3 49             42             24            100          ⋯\n",
              "4 24             21             13            69           ⋯\n",
              "5 37             25             12            85           ⋯\n",
              "6 45             40             36            100          ⋯\n",
              "  Max.VisibilityMiles Mean.VisibilityMiles Min.VisibilityMiles\n",
              "1 10                  10                   10                 \n",
              "2 10                  8                    2                  \n",
              "3 10                  5                    1                  \n",
              "4 10                  10                   10                 \n",
              "5 10                  10                   5                  \n",
              "6 10                  4                    0                  \n",
              "  Max.Wind.SpeedMPH Mean.Wind.SpeedMPH Max.Gust.SpeedMPH PrecipitationIn\n",
              "1 22                13                 29                0.01           \n",
              "2 24                15                 29                0.10           \n",
              "3 29                12                 38                0.44           \n",
              "4 25                12                 33                0.00           \n",
              "5 22                10                 26                0.11           \n",
              "6 22                8                  25                1.09           \n",
              "  CloudCover Events    WindDirDegrees\n",
              "1 6          Rain      268           \n",
              "2 7          Rain-Snow 62            \n",
              "3 8          Rain      254           \n",
              "4 3                    292           \n",
              "5 5          Rain      61            \n",
              "6 8          Rain      313           "
            ]
          },
          "metadata": {}
        }
      ]
    },
    {
      "cell_type": "code",
      "metadata": {
        "id": "QPj3peGWYaiL",
        "colab": {
          "base_uri": "https://localhost:8080/"
        },
        "outputId": "435afe66-f0d6-468b-e4cd-a3f7a3d4a89f"
      },
      "source": [
        "tidy_weather %>% glimpse"
      ],
      "execution_count": 5,
      "outputs": [
        {
          "output_type": "stream",
          "name": "stdout",
          "text": [
            "Rows: 8,866\n",
            "Columns: 26\n",
            "$ year                      \u001b[3m\u001b[90m<int>\u001b[39m\u001b[23m 2014, 2014, 2014, 2014, 2014, 2014, 2014, 20…\n",
            "$ month                     \u001b[3m\u001b[90m<int>\u001b[39m\u001b[23m 12, 12, 12, 12, 12, 12, 12, 12, 12, 12, 12, …\n",
            "$ day                       \u001b[3m\u001b[90m<chr>\u001b[39m\u001b[23m \"X1\", \"X2\", \"X3\", \"X4\", \"X5\", \"X6\", \"X7\", \"X…\n",
            "$ X                         \u001b[3m\u001b[90m<int>\u001b[39m\u001b[23m 1, 1, 1, 1, 1, 1, 1, 1, 1, 1, 1, 1, 1, 1, 1,…\n",
            "$ Max.TemperatureF          \u001b[3m\u001b[90m<chr>\u001b[39m\u001b[23m \"64\", \"42\", \"51\", \"43\", \"42\", \"45\", \"38\", \"2…\n",
            "$ Mean.TemperatureF         \u001b[3m\u001b[90m<chr>\u001b[39m\u001b[23m NA, NA, NA, NA, NA, NA, NA, NA, NA, NA, NA, …\n",
            "$ Min.TemperatureF          \u001b[3m\u001b[90m<chr>\u001b[39m\u001b[23m NA, NA, NA, NA, NA, NA, NA, NA, NA, NA, NA, …\n",
            "$ Max.Dew.PointF            \u001b[3m\u001b[90m<chr>\u001b[39m\u001b[23m NA, NA, NA, NA, NA, NA, NA, NA, NA, NA, NA, …\n",
            "$ MeanDew.PointF            \u001b[3m\u001b[90m<chr>\u001b[39m\u001b[23m NA, NA, NA, NA, NA, NA, NA, NA, NA, NA, NA, …\n",
            "$ Min.DewpointF             \u001b[3m\u001b[90m<chr>\u001b[39m\u001b[23m NA, NA, NA, NA, NA, NA, NA, NA, NA, NA, NA, …\n",
            "$ Max.Humidity              \u001b[3m\u001b[90m<chr>\u001b[39m\u001b[23m NA, NA, NA, NA, NA, NA, NA, NA, NA, NA, NA, …\n",
            "$ Mean.Humidity             \u001b[3m\u001b[90m<chr>\u001b[39m\u001b[23m NA, NA, NA, NA, NA, NA, NA, NA, NA, NA, NA, …\n",
            "$ Min.Humidity              \u001b[3m\u001b[90m<chr>\u001b[39m\u001b[23m NA, NA, NA, NA, NA, NA, NA, NA, NA, NA, NA, …\n",
            "$ Max.Sea.Level.PressureIn  \u001b[3m\u001b[90m<chr>\u001b[39m\u001b[23m NA, NA, NA, NA, NA, NA, NA, NA, NA, NA, NA, …\n",
            "$ Mean.Sea.Level.PressureIn \u001b[3m\u001b[90m<chr>\u001b[39m\u001b[23m NA, NA, NA, NA, NA, NA, NA, NA, NA, NA, NA, …\n",
            "$ Min.Sea.Level.PressureIn  \u001b[3m\u001b[90m<chr>\u001b[39m\u001b[23m NA, NA, NA, NA, NA, NA, NA, NA, NA, NA, NA, …\n",
            "$ Max.VisibilityMiles       \u001b[3m\u001b[90m<chr>\u001b[39m\u001b[23m NA, NA, NA, NA, NA, NA, NA, NA, NA, NA, NA, …\n",
            "$ Mean.VisibilityMiles      \u001b[3m\u001b[90m<chr>\u001b[39m\u001b[23m NA, NA, NA, NA, NA, NA, NA, NA, NA, NA, NA, …\n",
            "$ Min.VisibilityMiles       \u001b[3m\u001b[90m<chr>\u001b[39m\u001b[23m NA, NA, NA, NA, NA, NA, NA, NA, NA, NA, NA, …\n",
            "$ Max.Wind.SpeedMPH         \u001b[3m\u001b[90m<chr>\u001b[39m\u001b[23m NA, NA, NA, NA, NA, NA, NA, NA, NA, NA, NA, …\n",
            "$ Mean.Wind.SpeedMPH        \u001b[3m\u001b[90m<chr>\u001b[39m\u001b[23m NA, NA, NA, NA, NA, NA, NA, NA, NA, NA, NA, …\n",
            "$ Max.Gust.SpeedMPH         \u001b[3m\u001b[90m<chr>\u001b[39m\u001b[23m NA, NA, NA, NA, NA, NA, NA, NA, NA, NA, NA, …\n",
            "$ PrecipitationIn           \u001b[3m\u001b[90m<chr>\u001b[39m\u001b[23m NA, NA, NA, NA, NA, NA, NA, NA, NA, NA, NA, …\n",
            "$ CloudCover                \u001b[3m\u001b[90m<chr>\u001b[39m\u001b[23m NA, NA, NA, NA, NA, NA, NA, NA, NA, NA, NA, …\n",
            "$ Events                    \u001b[3m\u001b[90m<chr>\u001b[39m\u001b[23m NA, NA, NA, NA, NA, NA, NA, NA, NA, NA, NA, …\n",
            "$ WindDirDegrees            \u001b[3m\u001b[90m<chr>\u001b[39m\u001b[23m NA, NA, NA, NA, NA, NA, NA, NA, NA, NA, NA, …\n"
          ]
        }
      ]
    },
    {
      "cell_type": "markdown",
      "metadata": {
        "id": "5FE4EUgxYaiL"
      },
      "source": [
        "A few things about this data set are still odd. For one, the names of days start with an `X`. We can fix this with the `str_replace` function. We saw this a few labs back, but let's review!"
      ]
    },
    {
      "cell_type": "code",
      "metadata": {
        "scrolled": false,
        "id": "zVG1C20rYaiL"
      },
      "source": [
        "\n",
        "# str_replace replaces only the first instance of a substring (2nd arg)\n",
        "str_replace(\"tattoo\", \"t\", \"l\")\n",
        "\n",
        "str_replace(\"tattoo\", \"tatt\", \"yah\")\n",
        "\n",
        "# use replace all to replace multiple occurrences\n",
        "str_replace_all(\"tattoo\", \"t\", \"b\")\n",
        "\n",
        "# Replace $ with nothing, so it removes the dollar sign\n",
        "# we are applying this function to a vector!\n",
        "# notice the use of \\\\...\n",
        "# this is because $ is a reserved regex character\n",
        "cost = c(\"$8\", \"12.5$\", \"$45\")\n",
        "cost = str_replace_all(cost, \"\\\\$\", \"\")\n",
        "print(cost) \n",
        "\n",
        "#change its type to numeric\n",
        "cost = as.numeric(cost)\n",
        "print(cost)"
      ],
      "execution_count": null,
      "outputs": []
    },
    {
      "cell_type": "markdown",
      "metadata": {
        "id": "XYDP1rHQYaiM"
      },
      "source": [
        "#### Exercise 1: Remove `X` from the `day` entries and change its type to `numeric`"
      ]
    },
    {
      "cell_type": "code",
      "metadata": {
        "scrolled": true,
        "id": "aXX9p46HYaiM",
        "colab": {
          "base_uri": "https://localhost:8080/",
          "height": 324
        },
        "outputId": "2e3e1634-05d5-47f1-d383-77e243c5179b"
      },
      "source": [
        "tidy_weather <- tidy_weather %>% mutate(day = as.numeric(str_replace(day, \"X\", \"\")))\n",
        "tidy_weather %>% head"
      ],
      "execution_count": 17,
      "outputs": [
        {
          "output_type": "display_data",
          "data": {
            "text/html": [
              "<table class=\"dataframe\">\n",
              "<caption>A tibble: 6 × 25</caption>\n",
              "<thead>\n",
              "\t<tr><th scope=col>year</th><th scope=col>month</th><th scope=col>day</th><th scope=col>Max.TemperatureF</th><th scope=col>Mean.TemperatureF</th><th scope=col>Min.TemperatureF</th><th scope=col>Max.Dew.PointF</th><th scope=col>MeanDew.PointF</th><th scope=col>Min.DewpointF</th><th scope=col>Max.Humidity</th><th scope=col>⋯</th><th scope=col>Max.VisibilityMiles</th><th scope=col>Mean.VisibilityMiles</th><th scope=col>Min.VisibilityMiles</th><th scope=col>Max.Wind.SpeedMPH</th><th scope=col>Mean.Wind.SpeedMPH</th><th scope=col>Max.Gust.SpeedMPH</th><th scope=col>PrecipitationIn</th><th scope=col>CloudCover</th><th scope=col>Events</th><th scope=col>WindDirDegrees</th></tr>\n",
              "\t<tr><th scope=col>&lt;int&gt;</th><th scope=col>&lt;int&gt;</th><th scope=col>&lt;dbl&gt;</th><th scope=col>&lt;chr&gt;</th><th scope=col>&lt;chr&gt;</th><th scope=col>&lt;chr&gt;</th><th scope=col>&lt;chr&gt;</th><th scope=col>&lt;chr&gt;</th><th scope=col>&lt;chr&gt;</th><th scope=col>&lt;chr&gt;</th><th scope=col>⋯</th><th scope=col>&lt;chr&gt;</th><th scope=col>&lt;chr&gt;</th><th scope=col>&lt;chr&gt;</th><th scope=col>&lt;chr&gt;</th><th scope=col>&lt;chr&gt;</th><th scope=col>&lt;chr&gt;</th><th scope=col>&lt;chr&gt;</th><th scope=col>&lt;chr&gt;</th><th scope=col>&lt;chr&gt;</th><th scope=col>&lt;chr&gt;</th></tr>\n",
              "</thead>\n",
              "<tbody>\n",
              "\t<tr><td>2014</td><td>12</td><td>1</td><td>64</td><td>52</td><td>39</td><td>46</td><td>40</td><td>26</td><td>74 </td><td>⋯</td><td>10</td><td>10</td><td>10</td><td>22</td><td>13</td><td>29</td><td>0.01</td><td>6</td><td>Rain     </td><td>268</td></tr>\n",
              "\t<tr><td>2014</td><td>12</td><td>2</td><td>42</td><td>38</td><td>33</td><td>40</td><td>27</td><td>17</td><td>92 </td><td>⋯</td><td>10</td><td>8 </td><td>2 </td><td>24</td><td>15</td><td>29</td><td>0.10</td><td>7</td><td>Rain-Snow</td><td>62 </td></tr>\n",
              "\t<tr><td>2014</td><td>12</td><td>3</td><td>51</td><td>44</td><td>37</td><td>49</td><td>42</td><td>24</td><td>100</td><td>⋯</td><td>10</td><td>5 </td><td>1 </td><td>29</td><td>12</td><td>38</td><td>0.44</td><td>8</td><td>Rain     </td><td>254</td></tr>\n",
              "\t<tr><td>2014</td><td>12</td><td>4</td><td>43</td><td>37</td><td>30</td><td>24</td><td>21</td><td>13</td><td>69 </td><td>⋯</td><td>10</td><td>10</td><td>10</td><td>25</td><td>12</td><td>33</td><td>0.00</td><td>3</td><td>         </td><td>292</td></tr>\n",
              "\t<tr><td>2014</td><td>12</td><td>5</td><td>42</td><td>34</td><td>26</td><td>37</td><td>25</td><td>12</td><td>85 </td><td>⋯</td><td>10</td><td>10</td><td>5 </td><td>22</td><td>10</td><td>26</td><td>0.11</td><td>5</td><td>Rain     </td><td>61 </td></tr>\n",
              "\t<tr><td>2014</td><td>12</td><td>6</td><td>45</td><td>42</td><td>38</td><td>45</td><td>40</td><td>36</td><td>100</td><td>⋯</td><td>10</td><td>4 </td><td>0 </td><td>22</td><td>8 </td><td>25</td><td>1.09</td><td>8</td><td>Rain     </td><td>313</td></tr>\n",
              "</tbody>\n",
              "</table>\n"
            ],
            "text/markdown": "\nA tibble: 6 × 25\n\n| year &lt;int&gt; | month &lt;int&gt; | day &lt;dbl&gt; | Max.TemperatureF &lt;chr&gt; | Mean.TemperatureF &lt;chr&gt; | Min.TemperatureF &lt;chr&gt; | Max.Dew.PointF &lt;chr&gt; | MeanDew.PointF &lt;chr&gt; | Min.DewpointF &lt;chr&gt; | Max.Humidity &lt;chr&gt; | ⋯ ⋯ | Max.VisibilityMiles &lt;chr&gt; | Mean.VisibilityMiles &lt;chr&gt; | Min.VisibilityMiles &lt;chr&gt; | Max.Wind.SpeedMPH &lt;chr&gt; | Mean.Wind.SpeedMPH &lt;chr&gt; | Max.Gust.SpeedMPH &lt;chr&gt; | PrecipitationIn &lt;chr&gt; | CloudCover &lt;chr&gt; | Events &lt;chr&gt; | WindDirDegrees &lt;chr&gt; |\n|---|---|---|---|---|---|---|---|---|---|---|---|---|---|---|---|---|---|---|---|---|\n| 2014 | 12 | 1 | 64 | 52 | 39 | 46 | 40 | 26 | 74  | ⋯ | 10 | 10 | 10 | 22 | 13 | 29 | 0.01 | 6 | Rain      | 268 |\n| 2014 | 12 | 2 | 42 | 38 | 33 | 40 | 27 | 17 | 92  | ⋯ | 10 | 8  | 2  | 24 | 15 | 29 | 0.10 | 7 | Rain-Snow | 62  |\n| 2014 | 12 | 3 | 51 | 44 | 37 | 49 | 42 | 24 | 100 | ⋯ | 10 | 5  | 1  | 29 | 12 | 38 | 0.44 | 8 | Rain      | 254 |\n| 2014 | 12 | 4 | 43 | 37 | 30 | 24 | 21 | 13 | 69  | ⋯ | 10 | 10 | 10 | 25 | 12 | 33 | 0.00 | 3 | <!----> | 292 |\n| 2014 | 12 | 5 | 42 | 34 | 26 | 37 | 25 | 12 | 85  | ⋯ | 10 | 10 | 5  | 22 | 10 | 26 | 0.11 | 5 | Rain      | 61  |\n| 2014 | 12 | 6 | 45 | 42 | 38 | 45 | 40 | 36 | 100 | ⋯ | 10 | 4  | 0  | 22 | 8  | 25 | 1.09 | 8 | Rain      | 313 |\n\n",
            "text/latex": "A tibble: 6 × 25\n\\begin{tabular}{lllllllllllllllllllll}\n year & month & day & Max.TemperatureF & Mean.TemperatureF & Min.TemperatureF & Max.Dew.PointF & MeanDew.PointF & Min.DewpointF & Max.Humidity & ⋯ & Max.VisibilityMiles & Mean.VisibilityMiles & Min.VisibilityMiles & Max.Wind.SpeedMPH & Mean.Wind.SpeedMPH & Max.Gust.SpeedMPH & PrecipitationIn & CloudCover & Events & WindDirDegrees\\\\\n <int> & <int> & <dbl> & <chr> & <chr> & <chr> & <chr> & <chr> & <chr> & <chr> & ⋯ & <chr> & <chr> & <chr> & <chr> & <chr> & <chr> & <chr> & <chr> & <chr> & <chr>\\\\\n\\hline\n\t 2014 & 12 & 1 & 64 & 52 & 39 & 46 & 40 & 26 & 74  & ⋯ & 10 & 10 & 10 & 22 & 13 & 29 & 0.01 & 6 & Rain      & 268\\\\\n\t 2014 & 12 & 2 & 42 & 38 & 33 & 40 & 27 & 17 & 92  & ⋯ & 10 & 8  & 2  & 24 & 15 & 29 & 0.10 & 7 & Rain-Snow & 62 \\\\\n\t 2014 & 12 & 3 & 51 & 44 & 37 & 49 & 42 & 24 & 100 & ⋯ & 10 & 5  & 1  & 29 & 12 & 38 & 0.44 & 8 & Rain      & 254\\\\\n\t 2014 & 12 & 4 & 43 & 37 & 30 & 24 & 21 & 13 & 69  & ⋯ & 10 & 10 & 10 & 25 & 12 & 33 & 0.00 & 3 &           & 292\\\\\n\t 2014 & 12 & 5 & 42 & 34 & 26 & 37 & 25 & 12 & 85  & ⋯ & 10 & 10 & 5  & 22 & 10 & 26 & 0.11 & 5 & Rain      & 61 \\\\\n\t 2014 & 12 & 6 & 45 & 42 & 38 & 45 & 40 & 36 & 100 & ⋯ & 10 & 4  & 0  & 22 & 8  & 25 & 1.09 & 8 & Rain      & 313\\\\\n\\end{tabular}\n",
            "text/plain": [
              "  year month day Max.TemperatureF Mean.TemperatureF Min.TemperatureF\n",
              "1 2014 12    1   64               52                39              \n",
              "2 2014 12    2   42               38                33              \n",
              "3 2014 12    3   51               44                37              \n",
              "4 2014 12    4   43               37                30              \n",
              "5 2014 12    5   42               34                26              \n",
              "6 2014 12    6   45               42                38              \n",
              "  Max.Dew.PointF MeanDew.PointF Min.DewpointF Max.Humidity ⋯\n",
              "1 46             40             26            74           ⋯\n",
              "2 40             27             17            92           ⋯\n",
              "3 49             42             24            100          ⋯\n",
              "4 24             21             13            69           ⋯\n",
              "5 37             25             12            85           ⋯\n",
              "6 45             40             36            100          ⋯\n",
              "  Max.VisibilityMiles Mean.VisibilityMiles Min.VisibilityMiles\n",
              "1 10                  10                   10                 \n",
              "2 10                  8                    2                  \n",
              "3 10                  5                    1                  \n",
              "4 10                  10                   10                 \n",
              "5 10                  10                   5                  \n",
              "6 10                  4                    0                  \n",
              "  Max.Wind.SpeedMPH Mean.Wind.SpeedMPH Max.Gust.SpeedMPH PrecipitationIn\n",
              "1 22                13                 29                0.01           \n",
              "2 24                15                 29                0.10           \n",
              "3 29                12                 38                0.44           \n",
              "4 25                12                 33                0.00           \n",
              "5 22                10                 26                0.11           \n",
              "6 22                8                  25                1.09           \n",
              "  CloudCover Events    WindDirDegrees\n",
              "1 6          Rain      268           \n",
              "2 7          Rain-Snow 62            \n",
              "3 8          Rain      254           \n",
              "4 3                    292           \n",
              "5 5          Rain      61            \n",
              "6 8          Rain      313           "
            ]
          },
          "metadata": {}
        }
      ]
    },
    {
      "cell_type": "markdown",
      "metadata": {
        "id": "B-nk6GkAYaiM"
      },
      "source": [
        "#### Exercise 2: Combine the year, month, and day columns into a new column called `date`.\n",
        "\n",
        "*Hint: Use the `unite` function.*"
      ]
    },
    {
      "cell_type": "code",
      "metadata": {
        "id": "bVaIoSquYaiM",
        "colab": {
          "base_uri": "https://localhost:8080/",
          "height": 324
        },
        "outputId": "f7bcac1a-0c20-462b-9606-21960f7b31a0"
      },
      "source": [
        "tidy_weather <- tidy_weather %>% unite(col=date, year, month, day, remove=FALSE, sep= \".\")\n",
        "tidy_weather %>% head"
      ],
      "execution_count": 18,
      "outputs": [
        {
          "output_type": "display_data",
          "data": {
            "text/html": [
              "<table class=\"dataframe\">\n",
              "<caption>A tibble: 6 × 26</caption>\n",
              "<thead>\n",
              "\t<tr><th scope=col>date</th><th scope=col>year</th><th scope=col>month</th><th scope=col>day</th><th scope=col>Max.TemperatureF</th><th scope=col>Mean.TemperatureF</th><th scope=col>Min.TemperatureF</th><th scope=col>Max.Dew.PointF</th><th scope=col>MeanDew.PointF</th><th scope=col>Min.DewpointF</th><th scope=col>⋯</th><th scope=col>Max.VisibilityMiles</th><th scope=col>Mean.VisibilityMiles</th><th scope=col>Min.VisibilityMiles</th><th scope=col>Max.Wind.SpeedMPH</th><th scope=col>Mean.Wind.SpeedMPH</th><th scope=col>Max.Gust.SpeedMPH</th><th scope=col>PrecipitationIn</th><th scope=col>CloudCover</th><th scope=col>Events</th><th scope=col>WindDirDegrees</th></tr>\n",
              "\t<tr><th scope=col>&lt;chr&gt;</th><th scope=col>&lt;int&gt;</th><th scope=col>&lt;int&gt;</th><th scope=col>&lt;dbl&gt;</th><th scope=col>&lt;chr&gt;</th><th scope=col>&lt;chr&gt;</th><th scope=col>&lt;chr&gt;</th><th scope=col>&lt;chr&gt;</th><th scope=col>&lt;chr&gt;</th><th scope=col>&lt;chr&gt;</th><th scope=col>⋯</th><th scope=col>&lt;chr&gt;</th><th scope=col>&lt;chr&gt;</th><th scope=col>&lt;chr&gt;</th><th scope=col>&lt;chr&gt;</th><th scope=col>&lt;chr&gt;</th><th scope=col>&lt;chr&gt;</th><th scope=col>&lt;chr&gt;</th><th scope=col>&lt;chr&gt;</th><th scope=col>&lt;chr&gt;</th><th scope=col>&lt;chr&gt;</th></tr>\n",
              "</thead>\n",
              "<tbody>\n",
              "\t<tr><td>2014.12.1</td><td>2014</td><td>12</td><td>1</td><td>64</td><td>52</td><td>39</td><td>46</td><td>40</td><td>26</td><td>⋯</td><td>10</td><td>10</td><td>10</td><td>22</td><td>13</td><td>29</td><td>0.01</td><td>6</td><td>Rain     </td><td>268</td></tr>\n",
              "\t<tr><td>2014.12.2</td><td>2014</td><td>12</td><td>2</td><td>42</td><td>38</td><td>33</td><td>40</td><td>27</td><td>17</td><td>⋯</td><td>10</td><td>8 </td><td>2 </td><td>24</td><td>15</td><td>29</td><td>0.10</td><td>7</td><td>Rain-Snow</td><td>62 </td></tr>\n",
              "\t<tr><td>2014.12.3</td><td>2014</td><td>12</td><td>3</td><td>51</td><td>44</td><td>37</td><td>49</td><td>42</td><td>24</td><td>⋯</td><td>10</td><td>5 </td><td>1 </td><td>29</td><td>12</td><td>38</td><td>0.44</td><td>8</td><td>Rain     </td><td>254</td></tr>\n",
              "\t<tr><td>2014.12.4</td><td>2014</td><td>12</td><td>4</td><td>43</td><td>37</td><td>30</td><td>24</td><td>21</td><td>13</td><td>⋯</td><td>10</td><td>10</td><td>10</td><td>25</td><td>12</td><td>33</td><td>0.00</td><td>3</td><td>         </td><td>292</td></tr>\n",
              "\t<tr><td>2014.12.5</td><td>2014</td><td>12</td><td>5</td><td>42</td><td>34</td><td>26</td><td>37</td><td>25</td><td>12</td><td>⋯</td><td>10</td><td>10</td><td>5 </td><td>22</td><td>10</td><td>26</td><td>0.11</td><td>5</td><td>Rain     </td><td>61 </td></tr>\n",
              "\t<tr><td>2014.12.6</td><td>2014</td><td>12</td><td>6</td><td>45</td><td>42</td><td>38</td><td>45</td><td>40</td><td>36</td><td>⋯</td><td>10</td><td>4 </td><td>0 </td><td>22</td><td>8 </td><td>25</td><td>1.09</td><td>8</td><td>Rain     </td><td>313</td></tr>\n",
              "</tbody>\n",
              "</table>\n"
            ],
            "text/markdown": "\nA tibble: 6 × 26\n\n| date &lt;chr&gt; | year &lt;int&gt; | month &lt;int&gt; | day &lt;dbl&gt; | Max.TemperatureF &lt;chr&gt; | Mean.TemperatureF &lt;chr&gt; | Min.TemperatureF &lt;chr&gt; | Max.Dew.PointF &lt;chr&gt; | MeanDew.PointF &lt;chr&gt; | Min.DewpointF &lt;chr&gt; | ⋯ ⋯ | Max.VisibilityMiles &lt;chr&gt; | Mean.VisibilityMiles &lt;chr&gt; | Min.VisibilityMiles &lt;chr&gt; | Max.Wind.SpeedMPH &lt;chr&gt; | Mean.Wind.SpeedMPH &lt;chr&gt; | Max.Gust.SpeedMPH &lt;chr&gt; | PrecipitationIn &lt;chr&gt; | CloudCover &lt;chr&gt; | Events &lt;chr&gt; | WindDirDegrees &lt;chr&gt; |\n|---|---|---|---|---|---|---|---|---|---|---|---|---|---|---|---|---|---|---|---|---|\n| 2014.12.1 | 2014 | 12 | 1 | 64 | 52 | 39 | 46 | 40 | 26 | ⋯ | 10 | 10 | 10 | 22 | 13 | 29 | 0.01 | 6 | Rain      | 268 |\n| 2014.12.2 | 2014 | 12 | 2 | 42 | 38 | 33 | 40 | 27 | 17 | ⋯ | 10 | 8  | 2  | 24 | 15 | 29 | 0.10 | 7 | Rain-Snow | 62  |\n| 2014.12.3 | 2014 | 12 | 3 | 51 | 44 | 37 | 49 | 42 | 24 | ⋯ | 10 | 5  | 1  | 29 | 12 | 38 | 0.44 | 8 | Rain      | 254 |\n| 2014.12.4 | 2014 | 12 | 4 | 43 | 37 | 30 | 24 | 21 | 13 | ⋯ | 10 | 10 | 10 | 25 | 12 | 33 | 0.00 | 3 | <!----> | 292 |\n| 2014.12.5 | 2014 | 12 | 5 | 42 | 34 | 26 | 37 | 25 | 12 | ⋯ | 10 | 10 | 5  | 22 | 10 | 26 | 0.11 | 5 | Rain      | 61  |\n| 2014.12.6 | 2014 | 12 | 6 | 45 | 42 | 38 | 45 | 40 | 36 | ⋯ | 10 | 4  | 0  | 22 | 8  | 25 | 1.09 | 8 | Rain      | 313 |\n\n",
            "text/latex": "A tibble: 6 × 26\n\\begin{tabular}{lllllllllllllllllllll}\n date & year & month & day & Max.TemperatureF & Mean.TemperatureF & Min.TemperatureF & Max.Dew.PointF & MeanDew.PointF & Min.DewpointF & ⋯ & Max.VisibilityMiles & Mean.VisibilityMiles & Min.VisibilityMiles & Max.Wind.SpeedMPH & Mean.Wind.SpeedMPH & Max.Gust.SpeedMPH & PrecipitationIn & CloudCover & Events & WindDirDegrees\\\\\n <chr> & <int> & <int> & <dbl> & <chr> & <chr> & <chr> & <chr> & <chr> & <chr> & ⋯ & <chr> & <chr> & <chr> & <chr> & <chr> & <chr> & <chr> & <chr> & <chr> & <chr>\\\\\n\\hline\n\t 2014.12.1 & 2014 & 12 & 1 & 64 & 52 & 39 & 46 & 40 & 26 & ⋯ & 10 & 10 & 10 & 22 & 13 & 29 & 0.01 & 6 & Rain      & 268\\\\\n\t 2014.12.2 & 2014 & 12 & 2 & 42 & 38 & 33 & 40 & 27 & 17 & ⋯ & 10 & 8  & 2  & 24 & 15 & 29 & 0.10 & 7 & Rain-Snow & 62 \\\\\n\t 2014.12.3 & 2014 & 12 & 3 & 51 & 44 & 37 & 49 & 42 & 24 & ⋯ & 10 & 5  & 1  & 29 & 12 & 38 & 0.44 & 8 & Rain      & 254\\\\\n\t 2014.12.4 & 2014 & 12 & 4 & 43 & 37 & 30 & 24 & 21 & 13 & ⋯ & 10 & 10 & 10 & 25 & 12 & 33 & 0.00 & 3 &           & 292\\\\\n\t 2014.12.5 & 2014 & 12 & 5 & 42 & 34 & 26 & 37 & 25 & 12 & ⋯ & 10 & 10 & 5  & 22 & 10 & 26 & 0.11 & 5 & Rain      & 61 \\\\\n\t 2014.12.6 & 2014 & 12 & 6 & 45 & 42 & 38 & 45 & 40 & 36 & ⋯ & 10 & 4  & 0  & 22 & 8  & 25 & 1.09 & 8 & Rain      & 313\\\\\n\\end{tabular}\n",
            "text/plain": [
              "  date      year month day Max.TemperatureF Mean.TemperatureF Min.TemperatureF\n",
              "1 2014.12.1 2014 12    1   64               52                39              \n",
              "2 2014.12.2 2014 12    2   42               38                33              \n",
              "3 2014.12.3 2014 12    3   51               44                37              \n",
              "4 2014.12.4 2014 12    4   43               37                30              \n",
              "5 2014.12.5 2014 12    5   42               34                26              \n",
              "6 2014.12.6 2014 12    6   45               42                38              \n",
              "  Max.Dew.PointF MeanDew.PointF Min.DewpointF ⋯ Max.VisibilityMiles\n",
              "1 46             40             26            ⋯ 10                 \n",
              "2 40             27             17            ⋯ 10                 \n",
              "3 49             42             24            ⋯ 10                 \n",
              "4 24             21             13            ⋯ 10                 \n",
              "5 37             25             12            ⋯ 10                 \n",
              "6 45             40             36            ⋯ 10                 \n",
              "  Mean.VisibilityMiles Min.VisibilityMiles Max.Wind.SpeedMPH Mean.Wind.SpeedMPH\n",
              "1 10                   10                  22                13                \n",
              "2 8                    2                   24                15                \n",
              "3 5                    1                   29                12                \n",
              "4 10                   10                  25                12                \n",
              "5 10                   5                   22                10                \n",
              "6 4                    0                   22                8                 \n",
              "  Max.Gust.SpeedMPH PrecipitationIn CloudCover Events    WindDirDegrees\n",
              "1 29                0.01            6          Rain      268           \n",
              "2 29                0.10            7          Rain-Snow 62            \n",
              "3 38                0.44            8          Rain      254           \n",
              "4 33                0.00            3                    292           \n",
              "5 26                0.11            5          Rain      61            \n",
              "6 25                1.09            8          Rain      313           "
            ]
          },
          "metadata": {}
        }
      ]
    },
    {
      "cell_type": "markdown",
      "metadata": {
        "id": "7FsPrIhLYaiN"
      },
      "source": [
        "#### Exercise 3: Move events variable to the second column (Just after the `date`)"
      ]
    },
    {
      "cell_type": "code",
      "metadata": {
        "id": "Zq7QEI3hYaiN",
        "colab": {
          "base_uri": "https://localhost:8080/",
          "height": 324
        },
        "outputId": "801b8265-9f23-4ba5-eb03-4b4901da1000"
      },
      "source": [
        "tidy_weather <- tidy_weather %>% \n",
        "  select(date, Events, everything())\n",
        "tidy_weather %>% head"
      ],
      "execution_count": 19,
      "outputs": [
        {
          "output_type": "display_data",
          "data": {
            "text/html": [
              "<table class=\"dataframe\">\n",
              "<caption>A tibble: 6 × 26</caption>\n",
              "<thead>\n",
              "\t<tr><th scope=col>date</th><th scope=col>Events</th><th scope=col>year</th><th scope=col>month</th><th scope=col>day</th><th scope=col>Max.TemperatureF</th><th scope=col>Mean.TemperatureF</th><th scope=col>Min.TemperatureF</th><th scope=col>Max.Dew.PointF</th><th scope=col>MeanDew.PointF</th><th scope=col>⋯</th><th scope=col>Min.Sea.Level.PressureIn</th><th scope=col>Max.VisibilityMiles</th><th scope=col>Mean.VisibilityMiles</th><th scope=col>Min.VisibilityMiles</th><th scope=col>Max.Wind.SpeedMPH</th><th scope=col>Mean.Wind.SpeedMPH</th><th scope=col>Max.Gust.SpeedMPH</th><th scope=col>PrecipitationIn</th><th scope=col>CloudCover</th><th scope=col>WindDirDegrees</th></tr>\n",
              "\t<tr><th scope=col>&lt;chr&gt;</th><th scope=col>&lt;chr&gt;</th><th scope=col>&lt;int&gt;</th><th scope=col>&lt;int&gt;</th><th scope=col>&lt;dbl&gt;</th><th scope=col>&lt;chr&gt;</th><th scope=col>&lt;chr&gt;</th><th scope=col>&lt;chr&gt;</th><th scope=col>&lt;chr&gt;</th><th scope=col>&lt;chr&gt;</th><th scope=col>⋯</th><th scope=col>&lt;chr&gt;</th><th scope=col>&lt;chr&gt;</th><th scope=col>&lt;chr&gt;</th><th scope=col>&lt;chr&gt;</th><th scope=col>&lt;chr&gt;</th><th scope=col>&lt;chr&gt;</th><th scope=col>&lt;chr&gt;</th><th scope=col>&lt;chr&gt;</th><th scope=col>&lt;chr&gt;</th><th scope=col>&lt;chr&gt;</th></tr>\n",
              "</thead>\n",
              "<tbody>\n",
              "\t<tr><td>2014.12.1</td><td>Rain     </td><td>2014</td><td>12</td><td>1</td><td>64</td><td>52</td><td>39</td><td>46</td><td>40</td><td>⋯</td><td>30.01</td><td>10</td><td>10</td><td>10</td><td>22</td><td>13</td><td>29</td><td>0.01</td><td>6</td><td>268</td></tr>\n",
              "\t<tr><td>2014.12.2</td><td>Rain-Snow</td><td>2014</td><td>12</td><td>2</td><td>42</td><td>38</td><td>33</td><td>40</td><td>27</td><td>⋯</td><td>30.4 </td><td>10</td><td>8 </td><td>2 </td><td>24</td><td>15</td><td>29</td><td>0.10</td><td>7</td><td>62 </td></tr>\n",
              "\t<tr><td>2014.12.3</td><td>Rain     </td><td>2014</td><td>12</td><td>3</td><td>51</td><td>44</td><td>37</td><td>49</td><td>42</td><td>⋯</td><td>29.87</td><td>10</td><td>5 </td><td>1 </td><td>29</td><td>12</td><td>38</td><td>0.44</td><td>8</td><td>254</td></tr>\n",
              "\t<tr><td>2014.12.4</td><td>         </td><td>2014</td><td>12</td><td>4</td><td>43</td><td>37</td><td>30</td><td>24</td><td>21</td><td>⋯</td><td>30.09</td><td>10</td><td>10</td><td>10</td><td>25</td><td>12</td><td>33</td><td>0.00</td><td>3</td><td>292</td></tr>\n",
              "\t<tr><td>2014.12.5</td><td>Rain     </td><td>2014</td><td>12</td><td>5</td><td>42</td><td>34</td><td>26</td><td>37</td><td>25</td><td>⋯</td><td>30.45</td><td>10</td><td>10</td><td>5 </td><td>22</td><td>10</td><td>26</td><td>0.11</td><td>5</td><td>61 </td></tr>\n",
              "\t<tr><td>2014.12.6</td><td>Rain     </td><td>2014</td><td>12</td><td>6</td><td>45</td><td>42</td><td>38</td><td>45</td><td>40</td><td>⋯</td><td>30.16</td><td>10</td><td>4 </td><td>0 </td><td>22</td><td>8 </td><td>25</td><td>1.09</td><td>8</td><td>313</td></tr>\n",
              "</tbody>\n",
              "</table>\n"
            ],
            "text/markdown": "\nA tibble: 6 × 26\n\n| date &lt;chr&gt; | Events &lt;chr&gt; | year &lt;int&gt; | month &lt;int&gt; | day &lt;dbl&gt; | Max.TemperatureF &lt;chr&gt; | Mean.TemperatureF &lt;chr&gt; | Min.TemperatureF &lt;chr&gt; | Max.Dew.PointF &lt;chr&gt; | MeanDew.PointF &lt;chr&gt; | ⋯ ⋯ | Min.Sea.Level.PressureIn &lt;chr&gt; | Max.VisibilityMiles &lt;chr&gt; | Mean.VisibilityMiles &lt;chr&gt; | Min.VisibilityMiles &lt;chr&gt; | Max.Wind.SpeedMPH &lt;chr&gt; | Mean.Wind.SpeedMPH &lt;chr&gt; | Max.Gust.SpeedMPH &lt;chr&gt; | PrecipitationIn &lt;chr&gt; | CloudCover &lt;chr&gt; | WindDirDegrees &lt;chr&gt; |\n|---|---|---|---|---|---|---|---|---|---|---|---|---|---|---|---|---|---|---|---|---|\n| 2014.12.1 | Rain      | 2014 | 12 | 1 | 64 | 52 | 39 | 46 | 40 | ⋯ | 30.01 | 10 | 10 | 10 | 22 | 13 | 29 | 0.01 | 6 | 268 |\n| 2014.12.2 | Rain-Snow | 2014 | 12 | 2 | 42 | 38 | 33 | 40 | 27 | ⋯ | 30.4  | 10 | 8  | 2  | 24 | 15 | 29 | 0.10 | 7 | 62  |\n| 2014.12.3 | Rain      | 2014 | 12 | 3 | 51 | 44 | 37 | 49 | 42 | ⋯ | 29.87 | 10 | 5  | 1  | 29 | 12 | 38 | 0.44 | 8 | 254 |\n| 2014.12.4 | <!----> | 2014 | 12 | 4 | 43 | 37 | 30 | 24 | 21 | ⋯ | 30.09 | 10 | 10 | 10 | 25 | 12 | 33 | 0.00 | 3 | 292 |\n| 2014.12.5 | Rain      | 2014 | 12 | 5 | 42 | 34 | 26 | 37 | 25 | ⋯ | 30.45 | 10 | 10 | 5  | 22 | 10 | 26 | 0.11 | 5 | 61  |\n| 2014.12.6 | Rain      | 2014 | 12 | 6 | 45 | 42 | 38 | 45 | 40 | ⋯ | 30.16 | 10 | 4  | 0  | 22 | 8  | 25 | 1.09 | 8 | 313 |\n\n",
            "text/latex": "A tibble: 6 × 26\n\\begin{tabular}{lllllllllllllllllllll}\n date & Events & year & month & day & Max.TemperatureF & Mean.TemperatureF & Min.TemperatureF & Max.Dew.PointF & MeanDew.PointF & ⋯ & Min.Sea.Level.PressureIn & Max.VisibilityMiles & Mean.VisibilityMiles & Min.VisibilityMiles & Max.Wind.SpeedMPH & Mean.Wind.SpeedMPH & Max.Gust.SpeedMPH & PrecipitationIn & CloudCover & WindDirDegrees\\\\\n <chr> & <chr> & <int> & <int> & <dbl> & <chr> & <chr> & <chr> & <chr> & <chr> & ⋯ & <chr> & <chr> & <chr> & <chr> & <chr> & <chr> & <chr> & <chr> & <chr> & <chr>\\\\\n\\hline\n\t 2014.12.1 & Rain      & 2014 & 12 & 1 & 64 & 52 & 39 & 46 & 40 & ⋯ & 30.01 & 10 & 10 & 10 & 22 & 13 & 29 & 0.01 & 6 & 268\\\\\n\t 2014.12.2 & Rain-Snow & 2014 & 12 & 2 & 42 & 38 & 33 & 40 & 27 & ⋯ & 30.4  & 10 & 8  & 2  & 24 & 15 & 29 & 0.10 & 7 & 62 \\\\\n\t 2014.12.3 & Rain      & 2014 & 12 & 3 & 51 & 44 & 37 & 49 & 42 & ⋯ & 29.87 & 10 & 5  & 1  & 29 & 12 & 38 & 0.44 & 8 & 254\\\\\n\t 2014.12.4 &           & 2014 & 12 & 4 & 43 & 37 & 30 & 24 & 21 & ⋯ & 30.09 & 10 & 10 & 10 & 25 & 12 & 33 & 0.00 & 3 & 292\\\\\n\t 2014.12.5 & Rain      & 2014 & 12 & 5 & 42 & 34 & 26 & 37 & 25 & ⋯ & 30.45 & 10 & 10 & 5  & 22 & 10 & 26 & 0.11 & 5 & 61 \\\\\n\t 2014.12.6 & Rain      & 2014 & 12 & 6 & 45 & 42 & 38 & 45 & 40 & ⋯ & 30.16 & 10 & 4  & 0  & 22 & 8  & 25 & 1.09 & 8 & 313\\\\\n\\end{tabular}\n",
            "text/plain": [
              "  date      Events    year month day Max.TemperatureF Mean.TemperatureF\n",
              "1 2014.12.1 Rain      2014 12    1   64               52               \n",
              "2 2014.12.2 Rain-Snow 2014 12    2   42               38               \n",
              "3 2014.12.3 Rain      2014 12    3   51               44               \n",
              "4 2014.12.4           2014 12    4   43               37               \n",
              "5 2014.12.5 Rain      2014 12    5   42               34               \n",
              "6 2014.12.6 Rain      2014 12    6   45               42               \n",
              "  Min.TemperatureF Max.Dew.PointF MeanDew.PointF ⋯ Min.Sea.Level.PressureIn\n",
              "1 39               46             40             ⋯ 30.01                   \n",
              "2 33               40             27             ⋯ 30.4                    \n",
              "3 37               49             42             ⋯ 29.87                   \n",
              "4 30               24             21             ⋯ 30.09                   \n",
              "5 26               37             25             ⋯ 30.45                   \n",
              "6 38               45             40             ⋯ 30.16                   \n",
              "  Max.VisibilityMiles Mean.VisibilityMiles Min.VisibilityMiles\n",
              "1 10                  10                   10                 \n",
              "2 10                  8                    2                  \n",
              "3 10                  5                    1                  \n",
              "4 10                  10                   10                 \n",
              "5 10                  10                   5                  \n",
              "6 10                  4                    0                  \n",
              "  Max.Wind.SpeedMPH Mean.Wind.SpeedMPH Max.Gust.SpeedMPH PrecipitationIn\n",
              "1 22                13                 29                0.01           \n",
              "2 24                15                 29                0.10           \n",
              "3 29                12                 38                0.44           \n",
              "4 25                12                 33                0.00           \n",
              "5 22                10                 26                0.11           \n",
              "6 22                8                  25                1.09           \n",
              "  CloudCover WindDirDegrees\n",
              "1 6          268           \n",
              "2 7          62            \n",
              "3 8          254           \n",
              "4 3          292           \n",
              "5 5          61            \n",
              "6 8          313           "
            ]
          },
          "metadata": {}
        }
      ]
    },
    {
      "cell_type": "markdown",
      "metadata": {
        "id": "_2QWaupuYaiN"
      },
      "source": [
        "#### Exercise 4: `PrecipitationIn` has “T”s for \"Trace.\" “Traces” are defined as precipitation of less than 0.005 inch. So, in this case, we need to map “T”s to 0."
      ]
    },
    {
      "cell_type": "code",
      "metadata": {
        "scrolled": true,
        "id": "BPcty6s2YaiN"
      },
      "source": [
        "tidy_weather <- tidy_weather %>% \n",
        "  mutate(PrecipitationIn = ifelse(PrecipitationIn == \"T\", \"0\", PrecipitationIn))"
      ],
      "execution_count": 21,
      "outputs": []
    },
    {
      "cell_type": "markdown",
      "metadata": {
        "id": "sePgZ4UQYaiO"
      },
      "source": [
        "### Fun exercise: What is happening cell in below?"
      ]
    },
    {
      "cell_type": "code",
      "metadata": {
        "id": "Xo_RX1U9YaiO",
        "colab": {
          "base_uri": "https://localhost:8080/",
          "height": 34
        },
        "outputId": "fcb5541e-1fa4-4aea-9009-6b8e9d90751f"
      },
      "source": [
        "l = list(as.numeric, sqrt, `+`, c('1','9'))\n",
        "\n",
        "l[[2]](l[[3]](l[[1]](l[[4]])[1], l[[1]](l[[4]])[2]))"
      ],
      "execution_count": 22,
      "outputs": [
        {
          "output_type": "display_data",
          "data": {
            "text/html": [
              "3.16227766016838"
            ],
            "text/markdown": "3.16227766016838",
            "text/latex": "3.16227766016838",
            "text/plain": [
              "[1] 3.162278"
            ]
          },
          "metadata": {}
        }
      ]
    },
    {
      "cell_type": "markdown",
      "source": [
        "We are casting the strings '1' and '9' to integers, summing them, and taking the square root. Thus the answer is root 10."
      ],
      "metadata": {
        "id": "rMBVvsb8qfjs"
      }
    },
    {
      "cell_type": "markdown",
      "metadata": {
        "id": "Qv3Fgr5gYaiP"
      },
      "source": [
        "#### Exercise 5: What are the unique events in the dataset?"
      ]
    },
    {
      "cell_type": "code",
      "source": [
        "tidy_weather %>% select(Events) %>% unique %>% deframe"
      ],
      "metadata": {
        "colab": {
          "base_uri": "https://localhost:8080/",
          "height": 34
        },
        "id": "qBRyon1nqw2c",
        "outputId": "f2c8f979-c1af-4e98-964e-6f044c1cf023"
      },
      "execution_count": 34,
      "outputs": [
        {
          "output_type": "display_data",
          "data": {
            "text/html": [
              "<style>\n",
              ".list-inline {list-style: none; margin:0; padding: 0}\n",
              ".list-inline>li {display: inline-block}\n",
              ".list-inline>li:not(:last-child)::after {content: \"\\00b7\"; padding: 0 .5ex}\n",
              "</style>\n",
              "<ol class=list-inline><li>'Rain'</li><li>'Rain-Snow'</li><li>''</li><li>'Snow'</li><li>'Fog-Rain'</li><li>'Fog-Snow'</li><li>'Fog-Rain-Snow'</li><li>NA</li><li>'Fog-Rain-Thunderstorm'</li><li>'Fog'</li><li>'Rain-Thunderstorm'</li><li>'Thunderstorm'</li><li>'Fog-Rain-Hail-Thunderstorm'</li></ol>\n"
            ],
            "text/markdown": "1. 'Rain'\n2. 'Rain-Snow'\n3. ''\n4. 'Snow'\n5. 'Fog-Rain'\n6. 'Fog-Snow'\n7. 'Fog-Rain-Snow'\n8. NA\n9. 'Fog-Rain-Thunderstorm'\n10. 'Fog'\n11. 'Rain-Thunderstorm'\n12. 'Thunderstorm'\n13. 'Fog-Rain-Hail-Thunderstorm'\n\n\n",
            "text/latex": "\\begin{enumerate*}\n\\item 'Rain'\n\\item 'Rain-Snow'\n\\item ''\n\\item 'Snow'\n\\item 'Fog-Rain'\n\\item 'Fog-Snow'\n\\item 'Fog-Rain-Snow'\n\\item NA\n\\item 'Fog-Rain-Thunderstorm'\n\\item 'Fog'\n\\item 'Rain-Thunderstorm'\n\\item 'Thunderstorm'\n\\item 'Fog-Rain-Hail-Thunderstorm'\n\\end{enumerate*}\n",
            "text/plain": [
              " [1] \"Rain\"                       \"Rain-Snow\"                 \n",
              " [3] \"\"                           \"Snow\"                      \n",
              " [5] \"Fog-Rain\"                   \"Fog-Snow\"                  \n",
              " [7] \"Fog-Rain-Snow\"              NA                          \n",
              " [9] \"Fog-Rain-Thunderstorm\"      \"Fog\"                       \n",
              "[11] \"Rain-Thunderstorm\"          \"Thunderstorm\"              \n",
              "[13] \"Fog-Rain-Hail-Thunderstorm\""
            ]
          },
          "metadata": {}
        }
      ]
    },
    {
      "cell_type": "markdown",
      "metadata": {
        "id": "oQNeql58YaiQ"
      },
      "source": [
        "#### Exercise 6: An empty entry means that there is no weather event. Change empties to `Clear`."
      ]
    },
    {
      "cell_type": "code",
      "metadata": {
        "id": "8Rlw7E8NYaiR",
        "colab": {
          "base_uri": "https://localhost:8080/",
          "height": 34
        },
        "outputId": "dcc8e5a8-7ee4-48a8-d221-8f54d17d1cc7"
      },
      "source": [
        "tidy_weather <- tidy_weather %>% \n",
        "  mutate(Events = ifelse(Events == \"\", \"Clear\", Events))\n",
        "\n",
        "tidy_weather %>% select(Events) %>% unique %>% deframe"
      ],
      "execution_count": 35,
      "outputs": [
        {
          "output_type": "display_data",
          "data": {
            "text/html": [
              "<style>\n",
              ".list-inline {list-style: none; margin:0; padding: 0}\n",
              ".list-inline>li {display: inline-block}\n",
              ".list-inline>li:not(:last-child)::after {content: \"\\00b7\"; padding: 0 .5ex}\n",
              "</style>\n",
              "<ol class=list-inline><li>'Rain'</li><li>'Rain-Snow'</li><li>'Clear'</li><li>'Snow'</li><li>'Fog-Rain'</li><li>'Fog-Snow'</li><li>'Fog-Rain-Snow'</li><li>NA</li><li>'Fog-Rain-Thunderstorm'</li><li>'Fog'</li><li>'Rain-Thunderstorm'</li><li>'Thunderstorm'</li><li>'Fog-Rain-Hail-Thunderstorm'</li></ol>\n"
            ],
            "text/markdown": "1. 'Rain'\n2. 'Rain-Snow'\n3. 'Clear'\n4. 'Snow'\n5. 'Fog-Rain'\n6. 'Fog-Snow'\n7. 'Fog-Rain-Snow'\n8. NA\n9. 'Fog-Rain-Thunderstorm'\n10. 'Fog'\n11. 'Rain-Thunderstorm'\n12. 'Thunderstorm'\n13. 'Fog-Rain-Hail-Thunderstorm'\n\n\n",
            "text/latex": "\\begin{enumerate*}\n\\item 'Rain'\n\\item 'Rain-Snow'\n\\item 'Clear'\n\\item 'Snow'\n\\item 'Fog-Rain'\n\\item 'Fog-Snow'\n\\item 'Fog-Rain-Snow'\n\\item NA\n\\item 'Fog-Rain-Thunderstorm'\n\\item 'Fog'\n\\item 'Rain-Thunderstorm'\n\\item 'Thunderstorm'\n\\item 'Fog-Rain-Hail-Thunderstorm'\n\\end{enumerate*}\n",
            "text/plain": [
              " [1] \"Rain\"                       \"Rain-Snow\"                 \n",
              " [3] \"Clear\"                      \"Snow\"                      \n",
              " [5] \"Fog-Rain\"                   \"Fog-Snow\"                  \n",
              " [7] \"Fog-Rain-Snow\"              NA                          \n",
              " [9] \"Fog-Rain-Thunderstorm\"      \"Fog\"                       \n",
              "[11] \"Rain-Thunderstorm\"          \"Thunderstorm\"              \n",
              "[13] \"Fog-Rain-Hail-Thunderstorm\""
            ]
          },
          "metadata": {}
        }
      ]
    },
    {
      "cell_type": "code",
      "source": [
        "tidy_weather %>% head"
      ],
      "metadata": {
        "colab": {
          "base_uri": "https://localhost:8080/",
          "height": 324
        },
        "id": "lsz-nSjmrGdU",
        "outputId": "a0c21a38-d3bd-4419-e61c-63520f611883"
      },
      "execution_count": 37,
      "outputs": [
        {
          "output_type": "display_data",
          "data": {
            "text/html": [
              "<table class=\"dataframe\">\n",
              "<caption>A tibble: 6 × 26</caption>\n",
              "<thead>\n",
              "\t<tr><th scope=col>date</th><th scope=col>Events</th><th scope=col>year</th><th scope=col>month</th><th scope=col>day</th><th scope=col>Max.TemperatureF</th><th scope=col>Mean.TemperatureF</th><th scope=col>Min.TemperatureF</th><th scope=col>Max.Dew.PointF</th><th scope=col>MeanDew.PointF</th><th scope=col>⋯</th><th scope=col>Min.Sea.Level.PressureIn</th><th scope=col>Max.VisibilityMiles</th><th scope=col>Mean.VisibilityMiles</th><th scope=col>Min.VisibilityMiles</th><th scope=col>Max.Wind.SpeedMPH</th><th scope=col>Mean.Wind.SpeedMPH</th><th scope=col>Max.Gust.SpeedMPH</th><th scope=col>PrecipitationIn</th><th scope=col>CloudCover</th><th scope=col>WindDirDegrees</th></tr>\n",
              "\t<tr><th scope=col>&lt;chr&gt;</th><th scope=col>&lt;chr&gt;</th><th scope=col>&lt;int&gt;</th><th scope=col>&lt;int&gt;</th><th scope=col>&lt;dbl&gt;</th><th scope=col>&lt;chr&gt;</th><th scope=col>&lt;chr&gt;</th><th scope=col>&lt;chr&gt;</th><th scope=col>&lt;chr&gt;</th><th scope=col>&lt;chr&gt;</th><th scope=col>⋯</th><th scope=col>&lt;chr&gt;</th><th scope=col>&lt;chr&gt;</th><th scope=col>&lt;chr&gt;</th><th scope=col>&lt;chr&gt;</th><th scope=col>&lt;chr&gt;</th><th scope=col>&lt;chr&gt;</th><th scope=col>&lt;chr&gt;</th><th scope=col>&lt;chr&gt;</th><th scope=col>&lt;chr&gt;</th><th scope=col>&lt;chr&gt;</th></tr>\n",
              "</thead>\n",
              "<tbody>\n",
              "\t<tr><td>2014.12.1</td><td>Rain     </td><td>2014</td><td>12</td><td>1</td><td>64</td><td>52</td><td>39</td><td>46</td><td>40</td><td>⋯</td><td>30.01</td><td>10</td><td>10</td><td>10</td><td>22</td><td>13</td><td>29</td><td>0.01</td><td>6</td><td>268</td></tr>\n",
              "\t<tr><td>2014.12.2</td><td>Rain-Snow</td><td>2014</td><td>12</td><td>2</td><td>42</td><td>38</td><td>33</td><td>40</td><td>27</td><td>⋯</td><td>30.4 </td><td>10</td><td>8 </td><td>2 </td><td>24</td><td>15</td><td>29</td><td>0.10</td><td>7</td><td>62 </td></tr>\n",
              "\t<tr><td>2014.12.3</td><td>Rain     </td><td>2014</td><td>12</td><td>3</td><td>51</td><td>44</td><td>37</td><td>49</td><td>42</td><td>⋯</td><td>29.87</td><td>10</td><td>5 </td><td>1 </td><td>29</td><td>12</td><td>38</td><td>0.44</td><td>8</td><td>254</td></tr>\n",
              "\t<tr><td>2014.12.4</td><td>Clear    </td><td>2014</td><td>12</td><td>4</td><td>43</td><td>37</td><td>30</td><td>24</td><td>21</td><td>⋯</td><td>30.09</td><td>10</td><td>10</td><td>10</td><td>25</td><td>12</td><td>33</td><td>0.00</td><td>3</td><td>292</td></tr>\n",
              "\t<tr><td>2014.12.5</td><td>Rain     </td><td>2014</td><td>12</td><td>5</td><td>42</td><td>34</td><td>26</td><td>37</td><td>25</td><td>⋯</td><td>30.45</td><td>10</td><td>10</td><td>5 </td><td>22</td><td>10</td><td>26</td><td>0.11</td><td>5</td><td>61 </td></tr>\n",
              "\t<tr><td>2014.12.6</td><td>Rain     </td><td>2014</td><td>12</td><td>6</td><td>45</td><td>42</td><td>38</td><td>45</td><td>40</td><td>⋯</td><td>30.16</td><td>10</td><td>4 </td><td>0 </td><td>22</td><td>8 </td><td>25</td><td>1.09</td><td>8</td><td>313</td></tr>\n",
              "</tbody>\n",
              "</table>\n"
            ],
            "text/markdown": "\nA tibble: 6 × 26\n\n| date &lt;chr&gt; | Events &lt;chr&gt; | year &lt;int&gt; | month &lt;int&gt; | day &lt;dbl&gt; | Max.TemperatureF &lt;chr&gt; | Mean.TemperatureF &lt;chr&gt; | Min.TemperatureF &lt;chr&gt; | Max.Dew.PointF &lt;chr&gt; | MeanDew.PointF &lt;chr&gt; | ⋯ ⋯ | Min.Sea.Level.PressureIn &lt;chr&gt; | Max.VisibilityMiles &lt;chr&gt; | Mean.VisibilityMiles &lt;chr&gt; | Min.VisibilityMiles &lt;chr&gt; | Max.Wind.SpeedMPH &lt;chr&gt; | Mean.Wind.SpeedMPH &lt;chr&gt; | Max.Gust.SpeedMPH &lt;chr&gt; | PrecipitationIn &lt;chr&gt; | CloudCover &lt;chr&gt; | WindDirDegrees &lt;chr&gt; |\n|---|---|---|---|---|---|---|---|---|---|---|---|---|---|---|---|---|---|---|---|---|\n| 2014.12.1 | Rain      | 2014 | 12 | 1 | 64 | 52 | 39 | 46 | 40 | ⋯ | 30.01 | 10 | 10 | 10 | 22 | 13 | 29 | 0.01 | 6 | 268 |\n| 2014.12.2 | Rain-Snow | 2014 | 12 | 2 | 42 | 38 | 33 | 40 | 27 | ⋯ | 30.4  | 10 | 8  | 2  | 24 | 15 | 29 | 0.10 | 7 | 62  |\n| 2014.12.3 | Rain      | 2014 | 12 | 3 | 51 | 44 | 37 | 49 | 42 | ⋯ | 29.87 | 10 | 5  | 1  | 29 | 12 | 38 | 0.44 | 8 | 254 |\n| 2014.12.4 | Clear     | 2014 | 12 | 4 | 43 | 37 | 30 | 24 | 21 | ⋯ | 30.09 | 10 | 10 | 10 | 25 | 12 | 33 | 0.00 | 3 | 292 |\n| 2014.12.5 | Rain      | 2014 | 12 | 5 | 42 | 34 | 26 | 37 | 25 | ⋯ | 30.45 | 10 | 10 | 5  | 22 | 10 | 26 | 0.11 | 5 | 61  |\n| 2014.12.6 | Rain      | 2014 | 12 | 6 | 45 | 42 | 38 | 45 | 40 | ⋯ | 30.16 | 10 | 4  | 0  | 22 | 8  | 25 | 1.09 | 8 | 313 |\n\n",
            "text/latex": "A tibble: 6 × 26\n\\begin{tabular}{lllllllllllllllllllll}\n date & Events & year & month & day & Max.TemperatureF & Mean.TemperatureF & Min.TemperatureF & Max.Dew.PointF & MeanDew.PointF & ⋯ & Min.Sea.Level.PressureIn & Max.VisibilityMiles & Mean.VisibilityMiles & Min.VisibilityMiles & Max.Wind.SpeedMPH & Mean.Wind.SpeedMPH & Max.Gust.SpeedMPH & PrecipitationIn & CloudCover & WindDirDegrees\\\\\n <chr> & <chr> & <int> & <int> & <dbl> & <chr> & <chr> & <chr> & <chr> & <chr> & ⋯ & <chr> & <chr> & <chr> & <chr> & <chr> & <chr> & <chr> & <chr> & <chr> & <chr>\\\\\n\\hline\n\t 2014.12.1 & Rain      & 2014 & 12 & 1 & 64 & 52 & 39 & 46 & 40 & ⋯ & 30.01 & 10 & 10 & 10 & 22 & 13 & 29 & 0.01 & 6 & 268\\\\\n\t 2014.12.2 & Rain-Snow & 2014 & 12 & 2 & 42 & 38 & 33 & 40 & 27 & ⋯ & 30.4  & 10 & 8  & 2  & 24 & 15 & 29 & 0.10 & 7 & 62 \\\\\n\t 2014.12.3 & Rain      & 2014 & 12 & 3 & 51 & 44 & 37 & 49 & 42 & ⋯ & 29.87 & 10 & 5  & 1  & 29 & 12 & 38 & 0.44 & 8 & 254\\\\\n\t 2014.12.4 & Clear     & 2014 & 12 & 4 & 43 & 37 & 30 & 24 & 21 & ⋯ & 30.09 & 10 & 10 & 10 & 25 & 12 & 33 & 0.00 & 3 & 292\\\\\n\t 2014.12.5 & Rain      & 2014 & 12 & 5 & 42 & 34 & 26 & 37 & 25 & ⋯ & 30.45 & 10 & 10 & 5  & 22 & 10 & 26 & 0.11 & 5 & 61 \\\\\n\t 2014.12.6 & Rain      & 2014 & 12 & 6 & 45 & 42 & 38 & 45 & 40 & ⋯ & 30.16 & 10 & 4  & 0  & 22 & 8  & 25 & 1.09 & 8 & 313\\\\\n\\end{tabular}\n",
            "text/plain": [
              "  date      Events    year month day Max.TemperatureF Mean.TemperatureF\n",
              "1 2014.12.1 Rain      2014 12    1   64               52               \n",
              "2 2014.12.2 Rain-Snow 2014 12    2   42               38               \n",
              "3 2014.12.3 Rain      2014 12    3   51               44               \n",
              "4 2014.12.4 Clear     2014 12    4   43               37               \n",
              "5 2014.12.5 Rain      2014 12    5   42               34               \n",
              "6 2014.12.6 Rain      2014 12    6   45               42               \n",
              "  Min.TemperatureF Max.Dew.PointF MeanDew.PointF ⋯ Min.Sea.Level.PressureIn\n",
              "1 39               46             40             ⋯ 30.01                   \n",
              "2 33               40             27             ⋯ 30.4                    \n",
              "3 37               49             42             ⋯ 29.87                   \n",
              "4 30               24             21             ⋯ 30.09                   \n",
              "5 26               37             25             ⋯ 30.45                   \n",
              "6 38               45             40             ⋯ 30.16                   \n",
              "  Max.VisibilityMiles Mean.VisibilityMiles Min.VisibilityMiles\n",
              "1 10                  10                   10                 \n",
              "2 10                  8                    2                  \n",
              "3 10                  5                    1                  \n",
              "4 10                  10                   10                 \n",
              "5 10                  10                   5                  \n",
              "6 10                  4                    0                  \n",
              "  Max.Wind.SpeedMPH Mean.Wind.SpeedMPH Max.Gust.SpeedMPH PrecipitationIn\n",
              "1 22                13                 29                0.01           \n",
              "2 24                15                 29                0.10           \n",
              "3 29                12                 38                0.44           \n",
              "4 25                12                 33                0.00           \n",
              "5 22                10                 26                0.11           \n",
              "6 22                8                  25                1.09           \n",
              "  CloudCover WindDirDegrees\n",
              "1 6          268           \n",
              "2 7          62            \n",
              "3 8          254           \n",
              "4 3          292           \n",
              "5 5          61            \n",
              "6 8          313           "
            ]
          },
          "metadata": {}
        }
      ]
    },
    {
      "cell_type": "markdown",
      "source": [
        "#### Addendum\n",
        "\n",
        "Most measurement columns are of string type. Here's how we can convert them to numeric type."
      ],
      "metadata": {
        "id": "bdD51CvPrNMI"
      }
    },
    {
      "cell_type": "code",
      "source": [
        "tidy_weather = tidy_weather %>% \n",
        "  mutate_each(funs = list(as.numeric), Max.TemperatureF:WindDirDegrees)\n",
        "tidy_weather %>% head"
      ],
      "metadata": {
        "colab": {
          "base_uri": "https://localhost:8080/",
          "height": 416
        },
        "id": "NKRJ50EwrLqt",
        "outputId": "70d62932-b4c0-4af2-dfb7-261e54b7ad93"
      },
      "execution_count": 38,
      "outputs": [
        {
          "output_type": "stream",
          "name": "stderr",
          "text": [
            "Warning message:\n",
            "“`mutate_each_()` was deprecated in dplyr 0.7.0.\n",
            "Please use `across()` instead.\n",
            "\u001b[90mThis warning is displayed once every 8 hours.\u001b[39m\n",
            "\u001b[90mCall `lifecycle::last_lifecycle_warnings()` to see where this warning was generated.\u001b[39m”\n"
          ]
        },
        {
          "output_type": "display_data",
          "data": {
            "text/html": [
              "<table class=\"dataframe\">\n",
              "<caption>A tibble: 6 × 26</caption>\n",
              "<thead>\n",
              "\t<tr><th scope=col>date</th><th scope=col>Events</th><th scope=col>year</th><th scope=col>month</th><th scope=col>day</th><th scope=col>Max.TemperatureF</th><th scope=col>Mean.TemperatureF</th><th scope=col>Min.TemperatureF</th><th scope=col>Max.Dew.PointF</th><th scope=col>MeanDew.PointF</th><th scope=col>⋯</th><th scope=col>Min.Sea.Level.PressureIn</th><th scope=col>Max.VisibilityMiles</th><th scope=col>Mean.VisibilityMiles</th><th scope=col>Min.VisibilityMiles</th><th scope=col>Max.Wind.SpeedMPH</th><th scope=col>Mean.Wind.SpeedMPH</th><th scope=col>Max.Gust.SpeedMPH</th><th scope=col>PrecipitationIn</th><th scope=col>CloudCover</th><th scope=col>WindDirDegrees</th></tr>\n",
              "\t<tr><th scope=col>&lt;chr&gt;</th><th scope=col>&lt;chr&gt;</th><th scope=col>&lt;int&gt;</th><th scope=col>&lt;int&gt;</th><th scope=col>&lt;dbl&gt;</th><th scope=col>&lt;dbl&gt;</th><th scope=col>&lt;dbl&gt;</th><th scope=col>&lt;dbl&gt;</th><th scope=col>&lt;dbl&gt;</th><th scope=col>&lt;dbl&gt;</th><th scope=col>⋯</th><th scope=col>&lt;dbl&gt;</th><th scope=col>&lt;dbl&gt;</th><th scope=col>&lt;dbl&gt;</th><th scope=col>&lt;dbl&gt;</th><th scope=col>&lt;dbl&gt;</th><th scope=col>&lt;dbl&gt;</th><th scope=col>&lt;dbl&gt;</th><th scope=col>&lt;dbl&gt;</th><th scope=col>&lt;dbl&gt;</th><th scope=col>&lt;dbl&gt;</th></tr>\n",
              "</thead>\n",
              "<tbody>\n",
              "\t<tr><td>2014.12.1</td><td>Rain     </td><td>2014</td><td>12</td><td>1</td><td>64</td><td>52</td><td>39</td><td>46</td><td>40</td><td>⋯</td><td>30.01</td><td>10</td><td>10</td><td>10</td><td>22</td><td>13</td><td>29</td><td>0.01</td><td>6</td><td>268</td></tr>\n",
              "\t<tr><td>2014.12.2</td><td>Rain-Snow</td><td>2014</td><td>12</td><td>2</td><td>42</td><td>38</td><td>33</td><td>40</td><td>27</td><td>⋯</td><td>30.40</td><td>10</td><td> 8</td><td> 2</td><td>24</td><td>15</td><td>29</td><td>0.10</td><td>7</td><td> 62</td></tr>\n",
              "\t<tr><td>2014.12.3</td><td>Rain     </td><td>2014</td><td>12</td><td>3</td><td>51</td><td>44</td><td>37</td><td>49</td><td>42</td><td>⋯</td><td>29.87</td><td>10</td><td> 5</td><td> 1</td><td>29</td><td>12</td><td>38</td><td>0.44</td><td>8</td><td>254</td></tr>\n",
              "\t<tr><td>2014.12.4</td><td>Clear    </td><td>2014</td><td>12</td><td>4</td><td>43</td><td>37</td><td>30</td><td>24</td><td>21</td><td>⋯</td><td>30.09</td><td>10</td><td>10</td><td>10</td><td>25</td><td>12</td><td>33</td><td>0.00</td><td>3</td><td>292</td></tr>\n",
              "\t<tr><td>2014.12.5</td><td>Rain     </td><td>2014</td><td>12</td><td>5</td><td>42</td><td>34</td><td>26</td><td>37</td><td>25</td><td>⋯</td><td>30.45</td><td>10</td><td>10</td><td> 5</td><td>22</td><td>10</td><td>26</td><td>0.11</td><td>5</td><td> 61</td></tr>\n",
              "\t<tr><td>2014.12.6</td><td>Rain     </td><td>2014</td><td>12</td><td>6</td><td>45</td><td>42</td><td>38</td><td>45</td><td>40</td><td>⋯</td><td>30.16</td><td>10</td><td> 4</td><td> 0</td><td>22</td><td> 8</td><td>25</td><td>1.09</td><td>8</td><td>313</td></tr>\n",
              "</tbody>\n",
              "</table>\n"
            ],
            "text/markdown": "\nA tibble: 6 × 26\n\n| date &lt;chr&gt; | Events &lt;chr&gt; | year &lt;int&gt; | month &lt;int&gt; | day &lt;dbl&gt; | Max.TemperatureF &lt;dbl&gt; | Mean.TemperatureF &lt;dbl&gt; | Min.TemperatureF &lt;dbl&gt; | Max.Dew.PointF &lt;dbl&gt; | MeanDew.PointF &lt;dbl&gt; | ⋯ ⋯ | Min.Sea.Level.PressureIn &lt;dbl&gt; | Max.VisibilityMiles &lt;dbl&gt; | Mean.VisibilityMiles &lt;dbl&gt; | Min.VisibilityMiles &lt;dbl&gt; | Max.Wind.SpeedMPH &lt;dbl&gt; | Mean.Wind.SpeedMPH &lt;dbl&gt; | Max.Gust.SpeedMPH &lt;dbl&gt; | PrecipitationIn &lt;dbl&gt; | CloudCover &lt;dbl&gt; | WindDirDegrees &lt;dbl&gt; |\n|---|---|---|---|---|---|---|---|---|---|---|---|---|---|---|---|---|---|---|---|---|\n| 2014.12.1 | Rain      | 2014 | 12 | 1 | 64 | 52 | 39 | 46 | 40 | ⋯ | 30.01 | 10 | 10 | 10 | 22 | 13 | 29 | 0.01 | 6 | 268 |\n| 2014.12.2 | Rain-Snow | 2014 | 12 | 2 | 42 | 38 | 33 | 40 | 27 | ⋯ | 30.40 | 10 |  8 |  2 | 24 | 15 | 29 | 0.10 | 7 |  62 |\n| 2014.12.3 | Rain      | 2014 | 12 | 3 | 51 | 44 | 37 | 49 | 42 | ⋯ | 29.87 | 10 |  5 |  1 | 29 | 12 | 38 | 0.44 | 8 | 254 |\n| 2014.12.4 | Clear     | 2014 | 12 | 4 | 43 | 37 | 30 | 24 | 21 | ⋯ | 30.09 | 10 | 10 | 10 | 25 | 12 | 33 | 0.00 | 3 | 292 |\n| 2014.12.5 | Rain      | 2014 | 12 | 5 | 42 | 34 | 26 | 37 | 25 | ⋯ | 30.45 | 10 | 10 |  5 | 22 | 10 | 26 | 0.11 | 5 |  61 |\n| 2014.12.6 | Rain      | 2014 | 12 | 6 | 45 | 42 | 38 | 45 | 40 | ⋯ | 30.16 | 10 |  4 |  0 | 22 |  8 | 25 | 1.09 | 8 | 313 |\n\n",
            "text/latex": "A tibble: 6 × 26\n\\begin{tabular}{lllllllllllllllllllll}\n date & Events & year & month & day & Max.TemperatureF & Mean.TemperatureF & Min.TemperatureF & Max.Dew.PointF & MeanDew.PointF & ⋯ & Min.Sea.Level.PressureIn & Max.VisibilityMiles & Mean.VisibilityMiles & Min.VisibilityMiles & Max.Wind.SpeedMPH & Mean.Wind.SpeedMPH & Max.Gust.SpeedMPH & PrecipitationIn & CloudCover & WindDirDegrees\\\\\n <chr> & <chr> & <int> & <int> & <dbl> & <dbl> & <dbl> & <dbl> & <dbl> & <dbl> & ⋯ & <dbl> & <dbl> & <dbl> & <dbl> & <dbl> & <dbl> & <dbl> & <dbl> & <dbl> & <dbl>\\\\\n\\hline\n\t 2014.12.1 & Rain      & 2014 & 12 & 1 & 64 & 52 & 39 & 46 & 40 & ⋯ & 30.01 & 10 & 10 & 10 & 22 & 13 & 29 & 0.01 & 6 & 268\\\\\n\t 2014.12.2 & Rain-Snow & 2014 & 12 & 2 & 42 & 38 & 33 & 40 & 27 & ⋯ & 30.40 & 10 &  8 &  2 & 24 & 15 & 29 & 0.10 & 7 &  62\\\\\n\t 2014.12.3 & Rain      & 2014 & 12 & 3 & 51 & 44 & 37 & 49 & 42 & ⋯ & 29.87 & 10 &  5 &  1 & 29 & 12 & 38 & 0.44 & 8 & 254\\\\\n\t 2014.12.4 & Clear     & 2014 & 12 & 4 & 43 & 37 & 30 & 24 & 21 & ⋯ & 30.09 & 10 & 10 & 10 & 25 & 12 & 33 & 0.00 & 3 & 292\\\\\n\t 2014.12.5 & Rain      & 2014 & 12 & 5 & 42 & 34 & 26 & 37 & 25 & ⋯ & 30.45 & 10 & 10 &  5 & 22 & 10 & 26 & 0.11 & 5 &  61\\\\\n\t 2014.12.6 & Rain      & 2014 & 12 & 6 & 45 & 42 & 38 & 45 & 40 & ⋯ & 30.16 & 10 &  4 &  0 & 22 &  8 & 25 & 1.09 & 8 & 313\\\\\n\\end{tabular}\n",
            "text/plain": [
              "  date      Events    year month day Max.TemperatureF Mean.TemperatureF\n",
              "1 2014.12.1 Rain      2014 12    1   64               52               \n",
              "2 2014.12.2 Rain-Snow 2014 12    2   42               38               \n",
              "3 2014.12.3 Rain      2014 12    3   51               44               \n",
              "4 2014.12.4 Clear     2014 12    4   43               37               \n",
              "5 2014.12.5 Rain      2014 12    5   42               34               \n",
              "6 2014.12.6 Rain      2014 12    6   45               42               \n",
              "  Min.TemperatureF Max.Dew.PointF MeanDew.PointF ⋯ Min.Sea.Level.PressureIn\n",
              "1 39               46             40             ⋯ 30.01                   \n",
              "2 33               40             27             ⋯ 30.40                   \n",
              "3 37               49             42             ⋯ 29.87                   \n",
              "4 30               24             21             ⋯ 30.09                   \n",
              "5 26               37             25             ⋯ 30.45                   \n",
              "6 38               45             40             ⋯ 30.16                   \n",
              "  Max.VisibilityMiles Mean.VisibilityMiles Min.VisibilityMiles\n",
              "1 10                  10                   10                 \n",
              "2 10                   8                    2                 \n",
              "3 10                   5                    1                 \n",
              "4 10                  10                   10                 \n",
              "5 10                  10                    5                 \n",
              "6 10                   4                    0                 \n",
              "  Max.Wind.SpeedMPH Mean.Wind.SpeedMPH Max.Gust.SpeedMPH PrecipitationIn\n",
              "1 22                13                 29                0.01           \n",
              "2 24                15                 29                0.10           \n",
              "3 29                12                 38                0.44           \n",
              "4 25                12                 33                0.00           \n",
              "5 22                10                 26                0.11           \n",
              "6 22                 8                 25                1.09           \n",
              "  CloudCover WindDirDegrees\n",
              "1 6          268           \n",
              "2 7           62           \n",
              "3 8          254           \n",
              "4 3          292           \n",
              "5 5           61           \n",
              "6 8          313           "
            ]
          },
          "metadata": {}
        }
      ]
    },
    {
      "cell_type": "markdown",
      "metadata": {
        "id": "GFQXK0SuYaiR"
      },
      "source": [
        "Reference: [Cleaning Messy Weather Dataset with tidyverse](https://www.rpubs.com/justinhtet/cleaning-messy-weather-dataset-with-tidyverse)"
      ]
    }
  ]
}