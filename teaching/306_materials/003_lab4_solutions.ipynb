{
  "nbformat": 4,
  "nbformat_minor": 0,
  "metadata": {
    "colab": {
      "name": "003_lab4_solutions.ipynb",
      "provenance": [],
      "toc_visible": true,
      "collapsed_sections": [],
      "authorship_tag": "ABX9TyOKXwqDIQ0g1xXpUTGaynXn",
      "include_colab_link": true
    },
    "kernelspec": {
      "name": "ir",
      "display_name": "R"
    },
    "language_info": {
      "name": "R"
    }
  },
  "cells": [
    {
      "cell_type": "markdown",
      "metadata": {
        "id": "view-in-github",
        "colab_type": "text"
      },
      "source": [
        "<a href=\"https://colab.research.google.com/github/chathasphere/chathasphere.github.io/blob/main/teaching/306_materials/003_lab4_solutions.ipynb\" target=\"_parent\"><img src=\"https://colab.research.google.com/assets/colab-badge.svg\" alt=\"Open In Colab\"/></a>"
      ]
    },
    {
      "cell_type": "markdown",
      "source": [
        "# Lab 4: Wrapping up dplyr Operations\n",
        "\n",
        "## February 1st, 2022"
      ],
      "metadata": {
        "id": "QSn7_E461K2h"
      }
    },
    {
      "cell_type": "code",
      "source": [
        "library(tidyverse)\n",
        "options(repr.plot.height=4) "
      ],
      "metadata": {
        "id": "1wnwvvws1MRb",
        "colab": {
          "base_uri": "https://localhost:8080/"
        },
        "outputId": "2b637e9f-1748-4bb6-ec86-2d7db4649469"
      },
      "execution_count": 1,
      "outputs": [
        {
          "output_type": "stream",
          "name": "stderr",
          "text": [
            "Warning message in system(\"timedatectl\", intern = TRUE):\n",
            "“running command 'timedatectl' had status 1”\n",
            "── \u001b[1mAttaching packages\u001b[22m ─────────────────────────────────────── tidyverse 1.3.1 ──\n",
            "\n",
            "\u001b[32m✔\u001b[39m \u001b[34mggplot2\u001b[39m 3.3.5     \u001b[32m✔\u001b[39m \u001b[34mpurrr  \u001b[39m 0.3.4\n",
            "\u001b[32m✔\u001b[39m \u001b[34mtibble \u001b[39m 3.1.6     \u001b[32m✔\u001b[39m \u001b[34mdplyr  \u001b[39m 1.0.7\n",
            "\u001b[32m✔\u001b[39m \u001b[34mtidyr  \u001b[39m 1.1.4     \u001b[32m✔\u001b[39m \u001b[34mstringr\u001b[39m 1.4.0\n",
            "\u001b[32m✔\u001b[39m \u001b[34mreadr  \u001b[39m 2.1.1     \u001b[32m✔\u001b[39m \u001b[34mforcats\u001b[39m 0.5.1\n",
            "\n",
            "── \u001b[1mConflicts\u001b[22m ────────────────────────────────────────── tidyverse_conflicts() ──\n",
            "\u001b[31m✖\u001b[39m \u001b[34mdplyr\u001b[39m::\u001b[32mfilter()\u001b[39m masks \u001b[34mstats\u001b[39m::filter()\n",
            "\u001b[31m✖\u001b[39m \u001b[34mdplyr\u001b[39m::\u001b[32mlag()\u001b[39m    masks \u001b[34mstats\u001b[39m::lag()\n",
            "\n"
          ]
        }
      ]
    },
    {
      "cell_type": "markdown",
      "source": [
        "# 1. dplyr Loose Ends\n",
        "### review of `select`, `mutate`, `summarise`\n",
        "### & introducing a few more simple commands\n",
        "\n",
        "These are a family of \"one table verbs\" in dplyr. (Joins are an example of a \"two table verb.\")\n",
        "For reference: https://dplyr.tidyverse.org/reference/index.html#section-one-table-verbs"
      ],
      "metadata": {
        "id": "pThCHosg1zZ2"
      }
    },
    {
      "cell_type": "code",
      "source": [
        "str(midwest)"
      ],
      "metadata": {
        "id": "OGrOWvmE8p5a",
        "colab": {
          "base_uri": "https://localhost:8080/"
        },
        "outputId": "7f2e9515-29c3-447e-8342-473b99f244cd"
      },
      "execution_count": null,
      "outputs": [
        {
          "output_type": "stream",
          "name": "stdout",
          "text": [
            "tibble [437 × 28] (S3: tbl_df/tbl/data.frame)\n",
            " $ PID                 : int [1:437] 561 562 563 564 565 566 567 568 569 570 ...\n",
            " $ county              : chr [1:437] \"ADAMS\" \"ALEXANDER\" \"BOND\" \"BOONE\" ...\n",
            " $ state               : chr [1:437] \"IL\" \"IL\" \"IL\" \"IL\" ...\n",
            " $ area                : num [1:437] 0.052 0.014 0.022 0.017 0.018 0.05 0.017 0.027 0.024 0.058 ...\n",
            " $ poptotal            : int [1:437] 66090 10626 14991 30806 5836 35688 5322 16805 13437 173025 ...\n",
            " $ popdensity          : num [1:437] 1271 759 681 1812 324 ...\n",
            " $ popwhite            : int [1:437] 63917 7054 14477 29344 5264 35157 5298 16519 13384 146506 ...\n",
            " $ popblack            : int [1:437] 1702 3496 429 127 547 50 1 111 16 16559 ...\n",
            " $ popamerindian       : int [1:437] 98 19 35 46 14 65 8 30 8 331 ...\n",
            " $ popasian            : int [1:437] 249 48 16 150 5 195 15 61 23 8033 ...\n",
            " $ popother            : int [1:437] 124 9 34 1139 6 221 0 84 6 1596 ...\n",
            " $ percwhite           : num [1:437] 96.7 66.4 96.6 95.3 90.2 ...\n",
            " $ percblack           : num [1:437] 2.575 32.9 2.862 0.412 9.373 ...\n",
            " $ percamerindan       : num [1:437] 0.148 0.179 0.233 0.149 0.24 ...\n",
            " $ percasian           : num [1:437] 0.3768 0.4517 0.1067 0.4869 0.0857 ...\n",
            " $ percother           : num [1:437] 0.1876 0.0847 0.2268 3.6973 0.1028 ...\n",
            " $ popadults           : int [1:437] 43298 6724 9669 19272 3979 23444 3583 11323 8825 95971 ...\n",
            " $ perchsd             : num [1:437] 75.1 59.7 69.3 75.5 68.9 ...\n",
            " $ percollege          : num [1:437] 19.6 11.2 17 17.3 14.5 ...\n",
            " $ percprof            : num [1:437] 4.36 2.87 4.49 4.2 3.37 ...\n",
            " $ poppovertyknown     : int [1:437] 63628 10529 14235 30337 4815 35107 5241 16455 13081 154934 ...\n",
            " $ percpovertyknown    : num [1:437] 96.3 99.1 95 98.5 82.5 ...\n",
            " $ percbelowpoverty    : num [1:437] 13.15 32.24 12.07 7.21 13.52 ...\n",
            " $ percchildbelowpovert: num [1:437] 18 45.8 14 11.2 13 ...\n",
            " $ percadultpoverty    : num [1:437] 11.01 27.39 10.85 5.54 11.14 ...\n",
            " $ percelderlypoverty  : num [1:437] 12.44 25.23 12.7 6.22 19.2 ...\n",
            " $ inmetro             : int [1:437] 0 0 0 1 0 0 0 0 0 1 ...\n",
            " $ category            : chr [1:437] \"AAR\" \"LHR\" \"AAR\" \"ALU\" ...\n"
          ]
        }
      ]
    },
    {
      "cell_type": "markdown",
      "source": [
        "\n",
        "## 1.1 Select"
      ],
      "metadata": {
        "id": "WIUsIzHH3AL8"
      }
    },
    {
      "cell_type": "markdown",
      "source": [
        "Used for returning specific columns or columns that match a logical criterion."
      ],
      "metadata": {
        "id": "KnJDX-e12EB5"
      }
    },
    {
      "cell_type": "code",
      "source": [
        "midwest %>% select(popwhite, popblack) %>% head"
      ],
      "metadata": {
        "id": "OoMZJBcu9uKI",
        "colab": {
          "base_uri": "https://localhost:8080/",
          "height": 286
        },
        "outputId": "a6d641b3-0245-4fc1-fc41-95d267195c3d"
      },
      "execution_count": null,
      "outputs": [
        {
          "output_type": "display_data",
          "data": {
            "text/plain": [
              "  popwhite popblack\n",
              "1 63917    1702    \n",
              "2  7054    3496    \n",
              "3 14477     429    \n",
              "4 29344     127    \n",
              "5  5264     547    \n",
              "6 35157      50    "
            ],
            "text/latex": "A tibble: 6 × 2\n\\begin{tabular}{ll}\n popwhite & popblack\\\\\n <int> & <int>\\\\\n\\hline\n\t 63917 & 1702\\\\\n\t  7054 & 3496\\\\\n\t 14477 &  429\\\\\n\t 29344 &  127\\\\\n\t  5264 &  547\\\\\n\t 35157 &   50\\\\\n\\end{tabular}\n",
            "text/markdown": "\nA tibble: 6 × 2\n\n| popwhite &lt;int&gt; | popblack &lt;int&gt; |\n|---|---|\n| 63917 | 1702 |\n|  7054 | 3496 |\n| 14477 |  429 |\n| 29344 |  127 |\n|  5264 |  547 |\n| 35157 |   50 |\n\n",
            "text/html": [
              "<table class=\"dataframe\">\n",
              "<caption>A tibble: 6 × 2</caption>\n",
              "<thead>\n",
              "\t<tr><th scope=col>popwhite</th><th scope=col>popblack</th></tr>\n",
              "\t<tr><th scope=col>&lt;int&gt;</th><th scope=col>&lt;int&gt;</th></tr>\n",
              "</thead>\n",
              "<tbody>\n",
              "\t<tr><td>63917</td><td>1702</td></tr>\n",
              "\t<tr><td> 7054</td><td>3496</td></tr>\n",
              "\t<tr><td>14477</td><td> 429</td></tr>\n",
              "\t<tr><td>29344</td><td> 127</td></tr>\n",
              "\t<tr><td> 5264</td><td> 547</td></tr>\n",
              "\t<tr><td>35157</td><td>  50</td></tr>\n",
              "</tbody>\n",
              "</table>\n"
            ]
          },
          "metadata": {}
        }
      ]
    },
    {
      "cell_type": "code",
      "source": [
        "midwest %>% select(where(is.character)) %>% head"
      ],
      "metadata": {
        "id": "EdlpbFEm1yQt",
        "colab": {
          "base_uri": "https://localhost:8080/",
          "height": 286
        },
        "outputId": "cfdfb8a5-cbd6-431e-ebe6-463f863a785a"
      },
      "execution_count": null,
      "outputs": [
        {
          "output_type": "display_data",
          "data": {
            "text/plain": [
              "  county    state category\n",
              "1 ADAMS     IL    AAR     \n",
              "2 ALEXANDER IL    LHR     \n",
              "3 BOND      IL    AAR     \n",
              "4 BOONE     IL    ALU     \n",
              "5 BROWN     IL    AAR     \n",
              "6 BUREAU    IL    AAR     "
            ],
            "text/latex": "A tibble: 6 × 3\n\\begin{tabular}{lll}\n county & state & category\\\\\n <chr> & <chr> & <chr>\\\\\n\\hline\n\t ADAMS     & IL & AAR\\\\\n\t ALEXANDER & IL & LHR\\\\\n\t BOND      & IL & AAR\\\\\n\t BOONE     & IL & ALU\\\\\n\t BROWN     & IL & AAR\\\\\n\t BUREAU    & IL & AAR\\\\\n\\end{tabular}\n",
            "text/markdown": "\nA tibble: 6 × 3\n\n| county &lt;chr&gt; | state &lt;chr&gt; | category &lt;chr&gt; |\n|---|---|---|\n| ADAMS     | IL | AAR |\n| ALEXANDER | IL | LHR |\n| BOND      | IL | AAR |\n| BOONE     | IL | ALU |\n| BROWN     | IL | AAR |\n| BUREAU    | IL | AAR |\n\n",
            "text/html": [
              "<table class=\"dataframe\">\n",
              "<caption>A tibble: 6 × 3</caption>\n",
              "<thead>\n",
              "\t<tr><th scope=col>county</th><th scope=col>state</th><th scope=col>category</th></tr>\n",
              "\t<tr><th scope=col>&lt;chr&gt;</th><th scope=col>&lt;chr&gt;</th><th scope=col>&lt;chr&gt;</th></tr>\n",
              "</thead>\n",
              "<tbody>\n",
              "\t<tr><td>ADAMS    </td><td>IL</td><td>AAR</td></tr>\n",
              "\t<tr><td>ALEXANDER</td><td>IL</td><td>LHR</td></tr>\n",
              "\t<tr><td>BOND     </td><td>IL</td><td>AAR</td></tr>\n",
              "\t<tr><td>BOONE    </td><td>IL</td><td>ALU</td></tr>\n",
              "\t<tr><td>BROWN    </td><td>IL</td><td>AAR</td></tr>\n",
              "\t<tr><td>BUREAU   </td><td>IL</td><td>AAR</td></tr>\n",
              "</tbody>\n",
              "</table>\n"
            ]
          },
          "metadata": {}
        }
      ]
    },
    {
      "cell_type": "markdown",
      "source": [
        "## 1.2 Rename"
      ],
      "metadata": {
        "id": "JXaxSMv_ET7n"
      }
    },
    {
      "cell_type": "markdown",
      "source": [
        "We can also use `select` to rename columns, though there is a designated operation `rename` that accomplishes this *without* losing the other columns."
      ],
      "metadata": {
        "id": "lYA0eJykChNb"
      }
    },
    {
      "cell_type": "code",
      "source": [
        "# renaming with select keeps only the renamed column\n",
        "midwest %>% select(percentage_white = percwhite) %>% head()"
      ],
      "metadata": {
        "id": "2mkH0gd5CpI8",
        "colab": {
          "base_uri": "https://localhost:8080/",
          "height": 286
        },
        "outputId": "4a2f3e4d-5c3e-45f4-f518-a9c891333269"
      },
      "execution_count": null,
      "outputs": [
        {
          "output_type": "display_data",
          "data": {
            "text/plain": [
              "  percentage_white\n",
              "1 96.71206        \n",
              "2 66.38434        \n",
              "3 96.57128        \n",
              "4 95.25417        \n",
              "5 90.19877        \n",
              "6 98.51210        "
            ],
            "text/latex": "A tibble: 6 × 1\n\\begin{tabular}{l}\n percentage\\_white\\\\\n <dbl>\\\\\n\\hline\n\t 96.71206\\\\\n\t 66.38434\\\\\n\t 96.57128\\\\\n\t 95.25417\\\\\n\t 90.19877\\\\\n\t 98.51210\\\\\n\\end{tabular}\n",
            "text/markdown": "\nA tibble: 6 × 1\n\n| percentage_white &lt;dbl&gt; |\n|---|\n| 96.71206 |\n| 66.38434 |\n| 96.57128 |\n| 95.25417 |\n| 90.19877 |\n| 98.51210 |\n\n",
            "text/html": [
              "<table class=\"dataframe\">\n",
              "<caption>A tibble: 6 × 1</caption>\n",
              "<thead>\n",
              "\t<tr><th scope=col>percentage_white</th></tr>\n",
              "\t<tr><th scope=col>&lt;dbl&gt;</th></tr>\n",
              "</thead>\n",
              "<tbody>\n",
              "\t<tr><td>96.71206</td></tr>\n",
              "\t<tr><td>66.38434</td></tr>\n",
              "\t<tr><td>96.57128</td></tr>\n",
              "\t<tr><td>95.25417</td></tr>\n",
              "\t<tr><td>90.19877</td></tr>\n",
              "\t<tr><td>98.51210</td></tr>\n",
              "</tbody>\n",
              "</table>\n"
            ]
          },
          "metadata": {}
        }
      ]
    },
    {
      "cell_type": "code",
      "source": [
        "# renaming with rename keeps everything\n",
        "midwest %>% rename(percentage_white = percwhite) %>% select(starts_with(\"perc\")) %>%\n",
        "  head"
      ],
      "metadata": {
        "id": "iUnTk-P6C6I0",
        "colab": {
          "base_uri": "https://localhost:8080/",
          "height": 306
        },
        "outputId": "6e751311-8318-4203-fbae-6347b79e3499"
      },
      "execution_count": null,
      "outputs": [
        {
          "output_type": "display_data",
          "data": {
            "text/plain": [
              "  percentage_white percblack  percamerindan percasian  percother  perchsd \n",
              "1 96.71206          2.5752761 0.1482826     0.37675897 0.18762294 75.10740\n",
              "2 66.38434         32.9004329 0.1788067     0.45172219 0.08469791 59.72635\n",
              "3 96.57128          2.8617170 0.2334734     0.10673071 0.22680275 69.33499\n",
              "4 95.25417          0.4122574 0.1493216     0.48691813 3.69733169 75.47219\n",
              "5 90.19877          9.3728581 0.2398903     0.08567512 0.10281014 68.86152\n",
              "6 98.51210          0.1401031 0.1821340     0.54640215 0.61925577 76.62941\n",
              "  percollege percprof percpovertyknown percbelowpoverty percchildbelowpovert\n",
              "1 19.63139   4.355859 96.27478         13.151443        18.01172            \n",
              "2 11.24331   2.870315 99.08714         32.244278        45.82651            \n",
              "3 17.03382   4.488572 94.95697         12.068844        14.03606            \n",
              "4 17.27895   4.197800 98.47757          7.209019        11.17954            \n",
              "5 14.47600   3.367680 82.50514         13.520249        13.02289            \n",
              "6 18.90462   3.275891 98.37200         10.399635        14.15882            \n",
              "  percadultpoverty percelderlypoverty\n",
              "1 11.009776        12.443812         \n",
              "2 27.385647        25.228976         \n",
              "3 10.852090        12.697410         \n",
              "4  5.536013         6.217047         \n",
              "5 11.143211        19.200000         \n",
              "6  8.179287        11.008586         "
            ],
            "text/latex": "A tibble: 6 × 13\n\\begin{tabular}{lllllllllllll}\n percentage\\_white & percblack & percamerindan & percasian & percother & perchsd & percollege & percprof & percpovertyknown & percbelowpoverty & percchildbelowpovert & percadultpoverty & percelderlypoverty\\\\\n <dbl> & <dbl> & <dbl> & <dbl> & <dbl> & <dbl> & <dbl> & <dbl> & <dbl> & <dbl> & <dbl> & <dbl> & <dbl>\\\\\n\\hline\n\t 96.71206 &  2.5752761 & 0.1482826 & 0.37675897 & 0.18762294 & 75.10740 & 19.63139 & 4.355859 & 96.27478 & 13.151443 & 18.01172 & 11.009776 & 12.443812\\\\\n\t 66.38434 & 32.9004329 & 0.1788067 & 0.45172219 & 0.08469791 & 59.72635 & 11.24331 & 2.870315 & 99.08714 & 32.244278 & 45.82651 & 27.385647 & 25.228976\\\\\n\t 96.57128 &  2.8617170 & 0.2334734 & 0.10673071 & 0.22680275 & 69.33499 & 17.03382 & 4.488572 & 94.95697 & 12.068844 & 14.03606 & 10.852090 & 12.697410\\\\\n\t 95.25417 &  0.4122574 & 0.1493216 & 0.48691813 & 3.69733169 & 75.47219 & 17.27895 & 4.197800 & 98.47757 &  7.209019 & 11.17954 &  5.536013 &  6.217047\\\\\n\t 90.19877 &  9.3728581 & 0.2398903 & 0.08567512 & 0.10281014 & 68.86152 & 14.47600 & 3.367680 & 82.50514 & 13.520249 & 13.02289 & 11.143211 & 19.200000\\\\\n\t 98.51210 &  0.1401031 & 0.1821340 & 0.54640215 & 0.61925577 & 76.62941 & 18.90462 & 3.275891 & 98.37200 & 10.399635 & 14.15882 &  8.179287 & 11.008586\\\\\n\\end{tabular}\n",
            "text/markdown": "\nA tibble: 6 × 13\n\n| percentage_white &lt;dbl&gt; | percblack &lt;dbl&gt; | percamerindan &lt;dbl&gt; | percasian &lt;dbl&gt; | percother &lt;dbl&gt; | perchsd &lt;dbl&gt; | percollege &lt;dbl&gt; | percprof &lt;dbl&gt; | percpovertyknown &lt;dbl&gt; | percbelowpoverty &lt;dbl&gt; | percchildbelowpovert &lt;dbl&gt; | percadultpoverty &lt;dbl&gt; | percelderlypoverty &lt;dbl&gt; |\n|---|---|---|---|---|---|---|---|---|---|---|---|---|\n| 96.71206 |  2.5752761 | 0.1482826 | 0.37675897 | 0.18762294 | 75.10740 | 19.63139 | 4.355859 | 96.27478 | 13.151443 | 18.01172 | 11.009776 | 12.443812 |\n| 66.38434 | 32.9004329 | 0.1788067 | 0.45172219 | 0.08469791 | 59.72635 | 11.24331 | 2.870315 | 99.08714 | 32.244278 | 45.82651 | 27.385647 | 25.228976 |\n| 96.57128 |  2.8617170 | 0.2334734 | 0.10673071 | 0.22680275 | 69.33499 | 17.03382 | 4.488572 | 94.95697 | 12.068844 | 14.03606 | 10.852090 | 12.697410 |\n| 95.25417 |  0.4122574 | 0.1493216 | 0.48691813 | 3.69733169 | 75.47219 | 17.27895 | 4.197800 | 98.47757 |  7.209019 | 11.17954 |  5.536013 |  6.217047 |\n| 90.19877 |  9.3728581 | 0.2398903 | 0.08567512 | 0.10281014 | 68.86152 | 14.47600 | 3.367680 | 82.50514 | 13.520249 | 13.02289 | 11.143211 | 19.200000 |\n| 98.51210 |  0.1401031 | 0.1821340 | 0.54640215 | 0.61925577 | 76.62941 | 18.90462 | 3.275891 | 98.37200 | 10.399635 | 14.15882 |  8.179287 | 11.008586 |\n\n",
            "text/html": [
              "<table class=\"dataframe\">\n",
              "<caption>A tibble: 6 × 13</caption>\n",
              "<thead>\n",
              "\t<tr><th scope=col>percentage_white</th><th scope=col>percblack</th><th scope=col>percamerindan</th><th scope=col>percasian</th><th scope=col>percother</th><th scope=col>perchsd</th><th scope=col>percollege</th><th scope=col>percprof</th><th scope=col>percpovertyknown</th><th scope=col>percbelowpoverty</th><th scope=col>percchildbelowpovert</th><th scope=col>percadultpoverty</th><th scope=col>percelderlypoverty</th></tr>\n",
              "\t<tr><th scope=col>&lt;dbl&gt;</th><th scope=col>&lt;dbl&gt;</th><th scope=col>&lt;dbl&gt;</th><th scope=col>&lt;dbl&gt;</th><th scope=col>&lt;dbl&gt;</th><th scope=col>&lt;dbl&gt;</th><th scope=col>&lt;dbl&gt;</th><th scope=col>&lt;dbl&gt;</th><th scope=col>&lt;dbl&gt;</th><th scope=col>&lt;dbl&gt;</th><th scope=col>&lt;dbl&gt;</th><th scope=col>&lt;dbl&gt;</th><th scope=col>&lt;dbl&gt;</th></tr>\n",
              "</thead>\n",
              "<tbody>\n",
              "\t<tr><td>96.71206</td><td> 2.5752761</td><td>0.1482826</td><td>0.37675897</td><td>0.18762294</td><td>75.10740</td><td>19.63139</td><td>4.355859</td><td>96.27478</td><td>13.151443</td><td>18.01172</td><td>11.009776</td><td>12.443812</td></tr>\n",
              "\t<tr><td>66.38434</td><td>32.9004329</td><td>0.1788067</td><td>0.45172219</td><td>0.08469791</td><td>59.72635</td><td>11.24331</td><td>2.870315</td><td>99.08714</td><td>32.244278</td><td>45.82651</td><td>27.385647</td><td>25.228976</td></tr>\n",
              "\t<tr><td>96.57128</td><td> 2.8617170</td><td>0.2334734</td><td>0.10673071</td><td>0.22680275</td><td>69.33499</td><td>17.03382</td><td>4.488572</td><td>94.95697</td><td>12.068844</td><td>14.03606</td><td>10.852090</td><td>12.697410</td></tr>\n",
              "\t<tr><td>95.25417</td><td> 0.4122574</td><td>0.1493216</td><td>0.48691813</td><td>3.69733169</td><td>75.47219</td><td>17.27895</td><td>4.197800</td><td>98.47757</td><td> 7.209019</td><td>11.17954</td><td> 5.536013</td><td> 6.217047</td></tr>\n",
              "\t<tr><td>90.19877</td><td> 9.3728581</td><td>0.2398903</td><td>0.08567512</td><td>0.10281014</td><td>68.86152</td><td>14.47600</td><td>3.367680</td><td>82.50514</td><td>13.520249</td><td>13.02289</td><td>11.143211</td><td>19.200000</td></tr>\n",
              "\t<tr><td>98.51210</td><td> 0.1401031</td><td>0.1821340</td><td>0.54640215</td><td>0.61925577</td><td>76.62941</td><td>18.90462</td><td>3.275891</td><td>98.37200</td><td>10.399635</td><td>14.15882</td><td> 8.179287</td><td>11.008586</td></tr>\n",
              "</tbody>\n",
              "</table>\n"
            ]
          },
          "metadata": {}
        }
      ]
    },
    {
      "cell_type": "markdown",
      "source": [
        "The function `rename_with` lets you apply a (string) function to all columns by default or a specific subset"
      ],
      "metadata": {
        "id": "2-X4modwEruQ"
      }
    },
    {
      "cell_type": "code",
      "source": [
        "toupper(\"cat\")"
      ],
      "metadata": {
        "colab": {
          "base_uri": "https://localhost:8080/",
          "height": 34
        },
        "id": "GDg9jxiR06kq",
        "outputId": "36d4b9df-0ee3-4a69-d4fc-a47352ef69e4"
      },
      "execution_count": null,
      "outputs": [
        {
          "output_type": "display_data",
          "data": {
            "text/plain": [
              "[1] \"CAT\""
            ],
            "text/latex": "'CAT'",
            "text/markdown": "'CAT'",
            "text/html": [
              "'CAT'"
            ]
          },
          "metadata": {}
        }
      ]
    },
    {
      "cell_type": "code",
      "source": [
        "# capitalize all columns\n",
        "midwest %>% rename_with(toupper) %>% str"
      ],
      "metadata": {
        "id": "liA2UJXNEm13",
        "colab": {
          "base_uri": "https://localhost:8080/"
        },
        "outputId": "aa5be09e-f21c-4dba-e46a-d91e0a8a69de"
      },
      "execution_count": null,
      "outputs": [
        {
          "output_type": "stream",
          "name": "stdout",
          "text": [
            "tibble [437 × 28] (S3: tbl_df/tbl/data.frame)\n",
            " $ PID                 : int [1:437] 561 562 563 564 565 566 567 568 569 570 ...\n",
            " $ COUNTY              : chr [1:437] \"ADAMS\" \"ALEXANDER\" \"BOND\" \"BOONE\" ...\n",
            " $ STATE               : chr [1:437] \"IL\" \"IL\" \"IL\" \"IL\" ...\n",
            " $ AREA                : num [1:437] 0.052 0.014 0.022 0.017 0.018 0.05 0.017 0.027 0.024 0.058 ...\n",
            " $ POPTOTAL            : int [1:437] 66090 10626 14991 30806 5836 35688 5322 16805 13437 173025 ...\n",
            " $ POPDENSITY          : num [1:437] 1271 759 681 1812 324 ...\n",
            " $ POPWHITE            : int [1:437] 63917 7054 14477 29344 5264 35157 5298 16519 13384 146506 ...\n",
            " $ POPBLACK            : int [1:437] 1702 3496 429 127 547 50 1 111 16 16559 ...\n",
            " $ POPAMERINDIAN       : int [1:437] 98 19 35 46 14 65 8 30 8 331 ...\n",
            " $ POPASIAN            : int [1:437] 249 48 16 150 5 195 15 61 23 8033 ...\n",
            " $ POPOTHER            : int [1:437] 124 9 34 1139 6 221 0 84 6 1596 ...\n",
            " $ PERCWHITE           : num [1:437] 96.7 66.4 96.6 95.3 90.2 ...\n",
            " $ PERCBLACK           : num [1:437] 2.575 32.9 2.862 0.412 9.373 ...\n",
            " $ PERCAMERINDAN       : num [1:437] 0.148 0.179 0.233 0.149 0.24 ...\n",
            " $ PERCASIAN           : num [1:437] 0.3768 0.4517 0.1067 0.4869 0.0857 ...\n",
            " $ PERCOTHER           : num [1:437] 0.1876 0.0847 0.2268 3.6973 0.1028 ...\n",
            " $ POPADULTS           : int [1:437] 43298 6724 9669 19272 3979 23444 3583 11323 8825 95971 ...\n",
            " $ PERCHSD             : num [1:437] 75.1 59.7 69.3 75.5 68.9 ...\n",
            " $ PERCOLLEGE          : num [1:437] 19.6 11.2 17 17.3 14.5 ...\n",
            " $ PERCPROF            : num [1:437] 4.36 2.87 4.49 4.2 3.37 ...\n",
            " $ POPPOVERTYKNOWN     : int [1:437] 63628 10529 14235 30337 4815 35107 5241 16455 13081 154934 ...\n",
            " $ PERCPOVERTYKNOWN    : num [1:437] 96.3 99.1 95 98.5 82.5 ...\n",
            " $ PERCBELOWPOVERTY    : num [1:437] 13.15 32.24 12.07 7.21 13.52 ...\n",
            " $ PERCCHILDBELOWPOVERT: num [1:437] 18 45.8 14 11.2 13 ...\n",
            " $ PERCADULTPOVERTY    : num [1:437] 11.01 27.39 10.85 5.54 11.14 ...\n",
            " $ PERCELDERLYPOVERTY  : num [1:437] 12.44 25.23 12.7 6.22 19.2 ...\n",
            " $ INMETRO             : int [1:437] 0 0 0 1 0 0 0 0 0 1 ...\n",
            " $ CATEGORY            : chr [1:437] \"AAR\" \"LHR\" \"AAR\" \"ALU\" ...\n"
          ]
        }
      ]
    },
    {
      "cell_type": "code",
      "source": [
        "# as an example\n",
        "midwest %>% mutate(county = tolower(county)) %>% head(10)"
      ],
      "metadata": {
        "colab": {
          "base_uri": "https://localhost:8080/",
          "height": 432
        },
        "id": "oh8KlXAg1Xcf",
        "outputId": "3c57f7cf-a214-4bf9-e581-105d86644c37"
      },
      "execution_count": null,
      "outputs": [
        {
          "output_type": "display_data",
          "data": {
            "text/plain": [
              "   PID county    state area  poptotal popdensity popwhite popblack\n",
              "1  561 adams     IL    0.052  66090   1270.9615   63917    1702   \n",
              "2  562 alexander IL    0.014  10626    759.0000    7054    3496   \n",
              "3  563 bond      IL    0.022  14991    681.4091   14477     429   \n",
              "4  564 boone     IL    0.017  30806   1812.1176   29344     127   \n",
              "5  565 brown     IL    0.018   5836    324.2222    5264     547   \n",
              "6  566 bureau    IL    0.050  35688    713.7600   35157      50   \n",
              "7  567 calhoun   IL    0.017   5322    313.0588    5298       1   \n",
              "8  568 carroll   IL    0.027  16805    622.4074   16519     111   \n",
              "9  569 cass      IL    0.024  13437    559.8750   13384      16   \n",
              "10 570 champaign IL    0.058 173025   2983.1897  146506   16559   \n",
              "   popamerindian popasian ⋯ percollege percprof  poppovertyknown\n",
              "1   98            249     ⋯ 19.63139    4.355859  63628         \n",
              "2   19             48     ⋯ 11.24331    2.870315  10529         \n",
              "3   35             16     ⋯ 17.03382    4.488572  14235         \n",
              "4   46            150     ⋯ 17.27895    4.197800  30337         \n",
              "5   14              5     ⋯ 14.47600    3.367680   4815         \n",
              "6   65            195     ⋯ 18.90462    3.275891  35107         \n",
              "7    8             15     ⋯ 11.91739    3.209601   5241         \n",
              "8   30             61     ⋯ 16.19712    3.055727  16455         \n",
              "9    8             23     ⋯ 14.10765    3.206799  13081         \n",
              "10 331           8033     ⋯ 41.29581   17.757448 154934         \n",
              "   percpovertyknown percbelowpoverty percchildbelowpovert percadultpoverty\n",
              "1  96.27478         13.151443        18.01172             11.009776       \n",
              "2  99.08714         32.244278        45.82651             27.385647       \n",
              "3  94.95697         12.068844        14.03606             10.852090       \n",
              "4  98.47757          7.209019        11.17954              5.536013       \n",
              "5  82.50514         13.520249        13.02289             11.143211       \n",
              "6  98.37200         10.399635        14.15882              8.179287       \n",
              "7  98.47802         15.149781        13.78776             12.932331       \n",
              "8  97.91729         11.710726        17.22546             10.027037       \n",
              "9  97.35060         13.875086        17.99478             11.914343       \n",
              "10 89.54429         15.572437        14.13223             17.562728       \n",
              "   percelderlypoverty inmetro category\n",
              "1  12.443812          0       AAR     \n",
              "2  25.228976          0       LHR     \n",
              "3  12.697410          0       AAR     \n",
              "4   6.217047          1       ALU     \n",
              "5  19.200000          0       AAR     \n",
              "6  11.008586          0       AAR     \n",
              "7  21.085271          0       LAR     \n",
              "8   9.525052          0       AAR     \n",
              "9  13.660180          0       AAR     \n",
              "10  8.105017          1       HAU     "
            ],
            "text/latex": "A tibble: 10 × 28\n\\begin{tabular}{lllllllllllllllllllll}\n PID & county & state & area & poptotal & popdensity & popwhite & popblack & popamerindian & popasian & ⋯ & percollege & percprof & poppovertyknown & percpovertyknown & percbelowpoverty & percchildbelowpovert & percadultpoverty & percelderlypoverty & inmetro & category\\\\\n <int> & <chr> & <chr> & <dbl> & <int> & <dbl> & <int> & <int> & <int> & <int> & ⋯ & <dbl> & <dbl> & <int> & <dbl> & <dbl> & <dbl> & <dbl> & <dbl> & <int> & <chr>\\\\\n\\hline\n\t 561 & adams     & IL & 0.052 &  66090 & 1270.9615 &  63917 &  1702 &  98 &  249 & ⋯ & 19.63139 &  4.355859 &  63628 & 96.27478 & 13.151443 & 18.01172 & 11.009776 & 12.443812 & 0 & AAR\\\\\n\t 562 & alexander & IL & 0.014 &  10626 &  759.0000 &   7054 &  3496 &  19 &   48 & ⋯ & 11.24331 &  2.870315 &  10529 & 99.08714 & 32.244278 & 45.82651 & 27.385647 & 25.228976 & 0 & LHR\\\\\n\t 563 & bond      & IL & 0.022 &  14991 &  681.4091 &  14477 &   429 &  35 &   16 & ⋯ & 17.03382 &  4.488572 &  14235 & 94.95697 & 12.068844 & 14.03606 & 10.852090 & 12.697410 & 0 & AAR\\\\\n\t 564 & boone     & IL & 0.017 &  30806 & 1812.1176 &  29344 &   127 &  46 &  150 & ⋯ & 17.27895 &  4.197800 &  30337 & 98.47757 &  7.209019 & 11.17954 &  5.536013 &  6.217047 & 1 & ALU\\\\\n\t 565 & brown     & IL & 0.018 &   5836 &  324.2222 &   5264 &   547 &  14 &    5 & ⋯ & 14.47600 &  3.367680 &   4815 & 82.50514 & 13.520249 & 13.02289 & 11.143211 & 19.200000 & 0 & AAR\\\\\n\t 566 & bureau    & IL & 0.050 &  35688 &  713.7600 &  35157 &    50 &  65 &  195 & ⋯ & 18.90462 &  3.275891 &  35107 & 98.37200 & 10.399635 & 14.15882 &  8.179287 & 11.008586 & 0 & AAR\\\\\n\t 567 & calhoun   & IL & 0.017 &   5322 &  313.0588 &   5298 &     1 &   8 &   15 & ⋯ & 11.91739 &  3.209601 &   5241 & 98.47802 & 15.149781 & 13.78776 & 12.932331 & 21.085271 & 0 & LAR\\\\\n\t 568 & carroll   & IL & 0.027 &  16805 &  622.4074 &  16519 &   111 &  30 &   61 & ⋯ & 16.19712 &  3.055727 &  16455 & 97.91729 & 11.710726 & 17.22546 & 10.027037 &  9.525052 & 0 & AAR\\\\\n\t 569 & cass      & IL & 0.024 &  13437 &  559.8750 &  13384 &    16 &   8 &   23 & ⋯ & 14.10765 &  3.206799 &  13081 & 97.35060 & 13.875086 & 17.99478 & 11.914343 & 13.660180 & 0 & AAR\\\\\n\t 570 & champaign & IL & 0.058 & 173025 & 2983.1897 & 146506 & 16559 & 331 & 8033 & ⋯ & 41.29581 & 17.757448 & 154934 & 89.54429 & 15.572437 & 14.13223 & 17.562728 &  8.105017 & 1 & HAU\\\\\n\\end{tabular}\n",
            "text/markdown": "\nA tibble: 10 × 28\n\n| PID &lt;int&gt; | county &lt;chr&gt; | state &lt;chr&gt; | area &lt;dbl&gt; | poptotal &lt;int&gt; | popdensity &lt;dbl&gt; | popwhite &lt;int&gt; | popblack &lt;int&gt; | popamerindian &lt;int&gt; | popasian &lt;int&gt; | ⋯ ⋯ | percollege &lt;dbl&gt; | percprof &lt;dbl&gt; | poppovertyknown &lt;int&gt; | percpovertyknown &lt;dbl&gt; | percbelowpoverty &lt;dbl&gt; | percchildbelowpovert &lt;dbl&gt; | percadultpoverty &lt;dbl&gt; | percelderlypoverty &lt;dbl&gt; | inmetro &lt;int&gt; | category &lt;chr&gt; |\n|---|---|---|---|---|---|---|---|---|---|---|---|---|---|---|---|---|---|---|---|---|\n| 561 | adams     | IL | 0.052 |  66090 | 1270.9615 |  63917 |  1702 |  98 |  249 | ⋯ | 19.63139 |  4.355859 |  63628 | 96.27478 | 13.151443 | 18.01172 | 11.009776 | 12.443812 | 0 | AAR |\n| 562 | alexander | IL | 0.014 |  10626 |  759.0000 |   7054 |  3496 |  19 |   48 | ⋯ | 11.24331 |  2.870315 |  10529 | 99.08714 | 32.244278 | 45.82651 | 27.385647 | 25.228976 | 0 | LHR |\n| 563 | bond      | IL | 0.022 |  14991 |  681.4091 |  14477 |   429 |  35 |   16 | ⋯ | 17.03382 |  4.488572 |  14235 | 94.95697 | 12.068844 | 14.03606 | 10.852090 | 12.697410 | 0 | AAR |\n| 564 | boone     | IL | 0.017 |  30806 | 1812.1176 |  29344 |   127 |  46 |  150 | ⋯ | 17.27895 |  4.197800 |  30337 | 98.47757 |  7.209019 | 11.17954 |  5.536013 |  6.217047 | 1 | ALU |\n| 565 | brown     | IL | 0.018 |   5836 |  324.2222 |   5264 |   547 |  14 |    5 | ⋯ | 14.47600 |  3.367680 |   4815 | 82.50514 | 13.520249 | 13.02289 | 11.143211 | 19.200000 | 0 | AAR |\n| 566 | bureau    | IL | 0.050 |  35688 |  713.7600 |  35157 |    50 |  65 |  195 | ⋯ | 18.90462 |  3.275891 |  35107 | 98.37200 | 10.399635 | 14.15882 |  8.179287 | 11.008586 | 0 | AAR |\n| 567 | calhoun   | IL | 0.017 |   5322 |  313.0588 |   5298 |     1 |   8 |   15 | ⋯ | 11.91739 |  3.209601 |   5241 | 98.47802 | 15.149781 | 13.78776 | 12.932331 | 21.085271 | 0 | LAR |\n| 568 | carroll   | IL | 0.027 |  16805 |  622.4074 |  16519 |   111 |  30 |   61 | ⋯ | 16.19712 |  3.055727 |  16455 | 97.91729 | 11.710726 | 17.22546 | 10.027037 |  9.525052 | 0 | AAR |\n| 569 | cass      | IL | 0.024 |  13437 |  559.8750 |  13384 |    16 |   8 |   23 | ⋯ | 14.10765 |  3.206799 |  13081 | 97.35060 | 13.875086 | 17.99478 | 11.914343 | 13.660180 | 0 | AAR |\n| 570 | champaign | IL | 0.058 | 173025 | 2983.1897 | 146506 | 16559 | 331 | 8033 | ⋯ | 41.29581 | 17.757448 | 154934 | 89.54429 | 15.572437 | 14.13223 | 17.562728 |  8.105017 | 1 | HAU |\n\n",
            "text/html": [
              "<table class=\"dataframe\">\n",
              "<caption>A tibble: 10 × 28</caption>\n",
              "<thead>\n",
              "\t<tr><th scope=col>PID</th><th scope=col>county</th><th scope=col>state</th><th scope=col>area</th><th scope=col>poptotal</th><th scope=col>popdensity</th><th scope=col>popwhite</th><th scope=col>popblack</th><th scope=col>popamerindian</th><th scope=col>popasian</th><th scope=col>⋯</th><th scope=col>percollege</th><th scope=col>percprof</th><th scope=col>poppovertyknown</th><th scope=col>percpovertyknown</th><th scope=col>percbelowpoverty</th><th scope=col>percchildbelowpovert</th><th scope=col>percadultpoverty</th><th scope=col>percelderlypoverty</th><th scope=col>inmetro</th><th scope=col>category</th></tr>\n",
              "\t<tr><th scope=col>&lt;int&gt;</th><th scope=col>&lt;chr&gt;</th><th scope=col>&lt;chr&gt;</th><th scope=col>&lt;dbl&gt;</th><th scope=col>&lt;int&gt;</th><th scope=col>&lt;dbl&gt;</th><th scope=col>&lt;int&gt;</th><th scope=col>&lt;int&gt;</th><th scope=col>&lt;int&gt;</th><th scope=col>&lt;int&gt;</th><th scope=col>⋯</th><th scope=col>&lt;dbl&gt;</th><th scope=col>&lt;dbl&gt;</th><th scope=col>&lt;int&gt;</th><th scope=col>&lt;dbl&gt;</th><th scope=col>&lt;dbl&gt;</th><th scope=col>&lt;dbl&gt;</th><th scope=col>&lt;dbl&gt;</th><th scope=col>&lt;dbl&gt;</th><th scope=col>&lt;int&gt;</th><th scope=col>&lt;chr&gt;</th></tr>\n",
              "</thead>\n",
              "<tbody>\n",
              "\t<tr><td>561</td><td>adams    </td><td>IL</td><td>0.052</td><td> 66090</td><td>1270.9615</td><td> 63917</td><td> 1702</td><td> 98</td><td> 249</td><td>⋯</td><td>19.63139</td><td> 4.355859</td><td> 63628</td><td>96.27478</td><td>13.151443</td><td>18.01172</td><td>11.009776</td><td>12.443812</td><td>0</td><td>AAR</td></tr>\n",
              "\t<tr><td>562</td><td>alexander</td><td>IL</td><td>0.014</td><td> 10626</td><td> 759.0000</td><td>  7054</td><td> 3496</td><td> 19</td><td>  48</td><td>⋯</td><td>11.24331</td><td> 2.870315</td><td> 10529</td><td>99.08714</td><td>32.244278</td><td>45.82651</td><td>27.385647</td><td>25.228976</td><td>0</td><td>LHR</td></tr>\n",
              "\t<tr><td>563</td><td>bond     </td><td>IL</td><td>0.022</td><td> 14991</td><td> 681.4091</td><td> 14477</td><td>  429</td><td> 35</td><td>  16</td><td>⋯</td><td>17.03382</td><td> 4.488572</td><td> 14235</td><td>94.95697</td><td>12.068844</td><td>14.03606</td><td>10.852090</td><td>12.697410</td><td>0</td><td>AAR</td></tr>\n",
              "\t<tr><td>564</td><td>boone    </td><td>IL</td><td>0.017</td><td> 30806</td><td>1812.1176</td><td> 29344</td><td>  127</td><td> 46</td><td> 150</td><td>⋯</td><td>17.27895</td><td> 4.197800</td><td> 30337</td><td>98.47757</td><td> 7.209019</td><td>11.17954</td><td> 5.536013</td><td> 6.217047</td><td>1</td><td>ALU</td></tr>\n",
              "\t<tr><td>565</td><td>brown    </td><td>IL</td><td>0.018</td><td>  5836</td><td> 324.2222</td><td>  5264</td><td>  547</td><td> 14</td><td>   5</td><td>⋯</td><td>14.47600</td><td> 3.367680</td><td>  4815</td><td>82.50514</td><td>13.520249</td><td>13.02289</td><td>11.143211</td><td>19.200000</td><td>0</td><td>AAR</td></tr>\n",
              "\t<tr><td>566</td><td>bureau   </td><td>IL</td><td>0.050</td><td> 35688</td><td> 713.7600</td><td> 35157</td><td>   50</td><td> 65</td><td> 195</td><td>⋯</td><td>18.90462</td><td> 3.275891</td><td> 35107</td><td>98.37200</td><td>10.399635</td><td>14.15882</td><td> 8.179287</td><td>11.008586</td><td>0</td><td>AAR</td></tr>\n",
              "\t<tr><td>567</td><td>calhoun  </td><td>IL</td><td>0.017</td><td>  5322</td><td> 313.0588</td><td>  5298</td><td>    1</td><td>  8</td><td>  15</td><td>⋯</td><td>11.91739</td><td> 3.209601</td><td>  5241</td><td>98.47802</td><td>15.149781</td><td>13.78776</td><td>12.932331</td><td>21.085271</td><td>0</td><td>LAR</td></tr>\n",
              "\t<tr><td>568</td><td>carroll  </td><td>IL</td><td>0.027</td><td> 16805</td><td> 622.4074</td><td> 16519</td><td>  111</td><td> 30</td><td>  61</td><td>⋯</td><td>16.19712</td><td> 3.055727</td><td> 16455</td><td>97.91729</td><td>11.710726</td><td>17.22546</td><td>10.027037</td><td> 9.525052</td><td>0</td><td>AAR</td></tr>\n",
              "\t<tr><td>569</td><td>cass     </td><td>IL</td><td>0.024</td><td> 13437</td><td> 559.8750</td><td> 13384</td><td>   16</td><td>  8</td><td>  23</td><td>⋯</td><td>14.10765</td><td> 3.206799</td><td> 13081</td><td>97.35060</td><td>13.875086</td><td>17.99478</td><td>11.914343</td><td>13.660180</td><td>0</td><td>AAR</td></tr>\n",
              "\t<tr><td>570</td><td>champaign</td><td>IL</td><td>0.058</td><td>173025</td><td>2983.1897</td><td>146506</td><td>16559</td><td>331</td><td>8033</td><td>⋯</td><td>41.29581</td><td>17.757448</td><td>154934</td><td>89.54429</td><td>15.572437</td><td>14.13223</td><td>17.562728</td><td> 8.105017</td><td>1</td><td>HAU</td></tr>\n",
              "</tbody>\n",
              "</table>\n"
            ]
          },
          "metadata": {}
        }
      ]
    },
    {
      "cell_type": "code",
      "source": [
        "# capitalize only columns of chr (string) type\n",
        "midwest %>% rename_with(toupper, where(is.character)) %>% str\n",
        "# first arg: function used for renaming\n",
        "# second arg: logical criterion: which columns to rename\n",
        "# (defaults to all columns)"
      ],
      "metadata": {
        "id": "tbp0H4zfE5vT",
        "colab": {
          "base_uri": "https://localhost:8080/"
        },
        "outputId": "275f72cd-d070-4e38-ee56-bc2b722fc5e1"
      },
      "execution_count": null,
      "outputs": [
        {
          "output_type": "stream",
          "name": "stdout",
          "text": [
            "tibble [437 × 28] (S3: tbl_df/tbl/data.frame)\n",
            " $ PID                 : int [1:437] 561 562 563 564 565 566 567 568 569 570 ...\n",
            " $ COUNTY              : chr [1:437] \"ADAMS\" \"ALEXANDER\" \"BOND\" \"BOONE\" ...\n",
            " $ STATE               : chr [1:437] \"IL\" \"IL\" \"IL\" \"IL\" ...\n",
            " $ area                : num [1:437] 0.052 0.014 0.022 0.017 0.018 0.05 0.017 0.027 0.024 0.058 ...\n",
            " $ poptotal            : int [1:437] 66090 10626 14991 30806 5836 35688 5322 16805 13437 173025 ...\n",
            " $ popdensity          : num [1:437] 1271 759 681 1812 324 ...\n",
            " $ popwhite            : int [1:437] 63917 7054 14477 29344 5264 35157 5298 16519 13384 146506 ...\n",
            " $ popblack            : int [1:437] 1702 3496 429 127 547 50 1 111 16 16559 ...\n",
            " $ popamerindian       : int [1:437] 98 19 35 46 14 65 8 30 8 331 ...\n",
            " $ popasian            : int [1:437] 249 48 16 150 5 195 15 61 23 8033 ...\n",
            " $ popother            : int [1:437] 124 9 34 1139 6 221 0 84 6 1596 ...\n",
            " $ percwhite           : num [1:437] 96.7 66.4 96.6 95.3 90.2 ...\n",
            " $ percblack           : num [1:437] 2.575 32.9 2.862 0.412 9.373 ...\n",
            " $ percamerindan       : num [1:437] 0.148 0.179 0.233 0.149 0.24 ...\n",
            " $ percasian           : num [1:437] 0.3768 0.4517 0.1067 0.4869 0.0857 ...\n",
            " $ percother           : num [1:437] 0.1876 0.0847 0.2268 3.6973 0.1028 ...\n",
            " $ popadults           : int [1:437] 43298 6724 9669 19272 3979 23444 3583 11323 8825 95971 ...\n",
            " $ perchsd             : num [1:437] 75.1 59.7 69.3 75.5 68.9 ...\n",
            " $ percollege          : num [1:437] 19.6 11.2 17 17.3 14.5 ...\n",
            " $ percprof            : num [1:437] 4.36 2.87 4.49 4.2 3.37 ...\n",
            " $ poppovertyknown     : int [1:437] 63628 10529 14235 30337 4815 35107 5241 16455 13081 154934 ...\n",
            " $ percpovertyknown    : num [1:437] 96.3 99.1 95 98.5 82.5 ...\n",
            " $ percbelowpoverty    : num [1:437] 13.15 32.24 12.07 7.21 13.52 ...\n",
            " $ percchildbelowpovert: num [1:437] 18 45.8 14 11.2 13 ...\n",
            " $ percadultpoverty    : num [1:437] 11.01 27.39 10.85 5.54 11.14 ...\n",
            " $ percelderlypoverty  : num [1:437] 12.44 25.23 12.7 6.22 19.2 ...\n",
            " $ inmetro             : int [1:437] 0 0 0 1 0 0 0 0 0 1 ...\n",
            " $ CATEGORY            : chr [1:437] \"AAR\" \"LHR\" \"AAR\" \"ALU\" ...\n"
          ]
        }
      ]
    },
    {
      "cell_type": "markdown",
      "source": [
        "## 1.3 Mutate\n",
        "\n",
        "Apply a function to an old column to obtain a new one"
      ],
      "metadata": {
        "id": "6UTs4jEs288m"
      }
    },
    {
      "cell_type": "code",
      "source": [
        "midwest %>% mutate(county = tolower(county)) %>% select(county, state) %>% head"
      ],
      "metadata": {
        "id": "RL63d_8zBSh1",
        "colab": {
          "base_uri": "https://localhost:8080/",
          "height": 286
        },
        "outputId": "6ea23250-d0e4-4125-80f1-30715f83c290"
      },
      "execution_count": null,
      "outputs": [
        {
          "output_type": "display_data",
          "data": {
            "text/plain": [
              "  county    state\n",
              "1 adams     IL   \n",
              "2 alexander IL   \n",
              "3 bond      IL   \n",
              "4 boone     IL   \n",
              "5 brown     IL   \n",
              "6 bureau    IL   "
            ],
            "text/latex": "A tibble: 6 × 2\n\\begin{tabular}{ll}\n county & state\\\\\n <chr> & <chr>\\\\\n\\hline\n\t adams     & IL\\\\\n\t alexander & IL\\\\\n\t bond      & IL\\\\\n\t boone     & IL\\\\\n\t brown     & IL\\\\\n\t bureau    & IL\\\\\n\\end{tabular}\n",
            "text/markdown": "\nA tibble: 6 × 2\n\n| county &lt;chr&gt; | state &lt;chr&gt; |\n|---|---|\n| adams     | IL |\n| alexander | IL |\n| bond      | IL |\n| boone     | IL |\n| brown     | IL |\n| bureau    | IL |\n\n",
            "text/html": [
              "<table class=\"dataframe\">\n",
              "<caption>A tibble: 6 × 2</caption>\n",
              "<thead>\n",
              "\t<tr><th scope=col>county</th><th scope=col>state</th></tr>\n",
              "\t<tr><th scope=col>&lt;chr&gt;</th><th scope=col>&lt;chr&gt;</th></tr>\n",
              "</thead>\n",
              "<tbody>\n",
              "\t<tr><td>adams    </td><td>IL</td></tr>\n",
              "\t<tr><td>alexander</td><td>IL</td></tr>\n",
              "\t<tr><td>bond     </td><td>IL</td></tr>\n",
              "\t<tr><td>boone    </td><td>IL</td></tr>\n",
              "\t<tr><td>brown    </td><td>IL</td></tr>\n",
              "\t<tr><td>bureau   </td><td>IL</td></tr>\n",
              "</tbody>\n",
              "</table>\n"
            ]
          },
          "metadata": {}
        }
      ]
    },
    {
      "cell_type": "code",
      "source": [
        "midwest %>% mutate(lowercase_county = tolower(county)) %>% select(county, state, lowercase_county) %>% head"
      ],
      "metadata": {
        "colab": {
          "base_uri": "https://localhost:8080/",
          "height": 286
        },
        "id": "3NyEnpOx2K1k",
        "outputId": "c741f45e-26db-4929-bbe9-5e8c134a13c9"
      },
      "execution_count": null,
      "outputs": [
        {
          "output_type": "display_data",
          "data": {
            "text/plain": [
              "  county    state lowercase_county\n",
              "1 ADAMS     IL    adams           \n",
              "2 ALEXANDER IL    alexander       \n",
              "3 BOND      IL    bond            \n",
              "4 BOONE     IL    boone           \n",
              "5 BROWN     IL    brown           \n",
              "6 BUREAU    IL    bureau          "
            ],
            "text/latex": "A tibble: 6 × 3\n\\begin{tabular}{lll}\n county & state & lowercase\\_county\\\\\n <chr> & <chr> & <chr>\\\\\n\\hline\n\t ADAMS     & IL & adams    \\\\\n\t ALEXANDER & IL & alexander\\\\\n\t BOND      & IL & bond     \\\\\n\t BOONE     & IL & boone    \\\\\n\t BROWN     & IL & brown    \\\\\n\t BUREAU    & IL & bureau   \\\\\n\\end{tabular}\n",
            "text/markdown": "\nA tibble: 6 × 3\n\n| county &lt;chr&gt; | state &lt;chr&gt; | lowercase_county &lt;chr&gt; |\n|---|---|---|\n| ADAMS     | IL | adams     |\n| ALEXANDER | IL | alexander |\n| BOND      | IL | bond      |\n| BOONE     | IL | boone     |\n| BROWN     | IL | brown     |\n| BUREAU    | IL | bureau    |\n\n",
            "text/html": [
              "<table class=\"dataframe\">\n",
              "<caption>A tibble: 6 × 3</caption>\n",
              "<thead>\n",
              "\t<tr><th scope=col>county</th><th scope=col>state</th><th scope=col>lowercase_county</th></tr>\n",
              "\t<tr><th scope=col>&lt;chr&gt;</th><th scope=col>&lt;chr&gt;</th><th scope=col>&lt;chr&gt;</th></tr>\n",
              "</thead>\n",
              "<tbody>\n",
              "\t<tr><td>ADAMS    </td><td>IL</td><td>adams    </td></tr>\n",
              "\t<tr><td>ALEXANDER</td><td>IL</td><td>alexander</td></tr>\n",
              "\t<tr><td>BOND     </td><td>IL</td><td>bond     </td></tr>\n",
              "\t<tr><td>BOONE    </td><td>IL</td><td>boone    </td></tr>\n",
              "\t<tr><td>BROWN    </td><td>IL</td><td>brown    </td></tr>\n",
              "\t<tr><td>BUREAU   </td><td>IL</td><td>bureau   </td></tr>\n",
              "</tbody>\n",
              "</table>\n"
            ]
          },
          "metadata": {}
        }
      ]
    },
    {
      "cell_type": "code",
      "source": [
        "midwest %>% mutate(logpop = log(poptotal)) %>% select(1:5, 29) %>% head"
      ],
      "metadata": {
        "id": "FZpwhHRXBc49",
        "colab": {
          "base_uri": "https://localhost:8080/",
          "height": 286
        },
        "outputId": "7dee2e16-545e-42d8-b642-7ca155bf183b"
      },
      "execution_count": null,
      "outputs": [
        {
          "output_type": "display_data",
          "data": {
            "text/plain": [
              "  PID county    state area  poptotal logpop   \n",
              "1 561 ADAMS     IL    0.052 66090    11.098773\n",
              "2 562 ALEXANDER IL    0.014 10626     9.271059\n",
              "3 563 BOND      IL    0.022 14991     9.615205\n",
              "4 564 BOONE     IL    0.017 30806    10.335465\n",
              "5 565 BROWN     IL    0.018  5836     8.671801\n",
              "6 566 BUREAU    IL    0.050 35688    10.482570"
            ],
            "text/latex": "A tibble: 6 × 6\n\\begin{tabular}{llllll}\n PID & county & state & area & poptotal & logpop\\\\\n <int> & <chr> & <chr> & <dbl> & <int> & <dbl>\\\\\n\\hline\n\t 561 & ADAMS     & IL & 0.052 & 66090 & 11.098773\\\\\n\t 562 & ALEXANDER & IL & 0.014 & 10626 &  9.271059\\\\\n\t 563 & BOND      & IL & 0.022 & 14991 &  9.615205\\\\\n\t 564 & BOONE     & IL & 0.017 & 30806 & 10.335465\\\\\n\t 565 & BROWN     & IL & 0.018 &  5836 &  8.671801\\\\\n\t 566 & BUREAU    & IL & 0.050 & 35688 & 10.482570\\\\\n\\end{tabular}\n",
            "text/markdown": "\nA tibble: 6 × 6\n\n| PID &lt;int&gt; | county &lt;chr&gt; | state &lt;chr&gt; | area &lt;dbl&gt; | poptotal &lt;int&gt; | logpop &lt;dbl&gt; |\n|---|---|---|---|---|---|\n| 561 | ADAMS     | IL | 0.052 | 66090 | 11.098773 |\n| 562 | ALEXANDER | IL | 0.014 | 10626 |  9.271059 |\n| 563 | BOND      | IL | 0.022 | 14991 |  9.615205 |\n| 564 | BOONE     | IL | 0.017 | 30806 | 10.335465 |\n| 565 | BROWN     | IL | 0.018 |  5836 |  8.671801 |\n| 566 | BUREAU    | IL | 0.050 | 35688 | 10.482570 |\n\n",
            "text/html": [
              "<table class=\"dataframe\">\n",
              "<caption>A tibble: 6 × 6</caption>\n",
              "<thead>\n",
              "\t<tr><th scope=col>PID</th><th scope=col>county</th><th scope=col>state</th><th scope=col>area</th><th scope=col>poptotal</th><th scope=col>logpop</th></tr>\n",
              "\t<tr><th scope=col>&lt;int&gt;</th><th scope=col>&lt;chr&gt;</th><th scope=col>&lt;chr&gt;</th><th scope=col>&lt;dbl&gt;</th><th scope=col>&lt;int&gt;</th><th scope=col>&lt;dbl&gt;</th></tr>\n",
              "</thead>\n",
              "<tbody>\n",
              "\t<tr><td>561</td><td>ADAMS    </td><td>IL</td><td>0.052</td><td>66090</td><td>11.098773</td></tr>\n",
              "\t<tr><td>562</td><td>ALEXANDER</td><td>IL</td><td>0.014</td><td>10626</td><td> 9.271059</td></tr>\n",
              "\t<tr><td>563</td><td>BOND     </td><td>IL</td><td>0.022</td><td>14991</td><td> 9.615205</td></tr>\n",
              "\t<tr><td>564</td><td>BOONE    </td><td>IL</td><td>0.017</td><td>30806</td><td>10.335465</td></tr>\n",
              "\t<tr><td>565</td><td>BROWN    </td><td>IL</td><td>0.018</td><td> 5836</td><td> 8.671801</td></tr>\n",
              "\t<tr><td>566</td><td>BUREAU   </td><td>IL</td><td>0.050</td><td>35688</td><td>10.482570</td></tr>\n",
              "</tbody>\n",
              "</table>\n"
            ]
          },
          "metadata": {}
        }
      ]
    },
    {
      "cell_type": "code",
      "source": [
        "midwest %>% mutate(logpop = log(poptotal)) %>% arrange(desc(logpop)) %>% select(1:5, 29) %>% head\n"
      ],
      "metadata": {
        "colab": {
          "base_uri": "https://localhost:8080/",
          "height": 286
        },
        "id": "WAZwRT-812Iz",
        "outputId": "7ce5ad88-05a5-4109-d764-e32dc0d65ef8"
      },
      "execution_count": null,
      "outputs": [
        {
          "output_type": "display_data",
          "data": {
            "text/plain": [
              "  PID  county    state area  poptotal logpop  \n",
              "1  576 COOK      IL    0.058 5105067  15.44574\n",
              "2 1278 WAYNE     MI    0.035 2111687  14.56300\n",
              "3 2026 CUYAHOGA  OH    0.026 1412140  14.16062\n",
              "4 1259 OAKLAND   MI    0.055 1083592  13.89579\n",
              "5 2033 FRANKLIN  OH    0.034  961437  13.77618\n",
              "6 3021 MILWAUKEE WI    0.015  959275  13.77393"
            ],
            "text/latex": "A tibble: 6 × 6\n\\begin{tabular}{llllll}\n PID & county & state & area & poptotal & logpop\\\\\n <int> & <chr> & <chr> & <dbl> & <int> & <dbl>\\\\\n\\hline\n\t  576 & COOK      & IL & 0.058 & 5105067 & 15.44574\\\\\n\t 1278 & WAYNE     & MI & 0.035 & 2111687 & 14.56300\\\\\n\t 2026 & CUYAHOGA  & OH & 0.026 & 1412140 & 14.16062\\\\\n\t 1259 & OAKLAND   & MI & 0.055 & 1083592 & 13.89579\\\\\n\t 2033 & FRANKLIN  & OH & 0.034 &  961437 & 13.77618\\\\\n\t 3021 & MILWAUKEE & WI & 0.015 &  959275 & 13.77393\\\\\n\\end{tabular}\n",
            "text/markdown": "\nA tibble: 6 × 6\n\n| PID &lt;int&gt; | county &lt;chr&gt; | state &lt;chr&gt; | area &lt;dbl&gt; | poptotal &lt;int&gt; | logpop &lt;dbl&gt; |\n|---|---|---|---|---|---|\n|  576 | COOK      | IL | 0.058 | 5105067 | 15.44574 |\n| 1278 | WAYNE     | MI | 0.035 | 2111687 | 14.56300 |\n| 2026 | CUYAHOGA  | OH | 0.026 | 1412140 | 14.16062 |\n| 1259 | OAKLAND   | MI | 0.055 | 1083592 | 13.89579 |\n| 2033 | FRANKLIN  | OH | 0.034 |  961437 | 13.77618 |\n| 3021 | MILWAUKEE | WI | 0.015 |  959275 | 13.77393 |\n\n",
            "text/html": [
              "<table class=\"dataframe\">\n",
              "<caption>A tibble: 6 × 6</caption>\n",
              "<thead>\n",
              "\t<tr><th scope=col>PID</th><th scope=col>county</th><th scope=col>state</th><th scope=col>area</th><th scope=col>poptotal</th><th scope=col>logpop</th></tr>\n",
              "\t<tr><th scope=col>&lt;int&gt;</th><th scope=col>&lt;chr&gt;</th><th scope=col>&lt;chr&gt;</th><th scope=col>&lt;dbl&gt;</th><th scope=col>&lt;int&gt;</th><th scope=col>&lt;dbl&gt;</th></tr>\n",
              "</thead>\n",
              "<tbody>\n",
              "\t<tr><td> 576</td><td>COOK     </td><td>IL</td><td>0.058</td><td>5105067</td><td>15.44574</td></tr>\n",
              "\t<tr><td>1278</td><td>WAYNE    </td><td>MI</td><td>0.035</td><td>2111687</td><td>14.56300</td></tr>\n",
              "\t<tr><td>2026</td><td>CUYAHOGA </td><td>OH</td><td>0.026</td><td>1412140</td><td>14.16062</td></tr>\n",
              "\t<tr><td>1259</td><td>OAKLAND  </td><td>MI</td><td>0.055</td><td>1083592</td><td>13.89579</td></tr>\n",
              "\t<tr><td>2033</td><td>FRANKLIN </td><td>OH</td><td>0.034</td><td> 961437</td><td>13.77618</td></tr>\n",
              "\t<tr><td>3021</td><td>MILWAUKEE</td><td>WI</td><td>0.015</td><td> 959275</td><td>13.77393</td></tr>\n",
              "</tbody>\n",
              "</table>\n"
            ]
          },
          "metadata": {}
        }
      ]
    },
    {
      "cell_type": "markdown",
      "source": [
        "We didn't go over this last time, but it's possible to apply the same mutation to multiple columns. This gets syntactically a bit confusing..."
      ],
      "metadata": {
        "id": "9cwwhXarByZp"
      }
    },
    {
      "cell_type": "code",
      "source": [
        "# linear regression\n",
        "lm(dataset, Y ~ predictor1 + predictor2 + whateber)"
      ],
      "metadata": {
        "id": "he2sj4g-2zqV"
      },
      "execution_count": null,
      "outputs": []
    },
    {
      "cell_type": "code",
      "source": [
        "# write a helper function\n",
        "divide_by_100 <- function(x) {\n",
        "  return (x / 100)\n",
        "}"
      ],
      "metadata": {
        "id": "HBXsadoO3Npv"
      },
      "execution_count": null,
      "outputs": []
    },
    {
      "cell_type": "code",
      "source": [
        "divide_by_100(50)"
      ],
      "metadata": {
        "colab": {
          "base_uri": "https://localhost:8080/",
          "height": 34
        },
        "id": "5DntkU7F3TQ2",
        "outputId": "9af06e5b-0cc4-4ab6-8deb-270e57bccd4c"
      },
      "execution_count": null,
      "outputs": [
        {
          "output_type": "display_data",
          "data": {
            "text/plain": [
              "[1] 0.5"
            ],
            "text/latex": "0.5",
            "text/markdown": "0.5",
            "text/html": [
              "0.5"
            ]
          },
          "metadata": {}
        }
      ]
    },
    {
      "cell_type": "code",
      "source": [
        "# alternative way of accomplishing the same\n",
        "midwest %>% mutate(across(starts_with(\"perc\"), divide_by_100)) %>% select(starts_with(\"perc\")) %>% head"
      ],
      "metadata": {
        "colab": {
          "base_uri": "https://localhost:8080/",
          "height": 306
        },
        "id": "GRR0mGCZ3W2C",
        "outputId": "4fffbef6-3867-4c2e-dbf9-d0195c8c1ed1"
      },
      "execution_count": null,
      "outputs": [
        {
          "output_type": "display_data",
          "data": {
            "text/plain": [
              "  percwhite percblack   percamerindan percasian    percother    perchsd  \n",
              "1 0.9671206 0.025752761 0.001482826   0.0037675897 0.0018762294 0.7510740\n",
              "2 0.6638434 0.329004329 0.001788067   0.0045172219 0.0008469791 0.5972635\n",
              "3 0.9657128 0.028617170 0.002334734   0.0010673071 0.0022680275 0.6933499\n",
              "4 0.9525417 0.004122574 0.001493216   0.0048691813 0.0369733169 0.7547219\n",
              "5 0.9019877 0.093728581 0.002398903   0.0008567512 0.0010281014 0.6886152\n",
              "6 0.9851210 0.001401031 0.001821341   0.0054640215 0.0061925577 0.7662941\n",
              "  percollege percprof   percpovertyknown percbelowpoverty percchildbelowpovert\n",
              "1 0.1963139  0.04355859 0.9627478        0.13151443       0.1801172           \n",
              "2 0.1124331  0.02870315 0.9908714        0.32244278       0.4582651           \n",
              "3 0.1703382  0.04488572 0.9495697        0.12068844       0.1403606           \n",
              "4 0.1727895  0.04197800 0.9847757        0.07209019       0.1117954           \n",
              "5 0.1447600  0.03367680 0.8250514        0.13520249       0.1302289           \n",
              "6 0.1890462  0.03275891 0.9837200        0.10399635       0.1415882           \n",
              "  percadultpoverty percelderlypoverty\n",
              "1 0.11009776       0.12443812        \n",
              "2 0.27385647       0.25228976        \n",
              "3 0.10852090       0.12697410        \n",
              "4 0.05536013       0.06217047        \n",
              "5 0.11143211       0.19200000        \n",
              "6 0.08179287       0.11008586        "
            ],
            "text/latex": "A tibble: 6 × 13\n\\begin{tabular}{lllllllllllll}\n percwhite & percblack & percamerindan & percasian & percother & perchsd & percollege & percprof & percpovertyknown & percbelowpoverty & percchildbelowpovert & percadultpoverty & percelderlypoverty\\\\\n <dbl> & <dbl> & <dbl> & <dbl> & <dbl> & <dbl> & <dbl> & <dbl> & <dbl> & <dbl> & <dbl> & <dbl> & <dbl>\\\\\n\\hline\n\t 0.9671206 & 0.025752761 & 0.001482826 & 0.0037675897 & 0.0018762294 & 0.7510740 & 0.1963139 & 0.04355859 & 0.9627478 & 0.13151443 & 0.1801172 & 0.11009776 & 0.12443812\\\\\n\t 0.6638434 & 0.329004329 & 0.001788067 & 0.0045172219 & 0.0008469791 & 0.5972635 & 0.1124331 & 0.02870315 & 0.9908714 & 0.32244278 & 0.4582651 & 0.27385647 & 0.25228976\\\\\n\t 0.9657128 & 0.028617170 & 0.002334734 & 0.0010673071 & 0.0022680275 & 0.6933499 & 0.1703382 & 0.04488572 & 0.9495697 & 0.12068844 & 0.1403606 & 0.10852090 & 0.12697410\\\\\n\t 0.9525417 & 0.004122574 & 0.001493216 & 0.0048691813 & 0.0369733169 & 0.7547219 & 0.1727895 & 0.04197800 & 0.9847757 & 0.07209019 & 0.1117954 & 0.05536013 & 0.06217047\\\\\n\t 0.9019877 & 0.093728581 & 0.002398903 & 0.0008567512 & 0.0010281014 & 0.6886152 & 0.1447600 & 0.03367680 & 0.8250514 & 0.13520249 & 0.1302289 & 0.11143211 & 0.19200000\\\\\n\t 0.9851210 & 0.001401031 & 0.001821341 & 0.0054640215 & 0.0061925577 & 0.7662941 & 0.1890462 & 0.03275891 & 0.9837200 & 0.10399635 & 0.1415882 & 0.08179287 & 0.11008586\\\\\n\\end{tabular}\n",
            "text/markdown": "\nA tibble: 6 × 13\n\n| percwhite &lt;dbl&gt; | percblack &lt;dbl&gt; | percamerindan &lt;dbl&gt; | percasian &lt;dbl&gt; | percother &lt;dbl&gt; | perchsd &lt;dbl&gt; | percollege &lt;dbl&gt; | percprof &lt;dbl&gt; | percpovertyknown &lt;dbl&gt; | percbelowpoverty &lt;dbl&gt; | percchildbelowpovert &lt;dbl&gt; | percadultpoverty &lt;dbl&gt; | percelderlypoverty &lt;dbl&gt; |\n|---|---|---|---|---|---|---|---|---|---|---|---|---|\n| 0.9671206 | 0.025752761 | 0.001482826 | 0.0037675897 | 0.0018762294 | 0.7510740 | 0.1963139 | 0.04355859 | 0.9627478 | 0.13151443 | 0.1801172 | 0.11009776 | 0.12443812 |\n| 0.6638434 | 0.329004329 | 0.001788067 | 0.0045172219 | 0.0008469791 | 0.5972635 | 0.1124331 | 0.02870315 | 0.9908714 | 0.32244278 | 0.4582651 | 0.27385647 | 0.25228976 |\n| 0.9657128 | 0.028617170 | 0.002334734 | 0.0010673071 | 0.0022680275 | 0.6933499 | 0.1703382 | 0.04488572 | 0.9495697 | 0.12068844 | 0.1403606 | 0.10852090 | 0.12697410 |\n| 0.9525417 | 0.004122574 | 0.001493216 | 0.0048691813 | 0.0369733169 | 0.7547219 | 0.1727895 | 0.04197800 | 0.9847757 | 0.07209019 | 0.1117954 | 0.05536013 | 0.06217047 |\n| 0.9019877 | 0.093728581 | 0.002398903 | 0.0008567512 | 0.0010281014 | 0.6886152 | 0.1447600 | 0.03367680 | 0.8250514 | 0.13520249 | 0.1302289 | 0.11143211 | 0.19200000 |\n| 0.9851210 | 0.001401031 | 0.001821341 | 0.0054640215 | 0.0061925577 | 0.7662941 | 0.1890462 | 0.03275891 | 0.9837200 | 0.10399635 | 0.1415882 | 0.08179287 | 0.11008586 |\n\n",
            "text/html": [
              "<table class=\"dataframe\">\n",
              "<caption>A tibble: 6 × 13</caption>\n",
              "<thead>\n",
              "\t<tr><th scope=col>percwhite</th><th scope=col>percblack</th><th scope=col>percamerindan</th><th scope=col>percasian</th><th scope=col>percother</th><th scope=col>perchsd</th><th scope=col>percollege</th><th scope=col>percprof</th><th scope=col>percpovertyknown</th><th scope=col>percbelowpoverty</th><th scope=col>percchildbelowpovert</th><th scope=col>percadultpoverty</th><th scope=col>percelderlypoverty</th></tr>\n",
              "\t<tr><th scope=col>&lt;dbl&gt;</th><th scope=col>&lt;dbl&gt;</th><th scope=col>&lt;dbl&gt;</th><th scope=col>&lt;dbl&gt;</th><th scope=col>&lt;dbl&gt;</th><th scope=col>&lt;dbl&gt;</th><th scope=col>&lt;dbl&gt;</th><th scope=col>&lt;dbl&gt;</th><th scope=col>&lt;dbl&gt;</th><th scope=col>&lt;dbl&gt;</th><th scope=col>&lt;dbl&gt;</th><th scope=col>&lt;dbl&gt;</th><th scope=col>&lt;dbl&gt;</th></tr>\n",
              "</thead>\n",
              "<tbody>\n",
              "\t<tr><td>0.9671206</td><td>0.025752761</td><td>0.001482826</td><td>0.0037675897</td><td>0.0018762294</td><td>0.7510740</td><td>0.1963139</td><td>0.04355859</td><td>0.9627478</td><td>0.13151443</td><td>0.1801172</td><td>0.11009776</td><td>0.12443812</td></tr>\n",
              "\t<tr><td>0.6638434</td><td>0.329004329</td><td>0.001788067</td><td>0.0045172219</td><td>0.0008469791</td><td>0.5972635</td><td>0.1124331</td><td>0.02870315</td><td>0.9908714</td><td>0.32244278</td><td>0.4582651</td><td>0.27385647</td><td>0.25228976</td></tr>\n",
              "\t<tr><td>0.9657128</td><td>0.028617170</td><td>0.002334734</td><td>0.0010673071</td><td>0.0022680275</td><td>0.6933499</td><td>0.1703382</td><td>0.04488572</td><td>0.9495697</td><td>0.12068844</td><td>0.1403606</td><td>0.10852090</td><td>0.12697410</td></tr>\n",
              "\t<tr><td>0.9525417</td><td>0.004122574</td><td>0.001493216</td><td>0.0048691813</td><td>0.0369733169</td><td>0.7547219</td><td>0.1727895</td><td>0.04197800</td><td>0.9847757</td><td>0.07209019</td><td>0.1117954</td><td>0.05536013</td><td>0.06217047</td></tr>\n",
              "\t<tr><td>0.9019877</td><td>0.093728581</td><td>0.002398903</td><td>0.0008567512</td><td>0.0010281014</td><td>0.6886152</td><td>0.1447600</td><td>0.03367680</td><td>0.8250514</td><td>0.13520249</td><td>0.1302289</td><td>0.11143211</td><td>0.19200000</td></tr>\n",
              "\t<tr><td>0.9851210</td><td>0.001401031</td><td>0.001821341</td><td>0.0054640215</td><td>0.0061925577</td><td>0.7662941</td><td>0.1890462</td><td>0.03275891</td><td>0.9837200</td><td>0.10399635</td><td>0.1415882</td><td>0.08179287</td><td>0.11008586</td></tr>\n",
              "</tbody>\n",
              "</table>\n"
            ]
          },
          "metadata": {}
        }
      ]
    },
    {
      "cell_type": "code",
      "source": [
        "midwest %>% mutate(across(starts_with(\"perc\"), ~ . / 100)) %>% select(starts_with(\"perc\")) %>% head"
      ],
      "metadata": {
        "id": "ddcZGoCbB5RP",
        "colab": {
          "base_uri": "https://localhost:8080/",
          "height": 306
        },
        "outputId": "c7d2663e-1c7a-4180-cf75-e87565839a28"
      },
      "execution_count": null,
      "outputs": [
        {
          "output_type": "display_data",
          "data": {
            "text/plain": [
              "  percwhite percblack   percamerindan percasian    percother    perchsd  \n",
              "1 0.9671206 0.025752761 0.001482826   0.0037675897 0.0018762294 0.7510740\n",
              "2 0.6638434 0.329004329 0.001788067   0.0045172219 0.0008469791 0.5972635\n",
              "3 0.9657128 0.028617170 0.002334734   0.0010673071 0.0022680275 0.6933499\n",
              "4 0.9525417 0.004122574 0.001493216   0.0048691813 0.0369733169 0.7547219\n",
              "5 0.9019877 0.093728581 0.002398903   0.0008567512 0.0010281014 0.6886152\n",
              "6 0.9851210 0.001401031 0.001821341   0.0054640215 0.0061925577 0.7662941\n",
              "  percollege percprof   percpovertyknown percbelowpoverty percchildbelowpovert\n",
              "1 0.1963139  0.04355859 0.9627478        0.13151443       0.1801172           \n",
              "2 0.1124331  0.02870315 0.9908714        0.32244278       0.4582651           \n",
              "3 0.1703382  0.04488572 0.9495697        0.12068844       0.1403606           \n",
              "4 0.1727895  0.04197800 0.9847757        0.07209019       0.1117954           \n",
              "5 0.1447600  0.03367680 0.8250514        0.13520249       0.1302289           \n",
              "6 0.1890462  0.03275891 0.9837200        0.10399635       0.1415882           \n",
              "  percadultpoverty percelderlypoverty\n",
              "1 0.11009776       0.12443812        \n",
              "2 0.27385647       0.25228976        \n",
              "3 0.10852090       0.12697410        \n",
              "4 0.05536013       0.06217047        \n",
              "5 0.11143211       0.19200000        \n",
              "6 0.08179287       0.11008586        "
            ],
            "text/latex": "A tibble: 6 × 13\n\\begin{tabular}{lllllllllllll}\n percwhite & percblack & percamerindan & percasian & percother & perchsd & percollege & percprof & percpovertyknown & percbelowpoverty & percchildbelowpovert & percadultpoverty & percelderlypoverty\\\\\n <dbl> & <dbl> & <dbl> & <dbl> & <dbl> & <dbl> & <dbl> & <dbl> & <dbl> & <dbl> & <dbl> & <dbl> & <dbl>\\\\\n\\hline\n\t 0.9671206 & 0.025752761 & 0.001482826 & 0.0037675897 & 0.0018762294 & 0.7510740 & 0.1963139 & 0.04355859 & 0.9627478 & 0.13151443 & 0.1801172 & 0.11009776 & 0.12443812\\\\\n\t 0.6638434 & 0.329004329 & 0.001788067 & 0.0045172219 & 0.0008469791 & 0.5972635 & 0.1124331 & 0.02870315 & 0.9908714 & 0.32244278 & 0.4582651 & 0.27385647 & 0.25228976\\\\\n\t 0.9657128 & 0.028617170 & 0.002334734 & 0.0010673071 & 0.0022680275 & 0.6933499 & 0.1703382 & 0.04488572 & 0.9495697 & 0.12068844 & 0.1403606 & 0.10852090 & 0.12697410\\\\\n\t 0.9525417 & 0.004122574 & 0.001493216 & 0.0048691813 & 0.0369733169 & 0.7547219 & 0.1727895 & 0.04197800 & 0.9847757 & 0.07209019 & 0.1117954 & 0.05536013 & 0.06217047\\\\\n\t 0.9019877 & 0.093728581 & 0.002398903 & 0.0008567512 & 0.0010281014 & 0.6886152 & 0.1447600 & 0.03367680 & 0.8250514 & 0.13520249 & 0.1302289 & 0.11143211 & 0.19200000\\\\\n\t 0.9851210 & 0.001401031 & 0.001821341 & 0.0054640215 & 0.0061925577 & 0.7662941 & 0.1890462 & 0.03275891 & 0.9837200 & 0.10399635 & 0.1415882 & 0.08179287 & 0.11008586\\\\\n\\end{tabular}\n",
            "text/markdown": "\nA tibble: 6 × 13\n\n| percwhite &lt;dbl&gt; | percblack &lt;dbl&gt; | percamerindan &lt;dbl&gt; | percasian &lt;dbl&gt; | percother &lt;dbl&gt; | perchsd &lt;dbl&gt; | percollege &lt;dbl&gt; | percprof &lt;dbl&gt; | percpovertyknown &lt;dbl&gt; | percbelowpoverty &lt;dbl&gt; | percchildbelowpovert &lt;dbl&gt; | percadultpoverty &lt;dbl&gt; | percelderlypoverty &lt;dbl&gt; |\n|---|---|---|---|---|---|---|---|---|---|---|---|---|\n| 0.9671206 | 0.025752761 | 0.001482826 | 0.0037675897 | 0.0018762294 | 0.7510740 | 0.1963139 | 0.04355859 | 0.9627478 | 0.13151443 | 0.1801172 | 0.11009776 | 0.12443812 |\n| 0.6638434 | 0.329004329 | 0.001788067 | 0.0045172219 | 0.0008469791 | 0.5972635 | 0.1124331 | 0.02870315 | 0.9908714 | 0.32244278 | 0.4582651 | 0.27385647 | 0.25228976 |\n| 0.9657128 | 0.028617170 | 0.002334734 | 0.0010673071 | 0.0022680275 | 0.6933499 | 0.1703382 | 0.04488572 | 0.9495697 | 0.12068844 | 0.1403606 | 0.10852090 | 0.12697410 |\n| 0.9525417 | 0.004122574 | 0.001493216 | 0.0048691813 | 0.0369733169 | 0.7547219 | 0.1727895 | 0.04197800 | 0.9847757 | 0.07209019 | 0.1117954 | 0.05536013 | 0.06217047 |\n| 0.9019877 | 0.093728581 | 0.002398903 | 0.0008567512 | 0.0010281014 | 0.6886152 | 0.1447600 | 0.03367680 | 0.8250514 | 0.13520249 | 0.1302289 | 0.11143211 | 0.19200000 |\n| 0.9851210 | 0.001401031 | 0.001821341 | 0.0054640215 | 0.0061925577 | 0.7662941 | 0.1890462 | 0.03275891 | 0.9837200 | 0.10399635 | 0.1415882 | 0.08179287 | 0.11008586 |\n\n",
            "text/html": [
              "<table class=\"dataframe\">\n",
              "<caption>A tibble: 6 × 13</caption>\n",
              "<thead>\n",
              "\t<tr><th scope=col>percwhite</th><th scope=col>percblack</th><th scope=col>percamerindan</th><th scope=col>percasian</th><th scope=col>percother</th><th scope=col>perchsd</th><th scope=col>percollege</th><th scope=col>percprof</th><th scope=col>percpovertyknown</th><th scope=col>percbelowpoverty</th><th scope=col>percchildbelowpovert</th><th scope=col>percadultpoverty</th><th scope=col>percelderlypoverty</th></tr>\n",
              "\t<tr><th scope=col>&lt;dbl&gt;</th><th scope=col>&lt;dbl&gt;</th><th scope=col>&lt;dbl&gt;</th><th scope=col>&lt;dbl&gt;</th><th scope=col>&lt;dbl&gt;</th><th scope=col>&lt;dbl&gt;</th><th scope=col>&lt;dbl&gt;</th><th scope=col>&lt;dbl&gt;</th><th scope=col>&lt;dbl&gt;</th><th scope=col>&lt;dbl&gt;</th><th scope=col>&lt;dbl&gt;</th><th scope=col>&lt;dbl&gt;</th><th scope=col>&lt;dbl&gt;</th></tr>\n",
              "</thead>\n",
              "<tbody>\n",
              "\t<tr><td>0.9671206</td><td>0.025752761</td><td>0.001482826</td><td>0.0037675897</td><td>0.0018762294</td><td>0.7510740</td><td>0.1963139</td><td>0.04355859</td><td>0.9627478</td><td>0.13151443</td><td>0.1801172</td><td>0.11009776</td><td>0.12443812</td></tr>\n",
              "\t<tr><td>0.6638434</td><td>0.329004329</td><td>0.001788067</td><td>0.0045172219</td><td>0.0008469791</td><td>0.5972635</td><td>0.1124331</td><td>0.02870315</td><td>0.9908714</td><td>0.32244278</td><td>0.4582651</td><td>0.27385647</td><td>0.25228976</td></tr>\n",
              "\t<tr><td>0.9657128</td><td>0.028617170</td><td>0.002334734</td><td>0.0010673071</td><td>0.0022680275</td><td>0.6933499</td><td>0.1703382</td><td>0.04488572</td><td>0.9495697</td><td>0.12068844</td><td>0.1403606</td><td>0.10852090</td><td>0.12697410</td></tr>\n",
              "\t<tr><td>0.9525417</td><td>0.004122574</td><td>0.001493216</td><td>0.0048691813</td><td>0.0369733169</td><td>0.7547219</td><td>0.1727895</td><td>0.04197800</td><td>0.9847757</td><td>0.07209019</td><td>0.1117954</td><td>0.05536013</td><td>0.06217047</td></tr>\n",
              "\t<tr><td>0.9019877</td><td>0.093728581</td><td>0.002398903</td><td>0.0008567512</td><td>0.0010281014</td><td>0.6886152</td><td>0.1447600</td><td>0.03367680</td><td>0.8250514</td><td>0.13520249</td><td>0.1302289</td><td>0.11143211</td><td>0.19200000</td></tr>\n",
              "\t<tr><td>0.9851210</td><td>0.001401031</td><td>0.001821341</td><td>0.0054640215</td><td>0.0061925577</td><td>0.7662941</td><td>0.1890462</td><td>0.03275891</td><td>0.9837200</td><td>0.10399635</td><td>0.1415882</td><td>0.08179287</td><td>0.11008586</td></tr>\n",
              "</tbody>\n",
              "</table>\n"
            ]
          },
          "metadata": {}
        }
      ]
    },
    {
      "cell_type": "markdown",
      "source": [
        "Breaking down the syntax above...\n",
        "* `across`: specifies a set of columns to mutate\n",
        "* `~` indicates the start of a formula to apply across several columns\n",
        "* `.` dummy variable standing in for each column"
      ],
      "metadata": {
        "id": "-og6FcntFNJr"
      }
    },
    {
      "cell_type": "markdown",
      "source": [
        "How about renaming the percentage columns (since they're no longer percentages)?"
      ],
      "metadata": {
        "id": "gW-uEKi3CDvh"
      }
    },
    {
      "cell_type": "code",
      "source": [
        "str_replace_all(\"The quick brown fox\", pattern=\" \", \"_\")"
      ],
      "metadata": {
        "colab": {
          "base_uri": "https://localhost:8080/",
          "height": 34
        },
        "id": "zyOxmCvb37k-",
        "outputId": "b6a8cf3e-b9fb-4d0a-c330-a56190e514f5"
      },
      "execution_count": null,
      "outputs": [
        {
          "output_type": "display_data",
          "data": {
            "text/plain": [
              "[1] \"The_quick_brown_fox\""
            ],
            "text/latex": "'The\\_quick\\_brown\\_fox'",
            "text/markdown": "'The_quick_brown_fox'",
            "text/html": [
              "'The_quick_brown_fox'"
            ]
          },
          "metadata": {}
        }
      ]
    },
    {
      "cell_type": "code",
      "source": [
        "str_replace(\"bob\", pattern=\"o\", replace=\"i\")"
      ],
      "metadata": {
        "colab": {
          "base_uri": "https://localhost:8080/",
          "height": 34
        },
        "id": "FtM2u__x4GUg",
        "outputId": "1dee2e08-8a54-46f3-fc81-a2e6ca33f0ef"
      },
      "execution_count": null,
      "outputs": [
        {
          "output_type": "display_data",
          "data": {
            "text/plain": [
              "[1] \"bib\""
            ],
            "text/latex": "'bib'",
            "text/markdown": "'bib'",
            "text/html": [
              "'bib'"
            ]
          },
          "metadata": {}
        }
      ]
    },
    {
      "cell_type": "code",
      "source": [
        "midwest_scaled <- midwest %>%\n",
        "   mutate(across(starts_with(\"perc\"), ~ . / 100))\n",
        "midwest_scaled %>% rename_with(~ str_replace(., pattern=\"perc\", replacement = \"prop_\")) %>%\n",
        "  select(starts_with(\"prop_\")) %>% head"
      ],
      "metadata": {
        "id": "ncjrdSQ1CNU8",
        "colab": {
          "base_uri": "https://localhost:8080/",
          "height": 306
        },
        "outputId": "47a51a7c-6b27-43fa-d76e-326f56564bdc"
      },
      "execution_count": null,
      "outputs": [
        {
          "output_type": "display_data",
          "data": {
            "text/plain": [
              "  prop_white prop_black  prop_amerindan prop_asian   prop_other   prop_hsd \n",
              "1 0.9671206  0.025752761 0.001482826    0.0037675897 0.0018762294 0.7510740\n",
              "2 0.6638434  0.329004329 0.001788067    0.0045172219 0.0008469791 0.5972635\n",
              "3 0.9657128  0.028617170 0.002334734    0.0010673071 0.0022680275 0.6933499\n",
              "4 0.9525417  0.004122574 0.001493216    0.0048691813 0.0369733169 0.7547219\n",
              "5 0.9019877  0.093728581 0.002398903    0.0008567512 0.0010281014 0.6886152\n",
              "6 0.9851210  0.001401031 0.001821341    0.0054640215 0.0061925577 0.7662941\n",
              "  prop_ollege prop_prof  prop_povertyknown prop_belowpoverty\n",
              "1 0.1963139   0.04355859 0.9627478         0.13151443       \n",
              "2 0.1124331   0.02870315 0.9908714         0.32244278       \n",
              "3 0.1703382   0.04488572 0.9495697         0.12068844       \n",
              "4 0.1727895   0.04197800 0.9847757         0.07209019       \n",
              "5 0.1447600   0.03367680 0.8250514         0.13520249       \n",
              "6 0.1890462   0.03275891 0.9837200         0.10399635       \n",
              "  prop_childbelowpovert prop_adultpoverty prop_elderlypoverty\n",
              "1 0.1801172             0.11009776        0.12443812         \n",
              "2 0.4582651             0.27385647        0.25228976         \n",
              "3 0.1403606             0.10852090        0.12697410         \n",
              "4 0.1117954             0.05536013        0.06217047         \n",
              "5 0.1302289             0.11143211        0.19200000         \n",
              "6 0.1415882             0.08179287        0.11008586         "
            ],
            "text/latex": "A tibble: 6 × 13\n\\begin{tabular}{lllllllllllll}\n prop\\_white & prop\\_black & prop\\_amerindan & prop\\_asian & prop\\_other & prop\\_hsd & prop\\_ollege & prop\\_prof & prop\\_povertyknown & prop\\_belowpoverty & prop\\_childbelowpovert & prop\\_adultpoverty & prop\\_elderlypoverty\\\\\n <dbl> & <dbl> & <dbl> & <dbl> & <dbl> & <dbl> & <dbl> & <dbl> & <dbl> & <dbl> & <dbl> & <dbl> & <dbl>\\\\\n\\hline\n\t 0.9671206 & 0.025752761 & 0.001482826 & 0.0037675897 & 0.0018762294 & 0.7510740 & 0.1963139 & 0.04355859 & 0.9627478 & 0.13151443 & 0.1801172 & 0.11009776 & 0.12443812\\\\\n\t 0.6638434 & 0.329004329 & 0.001788067 & 0.0045172219 & 0.0008469791 & 0.5972635 & 0.1124331 & 0.02870315 & 0.9908714 & 0.32244278 & 0.4582651 & 0.27385647 & 0.25228976\\\\\n\t 0.9657128 & 0.028617170 & 0.002334734 & 0.0010673071 & 0.0022680275 & 0.6933499 & 0.1703382 & 0.04488572 & 0.9495697 & 0.12068844 & 0.1403606 & 0.10852090 & 0.12697410\\\\\n\t 0.9525417 & 0.004122574 & 0.001493216 & 0.0048691813 & 0.0369733169 & 0.7547219 & 0.1727895 & 0.04197800 & 0.9847757 & 0.07209019 & 0.1117954 & 0.05536013 & 0.06217047\\\\\n\t 0.9019877 & 0.093728581 & 0.002398903 & 0.0008567512 & 0.0010281014 & 0.6886152 & 0.1447600 & 0.03367680 & 0.8250514 & 0.13520249 & 0.1302289 & 0.11143211 & 0.19200000\\\\\n\t 0.9851210 & 0.001401031 & 0.001821341 & 0.0054640215 & 0.0061925577 & 0.7662941 & 0.1890462 & 0.03275891 & 0.9837200 & 0.10399635 & 0.1415882 & 0.08179287 & 0.11008586\\\\\n\\end{tabular}\n",
            "text/markdown": "\nA tibble: 6 × 13\n\n| prop_white &lt;dbl&gt; | prop_black &lt;dbl&gt; | prop_amerindan &lt;dbl&gt; | prop_asian &lt;dbl&gt; | prop_other &lt;dbl&gt; | prop_hsd &lt;dbl&gt; | prop_ollege &lt;dbl&gt; | prop_prof &lt;dbl&gt; | prop_povertyknown &lt;dbl&gt; | prop_belowpoverty &lt;dbl&gt; | prop_childbelowpovert &lt;dbl&gt; | prop_adultpoverty &lt;dbl&gt; | prop_elderlypoverty &lt;dbl&gt; |\n|---|---|---|---|---|---|---|---|---|---|---|---|---|\n| 0.9671206 | 0.025752761 | 0.001482826 | 0.0037675897 | 0.0018762294 | 0.7510740 | 0.1963139 | 0.04355859 | 0.9627478 | 0.13151443 | 0.1801172 | 0.11009776 | 0.12443812 |\n| 0.6638434 | 0.329004329 | 0.001788067 | 0.0045172219 | 0.0008469791 | 0.5972635 | 0.1124331 | 0.02870315 | 0.9908714 | 0.32244278 | 0.4582651 | 0.27385647 | 0.25228976 |\n| 0.9657128 | 0.028617170 | 0.002334734 | 0.0010673071 | 0.0022680275 | 0.6933499 | 0.1703382 | 0.04488572 | 0.9495697 | 0.12068844 | 0.1403606 | 0.10852090 | 0.12697410 |\n| 0.9525417 | 0.004122574 | 0.001493216 | 0.0048691813 | 0.0369733169 | 0.7547219 | 0.1727895 | 0.04197800 | 0.9847757 | 0.07209019 | 0.1117954 | 0.05536013 | 0.06217047 |\n| 0.9019877 | 0.093728581 | 0.002398903 | 0.0008567512 | 0.0010281014 | 0.6886152 | 0.1447600 | 0.03367680 | 0.8250514 | 0.13520249 | 0.1302289 | 0.11143211 | 0.19200000 |\n| 0.9851210 | 0.001401031 | 0.001821341 | 0.0054640215 | 0.0061925577 | 0.7662941 | 0.1890462 | 0.03275891 | 0.9837200 | 0.10399635 | 0.1415882 | 0.08179287 | 0.11008586 |\n\n",
            "text/html": [
              "<table class=\"dataframe\">\n",
              "<caption>A tibble: 6 × 13</caption>\n",
              "<thead>\n",
              "\t<tr><th scope=col>prop_white</th><th scope=col>prop_black</th><th scope=col>prop_amerindan</th><th scope=col>prop_asian</th><th scope=col>prop_other</th><th scope=col>prop_hsd</th><th scope=col>prop_ollege</th><th scope=col>prop_prof</th><th scope=col>prop_povertyknown</th><th scope=col>prop_belowpoverty</th><th scope=col>prop_childbelowpovert</th><th scope=col>prop_adultpoverty</th><th scope=col>prop_elderlypoverty</th></tr>\n",
              "\t<tr><th scope=col>&lt;dbl&gt;</th><th scope=col>&lt;dbl&gt;</th><th scope=col>&lt;dbl&gt;</th><th scope=col>&lt;dbl&gt;</th><th scope=col>&lt;dbl&gt;</th><th scope=col>&lt;dbl&gt;</th><th scope=col>&lt;dbl&gt;</th><th scope=col>&lt;dbl&gt;</th><th scope=col>&lt;dbl&gt;</th><th scope=col>&lt;dbl&gt;</th><th scope=col>&lt;dbl&gt;</th><th scope=col>&lt;dbl&gt;</th><th scope=col>&lt;dbl&gt;</th></tr>\n",
              "</thead>\n",
              "<tbody>\n",
              "\t<tr><td>0.9671206</td><td>0.025752761</td><td>0.001482826</td><td>0.0037675897</td><td>0.0018762294</td><td>0.7510740</td><td>0.1963139</td><td>0.04355859</td><td>0.9627478</td><td>0.13151443</td><td>0.1801172</td><td>0.11009776</td><td>0.12443812</td></tr>\n",
              "\t<tr><td>0.6638434</td><td>0.329004329</td><td>0.001788067</td><td>0.0045172219</td><td>0.0008469791</td><td>0.5972635</td><td>0.1124331</td><td>0.02870315</td><td>0.9908714</td><td>0.32244278</td><td>0.4582651</td><td>0.27385647</td><td>0.25228976</td></tr>\n",
              "\t<tr><td>0.9657128</td><td>0.028617170</td><td>0.002334734</td><td>0.0010673071</td><td>0.0022680275</td><td>0.6933499</td><td>0.1703382</td><td>0.04488572</td><td>0.9495697</td><td>0.12068844</td><td>0.1403606</td><td>0.10852090</td><td>0.12697410</td></tr>\n",
              "\t<tr><td>0.9525417</td><td>0.004122574</td><td>0.001493216</td><td>0.0048691813</td><td>0.0369733169</td><td>0.7547219</td><td>0.1727895</td><td>0.04197800</td><td>0.9847757</td><td>0.07209019</td><td>0.1117954</td><td>0.05536013</td><td>0.06217047</td></tr>\n",
              "\t<tr><td>0.9019877</td><td>0.093728581</td><td>0.002398903</td><td>0.0008567512</td><td>0.0010281014</td><td>0.6886152</td><td>0.1447600</td><td>0.03367680</td><td>0.8250514</td><td>0.13520249</td><td>0.1302289</td><td>0.11143211</td><td>0.19200000</td></tr>\n",
              "\t<tr><td>0.9851210</td><td>0.001401031</td><td>0.001821341</td><td>0.0054640215</td><td>0.0061925577</td><td>0.7662941</td><td>0.1890462</td><td>0.03275891</td><td>0.9837200</td><td>0.10399635</td><td>0.1415882</td><td>0.08179287</td><td>0.11008586</td></tr>\n",
              "</tbody>\n",
              "</table>\n"
            ]
          },
          "metadata": {}
        }
      ]
    },
    {
      "cell_type": "markdown",
      "source": [
        "Annoyingly, they decided to name the column `percollege` instead of `perccollege.`\n",
        "\n",
        "I personally find the documentation for `mutate` unhelpful...Google searches and StackOverflow are your friends here (and of course you can ask the GSI team for help!)"
      ],
      "metadata": {
        "id": "yR3fj_pNGL1B"
      }
    },
    {
      "cell_type": "markdown",
      "source": [
        "## 1.4 Summarise\n",
        "\n",
        "Not very useful on its own, `summarise` shines when we are grouping data."
      ],
      "metadata": {
        "id": "iYmW5dvr9cUF"
      }
    },
    {
      "cell_type": "code",
      "source": [
        "midwest %>% group_by(state) %>% summarise(pop = sum(poptotal)) %>% \n",
        "  mutate(pop_millions = pop / 1000000) %>% arrange(desc(pop))"
      ],
      "metadata": {
        "id": "V2QXs1fEGmWg",
        "colab": {
          "base_uri": "https://localhost:8080/",
          "height": 255
        },
        "outputId": "87bd5302-2966-4ba2-9ba2-eacc49cd1031"
      },
      "execution_count": null,
      "outputs": [
        {
          "output_type": "display_data",
          "data": {
            "text/plain": [
              "  state pop      pop_millions\n",
              "1 IL    11430602 11.430602   \n",
              "2 OH    10847115 10.847115   \n",
              "3 MI     9295297  9.295297   \n",
              "4 IN     5544159  5.544159   \n",
              "5 WI     4891769  4.891769   "
            ],
            "text/latex": "A tibble: 5 × 3\n\\begin{tabular}{lll}\n state & pop & pop\\_millions\\\\\n <chr> & <int> & <dbl>\\\\\n\\hline\n\t IL & 11430602 & 11.430602\\\\\n\t OH & 10847115 & 10.847115\\\\\n\t MI &  9295297 &  9.295297\\\\\n\t IN &  5544159 &  5.544159\\\\\n\t WI &  4891769 &  4.891769\\\\\n\\end{tabular}\n",
            "text/markdown": "\nA tibble: 5 × 3\n\n| state &lt;chr&gt; | pop &lt;int&gt; | pop_millions &lt;dbl&gt; |\n|---|---|---|\n| IL | 11430602 | 11.430602 |\n| OH | 10847115 | 10.847115 |\n| MI |  9295297 |  9.295297 |\n| IN |  5544159 |  5.544159 |\n| WI |  4891769 |  4.891769 |\n\n",
            "text/html": [
              "<table class=\"dataframe\">\n",
              "<caption>A tibble: 5 × 3</caption>\n",
              "<thead>\n",
              "\t<tr><th scope=col>state</th><th scope=col>pop</th><th scope=col>pop_millions</th></tr>\n",
              "\t<tr><th scope=col>&lt;chr&gt;</th><th scope=col>&lt;int&gt;</th><th scope=col>&lt;dbl&gt;</th></tr>\n",
              "</thead>\n",
              "<tbody>\n",
              "\t<tr><td>IL</td><td>11430602</td><td>11.430602</td></tr>\n",
              "\t<tr><td>OH</td><td>10847115</td><td>10.847115</td></tr>\n",
              "\t<tr><td>MI</td><td> 9295297</td><td> 9.295297</td></tr>\n",
              "\t<tr><td>IN</td><td> 5544159</td><td> 5.544159</td></tr>\n",
              "\t<tr><td>WI</td><td> 4891769</td><td> 4.891769</td></tr>\n",
              "</tbody>\n",
              "</table>\n"
            ]
          },
          "metadata": {}
        }
      ]
    },
    {
      "cell_type": "code",
      "source": [
        "midwest %>% group_by(state) %>% summarise(area = sum(area), pop = sum(poptotal)) %>%\n",
        "  mutate(pop_density = (pop / 1000) / area) %>% arrange(pop_density)"
      ],
      "metadata": {
        "id": "C8XcFEvaG_nC",
        "colab": {
          "base_uri": "https://localhost:8080/",
          "height": 255
        },
        "outputId": "c56f14cd-4a88-4359-f27d-b126fecca231"
      },
      "execution_count": null,
      "outputs": [
        {
          "output_type": "display_data",
          "data": {
            "text/plain": [
              "  state area  pop      pop_density\n",
              "1 WI    3.286  4891769 1488.670   \n",
              "2 IN    2.127  5544159 2606.563   \n",
              "3 MI    3.357  9295297 2768.930   \n",
              "4 IL    3.304 11430602 3459.625   \n",
              "5 OH    2.421 10847115 4480.428   "
            ],
            "text/latex": "A tibble: 5 × 4\n\\begin{tabular}{llll}\n state & area & pop & pop\\_density\\\\\n <chr> & <dbl> & <int> & <dbl>\\\\\n\\hline\n\t WI & 3.286 &  4891769 & 1488.670\\\\\n\t IN & 2.127 &  5544159 & 2606.563\\\\\n\t MI & 3.357 &  9295297 & 2768.930\\\\\n\t IL & 3.304 & 11430602 & 3459.625\\\\\n\t OH & 2.421 & 10847115 & 4480.428\\\\\n\\end{tabular}\n",
            "text/markdown": "\nA tibble: 5 × 4\n\n| state &lt;chr&gt; | area &lt;dbl&gt; | pop &lt;int&gt; | pop_density &lt;dbl&gt; |\n|---|---|---|---|\n| WI | 3.286 |  4891769 | 1488.670 |\n| IN | 2.127 |  5544159 | 2606.563 |\n| MI | 3.357 |  9295297 | 2768.930 |\n| IL | 3.304 | 11430602 | 3459.625 |\n| OH | 2.421 | 10847115 | 4480.428 |\n\n",
            "text/html": [
              "<table class=\"dataframe\">\n",
              "<caption>A tibble: 5 × 4</caption>\n",
              "<thead>\n",
              "\t<tr><th scope=col>state</th><th scope=col>area</th><th scope=col>pop</th><th scope=col>pop_density</th></tr>\n",
              "\t<tr><th scope=col>&lt;chr&gt;</th><th scope=col>&lt;dbl&gt;</th><th scope=col>&lt;int&gt;</th><th scope=col>&lt;dbl&gt;</th></tr>\n",
              "</thead>\n",
              "<tbody>\n",
              "\t<tr><td>WI</td><td>3.286</td><td> 4891769</td><td>1488.670</td></tr>\n",
              "\t<tr><td>IN</td><td>2.127</td><td> 5544159</td><td>2606.563</td></tr>\n",
              "\t<tr><td>MI</td><td>3.357</td><td> 9295297</td><td>2768.930</td></tr>\n",
              "\t<tr><td>IL</td><td>3.304</td><td>11430602</td><td>3459.625</td></tr>\n",
              "\t<tr><td>OH</td><td>2.421</td><td>10847115</td><td>4480.428</td></tr>\n",
              "</tbody>\n",
              "</table>\n"
            ]
          },
          "metadata": {}
        }
      ]
    },
    {
      "cell_type": "code",
      "source": [
        "# this is a bad idea\n",
        "midwest %>% mutate(pop_density = (poptotal / 1000) / area) %>% group_by(state) %>%\n",
        "  summarise(total_density = sum(pop_density))"
      ],
      "metadata": {
        "colab": {
          "base_uri": "https://localhost:8080/",
          "height": 255
        },
        "id": "OBC02vSy5IOJ",
        "outputId": "0f3beaf7-d51e-4caa-ca18-346acba49f03"
      },
      "execution_count": null,
      "outputs": [
        {
          "output_type": "display_data",
          "data": {
            "text/plain": [
              "  state total_density\n",
              "1 IL    288020.5     \n",
              "2 IN    236727.9     \n",
              "3 MI    249897.1     \n",
              "4 OH    408234.1     \n",
              "5 WI    170834.0     "
            ],
            "text/latex": "A tibble: 5 × 2\n\\begin{tabular}{ll}\n state & total\\_density\\\\\n <chr> & <dbl>\\\\\n\\hline\n\t IL & 288020.5\\\\\n\t IN & 236727.9\\\\\n\t MI & 249897.1\\\\\n\t OH & 408234.1\\\\\n\t WI & 170834.0\\\\\n\\end{tabular}\n",
            "text/markdown": "\nA tibble: 5 × 2\n\n| state &lt;chr&gt; | total_density &lt;dbl&gt; |\n|---|---|\n| IL | 288020.5 |\n| IN | 236727.9 |\n| MI | 249897.1 |\n| OH | 408234.1 |\n| WI | 170834.0 |\n\n",
            "text/html": [
              "<table class=\"dataframe\">\n",
              "<caption>A tibble: 5 × 2</caption>\n",
              "<thead>\n",
              "\t<tr><th scope=col>state</th><th scope=col>total_density</th></tr>\n",
              "\t<tr><th scope=col>&lt;chr&gt;</th><th scope=col>&lt;dbl&gt;</th></tr>\n",
              "</thead>\n",
              "<tbody>\n",
              "\t<tr><td>IL</td><td>288020.5</td></tr>\n",
              "\t<tr><td>IN</td><td>236727.9</td></tr>\n",
              "\t<tr><td>MI</td><td>249897.1</td></tr>\n",
              "\t<tr><td>OH</td><td>408234.1</td></tr>\n",
              "\t<tr><td>WI</td><td>170834.0</td></tr>\n",
              "</tbody>\n",
              "</table>\n"
            ]
          },
          "metadata": {}
        }
      ]
    },
    {
      "cell_type": "code",
      "source": [
        "midwest %>% group_by(state) %>% summarise(n_counties = n())"
      ],
      "metadata": {
        "id": "zfFy_TG1Howv",
        "colab": {
          "base_uri": "https://localhost:8080/",
          "height": 255
        },
        "outputId": "f5d70b27-7017-4f37-b0fa-c9f281fe665e"
      },
      "execution_count": null,
      "outputs": [
        {
          "output_type": "display_data",
          "data": {
            "text/plain": [
              "  state n_counties\n",
              "1 IL    102       \n",
              "2 IN     92       \n",
              "3 MI     83       \n",
              "4 OH     88       \n",
              "5 WI     72       "
            ],
            "text/latex": "A tibble: 5 × 2\n\\begin{tabular}{ll}\n state & n\\_counties\\\\\n <chr> & <int>\\\\\n\\hline\n\t IL & 102\\\\\n\t IN &  92\\\\\n\t MI &  83\\\\\n\t OH &  88\\\\\n\t WI &  72\\\\\n\\end{tabular}\n",
            "text/markdown": "\nA tibble: 5 × 2\n\n| state &lt;chr&gt; | n_counties &lt;int&gt; |\n|---|---|\n| IL | 102 |\n| IN |  92 |\n| MI |  83 |\n| OH |  88 |\n| WI |  72 |\n\n",
            "text/html": [
              "<table class=\"dataframe\">\n",
              "<caption>A tibble: 5 × 2</caption>\n",
              "<thead>\n",
              "\t<tr><th scope=col>state</th><th scope=col>n_counties</th></tr>\n",
              "\t<tr><th scope=col>&lt;chr&gt;</th><th scope=col>&lt;int&gt;</th></tr>\n",
              "</thead>\n",
              "<tbody>\n",
              "\t<tr><td>IL</td><td>102</td></tr>\n",
              "\t<tr><td>IN</td><td> 92</td></tr>\n",
              "\t<tr><td>MI</td><td> 83</td></tr>\n",
              "\t<tr><td>OH</td><td> 88</td></tr>\n",
              "\t<tr><td>WI</td><td> 72</td></tr>\n",
              "</tbody>\n",
              "</table>\n"
            ]
          },
          "metadata": {}
        }
      ]
    },
    {
      "cell_type": "code",
      "source": [
        "midwest %>% group_by(state) %>% summarise(n_categories = n_distinct(category))"
      ],
      "metadata": {
        "id": "p8lksRnwJIVg",
        "colab": {
          "base_uri": "https://localhost:8080/",
          "height": 255
        },
        "outputId": "72c5e1ad-0b94-48b3-8c9c-94c888597866"
      },
      "execution_count": null,
      "outputs": [
        {
          "output_type": "display_data",
          "data": {
            "text/plain": [
              "  state n_categories\n",
              "1 IL    11          \n",
              "2 IN    12          \n",
              "3 MI    10          \n",
              "4 OH    12          \n",
              "5 WI    10          "
            ],
            "text/latex": "A tibble: 5 × 2\n\\begin{tabular}{ll}\n state & n\\_categories\\\\\n <chr> & <int>\\\\\n\\hline\n\t IL & 11\\\\\n\t IN & 12\\\\\n\t MI & 10\\\\\n\t OH & 12\\\\\n\t WI & 10\\\\\n\\end{tabular}\n",
            "text/markdown": "\nA tibble: 5 × 2\n\n| state &lt;chr&gt; | n_categories &lt;int&gt; |\n|---|---|\n| IL | 11 |\n| IN | 12 |\n| MI | 10 |\n| OH | 12 |\n| WI | 10 |\n\n",
            "text/html": [
              "<table class=\"dataframe\">\n",
              "<caption>A tibble: 5 × 2</caption>\n",
              "<thead>\n",
              "\t<tr><th scope=col>state</th><th scope=col>n_categories</th></tr>\n",
              "\t<tr><th scope=col>&lt;chr&gt;</th><th scope=col>&lt;int&gt;</th></tr>\n",
              "</thead>\n",
              "<tbody>\n",
              "\t<tr><td>IL</td><td>11</td></tr>\n",
              "\t<tr><td>IN</td><td>12</td></tr>\n",
              "\t<tr><td>MI</td><td>10</td></tr>\n",
              "\t<tr><td>OH</td><td>12</td></tr>\n",
              "\t<tr><td>WI</td><td>10</td></tr>\n",
              "</tbody>\n",
              "</table>\n"
            ]
          },
          "metadata": {}
        }
      ]
    },
    {
      "cell_type": "code",
      "source": [
        "midwest %>% group_by(category) %>% summarise(med_density = median(popdensity)) %>%\n",
        "  arrange(med_density)"
      ],
      "metadata": {
        "id": "6dwQnktRJRvu",
        "colab": {
          "base_uri": "https://localhost:8080/",
          "height": 600
        },
        "outputId": "327fb8b9-ebd2-475f-ce71-22ff47591316"
      },
      "execution_count": null,
      "outputs": [
        {
          "output_type": "display_data",
          "data": {
            "text/plain": [
              "   category med_density\n",
              "1  AHR        619.7192 \n",
              "2  LHR        695.1158 \n",
              "3  AAR        768.8679 \n",
              "4  LAR        795.4790 \n",
              "5  HAR        857.2037 \n",
              "6  HHR       1036.5882 \n",
              "7  LAU       1170.4828 \n",
              "8  HLR       1367.9923 \n",
              "9  ALR       1408.3077 \n",
              "10 ALU       1642.5473 \n",
              "11 LHU       2143.2517 \n",
              "12 HLU       3805.3438 \n",
              "13 AAU       4048.4848 \n",
              "14 HAU       4181.2048 \n",
              "15 HHU       4540.7500 \n",
              "16 AHU      60333.9143 "
            ],
            "text/latex": "A tibble: 16 × 2\n\\begin{tabular}{ll}\n category & med\\_density\\\\\n <chr> & <dbl>\\\\\n\\hline\n\t AHR &   619.7192\\\\\n\t LHR &   695.1158\\\\\n\t AAR &   768.8679\\\\\n\t LAR &   795.4790\\\\\n\t HAR &   857.2037\\\\\n\t HHR &  1036.5882\\\\\n\t LAU &  1170.4828\\\\\n\t HLR &  1367.9923\\\\\n\t ALR &  1408.3077\\\\\n\t ALU &  1642.5473\\\\\n\t LHU &  2143.2517\\\\\n\t HLU &  3805.3438\\\\\n\t AAU &  4048.4848\\\\\n\t HAU &  4181.2048\\\\\n\t HHU &  4540.7500\\\\\n\t AHU & 60333.9143\\\\\n\\end{tabular}\n",
            "text/markdown": "\nA tibble: 16 × 2\n\n| category &lt;chr&gt; | med_density &lt;dbl&gt; |\n|---|---|\n| AHR |   619.7192 |\n| LHR |   695.1158 |\n| AAR |   768.8679 |\n| LAR |   795.4790 |\n| HAR |   857.2037 |\n| HHR |  1036.5882 |\n| LAU |  1170.4828 |\n| HLR |  1367.9923 |\n| ALR |  1408.3077 |\n| ALU |  1642.5473 |\n| LHU |  2143.2517 |\n| HLU |  3805.3438 |\n| AAU |  4048.4848 |\n| HAU |  4181.2048 |\n| HHU |  4540.7500 |\n| AHU | 60333.9143 |\n\n",
            "text/html": [
              "<table class=\"dataframe\">\n",
              "<caption>A tibble: 16 × 2</caption>\n",
              "<thead>\n",
              "\t<tr><th scope=col>category</th><th scope=col>med_density</th></tr>\n",
              "\t<tr><th scope=col>&lt;chr&gt;</th><th scope=col>&lt;dbl&gt;</th></tr>\n",
              "</thead>\n",
              "<tbody>\n",
              "\t<tr><td>AHR</td><td>  619.7192</td></tr>\n",
              "\t<tr><td>LHR</td><td>  695.1158</td></tr>\n",
              "\t<tr><td>AAR</td><td>  768.8679</td></tr>\n",
              "\t<tr><td>LAR</td><td>  795.4790</td></tr>\n",
              "\t<tr><td>HAR</td><td>  857.2037</td></tr>\n",
              "\t<tr><td>HHR</td><td> 1036.5882</td></tr>\n",
              "\t<tr><td>LAU</td><td> 1170.4828</td></tr>\n",
              "\t<tr><td>HLR</td><td> 1367.9923</td></tr>\n",
              "\t<tr><td>ALR</td><td> 1408.3077</td></tr>\n",
              "\t<tr><td>ALU</td><td> 1642.5473</td></tr>\n",
              "\t<tr><td>LHU</td><td> 2143.2517</td></tr>\n",
              "\t<tr><td>HLU</td><td> 3805.3438</td></tr>\n",
              "\t<tr><td>AAU</td><td> 4048.4848</td></tr>\n",
              "\t<tr><td>HAU</td><td> 4181.2048</td></tr>\n",
              "\t<tr><td>HHU</td><td> 4540.7500</td></tr>\n",
              "\t<tr><td>AHU</td><td>60333.9143</td></tr>\n",
              "</tbody>\n",
              "</table>\n"
            ]
          },
          "metadata": {}
        }
      ]
    },
    {
      "cell_type": "markdown",
      "source": [
        "It's somewhat mysterious what these categories mean, since quoting the docs, \"The original descriptions were not documented and the current descriptions here are based on speculation.\" Cool cool cool."
      ],
      "metadata": {
        "id": "rdTvmih5Jlvh"
      }
    },
    {
      "cell_type": "markdown",
      "source": [
        "## 1.5 Count\n",
        "\n",
        "An alternative way of getting a quick count of rows per group."
      ],
      "metadata": {
        "id": "lrG2Qq0GJ5_d"
      }
    },
    {
      "cell_type": "code",
      "source": [
        "midwest %>% count(state)"
      ],
      "metadata": {
        "id": "bI-X6M24J5Rv",
        "colab": {
          "base_uri": "https://localhost:8080/",
          "height": 255
        },
        "outputId": "ed9ab01c-b2fa-4722-d012-d97fb5c31579"
      },
      "execution_count": null,
      "outputs": [
        {
          "output_type": "display_data",
          "data": {
            "text/plain": [
              "  state n  \n",
              "1 IL    102\n",
              "2 IN     92\n",
              "3 MI     83\n",
              "4 OH     88\n",
              "5 WI     72"
            ],
            "text/latex": "A tibble: 5 × 2\n\\begin{tabular}{ll}\n state & n\\\\\n <chr> & <int>\\\\\n\\hline\n\t IL & 102\\\\\n\t IN &  92\\\\\n\t MI &  83\\\\\n\t OH &  88\\\\\n\t WI &  72\\\\\n\\end{tabular}\n",
            "text/markdown": "\nA tibble: 5 × 2\n\n| state &lt;chr&gt; | n &lt;int&gt; |\n|---|---|\n| IL | 102 |\n| IN |  92 |\n| MI |  83 |\n| OH |  88 |\n| WI |  72 |\n\n",
            "text/html": [
              "<table class=\"dataframe\">\n",
              "<caption>A tibble: 5 × 2</caption>\n",
              "<thead>\n",
              "\t<tr><th scope=col>state</th><th scope=col>n</th></tr>\n",
              "\t<tr><th scope=col>&lt;chr&gt;</th><th scope=col>&lt;int&gt;</th></tr>\n",
              "</thead>\n",
              "<tbody>\n",
              "\t<tr><td>IL</td><td>102</td></tr>\n",
              "\t<tr><td>IN</td><td> 92</td></tr>\n",
              "\t<tr><td>MI</td><td> 83</td></tr>\n",
              "\t<tr><td>OH</td><td> 88</td></tr>\n",
              "\t<tr><td>WI</td><td> 72</td></tr>\n",
              "</tbody>\n",
              "</table>\n"
            ]
          },
          "metadata": {}
        }
      ]
    },
    {
      "cell_type": "code",
      "source": [
        "# equivalent to\n",
        "midwest %>% group_by(state) %>% summarise(n = n())"
      ],
      "metadata": {
        "colab": {
          "base_uri": "https://localhost:8080/",
          "height": 255
        },
        "id": "Z5bnXegg6W_D",
        "outputId": "2262393b-e5f4-473d-958a-1babee56734a"
      },
      "execution_count": null,
      "outputs": [
        {
          "output_type": "display_data",
          "data": {
            "text/plain": [
              "  state n  \n",
              "1 IL    102\n",
              "2 IN     92\n",
              "3 MI     83\n",
              "4 OH     88\n",
              "5 WI     72"
            ],
            "text/latex": "A tibble: 5 × 2\n\\begin{tabular}{ll}\n state & n\\\\\n <chr> & <int>\\\\\n\\hline\n\t IL & 102\\\\\n\t IN &  92\\\\\n\t MI &  83\\\\\n\t OH &  88\\\\\n\t WI &  72\\\\\n\\end{tabular}\n",
            "text/markdown": "\nA tibble: 5 × 2\n\n| state &lt;chr&gt; | n &lt;int&gt; |\n|---|---|\n| IL | 102 |\n| IN |  92 |\n| MI |  83 |\n| OH |  88 |\n| WI |  72 |\n\n",
            "text/html": [
              "<table class=\"dataframe\">\n",
              "<caption>A tibble: 5 × 2</caption>\n",
              "<thead>\n",
              "\t<tr><th scope=col>state</th><th scope=col>n</th></tr>\n",
              "\t<tr><th scope=col>&lt;chr&gt;</th><th scope=col>&lt;int&gt;</th></tr>\n",
              "</thead>\n",
              "<tbody>\n",
              "\t<tr><td>IL</td><td>102</td></tr>\n",
              "\t<tr><td>IN</td><td> 92</td></tr>\n",
              "\t<tr><td>MI</td><td> 83</td></tr>\n",
              "\t<tr><td>OH</td><td> 88</td></tr>\n",
              "\t<tr><td>WI</td><td> 72</td></tr>\n",
              "</tbody>\n",
              "</table>\n"
            ]
          },
          "metadata": {}
        }
      ]
    },
    {
      "cell_type": "markdown",
      "source": [
        "## 1.6 Slice\n",
        "\n",
        "Similar to filter, except you return rows by specific indices and not logical criteria."
      ],
      "metadata": {
        "id": "Hdj87hxBKUTl"
      }
    },
    {
      "cell_type": "code",
      "source": [
        "midwest %>% slice(c(100, 102, 160, 200))"
      ],
      "metadata": {
        "id": "IbRZOoC1KTfg",
        "colab": {
          "base_uri": "https://localhost:8080/",
          "height": 244
        },
        "outputId": "d43f0778-040d-452f-ddb6-be150cc0bdfe"
      },
      "execution_count": null,
      "outputs": [
        {
          "output_type": "display_data",
          "data": {
            "text/plain": [
              "  PID  county     state area  poptotal popdensity popwhite popblack\n",
              "1  660 WILLIAMSON IL    0.025 57733    2309.320   56135    1147    \n",
              "2  662 WOODFORD   IL    0.032 32653    1020.406   32388      64    \n",
              "3  720 OHIO       IN    0.005  5315    1063.000    5255      41    \n",
              "4 1202 ARENAC     MI    0.021 14931     711.000   14695      10    \n",
              "  popamerindian popasian ⋯ percollege percprof poppovertyknown percpovertyknown\n",
              "1 112           252      ⋯ 21.05956   4.980249 56318           97.54906        \n",
              "2  54           102      ⋯ 22.80522   4.973374 31693           97.05999        \n",
              "3   8             9      ⋯ 10.70292   1.793463  5271           99.17215        \n",
              "4 139            38      ⋯ 11.82785   2.586383 14664           98.21177        \n",
              "  percbelowpoverty percchildbelowpovert percadultpoverty percelderlypoverty\n",
              "1 15.801342        22.394582            13.618817        13.819785         \n",
              "2  7.187707        10.013923             5.628350         7.150557         \n",
              "3  9.884272         8.626887             8.583981        15.960912         \n",
              "4 20.649209        28.951368            18.232337        16.054465         \n",
              "  inmetro category\n",
              "1 0       AAR     \n",
              "2 1       HLU     \n",
              "3 1       LAU     \n",
              "4 0       LHR     "
            ],
            "text/latex": "A tibble: 4 × 28\n\\begin{tabular}{lllllllllllllllllllll}\n PID & county & state & area & poptotal & popdensity & popwhite & popblack & popamerindian & popasian & ⋯ & percollege & percprof & poppovertyknown & percpovertyknown & percbelowpoverty & percchildbelowpovert & percadultpoverty & percelderlypoverty & inmetro & category\\\\\n <int> & <chr> & <chr> & <dbl> & <int> & <dbl> & <int> & <int> & <int> & <int> & ⋯ & <dbl> & <dbl> & <int> & <dbl> & <dbl> & <dbl> & <dbl> & <dbl> & <int> & <chr>\\\\\n\\hline\n\t  660 & WILLIAMSON & IL & 0.025 & 57733 & 2309.320 & 56135 & 1147 & 112 & 252 & ⋯ & 21.05956 & 4.980249 & 56318 & 97.54906 & 15.801342 & 22.394582 & 13.618817 & 13.819785 & 0 & AAR\\\\\n\t  662 & WOODFORD   & IL & 0.032 & 32653 & 1020.406 & 32388 &   64 &  54 & 102 & ⋯ & 22.80522 & 4.973374 & 31693 & 97.05999 &  7.187707 & 10.013923 &  5.628350 &  7.150557 & 1 & HLU\\\\\n\t  720 & OHIO       & IN & 0.005 &  5315 & 1063.000 &  5255 &   41 &   8 &   9 & ⋯ & 10.70292 & 1.793463 &  5271 & 99.17215 &  9.884272 &  8.626887 &  8.583981 & 15.960912 & 1 & LAU\\\\\n\t 1202 & ARENAC     & MI & 0.021 & 14931 &  711.000 & 14695 &   10 & 139 &  38 & ⋯ & 11.82785 & 2.586383 & 14664 & 98.21177 & 20.649209 & 28.951368 & 18.232337 & 16.054465 & 0 & LHR\\\\\n\\end{tabular}\n",
            "text/markdown": "\nA tibble: 4 × 28\n\n| PID &lt;int&gt; | county &lt;chr&gt; | state &lt;chr&gt; | area &lt;dbl&gt; | poptotal &lt;int&gt; | popdensity &lt;dbl&gt; | popwhite &lt;int&gt; | popblack &lt;int&gt; | popamerindian &lt;int&gt; | popasian &lt;int&gt; | ⋯ ⋯ | percollege &lt;dbl&gt; | percprof &lt;dbl&gt; | poppovertyknown &lt;int&gt; | percpovertyknown &lt;dbl&gt; | percbelowpoverty &lt;dbl&gt; | percchildbelowpovert &lt;dbl&gt; | percadultpoverty &lt;dbl&gt; | percelderlypoverty &lt;dbl&gt; | inmetro &lt;int&gt; | category &lt;chr&gt; |\n|---|---|---|---|---|---|---|---|---|---|---|---|---|---|---|---|---|---|---|---|---|\n|  660 | WILLIAMSON | IL | 0.025 | 57733 | 2309.320 | 56135 | 1147 | 112 | 252 | ⋯ | 21.05956 | 4.980249 | 56318 | 97.54906 | 15.801342 | 22.394582 | 13.618817 | 13.819785 | 0 | AAR |\n|  662 | WOODFORD   | IL | 0.032 | 32653 | 1020.406 | 32388 |   64 |  54 | 102 | ⋯ | 22.80522 | 4.973374 | 31693 | 97.05999 |  7.187707 | 10.013923 |  5.628350 |  7.150557 | 1 | HLU |\n|  720 | OHIO       | IN | 0.005 |  5315 | 1063.000 |  5255 |   41 |   8 |   9 | ⋯ | 10.70292 | 1.793463 |  5271 | 99.17215 |  9.884272 |  8.626887 |  8.583981 | 15.960912 | 1 | LAU |\n| 1202 | ARENAC     | MI | 0.021 | 14931 |  711.000 | 14695 |   10 | 139 |  38 | ⋯ | 11.82785 | 2.586383 | 14664 | 98.21177 | 20.649209 | 28.951368 | 18.232337 | 16.054465 | 0 | LHR |\n\n",
            "text/html": [
              "<table class=\"dataframe\">\n",
              "<caption>A tibble: 4 × 28</caption>\n",
              "<thead>\n",
              "\t<tr><th scope=col>PID</th><th scope=col>county</th><th scope=col>state</th><th scope=col>area</th><th scope=col>poptotal</th><th scope=col>popdensity</th><th scope=col>popwhite</th><th scope=col>popblack</th><th scope=col>popamerindian</th><th scope=col>popasian</th><th scope=col>⋯</th><th scope=col>percollege</th><th scope=col>percprof</th><th scope=col>poppovertyknown</th><th scope=col>percpovertyknown</th><th scope=col>percbelowpoverty</th><th scope=col>percchildbelowpovert</th><th scope=col>percadultpoverty</th><th scope=col>percelderlypoverty</th><th scope=col>inmetro</th><th scope=col>category</th></tr>\n",
              "\t<tr><th scope=col>&lt;int&gt;</th><th scope=col>&lt;chr&gt;</th><th scope=col>&lt;chr&gt;</th><th scope=col>&lt;dbl&gt;</th><th scope=col>&lt;int&gt;</th><th scope=col>&lt;dbl&gt;</th><th scope=col>&lt;int&gt;</th><th scope=col>&lt;int&gt;</th><th scope=col>&lt;int&gt;</th><th scope=col>&lt;int&gt;</th><th scope=col>⋯</th><th scope=col>&lt;dbl&gt;</th><th scope=col>&lt;dbl&gt;</th><th scope=col>&lt;int&gt;</th><th scope=col>&lt;dbl&gt;</th><th scope=col>&lt;dbl&gt;</th><th scope=col>&lt;dbl&gt;</th><th scope=col>&lt;dbl&gt;</th><th scope=col>&lt;dbl&gt;</th><th scope=col>&lt;int&gt;</th><th scope=col>&lt;chr&gt;</th></tr>\n",
              "</thead>\n",
              "<tbody>\n",
              "\t<tr><td> 660</td><td>WILLIAMSON</td><td>IL</td><td>0.025</td><td>57733</td><td>2309.320</td><td>56135</td><td>1147</td><td>112</td><td>252</td><td>⋯</td><td>21.05956</td><td>4.980249</td><td>56318</td><td>97.54906</td><td>15.801342</td><td>22.394582</td><td>13.618817</td><td>13.819785</td><td>0</td><td>AAR</td></tr>\n",
              "\t<tr><td> 662</td><td>WOODFORD  </td><td>IL</td><td>0.032</td><td>32653</td><td>1020.406</td><td>32388</td><td>  64</td><td> 54</td><td>102</td><td>⋯</td><td>22.80522</td><td>4.973374</td><td>31693</td><td>97.05999</td><td> 7.187707</td><td>10.013923</td><td> 5.628350</td><td> 7.150557</td><td>1</td><td>HLU</td></tr>\n",
              "\t<tr><td> 720</td><td>OHIO      </td><td>IN</td><td>0.005</td><td> 5315</td><td>1063.000</td><td> 5255</td><td>  41</td><td>  8</td><td>  9</td><td>⋯</td><td>10.70292</td><td>1.793463</td><td> 5271</td><td>99.17215</td><td> 9.884272</td><td> 8.626887</td><td> 8.583981</td><td>15.960912</td><td>1</td><td>LAU</td></tr>\n",
              "\t<tr><td>1202</td><td>ARENAC    </td><td>MI</td><td>0.021</td><td>14931</td><td> 711.000</td><td>14695</td><td>  10</td><td>139</td><td> 38</td><td>⋯</td><td>11.82785</td><td>2.586383</td><td>14664</td><td>98.21177</td><td>20.649209</td><td>28.951368</td><td>18.232337</td><td>16.054465</td><td>0</td><td>LHR</td></tr>\n",
              "</tbody>\n",
              "</table>\n"
            ]
          },
          "metadata": {}
        }
      ]
    },
    {
      "cell_type": "markdown",
      "source": [
        "# 2. Visualization/ Exercises"
      ],
      "metadata": {
        "id": "VnIB-GPbKsHJ"
      }
    },
    {
      "cell_type": "markdown",
      "source": [
        "Exercise 1: Create a bar plot of population per state, with each bar stacked by category"
      ],
      "metadata": {
        "id": "lm-MtxdgMA8R"
      }
    },
    {
      "cell_type": "code",
      "source": [
        "# your code here\n",
        "ggplot(midwest) + \n",
        "  geom_bar(aes(x=state))"
      ],
      "metadata": {
        "colab": {
          "base_uri": "https://localhost:8080/",
          "height": 257
        },
        "id": "OIdZ5zX-8Yw5",
        "outputId": "e063401b-f808-4bac-d712-328bd342cead"
      },
      "execution_count": null,
      "outputs": [
        {
          "output_type": "display_data",
          "data": {
            "image/png": "[encoded data removed]",
            "text/plain": [
              "plot without title"
            ]
          },
          "metadata": {
            "image/png": {
              "width": 420,
              "height": 240
            }
          }
        }
      ]
    },
    {
      "cell_type": "code",
      "source": [
        "# your code here\n",
        "ggplot(midwest) + \n",
        "  geom_col(aes(x=state, y=poptotal, fill=category))"
      ],
      "metadata": {
        "id": "pJOMIiZHKuKG",
        "colab": {
          "base_uri": "https://localhost:8080/",
          "height": 257
        },
        "outputId": "152f2ddd-acec-475f-db79-13717d25bd49"
      },
      "execution_count": null,
      "outputs": [
        {
          "output_type": "display_data",
          "data": {
            "image/png": "[encoded data removed]",
            "text/plain": [
              "plot without title"
            ]
          },
          "metadata": {
            "image/png": {
              "width": 420,
              "height": 240
            }
          }
        }
      ]
    },
    {
      "cell_type": "markdown",
      "source": [
        "Exercise 2: Plot the relationship between adult poverty and percentage of college grads on the log10 scale, coloring by state."
      ],
      "metadata": {
        "id": "JnSxlFcKMTiW"
      }
    },
    {
      "cell_type": "code",
      "source": [
        "head(midwest)"
      ],
      "metadata": {
        "colab": {
          "base_uri": "https://localhost:8080/",
          "height": 306
        },
        "id": "LEolCb5ZE475",
        "outputId": "4972512e-4216-470f-c058-46b53d117fcb"
      },
      "execution_count": 2,
      "outputs": [
        {
          "output_type": "display_data",
          "data": {
            "text/plain": [
              "  PID county    state area  poptotal popdensity popwhite popblack popamerindian\n",
              "1 561 ADAMS     IL    0.052 66090    1270.9615  63917    1702     98           \n",
              "2 562 ALEXANDER IL    0.014 10626     759.0000   7054    3496     19           \n",
              "3 563 BOND      IL    0.022 14991     681.4091  14477     429     35           \n",
              "4 564 BOONE     IL    0.017 30806    1812.1176  29344     127     46           \n",
              "5 565 BROWN     IL    0.018  5836     324.2222   5264     547     14           \n",
              "6 566 BUREAU    IL    0.050 35688     713.7600  35157      50     65           \n",
              "  popasian ⋯ percollege percprof poppovertyknown percpovertyknown\n",
              "1 249      ⋯ 19.63139   4.355859 63628           96.27478        \n",
              "2  48      ⋯ 11.24331   2.870315 10529           99.08714        \n",
              "3  16      ⋯ 17.03382   4.488572 14235           94.95697        \n",
              "4 150      ⋯ 17.27895   4.197800 30337           98.47757        \n",
              "5   5      ⋯ 14.47600   3.367680  4815           82.50514        \n",
              "6 195      ⋯ 18.90462   3.275891 35107           98.37200        \n",
              "  percbelowpoverty percchildbelowpovert percadultpoverty percelderlypoverty\n",
              "1 13.151443        18.01172             11.009776        12.443812         \n",
              "2 32.244278        45.82651             27.385647        25.228976         \n",
              "3 12.068844        14.03606             10.852090        12.697410         \n",
              "4  7.209019        11.17954              5.536013         6.217047         \n",
              "5 13.520249        13.02289             11.143211        19.200000         \n",
              "6 10.399635        14.15882              8.179287        11.008586         \n",
              "  inmetro category\n",
              "1 0       AAR     \n",
              "2 0       LHR     \n",
              "3 0       AAR     \n",
              "4 1       ALU     \n",
              "5 0       AAR     \n",
              "6 0       AAR     "
            ],
            "text/latex": "A tibble: 6 × 28\n\\begin{tabular}{lllllllllllllllllllll}\n PID & county & state & area & poptotal & popdensity & popwhite & popblack & popamerindian & popasian & ⋯ & percollege & percprof & poppovertyknown & percpovertyknown & percbelowpoverty & percchildbelowpovert & percadultpoverty & percelderlypoverty & inmetro & category\\\\\n <int> & <chr> & <chr> & <dbl> & <int> & <dbl> & <int> & <int> & <int> & <int> & ⋯ & <dbl> & <dbl> & <int> & <dbl> & <dbl> & <dbl> & <dbl> & <dbl> & <int> & <chr>\\\\\n\\hline\n\t 561 & ADAMS     & IL & 0.052 & 66090 & 1270.9615 & 63917 & 1702 & 98 & 249 & ⋯ & 19.63139 & 4.355859 & 63628 & 96.27478 & 13.151443 & 18.01172 & 11.009776 & 12.443812 & 0 & AAR\\\\\n\t 562 & ALEXANDER & IL & 0.014 & 10626 &  759.0000 &  7054 & 3496 & 19 &  48 & ⋯ & 11.24331 & 2.870315 & 10529 & 99.08714 & 32.244278 & 45.82651 & 27.385647 & 25.228976 & 0 & LHR\\\\\n\t 563 & BOND      & IL & 0.022 & 14991 &  681.4091 & 14477 &  429 & 35 &  16 & ⋯ & 17.03382 & 4.488572 & 14235 & 94.95697 & 12.068844 & 14.03606 & 10.852090 & 12.697410 & 0 & AAR\\\\\n\t 564 & BOONE     & IL & 0.017 & 30806 & 1812.1176 & 29344 &  127 & 46 & 150 & ⋯ & 17.27895 & 4.197800 & 30337 & 98.47757 &  7.209019 & 11.17954 &  5.536013 &  6.217047 & 1 & ALU\\\\\n\t 565 & BROWN     & IL & 0.018 &  5836 &  324.2222 &  5264 &  547 & 14 &   5 & ⋯ & 14.47600 & 3.367680 &  4815 & 82.50514 & 13.520249 & 13.02289 & 11.143211 & 19.200000 & 0 & AAR\\\\\n\t 566 & BUREAU    & IL & 0.050 & 35688 &  713.7600 & 35157 &   50 & 65 & 195 & ⋯ & 18.90462 & 3.275891 & 35107 & 98.37200 & 10.399635 & 14.15882 &  8.179287 & 11.008586 & 0 & AAR\\\\\n\\end{tabular}\n",
            "text/markdown": "\nA tibble: 6 × 28\n\n| PID &lt;int&gt; | county &lt;chr&gt; | state &lt;chr&gt; | area &lt;dbl&gt; | poptotal &lt;int&gt; | popdensity &lt;dbl&gt; | popwhite &lt;int&gt; | popblack &lt;int&gt; | popamerindian &lt;int&gt; | popasian &lt;int&gt; | ⋯ ⋯ | percollege &lt;dbl&gt; | percprof &lt;dbl&gt; | poppovertyknown &lt;int&gt; | percpovertyknown &lt;dbl&gt; | percbelowpoverty &lt;dbl&gt; | percchildbelowpovert &lt;dbl&gt; | percadultpoverty &lt;dbl&gt; | percelderlypoverty &lt;dbl&gt; | inmetro &lt;int&gt; | category &lt;chr&gt; |\n|---|---|---|---|---|---|---|---|---|---|---|---|---|---|---|---|---|---|---|---|---|\n| 561 | ADAMS     | IL | 0.052 | 66090 | 1270.9615 | 63917 | 1702 | 98 | 249 | ⋯ | 19.63139 | 4.355859 | 63628 | 96.27478 | 13.151443 | 18.01172 | 11.009776 | 12.443812 | 0 | AAR |\n| 562 | ALEXANDER | IL | 0.014 | 10626 |  759.0000 |  7054 | 3496 | 19 |  48 | ⋯ | 11.24331 | 2.870315 | 10529 | 99.08714 | 32.244278 | 45.82651 | 27.385647 | 25.228976 | 0 | LHR |\n| 563 | BOND      | IL | 0.022 | 14991 |  681.4091 | 14477 |  429 | 35 |  16 | ⋯ | 17.03382 | 4.488572 | 14235 | 94.95697 | 12.068844 | 14.03606 | 10.852090 | 12.697410 | 0 | AAR |\n| 564 | BOONE     | IL | 0.017 | 30806 | 1812.1176 | 29344 |  127 | 46 | 150 | ⋯ | 17.27895 | 4.197800 | 30337 | 98.47757 |  7.209019 | 11.17954 |  5.536013 |  6.217047 | 1 | ALU |\n| 565 | BROWN     | IL | 0.018 |  5836 |  324.2222 |  5264 |  547 | 14 |   5 | ⋯ | 14.47600 | 3.367680 |  4815 | 82.50514 | 13.520249 | 13.02289 | 11.143211 | 19.200000 | 0 | AAR |\n| 566 | BUREAU    | IL | 0.050 | 35688 |  713.7600 | 35157 |   50 | 65 | 195 | ⋯ | 18.90462 | 3.275891 | 35107 | 98.37200 | 10.399635 | 14.15882 |  8.179287 | 11.008586 | 0 | AAR |\n\n",
            "text/html": [
              "<table class=\"dataframe\">\n",
              "<caption>A tibble: 6 × 28</caption>\n",
              "<thead>\n",
              "\t<tr><th scope=col>PID</th><th scope=col>county</th><th scope=col>state</th><th scope=col>area</th><th scope=col>poptotal</th><th scope=col>popdensity</th><th scope=col>popwhite</th><th scope=col>popblack</th><th scope=col>popamerindian</th><th scope=col>popasian</th><th scope=col>⋯</th><th scope=col>percollege</th><th scope=col>percprof</th><th scope=col>poppovertyknown</th><th scope=col>percpovertyknown</th><th scope=col>percbelowpoverty</th><th scope=col>percchildbelowpovert</th><th scope=col>percadultpoverty</th><th scope=col>percelderlypoverty</th><th scope=col>inmetro</th><th scope=col>category</th></tr>\n",
              "\t<tr><th scope=col>&lt;int&gt;</th><th scope=col>&lt;chr&gt;</th><th scope=col>&lt;chr&gt;</th><th scope=col>&lt;dbl&gt;</th><th scope=col>&lt;int&gt;</th><th scope=col>&lt;dbl&gt;</th><th scope=col>&lt;int&gt;</th><th scope=col>&lt;int&gt;</th><th scope=col>&lt;int&gt;</th><th scope=col>&lt;int&gt;</th><th scope=col>⋯</th><th scope=col>&lt;dbl&gt;</th><th scope=col>&lt;dbl&gt;</th><th scope=col>&lt;int&gt;</th><th scope=col>&lt;dbl&gt;</th><th scope=col>&lt;dbl&gt;</th><th scope=col>&lt;dbl&gt;</th><th scope=col>&lt;dbl&gt;</th><th scope=col>&lt;dbl&gt;</th><th scope=col>&lt;int&gt;</th><th scope=col>&lt;chr&gt;</th></tr>\n",
              "</thead>\n",
              "<tbody>\n",
              "\t<tr><td>561</td><td>ADAMS    </td><td>IL</td><td>0.052</td><td>66090</td><td>1270.9615</td><td>63917</td><td>1702</td><td>98</td><td>249</td><td>⋯</td><td>19.63139</td><td>4.355859</td><td>63628</td><td>96.27478</td><td>13.151443</td><td>18.01172</td><td>11.009776</td><td>12.443812</td><td>0</td><td>AAR</td></tr>\n",
              "\t<tr><td>562</td><td>ALEXANDER</td><td>IL</td><td>0.014</td><td>10626</td><td> 759.0000</td><td> 7054</td><td>3496</td><td>19</td><td> 48</td><td>⋯</td><td>11.24331</td><td>2.870315</td><td>10529</td><td>99.08714</td><td>32.244278</td><td>45.82651</td><td>27.385647</td><td>25.228976</td><td>0</td><td>LHR</td></tr>\n",
              "\t<tr><td>563</td><td>BOND     </td><td>IL</td><td>0.022</td><td>14991</td><td> 681.4091</td><td>14477</td><td> 429</td><td>35</td><td> 16</td><td>⋯</td><td>17.03382</td><td>4.488572</td><td>14235</td><td>94.95697</td><td>12.068844</td><td>14.03606</td><td>10.852090</td><td>12.697410</td><td>0</td><td>AAR</td></tr>\n",
              "\t<tr><td>564</td><td>BOONE    </td><td>IL</td><td>0.017</td><td>30806</td><td>1812.1176</td><td>29344</td><td> 127</td><td>46</td><td>150</td><td>⋯</td><td>17.27895</td><td>4.197800</td><td>30337</td><td>98.47757</td><td> 7.209019</td><td>11.17954</td><td> 5.536013</td><td> 6.217047</td><td>1</td><td>ALU</td></tr>\n",
              "\t<tr><td>565</td><td>BROWN    </td><td>IL</td><td>0.018</td><td> 5836</td><td> 324.2222</td><td> 5264</td><td> 547</td><td>14</td><td>  5</td><td>⋯</td><td>14.47600</td><td>3.367680</td><td> 4815</td><td>82.50514</td><td>13.520249</td><td>13.02289</td><td>11.143211</td><td>19.200000</td><td>0</td><td>AAR</td></tr>\n",
              "\t<tr><td>566</td><td>BUREAU   </td><td>IL</td><td>0.050</td><td>35688</td><td> 713.7600</td><td>35157</td><td>  50</td><td>65</td><td>195</td><td>⋯</td><td>18.90462</td><td>3.275891</td><td>35107</td><td>98.37200</td><td>10.399635</td><td>14.15882</td><td> 8.179287</td><td>11.008586</td><td>0</td><td>AAR</td></tr>\n",
              "</tbody>\n",
              "</table>\n"
            ]
          },
          "metadata": {}
        }
      ]
    },
    {
      "cell_type": "code",
      "source": [
        "midwest_scaled <- midwest %>% \n",
        "  mutate(log_pov = log(percadultpoverty), log_college = log(percollege))\n",
        "\n",
        "ggplot(midwest_scaled, aes(x = log_pov, y = log_college)) + geom_point() + \n",
        "  geom_smooth(method=\"lm\")"
      ],
      "metadata": {
        "id": "BamxsVlbLPms",
        "colab": {
          "base_uri": "https://localhost:8080/",
          "height": 294
        },
        "outputId": "3b6f56ae-b876-4c0b-9cf0-6197819941b4"
      },
      "execution_count": 8,
      "outputs": [
        {
          "output_type": "stream",
          "name": "stderr",
          "text": [
            "`geom_smooth()` using formula 'y ~ x'\n",
            "\n"
          ]
        },
        {
          "output_type": "display_data",
          "data": {
            "image/png": "[encoded data removed]",
            "text/plain": [
              "plot without title"
            ]
          },
          "metadata": {
            "image/png": {
              "width": 420,
              "height": 240
            }
          }
        }
      ]
    },
    {
      "cell_type": "markdown",
      "source": [
        "Exercise 3a: Create a new factor column called `poverty_level` with levels:\n",
        "* \"critical\" if poverty rate is above 25%\n",
        "* \"severe\" if poverty rate is between 15% and 25% \n",
        "* \"normal\" otherwise.\n",
        "\n",
        "Hint: use either the `cut` function with appropriate breaks and labels, or else write your own binning function and apply it with `mutate`."
      ],
      "metadata": {
        "id": "SLun1iznOoOl"
      }
    },
    {
      "cell_type": "code",
      "source": [
        "midwest_binned <- midwest %>% \n",
        "  mutate(poverty_level = cut(\n",
        "    percbelowpoverty, breaks=c(0, 15, 25, 100), labels=c(\"normal\", \"severe\", \"critical\"))\n",
        "  )\n",
        "  \n",
        "midwest_binned %>% select(county, state, poverty_level) %>% sample_n(10)"
      ],
      "metadata": {
        "id": "eE-r0tHHOm9A",
        "colab": {
          "base_uri": "https://localhost:8080/",
          "height": 412
        },
        "outputId": "367cb410-9d93-4a73-9e57-f4c1d24cd302"
      },
      "execution_count": 19,
      "outputs": [
        {
          "output_type": "display_data",
          "data": {
            "text/plain": [
              "   county      state poverty_level\n",
              "1  FRANKLIN    IL    severe       \n",
              "2  POPE        IL    critical     \n",
              "3  ATHENS      OH    critical     \n",
              "4  PULASKI     IN    normal       \n",
              "5  HIGHLAND    OH    severe       \n",
              "6  FOND DU LAC WI    normal       \n",
              "7  BROWN       WI    normal       \n",
              "8  GREEN       WI    normal       \n",
              "9  COOK        IL    normal       \n",
              "10 FRANKLIN    IN    normal       "
            ],
            "text/latex": "A tibble: 10 × 3\n\\begin{tabular}{lll}\n county & state & poverty\\_level\\\\\n <chr> & <chr> & <fct>\\\\\n\\hline\n\t FRANKLIN    & IL & severe  \\\\\n\t POPE        & IL & critical\\\\\n\t ATHENS      & OH & critical\\\\\n\t PULASKI     & IN & normal  \\\\\n\t HIGHLAND    & OH & severe  \\\\\n\t FOND DU LAC & WI & normal  \\\\\n\t BROWN       & WI & normal  \\\\\n\t GREEN       & WI & normal  \\\\\n\t COOK        & IL & normal  \\\\\n\t FRANKLIN    & IN & normal  \\\\\n\\end{tabular}\n",
            "text/markdown": "\nA tibble: 10 × 3\n\n| county &lt;chr&gt; | state &lt;chr&gt; | poverty_level &lt;fct&gt; |\n|---|---|---|\n| FRANKLIN    | IL | severe   |\n| POPE        | IL | critical |\n| ATHENS      | OH | critical |\n| PULASKI     | IN | normal   |\n| HIGHLAND    | OH | severe   |\n| FOND DU LAC | WI | normal   |\n| BROWN       | WI | normal   |\n| GREEN       | WI | normal   |\n| COOK        | IL | normal   |\n| FRANKLIN    | IN | normal   |\n\n",
            "text/html": [
              "<table class=\"dataframe\">\n",
              "<caption>A tibble: 10 × 3</caption>\n",
              "<thead>\n",
              "\t<tr><th scope=col>county</th><th scope=col>state</th><th scope=col>poverty_level</th></tr>\n",
              "\t<tr><th scope=col>&lt;chr&gt;</th><th scope=col>&lt;chr&gt;</th><th scope=col>&lt;fct&gt;</th></tr>\n",
              "</thead>\n",
              "<tbody>\n",
              "\t<tr><td>FRANKLIN   </td><td>IL</td><td>severe  </td></tr>\n",
              "\t<tr><td>POPE       </td><td>IL</td><td>critical</td></tr>\n",
              "\t<tr><td>ATHENS     </td><td>OH</td><td>critical</td></tr>\n",
              "\t<tr><td>PULASKI    </td><td>IN</td><td>normal  </td></tr>\n",
              "\t<tr><td>HIGHLAND   </td><td>OH</td><td>severe  </td></tr>\n",
              "\t<tr><td>FOND DU LAC</td><td>WI</td><td>normal  </td></tr>\n",
              "\t<tr><td>BROWN      </td><td>WI</td><td>normal  </td></tr>\n",
              "\t<tr><td>GREEN      </td><td>WI</td><td>normal  </td></tr>\n",
              "\t<tr><td>COOK       </td><td>IL</td><td>normal  </td></tr>\n",
              "\t<tr><td>FRANKLIN   </td><td>IN</td><td>normal  </td></tr>\n",
              "</tbody>\n",
              "</table>\n"
            ]
          },
          "metadata": {}
        }
      ]
    },
    {
      "cell_type": "markdown",
      "source": [
        "Exercise 3b: Visualize a racial breakdown of counties in each of these levels. For instance, you could do a proportional barplot based on percentage of each race, or a `geom_col` plot as in exercise 1 that is stacked by race."
      ],
      "metadata": {
        "id": "n_R5Suq_P7oz"
      }
    },
    {
      "cell_type": "code",
      "source": [
        "# note: I realized that this problem most likely requires a \"pivot\"\n",
        "# since each race is listed as a separate column.\n",
        "\n",
        "midwest_pivoted <- midwest_binned %>% group_by(poverty_level) %>%\n",
        "  summarise(white = sum(popwhite), black = sum(popblack)) %>%\n",
        "  # move from a \"wide\" table to a \"long\" table\n",
        "  # each race column becomes a row\n",
        "  pivot_longer(!poverty_level, names_to=\"race\", values_to=\"population\")\n",
        "\n",
        "ggplot(midwest_pivoted, aes(x=race, y=population)) + geom_col(fill=\"blue\") + \n",
        "  facet_wrap(~ poverty_level, ncol=3)"
      ],
      "metadata": {
        "colab": {
          "base_uri": "https://localhost:8080/",
          "height": 257
        },
        "id": "1FYoOiNhLHOM",
        "outputId": "1144825d-9656-45f0-ee92-1857132b1e79"
      },
      "execution_count": 31,
      "outputs": [
        {
          "output_type": "display_data",
          "data": {
            "image/png": "[encoded data removed]",
            "text/plain": [
              "plot without title"
            ]
          },
          "metadata": {
            "image/png": {
              "width": 420,
              "height": 240
            }
          }
        }
      ]
    },
    {
      "cell_type": "markdown",
      "source": [
        "Exercise 4: Create tibbles corresponding to the 40 counties with the highest population density and lowest population density. Choose two variables for a scatter plot (such as adult poverty and percent college grads) and visually compare the relationship for the most dense and least dense counties."
      ],
      "metadata": {
        "id": "bKK2ZxXWQTJB"
      }
    },
    {
      "cell_type": "code",
      "source": [
        "head(midwest)"
      ],
      "metadata": {
        "colab": {
          "base_uri": "https://localhost:8080/",
          "height": 306
        },
        "id": "EA26hueWNsKH",
        "outputId": "a449b8d8-128a-429d-ed81-ecefc0ec50c0"
      },
      "execution_count": 32,
      "outputs": [
        {
          "output_type": "display_data",
          "data": {
            "text/plain": [
              "  PID county    state area  poptotal popdensity popwhite popblack popamerindian\n",
              "1 561 ADAMS     IL    0.052 66090    1270.9615  63917    1702     98           \n",
              "2 562 ALEXANDER IL    0.014 10626     759.0000   7054    3496     19           \n",
              "3 563 BOND      IL    0.022 14991     681.4091  14477     429     35           \n",
              "4 564 BOONE     IL    0.017 30806    1812.1176  29344     127     46           \n",
              "5 565 BROWN     IL    0.018  5836     324.2222   5264     547     14           \n",
              "6 566 BUREAU    IL    0.050 35688     713.7600  35157      50     65           \n",
              "  popasian ⋯ percollege percprof poppovertyknown percpovertyknown\n",
              "1 249      ⋯ 19.63139   4.355859 63628           96.27478        \n",
              "2  48      ⋯ 11.24331   2.870315 10529           99.08714        \n",
              "3  16      ⋯ 17.03382   4.488572 14235           94.95697        \n",
              "4 150      ⋯ 17.27895   4.197800 30337           98.47757        \n",
              "5   5      ⋯ 14.47600   3.367680  4815           82.50514        \n",
              "6 195      ⋯ 18.90462   3.275891 35107           98.37200        \n",
              "  percbelowpoverty percchildbelowpovert percadultpoverty percelderlypoverty\n",
              "1 13.151443        18.01172             11.009776        12.443812         \n",
              "2 32.244278        45.82651             27.385647        25.228976         \n",
              "3 12.068844        14.03606             10.852090        12.697410         \n",
              "4  7.209019        11.17954              5.536013         6.217047         \n",
              "5 13.520249        13.02289             11.143211        19.200000         \n",
              "6 10.399635        14.15882              8.179287        11.008586         \n",
              "  inmetro category\n",
              "1 0       AAR     \n",
              "2 0       LHR     \n",
              "3 0       AAR     \n",
              "4 1       ALU     \n",
              "5 0       AAR     \n",
              "6 0       AAR     "
            ],
            "text/latex": "A tibble: 6 × 28\n\\begin{tabular}{lllllllllllllllllllll}\n PID & county & state & area & poptotal & popdensity & popwhite & popblack & popamerindian & popasian & ⋯ & percollege & percprof & poppovertyknown & percpovertyknown & percbelowpoverty & percchildbelowpovert & percadultpoverty & percelderlypoverty & inmetro & category\\\\\n <int> & <chr> & <chr> & <dbl> & <int> & <dbl> & <int> & <int> & <int> & <int> & ⋯ & <dbl> & <dbl> & <int> & <dbl> & <dbl> & <dbl> & <dbl> & <dbl> & <int> & <chr>\\\\\n\\hline\n\t 561 & ADAMS     & IL & 0.052 & 66090 & 1270.9615 & 63917 & 1702 & 98 & 249 & ⋯ & 19.63139 & 4.355859 & 63628 & 96.27478 & 13.151443 & 18.01172 & 11.009776 & 12.443812 & 0 & AAR\\\\\n\t 562 & ALEXANDER & IL & 0.014 & 10626 &  759.0000 &  7054 & 3496 & 19 &  48 & ⋯ & 11.24331 & 2.870315 & 10529 & 99.08714 & 32.244278 & 45.82651 & 27.385647 & 25.228976 & 0 & LHR\\\\\n\t 563 & BOND      & IL & 0.022 & 14991 &  681.4091 & 14477 &  429 & 35 &  16 & ⋯ & 17.03382 & 4.488572 & 14235 & 94.95697 & 12.068844 & 14.03606 & 10.852090 & 12.697410 & 0 & AAR\\\\\n\t 564 & BOONE     & IL & 0.017 & 30806 & 1812.1176 & 29344 &  127 & 46 & 150 & ⋯ & 17.27895 & 4.197800 & 30337 & 98.47757 &  7.209019 & 11.17954 &  5.536013 &  6.217047 & 1 & ALU\\\\\n\t 565 & BROWN     & IL & 0.018 &  5836 &  324.2222 &  5264 &  547 & 14 &   5 & ⋯ & 14.47600 & 3.367680 &  4815 & 82.50514 & 13.520249 & 13.02289 & 11.143211 & 19.200000 & 0 & AAR\\\\\n\t 566 & BUREAU    & IL & 0.050 & 35688 &  713.7600 & 35157 &   50 & 65 & 195 & ⋯ & 18.90462 & 3.275891 & 35107 & 98.37200 & 10.399635 & 14.15882 &  8.179287 & 11.008586 & 0 & AAR\\\\\n\\end{tabular}\n",
            "text/markdown": "\nA tibble: 6 × 28\n\n| PID &lt;int&gt; | county &lt;chr&gt; | state &lt;chr&gt; | area &lt;dbl&gt; | poptotal &lt;int&gt; | popdensity &lt;dbl&gt; | popwhite &lt;int&gt; | popblack &lt;int&gt; | popamerindian &lt;int&gt; | popasian &lt;int&gt; | ⋯ ⋯ | percollege &lt;dbl&gt; | percprof &lt;dbl&gt; | poppovertyknown &lt;int&gt; | percpovertyknown &lt;dbl&gt; | percbelowpoverty &lt;dbl&gt; | percchildbelowpovert &lt;dbl&gt; | percadultpoverty &lt;dbl&gt; | percelderlypoverty &lt;dbl&gt; | inmetro &lt;int&gt; | category &lt;chr&gt; |\n|---|---|---|---|---|---|---|---|---|---|---|---|---|---|---|---|---|---|---|---|---|\n| 561 | ADAMS     | IL | 0.052 | 66090 | 1270.9615 | 63917 | 1702 | 98 | 249 | ⋯ | 19.63139 | 4.355859 | 63628 | 96.27478 | 13.151443 | 18.01172 | 11.009776 | 12.443812 | 0 | AAR |\n| 562 | ALEXANDER | IL | 0.014 | 10626 |  759.0000 |  7054 | 3496 | 19 |  48 | ⋯ | 11.24331 | 2.870315 | 10529 | 99.08714 | 32.244278 | 45.82651 | 27.385647 | 25.228976 | 0 | LHR |\n| 563 | BOND      | IL | 0.022 | 14991 |  681.4091 | 14477 |  429 | 35 |  16 | ⋯ | 17.03382 | 4.488572 | 14235 | 94.95697 | 12.068844 | 14.03606 | 10.852090 | 12.697410 | 0 | AAR |\n| 564 | BOONE     | IL | 0.017 | 30806 | 1812.1176 | 29344 |  127 | 46 | 150 | ⋯ | 17.27895 | 4.197800 | 30337 | 98.47757 |  7.209019 | 11.17954 |  5.536013 |  6.217047 | 1 | ALU |\n| 565 | BROWN     | IL | 0.018 |  5836 |  324.2222 |  5264 |  547 | 14 |   5 | ⋯ | 14.47600 | 3.367680 |  4815 | 82.50514 | 13.520249 | 13.02289 | 11.143211 | 19.200000 | 0 | AAR |\n| 566 | BUREAU    | IL | 0.050 | 35688 |  713.7600 | 35157 |   50 | 65 | 195 | ⋯ | 18.90462 | 3.275891 | 35107 | 98.37200 | 10.399635 | 14.15882 |  8.179287 | 11.008586 | 0 | AAR |\n\n",
            "text/html": [
              "<table class=\"dataframe\">\n",
              "<caption>A tibble: 6 × 28</caption>\n",
              "<thead>\n",
              "\t<tr><th scope=col>PID</th><th scope=col>county</th><th scope=col>state</th><th scope=col>area</th><th scope=col>poptotal</th><th scope=col>popdensity</th><th scope=col>popwhite</th><th scope=col>popblack</th><th scope=col>popamerindian</th><th scope=col>popasian</th><th scope=col>⋯</th><th scope=col>percollege</th><th scope=col>percprof</th><th scope=col>poppovertyknown</th><th scope=col>percpovertyknown</th><th scope=col>percbelowpoverty</th><th scope=col>percchildbelowpovert</th><th scope=col>percadultpoverty</th><th scope=col>percelderlypoverty</th><th scope=col>inmetro</th><th scope=col>category</th></tr>\n",
              "\t<tr><th scope=col>&lt;int&gt;</th><th scope=col>&lt;chr&gt;</th><th scope=col>&lt;chr&gt;</th><th scope=col>&lt;dbl&gt;</th><th scope=col>&lt;int&gt;</th><th scope=col>&lt;dbl&gt;</th><th scope=col>&lt;int&gt;</th><th scope=col>&lt;int&gt;</th><th scope=col>&lt;int&gt;</th><th scope=col>&lt;int&gt;</th><th scope=col>⋯</th><th scope=col>&lt;dbl&gt;</th><th scope=col>&lt;dbl&gt;</th><th scope=col>&lt;int&gt;</th><th scope=col>&lt;dbl&gt;</th><th scope=col>&lt;dbl&gt;</th><th scope=col>&lt;dbl&gt;</th><th scope=col>&lt;dbl&gt;</th><th scope=col>&lt;dbl&gt;</th><th scope=col>&lt;int&gt;</th><th scope=col>&lt;chr&gt;</th></tr>\n",
              "</thead>\n",
              "<tbody>\n",
              "\t<tr><td>561</td><td>ADAMS    </td><td>IL</td><td>0.052</td><td>66090</td><td>1270.9615</td><td>63917</td><td>1702</td><td>98</td><td>249</td><td>⋯</td><td>19.63139</td><td>4.355859</td><td>63628</td><td>96.27478</td><td>13.151443</td><td>18.01172</td><td>11.009776</td><td>12.443812</td><td>0</td><td>AAR</td></tr>\n",
              "\t<tr><td>562</td><td>ALEXANDER</td><td>IL</td><td>0.014</td><td>10626</td><td> 759.0000</td><td> 7054</td><td>3496</td><td>19</td><td> 48</td><td>⋯</td><td>11.24331</td><td>2.870315</td><td>10529</td><td>99.08714</td><td>32.244278</td><td>45.82651</td><td>27.385647</td><td>25.228976</td><td>0</td><td>LHR</td></tr>\n",
              "\t<tr><td>563</td><td>BOND     </td><td>IL</td><td>0.022</td><td>14991</td><td> 681.4091</td><td>14477</td><td> 429</td><td>35</td><td> 16</td><td>⋯</td><td>17.03382</td><td>4.488572</td><td>14235</td><td>94.95697</td><td>12.068844</td><td>14.03606</td><td>10.852090</td><td>12.697410</td><td>0</td><td>AAR</td></tr>\n",
              "\t<tr><td>564</td><td>BOONE    </td><td>IL</td><td>0.017</td><td>30806</td><td>1812.1176</td><td>29344</td><td> 127</td><td>46</td><td>150</td><td>⋯</td><td>17.27895</td><td>4.197800</td><td>30337</td><td>98.47757</td><td> 7.209019</td><td>11.17954</td><td> 5.536013</td><td> 6.217047</td><td>1</td><td>ALU</td></tr>\n",
              "\t<tr><td>565</td><td>BROWN    </td><td>IL</td><td>0.018</td><td> 5836</td><td> 324.2222</td><td> 5264</td><td> 547</td><td>14</td><td>  5</td><td>⋯</td><td>14.47600</td><td>3.367680</td><td> 4815</td><td>82.50514</td><td>13.520249</td><td>13.02289</td><td>11.143211</td><td>19.200000</td><td>0</td><td>AAR</td></tr>\n",
              "\t<tr><td>566</td><td>BUREAU   </td><td>IL</td><td>0.050</td><td>35688</td><td> 713.7600</td><td>35157</td><td>  50</td><td>65</td><td>195</td><td>⋯</td><td>18.90462</td><td>3.275891</td><td>35107</td><td>98.37200</td><td>10.399635</td><td>14.15882</td><td> 8.179287</td><td>11.008586</td><td>0</td><td>AAR</td></tr>\n",
              "</tbody>\n",
              "</table>\n"
            ]
          },
          "metadata": {}
        }
      ]
    },
    {
      "cell_type": "code",
      "source": [
        "highest_density <- midwest %>% arrange(desc(popdensity)) %>% head(40)\n",
        "lowest_density <- midwest %>% arrange(popdensity) %>% head(40)"
      ],
      "metadata": {
        "id": "1iJBtyVTQR0l"
      },
      "execution_count": 33,
      "outputs": []
    },
    {
      "cell_type": "code",
      "source": [
        "ggplot(highest_density, \n",
        "    aes(x = log(percadultpoverty), y = log(percollege))) + geom_point() + \n",
        "    geom_smooth(method=\"lm\") + ggtitle(\"40 Densest Midwest Counties\")"
      ],
      "metadata": {
        "colab": {
          "base_uri": "https://localhost:8080/",
          "height": 294
        },
        "id": "R8Q2ImZBN3U_",
        "outputId": "fffa84af-9be8-40e5-9e78-2f747d1d6040"
      },
      "execution_count": 37,
      "outputs": [
        {
          "output_type": "stream",
          "name": "stderr",
          "text": [
            "`geom_smooth()` using formula 'y ~ x'\n",
            "\n"
          ]
        },
        {
          "output_type": "display_data",
          "data": {
            "image/png": "[encoded data removed]",
            "text/plain": [
              "plot without title"
            ]
          },
          "metadata": {
            "image/png": {
              "width": 420,
              "height": 240
            }
          }
        }
      ]
    },
    {
      "cell_type": "code",
      "source": [
        "ggplot(lowest_density, \n",
        "    aes(x = log(percadultpoverty), y = log(percollege))) + geom_point() + \n",
        "    geom_smooth(method=\"lm\") + ggtitle(\"40 Sparsest Midwest Counties\")"
      ],
      "metadata": {
        "colab": {
          "base_uri": "https://localhost:8080/",
          "height": 294
        },
        "id": "iXwLnIEuOT35",
        "outputId": "9370421f-74cd-4fb0-e208-2e01ec4f8e16"
      },
      "execution_count": 38,
      "outputs": [
        {
          "output_type": "stream",
          "name": "stderr",
          "text": [
            "`geom_smooth()` using formula 'y ~ x'\n",
            "\n"
          ]
        },
        {
          "output_type": "display_data",
          "data": {
            "image/png": "[encoded data removed]",
            "text/plain": [
              "plot without title"
            ]
          },
          "metadata": {
            "image/png": {
              "width": 420,
              "height": 240
            }
          }
        }
      ]
    },
    {
      "cell_type": "markdown",
      "source": [
        "Exercise 5: What do the categories mean? Try creating some grouped plots (e.g. stacked barplots, colored scatter plots) that shed some light on how county categories differ from one another.\n",
        "\n",
        "*This exercise is open ended/ambiguous, but it's the sort of Data Science question that people work on in real life.*"
      ],
      "metadata": {
        "id": "v0mu9nNLVBwO"
      }
    },
    {
      "cell_type": "code",
      "source": [
        "str(midwest)"
      ],
      "metadata": {
        "colab": {
          "base_uri": "https://localhost:8080/"
        },
        "id": "uHqElzXPO4_L",
        "outputId": "ea74e6ff-535e-44e5-fbc3-96ea95e28e5d"
      },
      "execution_count": 40,
      "outputs": [
        {
          "output_type": "stream",
          "name": "stdout",
          "text": [
            "tibble [437 × 28] (S3: tbl_df/tbl/data.frame)\n",
            " $ PID                 : int [1:437] 561 562 563 564 565 566 567 568 569 570 ...\n",
            " $ county              : chr [1:437] \"ADAMS\" \"ALEXANDER\" \"BOND\" \"BOONE\" ...\n",
            " $ state               : chr [1:437] \"IL\" \"IL\" \"IL\" \"IL\" ...\n",
            " $ area                : num [1:437] 0.052 0.014 0.022 0.017 0.018 0.05 0.017 0.027 0.024 0.058 ...\n",
            " $ poptotal            : int [1:437] 66090 10626 14991 30806 5836 35688 5322 16805 13437 173025 ...\n",
            " $ popdensity          : num [1:437] 1271 759 681 1812 324 ...\n",
            " $ popwhite            : int [1:437] 63917 7054 14477 29344 5264 35157 5298 16519 13384 146506 ...\n",
            " $ popblack            : int [1:437] 1702 3496 429 127 547 50 1 111 16 16559 ...\n",
            " $ popamerindian       : int [1:437] 98 19 35 46 14 65 8 30 8 331 ...\n",
            " $ popasian            : int [1:437] 249 48 16 150 5 195 15 61 23 8033 ...\n",
            " $ popother            : int [1:437] 124 9 34 1139 6 221 0 84 6 1596 ...\n",
            " $ percwhite           : num [1:437] 96.7 66.4 96.6 95.3 90.2 ...\n",
            " $ percblack           : num [1:437] 2.575 32.9 2.862 0.412 9.373 ...\n",
            " $ percamerindan       : num [1:437] 0.148 0.179 0.233 0.149 0.24 ...\n",
            " $ percasian           : num [1:437] 0.3768 0.4517 0.1067 0.4869 0.0857 ...\n",
            " $ percother           : num [1:437] 0.1876 0.0847 0.2268 3.6973 0.1028 ...\n",
            " $ popadults           : int [1:437] 43298 6724 9669 19272 3979 23444 3583 11323 8825 95971 ...\n",
            " $ perchsd             : num [1:437] 75.1 59.7 69.3 75.5 68.9 ...\n",
            " $ percollege          : num [1:437] 19.6 11.2 17 17.3 14.5 ...\n",
            " $ percprof            : num [1:437] 4.36 2.87 4.49 4.2 3.37 ...\n",
            " $ poppovertyknown     : int [1:437] 63628 10529 14235 30337 4815 35107 5241 16455 13081 154934 ...\n",
            " $ percpovertyknown    : num [1:437] 96.3 99.1 95 98.5 82.5 ...\n",
            " $ percbelowpoverty    : num [1:437] 13.15 32.24 12.07 7.21 13.52 ...\n",
            " $ percchildbelowpovert: num [1:437] 18 45.8 14 11.2 13 ...\n",
            " $ percadultpoverty    : num [1:437] 11.01 27.39 10.85 5.54 11.14 ...\n",
            " $ percelderlypoverty  : num [1:437] 12.44 25.23 12.7 6.22 19.2 ...\n",
            " $ inmetro             : int [1:437] 0 0 0 1 0 0 0 0 0 1 ...\n",
            " $ category            : chr [1:437] \"AAR\" \"LHR\" \"AAR\" \"ALU\" ...\n"
          ]
        }
      ]
    },
    {
      "cell_type": "code",
      "source": [
        "ggplot(midwest) + \n",
        "  geom_col(aes(x=category, y=popdensity, fill=as.factor(inmetro)))"
      ],
      "metadata": {
        "id": "DyXlE4cBVquu",
        "colab": {
          "base_uri": "https://localhost:8080/",
          "height": 257
        },
        "outputId": "3fe59fe5-cc1b-463b-86cc-8340356b023e"
      },
      "execution_count": 47,
      "outputs": [
        {
          "output_type": "display_data",
          "data": {
            "image/png": "[encoded data removed]",
            "text/plain": [
              "plot without title"
            ]
          },
          "metadata": {
            "image/png": {
              "width": 420,
              "height": 240
            }
          }
        }
      ]
    },
    {
      "cell_type": "code",
      "source": [
        "midwest %>% group_by(as.factor(inmetro), category) %>%\n",
        "  summarise(med_pov_rate = median(percadultpoverty),\n",
        "        min_white = min(percwhite), max_logpop = max(log(poptotal))) %>% \n",
        "        arrange(max_logpop)"
      ],
      "metadata": {
        "colab": {
          "base_uri": "https://localhost:8080/",
          "height": 638
        },
        "id": "crZ-oEy-Oo68",
        "outputId": "80b380db-19f7-4c48-8213-78a6783e2df2"
      },
      "execution_count": 55,
      "outputs": [
        {
          "output_type": "stream",
          "name": "stderr",
          "text": [
            "`summarise()` has grouped output by 'as.factor(inmetro)'. You can override using the `.groups` argument.\n"
          ]
        },
        {
          "output_type": "display_data",
          "data": {
            "text/plain": [
              "   as.factor(inmetro) category med_pov_rate min_white max_logpop\n",
              "1  1                  LAU       9.253834    96.29979  10.46213  \n",
              "2  0                  HHR      22.403382    93.61026  10.47005  \n",
              "3  0                  LAR      12.052805    90.15599  10.48369  \n",
              "4  0                  AHR      18.147666    84.35230  11.01973  \n",
              "5  1                  LHU      18.496825    97.21998  11.03221  \n",
              "6  0                  HLR       5.565166    97.00317  11.09035  \n",
              "7  0                  HAR       7.575173    95.96541  11.16884  \n",
              "8  0                  ALR       5.253924    96.02515  11.24582  \n",
              "9  0                  LHR      20.602200    10.69409  11.29386  \n",
              "10 0                  AAR       9.822264    81.93561  11.58120  \n",
              "11 1                  HHU      22.998998    94.28692  11.59890  \n",
              "12 1                  ALU       5.164008    84.94477  13.48339  \n",
              "13 1                  HAU      12.195800    81.51486  13.77618  \n",
              "14 1                  HLU       4.201484    84.91715  13.89579  \n",
              "15 1                  AHU      17.066226    57.39520  14.56300  \n",
              "16 1                  AAU       9.942144    62.77972  15.44574  "
            ],
            "text/latex": "A grouped\\_df: 16 × 5\n\\begin{tabular}{lllll}\n as.factor(inmetro) & category & med\\_pov\\_rate & min\\_white & max\\_logpop\\\\\n <fct> & <chr> & <dbl> & <dbl> & <dbl>\\\\\n\\hline\n\t 1 & LAU &  9.253834 & 96.29979 & 10.46213\\\\\n\t 0 & HHR & 22.403382 & 93.61026 & 10.47005\\\\\n\t 0 & LAR & 12.052805 & 90.15599 & 10.48369\\\\\n\t 0 & AHR & 18.147666 & 84.35230 & 11.01973\\\\\n\t 1 & LHU & 18.496825 & 97.21998 & 11.03221\\\\\n\t 0 & HLR &  5.565166 & 97.00317 & 11.09035\\\\\n\t 0 & HAR &  7.575173 & 95.96541 & 11.16884\\\\\n\t 0 & ALR &  5.253924 & 96.02515 & 11.24582\\\\\n\t 0 & LHR & 20.602200 & 10.69409 & 11.29386\\\\\n\t 0 & AAR &  9.822264 & 81.93561 & 11.58120\\\\\n\t 1 & HHU & 22.998998 & 94.28692 & 11.59890\\\\\n\t 1 & ALU &  5.164008 & 84.94477 & 13.48339\\\\\n\t 1 & HAU & 12.195800 & 81.51486 & 13.77618\\\\\n\t 1 & HLU &  4.201484 & 84.91715 & 13.89579\\\\\n\t 1 & AHU & 17.066226 & 57.39520 & 14.56300\\\\\n\t 1 & AAU &  9.942144 & 62.77972 & 15.44574\\\\\n\\end{tabular}\n",
            "text/markdown": "\nA grouped_df: 16 × 5\n\n| as.factor(inmetro) &lt;fct&gt; | category &lt;chr&gt; | med_pov_rate &lt;dbl&gt; | min_white &lt;dbl&gt; | max_logpop &lt;dbl&gt; |\n|---|---|---|---|---|\n| 1 | LAU |  9.253834 | 96.29979 | 10.46213 |\n| 0 | HHR | 22.403382 | 93.61026 | 10.47005 |\n| 0 | LAR | 12.052805 | 90.15599 | 10.48369 |\n| 0 | AHR | 18.147666 | 84.35230 | 11.01973 |\n| 1 | LHU | 18.496825 | 97.21998 | 11.03221 |\n| 0 | HLR |  5.565166 | 97.00317 | 11.09035 |\n| 0 | HAR |  7.575173 | 95.96541 | 11.16884 |\n| 0 | ALR |  5.253924 | 96.02515 | 11.24582 |\n| 0 | LHR | 20.602200 | 10.69409 | 11.29386 |\n| 0 | AAR |  9.822264 | 81.93561 | 11.58120 |\n| 1 | HHU | 22.998998 | 94.28692 | 11.59890 |\n| 1 | ALU |  5.164008 | 84.94477 | 13.48339 |\n| 1 | HAU | 12.195800 | 81.51486 | 13.77618 |\n| 1 | HLU |  4.201484 | 84.91715 | 13.89579 |\n| 1 | AHU | 17.066226 | 57.39520 | 14.56300 |\n| 1 | AAU |  9.942144 | 62.77972 | 15.44574 |\n\n",
            "text/html": [
              "<table class=\"dataframe\">\n",
              "<caption>A grouped_df: 16 × 5</caption>\n",
              "<thead>\n",
              "\t<tr><th scope=col>as.factor(inmetro)</th><th scope=col>category</th><th scope=col>med_pov_rate</th><th scope=col>min_white</th><th scope=col>max_logpop</th></tr>\n",
              "\t<tr><th scope=col>&lt;fct&gt;</th><th scope=col>&lt;chr&gt;</th><th scope=col>&lt;dbl&gt;</th><th scope=col>&lt;dbl&gt;</th><th scope=col>&lt;dbl&gt;</th></tr>\n",
              "</thead>\n",
              "<tbody>\n",
              "\t<tr><td>1</td><td>LAU</td><td> 9.253834</td><td>96.29979</td><td>10.46213</td></tr>\n",
              "\t<tr><td>0</td><td>HHR</td><td>22.403382</td><td>93.61026</td><td>10.47005</td></tr>\n",
              "\t<tr><td>0</td><td>LAR</td><td>12.052805</td><td>90.15599</td><td>10.48369</td></tr>\n",
              "\t<tr><td>0</td><td>AHR</td><td>18.147666</td><td>84.35230</td><td>11.01973</td></tr>\n",
              "\t<tr><td>1</td><td>LHU</td><td>18.496825</td><td>97.21998</td><td>11.03221</td></tr>\n",
              "\t<tr><td>0</td><td>HLR</td><td> 5.565166</td><td>97.00317</td><td>11.09035</td></tr>\n",
              "\t<tr><td>0</td><td>HAR</td><td> 7.575173</td><td>95.96541</td><td>11.16884</td></tr>\n",
              "\t<tr><td>0</td><td>ALR</td><td> 5.253924</td><td>96.02515</td><td>11.24582</td></tr>\n",
              "\t<tr><td>0</td><td>LHR</td><td>20.602200</td><td>10.69409</td><td>11.29386</td></tr>\n",
              "\t<tr><td>0</td><td>AAR</td><td> 9.822264</td><td>81.93561</td><td>11.58120</td></tr>\n",
              "\t<tr><td>1</td><td>HHU</td><td>22.998998</td><td>94.28692</td><td>11.59890</td></tr>\n",
              "\t<tr><td>1</td><td>ALU</td><td> 5.164008</td><td>84.94477</td><td>13.48339</td></tr>\n",
              "\t<tr><td>1</td><td>HAU</td><td>12.195800</td><td>81.51486</td><td>13.77618</td></tr>\n",
              "\t<tr><td>1</td><td>HLU</td><td> 4.201484</td><td>84.91715</td><td>13.89579</td></tr>\n",
              "\t<tr><td>1</td><td>AHU</td><td>17.066226</td><td>57.39520</td><td>14.56300</td></tr>\n",
              "\t<tr><td>1</td><td>AAU</td><td> 9.942144</td><td>62.77972</td><td>15.44574</td></tr>\n",
              "</tbody>\n",
              "</table>\n"
            ]
          },
          "metadata": {}
        }
      ]
    }
  ]
}