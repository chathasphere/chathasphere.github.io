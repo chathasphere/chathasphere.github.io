{
  "nbformat": 4,
  "nbformat_minor": 0,
  "metadata": {
    "kernelspec": {
      "display_name": "R",
      "language": "R",
      "name": "ir"
    },
    "language_info": {
      "codemirror_mode": "r",
      "file_extension": ".r",
      "mimetype": "text/x-r-source",
      "name": "R",
      "pygments_lexer": "r",
      "version": "3.6.1"
    },
    "colab": {
      "name": "003_lab11.ipynb",
      "provenance": [],
      "collapsed_sections": [],
      "include_colab_link": true
    }
  },
  "cells": [
    {
      "cell_type": "markdown",
      "metadata": {
        "id": "view-in-github",
        "colab_type": "text"
      },
      "source": [
        "<a href=\"https://colab.research.google.com/github/chathasphere/chathasphere.github.io/blob/main/teaching/306_materials/003_lab11.ipynb\" target=\"_parent\"><img src=\"https://colab.research.google.com/assets/colab-badge.svg\" alt=\"Open In Colab\"/></a>"
      ]
    },
    {
      "cell_type": "markdown",
      "metadata": {
        "id": "N6qet7MQcfCt"
      },
      "source": [
        "# Lab 11: Final Review\n",
        "## April 12th, 2022\n",
        "\n",
        "It's almost over!\n",
        "\n",
        "Aiming to release the final exam on April 14th. You'll have a week to work on it. Same rules as the midterm exam."
      ]
    },
    {
      "cell_type": "code",
      "metadata": {
        "id": "ydYGcQICcfCx"
      },
      "source": [
        "library(tidyverse)"
      ],
      "execution_count": null,
      "outputs": []
    },
    {
      "cell_type": "markdown",
      "source": [
        "## Exercise 1a.\n",
        "\n",
        "The `billboard` data set lists Billboard top 100 hits from the year 2000. There are 76 columns that correspond to weeks that a song was in the top 100. Tidy up this data set so that it is in long format: there should a column called `week` indicating the week number and a column called `rank` specifying a song's rank in the top 100.\n"
      ],
      "metadata": {
        "id": "5zbliAEkslCr"
      }
    },
    {
      "cell_type": "code",
      "source": [
        ""
      ],
      "metadata": {
        "id": "K4CS3smDsjVl"
      },
      "execution_count": null,
      "outputs": []
    },
    {
      "cell_type": "markdown",
      "source": [
        "## Exercise 1b.\n",
        "Which song was a top hit for the most weeks? List tracks (along with the artist) in descending order by the number of weeks they stayed in the top 100. (If you have heard of any of these songs then I'm impressed.)"
      ],
      "metadata": {
        "id": "s_LX4yERuaPM"
      }
    },
    {
      "cell_type": "code",
      "source": [
        ""
      ],
      "metadata": {
        "id": "r1NucBNJYYsr"
      },
      "execution_count": null,
      "outputs": []
    },
    {
      "cell_type": "markdown",
      "source": [
        "## Exercise 1c.\n",
        "\n",
        "Find all the artists with number one hits and count how many each had. Which artists had the most number one hits in 2000?"
      ],
      "metadata": {
        "id": "lzRdLcqAwCvX"
      }
    },
    {
      "cell_type": "code",
      "source": [
        ""
      ],
      "metadata": {
        "id": "qHMzVVaJYYMZ"
      },
      "execution_count": null,
      "outputs": []
    },
    {
      "cell_type": "markdown",
      "source": [
        "## Exercise 1d.\n",
        "\n",
        "For each artist, create a column called `all_songs` listing the number of unique tracks they have. Using this column, find the subset of artists with at least 3 hits. Save this to a tibble called `many_hits`."
      ],
      "metadata": {
        "id": "pDRV-XsPviDx"
      }
    },
    {
      "cell_type": "code",
      "source": [
        ""
      ],
      "metadata": {
        "id": "jFJDhzaovhR1"
      },
      "execution_count": null,
      "outputs": []
    },
    {
      "cell_type": "markdown",
      "source": [
        "## Exercise 1e.\n",
        "\n",
        "Bonus challenge: How many unique words (space-separated) are found in all songs in this data set?"
      ],
      "metadata": {
        "id": "IgHtFCinz2hH"
      }
    },
    {
      "cell_type": "code",
      "source": [
        ""
      ],
      "metadata": {
        "id": "lhCuRu090t5x"
      },
      "execution_count": null,
      "outputs": []
    },
    {
      "cell_type": "markdown",
      "source": [
        "## Exercise 2a.\n",
        "\n",
        "Write a function called `is_prime` that accepts an integer argument `num`. This function should return True when given a prime number and false otherwise.\n",
        "\n",
        "Hint: Suppose `num` is 21. Can you use a vector to tell how many numbers smaller than 21 and larger than 1 divide 21?"
      ],
      "metadata": {
        "id": "4OPPXo9w4kGu"
      }
    },
    {
      "cell_type": "code",
      "source": [
        ""
      ],
      "metadata": {
        "id": "RhWT1eTd0_i9"
      },
      "execution_count": null,
      "outputs": []
    },
    {
      "cell_type": "markdown",
      "source": [
        "## Exercise 2b.\n",
        "\n",
        "For $i =1, \\cdots, 30,$ create a vector where the $i$th element is \"duck\" if $i+1$ is prime or \"goose\" if $i+1$ is not prime. Do this without loops."
      ],
      "metadata": {
        "id": "TL_7zFY-5sSv"
      }
    },
    {
      "cell_type": "code",
      "source": [
        ""
      ],
      "metadata": {
        "id": "0loDTr7351dc"
      },
      "execution_count": null,
      "outputs": []
    },
    {
      "cell_type": "markdown",
      "source": [
        "## Exercise 2c. \n",
        "How would you print the above vector so that each element appears on a new line?"
      ],
      "metadata": {
        "id": "wI2zxngt8nie"
      }
    },
    {
      "cell_type": "code",
      "source": [
        ""
      ],
      "metadata": {
        "id": "zirkqwaO8AMP"
      },
      "execution_count": null,
      "outputs": []
    },
    {
      "cell_type": "markdown",
      "source": [
        "### Exercise 3a. \n",
        "Using a `map` function, find the mean of all numeric columns in the `msleep` data set. Round to two decimal places.\n",
        "\n",
        "Also using a `map` function, find the number of unique values in each column of `msleep.`"
      ],
      "metadata": {
        "id": "4gam9Rc86TRP"
      }
    },
    {
      "cell_type": "code",
      "source": [
        ""
      ],
      "metadata": {
        "id": "NSyv2U_sHUbL"
      },
      "execution_count": null,
      "outputs": []
    },
    {
      "cell_type": "code",
      "source": [
        ""
      ],
      "metadata": {
        "id": "VUAcb9_ZV2CC"
      },
      "execution_count": null,
      "outputs": []
    },
    {
      "cell_type": "markdown",
      "source": [
        "## Exercise 3b.\n",
        "\n",
        "Return the rows corresponding to the animals with the smallest `sleep_total` in their order."
      ],
      "metadata": {
        "id": "J7PzLGroLywI"
      }
    },
    {
      "cell_type": "code",
      "source": [
        ""
      ],
      "metadata": {
        "id": "6U08bHU9LP18"
      },
      "execution_count": null,
      "outputs": []
    },
    {
      "cell_type": "markdown",
      "source": [
        "## Exercise 3c.\n",
        "Select only rows corresponding to animals whose names are made up of exactly two words (separated by a space)."
      ],
      "metadata": {
        "id": "oCfRAVmVM7kg"
      }
    },
    {
      "cell_type": "code",
      "source": [
        ""
      ],
      "metadata": {
        "id": "qKGSDLS4L6MV"
      },
      "execution_count": null,
      "outputs": []
    },
    {
      "cell_type": "markdown",
      "source": [
        "## Exercise 3d.\n",
        "\n",
        "For each order, find the animal with the longest name."
      ],
      "metadata": {
        "id": "NX4XL6RdRJGn"
      }
    },
    {
      "cell_type": "code",
      "source": [
        ""
      ],
      "metadata": {
        "id": "0MpUXbocOK1E"
      },
      "execution_count": null,
      "outputs": []
    },
    {
      "cell_type": "markdown",
      "source": [
        "## Exercise 3e.\n",
        "\n",
        "Create a scatterplot with `brainwt` on the x-axis and `sleep_total` on the y-axis. Use a log-10 transformation for the x-axis. Color points by `vore`. Plot a *single* linear line of best fit on top of the scatterplot. "
      ],
      "metadata": {
        "id": "O14kvnvxXrHZ"
      }
    },
    {
      "cell_type": "code",
      "source": [
        ""
      ],
      "metadata": {
        "id": "h3v_7xjYWXtL"
      },
      "execution_count": null,
      "outputs": []
    }
  ]
}