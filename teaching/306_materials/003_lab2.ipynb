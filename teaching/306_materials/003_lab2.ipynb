{
  "cells": [
    {
      "cell_type": "markdown",
      "metadata": {
        "id": "view-in-github",
        "colab_type": "text"
      },
      "source": [
        "<a href=\"https://colab.research.google.com/github/chathasphere/chathasphere.github.io/blob/main/teaching/306_materials/003_lab2.ipynb\" target=\"_parent\"><img src=\"https://colab.research.google.com/assets/colab-badge.svg\" alt=\"Open In Colab\"/></a>"
      ]
    },
    {
      "cell_type": "markdown",
      "metadata": {
        "id": "4CKqXojWqIsR"
      },
      "source": [
        "# Lab 2: ggplot and dplyr\n",
        "\n",
        "### January 18th, 2022"
      ]
    },
    {
      "cell_type": "markdown",
      "metadata": {
        "id": "ImKQgKKTqIsW"
      },
      "source": [
        "# 1. Logistics\n",
        "\n",
        "- Please join Slack and the Lab 3 lab channel in particular if you haven't already\n",
        "- This week, I will be moving my Tuesday office hour to Wednesday 4:30-6pm\n",
        "- Starting next week, I will split my OH into 3 chunks to increase coverage\n",
        "- The purpose of labs...\n",
        "- We are probably meeting in-person next week"
      ]
    },
    {
      "cell_type": "code",
      "execution_count": null,
      "metadata": {
        "scrolled": true,
        "id": "tPEMd09MqIsX"
      },
      "outputs": [],
      "source": [
        "library(tidyverse) # automatically imports ggplot and dplyr"
      ]
    },
    {
      "cell_type": "markdown",
      "source": [
        "# 2. Back to ggplot"
      ],
      "metadata": {
        "id": "bidKO3NYsX6j"
      }
    },
    {
      "cell_type": "markdown",
      "source": [
        "Often, we're only interested in a subset of data points. Can help with plotting or running expensive analysis."
      ],
      "metadata": {
        "id": "Tw8pY8-Br7ys"
      }
    },
    {
      "cell_type": "markdown",
      "source": [
        "## 2.1 Pipe Syntax (Functional Programming)"
      ],
      "metadata": {
        "id": "qjQ0_0ctuOgM"
      }
    },
    {
      "cell_type": "code",
      "execution_count": null,
      "metadata": {
        "id": "xzmjYLMWqIsb"
      },
      "outputs": [],
      "source": [
        "# randomly sampling a subset from dataset\n",
        "# setting a random seed ensures replicability\n",
        "set.seed(108)\n",
        "# this is \"piping\" notation \n",
        "dm <- diamonds %>% sample_n(1000)\n",
        "names(dm)\n",
        "summary(dm)\n",
        "dim(dm)"
      ]
    },
    {
      "cell_type": "code",
      "source": [
        "# optional, look at the documentation\n",
        "# ?sample_n\n",
        "# standard syntax\n",
        "dm <- sample_n(diamonds, 1000)\n",
        "# functional programming syntax (w/ pipe)\n",
        "dm <- diamonds %>% sample_n(1000)\n",
        "# typically, we will use pipes to apply a function to a tibble\n",
        "# does this work?\n",
        "dm %>% summary()"
      ],
      "metadata": {
        "id": "ItC_3q6ItWUr"
      },
      "execution_count": null,
      "outputs": []
    },
    {
      "cell_type": "markdown",
      "source": [
        "## 2.2 Review of ggplot"
      ],
      "metadata": {
        "id": "TL3cjxnpv2U_"
      }
    },
    {
      "cell_type": "markdown",
      "source": [
        "Every ggplot2 plot has three key components:\n",
        "\n",
        "- data,\n",
        "\n",
        "- A set of aesthetic mappings between variables in the data and visual properties, and\n",
        "\n",
        "- At least one layer which describes how to render each observation. Layers are usually created with a geom function."
      ],
      "metadata": {
        "id": "FObmaCgBuEMr"
      }
    },
    {
      "cell_type": "code",
      "execution_count": null,
      "metadata": {
        "id": "e822pIAhqIsd"
      },
      "outputs": [],
      "source": [
        "p1 = ggplot(dm) +\n",
        "    geom_point(aes(x, price, color = cut)) + \n",
        "    facet_wrap(vars(clarity), ncol=4) + \n",
        "    theme_bw() # optional: add a theme layer\n",
        "print(p1)\n",
        "\n",
        "# some available themes: theme_bw, theme_classic, theme_void...\n",
        "# feel free to explore!\n",
        "\n",
        "## this code does the same thing!\n",
        "# p1 = ggplot(dm, aes(x, price, color = cut)) +\n",
        "#     geom_point() +\n",
        "#     facet_wrap(vars(clarity), ncol=4) \n",
        "# print(p1)"
      ]
    },
    {
      "cell_type": "markdown",
      "metadata": {
        "id": "XXP9leLKqIse"
      },
      "source": [
        "## 2.3 Layering Geometric Objects\n",
        "Suppose we are interested in identifying trends in our data. We can plot a smooth line of best fit as follows:"
      ]
    },
    {
      "cell_type": "code",
      "execution_count": null,
      "metadata": {
        "id": "P957SshSqIsf"
      },
      "outputs": [],
      "source": [
        "p2 = ggplot(dm) +\n",
        "    geom_point(aes(x, price)) + # we can specify the aes. mapping\n",
        "    geom_smooth(aes(x, price))  # for EACH geom layer\n",
        "print(p2)"
      ]
    },
    {
      "cell_type": "markdown",
      "metadata": {
        "id": "i6TGway7qIsg"
      },
      "source": [
        "### Exercise 1\n",
        "In the above fit, use locally weighted scatterplot smoother instead general additive model (loess).\n",
        "\n",
        "How do you go about checking the documentation?"
      ]
    },
    {
      "cell_type": "code",
      "execution_count": null,
      "metadata": {
        "id": "ZDe53gQ-qIsh"
      },
      "outputs": [],
      "source": [
        "# your code here\n",
        "p3 = ggplot(dm)"
      ]
    },
    {
      "cell_type": "markdown",
      "metadata": {
        "id": "LOd_ClPmqIsi"
      },
      "source": [
        "### Exercise 2.1 \n",
        "Same as before, but try fitting a linear best fit."
      ]
    },
    {
      "cell_type": "code",
      "execution_count": null,
      "metadata": {
        "id": "J6bfbbROqIsi"
      },
      "outputs": [],
      "source": [
        "# your code here\n",
        "p4 = ggplot(dm)"
      ]
    },
    {
      "cell_type": "markdown",
      "metadata": {
        "id": "DpaxIDVeqIsj"
      },
      "source": [
        "### Exercise 2.2\n",
        "\n",
        "Fit a linear line but with both variables log-scaled.\n",
        "\n",
        "(You do not need to do anything if your previous code is correct)"
      ]
    },
    {
      "cell_type": "code",
      "execution_count": null,
      "metadata": {
        "id": "IpT19CtCqIsj"
      },
      "outputs": [],
      "source": [
        "p4 + scale_x_continuous(trans='log10') + \n",
        "     scale_y_continuous(trans='log10')"
      ]
    },
    {
      "cell_type": "markdown",
      "metadata": {
        "id": "-3KUtB68qIsj"
      },
      "source": [
        "### Why would log-log plot make sense?\n",
        "\n",
        "A log-log plot describes the relationship $Price = c \\cdot Carat^k$ for some constant $c, k > 0$.\n",
        "\n",
        "* Going from 0.1 carats to 0.2 carats may not be worth much, but increasing from 1.9 carats to 2.0 carats would result in a significant increase in price.\n",
        "* Let's look at the following relationship\n",
        "$$ Price = c \\cdot Carat^k \\Rightarrow \\log Price = \\log c + k \\log x$$\n",
        "* You can see that once we transform both variables with log, we have a linear relationship between $\\log Price$ and $\\log Carat$."
      ]
    },
    {
      "cell_type": "markdown",
      "metadata": {
        "id": "z2E1ipmjqIsk"
      },
      "source": [
        "### Exercise 2.3\n",
        "Make separate linear lines for each category of the clarity variable. *Hint: give each line a different color based on clarity.*"
      ]
    },
    {
      "cell_type": "code",
      "execution_count": null,
      "metadata": {
        "id": "ApqsUJWrqIsk"
      },
      "outputs": [],
      "source": [
        "# optional: think about how we could disable the confidence interval\n",
        "# our code here\n",
        "p4 = ggplot(dm)"
      ]
    },
    {
      "cell_type": "markdown",
      "metadata": {
        "id": "8-HnjkYnqIsl"
      },
      "source": [
        "### Exercise 3\n",
        "Can we rewrite the above to reduce the code duplication above? (Both geom objects have the same aesthetic mapping...)"
      ]
    },
    {
      "cell_type": "code",
      "execution_count": null,
      "metadata": {
        "id": "C05I_yMIqIsl"
      },
      "outputs": [],
      "source": [
        "# your code here\n",
        "p5 = ggplot(dm)\n",
        "# optional: how do we hide the legend?\n",
        "# two options: \n",
        "# 1. \"show.legend\" argument in a geom_layer\n",
        "# 2. add a theme layer: \"theme(legend.position = \"none\")\"\""
      ]
    },
    {
      "cell_type": "markdown",
      "metadata": {
        "id": "W8blV4-3qIsm"
      },
      "source": [
        "### Self-Study\n",
        "What geom would you use to draw a line chart? A boxplot? A histogram? An area chart?\n"
      ]
    },
    {
      "cell_type": "code",
      "execution_count": null,
      "metadata": {
        "id": "SjyaZz9vqIsm"
      },
      "outputs": [],
      "source": [
        "# Boxplot\n",
        "\n",
        "# Histogram\n",
        "\n",
        "# Area Chart"
      ]
    },
    {
      "cell_type": "markdown",
      "source": [
        "# 3. Customizing ggplot"
      ],
      "metadata": {
        "id": "cikuha6Fz5XU"
      }
    },
    {
      "cell_type": "markdown",
      "metadata": {
        "id": "_TkIdQElqIsm"
      },
      "source": [
        "## 3.1 Statistical Transformations\n",
        "Many graphs, like scatterplots, plot the raw values of your dataset. Other graphs, like bar charts, calculate new values to plot.\n",
        "\n",
        "You can learn which stat a geom uses by inspecting the default value for the 'stat' argument. For example, `?geom_bar` shows that the default value for stat is 'count', which means that `geom_bar()` uses `stat_count()`.\n",
        "\n",
        "`stat_count()` is documented on the same page as geom_bar(), and if you scroll down you can find a section called \"computed variables.\" That describes how it computes two new variables: count and prop.\n"
      ]
    },
    {
      "cell_type": "code",
      "execution_count": null,
      "metadata": {
        "id": "HsY1yK1zqIsn"
      },
      "outputs": [],
      "source": [
        "?geom_bar"
      ]
    },
    {
      "cell_type": "code",
      "execution_count": null,
      "metadata": {
        "id": "kUncep_gqIsn"
      },
      "outputs": [],
      "source": [
        "popn <- tribble(\n",
        "~city, ~population,\n",
        "\"Istanbul\", 15029231,\n",
        "\"Moscow\", 12615279,\n",
        "\"Saint Petersburg\", 9126366,\n",
        "\"Berlin\", 5383890,\n",
        "\"Madrid\", 3748148\n",
        ")"
      ]
    },
    {
      "cell_type": "markdown",
      "metadata": {
        "id": "94AE0f9WqIsn"
      },
      "source": [
        "![We want a plot that looks like this.](https://raw.githubusercontent.com/enesdilber/stats306_labs/master/lab2/graph5.png)"
      ]
    },
    {
      "cell_type": "markdown",
      "source": [
        "### Bar Plots in ggplot"
      ],
      "metadata": {
        "id": "G8BfhX-WZKxI"
      }
    },
    {
      "cell_type": "markdown",
      "source": [
        "How do we reproduce the above plot?"
      ],
      "metadata": {
        "id": "o6A_Tko52TtE"
      }
    },
    {
      "cell_type": "code",
      "source": [
        "# this doesn't look right\n",
        "ggplot(data = popn, aes(city)) + \n",
        "  geom_bar()"
      ],
      "metadata": {
        "id": "KKrtDNDW1Vyd"
      },
      "execution_count": null,
      "outputs": []
    },
    {
      "cell_type": "code",
      "source": [
        "# this will raise an error\n",
        "ggplot(data = popn, aes(city, population)) + \n",
        "  geom_bar()"
      ],
      "metadata": {
        "id": "IeT2iLst1z9S"
      },
      "execution_count": null,
      "outputs": []
    },
    {
      "cell_type": "code",
      "source": [
        "# we can override the default stat\n",
        "# and supply a variable mapped to the y-axis!\n",
        "ggplot(data = popn, aes(city, population)) + \n",
        "  geom_bar(stat=\"identity\")"
      ],
      "metadata": {
        "id": "XO35fdNk2Czu"
      },
      "execution_count": null,
      "outputs": []
    },
    {
      "cell_type": "markdown",
      "source": [
        "### Exercise 4\n",
        "Use `geom_col` to reproduce a bar plot of cities by population. (No need to override the default `stat`). Remember to supply a title!"
      ],
      "metadata": {
        "id": "EUFfnJfP2reS"
      }
    },
    {
      "cell_type": "code",
      "execution_count": null,
      "metadata": {
        "id": "xplSE85gqIsn"
      },
      "outputs": [],
      "source": [
        "# your code here\n",
        "ggplot(data = popn, aes(city, population)) + \n",
        "    geom_col() + ggtitle(\"Most Populated Cities in Europe\")"
      ]
    },
    {
      "cell_type": "markdown",
      "source": [
        "### Proportion Bar Plot"
      ],
      "metadata": {
        "id": "TLnqtZxGY-dq"
      }
    },
    {
      "cell_type": "code",
      "execution_count": null,
      "metadata": {
        "id": "nCsfer4SqIso"
      },
      "outputs": [],
      "source": [
        "ggplot(data = dm) + \n",
        "    geom_bar(mapping = aes(x=cut, y=..prop.., group=1))"
      ]
    },
    {
      "cell_type": "markdown",
      "metadata": {
        "id": "iJTYQPVfqIso"
      },
      "source": [
        "### Summary Plots\n",
        "\n",
        "Other times, you want to draw greater attention to the statistical transformation in your code. For example, you might use stat_summary() which summarises the y values for each unique x value, to draw attention to the summary that you're computing:"
      ]
    },
    {
      "cell_type": "code",
      "execution_count": null,
      "metadata": {
        "id": "mRcpyWvbqIsp"
      },
      "outputs": [],
      "source": [
        "ggplot(data = dm, aes(cut, depth)) + \n",
        "    stat_summary(fun = mean, fun.min = min, fun.max = max, size=0.3)\n",
        "\n",
        "  # try playing around with different options for \"fun\""
      ]
    },
    {
      "cell_type": "markdown",
      "metadata": {
        "id": "dXBT6BLnqIsq"
      },
      "source": [
        "### Self-Study\n",
        "1. What is the default geom associated with stat_summary()? How could you rewrite the previous plot to use that geom function instead of the stat function?\n",
        "2. What does geom_col() do? How is it different to geom_bar()?\n",
        "3. Most geoms and stats come in pairs that are almost always used in concert. Read through the documentation and make a list of all the pairs. What do they have in common?\n",
        "4. What variables does stat_smooth() compute? What parameters control its behaviour?\n",
        "5. In our proportion bar chart, we need to set group = 1. Why?"
      ]
    },
    {
      "cell_type": "markdown",
      "metadata": {
        "id": "w7jwGlQ2qIsr"
      },
      "source": [
        "## 3.2 Position adjustments"
      ]
    },
    {
      "cell_type": "markdown",
      "source": [
        "### geom_bar"
      ],
      "metadata": {
        "id": "fMWQojJfbAWj"
      }
    },
    {
      "cell_type": "code",
      "execution_count": null,
      "metadata": {
        "id": "c1ZxYnwIqIsr"
      },
      "outputs": [],
      "source": [
        "# Difference between color and fill\n",
        "ggplot(data = diamonds) + \n",
        "  geom_bar(mapping = aes(x = cut, colour = cut))\n",
        "ggplot(data = diamonds) + \n",
        "  geom_bar(mapping = aes(x = cut, fill = cut))"
      ]
    },
    {
      "cell_type": "markdown",
      "metadata": {
        "id": "DVC9VewsqIss"
      },
      "source": [
        "Remember that we can \"color by\" a different variable - in this case, clarity. By default, it stacks the bars for each clarity level. This is done using the positional adjustment specified by the position argument of geom_bar. If you don't want a stacked bar chart, you can use one of three other options: \"identity\", \"dodge\", or \"fill\"."
      ]
    },
    {
      "cell_type": "code",
      "execution_count": null,
      "metadata": {
        "id": "ifuKqOGkqIss"
      },
      "outputs": [],
      "source": [
        "ggplot(data = dm, aes(x = cut)) + \n",
        "  geom_bar(aes(fill = clarity))"
      ]
    },
    {
      "cell_type": "code",
      "source": [
        "# position \"identity\"\n",
        "# overlaps bars\n",
        "# not particularly useful, imo\n",
        "ggplot(data = dm) + \n",
        "  geom_bar(mapping = aes(x = cut, fill = clarity), position = \"identity\")"
      ],
      "metadata": {
        "id": "qBcAZgfEcQ6Z"
      },
      "execution_count": null,
      "outputs": []
    },
    {
      "cell_type": "code",
      "execution_count": null,
      "metadata": {
        "id": "az-uIX0BqIst"
      },
      "outputs": [],
      "source": [
        "# position \"fill\"\n",
        "# each stacked bar is same height\n",
        "# useful for comparing proportions\n",
        "ggplot(data = dm) + \n",
        "  geom_bar(mapping = aes(x = cut, fill = clarity), position = \"fill\")"
      ]
    },
    {
      "cell_type": "markdown",
      "metadata": {
        "id": "KNk_mGDaqIst"
      },
      "source": [
        "### Exercise 5\n",
        "Implement a bar plot with `position = 'dodge'`.\n",
        "\n",
        "This places overlapping objects directly beside one another, which makes it easier to compare individual values."
      ]
    },
    {
      "cell_type": "markdown",
      "metadata": {
        "id": "VAT6Ca3-qIst"
      },
      "source": [
        "![Caption for the picture.](https://raw.githubusercontent.com/enesdilber/stats306_labs/master/lab2/graph10.png)"
      ]
    },
    {
      "cell_type": "code",
      "execution_count": null,
      "metadata": {
        "id": "_K0L_Z_wqIst"
      },
      "outputs": [],
      "source": [
        "# your code here"
      ]
    },
    {
      "cell_type": "markdown",
      "metadata": {
        "id": "w76M7ya8qIsu"
      },
      "source": [
        "### Jitter\n",
        "A positional adjustment that is very useful for scatterplots with overlaps is the 'jitter' argument. *However, you have to be careful not to interpret the random positioning of points on the x-axis as meaningful.*"
      ]
    },
    {
      "cell_type": "code",
      "execution_count": null,
      "metadata": {
        "id": "byoCfRiFqIsu"
      },
      "outputs": [],
      "source": [
        "ggplot(data = dm) + \n",
        "  geom_point(mapping = aes(x = cut, y = price))\n",
        "\n",
        "ggplot(data = dm) + \n",
        "  geom_point(mapping = aes(x = cut, y = price), position = \"jitter\")"
      ]
    },
    {
      "cell_type": "markdown",
      "metadata": {
        "id": "vuD_asgqqIsv"
      },
      "source": [
        "### Self Study\n",
        "1. What parameters to geom_jitter() control the amount of jittering?\n",
        "2. Compare and contrast geom_jitter() with geom_count().\n",
        "3. What's the default position adjustment from geom_boxplot()? Create a visualization of the mpg dataset and demostrate it. \n",
        "Make sure you go through coordinate systems.\n",
        "\n"
      ]
    },
    {
      "cell_type": "markdown",
      "source": [
        "# 4. dplyr for Data Manipulation"
      ],
      "metadata": {
        "id": "5Et0KPQec_PE"
      }
    },
    {
      "cell_type": "code",
      "execution_count": null,
      "metadata": {
        "id": "owUu39C8qIsw"
      },
      "outputs": [],
      "source": [
        "dim(dm)\n",
        "head(dm)"
      ]
    },
    {
      "cell_type": "markdown",
      "metadata": {
        "id": "1QWqFsPCqIsx"
      },
      "source": [
        "Simply run 'dm' after declaring the dm variable above. can you guess what 'dbl', 'ord', and 'int' are?\n",
        "\n",
        "Notice how the levels below follow an order. Indeed, we expect Fair < Good < Very Good < Premium < Ideal"
      ]
    },
    {
      "cell_type": "code",
      "execution_count": null,
      "metadata": {
        "id": "RyJ2oFIdqIsx"
      },
      "outputs": [],
      "source": [
        "print(levels(dm$cut))\n",
        "print(levels(dm$color))\n",
        "print(levels(dm$clarity))"
      ]
    },
    {
      "cell_type": "code",
      "execution_count": null,
      "metadata": {
        "id": "71Zb4HzcqIsx"
      },
      "outputs": [],
      "source": [
        "sizes = c(\"M\", \"S\", \"S\", \"M\", \"XL\", \"XXL\", \"XL\", \"S\", \"M\", \"L\")\n",
        "levels(as.factor(sizes)) # factors are just categorical variables in R"
      ]
    },
    {
      "cell_type": "code",
      "execution_count": null,
      "metadata": {
        "id": "fIN1lsj9qIsx"
      },
      "outputs": [],
      "source": [
        "sizes = ordered(sizes, levels = c(\"S\", \"M\", \"L\", \"XL\", \"XXL\"))\n",
        "levels(sizes)"
      ]
    },
    {
      "cell_type": "markdown",
      "metadata": {
        "id": "tPLlvzeTqIsy"
      },
      "source": [
        "There are five fundamental functions in dplyr: `filter`, `arrange`, `select`, `mutate` and `summarise`. All of them have the following properties:\n",
        "1. The first argument is a data frame.\n",
        "2. The subsequent arguments indicate what to do with the data frame, using the variable names (without quotes).\n",
        "3. The result is a new data frame."
      ]
    },
    {
      "cell_type": "markdown",
      "metadata": {
        "id": "GHKy0nRLqIsy"
      },
      "source": [
        "## 4.1 Filter\n",
        "Used if you want to view or store a new dataset containing a subset of the full dataset."
      ]
    },
    {
      "cell_type": "code",
      "execution_count": null,
      "metadata": {
        "id": "5qiV0J0OqIsy"
      },
      "outputs": [],
      "source": [
        "filter(dm, cut == 'Fair', color == 'J')"
      ]
    },
    {
      "cell_type": "markdown",
      "metadata": {
        "id": "6crQ_JUAqIsz"
      },
      "source": [
        "Usually you want to store the newly subsetted data in memory. "
      ]
    },
    {
      "cell_type": "code",
      "execution_count": null,
      "metadata": {
        "id": "omqYyY52qIsz"
      },
      "outputs": [],
      "source": [
        "worst_diamonds = filter(dm, cut == 'Fair', color == 'J')"
      ]
    },
    {
      "cell_type": "markdown",
      "metadata": {
        "id": "AjMoH2FWqIsz"
      },
      "source": [
        "Make sure to use '==' instead of '='. The former is to test equality while the latter is for assignments. "
      ]
    },
    {
      "cell_type": "markdown",
      "metadata": {
        "id": "mP1V8UztqIs0"
      },
      "source": [
        "###  Exercise 6\n",
        "\n",
        "Practice filtering on multiple conditions."
      ]
    },
    {
      "cell_type": "code",
      "execution_count": null,
      "metadata": {
        "id": "vHWllANeqIs0"
      },
      "outputs": [],
      "source": [
        "# filter for rows that have color J or a fair cut\n",
        "a = filter(dm) \n",
        "\n",
        "# # filter for rows that have color J and a fair cut\n",
        "b = filter(dm)\n",
        "\n",
        "# filter for rows that don't have a fair cut\n",
        "c = filter(dm)\n",
        "\n",
        "# filter for rows that have either color J or a fair cut (and not both!)\n",
        "d = filter(dm)  # look for XOR gate\n",
        "\n",
        "# filter for rows that have a carat less than 1.0\n",
        "e = filter(dm)"
      ]
    },
    {
      "cell_type": "markdown",
      "metadata": {
        "id": "Tv_IHm8CqIs1"
      },
      "source": [
        "In R, if you want to find if a variable's value is missing, use the is.na() function. In particular, do not check for equality with NA:"
      ]
    },
    {
      "cell_type": "code",
      "execution_count": null,
      "metadata": {
        "id": "6EBZiFMiqIs3"
      },
      "outputs": [],
      "source": [
        "x = 4\n",
        "x == NA\n",
        "is.na(x)"
      ]
    },
    {
      "cell_type": "markdown",
      "metadata": {
        "id": "dMlwGU3_qIs4"
      },
      "source": [
        "Similarly, never put an equality condition with NA in your dplyr filter() statements"
      ]
    },
    {
      "cell_type": "code",
      "execution_count": null,
      "metadata": {
        "id": "9UnUy1C-qIs4"
      },
      "outputs": [],
      "source": [
        "# create a dataframe\n",
        "df = tibble(x = c(1, NA, 3))\n",
        "print(df)"
      ]
    },
    {
      "cell_type": "code",
      "execution_count": null,
      "metadata": {
        "id": "o7nDQT85qIs5"
      },
      "outputs": [],
      "source": [
        "filter(df, x>1)"
      ]
    },
    {
      "cell_type": "code",
      "execution_count": null,
      "metadata": {
        "id": "M0PMtZBTqIs5"
      },
      "outputs": [],
      "source": [
        "filter(df, is.na(x) | x > 1)"
      ]
    },
    {
      "cell_type": "markdown",
      "metadata": {
        "id": "EHbmNb64qIs5"
      },
      "source": [
        "### Self Study\n",
        "1. Write code using filter that will allow you to output diamonds with colors D or E and cuts Good or Very Good\n",
        "2. Write code using filter that wil allow you to output diamonds with even-numbered prices"
      ]
    },
    {
      "cell_type": "markdown",
      "metadata": {
        "id": "UbAhvrsxqIs5"
      },
      "source": [
        "## 4.2 Arrange\n",
        "Useful for ordering rows!"
      ]
    },
    {
      "cell_type": "code",
      "execution_count": null,
      "metadata": {
        "id": "Lhll8mvgqIs6"
      },
      "outputs": [],
      "source": [
        "arrange(dm, clarity, color)[1:20,] \n",
        "# this sorts first by clarity, and then by color"
      ]
    },
    {
      "cell_type": "markdown",
      "metadata": {
        "id": "DN5GWoqRqIs6"
      },
      "source": [
        "Missing values are always sorted at the end:"
      ]
    },
    {
      "cell_type": "code",
      "execution_count": null,
      "metadata": {
        "id": "DVQt34xkqIs6"
      },
      "outputs": [],
      "source": [
        "df = tibble(x = c(5, NA, 2))\n",
        "arrange(df, x)"
      ]
    },
    {
      "cell_type": "code",
      "execution_count": null,
      "metadata": {
        "id": "_eOGNgeNqIs6"
      },
      "outputs": [],
      "source": [
        "arrange(df, desc(x))"
      ]
    },
    {
      "cell_type": "markdown",
      "metadata": {
        "id": "BjcL3cR2qIs7"
      },
      "source": [
        "### Exercise 7\n",
        "Use arrange to sort the dm dataset by describing order of the product of the x, y, and z variables. Output the first 20 rows of the new dataset."
      ]
    },
    {
      "cell_type": "markdown",
      "source": [
        "Next week, we'll look at `select`, `mutate`, and `summarise`!"
      ],
      "metadata": {
        "id": "lDrnB8TNgmAQ"
      }
    },
    {
      "cell_type": "code",
      "source": [
        ""
      ],
      "metadata": {
        "id": "OJ2aRuSlgtbf"
      },
      "execution_count": null,
      "outputs": []
    }
  ],
  "metadata": {
    "kernelspec": {
      "display_name": "R",
      "language": "R",
      "name": "ir"
    },
    "language_info": {
      "codemirror_mode": "r",
      "file_extension": ".r",
      "mimetype": "text/x-r-source",
      "name": "R",
      "pygments_lexer": "r",
      "version": "3.6.1"
    },
    "colab": {
      "name": "003_lab2.ipynb",
      "provenance": [],
      "collapsed_sections": [
        "-3KUtB68qIsj",
        "w7jwGlQ2qIsr",
        "vuD_asgqqIsv",
        "GHKy0nRLqIsy",
        "mP1V8UztqIs0",
        "EHbmNb64qIs5",
        "UbAhvrsxqIs5",
        "BjcL3cR2qIs7",
        "49ImPjotqIs9",
        "Mvqsy0JqqIs-"
      ],
      "toc_visible": true,
      "include_colab_link": true
    }
  },
  "nbformat": 4,
  "nbformat_minor": 0
}