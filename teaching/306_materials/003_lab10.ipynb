{
  "nbformat": 4,
  "nbformat_minor": 0,
  "metadata": {
    "kernelspec": {
      "display_name": "R",
      "language": "R",
      "name": "ir"
    },
    "language_info": {
      "codemirror_mode": "r",
      "file_extension": ".r",
      "mimetype": "text/x-r-source",
      "name": "R",
      "pygments_lexer": "r",
      "version": "3.6.1"
    },
    "colab": {
      "name": "003_lab10.ipynb",
      "provenance": [],
      "collapsed_sections": [],
      "include_colab_link": true
    }
  },
  "cells": [
    {
      "cell_type": "markdown",
      "metadata": {
        "id": "view-in-github",
        "colab_type": "text"
      },
      "source": [
        "<a href=\"https://colab.research.google.com/github/chathasphere/chathasphere.github.io/blob/main/teaching/306_materials/003_lab10.ipynb\" target=\"_parent\"><img src=\"https://colab.research.google.com/assets/colab-badge.svg\" alt=\"Open In Colab\"/></a>"
      ]
    },
    {
      "cell_type": "markdown",
      "metadata": {
        "id": "N6qet7MQcfCt"
      },
      "source": [
        "# Lab 10: Lists, Loops, Functions, Mapping\n",
        "## April 5th, 2022"
      ]
    },
    {
      "cell_type": "code",
      "metadata": {
        "id": "ydYGcQICcfCx"
      },
      "source": [
        "library(tidyverse)"
      ],
      "execution_count": null,
      "outputs": []
    },
    {
      "cell_type": "markdown",
      "metadata": {
        "id": "kg-bXvYPcfCz"
      },
      "source": [
        "# 1. Lists and Vectors (again)\n",
        "\n",
        "Whereas atomic vectors are sequences of a fixed type (e.g. character, integer), lists are \"recursive\" data structures. They can hold values of different types, even other lists. \n"
      ]
    },
    {
      "cell_type": "code",
      "source": [
        "z <- list(values=sin(1:3), ids=letters[1:3], sub=list(foo=42,bar=13))\n",
        "z"
      ],
      "metadata": {
        "id": "mzJxkjVy1gh3"
      },
      "execution_count": null,
      "outputs": []
    },
    {
      "cell_type": "code",
      "source": [
        "y <- vector(mode = \"list\", length = 3) #somewhat unintuitively, you can initialize an empty list using the \"vector\" function\n",
        "y[[1]] <- 4\n",
        "y[2] <- 5\n",
        "y$sublist <- list(night=F, day=T)\n",
        "y"
      ],
      "metadata": {
        "id": "NO51vnDM1oWZ"
      },
      "execution_count": null,
      "outputs": []
    },
    {
      "cell_type": "markdown",
      "metadata": {
        "id": "gb6izh8ccfCz"
      },
      "source": [
        "### 1.1 How does `[[.]]` differ from `[.]` when you are subsetting a list?"
      ]
    },
    {
      "cell_type": "code",
      "metadata": {
        "id": "RVkO6IPrcfC0"
      },
      "source": [
        "x = list(1,2,3)"
      ],
      "execution_count": null,
      "outputs": []
    },
    {
      "cell_type": "code",
      "metadata": {
        "id": "ju_5iFLscfC1"
      },
      "source": [
        "x[1] # A slice from the list, still a list\n",
        "class(x[1]) "
      ],
      "execution_count": null,
      "outputs": []
    },
    {
      "cell_type": "code",
      "metadata": {
        "id": "CvwqJV8zcfC3"
      },
      "source": [
        "x[[1]] # Accessing first element of the list\n",
        "class(x[[1]])"
      ],
      "execution_count": null,
      "outputs": []
    },
    {
      "cell_type": "markdown",
      "metadata": {
        "id": "JXGEwPE7cfC5"
      },
      "source": [
        "### 1.2 How do you extract the last value of an atomic vector?\n"
      ]
    },
    {
      "cell_type": "code",
      "metadata": {
        "id": "z4VpxCI9cfC6"
      },
      "source": [
        "x  <- c(-3,-2,-1)\n",
        "x[length(x)]"
      ],
      "execution_count": null,
      "outputs": []
    },
    {
      "cell_type": "markdown",
      "metadata": {
        "id": "hnQSQot3cfC7"
      },
      "source": [
        "### 1.3. How do you extract every value but the last value of an atomic vector?"
      ]
    },
    {
      "cell_type": "code",
      "metadata": {
        "id": "LFlURBAMcfC8"
      },
      "source": [
        "x[-length(x)] # different syntax from Python"
      ],
      "execution_count": null,
      "outputs": []
    },
    {
      "cell_type": "markdown",
      "metadata": {
        "id": "vu41qw2vcfC9"
      },
      "source": [
        "### 1.4. Why is `x[-which(x > 0)]` not the same as `x[x <= 0]` where `x` is an atomic vector?"
      ]
    },
    {
      "cell_type": "code",
      "metadata": {
        "id": "GA16oQ6icfC9"
      },
      "source": [
        "print(x[-which(x > 0)])\n",
        "print(x[x<=0])"
      ],
      "execution_count": null,
      "outputs": []
    },
    {
      "cell_type": "code",
      "metadata": {
        "id": "BNniw3WKcfC_"
      },
      "source": [
        "which(x > 0) # returns empty "
      ],
      "execution_count": null,
      "outputs": []
    },
    {
      "cell_type": "code",
      "metadata": {
        "id": "tH0AAKflcfDB"
      },
      "source": [
        "x<=0"
      ],
      "execution_count": null,
      "outputs": []
    },
    {
      "cell_type": "markdown",
      "metadata": {
        "id": "jr7jWqxIcfDC"
      },
      "source": [
        "It would work if `which` condition is not empty!"
      ]
    },
    {
      "cell_type": "code",
      "metadata": {
        "id": "F8a5M_CfcfDC"
      },
      "source": [
        "x  <- c(-3,-2,-1, 1) # recreate the vector\n",
        "print(x[-which(x > 0)])\n",
        "print(x[x<=0])"
      ],
      "execution_count": null,
      "outputs": []
    },
    {
      "cell_type": "markdown",
      "metadata": {
        "id": "hOldyLyccfDE"
      },
      "source": [
        "# 2. While Loops: \n",
        "\n",
        "The first basic form of *iteration.* While some logical condition is satisfied, keep performing an operation. (ProTip: make sure the condition is eventually false, or else the loop will run indefinitely.) "
      ]
    },
    {
      "cell_type": "code",
      "source": [
        "i <- 10 # typically: define an index/counter variable\n",
        "while(i > 0) { \n",
        "  print(i**2) # body of while loop\n",
        "  i <- i - 1\n",
        "}"
      ],
      "metadata": {
        "id": "0MeW1ACe5ZCs"
      },
      "execution_count": null,
      "outputs": []
    },
    {
      "cell_type": "markdown",
      "source": [
        "### 2.1 Generate random numbers from Normal(0, 1) and stop when you have more positive values than negatives. Write a function that implements the following algorithm and returns the number of iterations taken.\n",
        "\n",
        "Algorithm:\n",
        "1. set pc = 0 (positive counter) and nc = 0\n",
        "1. Generate Y~Normal(0,1)\n",
        "1. If Y>0 then pc = pc+1 otherwise nc = nc+1\n",
        "1. Repeat 2-3 until pc>nc\n",
        "\n",
        "Recall that `rnorm(1, 0, n)` generates `n` numbers from a standard Normal distribution."
      ],
      "metadata": {
        "id": "iI-lPSAg33Lq"
      }
    },
    {
      "cell_type": "code",
      "metadata": {
        "id": "wtIydqaGcfDF"
      },
      "source": [
        "f <- function(){\n",
        "    \n",
        "    \n",
        "}"
      ],
      "execution_count": null,
      "outputs": []
    },
    {
      "cell_type": "code",
      "metadata": {
        "id": "9_0WF__0cfDF"
      },
      "source": [
        "f()"
      ],
      "execution_count": null,
      "outputs": []
    },
    {
      "cell_type": "markdown",
      "metadata": {
        "id": "VxChNllscfDG"
      },
      "source": [
        "### 2.2 Call this function 100 times"
      ]
    },
    {
      "cell_type": "code",
      "metadata": {
        "id": "88Kr6hcYcfDH"
      },
      "source": [
        "# result <- map_dbl(1:100, ~f())\n",
        "# result"
      ],
      "execution_count": null,
      "outputs": []
    },
    {
      "cell_type": "markdown",
      "metadata": {
        "id": "1913Ur-5cfDI"
      },
      "source": [
        "# 3. For Loops\n",
        "\n",
        "The other basic form of iteration. \n",
        "\n"
      ]
    },
    {
      "cell_type": "code",
      "source": [
        "\n",
        "for(j in seq(1, 21, 4)) { # specify a vector for j to take values from\n",
        "  print(j/(j**0.5))\n",
        "}"
      ],
      "metadata": {
        "id": "HCVpcwu6522g"
      },
      "execution_count": null,
      "outputs": []
    },
    {
      "cell_type": "markdown",
      "metadata": {
        "id": "aK7zewNDcfDJ"
      },
      "source": [
        "### 3.1 Compute the mean of every column in mtcars with `na.rm = True`"
      ]
    },
    {
      "cell_type": "code",
      "metadata": {
        "id": "p6ieFKcCgvzS"
      },
      "source": [
        "# hint: how do we relate the columns of mtcars to a vector?\n",
        "seq_along(mtcars)\n",
        "1:ncol(mtcars)\n",
        "# hint 2: define an empty vector of an appropriate type"
      ],
      "execution_count": null,
      "outputs": []
    },
    {
      "cell_type": "markdown",
      "metadata": {
        "id": "06eIqz-YcfDL"
      },
      "source": [
        "### 3.2 Determine the type of each column of iris\n"
      ]
    },
    {
      "cell_type": "code",
      "metadata": {
        "id": "4jlMOV-CcfDM"
      },
      "source": [
        ""
      ],
      "execution_count": null,
      "outputs": []
    },
    {
      "cell_type": "markdown",
      "metadata": {
        "id": "MQvcy2z2cfDM"
      },
      "source": [
        "### 3.3 Compute the number of unique values in each column of iris."
      ]
    },
    {
      "cell_type": "code",
      "metadata": {
        "id": "RBxPLMd4cfDN"
      },
      "source": [
        ""
      ],
      "execution_count": null,
      "outputs": []
    },
    {
      "cell_type": "markdown",
      "metadata": {
        "id": "DcZ1xshucfDO"
      },
      "source": [
        "# 4. Reviewing Map Functions\n",
        "\n",
        "As we can see, map functions are more elegant than explicit loops."
      ]
    },
    {
      "cell_type": "code",
      "metadata": {
        "id": "Zbw1dsV9cfDP"
      },
      "source": [
        "map_dbl(mtcars, mean, na.rm = T)\n",
        "\n",
        "map_chr(iris, typeof)\n",
        "\n",
        "map_int(iris, ~ length(unique(.)))"
      ],
      "execution_count": null,
      "outputs": []
    },
    {
      "cell_type": "markdown",
      "metadata": {
        "id": "Rrp2weT7cfDP"
      },
      "source": [
        "# 5. Recursive Functions"
      ]
    },
    {
      "cell_type": "markdown",
      "metadata": {
        "id": "EDnH1dkccfDR"
      },
      "source": [
        "Recall the definition of a factorial number.\n",
        "\n",
        "$n! = n(n-1)(n-2)\\dots1$\n",
        "\n",
        "We can simplify this by relating $n!$ to only $(n - 1)!$:\n",
        "\n",
        "Recursive step: `factorial(n) = n*factorial(n-1)`\\\n",
        "Base case: `factorial(0) = 1`"
      ]
    },
    {
      "cell_type": "code",
      "metadata": {
        "id": "BqxuLaJRcfDS"
      },
      "source": [
        "factorial = function(n){\n",
        "    if(n == 0){\n",
        "        return(1)\n",
        "    }else{\n",
        "        return(n*factorial(n-1))\n",
        "    }\n",
        "}"
      ],
      "execution_count": null,
      "outputs": []
    },
    {
      "cell_type": "code",
      "metadata": {
        "id": "jwNSoNXbcfDT"
      },
      "source": [
        "factorial(20)"
      ],
      "execution_count": null,
      "outputs": []
    },
    {
      "cell_type": "markdown",
      "source": [
        "### 5.1 Write a recursive function that computes the $n$th Fibonacci number, where\n",
        "\n",
        "$F_n = F_{n-1} + F_{n - 2}$ and $F_0, F_1 = 1.$\n",
        "\n",
        "You can speed up this computation by caching previous answers."
      ],
      "metadata": {
        "id": "RyvmZRb691WN"
      }
    },
    {
      "cell_type": "markdown",
      "metadata": {
        "id": "wzL6GRZ0cfDT"
      },
      "source": [
        "### 5.2 Suppose Joe wants to climb $n$ steps on a stairway. Joe can climb either one step or two steps at a time. Write a function to find out how many ways there are for Joe to climb $n$ steps. \n",
        "\n",
        "For example, if $n=3,$ then Joe has 3 ways: (1,1,1), (1,2), and (2,1)."
      ]
    },
    {
      "cell_type": "markdown",
      "metadata": {
        "id": "W_ZCqWKCcfDU"
      },
      "source": [
        "How do we break this down recursively?\n",
        "\n",
        "Suppose the staircase is 10 steps long. After Joe moves once, there could be 8 or 9 steps left. What is the recurrence relationship? What is the base case?"
      ]
    },
    {
      "cell_type": "code",
      "metadata": {
        "id": "rZtSgFErcfDV"
      },
      "source": [
        "num_ways <- function(n) {\n",
        "\n",
        "}"
      ],
      "execution_count": null,
      "outputs": []
    },
    {
      "cell_type": "code",
      "metadata": {
        "id": "2TyDikktkMVl"
      },
      "source": [
        "# say n = 4\n",
        "# n != 1 \n",
        "# n != 2\n",
        "# return nways(3) + nways(2)\n",
        "  # return (nways(2) + nways(1)) + 2\n",
        "    # return (2 + 1) + 2 = 5\n",
        "# nways(4)"
      ],
      "execution_count": null,
      "outputs": []
    }
  ]
}