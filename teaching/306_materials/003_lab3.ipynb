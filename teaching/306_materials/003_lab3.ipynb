{
  "nbformat": 4,
  "nbformat_minor": 0,
  "metadata": {
    "colab": {
      "name": "003_lab3.ipynb",
      "provenance": [],
      "toc_visible": true,
      "authorship_tag": "ABX9TyOmo9uw/9dM6jJ+VnKHMKUx",
      "include_colab_link": true
    },
    "kernelspec": {
      "name": "ir",
      "display_name": "R"
    },
    "language_info": {
      "name": "R"
    }
  },
  "cells": [
    {
      "cell_type": "markdown",
      "metadata": {
        "id": "view-in-github",
        "colab_type": "text"
      },
      "source": [
        "<a href=\"https://colab.research.google.com/github/chathasphere/chathasphere.github.io/blob/main/teaching/306_materials/003_lab3.ipynb\" target=\"_parent\"><img src=\"https://colab.research.google.com/assets/colab-badge.svg\" alt=\"Open In Colab\"/></a>"
      ]
    },
    {
      "cell_type": "markdown",
      "source": [
        "# Lab 3: Data Wrangling in dplyr\n",
        "\n",
        "## January 24th, 2022"
      ],
      "metadata": {
        "id": "QSn7_E461K2h"
      }
    },
    {
      "cell_type": "code",
      "source": [
        "library(tidyverse)\n",
        "\n",
        "install.packages(\"gapminder\") # this is how you import a non-default package \n",
        "library(gapminder) # this package contains the data set we'll be using"
      ],
      "metadata": {
        "id": "1wnwvvws1MRb"
      },
      "execution_count": null,
      "outputs": []
    },
    {
      "cell_type": "markdown",
      "source": [
        "# 1. Review \n",
        "### `filter`, `arrange` and piping syntax\n",
        "\n",
        "Recall that `dplyr` has five fundamental functions for manipulating and cleaning (\"wrangling\") data: `filter`, `arrange`, `select`, `mutate` and `summarise`."
      ],
      "metadata": {
        "id": "pThCHosg1zZ2"
      }
    },
    {
      "cell_type": "markdown",
      "source": [
        "## 1.1 Piping"
      ],
      "metadata": {
        "id": "WIUsIzHH3AL8"
      }
    },
    {
      "cell_type": "markdown",
      "source": [
        "Recall that the pipe operator `%>%` allows you to apply one or more functions to a tibble. Sample syntax:\n",
        "\n",
        "`myTibble %>% someFunction(secondArg, thirdArg, ...)`\n",
        "\n",
        "is equivalent to \n",
        "\n",
        "`someFunction(myTibble, secondArg, thirdArg, ...)`."
      ],
      "metadata": {
        "id": "KnJDX-e12EB5"
      }
    },
    {
      "cell_type": "code",
      "source": [
        "gapminder %>% head(10) # get the first 10 rows of the gapminder data set"
      ],
      "metadata": {
        "id": "EdlpbFEm1yQt"
      },
      "execution_count": null,
      "outputs": []
    },
    {
      "cell_type": "markdown",
      "source": [
        "## 1.2 Filter\n",
        "\n",
        "Obtain **rows** that satisfy some logical condition"
      ],
      "metadata": {
        "id": "6UTs4jEs288m"
      }
    },
    {
      "cell_type": "code",
      "source": [
        "# what if I want data from the year 1982?\n",
        "gapminder %>% filter(year == 1982) %>% head"
      ],
      "metadata": {
        "id": "sUbf46FC1w0D"
      },
      "execution_count": null,
      "outputs": []
    },
    {
      "cell_type": "markdown",
      "source": [
        "Exercise 1: Return all rows corresponding to Asian countries with a life expectancy of at least 75 years in the year 2007."
      ],
      "metadata": {
        "id": "0H0-zv02CEwx"
      }
    },
    {
      "cell_type": "code",
      "source": [
        "# your code here"
      ],
      "metadata": {
        "id": "wqroI9QjCJYI"
      },
      "execution_count": null,
      "outputs": []
    },
    {
      "cell_type": "markdown",
      "source": [
        "## 1.3 Arrange\n",
        "\n",
        "Sort a tibble's rows (ascending order by default) based on one or more columns"
      ],
      "metadata": {
        "id": "-z1RGm-GCnOB"
      }
    },
    {
      "cell_type": "code",
      "source": [
        "# get the rows with the largest gdp per capita\n",
        "gapminder %>% arrange(desc(gdpPercap)) %>% head\n",
        "# note that it's all the same country (Kuwait) over different eyars"
      ],
      "metadata": {
        "id": "BbOLBVsUDbAM"
      },
      "execution_count": null,
      "outputs": []
    },
    {
      "cell_type": "code",
      "source": [
        "# you can also arrange based on a function of a column(s)\n",
        "gapminder %>% arrange(desc(lifeExp / gdpPercap)) %>% head"
      ],
      "metadata": {
        "id": "EOqNhjOFKdbp"
      },
      "execution_count": null,
      "outputs": []
    },
    {
      "cell_type": "markdown",
      "source": [
        "Exercise 2: For each year, starting from the most recent year (2007) going backwards, sort the data alphabetically by country name. \n",
        "\n",
        "*Hint: the first two rows should be \"Afghanistan/2007\" and \"Albania/2007\" *"
      ],
      "metadata": {
        "id": "g3RVmsZiEOsO"
      }
    },
    {
      "cell_type": "code",
      "source": [
        "# your code here"
      ],
      "metadata": {
        "id": "PYTefHpBEwrR"
      },
      "execution_count": null,
      "outputs": []
    },
    {
      "cell_type": "markdown",
      "source": [
        "## 1.4 Chaining Dplyr Operations\n",
        "\n",
        "Each of the five `dplyr` functions take a tibble as their first argument and return a tibble.\n",
        "\n",
        "Therefore, we can chain together multiple `dplyr` operations. Think of fitting a bunch of pipe segments together--the data flows through the pipe and comes out transformed."
      ],
      "metadata": {
        "id": "HdDx-mXDFIrg"
      }
    },
    {
      "cell_type": "code",
      "source": [
        "# sort countries by population (large to small) based on 1952 pop\n",
        "# then get the top 10\n",
        "gapminder %>% filter(year == 1952) %>% arrange(desc(pop)) %>% head(10)\n",
        "\n",
        "# USSR would have been number 3\n",
        "# Germany was two countries (DDR/BRD)\n",
        "# Bangladesh was part of Pakistan\n",
        "# clearly, tracking countries over several decades is a little confusing..."
      ],
      "metadata": {
        "id": "DhogJYeaGHec"
      },
      "execution_count": null,
      "outputs": []
    },
    {
      "cell_type": "markdown",
      "source": [
        "Exercise 3: For the year 2007, return the 10 African countries with the highest life expectancy (sorted high to low)"
      ],
      "metadata": {
        "id": "nyaR-op1Ha4W"
      }
    },
    {
      "cell_type": "code",
      "source": [
        "# your code here"
      ],
      "metadata": {
        "id": "g_JuLzoCHU2j"
      },
      "execution_count": null,
      "outputs": []
    },
    {
      "cell_type": "markdown",
      "source": [
        "Exercise 4: For each available year from 1952-2007, sort countries in the Americas by gdp per capita from lowest to highest"
      ],
      "metadata": {
        "id": "hOtjW0rAIK8W"
      }
    },
    {
      "cell_type": "code",
      "source": [
        "# your code here"
      ],
      "metadata": {
        "id": "f4mY7nUjI2IN"
      },
      "execution_count": null,
      "outputs": []
    },
    {
      "cell_type": "markdown",
      "source": [
        "# 2. Select\n",
        "\n",
        "Return one or more columns of a tibble. (In comparison, `filter` returns rows that match some criterion.)"
      ],
      "metadata": {
        "id": "5hD-KTrU27e_"
      }
    },
    {
      "cell_type": "code",
      "source": [
        "# simplest use case\n",
        "gapminder %>% select(year) %>% head"
      ],
      "metadata": {
        "id": "9JSb-4GLI-DQ"
      },
      "execution_count": null,
      "outputs": []
    },
    {
      "cell_type": "code",
      "source": [
        "# we can use vector-like notation to select multiple columns\n",
        "gapminder %>% select(continent:pop) %>% head\n",
        "\n",
        "# or just list them separated by commas\n",
        "gapminder %>% select(country, pop) %>% head\n",
        "\n",
        "# select based on logical conditions\n",
        "# ends_with and starts_with \n",
        "# can be useful for \"wide\" data sets\n",
        "gapminder %>% select(ends_with(\"p\")) %>% head\n",
        "\n",
        "# select columns by a specific type\n",
        "# is.factor, is.integer, is.double, and is.character\n",
        "# can come in handy here!\n",
        "gapminder %>% select(where(is.factor)) %>% head"
      ],
      "metadata": {
        "id": "edllsh5xJigs"
      },
      "execution_count": null,
      "outputs": []
    },
    {
      "cell_type": "code",
      "source": [
        "# rename columns if you wish\n",
        "# syntax: new_name = old_name\n",
        "gapminder %>% select(life_expectancy = lifeExp) %>% head"
      ],
      "metadata": {
        "id": "7RVOXEw2Mv4G"
      },
      "execution_count": null,
      "outputs": []
    },
    {
      "cell_type": "markdown",
      "source": [
        "Exercise 5: Without explicitly naming any columns, select the columns that have type \"factor.\""
      ],
      "metadata": {
        "id": "M8Lcye8-RsX4"
      }
    },
    {
      "cell_type": "code",
      "source": [
        "# your code here"
      ],
      "metadata": {
        "id": "wV6tTKzQSAah"
      },
      "execution_count": null,
      "outputs": []
    },
    {
      "cell_type": "markdown",
      "source": [
        "# 3. Mutate\n",
        "\n",
        "Apply a function to a column to create a new column."
      ],
      "metadata": {
        "id": "yMN16H2GM4jY"
      }
    },
    {
      "cell_type": "code",
      "source": [
        "# I want to read population in the millions\n",
        "gapminder %>% arrange(desc(pop)) %>% mutate(pop_mil = pop / 1000000) %>% head\n",
        "\n",
        "# convert years to French Republican calendar (lol)\n",
        "gapminder %>% sample_n(7) %>% mutate(new_calendar_year = year - 1792) %>% \n",
        "  select(country, ends_with(\"year\"))"
      ],
      "metadata": {
        "id": "6bib-Bq3Jte7"
      },
      "execution_count": null,
      "outputs": []
    },
    {
      "cell_type": "code",
      "source": [
        "# you don't have to explicitly rename the column yourself\n",
        "# (though it's generally a good idea to give meaningful names)\n",
        "gapminder %>% mutate(lifeExp * 12) %>% head"
      ],
      "metadata": {
        "id": "-UBJFK1JP-AD"
      },
      "execution_count": null,
      "outputs": []
    },
    {
      "cell_type": "markdown",
      "source": [
        "Exercise 6: Create new columns corresponding to log-scaled versions of the decimal columns and return only these columns.\n",
        "\n",
        "Imaginary bonus points for compact notation."
      ],
      "metadata": {
        "id": "-h6XyeEOOzSD"
      }
    },
    {
      "cell_type": "code",
      "source": [
        "# your code here"
      ],
      "metadata": {
        "id": "8DKwr4aCPHUS"
      },
      "execution_count": null,
      "outputs": []
    },
    {
      "cell_type": "code",
      "source": [
        "# there's a flashy way of applying mutations across multiple columns\n",
        "# this takes the square root of each of the numeric columns\n",
        "gapminder %>% mutate(across(where(is.numeric), sqrt)) %>% head"
      ],
      "metadata": {
        "id": "s6cLKPGyPh-5"
      },
      "execution_count": null,
      "outputs": []
    },
    {
      "cell_type": "markdown",
      "source": [
        "# 4. Summarise\n",
        "\n",
        "Calculate a summary statistic of a tibble, returning one observation.\n",
        "\n",
        "When given grouped data (using the `group_by` function) we get one observation per group."
      ],
      "metadata": {
        "id": "qbTrnzY5SWGP"
      }
    },
    {
      "cell_type": "code",
      "source": [
        "# this is not particularly interesting, but hey\n",
        "gapminder %>% filter(continent == \"Asia\" & year == \"1977\") %>%\n",
        "  summarise(median_life_exp = median(lifeExp))"
      ],
      "metadata": {
        "id": "OrYDXjzISZwW"
      },
      "execution_count": null,
      "outputs": []
    },
    {
      "cell_type": "code",
      "source": [
        "# grouping data makes things a bit more fun!\n",
        "# calculates the median life expectancy for countries in each continent\n",
        "gapminder %>% filter(year == \"1977\") %>% group_by(continent) %>%\n",
        "  summarise(median_life_exp = median(lifeExp))\n",
        "\n",
        "# can get multiple summary statistics for each group\n",
        "gapminder %>% filter(year == \"1977\") %>% group_by(continent) %>%\n",
        "  summarise(min = min(pop), med = median(pop), max = max(pop))"
      ],
      "metadata": {
        "id": "M2-7aCL0TB_k"
      },
      "execution_count": null,
      "outputs": []
    },
    {
      "cell_type": "code",
      "source": [
        "# we can count how many countries are in each continent for a given year\n",
        "gapminder %>% filter(year == \"2002\") %>% \n",
        "  group_by(continent) %>% summarise(n_countries = n())\n",
        "\n",
        "# basically equivalent to the following:\n",
        "gapminder_2002 <- gapminder %>% filter(year == \"2002\")\n",
        "table(gapminder_2002$continent)"
      ],
      "metadata": {
        "id": "CiNfjXOmWHd8"
      },
      "execution_count": null,
      "outputs": []
    },
    {
      "cell_type": "code",
      "source": [
        "# group by multiple columns\n",
        "gapminder %>% filter(year > 1990) %>%\n",
        "  group_by(continent, year) %>% \n",
        "  summarise(med_life_exp = median(lifeExp))"
      ],
      "metadata": {
        "id": "jYoNMV6ZTWKa"
      },
      "execution_count": null,
      "outputs": []
    },
    {
      "cell_type": "code",
      "source": [
        "# example of advanced dplyr\n",
        "# (probably not going to be doing stuff life this)\n",
        "# Which countries have had the most gdp per capita gain since 1952?\n",
        "gapminder %>% group_by(country) %>%\n",
        "  arrange(year) %>%\n",
        "  mutate(gdp_gain = last(gdpPercap) - first(gdpPercap)) %>%\n",
        "  arrange(desc(gdp_gain)) %>% filter(year == 2002) %>%\n",
        "  select(country, gdp_gain) %>% head(10)"
      ],
      "metadata": {
        "id": "5HFXZq0NX-Ub"
      },
      "execution_count": null,
      "outputs": []
    },
    {
      "cell_type": "markdown",
      "source": [
        "Exercise 7: Find the interquartile range in life expectancy for each continent by year."
      ],
      "metadata": {
        "id": "yH1BpuuGVAYG"
      }
    },
    {
      "cell_type": "code",
      "source": [
        "# your code here"
      ],
      "metadata": {
        "id": "VWNIKWdSVzMc"
      },
      "execution_count": null,
      "outputs": []
    }
  ]
}