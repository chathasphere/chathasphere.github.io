{
  "nbformat": 4,
  "nbformat_minor": 0,
  "metadata": {
    "colab": {
      "name": "003_lab3.ipynb",
      "provenance": [],
      "toc_visible": true,
      "authorship_tag": "ABX9TyOmo9uw/9dM6jJ+VnKHMKUx",
      "include_colab_link": true
    },
    "kernelspec": {
      "name": "ir",
      "display_name": "R"
    },
    "language_info": {
      "name": "R"
    }
  },
  "cells": [
    {
      "cell_type": "markdown",
      "metadata": {
        "id": "view-in-github",
        "colab_type": "text"
      },
      "source": [
        "<a href=\"https://colab.research.google.com/github/chathasphere/chathasphere.github.io/blob/main/teaching/306_materials/003_lab3.ipynb\" target=\"_parent\"><img src=\"https://colab.research.google.com/assets/colab-badge.svg\" alt=\"Open In Colab\"/></a>"
      ]
    },
    {
      "cell_type": "markdown",
      "source": [
        "# Lab 3: Data Wrangling in dplyr\n",
        "\n",
        "## January 24th, 2022"
      ],
      "metadata": {
        "id": "QSn7_E461K2h"
      }
    },
    {
      "cell_type": "code",
      "source": [
        "library(tidyverse)\n",
        "\n",
        "install.packages(\"gapminder\") # this is how you import a non-default package \n",
        "library(gapminder) # this package contains the data set we'll be using"
      ],
      "metadata": {
        "colab": {
          "base_uri": "https://localhost:8080/"
        },
        "id": "1wnwvvws1MRb",
        "outputId": "84cff505-cd36-43de-8bb4-c160db57b46c"
      },
      "execution_count": 1,
      "outputs": [
        {
          "output_type": "stream",
          "name": "stderr",
          "text": [
            "Warning message in system(\"timedatectl\", intern = TRUE):\n",
            "“running command 'timedatectl' had status 1”\n",
            "── \u001b[1mAttaching packages\u001b[22m ─────────────────────────────────────── tidyverse 1.3.1 ──\n",
            "\n",
            "\u001b[32m✔\u001b[39m \u001b[34mggplot2\u001b[39m 3.3.5     \u001b[32m✔\u001b[39m \u001b[34mpurrr  \u001b[39m 0.3.4\n",
            "\u001b[32m✔\u001b[39m \u001b[34mtibble \u001b[39m 3.1.6     \u001b[32m✔\u001b[39m \u001b[34mdplyr  \u001b[39m 1.0.7\n",
            "\u001b[32m✔\u001b[39m \u001b[34mtidyr  \u001b[39m 1.1.4     \u001b[32m✔\u001b[39m \u001b[34mstringr\u001b[39m 1.4.0\n",
            "\u001b[32m✔\u001b[39m \u001b[34mreadr  \u001b[39m 2.1.1     \u001b[32m✔\u001b[39m \u001b[34mforcats\u001b[39m 0.5.1\n",
            "\n",
            "── \u001b[1mConflicts\u001b[22m ────────────────────────────────────────── tidyverse_conflicts() ──\n",
            "\u001b[31m✖\u001b[39m \u001b[34mdplyr\u001b[39m::\u001b[32mfilter()\u001b[39m masks \u001b[34mstats\u001b[39m::filter()\n",
            "\u001b[31m✖\u001b[39m \u001b[34mdplyr\u001b[39m::\u001b[32mlag()\u001b[39m    masks \u001b[34mstats\u001b[39m::lag()\n",
            "\n"
          ]
        }
      ]
    },
    {
      "cell_type": "markdown",
      "source": [
        "# 1. Review \n",
        "### `filter`, `arrange` and piping syntax\n",
        "\n",
        "Recall that `dplyr` has five fundamental functions for manipulating and cleaning (\"wrangling\") data: `filter`, `arrange`, `select`, `mutate` and `summarise`."
      ],
      "metadata": {
        "id": "pThCHosg1zZ2"
      }
    },
    {
      "cell_type": "markdown",
      "source": [
        "## 1.1 Piping"
      ],
      "metadata": {
        "id": "WIUsIzHH3AL8"
      }
    },
    {
      "cell_type": "markdown",
      "source": [
        "Recall that the pipe operator `%>%` allows you to apply one or more functions to a tibble. Sample syntax:\n",
        "\n",
        "`myTibble %>% someFunction(secondArg, thirdArg, ...)`\n",
        "\n",
        "is equivalent to \n",
        "\n",
        "`someFunction(myTibble, secondArg, thirdArg, ...)`."
      ],
      "metadata": {
        "id": "KnJDX-e12EB5"
      }
    },
    {
      "cell_type": "code",
      "source": [
        "gapminder %>% head(10) # get the first 10 rows of the gapminder data set"
      ],
      "metadata": {
        "colab": {
          "base_uri": "https://localhost:8080/",
          "height": 412
        },
        "id": "EdlpbFEm1yQt",
        "outputId": "ba8fa6a4-a5f1-452d-bbec-90aef0b8c011"
      },
      "execution_count": 7,
      "outputs": [
        {
          "output_type": "display_data",
          "data": {
            "text/plain": [
              "   country     continent year lifeExp pop      gdpPercap\n",
              "1  Afghanistan Asia      1952 28.801   8425333 779.4453 \n",
              "2  Afghanistan Asia      1957 30.332   9240934 820.8530 \n",
              "3  Afghanistan Asia      1962 31.997  10267083 853.1007 \n",
              "4  Afghanistan Asia      1967 34.020  11537966 836.1971 \n",
              "5  Afghanistan Asia      1972 36.088  13079460 739.9811 \n",
              "6  Afghanistan Asia      1977 38.438  14880372 786.1134 \n",
              "7  Afghanistan Asia      1982 39.854  12881816 978.0114 \n",
              "8  Afghanistan Asia      1987 40.822  13867957 852.3959 \n",
              "9  Afghanistan Asia      1992 41.674  16317921 649.3414 \n",
              "10 Afghanistan Asia      1997 41.763  22227415 635.3414 "
            ],
            "text/latex": "A tibble: 10 × 6\n\\begin{tabular}{llllll}\n country & continent & year & lifeExp & pop & gdpPercap\\\\\n <fct> & <fct> & <int> & <dbl> & <int> & <dbl>\\\\\n\\hline\n\t Afghanistan & Asia & 1952 & 28.801 &  8425333 & 779.4453\\\\\n\t Afghanistan & Asia & 1957 & 30.332 &  9240934 & 820.8530\\\\\n\t Afghanistan & Asia & 1962 & 31.997 & 10267083 & 853.1007\\\\\n\t Afghanistan & Asia & 1967 & 34.020 & 11537966 & 836.1971\\\\\n\t Afghanistan & Asia & 1972 & 36.088 & 13079460 & 739.9811\\\\\n\t Afghanistan & Asia & 1977 & 38.438 & 14880372 & 786.1134\\\\\n\t Afghanistan & Asia & 1982 & 39.854 & 12881816 & 978.0114\\\\\n\t Afghanistan & Asia & 1987 & 40.822 & 13867957 & 852.3959\\\\\n\t Afghanistan & Asia & 1992 & 41.674 & 16317921 & 649.3414\\\\\n\t Afghanistan & Asia & 1997 & 41.763 & 22227415 & 635.3414\\\\\n\\end{tabular}\n",
            "text/markdown": "\nA tibble: 10 × 6\n\n| country &lt;fct&gt; | continent &lt;fct&gt; | year &lt;int&gt; | lifeExp &lt;dbl&gt; | pop &lt;int&gt; | gdpPercap &lt;dbl&gt; |\n|---|---|---|---|---|---|\n| Afghanistan | Asia | 1952 | 28.801 |  8425333 | 779.4453 |\n| Afghanistan | Asia | 1957 | 30.332 |  9240934 | 820.8530 |\n| Afghanistan | Asia | 1962 | 31.997 | 10267083 | 853.1007 |\n| Afghanistan | Asia | 1967 | 34.020 | 11537966 | 836.1971 |\n| Afghanistan | Asia | 1972 | 36.088 | 13079460 | 739.9811 |\n| Afghanistan | Asia | 1977 | 38.438 | 14880372 | 786.1134 |\n| Afghanistan | Asia | 1982 | 39.854 | 12881816 | 978.0114 |\n| Afghanistan | Asia | 1987 | 40.822 | 13867957 | 852.3959 |\n| Afghanistan | Asia | 1992 | 41.674 | 16317921 | 649.3414 |\n| Afghanistan | Asia | 1997 | 41.763 | 22227415 | 635.3414 |\n\n",
            "text/html": [
              "<table class=\"dataframe\">\n",
              "<caption>A tibble: 10 × 6</caption>\n",
              "<thead>\n",
              "\t<tr><th scope=col>country</th><th scope=col>continent</th><th scope=col>year</th><th scope=col>lifeExp</th><th scope=col>pop</th><th scope=col>gdpPercap</th></tr>\n",
              "\t<tr><th scope=col>&lt;fct&gt;</th><th scope=col>&lt;fct&gt;</th><th scope=col>&lt;int&gt;</th><th scope=col>&lt;dbl&gt;</th><th scope=col>&lt;int&gt;</th><th scope=col>&lt;dbl&gt;</th></tr>\n",
              "</thead>\n",
              "<tbody>\n",
              "\t<tr><td>Afghanistan</td><td>Asia</td><td>1952</td><td>28.801</td><td> 8425333</td><td>779.4453</td></tr>\n",
              "\t<tr><td>Afghanistan</td><td>Asia</td><td>1957</td><td>30.332</td><td> 9240934</td><td>820.8530</td></tr>\n",
              "\t<tr><td>Afghanistan</td><td>Asia</td><td>1962</td><td>31.997</td><td>10267083</td><td>853.1007</td></tr>\n",
              "\t<tr><td>Afghanistan</td><td>Asia</td><td>1967</td><td>34.020</td><td>11537966</td><td>836.1971</td></tr>\n",
              "\t<tr><td>Afghanistan</td><td>Asia</td><td>1972</td><td>36.088</td><td>13079460</td><td>739.9811</td></tr>\n",
              "\t<tr><td>Afghanistan</td><td>Asia</td><td>1977</td><td>38.438</td><td>14880372</td><td>786.1134</td></tr>\n",
              "\t<tr><td>Afghanistan</td><td>Asia</td><td>1982</td><td>39.854</td><td>12881816</td><td>978.0114</td></tr>\n",
              "\t<tr><td>Afghanistan</td><td>Asia</td><td>1987</td><td>40.822</td><td>13867957</td><td>852.3959</td></tr>\n",
              "\t<tr><td>Afghanistan</td><td>Asia</td><td>1992</td><td>41.674</td><td>16317921</td><td>649.3414</td></tr>\n",
              "\t<tr><td>Afghanistan</td><td>Asia</td><td>1997</td><td>41.763</td><td>22227415</td><td>635.3414</td></tr>\n",
              "</tbody>\n",
              "</table>\n"
            ]
          },
          "metadata": {}
        }
      ]
    },
    {
      "cell_type": "markdown",
      "source": [
        "## 1.2 Filter\n",
        "\n",
        "Obtain **rows** that satisfy some logical condition"
      ],
      "metadata": {
        "id": "6UTs4jEs288m"
      }
    },
    {
      "cell_type": "code",
      "source": [
        "# what if I want data from the year 1982?\n",
        "gapminder %>% filter(year == 1982) %>% head"
      ],
      "metadata": {
        "colab": {
          "base_uri": "https://localhost:8080/",
          "height": 286
        },
        "id": "sUbf46FC1w0D",
        "outputId": "ee2c4fdd-d4a1-492a-f3bd-911e7473c126"
      },
      "execution_count": 9,
      "outputs": [
        {
          "output_type": "display_data",
          "data": {
            "text/plain": [
              "  country     continent year lifeExp pop      gdpPercap \n",
              "1 Afghanistan Asia      1982 39.854  12881816   978.0114\n",
              "2 Albania     Europe    1982 70.420   2780097  3630.8807\n",
              "3 Algeria     Africa    1982 61.368  20033753  5745.1602\n",
              "4 Angola      Africa    1982 39.942   7016384  2756.9537\n",
              "5 Argentina   Americas  1982 69.942  29341374  8997.8974\n",
              "6 Australia   Oceania   1982 74.740  15184200 19477.0093"
            ],
            "text/latex": "A tibble: 6 × 6\n\\begin{tabular}{llllll}\n country & continent & year & lifeExp & pop & gdpPercap\\\\\n <fct> & <fct> & <int> & <dbl> & <int> & <dbl>\\\\\n\\hline\n\t Afghanistan & Asia     & 1982 & 39.854 & 12881816 &   978.0114\\\\\n\t Albania     & Europe   & 1982 & 70.420 &  2780097 &  3630.8807\\\\\n\t Algeria     & Africa   & 1982 & 61.368 & 20033753 &  5745.1602\\\\\n\t Angola      & Africa   & 1982 & 39.942 &  7016384 &  2756.9537\\\\\n\t Argentina   & Americas & 1982 & 69.942 & 29341374 &  8997.8974\\\\\n\t Australia   & Oceania  & 1982 & 74.740 & 15184200 & 19477.0093\\\\\n\\end{tabular}\n",
            "text/markdown": "\nA tibble: 6 × 6\n\n| country &lt;fct&gt; | continent &lt;fct&gt; | year &lt;int&gt; | lifeExp &lt;dbl&gt; | pop &lt;int&gt; | gdpPercap &lt;dbl&gt; |\n|---|---|---|---|---|---|\n| Afghanistan | Asia     | 1982 | 39.854 | 12881816 |   978.0114 |\n| Albania     | Europe   | 1982 | 70.420 |  2780097 |  3630.8807 |\n| Algeria     | Africa   | 1982 | 61.368 | 20033753 |  5745.1602 |\n| Angola      | Africa   | 1982 | 39.942 |  7016384 |  2756.9537 |\n| Argentina   | Americas | 1982 | 69.942 | 29341374 |  8997.8974 |\n| Australia   | Oceania  | 1982 | 74.740 | 15184200 | 19477.0093 |\n\n",
            "text/html": [
              "<table class=\"dataframe\">\n",
              "<caption>A tibble: 6 × 6</caption>\n",
              "<thead>\n",
              "\t<tr><th scope=col>country</th><th scope=col>continent</th><th scope=col>year</th><th scope=col>lifeExp</th><th scope=col>pop</th><th scope=col>gdpPercap</th></tr>\n",
              "\t<tr><th scope=col>&lt;fct&gt;</th><th scope=col>&lt;fct&gt;</th><th scope=col>&lt;int&gt;</th><th scope=col>&lt;dbl&gt;</th><th scope=col>&lt;int&gt;</th><th scope=col>&lt;dbl&gt;</th></tr>\n",
              "</thead>\n",
              "<tbody>\n",
              "\t<tr><td>Afghanistan</td><td>Asia    </td><td>1982</td><td>39.854</td><td>12881816</td><td>  978.0114</td></tr>\n",
              "\t<tr><td>Albania    </td><td>Europe  </td><td>1982</td><td>70.420</td><td> 2780097</td><td> 3630.8807</td></tr>\n",
              "\t<tr><td>Algeria    </td><td>Africa  </td><td>1982</td><td>61.368</td><td>20033753</td><td> 5745.1602</td></tr>\n",
              "\t<tr><td>Angola     </td><td>Africa  </td><td>1982</td><td>39.942</td><td> 7016384</td><td> 2756.9537</td></tr>\n",
              "\t<tr><td>Argentina  </td><td>Americas</td><td>1982</td><td>69.942</td><td>29341374</td><td> 8997.8974</td></tr>\n",
              "\t<tr><td>Australia  </td><td>Oceania </td><td>1982</td><td>74.740</td><td>15184200</td><td>19477.0093</td></tr>\n",
              "</tbody>\n",
              "</table>\n"
            ]
          },
          "metadata": {}
        }
      ]
    },
    {
      "cell_type": "markdown",
      "source": [
        "Exercise 1: Return all rows corresponding to Asian countries with a life expectancy of at least 75 years in the year 2007."
      ],
      "metadata": {
        "id": "0H0-zv02CEwx"
      }
    },
    {
      "cell_type": "code",
      "source": [
        "# your code here"
      ],
      "metadata": {
        "id": "wqroI9QjCJYI"
      },
      "execution_count": 12,
      "outputs": []
    },
    {
      "cell_type": "markdown",
      "source": [
        "## 1.3 Arrange\n",
        "\n",
        "Sort a tibble's rows (ascending order by default) based on one or more columns"
      ],
      "metadata": {
        "id": "-z1RGm-GCnOB"
      }
    },
    {
      "cell_type": "code",
      "source": [
        "# get the rows with the largest gdp per capita\n",
        "gapminder %>% arrange(desc(gdpPercap)) %>% head\n",
        "# note that it's all the same country (Kuwait) over different eyars"
      ],
      "metadata": {
        "colab": {
          "base_uri": "https://localhost:8080/",
          "height": 286
        },
        "id": "BbOLBVsUDbAM",
        "outputId": "07be09e6-c28e-454b-bc35-ad28eb7bb21e"
      },
      "execution_count": 15,
      "outputs": [
        {
          "output_type": "display_data",
          "data": {
            "text/plain": [
              "  country continent year lifeExp pop     gdpPercap\n",
              "1 Kuwait  Asia      1957 58.033   212846 113523.13\n",
              "2 Kuwait  Asia      1972 67.712   841934 109347.87\n",
              "3 Kuwait  Asia      1952 55.565   160000 108382.35\n",
              "4 Kuwait  Asia      1962 60.470   358266  95458.11\n",
              "5 Kuwait  Asia      1967 64.624   575003  80894.88\n",
              "6 Kuwait  Asia      1977 69.343  1140357  59265.48"
            ],
            "text/latex": "A tibble: 6 × 6\n\\begin{tabular}{llllll}\n country & continent & year & lifeExp & pop & gdpPercap\\\\\n <fct> & <fct> & <int> & <dbl> & <int> & <dbl>\\\\\n\\hline\n\t Kuwait & Asia & 1957 & 58.033 &  212846 & 113523.13\\\\\n\t Kuwait & Asia & 1972 & 67.712 &  841934 & 109347.87\\\\\n\t Kuwait & Asia & 1952 & 55.565 &  160000 & 108382.35\\\\\n\t Kuwait & Asia & 1962 & 60.470 &  358266 &  95458.11\\\\\n\t Kuwait & Asia & 1967 & 64.624 &  575003 &  80894.88\\\\\n\t Kuwait & Asia & 1977 & 69.343 & 1140357 &  59265.48\\\\\n\\end{tabular}\n",
            "text/markdown": "\nA tibble: 6 × 6\n\n| country &lt;fct&gt; | continent &lt;fct&gt; | year &lt;int&gt; | lifeExp &lt;dbl&gt; | pop &lt;int&gt; | gdpPercap &lt;dbl&gt; |\n|---|---|---|---|---|---|\n| Kuwait | Asia | 1957 | 58.033 |  212846 | 113523.13 |\n| Kuwait | Asia | 1972 | 67.712 |  841934 | 109347.87 |\n| Kuwait | Asia | 1952 | 55.565 |  160000 | 108382.35 |\n| Kuwait | Asia | 1962 | 60.470 |  358266 |  95458.11 |\n| Kuwait | Asia | 1967 | 64.624 |  575003 |  80894.88 |\n| Kuwait | Asia | 1977 | 69.343 | 1140357 |  59265.48 |\n\n",
            "text/html": [
              "<table class=\"dataframe\">\n",
              "<caption>A tibble: 6 × 6</caption>\n",
              "<thead>\n",
              "\t<tr><th scope=col>country</th><th scope=col>continent</th><th scope=col>year</th><th scope=col>lifeExp</th><th scope=col>pop</th><th scope=col>gdpPercap</th></tr>\n",
              "\t<tr><th scope=col>&lt;fct&gt;</th><th scope=col>&lt;fct&gt;</th><th scope=col>&lt;int&gt;</th><th scope=col>&lt;dbl&gt;</th><th scope=col>&lt;int&gt;</th><th scope=col>&lt;dbl&gt;</th></tr>\n",
              "</thead>\n",
              "<tbody>\n",
              "\t<tr><td>Kuwait</td><td>Asia</td><td>1957</td><td>58.033</td><td> 212846</td><td>113523.13</td></tr>\n",
              "\t<tr><td>Kuwait</td><td>Asia</td><td>1972</td><td>67.712</td><td> 841934</td><td>109347.87</td></tr>\n",
              "\t<tr><td>Kuwait</td><td>Asia</td><td>1952</td><td>55.565</td><td> 160000</td><td>108382.35</td></tr>\n",
              "\t<tr><td>Kuwait</td><td>Asia</td><td>1962</td><td>60.470</td><td> 358266</td><td> 95458.11</td></tr>\n",
              "\t<tr><td>Kuwait</td><td>Asia</td><td>1967</td><td>64.624</td><td> 575003</td><td> 80894.88</td></tr>\n",
              "\t<tr><td>Kuwait</td><td>Asia</td><td>1977</td><td>69.343</td><td>1140357</td><td> 59265.48</td></tr>\n",
              "</tbody>\n",
              "</table>\n"
            ]
          },
          "metadata": {}
        }
      ]
    },
    {
      "cell_type": "code",
      "source": [
        "# you can also arrange based on a function of a column(s)\n",
        "gapminder %>% arrange(desc(lifeExp / gdpPercap)) %>% head"
      ],
      "metadata": {
        "colab": {
          "base_uri": "https://localhost:8080/",
          "height": 286
        },
        "id": "EOqNhjOFKdbp",
        "outputId": "90f31eef-00be-4757-a26c-f6144c412e81"
      },
      "execution_count": 40,
      "outputs": [
        {
          "output_type": "display_data",
          "data": {
            "text/plain": [
              "  country          continent year lifeExp pop      gdpPercap\n",
              "1 Congo, Dem. Rep. Africa    2002 44.966  55379852 241.1659 \n",
              "2 Myanmar          Asia      1992 59.320  40546538 347.0000 \n",
              "3 Congo, Dem. Rep. Africa    2007 46.462  64606759 277.5519 \n",
              "4 Myanmar          Asia      1987 58.339  38028578 385.0000 \n",
              "5 Myanmar          Asia      1977 56.059  31528087 371.0000 \n",
              "6 Myanmar          Asia      1972 53.070  28466390 357.0000 "
            ],
            "text/latex": "A tibble: 6 × 6\n\\begin{tabular}{llllll}\n country & continent & year & lifeExp & pop & gdpPercap\\\\\n <fct> & <fct> & <int> & <dbl> & <int> & <dbl>\\\\\n\\hline\n\t Congo, Dem. Rep. & Africa & 2002 & 44.966 & 55379852 & 241.1659\\\\\n\t Myanmar          & Asia   & 1992 & 59.320 & 40546538 & 347.0000\\\\\n\t Congo, Dem. Rep. & Africa & 2007 & 46.462 & 64606759 & 277.5519\\\\\n\t Myanmar          & Asia   & 1987 & 58.339 & 38028578 & 385.0000\\\\\n\t Myanmar          & Asia   & 1977 & 56.059 & 31528087 & 371.0000\\\\\n\t Myanmar          & Asia   & 1972 & 53.070 & 28466390 & 357.0000\\\\\n\\end{tabular}\n",
            "text/markdown": "\nA tibble: 6 × 6\n\n| country &lt;fct&gt; | continent &lt;fct&gt; | year &lt;int&gt; | lifeExp &lt;dbl&gt; | pop &lt;int&gt; | gdpPercap &lt;dbl&gt; |\n|---|---|---|---|---|---|\n| Congo, Dem. Rep. | Africa | 2002 | 44.966 | 55379852 | 241.1659 |\n| Myanmar          | Asia   | 1992 | 59.320 | 40546538 | 347.0000 |\n| Congo, Dem. Rep. | Africa | 2007 | 46.462 | 64606759 | 277.5519 |\n| Myanmar          | Asia   | 1987 | 58.339 | 38028578 | 385.0000 |\n| Myanmar          | Asia   | 1977 | 56.059 | 31528087 | 371.0000 |\n| Myanmar          | Asia   | 1972 | 53.070 | 28466390 | 357.0000 |\n\n",
            "text/html": [
              "<table class=\"dataframe\">\n",
              "<caption>A tibble: 6 × 6</caption>\n",
              "<thead>\n",
              "\t<tr><th scope=col>country</th><th scope=col>continent</th><th scope=col>year</th><th scope=col>lifeExp</th><th scope=col>pop</th><th scope=col>gdpPercap</th></tr>\n",
              "\t<tr><th scope=col>&lt;fct&gt;</th><th scope=col>&lt;fct&gt;</th><th scope=col>&lt;int&gt;</th><th scope=col>&lt;dbl&gt;</th><th scope=col>&lt;int&gt;</th><th scope=col>&lt;dbl&gt;</th></tr>\n",
              "</thead>\n",
              "<tbody>\n",
              "\t<tr><td>Congo, Dem. Rep.</td><td>Africa</td><td>2002</td><td>44.966</td><td>55379852</td><td>241.1659</td></tr>\n",
              "\t<tr><td>Myanmar         </td><td>Asia  </td><td>1992</td><td>59.320</td><td>40546538</td><td>347.0000</td></tr>\n",
              "\t<tr><td>Congo, Dem. Rep.</td><td>Africa</td><td>2007</td><td>46.462</td><td>64606759</td><td>277.5519</td></tr>\n",
              "\t<tr><td>Myanmar         </td><td>Asia  </td><td>1987</td><td>58.339</td><td>38028578</td><td>385.0000</td></tr>\n",
              "\t<tr><td>Myanmar         </td><td>Asia  </td><td>1977</td><td>56.059</td><td>31528087</td><td>371.0000</td></tr>\n",
              "\t<tr><td>Myanmar         </td><td>Asia  </td><td>1972</td><td>53.070</td><td>28466390</td><td>357.0000</td></tr>\n",
              "</tbody>\n",
              "</table>\n"
            ]
          },
          "metadata": {}
        }
      ]
    },
    {
      "cell_type": "markdown",
      "source": [
        "Exercise 2: For each year, starting from the most recent year (2007) going backwards, sort the data alphabetically by country name. \n",
        "\n",
        "*Hint: the first two rows should be \"Afghanistan/2007\" and \"Albania/2007\" *"
      ],
      "metadata": {
        "id": "g3RVmsZiEOsO"
      }
    },
    {
      "cell_type": "code",
      "source": [
        "# your code here"
      ],
      "metadata": {
        "id": "PYTefHpBEwrR"
      },
      "execution_count": 19,
      "outputs": []
    },
    {
      "cell_type": "markdown",
      "source": [
        "## 1.4 Chaining Dplyr Operations\n",
        "\n",
        "Each of the five `dplyr` functions take a tibble as their first argument and return a tibble.\n",
        "\n",
        "Therefore, we can chain together multiple `dplyr` operations. Think of fitting a bunch of pipe segments together--the data flows through the pipe and comes out transformed."
      ],
      "metadata": {
        "id": "HdDx-mXDFIrg"
      }
    },
    {
      "cell_type": "code",
      "source": [
        "# sort countries by population (large to small) based on 1952 pop\n",
        "# then get the top 10\n",
        "gapminder %>% filter(year == 1952) %>% arrange(desc(pop)) %>% head(10)\n",
        "\n",
        "# USSR would have been number 3\n",
        "# Germany was two countries (DDR/BRD)\n",
        "# Bangladesh was part of Pakistan\n",
        "# clearly, tracking countries over several decades is a little confusing..."
      ],
      "metadata": {
        "colab": {
          "base_uri": "https://localhost:8080/",
          "height": 412
        },
        "id": "DhogJYeaGHec",
        "outputId": "6e509143-e056-4798-cf9b-837d26b1962e"
      },
      "execution_count": 23,
      "outputs": [
        {
          "output_type": "display_data",
          "data": {
            "text/plain": [
              "   country        continent year lifeExp pop       gdpPercap \n",
              "1  China          Asia      1952 44.000  556263527   400.4486\n",
              "2  India          Asia      1952 37.373  372000000   546.5657\n",
              "3  United States  Americas  1952 68.440  157553000 13990.4821\n",
              "4  Japan          Asia      1952 63.030   86459025  3216.9563\n",
              "5  Indonesia      Asia      1952 37.468   82052000   749.6817\n",
              "6  Germany        Europe    1952 67.500   69145952  7144.1144\n",
              "7  Brazil         Americas  1952 50.917   56602560  2108.9444\n",
              "8  United Kingdom Europe    1952 69.180   50430000  9979.5085\n",
              "9  Italy          Europe    1952 65.940   47666000  4931.4042\n",
              "10 Bangladesh     Asia      1952 37.484   46886859   684.2442"
            ],
            "text/latex": "A tibble: 10 × 6\n\\begin{tabular}{llllll}\n country & continent & year & lifeExp & pop & gdpPercap\\\\\n <fct> & <fct> & <int> & <dbl> & <int> & <dbl>\\\\\n\\hline\n\t China          & Asia     & 1952 & 44.000 & 556263527 &   400.4486\\\\\n\t India          & Asia     & 1952 & 37.373 & 372000000 &   546.5657\\\\\n\t United States  & Americas & 1952 & 68.440 & 157553000 & 13990.4821\\\\\n\t Japan          & Asia     & 1952 & 63.030 &  86459025 &  3216.9563\\\\\n\t Indonesia      & Asia     & 1952 & 37.468 &  82052000 &   749.6817\\\\\n\t Germany        & Europe   & 1952 & 67.500 &  69145952 &  7144.1144\\\\\n\t Brazil         & Americas & 1952 & 50.917 &  56602560 &  2108.9444\\\\\n\t United Kingdom & Europe   & 1952 & 69.180 &  50430000 &  9979.5085\\\\\n\t Italy          & Europe   & 1952 & 65.940 &  47666000 &  4931.4042\\\\\n\t Bangladesh     & Asia     & 1952 & 37.484 &  46886859 &   684.2442\\\\\n\\end{tabular}\n",
            "text/markdown": "\nA tibble: 10 × 6\n\n| country &lt;fct&gt; | continent &lt;fct&gt; | year &lt;int&gt; | lifeExp &lt;dbl&gt; | pop &lt;int&gt; | gdpPercap &lt;dbl&gt; |\n|---|---|---|---|---|---|\n| China          | Asia     | 1952 | 44.000 | 556263527 |   400.4486 |\n| India          | Asia     | 1952 | 37.373 | 372000000 |   546.5657 |\n| United States  | Americas | 1952 | 68.440 | 157553000 | 13990.4821 |\n| Japan          | Asia     | 1952 | 63.030 |  86459025 |  3216.9563 |\n| Indonesia      | Asia     | 1952 | 37.468 |  82052000 |   749.6817 |\n| Germany        | Europe   | 1952 | 67.500 |  69145952 |  7144.1144 |\n| Brazil         | Americas | 1952 | 50.917 |  56602560 |  2108.9444 |\n| United Kingdom | Europe   | 1952 | 69.180 |  50430000 |  9979.5085 |\n| Italy          | Europe   | 1952 | 65.940 |  47666000 |  4931.4042 |\n| Bangladesh     | Asia     | 1952 | 37.484 |  46886859 |   684.2442 |\n\n",
            "text/html": [
              "<table class=\"dataframe\">\n",
              "<caption>A tibble: 10 × 6</caption>\n",
              "<thead>\n",
              "\t<tr><th scope=col>country</th><th scope=col>continent</th><th scope=col>year</th><th scope=col>lifeExp</th><th scope=col>pop</th><th scope=col>gdpPercap</th></tr>\n",
              "\t<tr><th scope=col>&lt;fct&gt;</th><th scope=col>&lt;fct&gt;</th><th scope=col>&lt;int&gt;</th><th scope=col>&lt;dbl&gt;</th><th scope=col>&lt;int&gt;</th><th scope=col>&lt;dbl&gt;</th></tr>\n",
              "</thead>\n",
              "<tbody>\n",
              "\t<tr><td>China         </td><td>Asia    </td><td>1952</td><td>44.000</td><td>556263527</td><td>  400.4486</td></tr>\n",
              "\t<tr><td>India         </td><td>Asia    </td><td>1952</td><td>37.373</td><td>372000000</td><td>  546.5657</td></tr>\n",
              "\t<tr><td>United States </td><td>Americas</td><td>1952</td><td>68.440</td><td>157553000</td><td>13990.4821</td></tr>\n",
              "\t<tr><td>Japan         </td><td>Asia    </td><td>1952</td><td>63.030</td><td> 86459025</td><td> 3216.9563</td></tr>\n",
              "\t<tr><td>Indonesia     </td><td>Asia    </td><td>1952</td><td>37.468</td><td> 82052000</td><td>  749.6817</td></tr>\n",
              "\t<tr><td>Germany       </td><td>Europe  </td><td>1952</td><td>67.500</td><td> 69145952</td><td> 7144.1144</td></tr>\n",
              "\t<tr><td>Brazil        </td><td>Americas</td><td>1952</td><td>50.917</td><td> 56602560</td><td> 2108.9444</td></tr>\n",
              "\t<tr><td>United Kingdom</td><td>Europe  </td><td>1952</td><td>69.180</td><td> 50430000</td><td> 9979.5085</td></tr>\n",
              "\t<tr><td>Italy         </td><td>Europe  </td><td>1952</td><td>65.940</td><td> 47666000</td><td> 4931.4042</td></tr>\n",
              "\t<tr><td>Bangladesh    </td><td>Asia    </td><td>1952</td><td>37.484</td><td> 46886859</td><td>  684.2442</td></tr>\n",
              "</tbody>\n",
              "</table>\n"
            ]
          },
          "metadata": {}
        }
      ]
    },
    {
      "cell_type": "markdown",
      "source": [
        "Exercise 3: For the year 2007, return the 10 African countries with the highest life expectancy (sorted high to low)"
      ],
      "metadata": {
        "id": "nyaR-op1Ha4W"
      }
    },
    {
      "cell_type": "code",
      "source": [
        "# your code here"
      ],
      "metadata": {
        "id": "g_JuLzoCHU2j"
      },
      "execution_count": 24,
      "outputs": []
    },
    {
      "cell_type": "markdown",
      "source": [
        "Exercise 4: For each available year from 1952-2007, sort countries in the Americas by gdp per capita from lowest to highest"
      ],
      "metadata": {
        "id": "hOtjW0rAIK8W"
      }
    },
    {
      "cell_type": "code",
      "source": [
        "# your code here"
      ],
      "metadata": {
        "id": "f4mY7nUjI2IN"
      },
      "execution_count": 27,
      "outputs": []
    },
    {
      "cell_type": "markdown",
      "source": [
        "# 2. Select\n",
        "\n",
        "Return one or more columns of a tibble. (In comparison, `filter` returns rows that match some criterion.)"
      ],
      "metadata": {
        "id": "5hD-KTrU27e_"
      }
    },
    {
      "cell_type": "code",
      "source": [
        "# simplest use case\n",
        "gapminder %>% select(year) %>% head"
      ],
      "metadata": {
        "colab": {
          "base_uri": "https://localhost:8080/",
          "height": 304
        },
        "id": "9JSb-4GLI-DQ",
        "outputId": "f5e386d2-4d2e-441b-884f-1976d434c1e2"
      },
      "execution_count": 31,
      "outputs": [
        {
          "output_type": "display_data",
          "data": {
            "text/plain": [
              "  year\n",
              "1 1952\n",
              "2 1957\n",
              "3 1962\n",
              "4 1967\n",
              "5 1972\n",
              "6 1977"
            ],
            "text/latex": "A tibble: 6 × 1\n\\begin{tabular}{l}\n year\\\\\n <int>\\\\\n\\hline\n\t 1952\\\\\n\t 1957\\\\\n\t 1962\\\\\n\t 1967\\\\\n\t 1972\\\\\n\t 1977\\\\\n\\end{tabular}\n",
            "text/markdown": "\nA tibble: 6 × 1\n\n| year &lt;int&gt; |\n|---|\n| 1952 |\n| 1957 |\n| 1962 |\n| 1967 |\n| 1972 |\n| 1977 |\n\n",
            "text/html": [
              "<table class=\"dataframe\">\n",
              "<caption>A tibble: 6 × 1</caption>\n",
              "<thead>\n",
              "\t<tr><th scope=col>year</th></tr>\n",
              "\t<tr><th scope=col>&lt;int&gt;</th></tr>\n",
              "</thead>\n",
              "<tbody>\n",
              "\t<tr><td>1952</td></tr>\n",
              "\t<tr><td>1957</td></tr>\n",
              "\t<tr><td>1962</td></tr>\n",
              "\t<tr><td>1967</td></tr>\n",
              "\t<tr><td>1972</td></tr>\n",
              "\t<tr><td>1977</td></tr>\n",
              "</tbody>\n",
              "</table>\n"
            ]
          },
          "metadata": {}
        }
      ]
    },
    {
      "cell_type": "code",
      "source": [
        "# we can use vector-like notation to select multiple columns\n",
        "gapminder %>% select(continent:pop) %>% head\n",
        "\n",
        "# or just list them separated by commas\n",
        "gapminder %>% select(country, pop) %>% head\n",
        "\n",
        "# select based on logical conditions\n",
        "# ends_with and starts_with \n",
        "# can be useful for \"wide\" data sets\n",
        "gapminder %>% select(ends_with(\"p\")) %>% head\n",
        "\n",
        "# select columns by a specific type\n",
        "# is.factor, is.integer, is.double, and is.character\n",
        "# can come in handy here!\n",
        "gapminder %>% select(where(is.factor)) %>% head"
      ],
      "metadata": {
        "colab": {
          "base_uri": "https://localhost:8080/",
          "height": 1000
        },
        "id": "edllsh5xJigs",
        "outputId": "a5f7c63b-cc61-48d3-8979-17a43fa418bc"
      },
      "execution_count": 62,
      "outputs": [
        {
          "output_type": "display_data",
          "data": {
            "text/plain": [
              "  continent year lifeExp pop     \n",
              "1 Asia      1952 28.801   8425333\n",
              "2 Asia      1957 30.332   9240934\n",
              "3 Asia      1962 31.997  10267083\n",
              "4 Asia      1967 34.020  11537966\n",
              "5 Asia      1972 36.088  13079460\n",
              "6 Asia      1977 38.438  14880372"
            ],
            "text/latex": "A tibble: 6 × 4\n\\begin{tabular}{llll}\n continent & year & lifeExp & pop\\\\\n <fct> & <int> & <dbl> & <int>\\\\\n\\hline\n\t Asia & 1952 & 28.801 &  8425333\\\\\n\t Asia & 1957 & 30.332 &  9240934\\\\\n\t Asia & 1962 & 31.997 & 10267083\\\\\n\t Asia & 1967 & 34.020 & 11537966\\\\\n\t Asia & 1972 & 36.088 & 13079460\\\\\n\t Asia & 1977 & 38.438 & 14880372\\\\\n\\end{tabular}\n",
            "text/markdown": "\nA tibble: 6 × 4\n\n| continent &lt;fct&gt; | year &lt;int&gt; | lifeExp &lt;dbl&gt; | pop &lt;int&gt; |\n|---|---|---|---|\n| Asia | 1952 | 28.801 |  8425333 |\n| Asia | 1957 | 30.332 |  9240934 |\n| Asia | 1962 | 31.997 | 10267083 |\n| Asia | 1967 | 34.020 | 11537966 |\n| Asia | 1972 | 36.088 | 13079460 |\n| Asia | 1977 | 38.438 | 14880372 |\n\n",
            "text/html": [
              "<table class=\"dataframe\">\n",
              "<caption>A tibble: 6 × 4</caption>\n",
              "<thead>\n",
              "\t<tr><th scope=col>continent</th><th scope=col>year</th><th scope=col>lifeExp</th><th scope=col>pop</th></tr>\n",
              "\t<tr><th scope=col>&lt;fct&gt;</th><th scope=col>&lt;int&gt;</th><th scope=col>&lt;dbl&gt;</th><th scope=col>&lt;int&gt;</th></tr>\n",
              "</thead>\n",
              "<tbody>\n",
              "\t<tr><td>Asia</td><td>1952</td><td>28.801</td><td> 8425333</td></tr>\n",
              "\t<tr><td>Asia</td><td>1957</td><td>30.332</td><td> 9240934</td></tr>\n",
              "\t<tr><td>Asia</td><td>1962</td><td>31.997</td><td>10267083</td></tr>\n",
              "\t<tr><td>Asia</td><td>1967</td><td>34.020</td><td>11537966</td></tr>\n",
              "\t<tr><td>Asia</td><td>1972</td><td>36.088</td><td>13079460</td></tr>\n",
              "\t<tr><td>Asia</td><td>1977</td><td>38.438</td><td>14880372</td></tr>\n",
              "</tbody>\n",
              "</table>\n"
            ]
          },
          "metadata": {}
        },
        {
          "output_type": "display_data",
          "data": {
            "text/plain": [
              "  country     pop     \n",
              "1 Afghanistan  8425333\n",
              "2 Afghanistan  9240934\n",
              "3 Afghanistan 10267083\n",
              "4 Afghanistan 11537966\n",
              "5 Afghanistan 13079460\n",
              "6 Afghanistan 14880372"
            ],
            "text/latex": "A tibble: 6 × 2\n\\begin{tabular}{ll}\n country & pop\\\\\n <fct> & <int>\\\\\n\\hline\n\t Afghanistan &  8425333\\\\\n\t Afghanistan &  9240934\\\\\n\t Afghanistan & 10267083\\\\\n\t Afghanistan & 11537966\\\\\n\t Afghanistan & 13079460\\\\\n\t Afghanistan & 14880372\\\\\n\\end{tabular}\n",
            "text/markdown": "\nA tibble: 6 × 2\n\n| country &lt;fct&gt; | pop &lt;int&gt; |\n|---|---|\n| Afghanistan |  8425333 |\n| Afghanistan |  9240934 |\n| Afghanistan | 10267083 |\n| Afghanistan | 11537966 |\n| Afghanistan | 13079460 |\n| Afghanistan | 14880372 |\n\n",
            "text/html": [
              "<table class=\"dataframe\">\n",
              "<caption>A tibble: 6 × 2</caption>\n",
              "<thead>\n",
              "\t<tr><th scope=col>country</th><th scope=col>pop</th></tr>\n",
              "\t<tr><th scope=col>&lt;fct&gt;</th><th scope=col>&lt;int&gt;</th></tr>\n",
              "</thead>\n",
              "<tbody>\n",
              "\t<tr><td>Afghanistan</td><td> 8425333</td></tr>\n",
              "\t<tr><td>Afghanistan</td><td> 9240934</td></tr>\n",
              "\t<tr><td>Afghanistan</td><td>10267083</td></tr>\n",
              "\t<tr><td>Afghanistan</td><td>11537966</td></tr>\n",
              "\t<tr><td>Afghanistan</td><td>13079460</td></tr>\n",
              "\t<tr><td>Afghanistan</td><td>14880372</td></tr>\n",
              "</tbody>\n",
              "</table>\n"
            ]
          },
          "metadata": {}
        },
        {
          "output_type": "display_data",
          "data": {
            "text/plain": [
              "  lifeExp pop      gdpPercap\n",
              "1 28.801   8425333 779.4453 \n",
              "2 30.332   9240934 820.8530 \n",
              "3 31.997  10267083 853.1007 \n",
              "4 34.020  11537966 836.1971 \n",
              "5 36.088  13079460 739.9811 \n",
              "6 38.438  14880372 786.1134 "
            ],
            "text/latex": "A tibble: 6 × 3\n\\begin{tabular}{lll}\n lifeExp & pop & gdpPercap\\\\\n <dbl> & <int> & <dbl>\\\\\n\\hline\n\t 28.801 &  8425333 & 779.4453\\\\\n\t 30.332 &  9240934 & 820.8530\\\\\n\t 31.997 & 10267083 & 853.1007\\\\\n\t 34.020 & 11537966 & 836.1971\\\\\n\t 36.088 & 13079460 & 739.9811\\\\\n\t 38.438 & 14880372 & 786.1134\\\\\n\\end{tabular}\n",
            "text/markdown": "\nA tibble: 6 × 3\n\n| lifeExp &lt;dbl&gt; | pop &lt;int&gt; | gdpPercap &lt;dbl&gt; |\n|---|---|---|\n| 28.801 |  8425333 | 779.4453 |\n| 30.332 |  9240934 | 820.8530 |\n| 31.997 | 10267083 | 853.1007 |\n| 34.020 | 11537966 | 836.1971 |\n| 36.088 | 13079460 | 739.9811 |\n| 38.438 | 14880372 | 786.1134 |\n\n",
            "text/html": [
              "<table class=\"dataframe\">\n",
              "<caption>A tibble: 6 × 3</caption>\n",
              "<thead>\n",
              "\t<tr><th scope=col>lifeExp</th><th scope=col>pop</th><th scope=col>gdpPercap</th></tr>\n",
              "\t<tr><th scope=col>&lt;dbl&gt;</th><th scope=col>&lt;int&gt;</th><th scope=col>&lt;dbl&gt;</th></tr>\n",
              "</thead>\n",
              "<tbody>\n",
              "\t<tr><td>28.801</td><td> 8425333</td><td>779.4453</td></tr>\n",
              "\t<tr><td>30.332</td><td> 9240934</td><td>820.8530</td></tr>\n",
              "\t<tr><td>31.997</td><td>10267083</td><td>853.1007</td></tr>\n",
              "\t<tr><td>34.020</td><td>11537966</td><td>836.1971</td></tr>\n",
              "\t<tr><td>36.088</td><td>13079460</td><td>739.9811</td></tr>\n",
              "\t<tr><td>38.438</td><td>14880372</td><td>786.1134</td></tr>\n",
              "</tbody>\n",
              "</table>\n"
            ]
          },
          "metadata": {}
        },
        {
          "output_type": "display_data",
          "data": {
            "text/plain": [
              "  year lifeExp pop      gdpPercap\n",
              "1 1952 28.801   8425333 779.4453 \n",
              "2 1957 30.332   9240934 820.8530 \n",
              "3 1962 31.997  10267083 853.1007 \n",
              "4 1967 34.020  11537966 836.1971 \n",
              "5 1972 36.088  13079460 739.9811 \n",
              "6 1977 38.438  14880372 786.1134 "
            ],
            "text/latex": "A tibble: 6 × 4\n\\begin{tabular}{llll}\n year & lifeExp & pop & gdpPercap\\\\\n <int> & <dbl> & <int> & <dbl>\\\\\n\\hline\n\t 1952 & 28.801 &  8425333 & 779.4453\\\\\n\t 1957 & 30.332 &  9240934 & 820.8530\\\\\n\t 1962 & 31.997 & 10267083 & 853.1007\\\\\n\t 1967 & 34.020 & 11537966 & 836.1971\\\\\n\t 1972 & 36.088 & 13079460 & 739.9811\\\\\n\t 1977 & 38.438 & 14880372 & 786.1134\\\\\n\\end{tabular}\n",
            "text/markdown": "\nA tibble: 6 × 4\n\n| year &lt;int&gt; | lifeExp &lt;dbl&gt; | pop &lt;int&gt; | gdpPercap &lt;dbl&gt; |\n|---|---|---|---|\n| 1952 | 28.801 |  8425333 | 779.4453 |\n| 1957 | 30.332 |  9240934 | 820.8530 |\n| 1962 | 31.997 | 10267083 | 853.1007 |\n| 1967 | 34.020 | 11537966 | 836.1971 |\n| 1972 | 36.088 | 13079460 | 739.9811 |\n| 1977 | 38.438 | 14880372 | 786.1134 |\n\n",
            "text/html": [
              "<table class=\"dataframe\">\n",
              "<caption>A tibble: 6 × 4</caption>\n",
              "<thead>\n",
              "\t<tr><th scope=col>year</th><th scope=col>lifeExp</th><th scope=col>pop</th><th scope=col>gdpPercap</th></tr>\n",
              "\t<tr><th scope=col>&lt;int&gt;</th><th scope=col>&lt;dbl&gt;</th><th scope=col>&lt;int&gt;</th><th scope=col>&lt;dbl&gt;</th></tr>\n",
              "</thead>\n",
              "<tbody>\n",
              "\t<tr><td>1952</td><td>28.801</td><td> 8425333</td><td>779.4453</td></tr>\n",
              "\t<tr><td>1957</td><td>30.332</td><td> 9240934</td><td>820.8530</td></tr>\n",
              "\t<tr><td>1962</td><td>31.997</td><td>10267083</td><td>853.1007</td></tr>\n",
              "\t<tr><td>1967</td><td>34.020</td><td>11537966</td><td>836.1971</td></tr>\n",
              "\t<tr><td>1972</td><td>36.088</td><td>13079460</td><td>739.9811</td></tr>\n",
              "\t<tr><td>1977</td><td>38.438</td><td>14880372</td><td>786.1134</td></tr>\n",
              "</tbody>\n",
              "</table>\n"
            ]
          },
          "metadata": {}
        }
      ]
    },
    {
      "cell_type": "code",
      "source": [
        "# rename columns if you wish\n",
        "# syntax: new_name = old_name\n",
        "gapminder %>% select(life_expectancy = lifeExp) %>% head"
      ],
      "metadata": {
        "colab": {
          "base_uri": "https://localhost:8080/",
          "height": 286
        },
        "id": "7RVOXEw2Mv4G",
        "outputId": "68b25dd7-2c3f-41c0-8732-e9fe157bd84a"
      },
      "execution_count": 43,
      "outputs": [
        {
          "output_type": "display_data",
          "data": {
            "text/plain": [
              "  life_expectancy\n",
              "1 28.801         \n",
              "2 30.332         \n",
              "3 31.997         \n",
              "4 34.020         \n",
              "5 36.088         \n",
              "6 38.438         "
            ],
            "text/latex": "A tibble: 6 × 1\n\\begin{tabular}{l}\n life\\_expectancy\\\\\n <dbl>\\\\\n\\hline\n\t 28.801\\\\\n\t 30.332\\\\\n\t 31.997\\\\\n\t 34.020\\\\\n\t 36.088\\\\\n\t 38.438\\\\\n\\end{tabular}\n",
            "text/markdown": "\nA tibble: 6 × 1\n\n| life_expectancy &lt;dbl&gt; |\n|---|\n| 28.801 |\n| 30.332 |\n| 31.997 |\n| 34.020 |\n| 36.088 |\n| 38.438 |\n\n",
            "text/html": [
              "<table class=\"dataframe\">\n",
              "<caption>A tibble: 6 × 1</caption>\n",
              "<thead>\n",
              "\t<tr><th scope=col>life_expectancy</th></tr>\n",
              "\t<tr><th scope=col>&lt;dbl&gt;</th></tr>\n",
              "</thead>\n",
              "<tbody>\n",
              "\t<tr><td>28.801</td></tr>\n",
              "\t<tr><td>30.332</td></tr>\n",
              "\t<tr><td>31.997</td></tr>\n",
              "\t<tr><td>34.020</td></tr>\n",
              "\t<tr><td>36.088</td></tr>\n",
              "\t<tr><td>38.438</td></tr>\n",
              "</tbody>\n",
              "</table>\n"
            ]
          },
          "metadata": {}
        }
      ]
    },
    {
      "cell_type": "markdown",
      "source": [
        "Exercise 5: Without explicitly naming any columns, select the columns that have type \"factor.\""
      ],
      "metadata": {
        "id": "M8Lcye8-RsX4"
      }
    },
    {
      "cell_type": "code",
      "source": [
        "# your code here"
      ],
      "metadata": {
        "id": "wV6tTKzQSAah"
      },
      "execution_count": 67,
      "outputs": []
    },
    {
      "cell_type": "markdown",
      "source": [
        "# 3. Mutate\n",
        "\n",
        "Apply a function to a column to create a new column."
      ],
      "metadata": {
        "id": "yMN16H2GM4jY"
      }
    },
    {
      "cell_type": "code",
      "source": [
        "# I want to read population in the millions\n",
        "gapminder %>% arrange(desc(pop)) %>% mutate(pop_mil = pop / 1000000) %>% head\n",
        "\n",
        "# convert years to French Republican calendar (lol)\n",
        "gapminder %>% sample_n(7) %>% mutate(new_calendar_year = year - 1792) %>% \n",
        "  select(country, ends_with(\"year\"))"
      ],
      "metadata": {
        "colab": {
          "base_uri": "https://localhost:8080/",
          "height": 587
        },
        "id": "6bib-Bq3Jte7",
        "outputId": "3e936421-1d90-4b81-c2d4-1a99e32ca62b"
      },
      "execution_count": 51,
      "outputs": [
        {
          "output_type": "display_data",
          "data": {
            "text/plain": [
              "  country continent year lifeExp pop        gdpPercap pop_mil \n",
              "1 China   Asia      2007 72.961  1318683096 4959.115  1318.683\n",
              "2 China   Asia      2002 72.028  1280400000 3119.281  1280.400\n",
              "3 China   Asia      1997 70.426  1230075000 2289.234  1230.075\n",
              "4 China   Asia      1992 68.690  1164970000 1655.784  1164.970\n",
              "5 India   Asia      2007 64.698  1110396331 2452.210  1110.396\n",
              "6 China   Asia      1987 67.274  1084035000 1378.904  1084.035"
            ],
            "text/latex": "A tibble: 6 × 7\n\\begin{tabular}{lllllll}\n country & continent & year & lifeExp & pop & gdpPercap & pop\\_mil\\\\\n <fct> & <fct> & <int> & <dbl> & <int> & <dbl> & <dbl>\\\\\n\\hline\n\t China & Asia & 2007 & 72.961 & 1318683096 & 4959.115 & 1318.683\\\\\n\t China & Asia & 2002 & 72.028 & 1280400000 & 3119.281 & 1280.400\\\\\n\t China & Asia & 1997 & 70.426 & 1230075000 & 2289.234 & 1230.075\\\\\n\t China & Asia & 1992 & 68.690 & 1164970000 & 1655.784 & 1164.970\\\\\n\t India & Asia & 2007 & 64.698 & 1110396331 & 2452.210 & 1110.396\\\\\n\t China & Asia & 1987 & 67.274 & 1084035000 & 1378.904 & 1084.035\\\\\n\\end{tabular}\n",
            "text/markdown": "\nA tibble: 6 × 7\n\n| country &lt;fct&gt; | continent &lt;fct&gt; | year &lt;int&gt; | lifeExp &lt;dbl&gt; | pop &lt;int&gt; | gdpPercap &lt;dbl&gt; | pop_mil &lt;dbl&gt; |\n|---|---|---|---|---|---|---|\n| China | Asia | 2007 | 72.961 | 1318683096 | 4959.115 | 1318.683 |\n| China | Asia | 2002 | 72.028 | 1280400000 | 3119.281 | 1280.400 |\n| China | Asia | 1997 | 70.426 | 1230075000 | 2289.234 | 1230.075 |\n| China | Asia | 1992 | 68.690 | 1164970000 | 1655.784 | 1164.970 |\n| India | Asia | 2007 | 64.698 | 1110396331 | 2452.210 | 1110.396 |\n| China | Asia | 1987 | 67.274 | 1084035000 | 1378.904 | 1084.035 |\n\n",
            "text/html": [
              "<table class=\"dataframe\">\n",
              "<caption>A tibble: 6 × 7</caption>\n",
              "<thead>\n",
              "\t<tr><th scope=col>country</th><th scope=col>continent</th><th scope=col>year</th><th scope=col>lifeExp</th><th scope=col>pop</th><th scope=col>gdpPercap</th><th scope=col>pop_mil</th></tr>\n",
              "\t<tr><th scope=col>&lt;fct&gt;</th><th scope=col>&lt;fct&gt;</th><th scope=col>&lt;int&gt;</th><th scope=col>&lt;dbl&gt;</th><th scope=col>&lt;int&gt;</th><th scope=col>&lt;dbl&gt;</th><th scope=col>&lt;dbl&gt;</th></tr>\n",
              "</thead>\n",
              "<tbody>\n",
              "\t<tr><td>China</td><td>Asia</td><td>2007</td><td>72.961</td><td>1318683096</td><td>4959.115</td><td>1318.683</td></tr>\n",
              "\t<tr><td>China</td><td>Asia</td><td>2002</td><td>72.028</td><td>1280400000</td><td>3119.281</td><td>1280.400</td></tr>\n",
              "\t<tr><td>China</td><td>Asia</td><td>1997</td><td>70.426</td><td>1230075000</td><td>2289.234</td><td>1230.075</td></tr>\n",
              "\t<tr><td>China</td><td>Asia</td><td>1992</td><td>68.690</td><td>1164970000</td><td>1655.784</td><td>1164.970</td></tr>\n",
              "\t<tr><td>India</td><td>Asia</td><td>2007</td><td>64.698</td><td>1110396331</td><td>2452.210</td><td>1110.396</td></tr>\n",
              "\t<tr><td>China</td><td>Asia</td><td>1987</td><td>67.274</td><td>1084035000</td><td>1378.904</td><td>1084.035</td></tr>\n",
              "</tbody>\n",
              "</table>\n"
            ]
          },
          "metadata": {}
        },
        {
          "output_type": "display_data",
          "data": {
            "text/plain": [
              "  country        year new_calendar_year\n",
              "1 Ireland        1977 185              \n",
              "2 Burkina Faso   1992 200              \n",
              "3 Djibouti       1977 185              \n",
              "4 India          1962 170              \n",
              "5 Cameroon       1957 165              \n",
              "6 Thailand       2007 215              \n",
              "7 United Kingdom 1967 175              "
            ],
            "text/latex": "A tibble: 7 × 3\n\\begin{tabular}{lll}\n country & year & new\\_calendar\\_year\\\\\n <fct> & <int> & <dbl>\\\\\n\\hline\n\t Ireland        & 1977 & 185\\\\\n\t Burkina Faso   & 1992 & 200\\\\\n\t Djibouti       & 1977 & 185\\\\\n\t India          & 1962 & 170\\\\\n\t Cameroon       & 1957 & 165\\\\\n\t Thailand       & 2007 & 215\\\\\n\t United Kingdom & 1967 & 175\\\\\n\\end{tabular}\n",
            "text/markdown": "\nA tibble: 7 × 3\n\n| country &lt;fct&gt; | year &lt;int&gt; | new_calendar_year &lt;dbl&gt; |\n|---|---|---|\n| Ireland        | 1977 | 185 |\n| Burkina Faso   | 1992 | 200 |\n| Djibouti       | 1977 | 185 |\n| India          | 1962 | 170 |\n| Cameroon       | 1957 | 165 |\n| Thailand       | 2007 | 215 |\n| United Kingdom | 1967 | 175 |\n\n",
            "text/html": [
              "<table class=\"dataframe\">\n",
              "<caption>A tibble: 7 × 3</caption>\n",
              "<thead>\n",
              "\t<tr><th scope=col>country</th><th scope=col>year</th><th scope=col>new_calendar_year</th></tr>\n",
              "\t<tr><th scope=col>&lt;fct&gt;</th><th scope=col>&lt;int&gt;</th><th scope=col>&lt;dbl&gt;</th></tr>\n",
              "</thead>\n",
              "<tbody>\n",
              "\t<tr><td>Ireland       </td><td>1977</td><td>185</td></tr>\n",
              "\t<tr><td>Burkina Faso  </td><td>1992</td><td>200</td></tr>\n",
              "\t<tr><td>Djibouti      </td><td>1977</td><td>185</td></tr>\n",
              "\t<tr><td>India         </td><td>1962</td><td>170</td></tr>\n",
              "\t<tr><td>Cameroon      </td><td>1957</td><td>165</td></tr>\n",
              "\t<tr><td>Thailand      </td><td>2007</td><td>215</td></tr>\n",
              "\t<tr><td>United Kingdom</td><td>1967</td><td>175</td></tr>\n",
              "</tbody>\n",
              "</table>\n"
            ]
          },
          "metadata": {}
        }
      ]
    },
    {
      "cell_type": "code",
      "source": [
        "# you don't have to explicitly rename the column yourself\n",
        "# (though it's generally a good idea to give meaningful names)\n",
        "gapminder %>% mutate(lifeExp * 12) %>% head"
      ],
      "metadata": {
        "colab": {
          "base_uri": "https://localhost:8080/",
          "height": 286
        },
        "id": "-UBJFK1JP-AD",
        "outputId": "f391abad-0241-40da-895f-d8bf20c8fe45"
      },
      "execution_count": 58,
      "outputs": [
        {
          "output_type": "display_data",
          "data": {
            "text/plain": [
              "  country     continent year lifeExp pop      gdpPercap lifeExp * 12\n",
              "1 Afghanistan Asia      1952 28.801   8425333 779.4453  345.612     \n",
              "2 Afghanistan Asia      1957 30.332   9240934 820.8530  363.984     \n",
              "3 Afghanistan Asia      1962 31.997  10267083 853.1007  383.964     \n",
              "4 Afghanistan Asia      1967 34.020  11537966 836.1971  408.240     \n",
              "5 Afghanistan Asia      1972 36.088  13079460 739.9811  433.056     \n",
              "6 Afghanistan Asia      1977 38.438  14880372 786.1134  461.256     "
            ],
            "text/latex": "A tibble: 6 × 7\n\\begin{tabular}{lllllll}\n country & continent & year & lifeExp & pop & gdpPercap & lifeExp * 12\\\\\n <fct> & <fct> & <int> & <dbl> & <int> & <dbl> & <dbl>\\\\\n\\hline\n\t Afghanistan & Asia & 1952 & 28.801 &  8425333 & 779.4453 & 345.612\\\\\n\t Afghanistan & Asia & 1957 & 30.332 &  9240934 & 820.8530 & 363.984\\\\\n\t Afghanistan & Asia & 1962 & 31.997 & 10267083 & 853.1007 & 383.964\\\\\n\t Afghanistan & Asia & 1967 & 34.020 & 11537966 & 836.1971 & 408.240\\\\\n\t Afghanistan & Asia & 1972 & 36.088 & 13079460 & 739.9811 & 433.056\\\\\n\t Afghanistan & Asia & 1977 & 38.438 & 14880372 & 786.1134 & 461.256\\\\\n\\end{tabular}\n",
            "text/markdown": "\nA tibble: 6 × 7\n\n| country &lt;fct&gt; | continent &lt;fct&gt; | year &lt;int&gt; | lifeExp &lt;dbl&gt; | pop &lt;int&gt; | gdpPercap &lt;dbl&gt; | lifeExp * 12 &lt;dbl&gt; |\n|---|---|---|---|---|---|---|\n| Afghanistan | Asia | 1952 | 28.801 |  8425333 | 779.4453 | 345.612 |\n| Afghanistan | Asia | 1957 | 30.332 |  9240934 | 820.8530 | 363.984 |\n| Afghanistan | Asia | 1962 | 31.997 | 10267083 | 853.1007 | 383.964 |\n| Afghanistan | Asia | 1967 | 34.020 | 11537966 | 836.1971 | 408.240 |\n| Afghanistan | Asia | 1972 | 36.088 | 13079460 | 739.9811 | 433.056 |\n| Afghanistan | Asia | 1977 | 38.438 | 14880372 | 786.1134 | 461.256 |\n\n",
            "text/html": [
              "<table class=\"dataframe\">\n",
              "<caption>A tibble: 6 × 7</caption>\n",
              "<thead>\n",
              "\t<tr><th scope=col>country</th><th scope=col>continent</th><th scope=col>year</th><th scope=col>lifeExp</th><th scope=col>pop</th><th scope=col>gdpPercap</th><th scope=col>lifeExp * 12</th></tr>\n",
              "\t<tr><th scope=col>&lt;fct&gt;</th><th scope=col>&lt;fct&gt;</th><th scope=col>&lt;int&gt;</th><th scope=col>&lt;dbl&gt;</th><th scope=col>&lt;int&gt;</th><th scope=col>&lt;dbl&gt;</th><th scope=col>&lt;dbl&gt;</th></tr>\n",
              "</thead>\n",
              "<tbody>\n",
              "\t<tr><td>Afghanistan</td><td>Asia</td><td>1952</td><td>28.801</td><td> 8425333</td><td>779.4453</td><td>345.612</td></tr>\n",
              "\t<tr><td>Afghanistan</td><td>Asia</td><td>1957</td><td>30.332</td><td> 9240934</td><td>820.8530</td><td>363.984</td></tr>\n",
              "\t<tr><td>Afghanistan</td><td>Asia</td><td>1962</td><td>31.997</td><td>10267083</td><td>853.1007</td><td>383.964</td></tr>\n",
              "\t<tr><td>Afghanistan</td><td>Asia</td><td>1967</td><td>34.020</td><td>11537966</td><td>836.1971</td><td>408.240</td></tr>\n",
              "\t<tr><td>Afghanistan</td><td>Asia</td><td>1972</td><td>36.088</td><td>13079460</td><td>739.9811</td><td>433.056</td></tr>\n",
              "\t<tr><td>Afghanistan</td><td>Asia</td><td>1977</td><td>38.438</td><td>14880372</td><td>786.1134</td><td>461.256</td></tr>\n",
              "</tbody>\n",
              "</table>\n"
            ]
          },
          "metadata": {}
        }
      ]
    },
    {
      "cell_type": "markdown",
      "source": [
        "Exercise 6: Create new columns corresponding to log-scaled versions of the decimal columns and return only these columns.\n",
        "\n",
        "Imaginary bonus points for compact notation."
      ],
      "metadata": {
        "id": "-h6XyeEOOzSD"
      }
    },
    {
      "cell_type": "code",
      "source": [
        "# your code here"
      ],
      "metadata": {
        "id": "8DKwr4aCPHUS"
      },
      "execution_count": 54,
      "outputs": []
    },
    {
      "cell_type": "code",
      "source": [
        "# there's a flashy way of applying mutations across multiple columns\n",
        "# this takes the square root of each of the numeric columns\n",
        "gapminder %>% mutate(across(where(is.numeric), sqrt)) %>% head"
      ],
      "metadata": {
        "colab": {
          "base_uri": "https://localhost:8080/",
          "height": 286
        },
        "id": "s6cLKPGyPh-5",
        "outputId": "fa0267df-dc83-41f4-e6eb-2d23d97a4c4c"
      },
      "execution_count": 60,
      "outputs": [
        {
          "output_type": "display_data",
          "data": {
            "text/plain": [
              "  country     continent year     lifeExp  pop      gdpPercap\n",
              "1 Afghanistan Asia      44.18144 5.366656 2902.642 27.91855 \n",
              "2 Afghanistan Asia      44.23799 5.507450 3039.890 28.65053 \n",
              "3 Afghanistan Asia      44.29447 5.656589 3204.229 29.20789 \n",
              "4 Afghanistan Asia      44.35087 5.832667 3396.758 28.91707 \n",
              "5 Afghanistan Asia      44.40721 6.007329 3616.554 27.20259 \n",
              "6 Afghanistan Asia      44.46347 6.199839 3857.509 28.03771 "
            ],
            "text/latex": "A tibble: 6 × 6\n\\begin{tabular}{llllll}\n country & continent & year & lifeExp & pop & gdpPercap\\\\\n <fct> & <fct> & <dbl> & <dbl> & <dbl> & <dbl>\\\\\n\\hline\n\t Afghanistan & Asia & 44.18144 & 5.366656 & 2902.642 & 27.91855\\\\\n\t Afghanistan & Asia & 44.23799 & 5.507450 & 3039.890 & 28.65053\\\\\n\t Afghanistan & Asia & 44.29447 & 5.656589 & 3204.229 & 29.20789\\\\\n\t Afghanistan & Asia & 44.35087 & 5.832667 & 3396.758 & 28.91707\\\\\n\t Afghanistan & Asia & 44.40721 & 6.007329 & 3616.554 & 27.20259\\\\\n\t Afghanistan & Asia & 44.46347 & 6.199839 & 3857.509 & 28.03771\\\\\n\\end{tabular}\n",
            "text/markdown": "\nA tibble: 6 × 6\n\n| country &lt;fct&gt; | continent &lt;fct&gt; | year &lt;dbl&gt; | lifeExp &lt;dbl&gt; | pop &lt;dbl&gt; | gdpPercap &lt;dbl&gt; |\n|---|---|---|---|---|---|\n| Afghanistan | Asia | 44.18144 | 5.366656 | 2902.642 | 27.91855 |\n| Afghanistan | Asia | 44.23799 | 5.507450 | 3039.890 | 28.65053 |\n| Afghanistan | Asia | 44.29447 | 5.656589 | 3204.229 | 29.20789 |\n| Afghanistan | Asia | 44.35087 | 5.832667 | 3396.758 | 28.91707 |\n| Afghanistan | Asia | 44.40721 | 6.007329 | 3616.554 | 27.20259 |\n| Afghanistan | Asia | 44.46347 | 6.199839 | 3857.509 | 28.03771 |\n\n",
            "text/html": [
              "<table class=\"dataframe\">\n",
              "<caption>A tibble: 6 × 6</caption>\n",
              "<thead>\n",
              "\t<tr><th scope=col>country</th><th scope=col>continent</th><th scope=col>year</th><th scope=col>lifeExp</th><th scope=col>pop</th><th scope=col>gdpPercap</th></tr>\n",
              "\t<tr><th scope=col>&lt;fct&gt;</th><th scope=col>&lt;fct&gt;</th><th scope=col>&lt;dbl&gt;</th><th scope=col>&lt;dbl&gt;</th><th scope=col>&lt;dbl&gt;</th><th scope=col>&lt;dbl&gt;</th></tr>\n",
              "</thead>\n",
              "<tbody>\n",
              "\t<tr><td>Afghanistan</td><td>Asia</td><td>44.18144</td><td>5.366656</td><td>2902.642</td><td>27.91855</td></tr>\n",
              "\t<tr><td>Afghanistan</td><td>Asia</td><td>44.23799</td><td>5.507450</td><td>3039.890</td><td>28.65053</td></tr>\n",
              "\t<tr><td>Afghanistan</td><td>Asia</td><td>44.29447</td><td>5.656589</td><td>3204.229</td><td>29.20789</td></tr>\n",
              "\t<tr><td>Afghanistan</td><td>Asia</td><td>44.35087</td><td>5.832667</td><td>3396.758</td><td>28.91707</td></tr>\n",
              "\t<tr><td>Afghanistan</td><td>Asia</td><td>44.40721</td><td>6.007329</td><td>3616.554</td><td>27.20259</td></tr>\n",
              "\t<tr><td>Afghanistan</td><td>Asia</td><td>44.46347</td><td>6.199839</td><td>3857.509</td><td>28.03771</td></tr>\n",
              "</tbody>\n",
              "</table>\n"
            ]
          },
          "metadata": {}
        }
      ]
    },
    {
      "cell_type": "markdown",
      "source": [
        "# 4. Summarise\n",
        "\n",
        "Calculate a summary statistic of a tibble, returning one observation.\n",
        "\n",
        "When given grouped data (using the `group_by` function) we get one observation per group."
      ],
      "metadata": {
        "id": "qbTrnzY5SWGP"
      }
    },
    {
      "cell_type": "code",
      "source": [
        "# this is not particularly interesting, but hey\n",
        "gapminder %>% filter(continent == \"Asia\" & year == \"1977\") %>%\n",
        "  summarise(median_life_exp = median(lifeExp))"
      ],
      "metadata": {
        "colab": {
          "base_uri": "https://localhost:8080/",
          "height": 129
        },
        "id": "OrYDXjzISZwW",
        "outputId": "ca8ceb04-8882-4bd0-a90d-c5a3569b94b7"
      },
      "execution_count": 68,
      "outputs": [
        {
          "output_type": "display_data",
          "data": {
            "text/plain": [
              "  median_life_exp\n",
              "1 60.765         "
            ],
            "text/latex": "A tibble: 1 × 1\n\\begin{tabular}{l}\n median\\_life\\_exp\\\\\n <dbl>\\\\\n\\hline\n\t 60.765\\\\\n\\end{tabular}\n",
            "text/markdown": "\nA tibble: 1 × 1\n\n| median_life_exp &lt;dbl&gt; |\n|---|\n| 60.765 |\n\n",
            "text/html": [
              "<table class=\"dataframe\">\n",
              "<caption>A tibble: 1 × 1</caption>\n",
              "<thead>\n",
              "\t<tr><th scope=col>median_life_exp</th></tr>\n",
              "\t<tr><th scope=col>&lt;dbl&gt;</th></tr>\n",
              "</thead>\n",
              "<tbody>\n",
              "\t<tr><td>60.765</td></tr>\n",
              "</tbody>\n",
              "</table>\n"
            ]
          },
          "metadata": {}
        }
      ]
    },
    {
      "cell_type": "code",
      "source": [
        "# grouping data makes things a bit more fun!\n",
        "# calculates the median life expectancy for countries in each continent\n",
        "gapminder %>% filter(year == \"1977\") %>% group_by(continent) %>%\n",
        "  summarise(median_life_exp = median(lifeExp))\n",
        "\n",
        "# can get multiple summary statistics for each group\n",
        "gapminder %>% filter(year == \"1977\") %>% group_by(continent) %>%\n",
        "  summarise(min = min(pop), med = median(pop), max = max(pop))"
      ],
      "metadata": {
        "colab": {
          "base_uri": "https://localhost:8080/",
          "height": 493
        },
        "id": "M2-7aCL0TB_k",
        "outputId": "987b2e73-e380-43a4-8b8f-e7e3dedd6323"
      },
      "execution_count": 71,
      "outputs": [
        {
          "output_type": "display_data",
          "data": {
            "text/plain": [
              "  continent median_life_exp\n",
              "1 Africa    49.2725        \n",
              "2 Americas  66.3530        \n",
              "3 Asia      60.7650        \n",
              "4 Europe    72.3350        \n",
              "5 Oceania   72.8550        "
            ],
            "text/latex": "A tibble: 5 × 2\n\\begin{tabular}{ll}\n continent & median\\_life\\_exp\\\\\n <fct> & <dbl>\\\\\n\\hline\n\t Africa   & 49.2725\\\\\n\t Americas & 66.3530\\\\\n\t Asia     & 60.7650\\\\\n\t Europe   & 72.3350\\\\\n\t Oceania  & 72.8550\\\\\n\\end{tabular}\n",
            "text/markdown": "\nA tibble: 5 × 2\n\n| continent &lt;fct&gt; | median_life_exp &lt;dbl&gt; |\n|---|---|\n| Africa   | 49.2725 |\n| Americas | 66.3530 |\n| Asia     | 60.7650 |\n| Europe   | 72.3350 |\n| Oceania  | 72.8550 |\n\n",
            "text/html": [
              "<table class=\"dataframe\">\n",
              "<caption>A tibble: 5 × 2</caption>\n",
              "<thead>\n",
              "\t<tr><th scope=col>continent</th><th scope=col>median_life_exp</th></tr>\n",
              "\t<tr><th scope=col>&lt;fct&gt;</th><th scope=col>&lt;dbl&gt;</th></tr>\n",
              "</thead>\n",
              "<tbody>\n",
              "\t<tr><td>Africa  </td><td>49.2725</td></tr>\n",
              "\t<tr><td>Americas</td><td>66.3530</td></tr>\n",
              "\t<tr><td>Asia    </td><td>60.7650</td></tr>\n",
              "\t<tr><td>Europe  </td><td>72.3350</td></tr>\n",
              "\t<tr><td>Oceania </td><td>72.8550</td></tr>\n",
              "</tbody>\n",
              "</table>\n"
            ]
          },
          "metadata": {}
        },
        {
          "output_type": "display_data",
          "data": {
            "text/plain": [
              "  continent min     med      max      \n",
              "1 Africa      86796  4522666  62209173\n",
              "2 Americas  1039009  5302800 220239000\n",
              "3 Asia       297410 13933198 943455000\n",
              "4 Europe     221823  8741694  78160773\n",
              "5 Oceania   3164900  8619500  14074100"
            ],
            "text/latex": "A tibble: 5 × 4\n\\begin{tabular}{llll}\n continent & min & med & max\\\\\n <fct> & <int> & <dbl> & <int>\\\\\n\\hline\n\t Africa   &   86796 &  4522666 &  62209173\\\\\n\t Americas & 1039009 &  5302800 & 220239000\\\\\n\t Asia     &  297410 & 13933198 & 943455000\\\\\n\t Europe   &  221823 &  8741694 &  78160773\\\\\n\t Oceania  & 3164900 &  8619500 &  14074100\\\\\n\\end{tabular}\n",
            "text/markdown": "\nA tibble: 5 × 4\n\n| continent &lt;fct&gt; | min &lt;int&gt; | med &lt;dbl&gt; | max &lt;int&gt; |\n|---|---|---|---|\n| Africa   |   86796 |  4522666 |  62209173 |\n| Americas | 1039009 |  5302800 | 220239000 |\n| Asia     |  297410 | 13933198 | 943455000 |\n| Europe   |  221823 |  8741694 |  78160773 |\n| Oceania  | 3164900 |  8619500 |  14074100 |\n\n",
            "text/html": [
              "<table class=\"dataframe\">\n",
              "<caption>A tibble: 5 × 4</caption>\n",
              "<thead>\n",
              "\t<tr><th scope=col>continent</th><th scope=col>min</th><th scope=col>med</th><th scope=col>max</th></tr>\n",
              "\t<tr><th scope=col>&lt;fct&gt;</th><th scope=col>&lt;int&gt;</th><th scope=col>&lt;dbl&gt;</th><th scope=col>&lt;int&gt;</th></tr>\n",
              "</thead>\n",
              "<tbody>\n",
              "\t<tr><td>Africa  </td><td>  86796</td><td> 4522666</td><td> 62209173</td></tr>\n",
              "\t<tr><td>Americas</td><td>1039009</td><td> 5302800</td><td>220239000</td></tr>\n",
              "\t<tr><td>Asia    </td><td> 297410</td><td>13933198</td><td>943455000</td></tr>\n",
              "\t<tr><td>Europe  </td><td> 221823</td><td> 8741694</td><td> 78160773</td></tr>\n",
              "\t<tr><td>Oceania </td><td>3164900</td><td> 8619500</td><td> 14074100</td></tr>\n",
              "</tbody>\n",
              "</table>\n"
            ]
          },
          "metadata": {}
        }
      ]
    },
    {
      "cell_type": "code",
      "source": [
        "# we can count how many countries are in each continent for a given year\n",
        "gapminder %>% filter(year == \"2002\") %>% \n",
        "  group_by(continent) %>% summarise(n_countries = n())\n",
        "\n",
        "# basically equivalent to the following:\n",
        "gapminder_2002 <- gapminder %>% filter(year == \"2002\")\n",
        "table(gapminder_2002$continent)"
      ],
      "metadata": {
        "colab": {
          "base_uri": "https://localhost:8080/",
          "height": 310
        },
        "id": "CiNfjXOmWHd8",
        "outputId": "945fe286-cf76-4e46-9e23-d40cb77ae7e5"
      },
      "execution_count": 81,
      "outputs": [
        {
          "output_type": "display_data",
          "data": {
            "text/plain": [
              "  continent n_countries\n",
              "1 Africa    52         \n",
              "2 Americas  25         \n",
              "3 Asia      33         \n",
              "4 Europe    30         \n",
              "5 Oceania    2         "
            ],
            "text/latex": "A tibble: 5 × 2\n\\begin{tabular}{ll}\n continent & n\\_countries\\\\\n <fct> & <int>\\\\\n\\hline\n\t Africa   & 52\\\\\n\t Americas & 25\\\\\n\t Asia     & 33\\\\\n\t Europe   & 30\\\\\n\t Oceania  &  2\\\\\n\\end{tabular}\n",
            "text/markdown": "\nA tibble: 5 × 2\n\n| continent &lt;fct&gt; | n_countries &lt;int&gt; |\n|---|---|\n| Africa   | 52 |\n| Americas | 25 |\n| Asia     | 33 |\n| Europe   | 30 |\n| Oceania  |  2 |\n\n",
            "text/html": [
              "<table class=\"dataframe\">\n",
              "<caption>A tibble: 5 × 2</caption>\n",
              "<thead>\n",
              "\t<tr><th scope=col>continent</th><th scope=col>n_countries</th></tr>\n",
              "\t<tr><th scope=col>&lt;fct&gt;</th><th scope=col>&lt;int&gt;</th></tr>\n",
              "</thead>\n",
              "<tbody>\n",
              "\t<tr><td>Africa  </td><td>52</td></tr>\n",
              "\t<tr><td>Americas</td><td>25</td></tr>\n",
              "\t<tr><td>Asia    </td><td>33</td></tr>\n",
              "\t<tr><td>Europe  </td><td>30</td></tr>\n",
              "\t<tr><td>Oceania </td><td> 2</td></tr>\n",
              "</tbody>\n",
              "</table>\n"
            ]
          },
          "metadata": {}
        },
        {
          "output_type": "display_data",
          "data": {
            "text/plain": [
              "\n",
              "  Africa Americas     Asia   Europe  Oceania \n",
              "      52       25       33       30        2 "
            ]
          },
          "metadata": {}
        }
      ]
    },
    {
      "cell_type": "code",
      "source": [
        "# group by multiple columns\n",
        "gapminder %>% filter(year > 1990) %>%\n",
        "  group_by(continent, year) %>% \n",
        "  summarise(med_life_exp = median(lifeExp))"
      ],
      "metadata": {
        "colab": {
          "base_uri": "https://localhost:8080/",
          "height": 1000
        },
        "id": "jYoNMV6ZTWKa",
        "outputId": "1cab5f29-fb01-4ce0-b94a-628006f14393"
      },
      "execution_count": 86,
      "outputs": [
        {
          "output_type": "stream",
          "name": "stderr",
          "text": [
            "`summarise()` has grouped output by 'continent'. You can override using the `.groups` argument.\n",
            "\n"
          ]
        },
        {
          "output_type": "display_data",
          "data": {
            "text/plain": [
              "   continent year med_life_exp\n",
              "1  Africa    1992 52.4290     \n",
              "2  Africa    1997 52.7590     \n",
              "3  Africa    2002 51.2355     \n",
              "4  Africa    2007 52.9265     \n",
              "5  Americas  1992 69.8620     \n",
              "6  Americas  1997 72.1460     \n",
              "7  Americas  2002 72.0470     \n",
              "8  Americas  2007 72.8990     \n",
              "9  Asia      1992 68.6900     \n",
              "10 Asia      1997 70.2650     \n",
              "11 Asia      2002 71.0280     \n",
              "12 Asia      2007 72.3960     \n",
              "13 Europe    1992 75.4510     \n",
              "14 Europe    1997 76.1160     \n",
              "15 Europe    2002 77.5365     \n",
              "16 Europe    2007 78.6085     \n",
              "17 Oceania   1992 76.9450     \n",
              "18 Oceania   1997 78.1900     \n",
              "19 Oceania   2002 79.7400     \n",
              "20 Oceania   2007 80.7195     "
            ],
            "text/latex": "A grouped\\_df: 20 × 3\n\\begin{tabular}{lll}\n continent & year & med\\_life\\_exp\\\\\n <fct> & <int> & <dbl>\\\\\n\\hline\n\t Africa   & 1992 & 52.4290\\\\\n\t Africa   & 1997 & 52.7590\\\\\n\t Africa   & 2002 & 51.2355\\\\\n\t Africa   & 2007 & 52.9265\\\\\n\t Americas & 1992 & 69.8620\\\\\n\t Americas & 1997 & 72.1460\\\\\n\t Americas & 2002 & 72.0470\\\\\n\t Americas & 2007 & 72.8990\\\\\n\t Asia     & 1992 & 68.6900\\\\\n\t Asia     & 1997 & 70.2650\\\\\n\t Asia     & 2002 & 71.0280\\\\\n\t Asia     & 2007 & 72.3960\\\\\n\t Europe   & 1992 & 75.4510\\\\\n\t Europe   & 1997 & 76.1160\\\\\n\t Europe   & 2002 & 77.5365\\\\\n\t Europe   & 2007 & 78.6085\\\\\n\t Oceania  & 1992 & 76.9450\\\\\n\t Oceania  & 1997 & 78.1900\\\\\n\t Oceania  & 2002 & 79.7400\\\\\n\t Oceania  & 2007 & 80.7195\\\\\n\\end{tabular}\n",
            "text/markdown": "\nA grouped_df: 20 × 3\n\n| continent &lt;fct&gt; | year &lt;int&gt; | med_life_exp &lt;dbl&gt; |\n|---|---|---|\n| Africa   | 1992 | 52.4290 |\n| Africa   | 1997 | 52.7590 |\n| Africa   | 2002 | 51.2355 |\n| Africa   | 2007 | 52.9265 |\n| Americas | 1992 | 69.8620 |\n| Americas | 1997 | 72.1460 |\n| Americas | 2002 | 72.0470 |\n| Americas | 2007 | 72.8990 |\n| Asia     | 1992 | 68.6900 |\n| Asia     | 1997 | 70.2650 |\n| Asia     | 2002 | 71.0280 |\n| Asia     | 2007 | 72.3960 |\n| Europe   | 1992 | 75.4510 |\n| Europe   | 1997 | 76.1160 |\n| Europe   | 2002 | 77.5365 |\n| Europe   | 2007 | 78.6085 |\n| Oceania  | 1992 | 76.9450 |\n| Oceania  | 1997 | 78.1900 |\n| Oceania  | 2002 | 79.7400 |\n| Oceania  | 2007 | 80.7195 |\n\n",
            "text/html": [
              "<table class=\"dataframe\">\n",
              "<caption>A grouped_df: 20 × 3</caption>\n",
              "<thead>\n",
              "\t<tr><th scope=col>continent</th><th scope=col>year</th><th scope=col>med_life_exp</th></tr>\n",
              "\t<tr><th scope=col>&lt;fct&gt;</th><th scope=col>&lt;int&gt;</th><th scope=col>&lt;dbl&gt;</th></tr>\n",
              "</thead>\n",
              "<tbody>\n",
              "\t<tr><td>Africa  </td><td>1992</td><td>52.4290</td></tr>\n",
              "\t<tr><td>Africa  </td><td>1997</td><td>52.7590</td></tr>\n",
              "\t<tr><td>Africa  </td><td>2002</td><td>51.2355</td></tr>\n",
              "\t<tr><td>Africa  </td><td>2007</td><td>52.9265</td></tr>\n",
              "\t<tr><td>Americas</td><td>1992</td><td>69.8620</td></tr>\n",
              "\t<tr><td>Americas</td><td>1997</td><td>72.1460</td></tr>\n",
              "\t<tr><td>Americas</td><td>2002</td><td>72.0470</td></tr>\n",
              "\t<tr><td>Americas</td><td>2007</td><td>72.8990</td></tr>\n",
              "\t<tr><td>Asia    </td><td>1992</td><td>68.6900</td></tr>\n",
              "\t<tr><td>Asia    </td><td>1997</td><td>70.2650</td></tr>\n",
              "\t<tr><td>Asia    </td><td>2002</td><td>71.0280</td></tr>\n",
              "\t<tr><td>Asia    </td><td>2007</td><td>72.3960</td></tr>\n",
              "\t<tr><td>Europe  </td><td>1992</td><td>75.4510</td></tr>\n",
              "\t<tr><td>Europe  </td><td>1997</td><td>76.1160</td></tr>\n",
              "\t<tr><td>Europe  </td><td>2002</td><td>77.5365</td></tr>\n",
              "\t<tr><td>Europe  </td><td>2007</td><td>78.6085</td></tr>\n",
              "\t<tr><td>Oceania </td><td>1992</td><td>76.9450</td></tr>\n",
              "\t<tr><td>Oceania </td><td>1997</td><td>78.1900</td></tr>\n",
              "\t<tr><td>Oceania </td><td>2002</td><td>79.7400</td></tr>\n",
              "\t<tr><td>Oceania </td><td>2007</td><td>80.7195</td></tr>\n",
              "</tbody>\n",
              "</table>\n"
            ]
          },
          "metadata": {}
        },
        {
          "output_type": "display_data",
          "data": {
            "text/plain": [
              "  country          gdp_gain\n",
              "1 Singapore        44828.04\n",
              "2 Norway           39261.77\n",
              "3 Hong Kong, China 36670.56\n",
              "4 Ireland          35465.72\n",
              "5 Austria          29989.42\n",
              "6 United States    28961.17"
            ],
            "text/latex": "A grouped\\_df: 6 × 2\n\\begin{tabular}{ll}\n country & gdp\\_gain\\\\\n <fct> & <dbl>\\\\\n\\hline\n\t Singapore        & 44828.04\\\\\n\t Norway           & 39261.77\\\\\n\t Hong Kong, China & 36670.56\\\\\n\t Ireland          & 35465.72\\\\\n\t Austria          & 29989.42\\\\\n\t United States    & 28961.17\\\\\n\\end{tabular}\n",
            "text/markdown": "\nA grouped_df: 6 × 2\n\n| country &lt;fct&gt; | gdp_gain &lt;dbl&gt; |\n|---|---|\n| Singapore        | 44828.04 |\n| Norway           | 39261.77 |\n| Hong Kong, China | 36670.56 |\n| Ireland          | 35465.72 |\n| Austria          | 29989.42 |\n| United States    | 28961.17 |\n\n",
            "text/html": [
              "<table class=\"dataframe\">\n",
              "<caption>A grouped_df: 6 × 2</caption>\n",
              "<thead>\n",
              "\t<tr><th scope=col>country</th><th scope=col>gdp_gain</th></tr>\n",
              "\t<tr><th scope=col>&lt;fct&gt;</th><th scope=col>&lt;dbl&gt;</th></tr>\n",
              "</thead>\n",
              "<tbody>\n",
              "\t<tr><td>Singapore       </td><td>44828.04</td></tr>\n",
              "\t<tr><td>Norway          </td><td>39261.77</td></tr>\n",
              "\t<tr><td>Hong Kong, China</td><td>36670.56</td></tr>\n",
              "\t<tr><td>Ireland         </td><td>35465.72</td></tr>\n",
              "\t<tr><td>Austria         </td><td>29989.42</td></tr>\n",
              "\t<tr><td>United States   </td><td>28961.17</td></tr>\n",
              "</tbody>\n",
              "</table>\n"
            ]
          },
          "metadata": {}
        }
      ]
    },
    {
      "cell_type": "code",
      "source": [
        "# example of advanced dplyr\n",
        "# (probably not going to be doing stuff life this)\n",
        "# Which countries have had the most gdp per capita gain since 1952?\n",
        "gapminder %>% group_by(country) %>%\n",
        "  arrange(year) %>%\n",
        "  mutate(gdp_gain = last(gdpPercap) - first(gdpPercap)) %>%\n",
        "  arrange(desc(gdp_gain)) %>% filter(year == 2002) %>%\n",
        "  select(country, gdp_gain) %>% head(10)"
      ],
      "metadata": {
        "colab": {
          "base_uri": "https://localhost:8080/",
          "height": 412
        },
        "id": "5HFXZq0NX-Ub",
        "outputId": "064d1438-230e-48e0-e677-3b686cca3d29"
      },
      "execution_count": 91,
      "outputs": [
        {
          "output_type": "display_data",
          "data": {
            "text/plain": [
              "   country          gdp_gain\n",
              "1  Singapore        44828.04\n",
              "2  Norway           39261.77\n",
              "3  Hong Kong, China 36670.56\n",
              "4  Ireland          35465.72\n",
              "5  Austria          29989.42\n",
              "6  United States    28961.17\n",
              "7  Iceland          28913.10\n",
              "8  Japan            28439.11\n",
              "9  Netherlands      27856.36\n",
              "10 Taiwan           27511.33"
            ],
            "text/latex": "A grouped\\_df: 10 × 2\n\\begin{tabular}{ll}\n country & gdp\\_gain\\\\\n <fct> & <dbl>\\\\\n\\hline\n\t Singapore        & 44828.04\\\\\n\t Norway           & 39261.77\\\\\n\t Hong Kong, China & 36670.56\\\\\n\t Ireland          & 35465.72\\\\\n\t Austria          & 29989.42\\\\\n\t United States    & 28961.17\\\\\n\t Iceland          & 28913.10\\\\\n\t Japan            & 28439.11\\\\\n\t Netherlands      & 27856.36\\\\\n\t Taiwan           & 27511.33\\\\\n\\end{tabular}\n",
            "text/markdown": "\nA grouped_df: 10 × 2\n\n| country &lt;fct&gt; | gdp_gain &lt;dbl&gt; |\n|---|---|\n| Singapore        | 44828.04 |\n| Norway           | 39261.77 |\n| Hong Kong, China | 36670.56 |\n| Ireland          | 35465.72 |\n| Austria          | 29989.42 |\n| United States    | 28961.17 |\n| Iceland          | 28913.10 |\n| Japan            | 28439.11 |\n| Netherlands      | 27856.36 |\n| Taiwan           | 27511.33 |\n\n",
            "text/html": [
              "<table class=\"dataframe\">\n",
              "<caption>A grouped_df: 10 × 2</caption>\n",
              "<thead>\n",
              "\t<tr><th scope=col>country</th><th scope=col>gdp_gain</th></tr>\n",
              "\t<tr><th scope=col>&lt;fct&gt;</th><th scope=col>&lt;dbl&gt;</th></tr>\n",
              "</thead>\n",
              "<tbody>\n",
              "\t<tr><td>Singapore       </td><td>44828.04</td></tr>\n",
              "\t<tr><td>Norway          </td><td>39261.77</td></tr>\n",
              "\t<tr><td>Hong Kong, China</td><td>36670.56</td></tr>\n",
              "\t<tr><td>Ireland         </td><td>35465.72</td></tr>\n",
              "\t<tr><td>Austria         </td><td>29989.42</td></tr>\n",
              "\t<tr><td>United States   </td><td>28961.17</td></tr>\n",
              "\t<tr><td>Iceland         </td><td>28913.10</td></tr>\n",
              "\t<tr><td>Japan           </td><td>28439.11</td></tr>\n",
              "\t<tr><td>Netherlands     </td><td>27856.36</td></tr>\n",
              "\t<tr><td>Taiwan          </td><td>27511.33</td></tr>\n",
              "</tbody>\n",
              "</table>\n"
            ]
          },
          "metadata": {}
        }
      ]
    },
    {
      "cell_type": "markdown",
      "source": [
        "Exercise 7: Find the interquartile range in life expectancy for each continent by year."
      ],
      "metadata": {
        "id": "yH1BpuuGVAYG"
      }
    },
    {
      "cell_type": "code",
      "source": [
        "# your code here"
      ],
      "metadata": {
        "id": "VWNIKWdSVzMc"
      },
      "execution_count": null,
      "outputs": []
    }
  ]
}